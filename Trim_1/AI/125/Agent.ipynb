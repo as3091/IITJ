{
 "cells": [
  {
   "cell_type": "markdown",
   "metadata": {},
   "source": [
    "1. Reflex Agent\n",
    "2. Utility Agent"
   ]
  },
  {
   "cell_type": "markdown",
   "metadata": {},
   "source": [
    "# Reflex Agent"
   ]
  },
  {
   "cell_type": "code",
   "execution_count": 1,
   "metadata": {},
   "outputs": [],
   "source": [
    "import numpy as np\n",
    "import time"
   ]
  },
  {
   "cell_type": "code",
   "execution_count": 7,
   "metadata": {},
   "outputs": [],
   "source": [
    "class SimpleReflexAgent:\n",
    "    def __init__(self, environment):\n",
    "        self.location = (0,0)\n",
    "        self.environment = environment\n",
    "    \n",
    "    def perceive(self):\n",
    "        return self.environment[self.location] == \"Dirty\" #if dirty then return true\n",
    "    \n",
    "    def act(self):\n",
    "        if self.perceive():\n",
    "            print(f\"Location {self.location} is dirty. Cleaning ...\")\n",
    "            self.environment[self.location] = \"Clean\"\n",
    "        else:\n",
    "            print(f\"Location {self.location} is clean. Moving ...\")\n",
    "            self.move()\n",
    "    def move(self):\n",
    "        rows, cols = self.environment.shape\n",
    "        row, col = self.location\n",
    "        if col+1<cols:\n",
    "            self.location = (row,col+1)\n",
    "        elif rows+1<rows:\n",
    "            self.location = (row+1,0)\n",
    "        else:\n",
    "            print(\"No more moves. Cleaning complete!\")"
   ]
  },
  {
   "cell_type": "code",
   "execution_count": 13,
   "metadata": {},
   "outputs": [
    {
     "name": "stdout",
     "output_type": "stream",
     "text": [
      "Initial environment :\n",
      "[['Dirty' 'Clean' 'Dirty']\n",
      " ['Clean' 'Dirty' 'Clean']\n",
      " ['Dirty' 'Dirty' 'Clean']]\n",
      "\n",
      "\n",
      "Location (0, 0) is dirty. Cleaning ...\n",
      "Environment state :\n",
      "[['Clean' 'Clean' 'Dirty']\n",
      " ['Clean' 'Dirty' 'Clean']\n",
      " ['Dirty' 'Dirty' 'Clean']]\n",
      "\n",
      "\n",
      "Location (0, 0) is clean. Moving ...\n",
      "Environment state :\n",
      "[['Clean' 'Clean' 'Dirty']\n",
      " ['Clean' 'Dirty' 'Clean']\n",
      " ['Dirty' 'Dirty' 'Clean']]\n",
      "\n",
      "\n",
      "Location (0, 1) is clean. Moving ...\n",
      "Environment state :\n",
      "[['Clean' 'Clean' 'Dirty']\n",
      " ['Clean' 'Dirty' 'Clean']\n",
      " ['Dirty' 'Dirty' 'Clean']]\n",
      "\n",
      "\n",
      "Location (0, 2) is dirty. Cleaning ...\n",
      "Environment state :\n",
      "[['Clean' 'Clean' 'Clean']\n",
      " ['Clean' 'Dirty' 'Clean']\n",
      " ['Dirty' 'Dirty' 'Clean']]\n",
      "\n",
      "\n",
      "Location (0, 2) is clean. Moving ...\n",
      "No more moves. Cleaning complete!\n",
      "Environment state :\n",
      "[['Clean' 'Clean' 'Clean']\n",
      " ['Clean' 'Dirty' 'Clean']\n",
      " ['Dirty' 'Dirty' 'Clean']]\n",
      "\n",
      "\n",
      "Location (0, 2) is clean. Moving ...\n",
      "No more moves. Cleaning complete!\n",
      "Environment state :\n",
      "[['Clean' 'Clean' 'Clean']\n",
      " ['Clean' 'Dirty' 'Clean']\n",
      " ['Dirty' 'Dirty' 'Clean']]\n",
      "\n",
      "\n",
      "Location (0, 2) is clean. Moving ...\n",
      "No more moves. Cleaning complete!\n",
      "Environment state :\n",
      "[['Clean' 'Clean' 'Clean']\n",
      " ['Clean' 'Dirty' 'Clean']\n",
      " ['Dirty' 'Dirty' 'Clean']]\n",
      "\n",
      "\n",
      "Location (0, 2) is clean. Moving ...\n",
      "No more moves. Cleaning complete!\n",
      "Environment state :\n",
      "[['Clean' 'Clean' 'Clean']\n",
      " ['Clean' 'Dirty' 'Clean']\n",
      " ['Dirty' 'Dirty' 'Clean']]\n",
      "\n",
      "\n",
      "Location (0, 2) is clean. Moving ...\n",
      "No more moves. Cleaning complete!\n",
      "Environment state :\n",
      "[['Clean' 'Clean' 'Clean']\n",
      " ['Clean' 'Dirty' 'Clean']\n",
      " ['Dirty' 'Dirty' 'Clean']]\n",
      "\n",
      "\n"
     ]
    },
    {
     "ename": "KeyboardInterrupt",
     "evalue": "",
     "output_type": "error",
     "traceback": [
      "\u001b[0;31m---------------------------------------------------------------------------\u001b[0m",
      "\u001b[0;31mKeyboardInterrupt\u001b[0m                         Traceback (most recent call last)",
      "Cell \u001b[0;32mIn[13], line 18\u001b[0m\n\u001b[1;32m     16\u001b[0m agent\u001b[38;5;241m.\u001b[39mact()\n\u001b[1;32m     17\u001b[0m \u001b[38;5;28mprint\u001b[39m(\u001b[38;5;124mf\u001b[39m\u001b[38;5;124m\"\u001b[39m\u001b[38;5;124mEnvironment state :\u001b[39m\u001b[38;5;130;01m\\n\u001b[39;00m\u001b[38;5;132;01m{\u001b[39;00magent\u001b[38;5;241m.\u001b[39menvironment\u001b[38;5;132;01m}\u001b[39;00m\u001b[38;5;130;01m\\n\u001b[39;00m\u001b[38;5;130;01m\\n\u001b[39;00m\u001b[38;5;124m\"\u001b[39m)\n\u001b[0;32m---> 18\u001b[0m time\u001b[38;5;241m.\u001b[39msleep(\u001b[38;5;241m1\u001b[39m)\n",
      "\u001b[0;31mKeyboardInterrupt\u001b[0m: "
     ]
    }
   ],
   "source": [
    "environment = np.array(\n",
    "    [\n",
    "        [\"Dirty\",\"Clean\",\"Dirty\"],\n",
    "        [\"Clean\",\"Dirty\",\"Clean\"],\n",
    "        [\"Dirty\",\"Dirty\",\"Clean\"]\n",
    "    ]\n",
    ")\n",
    "\n",
    "agent = SimpleReflexAgent(environment=environment)\n",
    "print(f\"Initial environment :\\n{agent.environment}\\n\\n\")\n",
    "\n",
    "while True:\n",
    "    if np.all(agent.environment == \"Clean\"):\n",
    "        print(\"All locations are clean. Stopping.\")\n",
    "        break\n",
    "    agent.act()\n",
    "    print(f\"Environment state :\\n{agent.environment}\\n\\n\")\n",
    "    time.sleep(1)"
   ]
  },
  {
   "cell_type": "code",
   "execution_count": null,
   "metadata": {},
   "outputs": [],
   "source": []
  }
 ],
 "metadata": {
  "kernelspec": {
   "display_name": "Python 3",
   "language": "python",
   "name": "python3"
  },
  "language_info": {
   "codemirror_mode": {
    "name": "ipython",
    "version": 3
   },
   "file_extension": ".py",
   "mimetype": "text/x-python",
   "name": "python",
   "nbconvert_exporter": "python",
   "pygments_lexer": "ipython3",
   "version": "3.11.7"
  }
 },
 "nbformat": 4,
 "nbformat_minor": 2
}
