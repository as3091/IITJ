{
 "cells": [
  {
   "cell_type": "markdown",
   "metadata": {},
   "source": [
    "General Instructions (Non-conformance will result in penalties):\n",
    "- A report must be written for the assignment. Please make sure that the report is neat,\n",
    "properly formatted, and contains all relevant information to the tasks in the assignment.\n",
    "- Each question within the report shall not exceed 1 page. (Q1 in one page, Q2a and Q2b\n",
    "in one page and so on).\n",
    "- Grading of the assignment shall be done based on both, the codes and the report. The\n",
    "report shall reflect your understanding regarding the concepts, methods that you have\n",
    "used and the analysis of the results. Please keep the content of your reports crisp and\n",
    "precise.\n",
    "- Submission should contain the following three files - .ipynb file, .py file and report (.pdf).\n",
    "Please name each of these as roll_number.ipynb, roll_number.py and roll_number.pdf.\n",
    "- Within the code notebook, please make proper sections for each question as discussed\n",
    "in the demonstration session.\n",
    "- Any deviation from the above-mentioned submission format or deadline breach will result\n",
    "in penalty in marks – a zero will be awarded.\n",
    "- Even though intellectual discussion is encouraged, any plagiarism within the report is\n",
    "completely unacceptable and will result in nullifying of marks and a possible action for\n",
    "academic misconduct (according to the relevant institute regulations).\n",
    "- The penalty policy, as shared earlier, shall apply for late submissions.\n",
    "- The assignment must be done in a group of two. Submit only 1 report per group."
   ]
  }
 ],
 "metadata": {
  "kernelspec": {
   "display_name": "Python 3",
   "language": "python",
   "name": "python3"
  },
  "language_info": {
   "name": "python",
   "version": "3.11.7"
  }
 },
 "nbformat": 4,
 "nbformat_minor": 2
}
