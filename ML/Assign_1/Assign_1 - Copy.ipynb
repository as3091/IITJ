{
 "cells": [
  {
   "cell_type": "markdown",
   "metadata": {},
   "source": [
    "General Instructions (Non-conformance will result in penalties):\n",
    "- A report must be written for the assignment. Please make sure that the report is neat,\n",
    "properly formatted, and contains all relevant information to the tasks in the assignment.\n",
    "- Each question within the report shall not exceed 1 page. (Q1 in one page, Q2a and Q2b\n",
    "in one page and so on).\n",
    "- Grading of the assignment shall be done based on both, the codes and the report. The\n",
    "report shall reflect your understanding regarding the concepts, methods that you have\n",
    "used and the analysis of the results. Please keep the content of your reports crisp and\n",
    "precise.\n",
    "- Submission should contain the following three files - .ipynb file, .py file and report (.pdf).\n",
    "Please name each of these as roll_number.ipynb, roll_number.py and roll_number.pdf.\n",
    "- Within the code notebook, please make proper sections for each question as discussed\n",
    "in the demonstration session.\n",
    "- Any deviation from the above-mentioned submission format or deadline breach will result\n",
    "in penalty in marks – a zero will be awarded.\n",
    "- Even though intellectual discussion is encouraged, any plagiarism within the report is\n",
    "completely unacceptable and will result in nullifying of marks and a possible action for\n",
    "academic misconduct (according to the relevant institute regulations).\n",
    "- The penalty policy, as shared earlier, shall apply for late submissions.\n",
    "- The assignment must be done in a group of two. Submit only 1 report per group."
   ]
  },
  {
   "cell_type": "markdown",
   "metadata": {},
   "source": [
    "Q1: Data Preprocessing – 10 Marks<br>\n",
    "You have been provided with a CSV file \"Cars93.csv.\"<br>\n",
    "The given dataset is related to cars and contains 26 columns.<br>\n",
    "In the given dataset, “Price” is the target variable (i.e., the output).\n",
    "<br><br>\n",
    "The marks distribution according to the tasks are as follows:\n",
    "1. Assign a type to each of the following features (a) Model, (b) Type, (c) Max. Price and (d) Airbags from the following: ordinal/nominal/ratio/interval scale.\n",
    "2. Write a function to handle the missing values in the dataset (e.g., any NA, NaN values).\n",
    "3. Write a function to reduce noise (any error in the feature) in individual attributes.\n",
    "4. Write a function to encode all the categorical features in the dataset according to the type of variable jointly.\n",
    "5. Write a function to normalize / scale the features either individually or jointly.\n",
    "6. Write a function to create a random split of the data into train, validation and test sets in\n",
    "the ratio of [70:20:10]"
   ]
  },
  {
   "cell_type": "code",
   "execution_count": 1,
   "metadata": {},
   "outputs": [],
   "source": [
    "import pandas as pd"
   ]
  },
  {
   "cell_type": "code",
   "execution_count": 2,
   "metadata": {},
   "outputs": [],
   "source": [
    "cars_df = pd.read_csv(\"Cars93.csv\")"
   ]
  },
  {
   "cell_type": "code",
   "execution_count": 5,
   "metadata": {},
   "outputs": [
    {
     "name": "stdout",
     "output_type": "stream",
     "text": [
      "Manufacturer           object\n",
      "Model                  object\n",
      "Type                   object\n",
      "Min.Price             float64\n",
      "Price                 float64\n",
      "Max.Price             float64\n",
      "MPG.city                int64\n",
      "MPG.highway             int64\n",
      "AirBags                object\n",
      "DriveTrain             object\n",
      "Cylinders              object\n",
      "EngineSize            float64\n",
      "Horsepower              int64\n",
      "RPM                     int64\n",
      "Rev.per.mile            int64\n",
      "Man.trans.avail        object\n",
      "Fuel.tank.capacity    float64\n",
      "Passengers              int64\n",
      "Length                  int64\n",
      "Wheelbase               int64\n",
      "Width                   int64\n",
      "Turn.circle             int64\n",
      "Rear.seat.room        float64\n",
      "Luggage.room          float64\n",
      "Weight                  int64\n",
      "Origin                 object\n",
      "dtype: object\n"
     ]
    }
   ],
   "source": [
    "print(cars_df.dtypes)"
   ]
  },
  {
   "cell_type": "code",
   "execution_count": 6,
   "metadata": {},
   "outputs": [
    {
     "data": {
      "text/plain": [
       "Manufacturer           0\n",
       "Model                  0\n",
       "Type                   0\n",
       "Min.Price              0\n",
       "Price                  0\n",
       "Max.Price              0\n",
       "MPG.city               0\n",
       "MPG.highway            0\n",
       "AirBags               34\n",
       "DriveTrain             0\n",
       "Cylinders              0\n",
       "EngineSize             0\n",
       "Horsepower             0\n",
       "RPM                    0\n",
       "Rev.per.mile           0\n",
       "Man.trans.avail        0\n",
       "Fuel.tank.capacity     0\n",
       "Passengers             0\n",
       "Length                 0\n",
       "Wheelbase              0\n",
       "Width                  0\n",
       "Turn.circle            0\n",
       "Rear.seat.room         2\n",
       "Luggage.room          11\n",
       "Weight                 0\n",
       "Origin                 0\n",
       "dtype: int64"
      ]
     },
     "execution_count": 6,
     "metadata": {},
     "output_type": "execute_result"
    }
   ],
   "source": [
    "cars_df.isna().sum()"
   ]
  },
  {
   "cell_type": "code",
   "execution_count": null,
   "metadata": {},
   "outputs": [],
   "source": []
  }
 ],
 "metadata": {
  "kernelspec": {
   "display_name": "base",
   "language": "python",
   "name": "python3"
  },
  "language_info": {
   "codemirror_mode": {
    "name": "ipython",
    "version": 3
   },
   "file_extension": ".py",
   "mimetype": "text/x-python",
   "name": "python",
   "nbconvert_exporter": "python",
   "pygments_lexer": "ipython3",
   "version": "3.12.2"
  }
 },
 "nbformat": 4,
 "nbformat_minor": 2
}
