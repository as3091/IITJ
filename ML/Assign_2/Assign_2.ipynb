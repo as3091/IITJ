{
 "cells": [
  {
   "cell_type": "markdown",
   "metadata": {},
   "source": [
    "Q3: Implementation of Neural Networks from Scratch Using NumPy and Comparison with Sklearn (20 marks):\n",
    "  \n",
    "    1. Load and preprocess the MNIST Digits Dataset. (3 marks)\n",
    "    2. Implement a neural network with one input layer, one hidden layer, and one output layer using NumPy. (5 marks)\n",
    "    3. Train the neural network with various hyperparameters (e.g., learning rate, number of hidden nodes). (3 marks)\n",
    "    4. Evaluate the performance of the neural network on the testing set. (2 marks)\n",
    "    5. Implement the same neural network using sklearn and compare the results with the NumPy implementation. (4 marks)\n",
    "    6. Plot the training and validation loss/accuracy curves (for both experiments). (3 marks) \n",
    "\n"
   ]
  },
  {
   "cell_type": "code",
   "execution_count": 1,
   "metadata": {},
   "outputs": [],
   "source": [
    "import pandas as pd\n",
    "import numpy as np\n",
    "from IPython.display import display, HTML\n",
    "import matplotlib.pyplot as plt\n",
    "from sklearn.model_selection import train_test_split, GridSearchCV\n",
    "import warnings\n",
    "warnings.filterwarnings('ignore')\n",
    "from sklearn.preprocessing import StandardScaler\n",
    "from sklearn.svm import LinearSVC\n",
    "from sklearn.metrics import confusion_matrix,ConfusionMatrixDisplay, classification_report\n",
    "from sklearn.pipeline import Pipeline"
   ]
  },
  {
   "cell_type": "code",
   "execution_count": 2,
   "metadata": {},
   "outputs": [],
   "source": [
    "# from sklearn.datasets import fetch_openml\n",
    "\n",
    "# X, y = fetch_openml('mnist_784', version=1, return_X_y=True)\n",
    "# X[\"Y\"] = y\n",
    "# X.to_csv(\"mnist_784.csv\",index=False,header=True)"
   ]
  },
  {
   "cell_type": "code",
   "execution_count": 3,
   "metadata": {},
   "outputs": [],
   "source": [
    "mnist_784_df = pd.read_csv(\"mnist_784.csv\")\n",
    "# display(mnist_784_df.head().T)"
   ]
  },
  {
   "cell_type": "code",
   "execution_count": null,
   "metadata": {},
   "outputs": [],
   "source": [
    "def sigmoid(x):\n",
    "    return 1 / (1 + np.exp(-x))\n",
    "\n",
    "def sigmoid_derivative(x):\n",
    "    return x * (1 - x)\n",
    "\n",
    "def relu(x):\n",
    "    return np.maximum(0, x)\n",
    "\n",
    "def relu_derivative(x):\n",
    "    return np.where(x > 0, 1, 0)"
   ]
  },
  {
   "cell_type": "code",
   "execution_count": 36,
   "metadata": {},
   "outputs": [],
   "source": [
    "class NeuralNetwork:\n",
    "    def __init__(self, input_dim, hidden_dim, output_dim):\n",
    "        self.input_dim = input_dim\n",
    "        self.hidden_dim = hidden_dim\n",
    "        self.output_dim = output_dim\n",
    "        \n",
    "        self.weights1 = np.random.rand(input_dim, hidden_dim)\n",
    "        self.weights2 = np.random.rand(hidden_dim, output_dim)\n",
    "        self.bias1 = np.zeros((1, hidden_dim))\n",
    "        self.bias2 = np.zeros((1, output_dim))\n",
    "\n",
    "    def forward_propagation(self, inputs):\n",
    "\n",
    "        hidden_layer_input = np.dot(inputs, self.weights1) + self.bias1\n",
    "        hidden_layer_output = relu(hidden_layer_input)\n",
    "        \n",
    "        output_layer_input = np.dot(hidden_layer_output, self.weights2) + self.bias2\n",
    "        output_layer_output = sigmoid(output_layer_input)\n",
    "        \n",
    "        return hidden_layer_output, output_layer_output\n",
    "\n",
    "    def backward_propagation(self, inputs, targets, hidden_layer_output, output_layer_output):\n",
    "\n",
    "        d_output = 2 * (output_layer_output - targets)\n",
    "        d_weights2 = np.dot(hidden_layer_output.T, d_output * sigmoid_derivative(output_layer_output))\n",
    "        d_bias2 = np.sum(d_output * sigmoid_derivative(output_layer_output), axis=0, keepdims=True)\n",
    "        \n",
    "        d_hidden_layer = np.dot(d_output * sigmoid_derivative(output_layer_output), self.weights2.T) * relu_derivative(hidden_layer_output)\n",
    "        d_weights1 = np.dot(inputs.T, d_hidden_layer)\n",
    "        d_bias1 = np.sum(d_hidden_layer, axis=0, keepdims=True)\n",
    "        \n",
    "        return d_weights1, d_bias1, d_weights2, d_bias2\n",
    "\n",
    "    def update_weights(self, d_weights1, d_bias1, d_weights2, d_bias2, learning_rate):\n",
    "        self.weights1 -= learning_rate * d_weights1\n",
    "        self.bias1 -= learning_rate * d_bias1\n",
    "        self.weights2 -= learning_rate * d_weights2\n",
    "        self.bias2 -= learning_rate * d_bias2"
   ]
  },
  {
   "cell_type": "code",
   "execution_count": 37,
   "metadata": {},
   "outputs": [],
   "source": [
    "inputs = mnist_784_df.drop(columns=\"Y\").values\n",
    "targets = mnist_784_df[\"Y\"].values\n",
    "result = np.where(targets == 5, targets, 0)\n",
    "\n",
    "IL_n = mnist_784_df.shape[-1]-1\n",
    "n_neurons_HL = int(np.sqrt(IL_n-1))"
   ]
  },
  {
   "cell_type": "code",
   "execution_count": 41,
   "metadata": {},
   "outputs": [
    {
     "ename": "AttributeError",
     "evalue": "'numpy.ndarray' object has no attribute 'fillna'",
     "output_type": "error",
     "traceback": [
      "\u001b[0;31m---------------------------------------------------------------------------\u001b[0m",
      "\u001b[0;31mAttributeError\u001b[0m                            Traceback (most recent call last)",
      "Cell \u001b[0;32mIn[41], line 10\u001b[0m\n\u001b[1;32m      7\u001b[0m max_values \u001b[38;5;241m=\u001b[39m np\u001b[38;5;241m.\u001b[39mmax(inputs, axis\u001b[38;5;241m=\u001b[39m\u001b[38;5;241m0\u001b[39m)\n\u001b[1;32m      8\u001b[0m min_values \u001b[38;5;241m=\u001b[39m np\u001b[38;5;241m.\u001b[39mmin(inputs, axis\u001b[38;5;241m=\u001b[39m\u001b[38;5;241m0\u001b[39m)\n\u001b[0;32m---> 10\u001b[0m normalized_array \u001b[38;5;241m=\u001b[39m \u001b[43m(\u001b[49m\u001b[43m(\u001b[49m\u001b[43minputs\u001b[49m\u001b[43m \u001b[49m\u001b[38;5;241;43m-\u001b[39;49m\u001b[43m \u001b[49m\u001b[43mmin_values\u001b[49m\u001b[43m)\u001b[49m\u001b[43m \u001b[49m\u001b[38;5;241;43m/\u001b[39;49m\u001b[43m \u001b[49m\u001b[43m(\u001b[49m\u001b[43mmax_values\u001b[49m\u001b[43m \u001b[49m\u001b[38;5;241;43m-\u001b[39;49m\u001b[43m \u001b[49m\u001b[43mmin_values\u001b[49m\u001b[43m)\u001b[49m\u001b[43m)\u001b[49m\u001b[38;5;241;43m.\u001b[39;49m\u001b[43mfillna\u001b[49m(\u001b[38;5;241m0\u001b[39m)\n\u001b[1;32m     12\u001b[0m \u001b[38;5;28mprint\u001b[39m(normalized_array[\u001b[38;5;241m0\u001b[39m])\n",
      "\u001b[0;31mAttributeError\u001b[0m: 'numpy.ndarray' object has no attribute 'fillna'"
     ]
    }
   ],
   "source": [
    "# import numpy as np\n",
    "\n",
    "# # Example 2D array\n",
    "# array = np.array([[1, 10], [2, 9], [3, 8], [4, 7], [5, 6], [6, 5]])\n",
    "\n",
    "# Normalize the array\n",
    "max_values = np.max(inputs, axis=0)\n",
    "min_values = np.min(inputs, axis=0)\n",
    "\n",
    "normalized_array = ((inputs - min_values) / (max_values - min_values)).fillna(0)\n",
    "\n",
    "print(normalized_array[0])\n"
   ]
  },
  {
   "cell_type": "code",
   "execution_count": 32,
   "metadata": {},
   "outputs": [
    {
     "ename": "ValueError",
     "evalue": "Index data must be 1-dimensional",
     "output_type": "error",
     "traceback": [
      "\u001b[0;31m---------------------------------------------------------------------------\u001b[0m",
      "\u001b[0;31mValueError\u001b[0m                                Traceback (most recent call last)",
      "File \u001b[0;32m~/miniconda3/lib/python3.12/site-packages/pandas/core/indexes/base.py:565\u001b[0m, in \u001b[0;36mIndex.__new__\u001b[0;34m(cls, data, dtype, copy, name, tupleize_cols)\u001b[0m\n\u001b[1;32m    564\u001b[0m \u001b[38;5;28;01mtry\u001b[39;00m:\n\u001b[0;32m--> 565\u001b[0m     arr \u001b[38;5;241m=\u001b[39m \u001b[43msanitize_array\u001b[49m\u001b[43m(\u001b[49m\u001b[43mdata\u001b[49m\u001b[43m,\u001b[49m\u001b[43m \u001b[49m\u001b[38;5;28;43;01mNone\u001b[39;49;00m\u001b[43m,\u001b[49m\u001b[43m \u001b[49m\u001b[43mdtype\u001b[49m\u001b[38;5;241;43m=\u001b[39;49m\u001b[43mdtype\u001b[49m\u001b[43m,\u001b[49m\u001b[43m \u001b[49m\u001b[43mcopy\u001b[49m\u001b[38;5;241;43m=\u001b[39;49m\u001b[43mcopy\u001b[49m\u001b[43m)\u001b[49m\n\u001b[1;32m    566\u001b[0m \u001b[38;5;28;01mexcept\u001b[39;00m \u001b[38;5;167;01mValueError\u001b[39;00m \u001b[38;5;28;01mas\u001b[39;00m err:\n",
      "File \u001b[0;32m~/miniconda3/lib/python3.12/site-packages/pandas/core/construction.py:659\u001b[0m, in \u001b[0;36msanitize_array\u001b[0;34m(data, index, dtype, copy, allow_2d)\u001b[0m\n\u001b[1;32m    657\u001b[0m             subarr \u001b[38;5;241m=\u001b[39m maybe_infer_to_datetimelike(subarr)\n\u001b[0;32m--> 659\u001b[0m subarr \u001b[38;5;241m=\u001b[39m \u001b[43m_sanitize_ndim\u001b[49m\u001b[43m(\u001b[49m\u001b[43msubarr\u001b[49m\u001b[43m,\u001b[49m\u001b[43m \u001b[49m\u001b[43mdata\u001b[49m\u001b[43m,\u001b[49m\u001b[43m \u001b[49m\u001b[43mdtype\u001b[49m\u001b[43m,\u001b[49m\u001b[43m \u001b[49m\u001b[43mindex\u001b[49m\u001b[43m,\u001b[49m\u001b[43m \u001b[49m\u001b[43mallow_2d\u001b[49m\u001b[38;5;241;43m=\u001b[39;49m\u001b[43mallow_2d\u001b[49m\u001b[43m)\u001b[49m\n\u001b[1;32m    661\u001b[0m \u001b[38;5;28;01mif\u001b[39;00m \u001b[38;5;28misinstance\u001b[39m(subarr, np\u001b[38;5;241m.\u001b[39mndarray):\n\u001b[1;32m    662\u001b[0m     \u001b[38;5;66;03m# at this point we should have dtype be None or subarr.dtype == dtype\u001b[39;00m\n",
      "File \u001b[0;32m~/miniconda3/lib/python3.12/site-packages/pandas/core/construction.py:718\u001b[0m, in \u001b[0;36m_sanitize_ndim\u001b[0;34m(result, data, dtype, index, allow_2d)\u001b[0m\n\u001b[1;32m    717\u001b[0m         \u001b[38;5;28;01mreturn\u001b[39;00m result\n\u001b[0;32m--> 718\u001b[0m     \u001b[38;5;28;01mraise\u001b[39;00m \u001b[38;5;167;01mValueError\u001b[39;00m(\n\u001b[1;32m    719\u001b[0m         \u001b[38;5;124mf\u001b[39m\u001b[38;5;124m\"\u001b[39m\u001b[38;5;124mData must be 1-dimensional, got ndarray of shape \u001b[39m\u001b[38;5;132;01m{\u001b[39;00mdata\u001b[38;5;241m.\u001b[39mshape\u001b[38;5;132;01m}\u001b[39;00m\u001b[38;5;124m instead\u001b[39m\u001b[38;5;124m\"\u001b[39m\n\u001b[1;32m    720\u001b[0m     )\n\u001b[1;32m    721\u001b[0m \u001b[38;5;28;01mif\u001b[39;00m is_object_dtype(dtype) \u001b[38;5;129;01mand\u001b[39;00m \u001b[38;5;28misinstance\u001b[39m(dtype, ExtensionDtype):\n\u001b[1;32m    722\u001b[0m     \u001b[38;5;66;03m# i.e. NumpyEADtype(\"O\")\u001b[39;00m\n",
      "\u001b[0;31mValueError\u001b[0m: Data must be 1-dimensional, got ndarray of shape (70000, 784) instead",
      "\nThe above exception was the direct cause of the following exception:\n",
      "\u001b[0;31mValueError\u001b[0m                                Traceback (most recent call last)",
      "Cell \u001b[0;32mIn[32], line 2\u001b[0m\n\u001b[1;32m      1\u001b[0m scaler \u001b[38;5;241m=\u001b[39m StandardScaler()\n\u001b[0;32m----> 2\u001b[0m inputs \u001b[38;5;241m=\u001b[39m \u001b[43mpd\u001b[49m\u001b[38;5;241;43m.\u001b[39;49m\u001b[43mDataFrame\u001b[49m\u001b[43m(\u001b[49m\u001b[43mscaler\u001b[49m\u001b[38;5;241;43m.\u001b[39;49m\u001b[43mfit_transform\u001b[49m\u001b[43m(\u001b[49m\u001b[43minputs\u001b[49m\u001b[43m)\u001b[49m\u001b[43m,\u001b[49m\u001b[43m \u001b[49m\u001b[43mcolumns\u001b[49m\u001b[38;5;241;43m=\u001b[39;49m\u001b[43minputs\u001b[49m\u001b[43m)\u001b[49m\n",
      "File \u001b[0;32m~/miniconda3/lib/python3.12/site-packages/pandas/core/frame.py:827\u001b[0m, in \u001b[0;36mDataFrame.__init__\u001b[0;34m(self, data, index, columns, dtype, copy)\u001b[0m\n\u001b[1;32m    816\u001b[0m         mgr \u001b[38;5;241m=\u001b[39m dict_to_mgr(\n\u001b[1;32m    817\u001b[0m             \u001b[38;5;66;03m# error: Item \"ndarray\" of \"Union[ndarray, Series, Index]\" has no\u001b[39;00m\n\u001b[1;32m    818\u001b[0m             \u001b[38;5;66;03m# attribute \"name\"\u001b[39;00m\n\u001b[0;32m   (...)\u001b[0m\n\u001b[1;32m    824\u001b[0m             copy\u001b[38;5;241m=\u001b[39m_copy,\n\u001b[1;32m    825\u001b[0m         )\n\u001b[1;32m    826\u001b[0m     \u001b[38;5;28;01melse\u001b[39;00m:\n\u001b[0;32m--> 827\u001b[0m         mgr \u001b[38;5;241m=\u001b[39m \u001b[43mndarray_to_mgr\u001b[49m\u001b[43m(\u001b[49m\n\u001b[1;32m    828\u001b[0m \u001b[43m            \u001b[49m\u001b[43mdata\u001b[49m\u001b[43m,\u001b[49m\n\u001b[1;32m    829\u001b[0m \u001b[43m            \u001b[49m\u001b[43mindex\u001b[49m\u001b[43m,\u001b[49m\n\u001b[1;32m    830\u001b[0m \u001b[43m            \u001b[49m\u001b[43mcolumns\u001b[49m\u001b[43m,\u001b[49m\n\u001b[1;32m    831\u001b[0m \u001b[43m            \u001b[49m\u001b[43mdtype\u001b[49m\u001b[38;5;241;43m=\u001b[39;49m\u001b[43mdtype\u001b[49m\u001b[43m,\u001b[49m\n\u001b[1;32m    832\u001b[0m \u001b[43m            \u001b[49m\u001b[43mcopy\u001b[49m\u001b[38;5;241;43m=\u001b[39;49m\u001b[43mcopy\u001b[49m\u001b[43m,\u001b[49m\n\u001b[1;32m    833\u001b[0m \u001b[43m            \u001b[49m\u001b[43mtyp\u001b[49m\u001b[38;5;241;43m=\u001b[39;49m\u001b[43mmanager\u001b[49m\u001b[43m,\u001b[49m\n\u001b[1;32m    834\u001b[0m \u001b[43m        \u001b[49m\u001b[43m)\u001b[49m\n\u001b[1;32m    836\u001b[0m \u001b[38;5;66;03m# For data is list-like, or Iterable (will consume into list)\u001b[39;00m\n\u001b[1;32m    837\u001b[0m \u001b[38;5;28;01melif\u001b[39;00m is_list_like(data):\n",
      "File \u001b[0;32m~/miniconda3/lib/python3.12/site-packages/pandas/core/internals/construction.py:332\u001b[0m, in \u001b[0;36mndarray_to_mgr\u001b[0;34m(values, index, columns, dtype, copy, typ)\u001b[0m\n\u001b[1;32m    323\u001b[0m     values \u001b[38;5;241m=\u001b[39m sanitize_array(\n\u001b[1;32m    324\u001b[0m         values,\n\u001b[1;32m    325\u001b[0m         \u001b[38;5;28;01mNone\u001b[39;00m,\n\u001b[0;32m   (...)\u001b[0m\n\u001b[1;32m    328\u001b[0m         allow_2d\u001b[38;5;241m=\u001b[39m\u001b[38;5;28;01mTrue\u001b[39;00m,\n\u001b[1;32m    329\u001b[0m     )\n\u001b[1;32m    331\u001b[0m \u001b[38;5;66;03m# _prep_ndarraylike ensures that values.ndim == 2 at this point\u001b[39;00m\n\u001b[0;32m--> 332\u001b[0m index, columns \u001b[38;5;241m=\u001b[39m \u001b[43m_get_axes\u001b[49m\u001b[43m(\u001b[49m\n\u001b[1;32m    333\u001b[0m \u001b[43m    \u001b[49m\u001b[43mvalues\u001b[49m\u001b[38;5;241;43m.\u001b[39;49m\u001b[43mshape\u001b[49m\u001b[43m[\u001b[49m\u001b[38;5;241;43m0\u001b[39;49m\u001b[43m]\u001b[49m\u001b[43m,\u001b[49m\u001b[43m \u001b[49m\u001b[43mvalues\u001b[49m\u001b[38;5;241;43m.\u001b[39;49m\u001b[43mshape\u001b[49m\u001b[43m[\u001b[49m\u001b[38;5;241;43m1\u001b[39;49m\u001b[43m]\u001b[49m\u001b[43m,\u001b[49m\u001b[43m \u001b[49m\u001b[43mindex\u001b[49m\u001b[38;5;241;43m=\u001b[39;49m\u001b[43mindex\u001b[49m\u001b[43m,\u001b[49m\u001b[43m \u001b[49m\u001b[43mcolumns\u001b[49m\u001b[38;5;241;43m=\u001b[39;49m\u001b[43mcolumns\u001b[49m\n\u001b[1;32m    334\u001b[0m \u001b[43m\u001b[49m\u001b[43m)\u001b[49m\n\u001b[1;32m    336\u001b[0m _check_values_indices_shape_match(values, index, columns)\n\u001b[1;32m    338\u001b[0m \u001b[38;5;28;01mif\u001b[39;00m typ \u001b[38;5;241m==\u001b[39m \u001b[38;5;124m\"\u001b[39m\u001b[38;5;124marray\u001b[39m\u001b[38;5;124m\"\u001b[39m:\n",
      "File \u001b[0;32m~/miniconda3/lib/python3.12/site-packages/pandas/core/internals/construction.py:756\u001b[0m, in \u001b[0;36m_get_axes\u001b[0;34m(N, K, index, columns)\u001b[0m\n\u001b[1;32m    754\u001b[0m     columns \u001b[38;5;241m=\u001b[39m default_index(K)\n\u001b[1;32m    755\u001b[0m \u001b[38;5;28;01melse\u001b[39;00m:\n\u001b[0;32m--> 756\u001b[0m     columns \u001b[38;5;241m=\u001b[39m \u001b[43mensure_index\u001b[49m\u001b[43m(\u001b[49m\u001b[43mcolumns\u001b[49m\u001b[43m)\u001b[49m\n\u001b[1;32m    757\u001b[0m \u001b[38;5;28;01mreturn\u001b[39;00m index, columns\n",
      "File \u001b[0;32m~/miniconda3/lib/python3.12/site-packages/pandas/core/indexes/base.py:7649\u001b[0m, in \u001b[0;36mensure_index\u001b[0;34m(index_like, copy)\u001b[0m\n\u001b[1;32m   7647\u001b[0m         \u001b[38;5;28;01mreturn\u001b[39;00m Index(index_like, copy\u001b[38;5;241m=\u001b[39mcopy, tupleize_cols\u001b[38;5;241m=\u001b[39m\u001b[38;5;28;01mFalse\u001b[39;00m)\n\u001b[1;32m   7648\u001b[0m \u001b[38;5;28;01melse\u001b[39;00m:\n\u001b[0;32m-> 7649\u001b[0m     \u001b[38;5;28;01mreturn\u001b[39;00m \u001b[43mIndex\u001b[49m\u001b[43m(\u001b[49m\u001b[43mindex_like\u001b[49m\u001b[43m,\u001b[49m\u001b[43m \u001b[49m\u001b[43mcopy\u001b[49m\u001b[38;5;241;43m=\u001b[39;49m\u001b[43mcopy\u001b[49m\u001b[43m)\u001b[49m\n",
      "File \u001b[0;32m~/miniconda3/lib/python3.12/site-packages/pandas/core/indexes/base.py:570\u001b[0m, in \u001b[0;36mIndex.__new__\u001b[0;34m(cls, data, dtype, copy, name, tupleize_cols)\u001b[0m\n\u001b[1;32m    568\u001b[0m         \u001b[38;5;28;01mraise\u001b[39;00m \u001b[38;5;28mcls\u001b[39m\u001b[38;5;241m.\u001b[39m_raise_scalar_data_error(data) \u001b[38;5;28;01mfrom\u001b[39;00m\u001b[38;5;250m \u001b[39m\u001b[38;5;21;01merr\u001b[39;00m\n\u001b[1;32m    569\u001b[0m     \u001b[38;5;28;01mif\u001b[39;00m \u001b[38;5;124m\"\u001b[39m\u001b[38;5;124mData must be 1-dimensional\u001b[39m\u001b[38;5;124m\"\u001b[39m \u001b[38;5;129;01min\u001b[39;00m \u001b[38;5;28mstr\u001b[39m(err):\n\u001b[0;32m--> 570\u001b[0m         \u001b[38;5;28;01mraise\u001b[39;00m \u001b[38;5;167;01mValueError\u001b[39;00m(\u001b[38;5;124m\"\u001b[39m\u001b[38;5;124mIndex data must be 1-dimensional\u001b[39m\u001b[38;5;124m\"\u001b[39m) \u001b[38;5;28;01mfrom\u001b[39;00m\u001b[38;5;250m \u001b[39m\u001b[38;5;21;01merr\u001b[39;00m\n\u001b[1;32m    571\u001b[0m     \u001b[38;5;28;01mraise\u001b[39;00m\n\u001b[1;32m    572\u001b[0m arr \u001b[38;5;241m=\u001b[39m ensure_wrapped_if_datetimelike(arr)\n",
      "\u001b[0;31mValueError\u001b[0m: Index data must be 1-dimensional"
     ]
    }
   ],
   "source": [
    "scaler = StandardScaler()\n",
    "inputs = pd.DataFrame(scaler.fit_transform(inputs), columns=inputs)"
   ]
  },
  {
   "cell_type": "code",
   "execution_count": null,
   "metadata": {},
   "outputs": [],
   "source": [
    "X_train, X_test, y_train, y_test = train_test_split(\n",
    "    inputs, result,\n",
    "    test_size=0.20, random_state=42,\n",
    "    stratify=result,shuffle=True)"
   ]
  },
  {
   "cell_type": "code",
   "execution_count": null,
   "metadata": {},
   "outputs": [
    {
     "data": {
      "text/plain": [
       "array([[0.70608995, 0.73981399, 0.84289354],\n",
       "       [0.77103085, 0.4762833 , 0.45169264]])"
      ]
     },
     "execution_count": 13,
     "metadata": {},
     "output_type": "execute_result"
    }
   ],
   "source": [
    "nn = NeuralNetwork(input_dim=IL_n, hidden_dim=n_neurons_HL, output_dim=1)\n",
    "\n",
    "\n",
    "learning_rate = 0.1\n",
    "epochs = 10000\n",
    "\n",
    "for epoch in range(epochs):\n",
    "    hidden_layer_output, output_layer_output = nn.forward_propagation(inputs)\n",
    "    d_weights1, d_bias1, d_weights2, d_bias2 = nn.backward_propagation(inputs, targets, hidden_layer_output, output_layer_output)\n",
    "    nn.update_weights(d_weights1, d_bias1, d_weights2, d_bias2, learning_rate)\n",
    "    \n",
    "    # Print loss every 1000 epochs\n",
    "    if epoch % 1000 == 0:\n",
    "        loss = np.mean(np.square(output_layer_output - targets))\n",
    "        print(f\"Epoch {epoch+1}, Loss: {loss}\")\n",
    "\n",
    "# Final predictions\n",
    "_, final_output = nn.forward_propagation(inputs)\n",
    "print(\"Final Predictions:\")\n",
    "print(final_output)\n"
   ]
  },
  {
   "cell_type": "code",
   "execution_count": null,
   "metadata": {},
   "outputs": [],
   "source": [
    "class Neuron:\n",
    "    def __init__(self,value):\n",
    "        self.value = value\n",
    "class hidden_layer  \n"
   ]
  },
  {
   "cell_type": "code",
   "execution_count": null,
   "metadata": {},
   "outputs": [],
   "source": [
    "class aHL:\n",
    "    def __init__(self,mnist_784_df):\n",
    "\n",
    "    \n",
    "    def forward_prop_relu(self,input,weight):\n",
    "        return np.maximum(0, input*weight)\n",
    "\n",
    "\n"
   ]
  },
  {
   "cell_type": "code",
   "execution_count": null,
   "metadata": {},
   "outputs": [],
   "source": []
  },
  {
   "cell_type": "code",
   "execution_count": 14,
   "metadata": {},
   "outputs": [],
   "source": [
    "X.to_csv(\"mnist_784.csv\",index=False,header=True)"
   ]
  },
  {
   "cell_type": "code",
   "execution_count": 13,
   "metadata": {},
   "outputs": [
    {
     "data": {
      "application/vnd.microsoft.datawrangler.viewer.v0+json": {
       "columns": [
        {
         "name": "index",
         "rawType": "object",
         "type": "string"
        },
        {
         "name": "0",
         "rawType": "object",
         "type": "unknown"
        },
        {
         "name": "1",
         "rawType": "object",
         "type": "unknown"
        },
        {
         "name": "2",
         "rawType": "object",
         "type": "unknown"
        },
        {
         "name": "3",
         "rawType": "object",
         "type": "unknown"
        },
        {
         "name": "4",
         "rawType": "object",
         "type": "unknown"
        }
       ],
       "conversionMethod": "pd.DataFrame",
       "ref": "a7c9da93-37be-4309-9369-7990d89d058e",
       "rows": [
        [
         "pixel1",
         "0",
         "0",
         "0",
         "0",
         "0"
        ],
        [
         "pixel2",
         "0",
         "0",
         "0",
         "0",
         "0"
        ],
        [
         "pixel3",
         "0",
         "0",
         "0",
         "0",
         "0"
        ],
        [
         "pixel4",
         "0",
         "0",
         "0",
         "0",
         "0"
        ],
        [
         "pixel5",
         "0",
         "0",
         "0",
         "0",
         "0"
        ],
        [
         "pixel6",
         "0",
         "0",
         "0",
         "0",
         "0"
        ],
        [
         "pixel7",
         "0",
         "0",
         "0",
         "0",
         "0"
        ],
        [
         "pixel8",
         "0",
         "0",
         "0",
         "0",
         "0"
        ],
        [
         "pixel9",
         "0",
         "0",
         "0",
         "0",
         "0"
        ],
        [
         "pixel10",
         "0",
         "0",
         "0",
         "0",
         "0"
        ],
        [
         "pixel11",
         "0",
         "0",
         "0",
         "0",
         "0"
        ],
        [
         "pixel12",
         "0",
         "0",
         "0",
         "0",
         "0"
        ],
        [
         "pixel13",
         "0",
         "0",
         "0",
         "0",
         "0"
        ],
        [
         "pixel14",
         "0",
         "0",
         "0",
         "0",
         "0"
        ],
        [
         "pixel15",
         "0",
         "0",
         "0",
         "0",
         "0"
        ],
        [
         "pixel16",
         "0",
         "0",
         "0",
         "0",
         "0"
        ],
        [
         "pixel17",
         "0",
         "0",
         "0",
         "0",
         "0"
        ],
        [
         "pixel18",
         "0",
         "0",
         "0",
         "0",
         "0"
        ],
        [
         "pixel19",
         "0",
         "0",
         "0",
         "0",
         "0"
        ],
        [
         "pixel20",
         "0",
         "0",
         "0",
         "0",
         "0"
        ],
        [
         "pixel21",
         "0",
         "0",
         "0",
         "0",
         "0"
        ],
        [
         "pixel22",
         "0",
         "0",
         "0",
         "0",
         "0"
        ],
        [
         "pixel23",
         "0",
         "0",
         "0",
         "0",
         "0"
        ],
        [
         "pixel24",
         "0",
         "0",
         "0",
         "0",
         "0"
        ],
        [
         "pixel25",
         "0",
         "0",
         "0",
         "0",
         "0"
        ],
        [
         "pixel26",
         "0",
         "0",
         "0",
         "0",
         "0"
        ],
        [
         "pixel27",
         "0",
         "0",
         "0",
         "0",
         "0"
        ],
        [
         "pixel28",
         "0",
         "0",
         "0",
         "0",
         "0"
        ],
        [
         "pixel29",
         "0",
         "0",
         "0",
         "0",
         "0"
        ],
        [
         "pixel30",
         "0",
         "0",
         "0",
         "0",
         "0"
        ],
        [
         "pixel31",
         "0",
         "0",
         "0",
         "0",
         "0"
        ],
        [
         "pixel32",
         "0",
         "0",
         "0",
         "0",
         "0"
        ],
        [
         "pixel33",
         "0",
         "0",
         "0",
         "0",
         "0"
        ],
        [
         "pixel34",
         "0",
         "0",
         "0",
         "0",
         "0"
        ],
        [
         "pixel35",
         "0",
         "0",
         "0",
         "0",
         "0"
        ],
        [
         "pixel36",
         "0",
         "0",
         "0",
         "0",
         "0"
        ],
        [
         "pixel37",
         "0",
         "0",
         "0",
         "0",
         "0"
        ],
        [
         "pixel38",
         "0",
         "0",
         "0",
         "0",
         "0"
        ],
        [
         "pixel39",
         "0",
         "0",
         "0",
         "0",
         "0"
        ],
        [
         "pixel40",
         "0",
         "0",
         "0",
         "0",
         "0"
        ],
        [
         "pixel41",
         "0",
         "0",
         "0",
         "0",
         "0"
        ],
        [
         "pixel42",
         "0",
         "0",
         "0",
         "0",
         "0"
        ],
        [
         "pixel43",
         "0",
         "0",
         "0",
         "0",
         "0"
        ],
        [
         "pixel44",
         "0",
         "0",
         "0",
         "0",
         "0"
        ],
        [
         "pixel45",
         "0",
         "0",
         "0",
         "0",
         "0"
        ],
        [
         "pixel46",
         "0",
         "0",
         "0",
         "0",
         "0"
        ],
        [
         "pixel47",
         "0",
         "0",
         "0",
         "0",
         "0"
        ],
        [
         "pixel48",
         "0",
         "0",
         "0",
         "0",
         "0"
        ],
        [
         "pixel49",
         "0",
         "0",
         "0",
         "0",
         "0"
        ],
        [
         "pixel50",
         "0",
         "0",
         "0",
         "0",
         "0"
        ]
       ],
       "shape": {
        "columns": 5,
        "rows": 785
       }
      },
      "text/html": [
       "<div>\n",
       "<style scoped>\n",
       "    .dataframe tbody tr th:only-of-type {\n",
       "        vertical-align: middle;\n",
       "    }\n",
       "\n",
       "    .dataframe tbody tr th {\n",
       "        vertical-align: top;\n",
       "    }\n",
       "\n",
       "    .dataframe thead th {\n",
       "        text-align: right;\n",
       "    }\n",
       "</style>\n",
       "<table border=\"1\" class=\"dataframe\">\n",
       "  <thead>\n",
       "    <tr style=\"text-align: right;\">\n",
       "      <th></th>\n",
       "      <th>0</th>\n",
       "      <th>1</th>\n",
       "      <th>2</th>\n",
       "      <th>3</th>\n",
       "      <th>4</th>\n",
       "    </tr>\n",
       "  </thead>\n",
       "  <tbody>\n",
       "    <tr>\n",
       "      <th>pixel1</th>\n",
       "      <td>0</td>\n",
       "      <td>0</td>\n",
       "      <td>0</td>\n",
       "      <td>0</td>\n",
       "      <td>0</td>\n",
       "    </tr>\n",
       "    <tr>\n",
       "      <th>pixel2</th>\n",
       "      <td>0</td>\n",
       "      <td>0</td>\n",
       "      <td>0</td>\n",
       "      <td>0</td>\n",
       "      <td>0</td>\n",
       "    </tr>\n",
       "    <tr>\n",
       "      <th>pixel3</th>\n",
       "      <td>0</td>\n",
       "      <td>0</td>\n",
       "      <td>0</td>\n",
       "      <td>0</td>\n",
       "      <td>0</td>\n",
       "    </tr>\n",
       "    <tr>\n",
       "      <th>pixel4</th>\n",
       "      <td>0</td>\n",
       "      <td>0</td>\n",
       "      <td>0</td>\n",
       "      <td>0</td>\n",
       "      <td>0</td>\n",
       "    </tr>\n",
       "    <tr>\n",
       "      <th>pixel5</th>\n",
       "      <td>0</td>\n",
       "      <td>0</td>\n",
       "      <td>0</td>\n",
       "      <td>0</td>\n",
       "      <td>0</td>\n",
       "    </tr>\n",
       "    <tr>\n",
       "      <th>...</th>\n",
       "      <td>...</td>\n",
       "      <td>...</td>\n",
       "      <td>...</td>\n",
       "      <td>...</td>\n",
       "      <td>...</td>\n",
       "    </tr>\n",
       "    <tr>\n",
       "      <th>pixel781</th>\n",
       "      <td>0</td>\n",
       "      <td>0</td>\n",
       "      <td>0</td>\n",
       "      <td>0</td>\n",
       "      <td>0</td>\n",
       "    </tr>\n",
       "    <tr>\n",
       "      <th>pixel782</th>\n",
       "      <td>0</td>\n",
       "      <td>0</td>\n",
       "      <td>0</td>\n",
       "      <td>0</td>\n",
       "      <td>0</td>\n",
       "    </tr>\n",
       "    <tr>\n",
       "      <th>pixel783</th>\n",
       "      <td>0</td>\n",
       "      <td>0</td>\n",
       "      <td>0</td>\n",
       "      <td>0</td>\n",
       "      <td>0</td>\n",
       "    </tr>\n",
       "    <tr>\n",
       "      <th>pixel784</th>\n",
       "      <td>0</td>\n",
       "      <td>0</td>\n",
       "      <td>0</td>\n",
       "      <td>0</td>\n",
       "      <td>0</td>\n",
       "    </tr>\n",
       "    <tr>\n",
       "      <th>Y</th>\n",
       "      <td>5</td>\n",
       "      <td>0</td>\n",
       "      <td>4</td>\n",
       "      <td>1</td>\n",
       "      <td>9</td>\n",
       "    </tr>\n",
       "  </tbody>\n",
       "</table>\n",
       "<p>785 rows × 5 columns</p>\n",
       "</div>"
      ],
      "text/plain": [
       "          0  1  2  3  4\n",
       "pixel1    0  0  0  0  0\n",
       "pixel2    0  0  0  0  0\n",
       "pixel3    0  0  0  0  0\n",
       "pixel4    0  0  0  0  0\n",
       "pixel5    0  0  0  0  0\n",
       "...      .. .. .. .. ..\n",
       "pixel781  0  0  0  0  0\n",
       "pixel782  0  0  0  0  0\n",
       "pixel783  0  0  0  0  0\n",
       "pixel784  0  0  0  0  0\n",
       "Y         5  0  4  1  9\n",
       "\n",
       "[785 rows x 5 columns]"
      ]
     },
     "metadata": {},
     "output_type": "display_data"
    }
   ],
   "source": [
    "display(X.head().T)"
   ]
  },
  {
   "cell_type": "code",
   "execution_count": 3,
   "metadata": {},
   "outputs": [],
   "source": [
    "df = pd.DataFrame(X, columns=[f'Pixel_{i}'for i in range(X.shape[-1])])"
   ]
  },
  {
   "cell_type": "code",
   "execution_count": 4,
   "metadata": {},
   "outputs": [
    {
     "data": {
      "application/vnd.microsoft.datawrangler.viewer.v0+json": {
       "columns": [
        {
         "name": "index",
         "rawType": "int64",
         "type": "integer"
        },
        {
         "name": "Pixel_0",
         "rawType": "float64",
         "type": "float"
        },
        {
         "name": "Pixel_1",
         "rawType": "float64",
         "type": "float"
        },
        {
         "name": "Pixel_2",
         "rawType": "float64",
         "type": "float"
        },
        {
         "name": "Pixel_3",
         "rawType": "float64",
         "type": "float"
        },
        {
         "name": "Pixel_4",
         "rawType": "float64",
         "type": "float"
        },
        {
         "name": "Pixel_5",
         "rawType": "float64",
         "type": "float"
        },
        {
         "name": "Pixel_6",
         "rawType": "float64",
         "type": "float"
        },
        {
         "name": "Pixel_7",
         "rawType": "float64",
         "type": "float"
        },
        {
         "name": "Pixel_8",
         "rawType": "float64",
         "type": "float"
        },
        {
         "name": "Pixel_9",
         "rawType": "float64",
         "type": "float"
        },
        {
         "name": "Pixel_10",
         "rawType": "float64",
         "type": "float"
        },
        {
         "name": "Pixel_11",
         "rawType": "float64",
         "type": "float"
        },
        {
         "name": "Pixel_12",
         "rawType": "float64",
         "type": "float"
        },
        {
         "name": "Pixel_13",
         "rawType": "float64",
         "type": "float"
        },
        {
         "name": "Pixel_14",
         "rawType": "float64",
         "type": "float"
        },
        {
         "name": "Pixel_15",
         "rawType": "float64",
         "type": "float"
        },
        {
         "name": "Pixel_16",
         "rawType": "float64",
         "type": "float"
        },
        {
         "name": "Pixel_17",
         "rawType": "float64",
         "type": "float"
        },
        {
         "name": "Pixel_18",
         "rawType": "float64",
         "type": "float"
        },
        {
         "name": "Pixel_19",
         "rawType": "float64",
         "type": "float"
        },
        {
         "name": "Pixel_20",
         "rawType": "float64",
         "type": "float"
        },
        {
         "name": "Pixel_21",
         "rawType": "float64",
         "type": "float"
        },
        {
         "name": "Pixel_22",
         "rawType": "float64",
         "type": "float"
        },
        {
         "name": "Pixel_23",
         "rawType": "float64",
         "type": "float"
        },
        {
         "name": "Pixel_24",
         "rawType": "float64",
         "type": "float"
        },
        {
         "name": "Pixel_25",
         "rawType": "float64",
         "type": "float"
        },
        {
         "name": "Pixel_26",
         "rawType": "float64",
         "type": "float"
        },
        {
         "name": "Pixel_27",
         "rawType": "float64",
         "type": "float"
        },
        {
         "name": "Pixel_28",
         "rawType": "float64",
         "type": "float"
        },
        {
         "name": "Pixel_29",
         "rawType": "float64",
         "type": "float"
        },
        {
         "name": "Pixel_30",
         "rawType": "float64",
         "type": "float"
        },
        {
         "name": "Pixel_31",
         "rawType": "float64",
         "type": "float"
        },
        {
         "name": "Pixel_32",
         "rawType": "float64",
         "type": "float"
        },
        {
         "name": "Pixel_33",
         "rawType": "float64",
         "type": "float"
        },
        {
         "name": "Pixel_34",
         "rawType": "float64",
         "type": "float"
        },
        {
         "name": "Pixel_35",
         "rawType": "float64",
         "type": "float"
        },
        {
         "name": "Pixel_36",
         "rawType": "float64",
         "type": "float"
        },
        {
         "name": "Pixel_37",
         "rawType": "float64",
         "type": "float"
        },
        {
         "name": "Pixel_38",
         "rawType": "float64",
         "type": "float"
        },
        {
         "name": "Pixel_39",
         "rawType": "float64",
         "type": "float"
        },
        {
         "name": "Pixel_40",
         "rawType": "float64",
         "type": "float"
        },
        {
         "name": "Pixel_41",
         "rawType": "float64",
         "type": "float"
        },
        {
         "name": "Pixel_42",
         "rawType": "float64",
         "type": "float"
        },
        {
         "name": "Pixel_43",
         "rawType": "float64",
         "type": "float"
        },
        {
         "name": "Pixel_44",
         "rawType": "float64",
         "type": "float"
        },
        {
         "name": "Pixel_45",
         "rawType": "float64",
         "type": "float"
        },
        {
         "name": "Pixel_46",
         "rawType": "float64",
         "type": "float"
        },
        {
         "name": "Pixel_47",
         "rawType": "float64",
         "type": "float"
        },
        {
         "name": "Pixel_48",
         "rawType": "float64",
         "type": "float"
        },
        {
         "name": "Pixel_49",
         "rawType": "float64",
         "type": "float"
        },
        {
         "name": "Pixel_50",
         "rawType": "float64",
         "type": "float"
        },
        {
         "name": "Pixel_51",
         "rawType": "float64",
         "type": "float"
        },
        {
         "name": "Pixel_52",
         "rawType": "float64",
         "type": "float"
        },
        {
         "name": "Pixel_53",
         "rawType": "float64",
         "type": "float"
        },
        {
         "name": "Pixel_54",
         "rawType": "float64",
         "type": "float"
        },
        {
         "name": "Pixel_55",
         "rawType": "float64",
         "type": "float"
        },
        {
         "name": "Pixel_56",
         "rawType": "float64",
         "type": "float"
        },
        {
         "name": "Pixel_57",
         "rawType": "float64",
         "type": "float"
        },
        {
         "name": "Pixel_58",
         "rawType": "float64",
         "type": "float"
        },
        {
         "name": "Pixel_59",
         "rawType": "float64",
         "type": "float"
        },
        {
         "name": "Pixel_60",
         "rawType": "float64",
         "type": "float"
        },
        {
         "name": "Pixel_61",
         "rawType": "float64",
         "type": "float"
        },
        {
         "name": "Pixel_62",
         "rawType": "float64",
         "type": "float"
        },
        {
         "name": "Pixel_63",
         "rawType": "float64",
         "type": "float"
        },
        {
         "name": "Pixel_64",
         "rawType": "float64",
         "type": "float"
        },
        {
         "name": "Pixel_65",
         "rawType": "float64",
         "type": "float"
        },
        {
         "name": "Pixel_66",
         "rawType": "float64",
         "type": "float"
        },
        {
         "name": "Pixel_67",
         "rawType": "float64",
         "type": "float"
        },
        {
         "name": "Pixel_68",
         "rawType": "float64",
         "type": "float"
        },
        {
         "name": "Pixel_69",
         "rawType": "float64",
         "type": "float"
        },
        {
         "name": "Pixel_70",
         "rawType": "float64",
         "type": "float"
        },
        {
         "name": "Pixel_71",
         "rawType": "float64",
         "type": "float"
        },
        {
         "name": "Pixel_72",
         "rawType": "float64",
         "type": "float"
        },
        {
         "name": "Pixel_73",
         "rawType": "float64",
         "type": "float"
        },
        {
         "name": "Pixel_74",
         "rawType": "float64",
         "type": "float"
        },
        {
         "name": "Pixel_75",
         "rawType": "float64",
         "type": "float"
        },
        {
         "name": "Pixel_76",
         "rawType": "float64",
         "type": "float"
        },
        {
         "name": "Pixel_77",
         "rawType": "float64",
         "type": "float"
        },
        {
         "name": "Pixel_78",
         "rawType": "float64",
         "type": "float"
        },
        {
         "name": "Pixel_79",
         "rawType": "float64",
         "type": "float"
        },
        {
         "name": "Pixel_80",
         "rawType": "float64",
         "type": "float"
        },
        {
         "name": "Pixel_81",
         "rawType": "float64",
         "type": "float"
        },
        {
         "name": "Pixel_82",
         "rawType": "float64",
         "type": "float"
        },
        {
         "name": "Pixel_83",
         "rawType": "float64",
         "type": "float"
        },
        {
         "name": "Pixel_84",
         "rawType": "float64",
         "type": "float"
        },
        {
         "name": "Pixel_85",
         "rawType": "float64",
         "type": "float"
        },
        {
         "name": "Pixel_86",
         "rawType": "float64",
         "type": "float"
        },
        {
         "name": "Pixel_87",
         "rawType": "float64",
         "type": "float"
        },
        {
         "name": "Pixel_88",
         "rawType": "float64",
         "type": "float"
        },
        {
         "name": "Pixel_89",
         "rawType": "float64",
         "type": "float"
        },
        {
         "name": "Pixel_90",
         "rawType": "float64",
         "type": "float"
        },
        {
         "name": "Pixel_91",
         "rawType": "float64",
         "type": "float"
        },
        {
         "name": "Pixel_92",
         "rawType": "float64",
         "type": "float"
        },
        {
         "name": "Pixel_93",
         "rawType": "float64",
         "type": "float"
        },
        {
         "name": "Pixel_94",
         "rawType": "float64",
         "type": "float"
        },
        {
         "name": "Pixel_95",
         "rawType": "float64",
         "type": "float"
        },
        {
         "name": "Pixel_96",
         "rawType": "float64",
         "type": "float"
        },
        {
         "name": "Pixel_97",
         "rawType": "float64",
         "type": "float"
        },
        {
         "name": "Pixel_98",
         "rawType": "float64",
         "type": "float"
        },
        {
         "name": "Pixel_99",
         "rawType": "float64",
         "type": "float"
        },
        {
         "name": "Pixel_100",
         "rawType": "float64",
         "type": "float"
        },
        {
         "name": "Pixel_101",
         "rawType": "float64",
         "type": "float"
        },
        {
         "name": "Pixel_102",
         "rawType": "float64",
         "type": "float"
        },
        {
         "name": "Pixel_103",
         "rawType": "float64",
         "type": "float"
        },
        {
         "name": "Pixel_104",
         "rawType": "float64",
         "type": "float"
        },
        {
         "name": "Pixel_105",
         "rawType": "float64",
         "type": "float"
        },
        {
         "name": "Pixel_106",
         "rawType": "float64",
         "type": "float"
        },
        {
         "name": "Pixel_107",
         "rawType": "float64",
         "type": "float"
        },
        {
         "name": "Pixel_108",
         "rawType": "float64",
         "type": "float"
        },
        {
         "name": "Pixel_109",
         "rawType": "float64",
         "type": "float"
        },
        {
         "name": "Pixel_110",
         "rawType": "float64",
         "type": "float"
        },
        {
         "name": "Pixel_111",
         "rawType": "float64",
         "type": "float"
        },
        {
         "name": "Pixel_112",
         "rawType": "float64",
         "type": "float"
        },
        {
         "name": "Pixel_113",
         "rawType": "float64",
         "type": "float"
        },
        {
         "name": "Pixel_114",
         "rawType": "float64",
         "type": "float"
        },
        {
         "name": "Pixel_115",
         "rawType": "float64",
         "type": "float"
        },
        {
         "name": "Pixel_116",
         "rawType": "float64",
         "type": "float"
        },
        {
         "name": "Pixel_117",
         "rawType": "float64",
         "type": "float"
        },
        {
         "name": "Pixel_118",
         "rawType": "float64",
         "type": "float"
        },
        {
         "name": "Pixel_119",
         "rawType": "float64",
         "type": "float"
        },
        {
         "name": "Pixel_120",
         "rawType": "float64",
         "type": "float"
        },
        {
         "name": "Pixel_121",
         "rawType": "float64",
         "type": "float"
        },
        {
         "name": "Pixel_122",
         "rawType": "float64",
         "type": "float"
        },
        {
         "name": "Pixel_123",
         "rawType": "float64",
         "type": "float"
        },
        {
         "name": "Pixel_124",
         "rawType": "float64",
         "type": "float"
        },
        {
         "name": "Pixel_125",
         "rawType": "float64",
         "type": "float"
        },
        {
         "name": "Pixel_126",
         "rawType": "float64",
         "type": "float"
        },
        {
         "name": "Pixel_127",
         "rawType": "float64",
         "type": "float"
        },
        {
         "name": "Pixel_128",
         "rawType": "float64",
         "type": "float"
        },
        {
         "name": "Pixel_129",
         "rawType": "float64",
         "type": "float"
        },
        {
         "name": "Pixel_130",
         "rawType": "float64",
         "type": "float"
        },
        {
         "name": "Pixel_131",
         "rawType": "float64",
         "type": "float"
        },
        {
         "name": "Pixel_132",
         "rawType": "float64",
         "type": "float"
        },
        {
         "name": "Pixel_133",
         "rawType": "float64",
         "type": "float"
        },
        {
         "name": "Pixel_134",
         "rawType": "float64",
         "type": "float"
        },
        {
         "name": "Pixel_135",
         "rawType": "float64",
         "type": "float"
        },
        {
         "name": "Pixel_136",
         "rawType": "float64",
         "type": "float"
        },
        {
         "name": "Pixel_137",
         "rawType": "float64",
         "type": "float"
        },
        {
         "name": "Pixel_138",
         "rawType": "float64",
         "type": "float"
        },
        {
         "name": "Pixel_139",
         "rawType": "float64",
         "type": "float"
        },
        {
         "name": "Pixel_140",
         "rawType": "float64",
         "type": "float"
        },
        {
         "name": "Pixel_141",
         "rawType": "float64",
         "type": "float"
        },
        {
         "name": "Pixel_142",
         "rawType": "float64",
         "type": "float"
        },
        {
         "name": "Pixel_143",
         "rawType": "float64",
         "type": "float"
        },
        {
         "name": "Pixel_144",
         "rawType": "float64",
         "type": "float"
        },
        {
         "name": "Pixel_145",
         "rawType": "float64",
         "type": "float"
        },
        {
         "name": "Pixel_146",
         "rawType": "float64",
         "type": "float"
        },
        {
         "name": "Pixel_147",
         "rawType": "float64",
         "type": "float"
        },
        {
         "name": "Pixel_148",
         "rawType": "float64",
         "type": "float"
        },
        {
         "name": "Pixel_149",
         "rawType": "float64",
         "type": "float"
        },
        {
         "name": "Pixel_150",
         "rawType": "float64",
         "type": "float"
        },
        {
         "name": "Pixel_151",
         "rawType": "float64",
         "type": "float"
        },
        {
         "name": "Pixel_152",
         "rawType": "float64",
         "type": "float"
        },
        {
         "name": "Pixel_153",
         "rawType": "float64",
         "type": "float"
        },
        {
         "name": "Pixel_154",
         "rawType": "float64",
         "type": "float"
        },
        {
         "name": "Pixel_155",
         "rawType": "float64",
         "type": "float"
        },
        {
         "name": "Pixel_156",
         "rawType": "float64",
         "type": "float"
        },
        {
         "name": "Pixel_157",
         "rawType": "float64",
         "type": "float"
        },
        {
         "name": "Pixel_158",
         "rawType": "float64",
         "type": "float"
        },
        {
         "name": "Pixel_159",
         "rawType": "float64",
         "type": "float"
        },
        {
         "name": "Pixel_160",
         "rawType": "float64",
         "type": "float"
        },
        {
         "name": "Pixel_161",
         "rawType": "float64",
         "type": "float"
        },
        {
         "name": "Pixel_162",
         "rawType": "float64",
         "type": "float"
        },
        {
         "name": "Pixel_163",
         "rawType": "float64",
         "type": "float"
        },
        {
         "name": "Pixel_164",
         "rawType": "float64",
         "type": "float"
        },
        {
         "name": "Pixel_165",
         "rawType": "float64",
         "type": "float"
        },
        {
         "name": "Pixel_166",
         "rawType": "float64",
         "type": "float"
        },
        {
         "name": "Pixel_167",
         "rawType": "float64",
         "type": "float"
        },
        {
         "name": "Pixel_168",
         "rawType": "float64",
         "type": "float"
        },
        {
         "name": "Pixel_169",
         "rawType": "float64",
         "type": "float"
        },
        {
         "name": "Pixel_170",
         "rawType": "float64",
         "type": "float"
        },
        {
         "name": "Pixel_171",
         "rawType": "float64",
         "type": "float"
        },
        {
         "name": "Pixel_172",
         "rawType": "float64",
         "type": "float"
        },
        {
         "name": "Pixel_173",
         "rawType": "float64",
         "type": "float"
        },
        {
         "name": "Pixel_174",
         "rawType": "float64",
         "type": "float"
        },
        {
         "name": "Pixel_175",
         "rawType": "float64",
         "type": "float"
        },
        {
         "name": "Pixel_176",
         "rawType": "float64",
         "type": "float"
        },
        {
         "name": "Pixel_177",
         "rawType": "float64",
         "type": "float"
        },
        {
         "name": "Pixel_178",
         "rawType": "float64",
         "type": "float"
        },
        {
         "name": "Pixel_179",
         "rawType": "float64",
         "type": "float"
        },
        {
         "name": "Pixel_180",
         "rawType": "float64",
         "type": "float"
        },
        {
         "name": "Pixel_181",
         "rawType": "float64",
         "type": "float"
        },
        {
         "name": "Pixel_182",
         "rawType": "float64",
         "type": "float"
        },
        {
         "name": "Pixel_183",
         "rawType": "float64",
         "type": "float"
        },
        {
         "name": "Pixel_184",
         "rawType": "float64",
         "type": "float"
        },
        {
         "name": "Pixel_185",
         "rawType": "float64",
         "type": "float"
        },
        {
         "name": "Pixel_186",
         "rawType": "float64",
         "type": "float"
        },
        {
         "name": "Pixel_187",
         "rawType": "float64",
         "type": "float"
        },
        {
         "name": "Pixel_188",
         "rawType": "float64",
         "type": "float"
        },
        {
         "name": "Pixel_189",
         "rawType": "float64",
         "type": "float"
        },
        {
         "name": "Pixel_190",
         "rawType": "float64",
         "type": "float"
        },
        {
         "name": "Pixel_191",
         "rawType": "float64",
         "type": "float"
        },
        {
         "name": "Pixel_192",
         "rawType": "float64",
         "type": "float"
        },
        {
         "name": "Pixel_193",
         "rawType": "float64",
         "type": "float"
        },
        {
         "name": "Pixel_194",
         "rawType": "float64",
         "type": "float"
        },
        {
         "name": "Pixel_195",
         "rawType": "float64",
         "type": "float"
        },
        {
         "name": "Pixel_196",
         "rawType": "float64",
         "type": "float"
        },
        {
         "name": "Pixel_197",
         "rawType": "float64",
         "type": "float"
        },
        {
         "name": "Pixel_198",
         "rawType": "float64",
         "type": "float"
        },
        {
         "name": "Pixel_199",
         "rawType": "float64",
         "type": "float"
        },
        {
         "name": "Pixel_200",
         "rawType": "float64",
         "type": "float"
        },
        {
         "name": "Pixel_201",
         "rawType": "float64",
         "type": "float"
        },
        {
         "name": "Pixel_202",
         "rawType": "float64",
         "type": "float"
        },
        {
         "name": "Pixel_203",
         "rawType": "float64",
         "type": "float"
        },
        {
         "name": "Pixel_204",
         "rawType": "float64",
         "type": "float"
        },
        {
         "name": "Pixel_205",
         "rawType": "float64",
         "type": "float"
        },
        {
         "name": "Pixel_206",
         "rawType": "float64",
         "type": "float"
        },
        {
         "name": "Pixel_207",
         "rawType": "float64",
         "type": "float"
        },
        {
         "name": "Pixel_208",
         "rawType": "float64",
         "type": "float"
        },
        {
         "name": "Pixel_209",
         "rawType": "float64",
         "type": "float"
        },
        {
         "name": "Pixel_210",
         "rawType": "float64",
         "type": "float"
        },
        {
         "name": "Pixel_211",
         "rawType": "float64",
         "type": "float"
        },
        {
         "name": "Pixel_212",
         "rawType": "float64",
         "type": "float"
        },
        {
         "name": "Pixel_213",
         "rawType": "float64",
         "type": "float"
        },
        {
         "name": "Pixel_214",
         "rawType": "float64",
         "type": "float"
        },
        {
         "name": "Pixel_215",
         "rawType": "float64",
         "type": "float"
        },
        {
         "name": "Pixel_216",
         "rawType": "float64",
         "type": "float"
        },
        {
         "name": "Pixel_217",
         "rawType": "float64",
         "type": "float"
        },
        {
         "name": "Pixel_218",
         "rawType": "float64",
         "type": "float"
        },
        {
         "name": "Pixel_219",
         "rawType": "float64",
         "type": "float"
        },
        {
         "name": "Pixel_220",
         "rawType": "float64",
         "type": "float"
        },
        {
         "name": "Pixel_221",
         "rawType": "float64",
         "type": "float"
        },
        {
         "name": "Pixel_222",
         "rawType": "float64",
         "type": "float"
        },
        {
         "name": "Pixel_223",
         "rawType": "float64",
         "type": "float"
        },
        {
         "name": "Pixel_224",
         "rawType": "float64",
         "type": "float"
        },
        {
         "name": "Pixel_225",
         "rawType": "float64",
         "type": "float"
        },
        {
         "name": "Pixel_226",
         "rawType": "float64",
         "type": "float"
        },
        {
         "name": "Pixel_227",
         "rawType": "float64",
         "type": "float"
        },
        {
         "name": "Pixel_228",
         "rawType": "float64",
         "type": "float"
        },
        {
         "name": "Pixel_229",
         "rawType": "float64",
         "type": "float"
        },
        {
         "name": "Pixel_230",
         "rawType": "float64",
         "type": "float"
        },
        {
         "name": "Pixel_231",
         "rawType": "float64",
         "type": "float"
        },
        {
         "name": "Pixel_232",
         "rawType": "float64",
         "type": "float"
        },
        {
         "name": "Pixel_233",
         "rawType": "float64",
         "type": "float"
        },
        {
         "name": "Pixel_234",
         "rawType": "float64",
         "type": "float"
        },
        {
         "name": "Pixel_235",
         "rawType": "float64",
         "type": "float"
        },
        {
         "name": "Pixel_236",
         "rawType": "float64",
         "type": "float"
        },
        {
         "name": "Pixel_237",
         "rawType": "float64",
         "type": "float"
        },
        {
         "name": "Pixel_238",
         "rawType": "float64",
         "type": "float"
        },
        {
         "name": "Pixel_239",
         "rawType": "float64",
         "type": "float"
        },
        {
         "name": "Pixel_240",
         "rawType": "float64",
         "type": "float"
        },
        {
         "name": "Pixel_241",
         "rawType": "float64",
         "type": "float"
        },
        {
         "name": "Pixel_242",
         "rawType": "float64",
         "type": "float"
        },
        {
         "name": "Pixel_243",
         "rawType": "float64",
         "type": "float"
        },
        {
         "name": "Pixel_244",
         "rawType": "float64",
         "type": "float"
        },
        {
         "name": "Pixel_245",
         "rawType": "float64",
         "type": "float"
        },
        {
         "name": "Pixel_246",
         "rawType": "float64",
         "type": "float"
        },
        {
         "name": "Pixel_247",
         "rawType": "float64",
         "type": "float"
        },
        {
         "name": "Pixel_248",
         "rawType": "float64",
         "type": "float"
        },
        {
         "name": "Pixel_249",
         "rawType": "float64",
         "type": "float"
        },
        {
         "name": "Pixel_250",
         "rawType": "float64",
         "type": "float"
        },
        {
         "name": "Pixel_251",
         "rawType": "float64",
         "type": "float"
        },
        {
         "name": "Pixel_252",
         "rawType": "float64",
         "type": "float"
        },
        {
         "name": "Pixel_253",
         "rawType": "float64",
         "type": "float"
        },
        {
         "name": "Pixel_254",
         "rawType": "float64",
         "type": "float"
        },
        {
         "name": "Pixel_255",
         "rawType": "float64",
         "type": "float"
        },
        {
         "name": "Pixel_256",
         "rawType": "float64",
         "type": "float"
        },
        {
         "name": "Pixel_257",
         "rawType": "float64",
         "type": "float"
        },
        {
         "name": "Pixel_258",
         "rawType": "float64",
         "type": "float"
        },
        {
         "name": "Pixel_259",
         "rawType": "float64",
         "type": "float"
        },
        {
         "name": "Pixel_260",
         "rawType": "float64",
         "type": "float"
        },
        {
         "name": "Pixel_261",
         "rawType": "float64",
         "type": "float"
        },
        {
         "name": "Pixel_262",
         "rawType": "float64",
         "type": "float"
        },
        {
         "name": "Pixel_263",
         "rawType": "float64",
         "type": "float"
        },
        {
         "name": "Pixel_264",
         "rawType": "float64",
         "type": "float"
        },
        {
         "name": "Pixel_265",
         "rawType": "float64",
         "type": "float"
        },
        {
         "name": "Pixel_266",
         "rawType": "float64",
         "type": "float"
        },
        {
         "name": "Pixel_267",
         "rawType": "float64",
         "type": "float"
        },
        {
         "name": "Pixel_268",
         "rawType": "float64",
         "type": "float"
        },
        {
         "name": "Pixel_269",
         "rawType": "float64",
         "type": "float"
        },
        {
         "name": "Pixel_270",
         "rawType": "float64",
         "type": "float"
        },
        {
         "name": "Pixel_271",
         "rawType": "float64",
         "type": "float"
        },
        {
         "name": "Pixel_272",
         "rawType": "float64",
         "type": "float"
        },
        {
         "name": "Pixel_273",
         "rawType": "float64",
         "type": "float"
        },
        {
         "name": "Pixel_274",
         "rawType": "float64",
         "type": "float"
        },
        {
         "name": "Pixel_275",
         "rawType": "float64",
         "type": "float"
        },
        {
         "name": "Pixel_276",
         "rawType": "float64",
         "type": "float"
        },
        {
         "name": "Pixel_277",
         "rawType": "float64",
         "type": "float"
        },
        {
         "name": "Pixel_278",
         "rawType": "float64",
         "type": "float"
        },
        {
         "name": "Pixel_279",
         "rawType": "float64",
         "type": "float"
        },
        {
         "name": "Pixel_280",
         "rawType": "float64",
         "type": "float"
        },
        {
         "name": "Pixel_281",
         "rawType": "float64",
         "type": "float"
        },
        {
         "name": "Pixel_282",
         "rawType": "float64",
         "type": "float"
        },
        {
         "name": "Pixel_283",
         "rawType": "float64",
         "type": "float"
        },
        {
         "name": "Pixel_284",
         "rawType": "float64",
         "type": "float"
        },
        {
         "name": "Pixel_285",
         "rawType": "float64",
         "type": "float"
        },
        {
         "name": "Pixel_286",
         "rawType": "float64",
         "type": "float"
        },
        {
         "name": "Pixel_287",
         "rawType": "float64",
         "type": "float"
        },
        {
         "name": "Pixel_288",
         "rawType": "float64",
         "type": "float"
        },
        {
         "name": "Pixel_289",
         "rawType": "float64",
         "type": "float"
        },
        {
         "name": "Pixel_290",
         "rawType": "float64",
         "type": "float"
        },
        {
         "name": "Pixel_291",
         "rawType": "float64",
         "type": "float"
        },
        {
         "name": "Pixel_292",
         "rawType": "float64",
         "type": "float"
        },
        {
         "name": "Pixel_293",
         "rawType": "float64",
         "type": "float"
        },
        {
         "name": "Pixel_294",
         "rawType": "float64",
         "type": "float"
        },
        {
         "name": "Pixel_295",
         "rawType": "float64",
         "type": "float"
        },
        {
         "name": "Pixel_296",
         "rawType": "float64",
         "type": "float"
        },
        {
         "name": "Pixel_297",
         "rawType": "float64",
         "type": "float"
        },
        {
         "name": "Pixel_298",
         "rawType": "float64",
         "type": "float"
        },
        {
         "name": "Pixel_299",
         "rawType": "float64",
         "type": "float"
        },
        {
         "name": "Pixel_300",
         "rawType": "float64",
         "type": "float"
        },
        {
         "name": "Pixel_301",
         "rawType": "float64",
         "type": "float"
        },
        {
         "name": "Pixel_302",
         "rawType": "float64",
         "type": "float"
        },
        {
         "name": "Pixel_303",
         "rawType": "float64",
         "type": "float"
        },
        {
         "name": "Pixel_304",
         "rawType": "float64",
         "type": "float"
        },
        {
         "name": "Pixel_305",
         "rawType": "float64",
         "type": "float"
        },
        {
         "name": "Pixel_306",
         "rawType": "float64",
         "type": "float"
        },
        {
         "name": "Pixel_307",
         "rawType": "float64",
         "type": "float"
        },
        {
         "name": "Pixel_308",
         "rawType": "float64",
         "type": "float"
        },
        {
         "name": "Pixel_309",
         "rawType": "float64",
         "type": "float"
        },
        {
         "name": "Pixel_310",
         "rawType": "float64",
         "type": "float"
        },
        {
         "name": "Pixel_311",
         "rawType": "float64",
         "type": "float"
        },
        {
         "name": "Pixel_312",
         "rawType": "float64",
         "type": "float"
        },
        {
         "name": "Pixel_313",
         "rawType": "float64",
         "type": "float"
        },
        {
         "name": "Pixel_314",
         "rawType": "float64",
         "type": "float"
        },
        {
         "name": "Pixel_315",
         "rawType": "float64",
         "type": "float"
        },
        {
         "name": "Pixel_316",
         "rawType": "float64",
         "type": "float"
        },
        {
         "name": "Pixel_317",
         "rawType": "float64",
         "type": "float"
        },
        {
         "name": "Pixel_318",
         "rawType": "float64",
         "type": "float"
        },
        {
         "name": "Pixel_319",
         "rawType": "float64",
         "type": "float"
        },
        {
         "name": "Pixel_320",
         "rawType": "float64",
         "type": "float"
        },
        {
         "name": "Pixel_321",
         "rawType": "float64",
         "type": "float"
        },
        {
         "name": "Pixel_322",
         "rawType": "float64",
         "type": "float"
        },
        {
         "name": "Pixel_323",
         "rawType": "float64",
         "type": "float"
        },
        {
         "name": "Pixel_324",
         "rawType": "float64",
         "type": "float"
        },
        {
         "name": "Pixel_325",
         "rawType": "float64",
         "type": "float"
        },
        {
         "name": "Pixel_326",
         "rawType": "float64",
         "type": "float"
        },
        {
         "name": "Pixel_327",
         "rawType": "float64",
         "type": "float"
        },
        {
         "name": "Pixel_328",
         "rawType": "float64",
         "type": "float"
        },
        {
         "name": "Pixel_329",
         "rawType": "float64",
         "type": "float"
        },
        {
         "name": "Pixel_330",
         "rawType": "float64",
         "type": "float"
        },
        {
         "name": "Pixel_331",
         "rawType": "float64",
         "type": "float"
        },
        {
         "name": "Pixel_332",
         "rawType": "float64",
         "type": "float"
        },
        {
         "name": "Pixel_333",
         "rawType": "float64",
         "type": "float"
        },
        {
         "name": "Pixel_334",
         "rawType": "float64",
         "type": "float"
        },
        {
         "name": "Pixel_335",
         "rawType": "float64",
         "type": "float"
        },
        {
         "name": "Pixel_336",
         "rawType": "float64",
         "type": "float"
        },
        {
         "name": "Pixel_337",
         "rawType": "float64",
         "type": "float"
        },
        {
         "name": "Pixel_338",
         "rawType": "float64",
         "type": "float"
        },
        {
         "name": "Pixel_339",
         "rawType": "float64",
         "type": "float"
        },
        {
         "name": "Pixel_340",
         "rawType": "float64",
         "type": "float"
        },
        {
         "name": "Pixel_341",
         "rawType": "float64",
         "type": "float"
        },
        {
         "name": "Pixel_342",
         "rawType": "float64",
         "type": "float"
        },
        {
         "name": "Pixel_343",
         "rawType": "float64",
         "type": "float"
        },
        {
         "name": "Pixel_344",
         "rawType": "float64",
         "type": "float"
        },
        {
         "name": "Pixel_345",
         "rawType": "float64",
         "type": "float"
        },
        {
         "name": "Pixel_346",
         "rawType": "float64",
         "type": "float"
        },
        {
         "name": "Pixel_347",
         "rawType": "float64",
         "type": "float"
        },
        {
         "name": "Pixel_348",
         "rawType": "float64",
         "type": "float"
        },
        {
         "name": "Pixel_349",
         "rawType": "float64",
         "type": "float"
        },
        {
         "name": "Pixel_350",
         "rawType": "float64",
         "type": "float"
        },
        {
         "name": "Pixel_351",
         "rawType": "float64",
         "type": "float"
        },
        {
         "name": "Pixel_352",
         "rawType": "float64",
         "type": "float"
        },
        {
         "name": "Pixel_353",
         "rawType": "float64",
         "type": "float"
        },
        {
         "name": "Pixel_354",
         "rawType": "float64",
         "type": "float"
        },
        {
         "name": "Pixel_355",
         "rawType": "float64",
         "type": "float"
        },
        {
         "name": "Pixel_356",
         "rawType": "float64",
         "type": "float"
        },
        {
         "name": "Pixel_357",
         "rawType": "float64",
         "type": "float"
        },
        {
         "name": "Pixel_358",
         "rawType": "float64",
         "type": "float"
        },
        {
         "name": "Pixel_359",
         "rawType": "float64",
         "type": "float"
        },
        {
         "name": "Pixel_360",
         "rawType": "float64",
         "type": "float"
        },
        {
         "name": "Pixel_361",
         "rawType": "float64",
         "type": "float"
        },
        {
         "name": "Pixel_362",
         "rawType": "float64",
         "type": "float"
        },
        {
         "name": "Pixel_363",
         "rawType": "float64",
         "type": "float"
        },
        {
         "name": "Pixel_364",
         "rawType": "float64",
         "type": "float"
        },
        {
         "name": "Pixel_365",
         "rawType": "float64",
         "type": "float"
        },
        {
         "name": "Pixel_366",
         "rawType": "float64",
         "type": "float"
        },
        {
         "name": "Pixel_367",
         "rawType": "float64",
         "type": "float"
        },
        {
         "name": "Pixel_368",
         "rawType": "float64",
         "type": "float"
        },
        {
         "name": "Pixel_369",
         "rawType": "float64",
         "type": "float"
        },
        {
         "name": "Pixel_370",
         "rawType": "float64",
         "type": "float"
        },
        {
         "name": "Pixel_371",
         "rawType": "float64",
         "type": "float"
        },
        {
         "name": "Pixel_372",
         "rawType": "float64",
         "type": "float"
        },
        {
         "name": "Pixel_373",
         "rawType": "float64",
         "type": "float"
        },
        {
         "name": "Pixel_374",
         "rawType": "float64",
         "type": "float"
        },
        {
         "name": "Pixel_375",
         "rawType": "float64",
         "type": "float"
        },
        {
         "name": "Pixel_376",
         "rawType": "float64",
         "type": "float"
        },
        {
         "name": "Pixel_377",
         "rawType": "float64",
         "type": "float"
        },
        {
         "name": "Pixel_378",
         "rawType": "float64",
         "type": "float"
        },
        {
         "name": "Pixel_379",
         "rawType": "float64",
         "type": "float"
        },
        {
         "name": "Pixel_380",
         "rawType": "float64",
         "type": "float"
        },
        {
         "name": "Pixel_381",
         "rawType": "float64",
         "type": "float"
        },
        {
         "name": "Pixel_382",
         "rawType": "float64",
         "type": "float"
        },
        {
         "name": "Pixel_383",
         "rawType": "float64",
         "type": "float"
        },
        {
         "name": "Pixel_384",
         "rawType": "float64",
         "type": "float"
        },
        {
         "name": "Pixel_385",
         "rawType": "float64",
         "type": "float"
        },
        {
         "name": "Pixel_386",
         "rawType": "float64",
         "type": "float"
        },
        {
         "name": "Pixel_387",
         "rawType": "float64",
         "type": "float"
        },
        {
         "name": "Pixel_388",
         "rawType": "float64",
         "type": "float"
        },
        {
         "name": "Pixel_389",
         "rawType": "float64",
         "type": "float"
        },
        {
         "name": "Pixel_390",
         "rawType": "float64",
         "type": "float"
        },
        {
         "name": "Pixel_391",
         "rawType": "float64",
         "type": "float"
        },
        {
         "name": "Pixel_392",
         "rawType": "float64",
         "type": "float"
        },
        {
         "name": "Pixel_393",
         "rawType": "float64",
         "type": "float"
        },
        {
         "name": "Pixel_394",
         "rawType": "float64",
         "type": "float"
        },
        {
         "name": "Pixel_395",
         "rawType": "float64",
         "type": "float"
        },
        {
         "name": "Pixel_396",
         "rawType": "float64",
         "type": "float"
        },
        {
         "name": "Pixel_397",
         "rawType": "float64",
         "type": "float"
        },
        {
         "name": "Pixel_398",
         "rawType": "float64",
         "type": "float"
        },
        {
         "name": "Pixel_399",
         "rawType": "float64",
         "type": "float"
        },
        {
         "name": "Pixel_400",
         "rawType": "float64",
         "type": "float"
        },
        {
         "name": "Pixel_401",
         "rawType": "float64",
         "type": "float"
        },
        {
         "name": "Pixel_402",
         "rawType": "float64",
         "type": "float"
        },
        {
         "name": "Pixel_403",
         "rawType": "float64",
         "type": "float"
        },
        {
         "name": "Pixel_404",
         "rawType": "float64",
         "type": "float"
        },
        {
         "name": "Pixel_405",
         "rawType": "float64",
         "type": "float"
        },
        {
         "name": "Pixel_406",
         "rawType": "float64",
         "type": "float"
        },
        {
         "name": "Pixel_407",
         "rawType": "float64",
         "type": "float"
        },
        {
         "name": "Pixel_408",
         "rawType": "float64",
         "type": "float"
        },
        {
         "name": "Pixel_409",
         "rawType": "float64",
         "type": "float"
        },
        {
         "name": "Pixel_410",
         "rawType": "float64",
         "type": "float"
        },
        {
         "name": "Pixel_411",
         "rawType": "float64",
         "type": "float"
        },
        {
         "name": "Pixel_412",
         "rawType": "float64",
         "type": "float"
        },
        {
         "name": "Pixel_413",
         "rawType": "float64",
         "type": "float"
        },
        {
         "name": "Pixel_414",
         "rawType": "float64",
         "type": "float"
        },
        {
         "name": "Pixel_415",
         "rawType": "float64",
         "type": "float"
        },
        {
         "name": "Pixel_416",
         "rawType": "float64",
         "type": "float"
        },
        {
         "name": "Pixel_417",
         "rawType": "float64",
         "type": "float"
        },
        {
         "name": "Pixel_418",
         "rawType": "float64",
         "type": "float"
        },
        {
         "name": "Pixel_419",
         "rawType": "float64",
         "type": "float"
        },
        {
         "name": "Pixel_420",
         "rawType": "float64",
         "type": "float"
        },
        {
         "name": "Pixel_421",
         "rawType": "float64",
         "type": "float"
        },
        {
         "name": "Pixel_422",
         "rawType": "float64",
         "type": "float"
        },
        {
         "name": "Pixel_423",
         "rawType": "float64",
         "type": "float"
        },
        {
         "name": "Pixel_424",
         "rawType": "float64",
         "type": "float"
        },
        {
         "name": "Pixel_425",
         "rawType": "float64",
         "type": "float"
        },
        {
         "name": "Pixel_426",
         "rawType": "float64",
         "type": "float"
        },
        {
         "name": "Pixel_427",
         "rawType": "float64",
         "type": "float"
        },
        {
         "name": "Pixel_428",
         "rawType": "float64",
         "type": "float"
        },
        {
         "name": "Pixel_429",
         "rawType": "float64",
         "type": "float"
        },
        {
         "name": "Pixel_430",
         "rawType": "float64",
         "type": "float"
        },
        {
         "name": "Pixel_431",
         "rawType": "float64",
         "type": "float"
        },
        {
         "name": "Pixel_432",
         "rawType": "float64",
         "type": "float"
        },
        {
         "name": "Pixel_433",
         "rawType": "float64",
         "type": "float"
        },
        {
         "name": "Pixel_434",
         "rawType": "float64",
         "type": "float"
        },
        {
         "name": "Pixel_435",
         "rawType": "float64",
         "type": "float"
        },
        {
         "name": "Pixel_436",
         "rawType": "float64",
         "type": "float"
        },
        {
         "name": "Pixel_437",
         "rawType": "float64",
         "type": "float"
        },
        {
         "name": "Pixel_438",
         "rawType": "float64",
         "type": "float"
        },
        {
         "name": "Pixel_439",
         "rawType": "float64",
         "type": "float"
        },
        {
         "name": "Pixel_440",
         "rawType": "float64",
         "type": "float"
        },
        {
         "name": "Pixel_441",
         "rawType": "float64",
         "type": "float"
        },
        {
         "name": "Pixel_442",
         "rawType": "float64",
         "type": "float"
        },
        {
         "name": "Pixel_443",
         "rawType": "float64",
         "type": "float"
        },
        {
         "name": "Pixel_444",
         "rawType": "float64",
         "type": "float"
        },
        {
         "name": "Pixel_445",
         "rawType": "float64",
         "type": "float"
        },
        {
         "name": "Pixel_446",
         "rawType": "float64",
         "type": "float"
        },
        {
         "name": "Pixel_447",
         "rawType": "float64",
         "type": "float"
        },
        {
         "name": "Pixel_448",
         "rawType": "float64",
         "type": "float"
        },
        {
         "name": "Pixel_449",
         "rawType": "float64",
         "type": "float"
        },
        {
         "name": "Pixel_450",
         "rawType": "float64",
         "type": "float"
        },
        {
         "name": "Pixel_451",
         "rawType": "float64",
         "type": "float"
        },
        {
         "name": "Pixel_452",
         "rawType": "float64",
         "type": "float"
        },
        {
         "name": "Pixel_453",
         "rawType": "float64",
         "type": "float"
        },
        {
         "name": "Pixel_454",
         "rawType": "float64",
         "type": "float"
        },
        {
         "name": "Pixel_455",
         "rawType": "float64",
         "type": "float"
        },
        {
         "name": "Pixel_456",
         "rawType": "float64",
         "type": "float"
        },
        {
         "name": "Pixel_457",
         "rawType": "float64",
         "type": "float"
        },
        {
         "name": "Pixel_458",
         "rawType": "float64",
         "type": "float"
        },
        {
         "name": "Pixel_459",
         "rawType": "float64",
         "type": "float"
        },
        {
         "name": "Pixel_460",
         "rawType": "float64",
         "type": "float"
        },
        {
         "name": "Pixel_461",
         "rawType": "float64",
         "type": "float"
        },
        {
         "name": "Pixel_462",
         "rawType": "float64",
         "type": "float"
        },
        {
         "name": "Pixel_463",
         "rawType": "float64",
         "type": "float"
        },
        {
         "name": "Pixel_464",
         "rawType": "float64",
         "type": "float"
        },
        {
         "name": "Pixel_465",
         "rawType": "float64",
         "type": "float"
        },
        {
         "name": "Pixel_466",
         "rawType": "float64",
         "type": "float"
        },
        {
         "name": "Pixel_467",
         "rawType": "float64",
         "type": "float"
        },
        {
         "name": "Pixel_468",
         "rawType": "float64",
         "type": "float"
        },
        {
         "name": "Pixel_469",
         "rawType": "float64",
         "type": "float"
        },
        {
         "name": "Pixel_470",
         "rawType": "float64",
         "type": "float"
        },
        {
         "name": "Pixel_471",
         "rawType": "float64",
         "type": "float"
        },
        {
         "name": "Pixel_472",
         "rawType": "float64",
         "type": "float"
        },
        {
         "name": "Pixel_473",
         "rawType": "float64",
         "type": "float"
        },
        {
         "name": "Pixel_474",
         "rawType": "float64",
         "type": "float"
        },
        {
         "name": "Pixel_475",
         "rawType": "float64",
         "type": "float"
        },
        {
         "name": "Pixel_476",
         "rawType": "float64",
         "type": "float"
        },
        {
         "name": "Pixel_477",
         "rawType": "float64",
         "type": "float"
        },
        {
         "name": "Pixel_478",
         "rawType": "float64",
         "type": "float"
        },
        {
         "name": "Pixel_479",
         "rawType": "float64",
         "type": "float"
        },
        {
         "name": "Pixel_480",
         "rawType": "float64",
         "type": "float"
        },
        {
         "name": "Pixel_481",
         "rawType": "float64",
         "type": "float"
        },
        {
         "name": "Pixel_482",
         "rawType": "float64",
         "type": "float"
        },
        {
         "name": "Pixel_483",
         "rawType": "float64",
         "type": "float"
        },
        {
         "name": "Pixel_484",
         "rawType": "float64",
         "type": "float"
        },
        {
         "name": "Pixel_485",
         "rawType": "float64",
         "type": "float"
        },
        {
         "name": "Pixel_486",
         "rawType": "float64",
         "type": "float"
        },
        {
         "name": "Pixel_487",
         "rawType": "float64",
         "type": "float"
        },
        {
         "name": "Pixel_488",
         "rawType": "float64",
         "type": "float"
        },
        {
         "name": "Pixel_489",
         "rawType": "float64",
         "type": "float"
        },
        {
         "name": "Pixel_490",
         "rawType": "float64",
         "type": "float"
        },
        {
         "name": "Pixel_491",
         "rawType": "float64",
         "type": "float"
        },
        {
         "name": "Pixel_492",
         "rawType": "float64",
         "type": "float"
        },
        {
         "name": "Pixel_493",
         "rawType": "float64",
         "type": "float"
        },
        {
         "name": "Pixel_494",
         "rawType": "float64",
         "type": "float"
        },
        {
         "name": "Pixel_495",
         "rawType": "float64",
         "type": "float"
        },
        {
         "name": "Pixel_496",
         "rawType": "float64",
         "type": "float"
        },
        {
         "name": "Pixel_497",
         "rawType": "float64",
         "type": "float"
        },
        {
         "name": "Pixel_498",
         "rawType": "float64",
         "type": "float"
        },
        {
         "name": "Pixel_499",
         "rawType": "float64",
         "type": "float"
        },
        {
         "name": "Pixel_500",
         "rawType": "float64",
         "type": "float"
        },
        {
         "name": "Pixel_501",
         "rawType": "float64",
         "type": "float"
        },
        {
         "name": "Pixel_502",
         "rawType": "float64",
         "type": "float"
        },
        {
         "name": "Pixel_503",
         "rawType": "float64",
         "type": "float"
        },
        {
         "name": "Pixel_504",
         "rawType": "float64",
         "type": "float"
        },
        {
         "name": "Pixel_505",
         "rawType": "float64",
         "type": "float"
        },
        {
         "name": "Pixel_506",
         "rawType": "float64",
         "type": "float"
        },
        {
         "name": "Pixel_507",
         "rawType": "float64",
         "type": "float"
        },
        {
         "name": "Pixel_508",
         "rawType": "float64",
         "type": "float"
        },
        {
         "name": "Pixel_509",
         "rawType": "float64",
         "type": "float"
        },
        {
         "name": "Pixel_510",
         "rawType": "float64",
         "type": "float"
        },
        {
         "name": "Pixel_511",
         "rawType": "float64",
         "type": "float"
        },
        {
         "name": "Pixel_512",
         "rawType": "float64",
         "type": "float"
        },
        {
         "name": "Pixel_513",
         "rawType": "float64",
         "type": "float"
        },
        {
         "name": "Pixel_514",
         "rawType": "float64",
         "type": "float"
        },
        {
         "name": "Pixel_515",
         "rawType": "float64",
         "type": "float"
        },
        {
         "name": "Pixel_516",
         "rawType": "float64",
         "type": "float"
        },
        {
         "name": "Pixel_517",
         "rawType": "float64",
         "type": "float"
        },
        {
         "name": "Pixel_518",
         "rawType": "float64",
         "type": "float"
        },
        {
         "name": "Pixel_519",
         "rawType": "float64",
         "type": "float"
        },
        {
         "name": "Pixel_520",
         "rawType": "float64",
         "type": "float"
        },
        {
         "name": "Pixel_521",
         "rawType": "float64",
         "type": "float"
        },
        {
         "name": "Pixel_522",
         "rawType": "float64",
         "type": "float"
        },
        {
         "name": "Pixel_523",
         "rawType": "float64",
         "type": "float"
        },
        {
         "name": "Pixel_524",
         "rawType": "float64",
         "type": "float"
        },
        {
         "name": "Pixel_525",
         "rawType": "float64",
         "type": "float"
        },
        {
         "name": "Pixel_526",
         "rawType": "float64",
         "type": "float"
        },
        {
         "name": "Pixel_527",
         "rawType": "float64",
         "type": "float"
        },
        {
         "name": "Pixel_528",
         "rawType": "float64",
         "type": "float"
        },
        {
         "name": "Pixel_529",
         "rawType": "float64",
         "type": "float"
        },
        {
         "name": "Pixel_530",
         "rawType": "float64",
         "type": "float"
        },
        {
         "name": "Pixel_531",
         "rawType": "float64",
         "type": "float"
        },
        {
         "name": "Pixel_532",
         "rawType": "float64",
         "type": "float"
        },
        {
         "name": "Pixel_533",
         "rawType": "float64",
         "type": "float"
        },
        {
         "name": "Pixel_534",
         "rawType": "float64",
         "type": "float"
        },
        {
         "name": "Pixel_535",
         "rawType": "float64",
         "type": "float"
        },
        {
         "name": "Pixel_536",
         "rawType": "float64",
         "type": "float"
        },
        {
         "name": "Pixel_537",
         "rawType": "float64",
         "type": "float"
        },
        {
         "name": "Pixel_538",
         "rawType": "float64",
         "type": "float"
        },
        {
         "name": "Pixel_539",
         "rawType": "float64",
         "type": "float"
        },
        {
         "name": "Pixel_540",
         "rawType": "float64",
         "type": "float"
        },
        {
         "name": "Pixel_541",
         "rawType": "float64",
         "type": "float"
        },
        {
         "name": "Pixel_542",
         "rawType": "float64",
         "type": "float"
        },
        {
         "name": "Pixel_543",
         "rawType": "float64",
         "type": "float"
        },
        {
         "name": "Pixel_544",
         "rawType": "float64",
         "type": "float"
        },
        {
         "name": "Pixel_545",
         "rawType": "float64",
         "type": "float"
        },
        {
         "name": "Pixel_546",
         "rawType": "float64",
         "type": "float"
        },
        {
         "name": "Pixel_547",
         "rawType": "float64",
         "type": "float"
        },
        {
         "name": "Pixel_548",
         "rawType": "float64",
         "type": "float"
        },
        {
         "name": "Pixel_549",
         "rawType": "float64",
         "type": "float"
        },
        {
         "name": "Pixel_550",
         "rawType": "float64",
         "type": "float"
        },
        {
         "name": "Pixel_551",
         "rawType": "float64",
         "type": "float"
        },
        {
         "name": "Pixel_552",
         "rawType": "float64",
         "type": "float"
        },
        {
         "name": "Pixel_553",
         "rawType": "float64",
         "type": "float"
        },
        {
         "name": "Pixel_554",
         "rawType": "float64",
         "type": "float"
        },
        {
         "name": "Pixel_555",
         "rawType": "float64",
         "type": "float"
        },
        {
         "name": "Pixel_556",
         "rawType": "float64",
         "type": "float"
        },
        {
         "name": "Pixel_557",
         "rawType": "float64",
         "type": "float"
        },
        {
         "name": "Pixel_558",
         "rawType": "float64",
         "type": "float"
        },
        {
         "name": "Pixel_559",
         "rawType": "float64",
         "type": "float"
        },
        {
         "name": "Pixel_560",
         "rawType": "float64",
         "type": "float"
        },
        {
         "name": "Pixel_561",
         "rawType": "float64",
         "type": "float"
        },
        {
         "name": "Pixel_562",
         "rawType": "float64",
         "type": "float"
        },
        {
         "name": "Pixel_563",
         "rawType": "float64",
         "type": "float"
        },
        {
         "name": "Pixel_564",
         "rawType": "float64",
         "type": "float"
        },
        {
         "name": "Pixel_565",
         "rawType": "float64",
         "type": "float"
        },
        {
         "name": "Pixel_566",
         "rawType": "float64",
         "type": "float"
        },
        {
         "name": "Pixel_567",
         "rawType": "float64",
         "type": "float"
        },
        {
         "name": "Pixel_568",
         "rawType": "float64",
         "type": "float"
        },
        {
         "name": "Pixel_569",
         "rawType": "float64",
         "type": "float"
        },
        {
         "name": "Pixel_570",
         "rawType": "float64",
         "type": "float"
        },
        {
         "name": "Pixel_571",
         "rawType": "float64",
         "type": "float"
        },
        {
         "name": "Pixel_572",
         "rawType": "float64",
         "type": "float"
        },
        {
         "name": "Pixel_573",
         "rawType": "float64",
         "type": "float"
        },
        {
         "name": "Pixel_574",
         "rawType": "float64",
         "type": "float"
        },
        {
         "name": "Pixel_575",
         "rawType": "float64",
         "type": "float"
        },
        {
         "name": "Pixel_576",
         "rawType": "float64",
         "type": "float"
        },
        {
         "name": "Pixel_577",
         "rawType": "float64",
         "type": "float"
        },
        {
         "name": "Pixel_578",
         "rawType": "float64",
         "type": "float"
        },
        {
         "name": "Pixel_579",
         "rawType": "float64",
         "type": "float"
        },
        {
         "name": "Pixel_580",
         "rawType": "float64",
         "type": "float"
        },
        {
         "name": "Pixel_581",
         "rawType": "float64",
         "type": "float"
        },
        {
         "name": "Pixel_582",
         "rawType": "float64",
         "type": "float"
        },
        {
         "name": "Pixel_583",
         "rawType": "float64",
         "type": "float"
        },
        {
         "name": "Pixel_584",
         "rawType": "float64",
         "type": "float"
        },
        {
         "name": "Pixel_585",
         "rawType": "float64",
         "type": "float"
        },
        {
         "name": "Pixel_586",
         "rawType": "float64",
         "type": "float"
        },
        {
         "name": "Pixel_587",
         "rawType": "float64",
         "type": "float"
        },
        {
         "name": "Pixel_588",
         "rawType": "float64",
         "type": "float"
        },
        {
         "name": "Pixel_589",
         "rawType": "float64",
         "type": "float"
        },
        {
         "name": "Pixel_590",
         "rawType": "float64",
         "type": "float"
        },
        {
         "name": "Pixel_591",
         "rawType": "float64",
         "type": "float"
        },
        {
         "name": "Pixel_592",
         "rawType": "float64",
         "type": "float"
        },
        {
         "name": "Pixel_593",
         "rawType": "float64",
         "type": "float"
        },
        {
         "name": "Pixel_594",
         "rawType": "float64",
         "type": "float"
        },
        {
         "name": "Pixel_595",
         "rawType": "float64",
         "type": "float"
        },
        {
         "name": "Pixel_596",
         "rawType": "float64",
         "type": "float"
        },
        {
         "name": "Pixel_597",
         "rawType": "float64",
         "type": "float"
        },
        {
         "name": "Pixel_598",
         "rawType": "float64",
         "type": "float"
        },
        {
         "name": "Pixel_599",
         "rawType": "float64",
         "type": "float"
        },
        {
         "name": "Pixel_600",
         "rawType": "float64",
         "type": "float"
        },
        {
         "name": "Pixel_601",
         "rawType": "float64",
         "type": "float"
        },
        {
         "name": "Pixel_602",
         "rawType": "float64",
         "type": "float"
        },
        {
         "name": "Pixel_603",
         "rawType": "float64",
         "type": "float"
        },
        {
         "name": "Pixel_604",
         "rawType": "float64",
         "type": "float"
        },
        {
         "name": "Pixel_605",
         "rawType": "float64",
         "type": "float"
        },
        {
         "name": "Pixel_606",
         "rawType": "float64",
         "type": "float"
        },
        {
         "name": "Pixel_607",
         "rawType": "float64",
         "type": "float"
        },
        {
         "name": "Pixel_608",
         "rawType": "float64",
         "type": "float"
        },
        {
         "name": "Pixel_609",
         "rawType": "float64",
         "type": "float"
        },
        {
         "name": "Pixel_610",
         "rawType": "float64",
         "type": "float"
        },
        {
         "name": "Pixel_611",
         "rawType": "float64",
         "type": "float"
        },
        {
         "name": "Pixel_612",
         "rawType": "float64",
         "type": "float"
        },
        {
         "name": "Pixel_613",
         "rawType": "float64",
         "type": "float"
        },
        {
         "name": "Pixel_614",
         "rawType": "float64",
         "type": "float"
        },
        {
         "name": "Pixel_615",
         "rawType": "float64",
         "type": "float"
        },
        {
         "name": "Pixel_616",
         "rawType": "float64",
         "type": "float"
        },
        {
         "name": "Pixel_617",
         "rawType": "float64",
         "type": "float"
        },
        {
         "name": "Pixel_618",
         "rawType": "float64",
         "type": "float"
        },
        {
         "name": "Pixel_619",
         "rawType": "float64",
         "type": "float"
        },
        {
         "name": "Pixel_620",
         "rawType": "float64",
         "type": "float"
        },
        {
         "name": "Pixel_621",
         "rawType": "float64",
         "type": "float"
        },
        {
         "name": "Pixel_622",
         "rawType": "float64",
         "type": "float"
        },
        {
         "name": "Pixel_623",
         "rawType": "float64",
         "type": "float"
        },
        {
         "name": "Pixel_624",
         "rawType": "float64",
         "type": "float"
        },
        {
         "name": "Pixel_625",
         "rawType": "float64",
         "type": "float"
        },
        {
         "name": "Pixel_626",
         "rawType": "float64",
         "type": "float"
        },
        {
         "name": "Pixel_627",
         "rawType": "float64",
         "type": "float"
        },
        {
         "name": "Pixel_628",
         "rawType": "float64",
         "type": "float"
        },
        {
         "name": "Pixel_629",
         "rawType": "float64",
         "type": "float"
        },
        {
         "name": "Pixel_630",
         "rawType": "float64",
         "type": "float"
        },
        {
         "name": "Pixel_631",
         "rawType": "float64",
         "type": "float"
        },
        {
         "name": "Pixel_632",
         "rawType": "float64",
         "type": "float"
        },
        {
         "name": "Pixel_633",
         "rawType": "float64",
         "type": "float"
        },
        {
         "name": "Pixel_634",
         "rawType": "float64",
         "type": "float"
        },
        {
         "name": "Pixel_635",
         "rawType": "float64",
         "type": "float"
        },
        {
         "name": "Pixel_636",
         "rawType": "float64",
         "type": "float"
        },
        {
         "name": "Pixel_637",
         "rawType": "float64",
         "type": "float"
        },
        {
         "name": "Pixel_638",
         "rawType": "float64",
         "type": "float"
        },
        {
         "name": "Pixel_639",
         "rawType": "float64",
         "type": "float"
        },
        {
         "name": "Pixel_640",
         "rawType": "float64",
         "type": "float"
        },
        {
         "name": "Pixel_641",
         "rawType": "float64",
         "type": "float"
        },
        {
         "name": "Pixel_642",
         "rawType": "float64",
         "type": "float"
        },
        {
         "name": "Pixel_643",
         "rawType": "float64",
         "type": "float"
        },
        {
         "name": "Pixel_644",
         "rawType": "float64",
         "type": "float"
        },
        {
         "name": "Pixel_645",
         "rawType": "float64",
         "type": "float"
        },
        {
         "name": "Pixel_646",
         "rawType": "float64",
         "type": "float"
        },
        {
         "name": "Pixel_647",
         "rawType": "float64",
         "type": "float"
        },
        {
         "name": "Pixel_648",
         "rawType": "float64",
         "type": "float"
        },
        {
         "name": "Pixel_649",
         "rawType": "float64",
         "type": "float"
        },
        {
         "name": "Pixel_650",
         "rawType": "float64",
         "type": "float"
        },
        {
         "name": "Pixel_651",
         "rawType": "float64",
         "type": "float"
        },
        {
         "name": "Pixel_652",
         "rawType": "float64",
         "type": "float"
        },
        {
         "name": "Pixel_653",
         "rawType": "float64",
         "type": "float"
        },
        {
         "name": "Pixel_654",
         "rawType": "float64",
         "type": "float"
        },
        {
         "name": "Pixel_655",
         "rawType": "float64",
         "type": "float"
        },
        {
         "name": "Pixel_656",
         "rawType": "float64",
         "type": "float"
        },
        {
         "name": "Pixel_657",
         "rawType": "float64",
         "type": "float"
        },
        {
         "name": "Pixel_658",
         "rawType": "float64",
         "type": "float"
        },
        {
         "name": "Pixel_659",
         "rawType": "float64",
         "type": "float"
        },
        {
         "name": "Pixel_660",
         "rawType": "float64",
         "type": "float"
        },
        {
         "name": "Pixel_661",
         "rawType": "float64",
         "type": "float"
        },
        {
         "name": "Pixel_662",
         "rawType": "float64",
         "type": "float"
        },
        {
         "name": "Pixel_663",
         "rawType": "float64",
         "type": "float"
        },
        {
         "name": "Pixel_664",
         "rawType": "float64",
         "type": "float"
        },
        {
         "name": "Pixel_665",
         "rawType": "float64",
         "type": "float"
        },
        {
         "name": "Pixel_666",
         "rawType": "float64",
         "type": "float"
        },
        {
         "name": "Pixel_667",
         "rawType": "float64",
         "type": "float"
        },
        {
         "name": "Pixel_668",
         "rawType": "float64",
         "type": "float"
        },
        {
         "name": "Pixel_669",
         "rawType": "float64",
         "type": "float"
        },
        {
         "name": "Pixel_670",
         "rawType": "float64",
         "type": "float"
        },
        {
         "name": "Pixel_671",
         "rawType": "float64",
         "type": "float"
        },
        {
         "name": "Pixel_672",
         "rawType": "float64",
         "type": "float"
        },
        {
         "name": "Pixel_673",
         "rawType": "float64",
         "type": "float"
        },
        {
         "name": "Pixel_674",
         "rawType": "float64",
         "type": "float"
        },
        {
         "name": "Pixel_675",
         "rawType": "float64",
         "type": "float"
        },
        {
         "name": "Pixel_676",
         "rawType": "float64",
         "type": "float"
        },
        {
         "name": "Pixel_677",
         "rawType": "float64",
         "type": "float"
        },
        {
         "name": "Pixel_678",
         "rawType": "float64",
         "type": "float"
        },
        {
         "name": "Pixel_679",
         "rawType": "float64",
         "type": "float"
        },
        {
         "name": "Pixel_680",
         "rawType": "float64",
         "type": "float"
        },
        {
         "name": "Pixel_681",
         "rawType": "float64",
         "type": "float"
        },
        {
         "name": "Pixel_682",
         "rawType": "float64",
         "type": "float"
        },
        {
         "name": "Pixel_683",
         "rawType": "float64",
         "type": "float"
        },
        {
         "name": "Pixel_684",
         "rawType": "float64",
         "type": "float"
        },
        {
         "name": "Pixel_685",
         "rawType": "float64",
         "type": "float"
        },
        {
         "name": "Pixel_686",
         "rawType": "float64",
         "type": "float"
        },
        {
         "name": "Pixel_687",
         "rawType": "float64",
         "type": "float"
        },
        {
         "name": "Pixel_688",
         "rawType": "float64",
         "type": "float"
        },
        {
         "name": "Pixel_689",
         "rawType": "float64",
         "type": "float"
        },
        {
         "name": "Pixel_690",
         "rawType": "float64",
         "type": "float"
        },
        {
         "name": "Pixel_691",
         "rawType": "float64",
         "type": "float"
        },
        {
         "name": "Pixel_692",
         "rawType": "float64",
         "type": "float"
        },
        {
         "name": "Pixel_693",
         "rawType": "float64",
         "type": "float"
        },
        {
         "name": "Pixel_694",
         "rawType": "float64",
         "type": "float"
        },
        {
         "name": "Pixel_695",
         "rawType": "float64",
         "type": "float"
        },
        {
         "name": "Pixel_696",
         "rawType": "float64",
         "type": "float"
        },
        {
         "name": "Pixel_697",
         "rawType": "float64",
         "type": "float"
        },
        {
         "name": "Pixel_698",
         "rawType": "float64",
         "type": "float"
        },
        {
         "name": "Pixel_699",
         "rawType": "float64",
         "type": "float"
        },
        {
         "name": "Pixel_700",
         "rawType": "float64",
         "type": "float"
        },
        {
         "name": "Pixel_701",
         "rawType": "float64",
         "type": "float"
        },
        {
         "name": "Pixel_702",
         "rawType": "float64",
         "type": "float"
        },
        {
         "name": "Pixel_703",
         "rawType": "float64",
         "type": "float"
        },
        {
         "name": "Pixel_704",
         "rawType": "float64",
         "type": "float"
        },
        {
         "name": "Pixel_705",
         "rawType": "float64",
         "type": "float"
        },
        {
         "name": "Pixel_706",
         "rawType": "float64",
         "type": "float"
        },
        {
         "name": "Pixel_707",
         "rawType": "float64",
         "type": "float"
        },
        {
         "name": "Pixel_708",
         "rawType": "float64",
         "type": "float"
        },
        {
         "name": "Pixel_709",
         "rawType": "float64",
         "type": "float"
        },
        {
         "name": "Pixel_710",
         "rawType": "float64",
         "type": "float"
        },
        {
         "name": "Pixel_711",
         "rawType": "float64",
         "type": "float"
        },
        {
         "name": "Pixel_712",
         "rawType": "float64",
         "type": "float"
        },
        {
         "name": "Pixel_713",
         "rawType": "float64",
         "type": "float"
        },
        {
         "name": "Pixel_714",
         "rawType": "float64",
         "type": "float"
        },
        {
         "name": "Pixel_715",
         "rawType": "float64",
         "type": "float"
        },
        {
         "name": "Pixel_716",
         "rawType": "float64",
         "type": "float"
        },
        {
         "name": "Pixel_717",
         "rawType": "float64",
         "type": "float"
        },
        {
         "name": "Pixel_718",
         "rawType": "float64",
         "type": "float"
        },
        {
         "name": "Pixel_719",
         "rawType": "float64",
         "type": "float"
        },
        {
         "name": "Pixel_720",
         "rawType": "float64",
         "type": "float"
        },
        {
         "name": "Pixel_721",
         "rawType": "float64",
         "type": "float"
        },
        {
         "name": "Pixel_722",
         "rawType": "float64",
         "type": "float"
        },
        {
         "name": "Pixel_723",
         "rawType": "float64",
         "type": "float"
        },
        {
         "name": "Pixel_724",
         "rawType": "float64",
         "type": "float"
        },
        {
         "name": "Pixel_725",
         "rawType": "float64",
         "type": "float"
        },
        {
         "name": "Pixel_726",
         "rawType": "float64",
         "type": "float"
        },
        {
         "name": "Pixel_727",
         "rawType": "float64",
         "type": "float"
        },
        {
         "name": "Pixel_728",
         "rawType": "float64",
         "type": "float"
        },
        {
         "name": "Pixel_729",
         "rawType": "float64",
         "type": "float"
        },
        {
         "name": "Pixel_730",
         "rawType": "float64",
         "type": "float"
        },
        {
         "name": "Pixel_731",
         "rawType": "float64",
         "type": "float"
        },
        {
         "name": "Pixel_732",
         "rawType": "float64",
         "type": "float"
        },
        {
         "name": "Pixel_733",
         "rawType": "float64",
         "type": "float"
        },
        {
         "name": "Pixel_734",
         "rawType": "float64",
         "type": "float"
        },
        {
         "name": "Pixel_735",
         "rawType": "float64",
         "type": "float"
        },
        {
         "name": "Pixel_736",
         "rawType": "float64",
         "type": "float"
        },
        {
         "name": "Pixel_737",
         "rawType": "float64",
         "type": "float"
        },
        {
         "name": "Pixel_738",
         "rawType": "float64",
         "type": "float"
        },
        {
         "name": "Pixel_739",
         "rawType": "float64",
         "type": "float"
        },
        {
         "name": "Pixel_740",
         "rawType": "float64",
         "type": "float"
        },
        {
         "name": "Pixel_741",
         "rawType": "float64",
         "type": "float"
        },
        {
         "name": "Pixel_742",
         "rawType": "float64",
         "type": "float"
        },
        {
         "name": "Pixel_743",
         "rawType": "float64",
         "type": "float"
        },
        {
         "name": "Pixel_744",
         "rawType": "float64",
         "type": "float"
        },
        {
         "name": "Pixel_745",
         "rawType": "float64",
         "type": "float"
        },
        {
         "name": "Pixel_746",
         "rawType": "float64",
         "type": "float"
        },
        {
         "name": "Pixel_747",
         "rawType": "float64",
         "type": "float"
        },
        {
         "name": "Pixel_748",
         "rawType": "float64",
         "type": "float"
        },
        {
         "name": "Pixel_749",
         "rawType": "float64",
         "type": "float"
        },
        {
         "name": "Pixel_750",
         "rawType": "float64",
         "type": "float"
        },
        {
         "name": "Pixel_751",
         "rawType": "float64",
         "type": "float"
        },
        {
         "name": "Pixel_752",
         "rawType": "float64",
         "type": "float"
        },
        {
         "name": "Pixel_753",
         "rawType": "float64",
         "type": "float"
        },
        {
         "name": "Pixel_754",
         "rawType": "float64",
         "type": "float"
        },
        {
         "name": "Pixel_755",
         "rawType": "float64",
         "type": "float"
        },
        {
         "name": "Pixel_756",
         "rawType": "float64",
         "type": "float"
        },
        {
         "name": "Pixel_757",
         "rawType": "float64",
         "type": "float"
        },
        {
         "name": "Pixel_758",
         "rawType": "float64",
         "type": "float"
        },
        {
         "name": "Pixel_759",
         "rawType": "float64",
         "type": "float"
        },
        {
         "name": "Pixel_760",
         "rawType": "float64",
         "type": "float"
        },
        {
         "name": "Pixel_761",
         "rawType": "float64",
         "type": "float"
        },
        {
         "name": "Pixel_762",
         "rawType": "float64",
         "type": "float"
        },
        {
         "name": "Pixel_763",
         "rawType": "float64",
         "type": "float"
        },
        {
         "name": "Pixel_764",
         "rawType": "float64",
         "type": "float"
        },
        {
         "name": "Pixel_765",
         "rawType": "float64",
         "type": "float"
        },
        {
         "name": "Pixel_766",
         "rawType": "float64",
         "type": "float"
        },
        {
         "name": "Pixel_767",
         "rawType": "float64",
         "type": "float"
        },
        {
         "name": "Pixel_768",
         "rawType": "float64",
         "type": "float"
        },
        {
         "name": "Pixel_769",
         "rawType": "float64",
         "type": "float"
        },
        {
         "name": "Pixel_770",
         "rawType": "float64",
         "type": "float"
        },
        {
         "name": "Pixel_771",
         "rawType": "float64",
         "type": "float"
        },
        {
         "name": "Pixel_772",
         "rawType": "float64",
         "type": "float"
        },
        {
         "name": "Pixel_773",
         "rawType": "float64",
         "type": "float"
        },
        {
         "name": "Pixel_774",
         "rawType": "float64",
         "type": "float"
        },
        {
         "name": "Pixel_775",
         "rawType": "float64",
         "type": "float"
        },
        {
         "name": "Pixel_776",
         "rawType": "float64",
         "type": "float"
        },
        {
         "name": "Pixel_777",
         "rawType": "float64",
         "type": "float"
        },
        {
         "name": "Pixel_778",
         "rawType": "float64",
         "type": "float"
        },
        {
         "name": "Pixel_779",
         "rawType": "float64",
         "type": "float"
        },
        {
         "name": "Pixel_780",
         "rawType": "float64",
         "type": "float"
        },
        {
         "name": "Pixel_781",
         "rawType": "float64",
         "type": "float"
        },
        {
         "name": "Pixel_782",
         "rawType": "float64",
         "type": "float"
        },
        {
         "name": "Pixel_783",
         "rawType": "float64",
         "type": "float"
        }
       ],
       "conversionMethod": "pd.DataFrame",
       "ref": "02a6a06b-399e-4252-b2c4-4d19b258bff1",
       "rows": [
        [
         "0",
         null,
         null,
         null,
         null,
         null,
         null,
         null,
         null,
         null,
         null,
         null,
         null,
         null,
         null,
         null,
         null,
         null,
         null,
         null,
         null,
         null,
         null,
         null,
         null,
         null,
         null,
         null,
         null,
         null,
         null,
         null,
         null,
         null,
         null,
         null,
         null,
         null,
         null,
         null,
         null,
         null,
         null,
         null,
         null,
         null,
         null,
         null,
         null,
         null,
         null,
         null,
         null,
         null,
         null,
         null,
         null,
         null,
         null,
         null,
         null,
         null,
         null,
         null,
         null,
         null,
         null,
         null,
         null,
         null,
         null,
         null,
         null,
         null,
         null,
         null,
         null,
         null,
         null,
         null,
         null,
         null,
         null,
         null,
         null,
         null,
         null,
         null,
         null,
         null,
         null,
         null,
         null,
         null,
         null,
         null,
         null,
         null,
         null,
         null,
         null,
         null,
         null,
         null,
         null,
         null,
         null,
         null,
         null,
         null,
         null,
         null,
         null,
         null,
         null,
         null,
         null,
         null,
         null,
         null,
         null,
         null,
         null,
         null,
         null,
         null,
         null,
         null,
         null,
         null,
         null,
         null,
         null,
         null,
         null,
         null,
         null,
         null,
         null,
         null,
         null,
         null,
         null,
         null,
         null,
         null,
         null,
         null,
         null,
         null,
         null,
         null,
         null,
         null,
         null,
         null,
         null,
         null,
         null,
         null,
         null,
         null,
         null,
         null,
         null,
         null,
         null,
         null,
         null,
         null,
         null,
         null,
         null,
         null,
         null,
         null,
         null,
         null,
         null,
         null,
         null,
         null,
         null,
         null,
         null,
         null,
         null,
         null,
         null,
         null,
         null,
         null,
         null,
         null,
         null,
         null,
         null,
         null,
         null,
         null,
         null,
         null,
         null,
         null,
         null,
         null,
         null,
         null,
         null,
         null,
         null,
         null,
         null,
         null,
         null,
         null,
         null,
         null,
         null,
         null,
         null,
         null,
         null,
         null,
         null,
         null,
         null,
         null,
         null,
         null,
         null,
         null,
         null,
         null,
         null,
         null,
         null,
         null,
         null,
         null,
         null,
         null,
         null,
         null,
         null,
         null,
         null,
         null,
         null,
         null,
         null,
         null,
         null,
         null,
         null,
         null,
         null,
         null,
         null,
         null,
         null,
         null,
         null,
         null,
         null,
         null,
         null,
         null,
         null,
         null,
         null,
         null,
         null,
         null,
         null,
         null,
         null,
         null,
         null,
         null,
         null,
         null,
         null,
         null,
         null,
         null,
         null,
         null,
         null,
         null,
         null,
         null,
         null,
         null,
         null,
         null,
         null,
         null,
         null,
         null,
         null,
         null,
         null,
         null,
         null,
         null,
         null,
         null,
         null,
         null,
         null,
         null,
         null,
         null,
         null,
         null,
         null,
         null,
         null,
         null,
         null,
         null,
         null,
         null,
         null,
         null,
         null,
         null,
         null,
         null,
         null,
         null,
         null,
         null,
         null,
         null,
         null,
         null,
         null,
         null,
         null,
         null,
         null,
         null,
         null,
         null,
         null,
         null,
         null,
         null,
         null,
         null,
         null,
         null,
         null,
         null,
         null,
         null,
         null,
         null,
         null,
         null,
         null,
         null,
         null,
         null,
         null,
         null,
         null,
         null,
         null,
         null,
         null,
         null,
         null,
         null,
         null,
         null,
         null,
         null,
         null,
         null,
         null,
         null,
         null,
         null,
         null,
         null,
         null,
         null,
         null,
         null,
         null,
         null,
         null,
         null,
         null,
         null,
         null,
         null,
         null,
         null,
         null,
         null,
         null,
         null,
         null,
         null,
         null,
         null,
         null,
         null,
         null,
         null,
         null,
         null,
         null,
         null,
         null,
         null,
         null,
         null,
         null,
         null,
         null,
         null,
         null,
         null,
         null,
         null,
         null,
         null,
         null,
         null,
         null,
         null,
         null,
         null,
         null,
         null,
         null,
         null,
         null,
         null,
         null,
         null,
         null,
         null,
         null,
         null,
         null,
         null,
         null,
         null,
         null,
         null,
         null,
         null,
         null,
         null,
         null,
         null,
         null,
         null,
         null,
         null,
         null,
         null,
         null,
         null,
         null,
         null,
         null,
         null,
         null,
         null,
         null,
         null,
         null,
         null,
         null,
         null,
         null,
         null,
         null,
         null,
         null,
         null,
         null,
         null,
         null,
         null,
         null,
         null,
         null,
         null,
         null,
         null,
         null,
         null,
         null,
         null,
         null,
         null,
         null,
         null,
         null,
         null,
         null,
         null,
         null,
         null,
         null,
         null,
         null,
         null,
         null,
         null,
         null,
         null,
         null,
         null,
         null,
         null,
         null,
         null,
         null,
         null,
         null,
         null,
         null,
         null,
         null,
         null,
         null,
         null,
         null,
         null,
         null,
         null,
         null,
         null,
         null,
         null,
         null,
         null,
         null,
         null,
         null,
         null,
         null,
         null,
         null,
         null,
         null,
         null,
         null,
         null,
         null,
         null,
         null,
         null,
         null,
         null,
         null,
         null,
         null,
         null,
         null,
         null,
         null,
         null,
         null,
         null,
         null,
         null,
         null,
         null,
         null,
         null,
         null,
         null,
         null,
         null,
         null,
         null,
         null,
         null,
         null,
         null,
         null,
         null,
         null,
         null,
         null,
         null,
         null,
         null,
         null,
         null,
         null,
         null,
         null,
         null,
         null,
         null,
         null,
         null,
         null,
         null,
         null,
         null,
         null,
         null,
         null,
         null,
         null,
         null,
         null,
         null,
         null,
         null,
         null,
         null,
         null,
         null,
         null,
         null,
         null,
         null,
         null,
         null,
         null,
         null,
         null,
         null,
         null,
         null,
         null,
         null,
         null,
         null,
         null,
         null,
         null,
         null,
         null,
         null,
         null,
         null,
         null,
         null,
         null,
         null,
         null,
         null,
         null,
         null,
         null,
         null,
         null,
         null,
         null,
         null,
         null,
         null,
         null,
         null,
         null,
         null,
         null,
         null,
         null,
         null,
         null,
         null,
         null,
         null,
         null,
         null,
         null,
         null,
         null,
         null,
         null,
         null,
         null,
         null,
         null,
         null,
         null,
         null,
         null,
         null,
         null,
         null,
         null,
         null,
         null,
         null,
         null,
         null,
         null,
         null,
         null,
         null,
         null,
         null,
         null,
         null,
         null,
         null,
         null,
         null,
         null,
         null,
         null,
         null,
         null,
         null,
         null,
         null,
         null,
         null,
         null,
         null,
         null,
         null,
         null,
         null,
         null,
         null,
         null,
         null,
         null,
         null,
         null,
         null,
         null,
         null,
         null,
         null,
         null,
         null,
         null,
         null,
         null,
         null,
         null,
         null,
         null,
         null,
         null,
         null,
         null,
         null,
         null,
         null,
         null,
         null,
         null,
         null,
         null,
         null,
         null,
         null,
         null,
         null,
         null,
         null,
         null,
         null,
         null,
         null,
         null,
         null,
         null,
         null,
         null,
         null,
         null,
         null,
         null,
         null,
         null
        ],
        [
         "1",
         null,
         null,
         null,
         null,
         null,
         null,
         null,
         null,
         null,
         null,
         null,
         null,
         null,
         null,
         null,
         null,
         null,
         null,
         null,
         null,
         null,
         null,
         null,
         null,
         null,
         null,
         null,
         null,
         null,
         null,
         null,
         null,
         null,
         null,
         null,
         null,
         null,
         null,
         null,
         null,
         null,
         null,
         null,
         null,
         null,
         null,
         null,
         null,
         null,
         null,
         null,
         null,
         null,
         null,
         null,
         null,
         null,
         null,
         null,
         null,
         null,
         null,
         null,
         null,
         null,
         null,
         null,
         null,
         null,
         null,
         null,
         null,
         null,
         null,
         null,
         null,
         null,
         null,
         null,
         null,
         null,
         null,
         null,
         null,
         null,
         null,
         null,
         null,
         null,
         null,
         null,
         null,
         null,
         null,
         null,
         null,
         null,
         null,
         null,
         null,
         null,
         null,
         null,
         null,
         null,
         null,
         null,
         null,
         null,
         null,
         null,
         null,
         null,
         null,
         null,
         null,
         null,
         null,
         null,
         null,
         null,
         null,
         null,
         null,
         null,
         null,
         null,
         null,
         null,
         null,
         null,
         null,
         null,
         null,
         null,
         null,
         null,
         null,
         null,
         null,
         null,
         null,
         null,
         null,
         null,
         null,
         null,
         null,
         null,
         null,
         null,
         null,
         null,
         null,
         null,
         null,
         null,
         null,
         null,
         null,
         null,
         null,
         null,
         null,
         null,
         null,
         null,
         null,
         null,
         null,
         null,
         null,
         null,
         null,
         null,
         null,
         null,
         null,
         null,
         null,
         null,
         null,
         null,
         null,
         null,
         null,
         null,
         null,
         null,
         null,
         null,
         null,
         null,
         null,
         null,
         null,
         null,
         null,
         null,
         null,
         null,
         null,
         null,
         null,
         null,
         null,
         null,
         null,
         null,
         null,
         null,
         null,
         null,
         null,
         null,
         null,
         null,
         null,
         null,
         null,
         null,
         null,
         null,
         null,
         null,
         null,
         null,
         null,
         null,
         null,
         null,
         null,
         null,
         null,
         null,
         null,
         null,
         null,
         null,
         null,
         null,
         null,
         null,
         null,
         null,
         null,
         null,
         null,
         null,
         null,
         null,
         null,
         null,
         null,
         null,
         null,
         null,
         null,
         null,
         null,
         null,
         null,
         null,
         null,
         null,
         null,
         null,
         null,
         null,
         null,
         null,
         null,
         null,
         null,
         null,
         null,
         null,
         null,
         null,
         null,
         null,
         null,
         null,
         null,
         null,
         null,
         null,
         null,
         null,
         null,
         null,
         null,
         null,
         null,
         null,
         null,
         null,
         null,
         null,
         null,
         null,
         null,
         null,
         null,
         null,
         null,
         null,
         null,
         null,
         null,
         null,
         null,
         null,
         null,
         null,
         null,
         null,
         null,
         null,
         null,
         null,
         null,
         null,
         null,
         null,
         null,
         null,
         null,
         null,
         null,
         null,
         null,
         null,
         null,
         null,
         null,
         null,
         null,
         null,
         null,
         null,
         null,
         null,
         null,
         null,
         null,
         null,
         null,
         null,
         null,
         null,
         null,
         null,
         null,
         null,
         null,
         null,
         null,
         null,
         null,
         null,
         null,
         null,
         null,
         null,
         null,
         null,
         null,
         null,
         null,
         null,
         null,
         null,
         null,
         null,
         null,
         null,
         null,
         null,
         null,
         null,
         null,
         null,
         null,
         null,
         null,
         null,
         null,
         null,
         null,
         null,
         null,
         null,
         null,
         null,
         null,
         null,
         null,
         null,
         null,
         null,
         null,
         null,
         null,
         null,
         null,
         null,
         null,
         null,
         null,
         null,
         null,
         null,
         null,
         null,
         null,
         null,
         null,
         null,
         null,
         null,
         null,
         null,
         null,
         null,
         null,
         null,
         null,
         null,
         null,
         null,
         null,
         null,
         null,
         null,
         null,
         null,
         null,
         null,
         null,
         null,
         null,
         null,
         null,
         null,
         null,
         null,
         null,
         null,
         null,
         null,
         null,
         null,
         null,
         null,
         null,
         null,
         null,
         null,
         null,
         null,
         null,
         null,
         null,
         null,
         null,
         null,
         null,
         null,
         null,
         null,
         null,
         null,
         null,
         null,
         null,
         null,
         null,
         null,
         null,
         null,
         null,
         null,
         null,
         null,
         null,
         null,
         null,
         null,
         null,
         null,
         null,
         null,
         null,
         null,
         null,
         null,
         null,
         null,
         null,
         null,
         null,
         null,
         null,
         null,
         null,
         null,
         null,
         null,
         null,
         null,
         null,
         null,
         null,
         null,
         null,
         null,
         null,
         null,
         null,
         null,
         null,
         null,
         null,
         null,
         null,
         null,
         null,
         null,
         null,
         null,
         null,
         null,
         null,
         null,
         null,
         null,
         null,
         null,
         null,
         null,
         null,
         null,
         null,
         null,
         null,
         null,
         null,
         null,
         null,
         null,
         null,
         null,
         null,
         null,
         null,
         null,
         null,
         null,
         null,
         null,
         null,
         null,
         null,
         null,
         null,
         null,
         null,
         null,
         null,
         null,
         null,
         null,
         null,
         null,
         null,
         null,
         null,
         null,
         null,
         null,
         null,
         null,
         null,
         null,
         null,
         null,
         null,
         null,
         null,
         null,
         null,
         null,
         null,
         null,
         null,
         null,
         null,
         null,
         null,
         null,
         null,
         null,
         null,
         null,
         null,
         null,
         null,
         null,
         null,
         null,
         null,
         null,
         null,
         null,
         null,
         null,
         null,
         null,
         null,
         null,
         null,
         null,
         null,
         null,
         null,
         null,
         null,
         null,
         null,
         null,
         null,
         null,
         null,
         null,
         null,
         null,
         null,
         null,
         null,
         null,
         null,
         null,
         null,
         null,
         null,
         null,
         null,
         null,
         null,
         null,
         null,
         null,
         null,
         null,
         null,
         null,
         null,
         null,
         null,
         null,
         null,
         null,
         null,
         null,
         null,
         null,
         null,
         null,
         null,
         null,
         null,
         null,
         null,
         null,
         null,
         null,
         null,
         null,
         null,
         null,
         null,
         null,
         null,
         null,
         null,
         null,
         null,
         null,
         null,
         null,
         null,
         null,
         null,
         null,
         null,
         null,
         null,
         null,
         null,
         null,
         null,
         null,
         null,
         null,
         null,
         null,
         null,
         null,
         null,
         null,
         null,
         null,
         null,
         null,
         null,
         null,
         null,
         null,
         null,
         null,
         null,
         null,
         null,
         null,
         null,
         null,
         null,
         null,
         null,
         null,
         null,
         null,
         null,
         null,
         null,
         null,
         null,
         null,
         null,
         null,
         null,
         null,
         null,
         null,
         null,
         null,
         null,
         null,
         null,
         null,
         null,
         null,
         null,
         null,
         null,
         null,
         null,
         null,
         null,
         null,
         null,
         null,
         null,
         null,
         null,
         null,
         null,
         null,
         null,
         null,
         null,
         null,
         null,
         null,
         null,
         null,
         null,
         null,
         null,
         null,
         null,
         null,
         null
        ],
        [
         "2",
         null,
         null,
         null,
         null,
         null,
         null,
         null,
         null,
         null,
         null,
         null,
         null,
         null,
         null,
         null,
         null,
         null,
         null,
         null,
         null,
         null,
         null,
         null,
         null,
         null,
         null,
         null,
         null,
         null,
         null,
         null,
         null,
         null,
         null,
         null,
         null,
         null,
         null,
         null,
         null,
         null,
         null,
         null,
         null,
         null,
         null,
         null,
         null,
         null,
         null,
         null,
         null,
         null,
         null,
         null,
         null,
         null,
         null,
         null,
         null,
         null,
         null,
         null,
         null,
         null,
         null,
         null,
         null,
         null,
         null,
         null,
         null,
         null,
         null,
         null,
         null,
         null,
         null,
         null,
         null,
         null,
         null,
         null,
         null,
         null,
         null,
         null,
         null,
         null,
         null,
         null,
         null,
         null,
         null,
         null,
         null,
         null,
         null,
         null,
         null,
         null,
         null,
         null,
         null,
         null,
         null,
         null,
         null,
         null,
         null,
         null,
         null,
         null,
         null,
         null,
         null,
         null,
         null,
         null,
         null,
         null,
         null,
         null,
         null,
         null,
         null,
         null,
         null,
         null,
         null,
         null,
         null,
         null,
         null,
         null,
         null,
         null,
         null,
         null,
         null,
         null,
         null,
         null,
         null,
         null,
         null,
         null,
         null,
         null,
         null,
         null,
         null,
         null,
         null,
         null,
         null,
         null,
         null,
         null,
         null,
         null,
         null,
         null,
         null,
         null,
         null,
         null,
         null,
         null,
         null,
         null,
         null,
         null,
         null,
         null,
         null,
         null,
         null,
         null,
         null,
         null,
         null,
         null,
         null,
         null,
         null,
         null,
         null,
         null,
         null,
         null,
         null,
         null,
         null,
         null,
         null,
         null,
         null,
         null,
         null,
         null,
         null,
         null,
         null,
         null,
         null,
         null,
         null,
         null,
         null,
         null,
         null,
         null,
         null,
         null,
         null,
         null,
         null,
         null,
         null,
         null,
         null,
         null,
         null,
         null,
         null,
         null,
         null,
         null,
         null,
         null,
         null,
         null,
         null,
         null,
         null,
         null,
         null,
         null,
         null,
         null,
         null,
         null,
         null,
         null,
         null,
         null,
         null,
         null,
         null,
         null,
         null,
         null,
         null,
         null,
         null,
         null,
         null,
         null,
         null,
         null,
         null,
         null,
         null,
         null,
         null,
         null,
         null,
         null,
         null,
         null,
         null,
         null,
         null,
         null,
         null,
         null,
         null,
         null,
         null,
         null,
         null,
         null,
         null,
         null,
         null,
         null,
         null,
         null,
         null,
         null,
         null,
         null,
         null,
         null,
         null,
         null,
         null,
         null,
         null,
         null,
         null,
         null,
         null,
         null,
         null,
         null,
         null,
         null,
         null,
         null,
         null,
         null,
         null,
         null,
         null,
         null,
         null,
         null,
         null,
         null,
         null,
         null,
         null,
         null,
         null,
         null,
         null,
         null,
         null,
         null,
         null,
         null,
         null,
         null,
         null,
         null,
         null,
         null,
         null,
         null,
         null,
         null,
         null,
         null,
         null,
         null,
         null,
         null,
         null,
         null,
         null,
         null,
         null,
         null,
         null,
         null,
         null,
         null,
         null,
         null,
         null,
         null,
         null,
         null,
         null,
         null,
         null,
         null,
         null,
         null,
         null,
         null,
         null,
         null,
         null,
         null,
         null,
         null,
         null,
         null,
         null,
         null,
         null,
         null,
         null,
         null,
         null,
         null,
         null,
         null,
         null,
         null,
         null,
         null,
         null,
         null,
         null,
         null,
         null,
         null,
         null,
         null,
         null,
         null,
         null,
         null,
         null,
         null,
         null,
         null,
         null,
         null,
         null,
         null,
         null,
         null,
         null,
         null,
         null,
         null,
         null,
         null,
         null,
         null,
         null,
         null,
         null,
         null,
         null,
         null,
         null,
         null,
         null,
         null,
         null,
         null,
         null,
         null,
         null,
         null,
         null,
         null,
         null,
         null,
         null,
         null,
         null,
         null,
         null,
         null,
         null,
         null,
         null,
         null,
         null,
         null,
         null,
         null,
         null,
         null,
         null,
         null,
         null,
         null,
         null,
         null,
         null,
         null,
         null,
         null,
         null,
         null,
         null,
         null,
         null,
         null,
         null,
         null,
         null,
         null,
         null,
         null,
         null,
         null,
         null,
         null,
         null,
         null,
         null,
         null,
         null,
         null,
         null,
         null,
         null,
         null,
         null,
         null,
         null,
         null,
         null,
         null,
         null,
         null,
         null,
         null,
         null,
         null,
         null,
         null,
         null,
         null,
         null,
         null,
         null,
         null,
         null,
         null,
         null,
         null,
         null,
         null,
         null,
         null,
         null,
         null,
         null,
         null,
         null,
         null,
         null,
         null,
         null,
         null,
         null,
         null,
         null,
         null,
         null,
         null,
         null,
         null,
         null,
         null,
         null,
         null,
         null,
         null,
         null,
         null,
         null,
         null,
         null,
         null,
         null,
         null,
         null,
         null,
         null,
         null,
         null,
         null,
         null,
         null,
         null,
         null,
         null,
         null,
         null,
         null,
         null,
         null,
         null,
         null,
         null,
         null,
         null,
         null,
         null,
         null,
         null,
         null,
         null,
         null,
         null,
         null,
         null,
         null,
         null,
         null,
         null,
         null,
         null,
         null,
         null,
         null,
         null,
         null,
         null,
         null,
         null,
         null,
         null,
         null,
         null,
         null,
         null,
         null,
         null,
         null,
         null,
         null,
         null,
         null,
         null,
         null,
         null,
         null,
         null,
         null,
         null,
         null,
         null,
         null,
         null,
         null,
         null,
         null,
         null,
         null,
         null,
         null,
         null,
         null,
         null,
         null,
         null,
         null,
         null,
         null,
         null,
         null,
         null,
         null,
         null,
         null,
         null,
         null,
         null,
         null,
         null,
         null,
         null,
         null,
         null,
         null,
         null,
         null,
         null,
         null,
         null,
         null,
         null,
         null,
         null,
         null,
         null,
         null,
         null,
         null,
         null,
         null,
         null,
         null,
         null,
         null,
         null,
         null,
         null,
         null,
         null,
         null,
         null,
         null,
         null,
         null,
         null,
         null,
         null,
         null,
         null,
         null,
         null,
         null,
         null,
         null,
         null,
         null,
         null,
         null,
         null,
         null,
         null,
         null,
         null,
         null,
         null,
         null,
         null,
         null,
         null,
         null,
         null,
         null,
         null,
         null,
         null,
         null,
         null,
         null,
         null,
         null,
         null,
         null,
         null,
         null,
         null,
         null,
         null,
         null,
         null,
         null,
         null,
         null,
         null,
         null,
         null,
         null,
         null,
         null,
         null,
         null,
         null,
         null,
         null,
         null,
         null,
         null,
         null,
         null,
         null,
         null,
         null,
         null,
         null,
         null,
         null,
         null,
         null,
         null,
         null,
         null,
         null,
         null,
         null,
         null,
         null,
         null,
         null,
         null,
         null,
         null,
         null,
         null,
         null,
         null,
         null,
         null,
         null,
         null,
         null,
         null,
         null
        ],
        [
         "3",
         null,
         null,
         null,
         null,
         null,
         null,
         null,
         null,
         null,
         null,
         null,
         null,
         null,
         null,
         null,
         null,
         null,
         null,
         null,
         null,
         null,
         null,
         null,
         null,
         null,
         null,
         null,
         null,
         null,
         null,
         null,
         null,
         null,
         null,
         null,
         null,
         null,
         null,
         null,
         null,
         null,
         null,
         null,
         null,
         null,
         null,
         null,
         null,
         null,
         null,
         null,
         null,
         null,
         null,
         null,
         null,
         null,
         null,
         null,
         null,
         null,
         null,
         null,
         null,
         null,
         null,
         null,
         null,
         null,
         null,
         null,
         null,
         null,
         null,
         null,
         null,
         null,
         null,
         null,
         null,
         null,
         null,
         null,
         null,
         null,
         null,
         null,
         null,
         null,
         null,
         null,
         null,
         null,
         null,
         null,
         null,
         null,
         null,
         null,
         null,
         null,
         null,
         null,
         null,
         null,
         null,
         null,
         null,
         null,
         null,
         null,
         null,
         null,
         null,
         null,
         null,
         null,
         null,
         null,
         null,
         null,
         null,
         null,
         null,
         null,
         null,
         null,
         null,
         null,
         null,
         null,
         null,
         null,
         null,
         null,
         null,
         null,
         null,
         null,
         null,
         null,
         null,
         null,
         null,
         null,
         null,
         null,
         null,
         null,
         null,
         null,
         null,
         null,
         null,
         null,
         null,
         null,
         null,
         null,
         null,
         null,
         null,
         null,
         null,
         null,
         null,
         null,
         null,
         null,
         null,
         null,
         null,
         null,
         null,
         null,
         null,
         null,
         null,
         null,
         null,
         null,
         null,
         null,
         null,
         null,
         null,
         null,
         null,
         null,
         null,
         null,
         null,
         null,
         null,
         null,
         null,
         null,
         null,
         null,
         null,
         null,
         null,
         null,
         null,
         null,
         null,
         null,
         null,
         null,
         null,
         null,
         null,
         null,
         null,
         null,
         null,
         null,
         null,
         null,
         null,
         null,
         null,
         null,
         null,
         null,
         null,
         null,
         null,
         null,
         null,
         null,
         null,
         null,
         null,
         null,
         null,
         null,
         null,
         null,
         null,
         null,
         null,
         null,
         null,
         null,
         null,
         null,
         null,
         null,
         null,
         null,
         null,
         null,
         null,
         null,
         null,
         null,
         null,
         null,
         null,
         null,
         null,
         null,
         null,
         null,
         null,
         null,
         null,
         null,
         null,
         null,
         null,
         null,
         null,
         null,
         null,
         null,
         null,
         null,
         null,
         null,
         null,
         null,
         null,
         null,
         null,
         null,
         null,
         null,
         null,
         null,
         null,
         null,
         null,
         null,
         null,
         null,
         null,
         null,
         null,
         null,
         null,
         null,
         null,
         null,
         null,
         null,
         null,
         null,
         null,
         null,
         null,
         null,
         null,
         null,
         null,
         null,
         null,
         null,
         null,
         null,
         null,
         null,
         null,
         null,
         null,
         null,
         null,
         null,
         null,
         null,
         null,
         null,
         null,
         null,
         null,
         null,
         null,
         null,
         null,
         null,
         null,
         null,
         null,
         null,
         null,
         null,
         null,
         null,
         null,
         null,
         null,
         null,
         null,
         null,
         null,
         null,
         null,
         null,
         null,
         null,
         null,
         null,
         null,
         null,
         null,
         null,
         null,
         null,
         null,
         null,
         null,
         null,
         null,
         null,
         null,
         null,
         null,
         null,
         null,
         null,
         null,
         null,
         null,
         null,
         null,
         null,
         null,
         null,
         null,
         null,
         null,
         null,
         null,
         null,
         null,
         null,
         null,
         null,
         null,
         null,
         null,
         null,
         null,
         null,
         null,
         null,
         null,
         null,
         null,
         null,
         null,
         null,
         null,
         null,
         null,
         null,
         null,
         null,
         null,
         null,
         null,
         null,
         null,
         null,
         null,
         null,
         null,
         null,
         null,
         null,
         null,
         null,
         null,
         null,
         null,
         null,
         null,
         null,
         null,
         null,
         null,
         null,
         null,
         null,
         null,
         null,
         null,
         null,
         null,
         null,
         null,
         null,
         null,
         null,
         null,
         null,
         null,
         null,
         null,
         null,
         null,
         null,
         null,
         null,
         null,
         null,
         null,
         null,
         null,
         null,
         null,
         null,
         null,
         null,
         null,
         null,
         null,
         null,
         null,
         null,
         null,
         null,
         null,
         null,
         null,
         null,
         null,
         null,
         null,
         null,
         null,
         null,
         null,
         null,
         null,
         null,
         null,
         null,
         null,
         null,
         null,
         null,
         null,
         null,
         null,
         null,
         null,
         null,
         null,
         null,
         null,
         null,
         null,
         null,
         null,
         null,
         null,
         null,
         null,
         null,
         null,
         null,
         null,
         null,
         null,
         null,
         null,
         null,
         null,
         null,
         null,
         null,
         null,
         null,
         null,
         null,
         null,
         null,
         null,
         null,
         null,
         null,
         null,
         null,
         null,
         null,
         null,
         null,
         null,
         null,
         null,
         null,
         null,
         null,
         null,
         null,
         null,
         null,
         null,
         null,
         null,
         null,
         null,
         null,
         null,
         null,
         null,
         null,
         null,
         null,
         null,
         null,
         null,
         null,
         null,
         null,
         null,
         null,
         null,
         null,
         null,
         null,
         null,
         null,
         null,
         null,
         null,
         null,
         null,
         null,
         null,
         null,
         null,
         null,
         null,
         null,
         null,
         null,
         null,
         null,
         null,
         null,
         null,
         null,
         null,
         null,
         null,
         null,
         null,
         null,
         null,
         null,
         null,
         null,
         null,
         null,
         null,
         null,
         null,
         null,
         null,
         null,
         null,
         null,
         null,
         null,
         null,
         null,
         null,
         null,
         null,
         null,
         null,
         null,
         null,
         null,
         null,
         null,
         null,
         null,
         null,
         null,
         null,
         null,
         null,
         null,
         null,
         null,
         null,
         null,
         null,
         null,
         null,
         null,
         null,
         null,
         null,
         null,
         null,
         null,
         null,
         null,
         null,
         null,
         null,
         null,
         null,
         null,
         null,
         null,
         null,
         null,
         null,
         null,
         null,
         null,
         null,
         null,
         null,
         null,
         null,
         null,
         null,
         null,
         null,
         null,
         null,
         null,
         null,
         null,
         null,
         null,
         null,
         null,
         null,
         null,
         null,
         null,
         null,
         null,
         null,
         null,
         null,
         null,
         null,
         null,
         null,
         null,
         null,
         null,
         null,
         null,
         null,
         null,
         null,
         null,
         null,
         null,
         null,
         null,
         null,
         null,
         null,
         null,
         null,
         null,
         null,
         null,
         null,
         null,
         null,
         null,
         null,
         null,
         null,
         null,
         null,
         null,
         null,
         null,
         null,
         null,
         null,
         null,
         null,
         null,
         null,
         null,
         null,
         null,
         null,
         null,
         null,
         null,
         null,
         null,
         null,
         null,
         null,
         null,
         null,
         null,
         null,
         null,
         null,
         null,
         null,
         null,
         null,
         null,
         null,
         null,
         null,
         null,
         null,
         null,
         null,
         null,
         null,
         null,
         null,
         null,
         null
        ],
        [
         "4",
         null,
         null,
         null,
         null,
         null,
         null,
         null,
         null,
         null,
         null,
         null,
         null,
         null,
         null,
         null,
         null,
         null,
         null,
         null,
         null,
         null,
         null,
         null,
         null,
         null,
         null,
         null,
         null,
         null,
         null,
         null,
         null,
         null,
         null,
         null,
         null,
         null,
         null,
         null,
         null,
         null,
         null,
         null,
         null,
         null,
         null,
         null,
         null,
         null,
         null,
         null,
         null,
         null,
         null,
         null,
         null,
         null,
         null,
         null,
         null,
         null,
         null,
         null,
         null,
         null,
         null,
         null,
         null,
         null,
         null,
         null,
         null,
         null,
         null,
         null,
         null,
         null,
         null,
         null,
         null,
         null,
         null,
         null,
         null,
         null,
         null,
         null,
         null,
         null,
         null,
         null,
         null,
         null,
         null,
         null,
         null,
         null,
         null,
         null,
         null,
         null,
         null,
         null,
         null,
         null,
         null,
         null,
         null,
         null,
         null,
         null,
         null,
         null,
         null,
         null,
         null,
         null,
         null,
         null,
         null,
         null,
         null,
         null,
         null,
         null,
         null,
         null,
         null,
         null,
         null,
         null,
         null,
         null,
         null,
         null,
         null,
         null,
         null,
         null,
         null,
         null,
         null,
         null,
         null,
         null,
         null,
         null,
         null,
         null,
         null,
         null,
         null,
         null,
         null,
         null,
         null,
         null,
         null,
         null,
         null,
         null,
         null,
         null,
         null,
         null,
         null,
         null,
         null,
         null,
         null,
         null,
         null,
         null,
         null,
         null,
         null,
         null,
         null,
         null,
         null,
         null,
         null,
         null,
         null,
         null,
         null,
         null,
         null,
         null,
         null,
         null,
         null,
         null,
         null,
         null,
         null,
         null,
         null,
         null,
         null,
         null,
         null,
         null,
         null,
         null,
         null,
         null,
         null,
         null,
         null,
         null,
         null,
         null,
         null,
         null,
         null,
         null,
         null,
         null,
         null,
         null,
         null,
         null,
         null,
         null,
         null,
         null,
         null,
         null,
         null,
         null,
         null,
         null,
         null,
         null,
         null,
         null,
         null,
         null,
         null,
         null,
         null,
         null,
         null,
         null,
         null,
         null,
         null,
         null,
         null,
         null,
         null,
         null,
         null,
         null,
         null,
         null,
         null,
         null,
         null,
         null,
         null,
         null,
         null,
         null,
         null,
         null,
         null,
         null,
         null,
         null,
         null,
         null,
         null,
         null,
         null,
         null,
         null,
         null,
         null,
         null,
         null,
         null,
         null,
         null,
         null,
         null,
         null,
         null,
         null,
         null,
         null,
         null,
         null,
         null,
         null,
         null,
         null,
         null,
         null,
         null,
         null,
         null,
         null,
         null,
         null,
         null,
         null,
         null,
         null,
         null,
         null,
         null,
         null,
         null,
         null,
         null,
         null,
         null,
         null,
         null,
         null,
         null,
         null,
         null,
         null,
         null,
         null,
         null,
         null,
         null,
         null,
         null,
         null,
         null,
         null,
         null,
         null,
         null,
         null,
         null,
         null,
         null,
         null,
         null,
         null,
         null,
         null,
         null,
         null,
         null,
         null,
         null,
         null,
         null,
         null,
         null,
         null,
         null,
         null,
         null,
         null,
         null,
         null,
         null,
         null,
         null,
         null,
         null,
         null,
         null,
         null,
         null,
         null,
         null,
         null,
         null,
         null,
         null,
         null,
         null,
         null,
         null,
         null,
         null,
         null,
         null,
         null,
         null,
         null,
         null,
         null,
         null,
         null,
         null,
         null,
         null,
         null,
         null,
         null,
         null,
         null,
         null,
         null,
         null,
         null,
         null,
         null,
         null,
         null,
         null,
         null,
         null,
         null,
         null,
         null,
         null,
         null,
         null,
         null,
         null,
         null,
         null,
         null,
         null,
         null,
         null,
         null,
         null,
         null,
         null,
         null,
         null,
         null,
         null,
         null,
         null,
         null,
         null,
         null,
         null,
         null,
         null,
         null,
         null,
         null,
         null,
         null,
         null,
         null,
         null,
         null,
         null,
         null,
         null,
         null,
         null,
         null,
         null,
         null,
         null,
         null,
         null,
         null,
         null,
         null,
         null,
         null,
         null,
         null,
         null,
         null,
         null,
         null,
         null,
         null,
         null,
         null,
         null,
         null,
         null,
         null,
         null,
         null,
         null,
         null,
         null,
         null,
         null,
         null,
         null,
         null,
         null,
         null,
         null,
         null,
         null,
         null,
         null,
         null,
         null,
         null,
         null,
         null,
         null,
         null,
         null,
         null,
         null,
         null,
         null,
         null,
         null,
         null,
         null,
         null,
         null,
         null,
         null,
         null,
         null,
         null,
         null,
         null,
         null,
         null,
         null,
         null,
         null,
         null,
         null,
         null,
         null,
         null,
         null,
         null,
         null,
         null,
         null,
         null,
         null,
         null,
         null,
         null,
         null,
         null,
         null,
         null,
         null,
         null,
         null,
         null,
         null,
         null,
         null,
         null,
         null,
         null,
         null,
         null,
         null,
         null,
         null,
         null,
         null,
         null,
         null,
         null,
         null,
         null,
         null,
         null,
         null,
         null,
         null,
         null,
         null,
         null,
         null,
         null,
         null,
         null,
         null,
         null,
         null,
         null,
         null,
         null,
         null,
         null,
         null,
         null,
         null,
         null,
         null,
         null,
         null,
         null,
         null,
         null,
         null,
         null,
         null,
         null,
         null,
         null,
         null,
         null,
         null,
         null,
         null,
         null,
         null,
         null,
         null,
         null,
         null,
         null,
         null,
         null,
         null,
         null,
         null,
         null,
         null,
         null,
         null,
         null,
         null,
         null,
         null,
         null,
         null,
         null,
         null,
         null,
         null,
         null,
         null,
         null,
         null,
         null,
         null,
         null,
         null,
         null,
         null,
         null,
         null,
         null,
         null,
         null,
         null,
         null,
         null,
         null,
         null,
         null,
         null,
         null,
         null,
         null,
         null,
         null,
         null,
         null,
         null,
         null,
         null,
         null,
         null,
         null,
         null,
         null,
         null,
         null,
         null,
         null,
         null,
         null,
         null,
         null,
         null,
         null,
         null,
         null,
         null,
         null,
         null,
         null,
         null,
         null,
         null,
         null,
         null,
         null,
         null,
         null,
         null,
         null,
         null,
         null,
         null,
         null,
         null,
         null,
         null,
         null,
         null,
         null,
         null,
         null,
         null,
         null,
         null,
         null,
         null,
         null,
         null,
         null,
         null,
         null,
         null,
         null,
         null,
         null,
         null,
         null,
         null,
         null,
         null,
         null,
         null,
         null,
         null,
         null,
         null,
         null,
         null,
         null,
         null,
         null,
         null,
         null,
         null,
         null,
         null,
         null,
         null,
         null,
         null,
         null,
         null,
         null,
         null,
         null,
         null,
         null,
         null,
         null,
         null,
         null,
         null,
         null,
         null,
         null,
         null,
         null,
         null,
         null,
         null,
         null,
         null,
         null,
         null,
         null,
         null,
         null,
         null,
         null,
         null,
         null,
         null,
         null
        ]
       ],
       "shape": {
        "columns": 784,
        "rows": 5
       }
      },
      "text/html": [
       "<div>\n",
       "<style scoped>\n",
       "    .dataframe tbody tr th:only-of-type {\n",
       "        vertical-align: middle;\n",
       "    }\n",
       "\n",
       "    .dataframe tbody tr th {\n",
       "        vertical-align: top;\n",
       "    }\n",
       "\n",
       "    .dataframe thead th {\n",
       "        text-align: right;\n",
       "    }\n",
       "</style>\n",
       "<table border=\"1\" class=\"dataframe\">\n",
       "  <thead>\n",
       "    <tr style=\"text-align: right;\">\n",
       "      <th></th>\n",
       "      <th>Pixel_0</th>\n",
       "      <th>Pixel_1</th>\n",
       "      <th>Pixel_2</th>\n",
       "      <th>Pixel_3</th>\n",
       "      <th>Pixel_4</th>\n",
       "      <th>Pixel_5</th>\n",
       "      <th>Pixel_6</th>\n",
       "      <th>Pixel_7</th>\n",
       "      <th>Pixel_8</th>\n",
       "      <th>Pixel_9</th>\n",
       "      <th>...</th>\n",
       "      <th>Pixel_774</th>\n",
       "      <th>Pixel_775</th>\n",
       "      <th>Pixel_776</th>\n",
       "      <th>Pixel_777</th>\n",
       "      <th>Pixel_778</th>\n",
       "      <th>Pixel_779</th>\n",
       "      <th>Pixel_780</th>\n",
       "      <th>Pixel_781</th>\n",
       "      <th>Pixel_782</th>\n",
       "      <th>Pixel_783</th>\n",
       "    </tr>\n",
       "  </thead>\n",
       "  <tbody>\n",
       "    <tr>\n",
       "      <th>0</th>\n",
       "      <td>NaN</td>\n",
       "      <td>NaN</td>\n",
       "      <td>NaN</td>\n",
       "      <td>NaN</td>\n",
       "      <td>NaN</td>\n",
       "      <td>NaN</td>\n",
       "      <td>NaN</td>\n",
       "      <td>NaN</td>\n",
       "      <td>NaN</td>\n",
       "      <td>NaN</td>\n",
       "      <td>...</td>\n",
       "      <td>NaN</td>\n",
       "      <td>NaN</td>\n",
       "      <td>NaN</td>\n",
       "      <td>NaN</td>\n",
       "      <td>NaN</td>\n",
       "      <td>NaN</td>\n",
       "      <td>NaN</td>\n",
       "      <td>NaN</td>\n",
       "      <td>NaN</td>\n",
       "      <td>NaN</td>\n",
       "    </tr>\n",
       "    <tr>\n",
       "      <th>1</th>\n",
       "      <td>NaN</td>\n",
       "      <td>NaN</td>\n",
       "      <td>NaN</td>\n",
       "      <td>NaN</td>\n",
       "      <td>NaN</td>\n",
       "      <td>NaN</td>\n",
       "      <td>NaN</td>\n",
       "      <td>NaN</td>\n",
       "      <td>NaN</td>\n",
       "      <td>NaN</td>\n",
       "      <td>...</td>\n",
       "      <td>NaN</td>\n",
       "      <td>NaN</td>\n",
       "      <td>NaN</td>\n",
       "      <td>NaN</td>\n",
       "      <td>NaN</td>\n",
       "      <td>NaN</td>\n",
       "      <td>NaN</td>\n",
       "      <td>NaN</td>\n",
       "      <td>NaN</td>\n",
       "      <td>NaN</td>\n",
       "    </tr>\n",
       "    <tr>\n",
       "      <th>2</th>\n",
       "      <td>NaN</td>\n",
       "      <td>NaN</td>\n",
       "      <td>NaN</td>\n",
       "      <td>NaN</td>\n",
       "      <td>NaN</td>\n",
       "      <td>NaN</td>\n",
       "      <td>NaN</td>\n",
       "      <td>NaN</td>\n",
       "      <td>NaN</td>\n",
       "      <td>NaN</td>\n",
       "      <td>...</td>\n",
       "      <td>NaN</td>\n",
       "      <td>NaN</td>\n",
       "      <td>NaN</td>\n",
       "      <td>NaN</td>\n",
       "      <td>NaN</td>\n",
       "      <td>NaN</td>\n",
       "      <td>NaN</td>\n",
       "      <td>NaN</td>\n",
       "      <td>NaN</td>\n",
       "      <td>NaN</td>\n",
       "    </tr>\n",
       "    <tr>\n",
       "      <th>3</th>\n",
       "      <td>NaN</td>\n",
       "      <td>NaN</td>\n",
       "      <td>NaN</td>\n",
       "      <td>NaN</td>\n",
       "      <td>NaN</td>\n",
       "      <td>NaN</td>\n",
       "      <td>NaN</td>\n",
       "      <td>NaN</td>\n",
       "      <td>NaN</td>\n",
       "      <td>NaN</td>\n",
       "      <td>...</td>\n",
       "      <td>NaN</td>\n",
       "      <td>NaN</td>\n",
       "      <td>NaN</td>\n",
       "      <td>NaN</td>\n",
       "      <td>NaN</td>\n",
       "      <td>NaN</td>\n",
       "      <td>NaN</td>\n",
       "      <td>NaN</td>\n",
       "      <td>NaN</td>\n",
       "      <td>NaN</td>\n",
       "    </tr>\n",
       "    <tr>\n",
       "      <th>4</th>\n",
       "      <td>NaN</td>\n",
       "      <td>NaN</td>\n",
       "      <td>NaN</td>\n",
       "      <td>NaN</td>\n",
       "      <td>NaN</td>\n",
       "      <td>NaN</td>\n",
       "      <td>NaN</td>\n",
       "      <td>NaN</td>\n",
       "      <td>NaN</td>\n",
       "      <td>NaN</td>\n",
       "      <td>...</td>\n",
       "      <td>NaN</td>\n",
       "      <td>NaN</td>\n",
       "      <td>NaN</td>\n",
       "      <td>NaN</td>\n",
       "      <td>NaN</td>\n",
       "      <td>NaN</td>\n",
       "      <td>NaN</td>\n",
       "      <td>NaN</td>\n",
       "      <td>NaN</td>\n",
       "      <td>NaN</td>\n",
       "    </tr>\n",
       "  </tbody>\n",
       "</table>\n",
       "<p>5 rows × 784 columns</p>\n",
       "</div>"
      ],
      "text/plain": [
       "   Pixel_0  Pixel_1  Pixel_2  Pixel_3  Pixel_4  Pixel_5  Pixel_6  Pixel_7  \\\n",
       "0      NaN      NaN      NaN      NaN      NaN      NaN      NaN      NaN   \n",
       "1      NaN      NaN      NaN      NaN      NaN      NaN      NaN      NaN   \n",
       "2      NaN      NaN      NaN      NaN      NaN      NaN      NaN      NaN   \n",
       "3      NaN      NaN      NaN      NaN      NaN      NaN      NaN      NaN   \n",
       "4      NaN      NaN      NaN      NaN      NaN      NaN      NaN      NaN   \n",
       "\n",
       "   Pixel_8  Pixel_9  ...  Pixel_774  Pixel_775  Pixel_776  Pixel_777  \\\n",
       "0      NaN      NaN  ...        NaN        NaN        NaN        NaN   \n",
       "1      NaN      NaN  ...        NaN        NaN        NaN        NaN   \n",
       "2      NaN      NaN  ...        NaN        NaN        NaN        NaN   \n",
       "3      NaN      NaN  ...        NaN        NaN        NaN        NaN   \n",
       "4      NaN      NaN  ...        NaN        NaN        NaN        NaN   \n",
       "\n",
       "   Pixel_778  Pixel_779  Pixel_780  Pixel_781  Pixel_782  Pixel_783  \n",
       "0        NaN        NaN        NaN        NaN        NaN        NaN  \n",
       "1        NaN        NaN        NaN        NaN        NaN        NaN  \n",
       "2        NaN        NaN        NaN        NaN        NaN        NaN  \n",
       "3        NaN        NaN        NaN        NaN        NaN        NaN  \n",
       "4        NaN        NaN        NaN        NaN        NaN        NaN  \n",
       "\n",
       "[5 rows x 784 columns]"
      ]
     },
     "metadata": {},
     "output_type": "display_data"
    }
   ],
   "source": [
    "display(df.head())"
   ]
  },
  {
   "cell_type": "code",
   "execution_count": 4,
   "metadata": {},
   "outputs": [
    {
     "data": {
      "text/plain": [
       "0    5\n",
       "1    0\n",
       "2    4\n",
       "3    1\n",
       "4    9\n",
       "Name: class, dtype: category\n",
       "Categories (10, object): ['0', '1', '2', '3', ..., '6', '7', '8', '9']"
      ]
     },
     "execution_count": 4,
     "metadata": {},
     "output_type": "execute_result"
    }
   ],
   "source": [
    "y.head()"
   ]
  }
 ],
 "metadata": {
  "kernelspec": {
   "display_name": "base",
   "language": "python",
   "name": "python3"
  },
  "language_info": {
   "codemirror_mode": {
    "name": "ipython",
    "version": 3
   },
   "file_extension": ".py",
   "mimetype": "text/x-python",
   "name": "python",
   "nbconvert_exporter": "python",
   "pygments_lexer": "ipython3",
   "version": "3.12.2"
  }
 },
 "nbformat": 4,
 "nbformat_minor": 2
}
