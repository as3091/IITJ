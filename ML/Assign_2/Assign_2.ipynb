{
  "cells": [
    {
      "cell_type": "markdown",
      "metadata": {
        "colab_type": "text",
        "id": "view-in-github"
      },
      "source": [
        "<a href=\"https://colab.research.google.com/github/as3091/IITJ/blob/ML_Assign/ML/Assign_2/Assign_2.ipynb\" target=\"_parent\"><img src=\"https://colab.research.google.com/assets/colab-badge.svg\" alt=\"Open In Colab\"/></a>"
      ]
    },
    {
      "cell_type": "markdown",
      "metadata": {
        "id": "C4H9-TYwzwgk"
      },
      "source": [
        "Q3: Implementation of Neural Networks from Scratch Using NumPy and Comparison with Sklearn (20 marks):\n",
        "  \n",
        "    1. Load and preprocess the MNIST Digits Dataset. (3 marks)\n",
        "    2. Implement a neural network with one input layer, one hidden layer, and one output layer using NumPy. (5 marks)\n",
        "    3. Train the neural network with various hyperparameters (e.g., learning rate, number of hidden nodes). (3 marks)\n",
        "    4. Evaluate the performance of the neural network on the testing set. (2 marks)\n",
        "    5. Implement the same neural network using sklearn and compare the results with the NumPy implementation. (4 marks)\n",
        "    6. Plot the training and validation loss/accuracy curves (for both experiments). (3 marks)\n",
        "\n"
      ]
    },
    {
      "cell_type": "code",
      "execution_count": 1,
      "metadata": {
        "id": "5fi7HVHozwgm"
      },
      "outputs": [],
      "source": [
        "import pandas as pd\n",
        "import numpy as np\n",
        "from IPython.display import display, HTML\n",
        "import matplotlib.pyplot as plt\n",
        "from sklearn.model_selection import train_test_split, GridSearchCV\n",
        "import warnings,gc,sys, random\n",
        "warnings.filterwarnings('ignore')\n",
        "from sklearn.preprocessing import StandardScaler\n",
        "from sklearn.metrics import confusion_matrix,ConfusionMatrixDisplay, classification_report, accuracy_score\n",
        "from sklearn.pipeline import Pipeline\n",
        "from tqdm import tqdm\n",
        "from sklearn.neural_network import MLPClassifier\n",
        "from pprint import pprint\n",
        "np.random.seed(42)"
      ]
    },
    {
      "cell_type": "markdown",
      "metadata": {
        "id": "_cjAptKG55vH"
      },
      "source": [
        "# 1 Load & Preprocess"
      ]
    },
    {
      "cell_type": "markdown",
      "metadata": {
        "id": "kR10sU7-5jLw"
      },
      "source": [
        "1. Load and preprocess the MNIST Digits Dataset. (3 marks)"
      ]
    },
    {
      "cell_type": "code",
      "execution_count": 2,
      "metadata": {
        "id": "D0iyz9Erzwgn"
      },
      "outputs": [],
      "source": [
        "while True:\n",
        "    try:\n",
        "        mnist_784_df = pd.read_csv(\"mnist_784.csv\")\n",
        "        break\n",
        "    except FileNotFoundError:\n",
        "        from sklearn.datasets import fetch_openml\n",
        "\n",
        "        X, y = fetch_openml('mnist_784', return_X_y=True)\n",
        "        X[\"Y\"] = y\n",
        "        X.to_csv(\"mnist_784.csv\",index=False,header=True)\n",
        "        del X,y\n",
        "# %%script echo skipping"
      ]
    },
    {
      "cell_type": "code",
      "execution_count": 3,
      "metadata": {
        "id": "IXEsaD_Szwgo"
      },
      "outputs": [],
      "source": [
        "X = mnist_784_df.drop(columns=\"Y\").values.astype(np.float32) / 255.0\n",
        "\n",
        "#dropping target column and converting all numbers bwtween 0-255 to 0-1\n",
        "Y = mnist_784_df[\"Y\"].values\n",
        "\n",
        "IL_n = mnist_784_df.shape[-1]-1\n",
        "n_neurons_HL = int(np.sqrt(IL_n-1))\n",
        "#setting number of neurons in hidden layer to be sqrt of size of the input layer"
      ]
    },
    {
      "cell_type": "code",
      "execution_count": 4,
      "metadata": {
        "id": "svaq-NFAzwgo"
      },
      "outputs": [],
      "source": [
        "X_train, X_test, y_train, y_test = train_test_split(\n",
        "    X, Y,\n",
        "    test_size=0.20, random_state=42,\n",
        "    stratify=Y,shuffle=True)\n",
        "#80/20 train test split with stratifying the test data, so that the class are equaliy represented"
      ]
    },
    {
      "cell_type": "code",
      "execution_count": 5,
      "metadata": {
        "colab": {
          "base_uri": "https://localhost:8080/",
          "height": 887
        },
        "id": "y_ohjHx6wTc4",
        "outputId": "ddddc94a-2d9c-4167-aa26-0c26f3ecf2c8"
      },
      "outputs": [
        {
          "data": {
            "image/png": "[encoded data removed]",
            "text/plain": [
              "<Figure size 640x480 with 1 Axes>"
            ]
          },
          "metadata": {},
          "output_type": "display_data"
        },
        {
          "data": {
            "image/png": "[encoded data removed]",
            "text/plain": [
              "<Figure size 640x480 with 1 Axes>"
            ]
          },
          "metadata": {},
          "output_type": "display_data"
        }
      ],
      "source": [
        "random_index = np.random.choice(len(X_train))\n",
        "plt.imshow(X_train[random_index].reshape(28, 28), cmap='gray')\n",
        "plt.title(f'{y_train[random_index]}')\n",
        "plt.show()\n",
        "random_index = np.random.choice(len(X_test))\n",
        "plt.imshow(X_test[random_index].reshape(28, 28), cmap='gray')\n",
        "plt.title(f'{y_test[random_index]}')\n",
        "plt.show()\n",
        "\n",
        "#verifying the data"
      ]
    },
    {
      "cell_type": "code",
      "execution_count": 6,
      "metadata": {
        "id": "lVXk06ZA_NCs"
      },
      "outputs": [],
      "source": [
        "y_train = np.eye(10)[y_train]  # One-hot encode labels\n",
        "y_test = np.eye(10)[y_test]  # One-hot encode labels"
      ]
    },
    {
      "cell_type": "markdown",
      "metadata": {
        "id": "H2Fz0oN_5wMl"
      },
      "source": [
        "# 2 Build Neural Network"
      ]
    },
    {
      "cell_type": "markdown",
      "metadata": {
        "id": "llQ5UCS95sWd"
      },
      "source": [
        "2. Implement a neural network with one input layer, one hidden layer, and one output layer using NumPy. (5 marks)"
      ]
    },
    {
      "cell_type": "code",
      "execution_count": 7,
      "metadata": {
        "id": "87620kETs3Ad"
      },
      "outputs": [],
      "source": [
        "def compute_loss(y_pred, y_true, epsilon=1e-10):\n",
        "       m = y_true.shape[0]\n",
        "       y_pred = np.clip(y_pred, epsilon, 1 - epsilon)  # Clip probabilities\n",
        "       log_probs = -np.log(y_pred[np.arange(m), y_true.argmax(axis=1)])\n",
        "       return float(np.sum(log_probs) / m)\n",
        "       #setting the loss function to be the cross entropy loss function"
      ]
    },
    {
      "cell_type": "code",
      "execution_count": 8,
      "metadata": {
        "id": "STaz5Vsc_vXI"
      },
      "outputs": [],
      "source": [
        "class NeuralNetwork:\n",
        "    def __init__(self, input_size, hidden_size, output_size, batch_size , learning_rate,epochs):\n",
        "        \n",
        "        self.W1 = np.random.randn(input_size, hidden_size) * np.sqrt(2./input_size)\n",
        "        # He initialization for the weights going from input to the hidden layer\n",
        "        \n",
        "        self.b1 = np.zeros(hidden_size) \n",
        "        #bias weights for the hidden layer\n",
        "\n",
        "        self.W2 = np.random.randn(hidden_size, output_size) * np.sqrt(2./hidden_size)\n",
        "        # He initialization for ReLU activation of the weights going from the hidden to the output layer\n",
        "        \n",
        "        self.b2 = np.zeros(output_size)\n",
        "        #bias weights for the output layer\n",
        "\n",
        "        self.batch_size = batch_size\n",
        "        #batch size for mini-batch gradient descent\n",
        "        \n",
        "        self.learning_rate = learning_rate\n",
        "        #learning rate for the gradient descent\n",
        "        \n",
        "        self.epochs = epochs\n",
        "        #number of epochs for training the model\n",
        "\n",
        "        self.input_size = input_size\n",
        "        #size of the input layer\n",
        "        self.hidden_size = hidden_size\n",
        "        #size of the hidden layer\n",
        "        self.output_size = output_size\n",
        "        #size of the output layer\n",
        "\n",
        "        self.loss_dict={ \"epoch\":[],  \"train_loss\":[], \"test_loss\":[]}\n",
        "        #dictionary to store the loss values for train and test data\n",
        "    \n",
        "    def relu(self, Z):\n",
        "        return np.maximum(0, Z)\n",
        "    # ReLU activation function\n",
        "\n",
        "    def softmax(self, Z):\n",
        "        exp_Z = np.exp(Z - np.max(Z, axis=1, keepdims=True))  # Numerical stability\n",
        "        return exp_Z / exp_Z.sum(axis=1, keepdims=True)\n",
        "    # Softmax activation function\n",
        "\n",
        "    def forward(self, X):\n",
        "        self.Z1 = X.dot(self.W1) + self.b1\n",
        "        self.A1 = self.relu(self.Z1)\n",
        "        self.Z2 = self.A1.dot(self.W2) + self.b2\n",
        "        return self.softmax(self.Z2)\n",
        "    # Forward pass through the network\n",
        "\n",
        "    def backprop(self, X, y_true, y_pred):\n",
        "        m = X.shape[0]\n",
        "\n",
        "        # Output layer gradient\n",
        "        dZ2 = y_pred - y_true\n",
        "        dW2 = (self.A1.T.dot(dZ2)) / m\n",
        "        db2 = np.sum(dZ2, axis=0) / m\n",
        "\n",
        "        # Hidden layer gradient\n",
        "        dA1 = dZ2.dot(self.W2.T)\n",
        "        dZ1 = dA1 * (self.Z1 > 0)  # ReLU derivative\n",
        "        dW1 = (X.T.dot(dZ1)) / m\n",
        "        db1 = np.sum(dZ1, axis=0) / m\n",
        "\n",
        "        # Update parameters\n",
        "        self.W1 -= self.learning_rate * dW1\n",
        "        self.b1 -= self.learning_rate * db1\n",
        "        self.W2 -= self.learning_rate * dW2\n",
        "        self.b2 -= self.learning_rate * db2\n",
        "    # Gradient descent step\n",
        "\n",
        "    def fit(self, X_train, y_train, loss = False, X_test = None, y_test = None ):\n",
        "\n",
        "        X_batches,y_batches = [], []\n",
        "        count=0\n",
        "        for i in range(0,X_train.shape[0], self.batch_size):\n",
        "            X_batches.append(X_train[i:i+self.batch_size])\n",
        "            y_batches.append(y_train[i:i+self.batch_size])\n",
        "            count+=1\n",
        "        for epoch in range(self.epochs):\n",
        "\n",
        "            # Mini-batch training\n",
        "            for i in range(count):\n",
        "\n",
        "                self.backprop(X = X_batches[i],\n",
        "                              y_true = y_batches[i],\n",
        "                              y_pred = self.forward(X_batches[i]))\n",
        "\n",
        "            # Compute epoch loss\n",
        "            if (epoch+1)%(self.epochs//10) == 0:\n",
        "                if loss:\n",
        "                    self.loss_dict[\"epoch\"].append(epoch)\n",
        "                    y_pred = self.forward(X_train)\n",
        "                    train_loss = compute_loss(y_pred = y_pred, y_true = y_train)\n",
        "\n",
        "                    self.loss_dict[\"train_loss\"].append(train_loss)\n",
        "\n",
        "                    test_loss = compute_loss(y_pred = self.forward(X_test), y_true = y_test)\n",
        "                    self.loss_dict[\"test_loss\"].append(test_loss)\n",
        "    \n",
        "    #method to train the model using mini-batch gradient descent\n",
        "    def predict(self,X):\n",
        "        return self.forward(X)\n",
        "\n",
        "    #method to predict the output of the model, which is just a single forward pass\n",
        "\n",
        "    def score(self,X,y):\n",
        "        y_pred = self.predict(X)\n",
        "        predictions = np.argmax(y_pred, axis=1)\n",
        "        labels = np.argmax(y, axis=1)\n",
        "        return accuracy_score(labels,predictions)\n",
        "    #method to calculate the accuracy of the model\n",
        "\n",
        "    def get_params(self, deep=True):\n",
        "        # \"\"\"Get parameters for this estimator.\"\"\"\n",
        "        return {\n",
        "            \"input_size\": self.input_size,\n",
        "            \"hidden_size\": self.hidden_size,\n",
        "            \"output_size\": self.output_size,\n",
        "            \"batch_size\": self.batch_size,\n",
        "            \"learning_rate\": self.learning_rate,\n",
        "            \"epochs\": self.epochs\n",
        "        }\n",
        "    # \"\"\"Get parameters for this estimator.\"\"\"\n",
        "\n",
        "    def set_params(self, **parameters):\n",
        "        \"\"\"Set the parameters of this estimator.\"\"\"\n",
        "        for parameter, value in parameters.items():\n",
        "            setattr(self, parameter, value)\n",
        "        return self\n",
        "    # \"\"\"Set the parameters of this estimator.\"\"\""
      ]
    },
    {
      "cell_type": "markdown",
      "metadata": {
        "id": "NNGGydCR6HQS"
      },
      "source": [
        "# 3 Train Neural Net"
      ]
    },
    {
      "cell_type": "markdown",
      "metadata": {
        "id": "mi5dxHur6NJb"
      },
      "source": [
        "3. Train the neural network with various hyperparameters (e.g., learning rate, number of hidden nodes). (3 marks)"
      ]
    },
    {
      "cell_type": "code",
      "execution_count": 9,
      "metadata": {
        "id": "opcR4k0lnUHM"
      },
      "outputs": [
        {
          "name": "stdout",
          "output_type": "stream",
          "text": [
            "CPU times: user 1min 46s, sys: 6min 11s, total: 7min 57s\n",
            "Wall time: 1min\n"
          ]
        }
      ],
      "source": [
        "%%time\n",
        "# Initialize network\n",
        "nn = NeuralNetwork(input_size=784, output_size=10,\n",
        "                   # Hyperparameters\n",
        "                   hidden_size=300,batch_size = 128, learning_rate = 0.1,epochs = 10)\n",
        "nn.fit(X_train = X_train,y_train = y_train)\n"
      ]
    },
    {
      "cell_type": "code",
      "execution_count": 10,
      "metadata": {
        "id": "8tNcD4DNwhxE"
      },
      "outputs": [
        {
          "name": "stdout",
          "output_type": "stream",
          "text": [
            "0.9675714285714285\n"
          ]
        }
      ],
      "source": [
        "y_pred = nn.predict(X_test)\n",
        "predictions = np.argmax(y_pred, axis=1)\n",
        "labels = np.argmax(y_test, axis=1)\n",
        "print(accuracy_score(labels,predictions))\n",
        "#what does the performance look like right now"
      ]
    },
    {
      "cell_type": "markdown",
      "metadata": {
        "id": "_L2mFUf37FSV"
      },
      "source": [
        "# 4 Performance testing"
      ]
    },
    {
      "cell_type": "markdown",
      "metadata": {
        "id": "KOpzQSih7Ezw"
      },
      "source": [
        "4. Evaluate the performance of the neural network on the testing set. (2 marks)"
      ]
    },
    {
      "cell_type": "code",
      "execution_count": 11,
      "metadata": {
        "id": "INqoHrmJwhpS"
      },
      "outputs": [
        {
          "data": {
            "image/png": "[encoded data removed]",
            "text/plain": [
              "<Figure size 640x480 with 2 Axes>"
            ]
          },
          "metadata": {},
          "output_type": "display_data"
        },
        {
          "name": "stdout",
          "output_type": "stream",
          "text": [
            "\n",
            "Classification Report:\n",
            "              precision    recall  f1-score   support\n",
            "\n",
            "           0       0.98      0.99      0.98      1381\n",
            "           1       0.98      0.98      0.98      1575\n",
            "           2       0.96      0.97      0.96      1398\n",
            "           3       0.97      0.94      0.96      1428\n",
            "           4       0.98      0.95      0.96      1365\n",
            "           5       0.96      0.97      0.96      1263\n",
            "           6       0.99      0.97      0.98      1375\n",
            "           7       0.96      0.97      0.97      1459\n",
            "           8       0.96      0.96      0.96      1365\n",
            "           9       0.94      0.96      0.95      1391\n",
            "\n",
            "    accuracy                           0.97     14000\n",
            "   macro avg       0.97      0.97      0.97     14000\n",
            "weighted avg       0.97      0.97      0.97     14000\n",
            "\n"
          ]
        }
      ],
      "source": [
        "cm = confusion_matrix(labels, predictions)\n",
        "# Get unique class labels\n",
        "unique_labels = np.unique(labels)\n",
        "disp = ConfusionMatrixDisplay(confusion_matrix=cm, display_labels=unique_labels) # Use unique labels\n",
        "disp.plot()\n",
        "plt.title(\"Confusion Matrix\")\n",
        "plt.show()\n",
        "\n",
        "print(\"\\nClassification Report:\")\n",
        "print(classification_report(labels, predictions, target_names=unique_labels.astype(str))) # Use unique labels as target names"
      ]
    },
    {
      "cell_type": "markdown",
      "metadata": {},
      "source": [
        "Hyperopt to us tpe to find the best Hyper parameters faster "
      ]
    },
    {
      "cell_type": "code",
      "execution_count": 12,
      "metadata": {
        "id": "xfvfVe8kwhff"
      },
      "outputs": [],
      "source": [
        "from hyperopt import fmin, tpe, hp, STATUS_OK, Trials,space_eval\n",
        "from pprint import pprint\n",
        "from sklearn.model_selection import cross_val_score\n",
        "import numpy as np"
      ]
    },
    {
      "cell_type": "code",
      "execution_count": 13,
      "metadata": {
        "id": "qpHliQ36nTzJ"
      },
      "outputs": [],
      "source": [
        "#hyperopts objective function,the one it will seek to minimise\n",
        "def objective(params):\n",
        "\n",
        "    nn_clf = NeuralNetwork(**params)\n",
        "\n",
        "    score = cross_val_score(nn_clf, X_train, y_train, cv=5).mean()\n",
        "    return {'loss': -score, 'status': STATUS_OK}"
      ]
    },
    {
      "cell_type": "code",
      "execution_count": 14,
      "metadata": {
        "id": "a3BCl2-Z0wEm"
      },
      "outputs": [
        {
          "name": "stdout",
          "output_type": "stream",
          "text": [
            "28\n"
          ]
        }
      ],
      "source": [
        "input_size = 784\n",
        "output_size=10\n",
        "print(int(np.sqrt(input_size+1)))"
      ]
    },
    {
      "cell_type": "code",
      "execution_count": 15,
      "metadata": {
        "id": "js9kgS3zznTD"
      },
      "outputs": [],
      "source": [
        "#defining the hyper parameter search space for hyperopt\n",
        "input_size = 784\n",
        "output_size=10\n",
        "space = {\n",
        "    'input_size': hp.choice('input_size', [input_size]),\n",
        "    'output_size': hp.choice('output_size', [output_size]),\n",
        "    \"epochs\": hp.choice(\"epochs\",[50]),\n",
        "\n",
        "    'hidden_size': hp.uniformint(\"hidden_size\", int(np.sqrt(input_size+1)), int((input_size+1)/2)),\n",
        "    'batch_size': hp.uniformint(\"batch_size\", int(X_train.shape[0]/1000), int(X_train.shape[0]/100)),\n",
        "    \"learning_rate\": hp.uniform('learning_rate', 0.001, 0.1),\n",
        "\n",
        "}\n"
      ]
    },
    {
      "cell_type": "code",
      "execution_count": null,
      "metadata": {
        "id": "_aGtiwkfnShW"
      },
      "outputs": [
        {
          "name": "stdout",
          "output_type": "stream",
          "text": [
            "  0%|          | 0/10 [00:00<?, ?trial/s, best loss=?]"
          ]
        }
      ],
      "source": [
        "#Run the prarallelized search\n",
        "trials = Trials()\n",
        "best = fmin(fn=objective,\n",
        "            space=space,\n",
        "            algo=tpe.suggest,\n",
        "            max_evals=10,\n",
        "            trials=trials)\n",
        "best_params = space_eval(space=space,hp_assignment=best)\n",
        "print(\"Best parameters: \")\n",
        "pprint(best_params)"
      ]
    },
    {
      "cell_type": "code",
      "execution_count": null,
      "metadata": {
        "id": "kRzUIolrEap2"
      },
      "outputs": [],
      "source": [
        "# best_params = {'batch_size': 177,\n",
        "#  'epochs': 50,\n",
        "#  'hidden_size': 285,\n",
        "#  'input_size': 784,\n",
        "#  'learning_rate': 0.08644110664186987,\n",
        "#  'output_size': 10}"
      ]
    },
    {
      "cell_type": "code",
      "execution_count": null,
      "metadata": {
        "id": "juO6lVID48LJ"
      },
      "outputs": [],
      "source": [
        "best_NN_clf = NeuralNetwork(**best_params)\n",
        "best_NN_clf.fit(X_train, y_train,loss=True,X_test=X_test,y_test=y_test)\n",
        "\n",
        "y_pred = best_NN_clf.predict(X_test)\n",
        "predictions = np.argmax(y_pred, axis=1)\n",
        "labels = np.argmax(y_test, axis=1)\n",
        "\n",
        "#predict the test data using the best parameters"
      ]
    },
    {
      "cell_type": "code",
      "execution_count": null,
      "metadata": {
        "id": "rwaNHDIY4hSw"
      },
      "outputs": [],
      "source": [
        "accuracy = accuracy_score(labels,predictions)\n",
        "print(f\"Accuracy: {accuracy:.2f}\")\n",
        "\n",
        "cm = confusion_matrix(labels, predictions)\n",
        "# Get unique class labels\n",
        "unique_labels = np.unique(labels)\n",
        "disp = ConfusionMatrixDisplay(confusion_matrix=cm, display_labels=unique_labels) # Use unique labels\n",
        "disp.plot()\n",
        "plt.title(\"Confusion Matrix\")\n",
        "plt.show()\n",
        "\n",
        "print(\"\\nClassification Report:\")\n",
        "print(classification_report(labels, predictions, target_names=unique_labels.astype(str))) # Use unique labels as target names\n",
        "\n",
        "#performance of the best model"
      ]
    },
    {
      "cell_type": "markdown",
      "metadata": {
        "id": "OFfELJ5s7h_h"
      },
      "source": [
        "# 5 sklearn Neural Net"
      ]
    },
    {
      "cell_type": "markdown",
      "metadata": {
        "id": "liX8c_km70eC"
      },
      "source": [
        "5. Implement the same neural network using sklearn and compare the results with the NumPy implementation. (4 marks)"
      ]
    },
    {
      "cell_type": "code",
      "execution_count": null,
      "metadata": {
        "colab": {
          "base_uri": "https://localhost:8080/"
        },
        "id": "PRgF8kIw6-2j",
        "outputId": "60edbc70-7f2a-477b-c892-530dbdb479ae"
      },
      "outputs": [
        {
          "name": "stderr",
          "output_type": "stream",
          "text": [
            "100%|██████████| 50/50 [32:50<00:00, 39.42s/it]\n"
          ]
        }
      ],
      "source": [
        "from sklearn.neural_network import MLPClassifier\n",
        "\n",
        "MLPClassifier_loss_dict={ \"epoch\":[],  \"train_loss\":[], \"test_loss\":[]}\n",
        "\n",
        "epochs = best_params[\"epochs\"]\n",
        "mlp = MLPClassifier(activation='relu', batch_size = best_params[\"batch_size\"],\n",
        "                    hidden_layer_sizes=(best_params[\"hidden_size\"]), learning_rate_init=best_params[\"learning_rate\"],learning_rate='constant',\n",
        "                    max_iter=1,\n",
        "                    # max_iter=best_params[\"epochs\"],\n",
        "                    random_state=42,\n",
        "                    warm_start=True,shuffle=False, early_stopping=False)\n",
        "#build MLPClassifier model using the best parameters\n",
        "\n",
        "for epoch in tqdm(range(best_params[\"epochs\"])):\n",
        "\n",
        "    mlp.fit(X_train, y_train)\n",
        "\n",
        "\n",
        "    if (epoch+1)%(epochs//10) == 0:\n",
        "        MLPClassifier_loss_dict[\"epoch\"].append(epoch)\n",
        "\n",
        "        train_loss = compute_loss(y_pred = mlp.predict_proba(X_train), y_true = y_train)\n",
        "        MLPClassifier_loss_dict[\"train_loss\"].append(train_loss)\n",
        "\n",
        "        test_loss = compute_loss(y_pred = mlp.predict_proba(X_test), y_true = y_test)\n",
        "        MLPClassifier_loss_dict[\"test_loss\"].append(test_loss)\n",
        "        # print(f\"{train_loss:.2f} \\t {test_loss:.2f}\")\n",
        "#train the MLPClassifier with train data and calculate the loss for train and test data\n",
        "#warm start is used to reuse the weights from the previous epoch"
      ]
    },
    {
      "cell_type": "markdown",
      "metadata": {
        "id": "WFNHXFTa73pK"
      },
      "source": [
        "6. Plot the training and validation loss/accuracy curves (for both experiments). (3 marks)"
      ]
    },
    {
      "cell_type": "code",
      "execution_count": null,
      "metadata": {
        "id": "rAeLrcExjhMM"
      },
      "outputs": [],
      "source": [
        "# pprint(best_NN_clf.loss_dict)\n",
        "# pprint(MLPClassifier_loss_dict)"
      ]
    },
    {
      "cell_type": "code",
      "execution_count": null,
      "metadata": {
        "colab": {
          "base_uri": "https://localhost:8080/"
        },
        "id": "Uzu68bC8u8rI",
        "outputId": "e769a4e5-fe59-4704-fad4-e19fb71a7136"
      },
      "outputs": [
        {
          "name": "stdout",
          "output_type": "stream",
          "text": [
            "Requirement already satisfied: plotly in /usr/local/lib/python3.11/dist-packages (5.24.1)\n",
            "Requirement already satisfied: tenacity>=6.2.0 in /usr/local/lib/python3.11/dist-packages (from plotly) (9.1.2)\n",
            "Requirement already satisfied: packaging in /usr/local/lib/python3.11/dist-packages (from plotly) (24.2)\n"
          ]
        }
      ],
      "source": [
        "!pip install plotly"
      ]
    },
    {
      "cell_type": "code",
      "execution_count": null,
      "metadata": {
        "id": "FZtPQWS_9uTe"
      },
      "outputs": [],
      "source": [
        "import plotly.graph_objects as go"
      ]
    },
    {
      "cell_type": "code",
      "execution_count": null,
      "metadata": {
        "id": "HIDmX8Uq-Glv"
      },
      "outputs": [],
      "source": [
        "# X-axis values (shared across all lines)\n",
        "x = best_NN_clf.loss_dict[\"epoch\"]\n",
        "\n",
        "# Y-axis values for four lines\n",
        "best_NN_clf_train = best_NN_clf.loss_dict[\"train_loss\"]\n",
        "best_NN_clf_test = best_NN_clf.loss_dict[\"test_loss\"]\n",
        "MLPClassifier_train = MLPClassifier_loss_dict[\"train_loss\"]\n",
        "MLPClassifier_test = MLPClassifier_loss_dict[\"test_loss\"]\n"
      ]
    },
    {
      "cell_type": "code",
      "execution_count": null,
      "metadata": {
        "colab": {
          "base_uri": "https://localhost:8080/",
          "height": 542
        },
        "id": "NbkL8pGf-JTE",
        "outputId": "4afb4a22-4b87-4e41-ed49-bb3e84e6409a"
      },
      "outputs": [
        {
          "data": {
            "text/html": [
              "<html>\n",
              "<head><meta charset=\"utf-8\" /></head>\n",
              "<body>\n",
              "    <div>            <script src=\"https://cdnjs.cloudflare.com/ajax/libs/mathjax/2.7.5/MathJax.js?config=TeX-AMS-MML_SVG\"></script><script type=\"text/javascript\">if (window.MathJax && window.MathJax.Hub && window.MathJax.Hub.Config) {window.MathJax.Hub.Config({SVG: {font: \"STIX-Web\"}});}</script>                <script type=\"text/javascript\">window.PlotlyConfig = {MathJaxConfig: 'local'};</script>\n",
              "        <script charset=\"utf-8\" src=\"https://cdn.plot.ly/plotly-2.35.2.min.js\"></script>                <div id=\"910ba4ac-b246-46f9-877c-f04c5a7b86a1\" class=\"plotly-graph-div\" style=\"height:525px; width:100%;\"></div>            <script type=\"text/javascript\">                                    window.PLOTLYENV=window.PLOTLYENV || {};                                    if (document.getElementById(\"910ba4ac-b246-46f9-877c-f04c5a7b86a1\")) {                    Plotly.newPlot(                        \"910ba4ac-b246-46f9-877c-f04c5a7b86a1\",                        [{\"mode\":\"lines\",\"name\":\"best_NN_clf_train\",\"x\":[4,9,14,19,24,29,34,39,44,49],\"y\":[0.10012086129446991,0.05574671713985524,0.03613498996327522,0.02499483917246266,0.017993186717550586,0.013364612561022865,0.01024052362704594,0.008112184500833,0.006591634972413967,0.005492233689689058],\"type\":\"scatter\"},{\"mode\":\"lines\",\"name\":\"best_NN_clf_test\",\"x\":[4,9,14,19,24,29,34,39,44,49],\"y\":[0.12538615965927055,0.09025607461690997,0.07785479119592374,0.07213342650065892,0.06932963210178827,0.06795562049557445,0.06725429765361257,0.06712590454996974,0.06708183335429548,0.06725219555090205],\"type\":\"scatter\"},{\"mode\":\"lines\",\"name\":\"MLPClassifier_train\",\"x\":[4,9,14,19,24,29,34,39,44,49],\"y\":[0.4005933403968811,0.473336786031723,0.4853649437427521,0.6160640120506287,0.5197350978851318,0.49508100748062134,0.5537289977073669,0.5555169582366943,0.568896472454071,0.5525478720664978],\"type\":\"scatter\"},{\"mode\":\"lines\",\"name\":\"MLPClassifier_test\",\"x\":[4,9,14,19,24,29,34,39,44,49],\"y\":[0.4367179572582245,0.5311231017112732,0.5407554507255554,0.6723704934120178,0.5698190331459045,0.5659615993499756,0.6025775671005249,0.6317411661148071,0.6508886814117432,0.6293694376945496],\"type\":\"scatter\"}],                        {\"template\":{\"data\":{\"barpolar\":[{\"marker\":{\"line\":{\"color\":\"rgb(17,17,17)\",\"width\":0.5},\"pattern\":{\"fillmode\":\"overlay\",\"size\":10,\"solidity\":0.2}},\"type\":\"barpolar\"}],\"bar\":[{\"error_x\":{\"color\":\"#f2f5fa\"},\"error_y\":{\"color\":\"#f2f5fa\"},\"marker\":{\"line\":{\"color\":\"rgb(17,17,17)\",\"width\":0.5},\"pattern\":{\"fillmode\":\"overlay\",\"size\":10,\"solidity\":0.2}},\"type\":\"bar\"}],\"carpet\":[{\"aaxis\":{\"endlinecolor\":\"#A2B1C6\",\"gridcolor\":\"#506784\",\"linecolor\":\"#506784\",\"minorgridcolor\":\"#506784\",\"startlinecolor\":\"#A2B1C6\"},\"baxis\":{\"endlinecolor\":\"#A2B1C6\",\"gridcolor\":\"#506784\",\"linecolor\":\"#506784\",\"minorgridcolor\":\"#506784\",\"startlinecolor\":\"#A2B1C6\"},\"type\":\"carpet\"}],\"choropleth\":[{\"colorbar\":{\"outlinewidth\":0,\"ticks\":\"\"},\"type\":\"choropleth\"}],\"contourcarpet\":[{\"colorbar\":{\"outlinewidth\":0,\"ticks\":\"\"},\"type\":\"contourcarpet\"}],\"contour\":[{\"colorbar\":{\"outlinewidth\":0,\"ticks\":\"\"},\"colorscale\":[[0.0,\"#0d0887\"],[0.1111111111111111,\"#46039f\"],[0.2222222222222222,\"#7201a8\"],[0.3333333333333333,\"#9c179e\"],[0.4444444444444444,\"#bd3786\"],[0.5555555555555556,\"#d8576b\"],[0.6666666666666666,\"#ed7953\"],[0.7777777777777778,\"#fb9f3a\"],[0.8888888888888888,\"#fdca26\"],[1.0,\"#f0f921\"]],\"type\":\"contour\"}],\"heatmapgl\":[{\"colorbar\":{\"outlinewidth\":0,\"ticks\":\"\"},\"colorscale\":[[0.0,\"#0d0887\"],[0.1111111111111111,\"#46039f\"],[0.2222222222222222,\"#7201a8\"],[0.3333333333333333,\"#9c179e\"],[0.4444444444444444,\"#bd3786\"],[0.5555555555555556,\"#d8576b\"],[0.6666666666666666,\"#ed7953\"],[0.7777777777777778,\"#fb9f3a\"],[0.8888888888888888,\"#fdca26\"],[1.0,\"#f0f921\"]],\"type\":\"heatmapgl\"}],\"heatmap\":[{\"colorbar\":{\"outlinewidth\":0,\"ticks\":\"\"},\"colorscale\":[[0.0,\"#0d0887\"],[0.1111111111111111,\"#46039f\"],[0.2222222222222222,\"#7201a8\"],[0.3333333333333333,\"#9c179e\"],[0.4444444444444444,\"#bd3786\"],[0.5555555555555556,\"#d8576b\"],[0.6666666666666666,\"#ed7953\"],[0.7777777777777778,\"#fb9f3a\"],[0.8888888888888888,\"#fdca26\"],[1.0,\"#f0f921\"]],\"type\":\"heatmap\"}],\"histogram2dcontour\":[{\"colorbar\":{\"outlinewidth\":0,\"ticks\":\"\"},\"colorscale\":[[0.0,\"#0d0887\"],[0.1111111111111111,\"#46039f\"],[0.2222222222222222,\"#7201a8\"],[0.3333333333333333,\"#9c179e\"],[0.4444444444444444,\"#bd3786\"],[0.5555555555555556,\"#d8576b\"],[0.6666666666666666,\"#ed7953\"],[0.7777777777777778,\"#fb9f3a\"],[0.8888888888888888,\"#fdca26\"],[1.0,\"#f0f921\"]],\"type\":\"histogram2dcontour\"}],\"histogram2d\":[{\"colorbar\":{\"outlinewidth\":0,\"ticks\":\"\"},\"colorscale\":[[0.0,\"#0d0887\"],[0.1111111111111111,\"#46039f\"],[0.2222222222222222,\"#7201a8\"],[0.3333333333333333,\"#9c179e\"],[0.4444444444444444,\"#bd3786\"],[0.5555555555555556,\"#d8576b\"],[0.6666666666666666,\"#ed7953\"],[0.7777777777777778,\"#fb9f3a\"],[0.8888888888888888,\"#fdca26\"],[1.0,\"#f0f921\"]],\"type\":\"histogram2d\"}],\"histogram\":[{\"marker\":{\"pattern\":{\"fillmode\":\"overlay\",\"size\":10,\"solidity\":0.2}},\"type\":\"histogram\"}],\"mesh3d\":[{\"colorbar\":{\"outlinewidth\":0,\"ticks\":\"\"},\"type\":\"mesh3d\"}],\"parcoords\":[{\"line\":{\"colorbar\":{\"outlinewidth\":0,\"ticks\":\"\"}},\"type\":\"parcoords\"}],\"pie\":[{\"automargin\":true,\"type\":\"pie\"}],\"scatter3d\":[{\"line\":{\"colorbar\":{\"outlinewidth\":0,\"ticks\":\"\"}},\"marker\":{\"colorbar\":{\"outlinewidth\":0,\"ticks\":\"\"}},\"type\":\"scatter3d\"}],\"scattercarpet\":[{\"marker\":{\"colorbar\":{\"outlinewidth\":0,\"ticks\":\"\"}},\"type\":\"scattercarpet\"}],\"scattergeo\":[{\"marker\":{\"colorbar\":{\"outlinewidth\":0,\"ticks\":\"\"}},\"type\":\"scattergeo\"}],\"scattergl\":[{\"marker\":{\"line\":{\"color\":\"#283442\"}},\"type\":\"scattergl\"}],\"scattermapbox\":[{\"marker\":{\"colorbar\":{\"outlinewidth\":0,\"ticks\":\"\"}},\"type\":\"scattermapbox\"}],\"scatterpolargl\":[{\"marker\":{\"colorbar\":{\"outlinewidth\":0,\"ticks\":\"\"}},\"type\":\"scatterpolargl\"}],\"scatterpolar\":[{\"marker\":{\"colorbar\":{\"outlinewidth\":0,\"ticks\":\"\"}},\"type\":\"scatterpolar\"}],\"scatter\":[{\"marker\":{\"line\":{\"color\":\"#283442\"}},\"type\":\"scatter\"}],\"scatterternary\":[{\"marker\":{\"colorbar\":{\"outlinewidth\":0,\"ticks\":\"\"}},\"type\":\"scatterternary\"}],\"surface\":[{\"colorbar\":{\"outlinewidth\":0,\"ticks\":\"\"},\"colorscale\":[[0.0,\"#0d0887\"],[0.1111111111111111,\"#46039f\"],[0.2222222222222222,\"#7201a8\"],[0.3333333333333333,\"#9c179e\"],[0.4444444444444444,\"#bd3786\"],[0.5555555555555556,\"#d8576b\"],[0.6666666666666666,\"#ed7953\"],[0.7777777777777778,\"#fb9f3a\"],[0.8888888888888888,\"#fdca26\"],[1.0,\"#f0f921\"]],\"type\":\"surface\"}],\"table\":[{\"cells\":{\"fill\":{\"color\":\"#506784\"},\"line\":{\"color\":\"rgb(17,17,17)\"}},\"header\":{\"fill\":{\"color\":\"#2a3f5f\"},\"line\":{\"color\":\"rgb(17,17,17)\"}},\"type\":\"table\"}]},\"layout\":{\"annotationdefaults\":{\"arrowcolor\":\"#f2f5fa\",\"arrowhead\":0,\"arrowwidth\":1},\"autotypenumbers\":\"strict\",\"coloraxis\":{\"colorbar\":{\"outlinewidth\":0,\"ticks\":\"\"}},\"colorscale\":{\"diverging\":[[0,\"#8e0152\"],[0.1,\"#c51b7d\"],[0.2,\"#de77ae\"],[0.3,\"#f1b6da\"],[0.4,\"#fde0ef\"],[0.5,\"#f7f7f7\"],[0.6,\"#e6f5d0\"],[0.7,\"#b8e186\"],[0.8,\"#7fbc41\"],[0.9,\"#4d9221\"],[1,\"#276419\"]],\"sequential\":[[0.0,\"#0d0887\"],[0.1111111111111111,\"#46039f\"],[0.2222222222222222,\"#7201a8\"],[0.3333333333333333,\"#9c179e\"],[0.4444444444444444,\"#bd3786\"],[0.5555555555555556,\"#d8576b\"],[0.6666666666666666,\"#ed7953\"],[0.7777777777777778,\"#fb9f3a\"],[0.8888888888888888,\"#fdca26\"],[1.0,\"#f0f921\"]],\"sequentialminus\":[[0.0,\"#0d0887\"],[0.1111111111111111,\"#46039f\"],[0.2222222222222222,\"#7201a8\"],[0.3333333333333333,\"#9c179e\"],[0.4444444444444444,\"#bd3786\"],[0.5555555555555556,\"#d8576b\"],[0.6666666666666666,\"#ed7953\"],[0.7777777777777778,\"#fb9f3a\"],[0.8888888888888888,\"#fdca26\"],[1.0,\"#f0f921\"]]},\"colorway\":[\"#636efa\",\"#EF553B\",\"#00cc96\",\"#ab63fa\",\"#FFA15A\",\"#19d3f3\",\"#FF6692\",\"#B6E880\",\"#FF97FF\",\"#FECB52\"],\"font\":{\"color\":\"#f2f5fa\"},\"geo\":{\"bgcolor\":\"rgb(17,17,17)\",\"lakecolor\":\"rgb(17,17,17)\",\"landcolor\":\"rgb(17,17,17)\",\"showlakes\":true,\"showland\":true,\"subunitcolor\":\"#506784\"},\"hoverlabel\":{\"align\":\"left\"},\"hovermode\":\"closest\",\"mapbox\":{\"style\":\"dark\"},\"paper_bgcolor\":\"rgb(17,17,17)\",\"plot_bgcolor\":\"rgb(17,17,17)\",\"polar\":{\"angularaxis\":{\"gridcolor\":\"#506784\",\"linecolor\":\"#506784\",\"ticks\":\"\"},\"bgcolor\":\"rgb(17,17,17)\",\"radialaxis\":{\"gridcolor\":\"#506784\",\"linecolor\":\"#506784\",\"ticks\":\"\"}},\"scene\":{\"xaxis\":{\"backgroundcolor\":\"rgb(17,17,17)\",\"gridcolor\":\"#506784\",\"gridwidth\":2,\"linecolor\":\"#506784\",\"showbackground\":true,\"ticks\":\"\",\"zerolinecolor\":\"#C8D4E3\"},\"yaxis\":{\"backgroundcolor\":\"rgb(17,17,17)\",\"gridcolor\":\"#506784\",\"gridwidth\":2,\"linecolor\":\"#506784\",\"showbackground\":true,\"ticks\":\"\",\"zerolinecolor\":\"#C8D4E3\"},\"zaxis\":{\"backgroundcolor\":\"rgb(17,17,17)\",\"gridcolor\":\"#506784\",\"gridwidth\":2,\"linecolor\":\"#506784\",\"showbackground\":true,\"ticks\":\"\",\"zerolinecolor\":\"#C8D4E3\"}},\"shapedefaults\":{\"line\":{\"color\":\"#f2f5fa\"}},\"sliderdefaults\":{\"bgcolor\":\"#C8D4E3\",\"bordercolor\":\"rgb(17,17,17)\",\"borderwidth\":1,\"tickwidth\":0},\"ternary\":{\"aaxis\":{\"gridcolor\":\"#506784\",\"linecolor\":\"#506784\",\"ticks\":\"\"},\"baxis\":{\"gridcolor\":\"#506784\",\"linecolor\":\"#506784\",\"ticks\":\"\"},\"bgcolor\":\"rgb(17,17,17)\",\"caxis\":{\"gridcolor\":\"#506784\",\"linecolor\":\"#506784\",\"ticks\":\"\"}},\"title\":{\"x\":0.05},\"updatemenudefaults\":{\"bgcolor\":\"#506784\",\"borderwidth\":0},\"xaxis\":{\"automargin\":true,\"gridcolor\":\"#283442\",\"linecolor\":\"#506784\",\"ticks\":\"\",\"title\":{\"standoff\":15},\"zerolinecolor\":\"#283442\",\"zerolinewidth\":2},\"yaxis\":{\"automargin\":true,\"gridcolor\":\"#283442\",\"linecolor\":\"#506784\",\"ticks\":\"\",\"title\":{\"standoff\":15},\"zerolinecolor\":\"#283442\",\"zerolinewidth\":2}}},\"title\":{\"text\":\"Loss across the epochs\"},\"xaxis\":{\"title\":{\"text\":\"Epochs\"}},\"yaxis\":{\"title\":{\"text\":\"Cross entropy Loss\"}},\"legend\":{\"title\":{\"text\":\"Lines\"}}},                        {\"responsive\": true}                    ).then(function(){\n",
              "                            \n",
              "var gd = document.getElementById('910ba4ac-b246-46f9-877c-f04c5a7b86a1');\n",
              "var x = new MutationObserver(function (mutations, observer) {{\n",
              "        var display = window.getComputedStyle(gd).display;\n",
              "        if (!display || display === 'none') {{\n",
              "            console.log([gd, 'removed!']);\n",
              "            Plotly.purge(gd);\n",
              "            observer.disconnect();\n",
              "        }}\n",
              "}});\n",
              "\n",
              "// Listen for the removal of the full notebook cells\n",
              "var notebookContainer = gd.closest('#notebook-container');\n",
              "if (notebookContainer) {{\n",
              "    x.observe(notebookContainer, {childList: true});\n",
              "}}\n",
              "\n",
              "// Listen for the clearing of the current output cell\n",
              "var outputEl = gd.closest('.output');\n",
              "if (outputEl) {{\n",
              "    x.observe(outputEl, {childList: true});\n",
              "}}\n",
              "\n",
              "                        })                };                            </script>        </div>\n",
              "</body>\n",
              "</html>"
            ]
          },
          "metadata": {},
          "output_type": "display_data"
        }
      ],
      "source": [
        "# Create figure\n",
        "fig = go.Figure()\n",
        "# Add traces (lines)\n",
        "fig.add_trace(go.Scatter(x=x, y=best_NN_clf_train, mode='lines', name='best_NN_clf_train'))\n",
        "fig.add_trace(go.Scatter(x=x, y=best_NN_clf_test, mode='lines', name='best_NN_clf_test'))\n",
        "fig.add_trace(go.Scatter(x=x, y=MLPClassifier_train, mode='lines', name='MLPClassifier_train'))\n",
        "fig.add_trace(go.Scatter(x=x, y=MLPClassifier_test, mode='lines', name='MLPClassifier_test'))\n",
        "# Customize layout\n",
        "fig.update_layout(\n",
        "    title=\"Loss across the epochs\",\n",
        "    xaxis_title=\"Epochs\",\n",
        "    yaxis_title=\"Cross entropy Loss\",\n",
        "    legend_title=\"Lines\",\n",
        "    template=\"plotly_dark\"\n",
        ")\n",
        "\n",
        "# Show plot\n",
        "fig.show()"
      ]
    }
  ],
  "metadata": {
    "colab": {
      "cell_execution_strategy": "setup",
      "include_colab_link": true,
      "provenance": []
    },
    "kernelspec": {
      "display_name": "base",
      "language": "python",
      "name": "python3"
    },
    "language_info": {
      "codemirror_mode": {
        "name": "ipython",
        "version": 3
      },
      "file_extension": ".py",
      "mimetype": "text/x-python",
      "name": "python",
      "nbconvert_exporter": "python",
      "pygments_lexer": "ipython3",
      "version": "3.12.2"
    }
  },
  "nbformat": 4,
  "nbformat_minor": 0
}
