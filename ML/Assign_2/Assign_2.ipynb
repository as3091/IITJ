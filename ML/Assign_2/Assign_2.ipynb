{
  "cells": [
    {
      "cell_type": "markdown",
      "metadata": {
        "id": "view-in-github",
        "colab_type": "text"
      },
      "source": [
        "<a href=\"https://colab.research.google.com/github/as3091/IITJ/blob/ML_Assign/ML/Assign_2/Assign_2.ipynb\" target=\"_parent\"><img src=\"https://colab.research.google.com/assets/colab-badge.svg\" alt=\"Open In Colab\"/></a>"
      ]
    },
    {
      "cell_type": "markdown",
      "metadata": {
        "id": "C4H9-TYwzwgk"
      },
      "source": [
        "Q3: Implementation of Neural Networks from Scratch Using NumPy and Comparison with Sklearn (20 marks):\n",
        "  \n",
        "    1. Load and preprocess the MNIST Digits Dataset. (3 marks)\n",
        "    2. Implement a neural network with one input layer, one hidden layer, and one output layer using NumPy. (5 marks)\n",
        "    3. Train the neural network with various hyperparameters (e.g., learning rate, number of hidden nodes). (3 marks)\n",
        "    4. Evaluate the performance of the neural network on the testing set. (2 marks)\n",
        "    5. Implement the same neural network using sklearn and compare the results with the NumPy implementation. (4 marks)\n",
        "    6. Plot the training and validation loss/accuracy curves (for both experiments). (3 marks)\n",
        "\n"
      ]
    },
    {
      "cell_type": "code",
      "execution_count": 11,
      "metadata": {
        "id": "5fi7HVHozwgm"
      },
      "outputs": [],
      "source": [
        "import pandas as pd\n",
        "import numpy as np\n",
        "from IPython.display import display, HTML\n",
        "import matplotlib.pyplot as plt\n",
        "from sklearn.model_selection import train_test_split, GridSearchCV\n",
        "import warnings,gc,sys, random\n",
        "warnings.filterwarnings('ignore')\n",
        "from sklearn.preprocessing import StandardScaler\n",
        "from sklearn.metrics import confusion_matrix,ConfusionMatrixDisplay, classification_report, accuracy_score\n",
        "from sklearn.pipeline import Pipeline\n",
        "from tqdm import tqdm\n",
        "from sklearn.neural_network import MLPClassifier\n",
        "from pprint import pprint\n",
        "np.random.seed(42)"
      ]
    },
    {
      "cell_type": "markdown",
      "source": [
        "# 1 Load & Preprocess"
      ],
      "metadata": {
        "id": "_cjAptKG55vH"
      }
    },
    {
      "cell_type": "markdown",
      "source": [
        "1. Load and preprocess the MNIST Digits Dataset. (3 marks)"
      ],
      "metadata": {
        "id": "kR10sU7-5jLw"
      }
    },
    {
      "cell_type": "code",
      "execution_count": 2,
      "metadata": {
        "id": "D0iyz9Erzwgn"
      },
      "outputs": [],
      "source": [
        "while True:\n",
        "    try:\n",
        "        mnist_784_df = pd.read_csv(\"mnist_784.csv\")\n",
        "        break\n",
        "    except FileNotFoundError:\n",
        "        from sklearn.datasets import fetch_openml\n",
        "\n",
        "        X, y = fetch_openml('mnist_784', version=1, return_X_y=True)\n",
        "        X[\"Y\"] = y\n",
        "        X.to_csv(\"mnist_784.csv\",index=False,header=True)\n",
        "        del X,y\n",
        "# %%script echo skipping"
      ]
    },
    {
      "cell_type": "code",
      "execution_count": 3,
      "metadata": {
        "id": "IXEsaD_Szwgo"
      },
      "outputs": [],
      "source": [
        "X = mnist_784_df.drop(columns=\"Y\").values.astype(np.float32) / 255.0\n",
        "\n",
        "scaler = StandardScaler()\n",
        "X = scaler.fit_transform(X)\n",
        "\n",
        "Y = mnist_784_df[\"Y\"].values\n",
        "# result = np.where(targets == 5, 1, 0)\n",
        "\n",
        "IL_n = mnist_784_df.shape[-1]-1\n",
        "n_neurons_HL = int(np.sqrt(IL_n-1))"
      ]
    },
    {
      "cell_type": "code",
      "source": [
        "# # Creating Object\n",
        "# scaler = StandardScaler()\n",
        "# # Standardizing the features\n",
        "# X = scaler.fit_transform(inputs)"
      ],
      "metadata": {
        "id": "XJ6t0P8Bopnp"
      },
      "execution_count": 4,
      "outputs": []
    },
    {
      "cell_type": "markdown",
      "metadata": {
        "id": "npTr9DU3zwgo"
      },
      "source": [
        "scaler = StandardScaler()\n",
        "inputs = pd.DataFrame(scaler.fit_transform(inputs), columns=inputs)"
      ]
    },
    {
      "cell_type": "code",
      "execution_count": 5,
      "metadata": {
        "id": "svaq-NFAzwgo"
      },
      "outputs": [],
      "source": [
        "X_train, X_test, y_train, y_test = train_test_split(\n",
        "    X, Y,\n",
        "    test_size=0.20, random_state=42,\n",
        "    stratify=Y,shuffle=True)"
      ]
    },
    {
      "cell_type": "code",
      "source": [
        "# X_train = X_train.astype(np.float32) / 255.0\n",
        "# X_test = X_test.astype(np.float32) / 255.0\n",
        "y_train = np.eye(10)[y_train]  # One-hot encode labels\n",
        "y_test = np.eye(10)[y_test]  # One-hot encode labels"
      ],
      "metadata": {
        "id": "lVXk06ZA_NCs"
      },
      "execution_count": 6,
      "outputs": []
    },
    {
      "cell_type": "markdown",
      "source": [
        "# 2 Build Neural Network"
      ],
      "metadata": {
        "id": "H2Fz0oN_5wMl"
      }
    },
    {
      "cell_type": "markdown",
      "source": [
        "2. Implement a neural network with one input layer, one hidden layer, and one output layer using NumPy. (5 marks)"
      ],
      "metadata": {
        "id": "llQ5UCS95sWd"
      }
    },
    {
      "cell_type": "code",
      "source": [
        "def compute_loss(y_pred, y_true):\n",
        "    m = y_true.shape[0]\n",
        "    log_probs = -np.log(y_pred[np.arange(m), y_true.argmax(axis=1)])\n",
        "    return float(np.sum(log_probs) / m)"
      ],
      "metadata": {
        "id": "87620kETs3Ad"
      },
      "execution_count": 55,
      "outputs": []
    },
    {
      "cell_type": "code",
      "source": [
        "class NeuralNetwork:\n",
        "    # def __init__(self, input_size, hidden_size, output_size):\n",
        "    def __init__(self, input_size, hidden_size, output_size, batch_size , learning_rate,epochs):\n",
        "        # He initialization for ReLU\n",
        "        self.W1 = np.random.randn(input_size, hidden_size) * np.sqrt(2./input_size)\n",
        "        self.b1 = np.zeros(hidden_size)\n",
        "        self.W2 = np.random.randn(hidden_size, output_size) * np.sqrt(2./hidden_size)\n",
        "        self.b2 = np.zeros(output_size)\n",
        "\n",
        "        self.batch_size = batch_size\n",
        "        self.learning_rate = learning_rate\n",
        "        self.epochs = epochs\n",
        "        self.input_size = input_size\n",
        "        self.hidden_size = hidden_size\n",
        "        self.output_size = output_size\n",
        "\n",
        "        self.loss_dict={ \"epoch\":[],  \"train_loss\":[], \"test_loss\":[]}\n",
        "\n",
        "    def relu(self, Z):\n",
        "        return np.maximum(0, Z)\n",
        "\n",
        "    def softmax(self, Z):\n",
        "        exp_Z = np.exp(Z - np.max(Z, axis=1, keepdims=True))  # Numerical stability\n",
        "        return exp_Z / exp_Z.sum(axis=1, keepdims=True)\n",
        "\n",
        "    def forward(self, X):\n",
        "        self.Z1 = X.dot(self.W1) + self.b1\n",
        "        self.A1 = self.relu(self.Z1)\n",
        "        self.Z2 = self.A1.dot(self.W2) + self.b2\n",
        "        return self.softmax(self.Z2)\n",
        "\n",
        "    def backprop(self, X, y_true, y_pred):\n",
        "        m = X.shape[0]\n",
        "\n",
        "        # Output layer gradient\n",
        "        dZ2 = y_pred - y_true\n",
        "        dW2 = (self.A1.T.dot(dZ2)) / m\n",
        "        db2 = np.sum(dZ2, axis=0) / m\n",
        "\n",
        "        # Hidden layer gradient\n",
        "        dA1 = dZ2.dot(self.W2.T)\n",
        "        dZ1 = dA1 * (self.Z1 > 0)  # ReLU derivative\n",
        "        dW1 = (X.T.dot(dZ1)) / m\n",
        "        db1 = np.sum(dZ1, axis=0) / m\n",
        "\n",
        "        # Update parameters\n",
        "        self.W1 -= self.learning_rate * dW1\n",
        "        self.b1 -= self.learning_rate * db1\n",
        "        self.W2 -= self.learning_rate * dW2\n",
        "        self.b2 -= self.learning_rate * db2\n",
        "\n",
        "    def fit(self, X_train, y_train, loss = False, X_test = None, y_test = None ):\n",
        "\n",
        "        X_batches,y_batches = [], []\n",
        "        count=0\n",
        "        for i in range(0,X_train.shape[0], self.batch_size):\n",
        "            X_batches.append(X_train[i:i+self.batch_size])\n",
        "            y_batches.append(y_train[i:i+self.batch_size])\n",
        "            count+=1\n",
        "        for epoch in range(self.epochs):\n",
        "\n",
        "            # Mini-batch training\n",
        "            for i in range(count):\n",
        "\n",
        "                self.backprop(X = X_batches[i],\n",
        "                              y_true = y_batches[i],\n",
        "                              y_pred = self.forward(X_batches[i]))\n",
        "\n",
        "            # Compute epoch loss\n",
        "            if (epoch+1)%(self.epochs//10) == 0:\n",
        "                if loss:\n",
        "                    self.loss_dict[\"epoch\"].append(epoch)\n",
        "\n",
        "                    train_loss = compute_loss(y_pred = self.forward(X_train), y_true = y_train)\n",
        "                    self.loss_dict[\"train_loss\"].append(train_loss)\n",
        "\n",
        "                    test_loss = compute_loss(y_pred = self.forward(X_test), y_true = y_test)\n",
        "                    self.loss_dict[\"test_loss\"].append(test_loss)\n",
        "            # sys.exit()\n",
        "    def predict(self,X):\n",
        "        return self.forward(X)\n",
        "\n",
        "    def score(self,X,y):\n",
        "        y_pred = self.predict(X)\n",
        "        predictions = np.argmax(y_pred, axis=1)\n",
        "        labels = np.argmax(y, axis=1)\n",
        "        return accuracy_score(labels,predictions)\n",
        "\n",
        "    def get_params(self, deep=True):\n",
        "        # \"\"\"Get parameters for this estimator.\"\"\"\n",
        "        return {\n",
        "            \"input_size\": self.input_size,\n",
        "            \"hidden_size\": self.hidden_size,\n",
        "            \"output_size\": self.output_size,\n",
        "            \"batch_size\": self.batch_size,\n",
        "            \"learning_rate\": self.learning_rate,\n",
        "            \"epochs\": self.epochs\n",
        "        }\n",
        "\n",
        "    def set_params(self, **parameters):\n",
        "        \"\"\"Set the parameters of this estimator.\"\"\"\n",
        "        for parameter, value in parameters.items():\n",
        "            setattr(self, parameter, value)\n",
        "        return self"
      ],
      "metadata": {
        "id": "STaz5Vsc_vXI"
      },
      "execution_count": 56,
      "outputs": []
    },
    {
      "cell_type": "markdown",
      "source": [
        "# 3 Train Neural Net"
      ],
      "metadata": {
        "id": "NNGGydCR6HQS"
      }
    },
    {
      "cell_type": "markdown",
      "source": [
        "3. Train the neural network with various hyperparameters (e.g., learning rate, number of hidden nodes). (3 marks)"
      ],
      "metadata": {
        "id": "mi5dxHur6NJb"
      }
    },
    {
      "cell_type": "code",
      "source": [
        "# Initialize network\n",
        "%%time\n",
        "nn = NeuralNetwork(input_size=784, output_size=10,\n",
        "                   # Hyperparameters\n",
        "                   hidden_size=300,batch_size = 128, learning_rate = 0.1,epochs = 10)\n",
        "nn.fit(X_train = X_train,y_train = y_train)\n",
        "# pprint(nn.loss_dict)"
      ],
      "metadata": {
        "colab": {
          "base_uri": "https://localhost:8080/"
        },
        "id": "opcR4k0lnUHM",
        "outputId": "587adf5a-121c-499d-a634-8bbfb9499656"
      },
      "execution_count": 57,
      "outputs": [
        {
          "output_type": "stream",
          "name": "stdout",
          "text": [
            "CPU times: user 58.1 s, sys: 81.2 ms, total: 58.1 s\n",
            "Wall time: 35.4 s\n"
          ]
        }
      ]
    },
    {
      "cell_type": "code",
      "source": [
        "y_pred = nn.predict(X_test)\n",
        "predictions = np.argmax(y_pred, axis=1)\n",
        "labels = np.argmax(y_test, axis=1)\n",
        "print(accuracy_score(labels,predictions))"
      ],
      "metadata": {
        "colab": {
          "base_uri": "https://localhost:8080/"
        },
        "id": "8tNcD4DNwhxE",
        "outputId": "eef3ddbf-69b0-46bb-f93a-c0fcba3a5a5e"
      },
      "execution_count": 58,
      "outputs": [
        {
          "output_type": "stream",
          "name": "stdout",
          "text": [
            "0.9700714285714286\n"
          ]
        }
      ]
    },
    {
      "cell_type": "markdown",
      "source": [
        "# 4 Performance testing"
      ],
      "metadata": {
        "id": "_L2mFUf37FSV"
      }
    },
    {
      "cell_type": "markdown",
      "source": [
        "4. Evaluate the performance of the neural network on the testing set. (2 marks)"
      ],
      "metadata": {
        "id": "KOpzQSih7Ezw"
      }
    },
    {
      "cell_type": "code",
      "source": [
        "cm = confusion_matrix(labels, predictions)\n",
        "# Get unique class labels\n",
        "unique_labels = np.unique(labels)\n",
        "disp = ConfusionMatrixDisplay(confusion_matrix=cm, display_labels=unique_labels) # Use unique labels\n",
        "disp.plot()\n",
        "plt.title(\"Confusion Matrix\")\n",
        "plt.show()\n",
        "\n",
        "print(\"\\nClassification Report:\")\n",
        "print(classification_report(labels, predictions, target_names=unique_labels.astype(str))) # Use unique labels as target names"
      ],
      "metadata": {
        "colab": {
          "base_uri": "https://localhost:8080/",
          "height": 802
        },
        "id": "INqoHrmJwhpS",
        "outputId": "2d2da4e2-88b5-48df-ea0c-fa96d9165657"
      },
      "execution_count": 59,
      "outputs": [
        {
          "output_type": "display_data",
          "data": {
            "text/plain": [
              "<Figure size 640x480 with 2 Axes>"
            ],
            "image/png": "[encoded data removed]"
          },
          "metadata": {}
        },
        {
          "output_type": "stream",
          "name": "stdout",
          "text": [
            "\n",
            "Classification Report:\n",
            "              precision    recall  f1-score   support\n",
            "\n",
            "           0       0.98      0.99      0.98      1381\n",
            "           1       0.98      0.98      0.98      1575\n",
            "           2       0.97      0.97      0.97      1398\n",
            "           3       0.98      0.96      0.97      1428\n",
            "           4       0.98      0.96      0.97      1365\n",
            "           5       0.97      0.96      0.96      1263\n",
            "           6       0.98      0.98      0.98      1375\n",
            "           7       0.97      0.96      0.97      1459\n",
            "           8       0.96      0.96      0.96      1365\n",
            "           9       0.94      0.97      0.96      1391\n",
            "\n",
            "    accuracy                           0.97     14000\n",
            "   macro avg       0.97      0.97      0.97     14000\n",
            "weighted avg       0.97      0.97      0.97     14000\n",
            "\n"
          ]
        }
      ]
    },
    {
      "cell_type": "code",
      "source": [
        "from hyperopt import fmin, tpe, hp, STATUS_OK, Trials,space_eval\n",
        "from pprint import pprint\n",
        "from sklearn.model_selection import cross_val_score\n",
        "import numpy as np"
      ],
      "metadata": {
        "id": "xfvfVe8kwhff"
      },
      "execution_count": 42,
      "outputs": []
    },
    {
      "cell_type": "code",
      "source": [
        "def objective(params):\n",
        "    # clf = RandomForestClassifier(**params)\n",
        "    nn_clf = NeuralNetwork(**params)\n",
        "    # nn = NeuralNetwork(input_size=784, output_size=10,\n",
        "    #                # Hyperparameters\n",
        "    #                hidden_size=300,batch_size = 128, learning_rate = 0.1,epochs = 20)\n",
        "    score = cross_val_score(nn_clf, X_train, y_train, cv=5).mean()\n",
        "    return {'loss': -score, 'status': STATUS_OK}"
      ],
      "metadata": {
        "id": "qpHliQ36nTzJ"
      },
      "execution_count": 43,
      "outputs": []
    },
    {
      "cell_type": "code",
      "source": [
        "input_size = 784\n",
        "output_size=10\n",
        "print(int(np.sqrt(input_size+1)))"
      ],
      "metadata": {
        "colab": {
          "base_uri": "https://localhost:8080/"
        },
        "id": "a3BCl2-Z0wEm",
        "outputId": "1e9f7588-256d-411d-fc3c-f85bd21e0416"
      },
      "execution_count": 44,
      "outputs": [
        {
          "output_type": "stream",
          "name": "stdout",
          "text": [
            "28\n"
          ]
        }
      ]
    },
    {
      "cell_type": "code",
      "source": [
        "input_size = 784\n",
        "output_size=10\n",
        "space = {\n",
        "    'input_size': hp.choice('input_size', [input_size]),\n",
        "    'output_size': hp.choice('output_size', [output_size]),\n",
        "    \"epochs\": hp.choice(\"epochs\",[20]),\n",
        "\n",
        "    'hidden_size': hp.uniformint(\"hidden_size\", int(np.sqrt(input_size+1)), int((input_size+1)/2)),\n",
        "    'batch_size': hp.uniformint(\"batch_size\", int(X_train.shape[0]/1000), int(X_train.shape[0]/100)),\n",
        "    \"learning_rate\": hp.uniform('learning_rate', 0.001, 0.1),\n",
        "\n",
        "}\n"
      ],
      "metadata": {
        "id": "js9kgS3zznTD"
      },
      "execution_count": 45,
      "outputs": []
    },
    {
      "cell_type": "code",
      "source": [
        "trials = Trials()\n",
        "best = fmin(fn=objective,\n",
        "            space=space,\n",
        "            algo=tpe.suggest,\n",
        "            max_evals=10,\n",
        "            trials=trials)\n",
        "best_params = space_eval(space=space,hp_assignment=best)\n",
        "print(\"Best parameters: \")\n",
        "pprint(best_params)"
      ],
      "metadata": {
        "colab": {
          "base_uri": "https://localhost:8080/"
        },
        "id": "_aGtiwkfnShW",
        "outputId": "a0dbbb0d-713f-4f5f-cdba-a950b6c19733"
      },
      "execution_count": 46,
      "outputs": [
        {
          "metadata": {
            "tags": null
          },
          "name": "stdout",
          "output_type": "stream",
          "text": [
            "100%|██████████| 10/10 [31:32<00:00, 189.28s/trial, best loss: -0.9668214285714285]\n",
            "Best parameters: \n",
            "{'batch_size': 152,\n",
            " 'epochs': 20,\n",
            " 'hidden_size': 378,\n",
            " 'input_size': 784,\n",
            " 'learning_rate': 0.04827648272662286,\n",
            " 'output_size': 10}\n"
          ]
        }
      ]
    },
    {
      "cell_type": "code",
      "source": [
        "best_NN_clf = NeuralNetwork(**best_params)\n",
        "best_NN_clf.fit(X_train, y_train,loss=True,X_test=X_test,y_test=y_test)\n",
        "\n",
        "y_pred = best_NN_clf.predict(X_test)\n",
        "predictions = np.argmax(y_pred, axis=1)\n",
        "labels = np.argmax(y_test, axis=1)"
      ],
      "metadata": {
        "id": "juO6lVID48LJ"
      },
      "execution_count": 49,
      "outputs": []
    },
    {
      "cell_type": "code",
      "source": [
        "accuracy = accuracy_score(labels,predictions)\n",
        "print(f\"Accuracy: {accuracy:.2f}\")\n",
        "\n",
        "cm = confusion_matrix(labels, predictions)\n",
        "# Get unique class labels\n",
        "unique_labels = np.unique(labels)\n",
        "disp = ConfusionMatrixDisplay(confusion_matrix=cm, display_labels=unique_labels) # Use unique labels\n",
        "disp.plot()\n",
        "plt.title(\"Confusion Matrix\")\n",
        "plt.show()\n",
        "\n",
        "print(\"\\nClassification Report:\")\n",
        "print(classification_report(labels, predictions, target_names=unique_labels.astype(str))) # Use unique labels as target names"
      ],
      "metadata": {
        "colab": {
          "base_uri": "https://localhost:8080/",
          "height": 819
        },
        "id": "rwaNHDIY4hSw",
        "outputId": "0820bcdc-4b78-465b-d585-f8465a88fdb1"
      },
      "execution_count": 50,
      "outputs": [
        {
          "output_type": "stream",
          "name": "stdout",
          "text": [
            "Accuracy: 0.97\n"
          ]
        },
        {
          "output_type": "display_data",
          "data": {
            "text/plain": [
              "<Figure size 640x480 with 2 Axes>"
            ],
            "image/png": "[encoded data removed]"
          },
          "metadata": {}
        },
        {
          "output_type": "stream",
          "name": "stdout",
          "text": [
            "\n",
            "Classification Report:\n",
            "              precision    recall  f1-score   support\n",
            "\n",
            "           0       0.98      0.99      0.98      1381\n",
            "           1       0.98      0.98      0.98      1575\n",
            "           2       0.97      0.97      0.97      1398\n",
            "           3       0.97      0.96      0.96      1428\n",
            "           4       0.98      0.96      0.97      1365\n",
            "           5       0.96      0.96      0.96      1263\n",
            "           6       0.97      0.98      0.98      1375\n",
            "           7       0.97      0.97      0.97      1459\n",
            "           8       0.96      0.96      0.96      1365\n",
            "           9       0.95      0.96      0.95      1391\n",
            "\n",
            "    accuracy                           0.97     14000\n",
            "   macro avg       0.97      0.97      0.97     14000\n",
            "weighted avg       0.97      0.97      0.97     14000\n",
            "\n"
          ]
        }
      ]
    },
    {
      "cell_type": "markdown",
      "source": [
        "# 5 sklearn Neural Net"
      ],
      "metadata": {
        "id": "OFfELJ5s7h_h"
      }
    },
    {
      "cell_type": "markdown",
      "source": [
        "5. Implement the same neural network using sklearn and compare the results with the NumPy implementation. (4 marks)"
      ],
      "metadata": {
        "id": "liX8c_km70eC"
      }
    },
    {
      "cell_type": "code",
      "source": [
        "best_params = {'batch_size': 91,\n",
        " 'epochs': 20,\n",
        " 'hidden_size': 235,\n",
        " 'input_size': 784,\n",
        " 'learning_rate': 0.09389290608788252,\n",
        " 'output_size': 10}"
      ],
      "metadata": {
        "id": "qAMsrC7DJ-2u"
      },
      "execution_count": 51,
      "outputs": []
    },
    {
      "cell_type": "code",
      "source": [
        "from sklearn.neural_network import MLPClassifier\n",
        "# n_epochs = 50\n",
        "# train_loss, train_acc = [], []\n",
        "# val_loss, val_acc = [], []\n",
        "loss_dict={ \"epoch\":[],  \"train_loss\":[], \"test_loss\":[]}\n",
        "\n",
        "epochs = best_params[\"epochs\"]\n",
        "mlp = MLPClassifier(activation='relu', batch_size = best_params[\"batch_size\"],\n",
        "                    hidden_layer_sizes=(best_params[\"hidden_size\"]), learning_rate_init=best_params[\"learning_rate\"],learning_rate='constant',\n",
        "                    max_iter=1,random_state=42,\n",
        "                    shuffle=False, early_stopping=False)\n",
        "\n",
        "for epoch in range(best_params[\"epochs\"]):\n",
        "    # Train for 1 epoch\n",
        "    mlp.fit(X_train, y_train)\n",
        "\n",
        "    # Training metrics\n",
        "    # train_loss.append(mlp.loss_curve_[-1])           # Training loss\n",
        "    # train_acc.append(model.score(X_train, y_train))    # Training accuracy\n",
        "\n",
        "    # Validation metrics\n",
        "    # y_val_proba = mlp.predict(X_train)\n",
        "    # val_loss.append(log_loss(y_val, y_val_proba))      # Validation loss\n",
        "    # val_acc.append(model.score(X_val, y_val))          # Validation accuracy\n",
        "\n",
        "    if (epoch+1)%(epochs//10) == 0:\n",
        "        loss_dict[\"epoch\"].append(epoch)\n",
        "\n",
        "        train_loss = compute_loss(y_pred = mlp.predict(X_train), y_true = y_train)\n",
        "        loss_dict[\"train_loss\"].append(train_loss)\n",
        "\n",
        "        test_loss = compute_loss(y_pred = mlp.predict(X_test), y_true = y_test)\n",
        "        loss_dict[\"test_loss\"].append(test_loss)\n",
        "\n",
        "\n",
        "# Training the model\n",
        "mlp.fit(X_train, y_train)\n",
        "# Making prediction\n",
        "y_pred = mlp.predict(X_test)\n",
        "accuracy = accuracy_score(y_test, y_pred)\n",
        "print(f\"Accuracy: {accuracy:.2f}\")\n",
        "\n",
        "pprint(loss_dict)"
      ],
      "metadata": {
        "colab": {
          "base_uri": "https://localhost:8080/"
        },
        "id": "PRgF8kIw6-2j",
        "outputId": "0f0740df-a93b-4513-f324-13370bb53738"
      },
      "execution_count": 61,
      "outputs": [
        {
          "output_type": "stream",
          "name": "stdout",
          "text": [
            "Accuracy: 0.68\n"
          ]
        }
      ]
    },
    {
      "cell_type": "code",
      "source": [
        "pprint(loss_dict)"
      ],
      "metadata": {
        "id": "CmRpSWbsu9c3"
      },
      "execution_count": null,
      "outputs": []
    },
    {
      "cell_type": "markdown",
      "source": [
        "6. Plot the training and validation loss/accuracy curves (for both experiments). (3 marks)"
      ],
      "metadata": {
        "id": "WFNHXFTa73pK"
      }
    },
    {
      "cell_type": "code",
      "source": [],
      "metadata": {
        "id": "Uzu68bC8u8rI"
      },
      "execution_count": null,
      "outputs": []
    },
    {
      "cell_type": "code",
      "execution_count": 54,
      "metadata": {
        "id": "3j3G-xCfzwgo",
        "colab": {
          "base_uri": "https://localhost:8080/"
        },
        "outputId": "bfc0948b-e615-475a-f0e2-9718a69e2473"
      },
      "outputs": [
        {
          "output_type": "execute_result",
          "data": {
            "text/plain": [
              "[np.float64(4.042152299464593),\n",
              " np.float64(2.8341218981362175),\n",
              " np.float64(2.024957633458081),\n",
              " np.float64(1.6245300323030092),\n",
              " np.float64(1.5972410760897042),\n",
              " np.float64(1.304569890171363),\n",
              " np.float64(1.1557795890345024),\n",
              " np.float64(1.0892407570288511),\n",
              " np.float64(1.0314852445777052),\n",
              " np.float64(1.0226400534782687),\n",
              " np.float64(1.0865446406970205),\n",
              " np.float64(1.0761602652833495),\n",
              " np.float64(1.0997899009519714),\n",
              " np.float64(1.1155868374588098),\n",
              " np.float64(1.0721955034958128),\n",
              " np.float64(1.1697480329388552),\n",
              " np.float64(0.9826011830328745),\n",
              " np.float64(0.9567955487461098),\n",
              " np.float64(0.9513463912825488),\n",
              " np.float64(0.938314315998172)]"
            ]
          },
          "metadata": {},
          "execution_count": 54
        }
      ],
      "source": [
        "mlp.loss_curve_"
      ]
    },
    {
      "cell_type": "code",
      "execution_count": 3,
      "metadata": {
        "id": "krzMmnmszwgn"
      },
      "outputs": [],
      "source": [
        "def sigmoid(x):\n",
        "    return 1 / (1 + np.exp(-x))\n",
        "\n",
        "def sigmoid_derivative(x):\n",
        "    return x * (1 - x)\n",
        "\n",
        "def relu(x):\n",
        "    return np.maximum(0, x)\n",
        "\n",
        "def relu_derivative(x):\n",
        "    return np.where(x > 0, 1, 0)"
      ]
    },
    {
      "cell_type": "code",
      "source": [
        "# Initialize network\n",
        "nn = NeuralNetwork(input_size=784, output_size=10)\n",
        "\n",
        "# Hyperparameters\n",
        "epochs = 20\n",
        "batch_size = 128\n",
        "learning_rate = 0.1\n",
        "hidden_size=300\n",
        "\n",
        "for epoch in range(epochs):\n",
        "    # Shuffle data\n",
        "    permutation = np.random.permutation(X_train.shape[0])\n",
        "    X_shuffled = X_train[permutation]\n",
        "    y_shuffled = y_train[permutation]\n",
        "\n",
        "    # Mini-batch training\n",
        "    for i in range(0, X_train.shape[0], batch_size):\n",
        "        X_batch = X_shuffled[i:i+batch_size]\n",
        "        y_batch = y_shuffled[i:i+batch_size]\n",
        "\n",
        "        # Forward pass\n",
        "        y_pred = nn.forward(X_batch)\n",
        "\n",
        "        # Backpropagation\n",
        "        nn.backprop(X_batch, y_batch, y_pred, learning_rate)\n",
        "\n",
        "    # Compute epoch loss\n",
        "    y_pred = nn.forward(X_train)\n",
        "    loss = nn.compute_loss(y_pred, y_train)\n",
        "    print(f\"Epoch {epoch+1}/{epochs}, Loss: {loss:.4f}\")\n"
      ],
      "metadata": {
        "id": "jOGqBIGb_vZX",
        "outputId": "df7fcf91-396a-4502-a4e7-275c3c28f402",
        "colab": {
          "base_uri": "https://localhost:8080/",
          "height": 332
        }
      },
      "execution_count": 9,
      "outputs": [
        {
          "output_type": "error",
          "ename": "KeyboardInterrupt",
          "evalue": "",
          "traceback": [
            "\u001b[0;31m---------------------------------------------------------------------------\u001b[0m",
            "\u001b[0;31mKeyboardInterrupt\u001b[0m                         Traceback (most recent call last)",
            "\u001b[0;32m<ipython-input-9-4164ee0fab1a>\u001b[0m in \u001b[0;36m<cell line: 0>\u001b[0;34m()\u001b[0m\n\u001b[1;32m     19\u001b[0m \u001b[0;34m\u001b[0m\u001b[0m\n\u001b[1;32m     20\u001b[0m         \u001b[0;31m# Forward pass\u001b[0m\u001b[0;34m\u001b[0m\u001b[0;34m\u001b[0m\u001b[0m\n\u001b[0;32m---> 21\u001b[0;31m         \u001b[0my_pred\u001b[0m \u001b[0;34m=\u001b[0m \u001b[0mnn\u001b[0m\u001b[0;34m.\u001b[0m\u001b[0mforward\u001b[0m\u001b[0;34m(\u001b[0m\u001b[0mX_batch\u001b[0m\u001b[0;34m)\u001b[0m\u001b[0;34m\u001b[0m\u001b[0;34m\u001b[0m\u001b[0m\n\u001b[0m\u001b[1;32m     22\u001b[0m \u001b[0;34m\u001b[0m\u001b[0m\n\u001b[1;32m     23\u001b[0m         \u001b[0;31m# Backpropagation\u001b[0m\u001b[0;34m\u001b[0m\u001b[0;34m\u001b[0m\u001b[0m\n",
            "\u001b[0;32m<ipython-input-8-8bfba71769f4>\u001b[0m in \u001b[0;36mforward\u001b[0;34m(self, X)\u001b[0m\n\u001b[1;32m     15\u001b[0m \u001b[0;34m\u001b[0m\u001b[0m\n\u001b[1;32m     16\u001b[0m     \u001b[0;32mdef\u001b[0m \u001b[0mforward\u001b[0m\u001b[0;34m(\u001b[0m\u001b[0mself\u001b[0m\u001b[0;34m,\u001b[0m \u001b[0mX\u001b[0m\u001b[0;34m)\u001b[0m\u001b[0;34m:\u001b[0m\u001b[0;34m\u001b[0m\u001b[0;34m\u001b[0m\u001b[0m\n\u001b[0;32m---> 17\u001b[0;31m         \u001b[0mself\u001b[0m\u001b[0;34m.\u001b[0m\u001b[0mZ1\u001b[0m \u001b[0;34m=\u001b[0m \u001b[0mX\u001b[0m\u001b[0;34m.\u001b[0m\u001b[0mdot\u001b[0m\u001b[0;34m(\u001b[0m\u001b[0mself\u001b[0m\u001b[0;34m.\u001b[0m\u001b[0mW1\u001b[0m\u001b[0;34m)\u001b[0m \u001b[0;34m+\u001b[0m \u001b[0mself\u001b[0m\u001b[0;34m.\u001b[0m\u001b[0mb1\u001b[0m\u001b[0;34m\u001b[0m\u001b[0;34m\u001b[0m\u001b[0m\n\u001b[0m\u001b[1;32m     18\u001b[0m         \u001b[0mself\u001b[0m\u001b[0;34m.\u001b[0m\u001b[0mA1\u001b[0m \u001b[0;34m=\u001b[0m \u001b[0mself\u001b[0m\u001b[0;34m.\u001b[0m\u001b[0mrelu\u001b[0m\u001b[0;34m(\u001b[0m\u001b[0mself\u001b[0m\u001b[0;34m.\u001b[0m\u001b[0mZ1\u001b[0m\u001b[0;34m)\u001b[0m\u001b[0;34m\u001b[0m\u001b[0;34m\u001b[0m\u001b[0m\n\u001b[1;32m     19\u001b[0m         \u001b[0mself\u001b[0m\u001b[0;34m.\u001b[0m\u001b[0mZ2\u001b[0m \u001b[0;34m=\u001b[0m \u001b[0mself\u001b[0m\u001b[0;34m.\u001b[0m\u001b[0mA1\u001b[0m\u001b[0;34m.\u001b[0m\u001b[0mdot\u001b[0m\u001b[0;34m(\u001b[0m\u001b[0mself\u001b[0m\u001b[0;34m.\u001b[0m\u001b[0mW2\u001b[0m\u001b[0;34m)\u001b[0m \u001b[0;34m+\u001b[0m \u001b[0mself\u001b[0m\u001b[0;34m.\u001b[0m\u001b[0mb2\u001b[0m\u001b[0;34m\u001b[0m\u001b[0;34m\u001b[0m\u001b[0m\n",
            "\u001b[0;31mKeyboardInterrupt\u001b[0m: "
          ]
        }
      ]
    },
    {
      "cell_type": "code",
      "source": [],
      "metadata": {
        "id": "U48Y4cTCOBot"
      },
      "execution_count": null,
      "outputs": []
    },
    {
      "cell_type": "code",
      "source": [
        "# def compute_accuracy(X, y):\n",
        "y_pred = nn.forward(X_test)\n",
        "predictions = np.argmax(y_pred, axis=1)\n",
        "labels = np.argmax(y_test, axis=1)\n",
        "print(accuracy_score(labels,predictions))\n",
        "# return np.mean(predictions == labels)\n",
        "\n",
        "# print(f\"\\nTraining Accuracy: {compute_accuracy(X_train, y_train):.4f}\")\n",
        "# print(f\"Test Accuracy: {compute_accuracy(X_test, y_test):.4f}\")\n"
      ],
      "metadata": {
        "id": "xbbFk2VE_vcy",
        "outputId": "d7a45529-d346-4539-e37b-04ecf83f25d1",
        "colab": {
          "base_uri": "https://localhost:8080/"
        }
      },
      "execution_count": null,
      "outputs": [
        {
          "output_type": "stream",
          "name": "stdout",
          "text": [
            "0.9946428571428572\n"
          ]
        }
      ]
    },
    {
      "cell_type": "code",
      "source": [
        "cm = confusion_matrix(labels, predictions)\n",
        "# Get unique class labels\n",
        "unique_labels = np.unique(labels)\n",
        "disp = ConfusionMatrixDisplay(confusion_matrix=cm, display_labels=unique_labels) # Use unique labels\n",
        "disp.plot()\n",
        "plt.title(\"Confusion Matrix\")\n",
        "plt.show()\n",
        "\n",
        "print(\"\\nClassification Report:\")\n",
        "print(classification_report(labels, predictions, target_names=unique_labels.astype(str))) # Use unique labels as target names"
      ],
      "metadata": {
        "id": "brtUHoYPBpHt",
        "outputId": "7bb1a44a-7425-4a20-9adf-9ff3bc815513",
        "colab": {
          "base_uri": "https://localhost:8080/",
          "height": 663
        }
      },
      "execution_count": null,
      "outputs": [
        {
          "output_type": "display_data",
          "data": {
            "text/plain": [
              "<Figure size 640x480 with 2 Axes>"
            ],
            "image/png": "[encoded data removed]"
          },
          "metadata": {}
        },
        {
          "output_type": "stream",
          "name": "stdout",
          "text": [
            "\n",
            "Classification Report:\n",
            "              precision    recall  f1-score   support\n",
            "\n",
            "           0       1.00      1.00      1.00     12737\n",
            "           1       0.98      0.96      0.97      1263\n",
            "\n",
            "    accuracy                           0.99     14000\n",
            "   macro avg       0.99      0.98      0.98     14000\n",
            "weighted avg       0.99      0.99      0.99     14000\n",
            "\n"
          ]
        }
      ]
    },
    {
      "cell_type": "code",
      "source": [
        "# %%script false --no-raise-error\n",
        "accuracy = accuracy_score(y_test, y_pred)\n",
        "print(f\"Accuracy: {accuracy:.2f}\")\n",
        "\n",
        "cm = confusion_matrix(y_test, y_pred)\n",
        "disp = ConfusionMatrixDisplay(confusion_matrix=cm, display_labels=iris.target_names)\n",
        "disp.plot()\n",
        "plt.title(\"Confusion Matrix\")\n",
        "plt.show()\n",
        "\n",
        "print(\"\\nClassification Report:\")\n",
        "print(classification_report(y_test, y_pred, target_names=iris.target_names))\n"
      ],
      "metadata": {
        "id": "eiLLfADw_ve4"
      },
      "execution_count": null,
      "outputs": []
    },
    {
      "cell_type": "code",
      "source": [],
      "metadata": {
        "id": "-2KvBvX8_vhk"
      },
      "execution_count": null,
      "outputs": []
    },
    {
      "cell_type": "code",
      "source": [],
      "metadata": {
        "id": "IynwkxdU_vjb"
      },
      "execution_count": null,
      "outputs": []
    },
    {
      "cell_type": "code",
      "execution_count": null,
      "metadata": {
        "id": "6yVmSs2yzwgo"
      },
      "outputs": [],
      "source": [
        "class NeuralNetwork:\n",
        "    def __init__(self, input_dim, hidden_dim, output_dim,inputs, targets):\n",
        "        self.input_dim = input_dim\n",
        "        self.hidden_dim = hidden_dim\n",
        "        self.output_dim = output_dim\n",
        "\n",
        "        self.inputs = inputs\n",
        "        self.targets = targets.reshape(-1,1)\n",
        "        # print(self.targets.shape)\n",
        "\n",
        "        self.weights1 = np.random.rand(input_dim, hidden_dim)\n",
        "        self.weights2 = np.random.rand(hidden_dim, output_dim)\n",
        "        self.bias1 = np.zeros((1, hidden_dim))\n",
        "        self.bias2 = np.zeros((1, output_dim))\n",
        "\n",
        "    def forward_propagation(self):\n",
        "\n",
        "        hidden_layer_input = np.dot(self.inputs, self.weights1) + self.bias1\n",
        "        self.hidden_layer_output = relu(hidden_layer_input)\n",
        "\n",
        "        output_layer_input = np.dot(self.hidden_layer_output, self.weights2) + self.bias2\n",
        "        self.output_layer_output = sigmoid(output_layer_input)\n",
        "        # print(self.output_layer_output.shape)\n",
        "        # sys.exit()\n",
        "        # return hidden_layer_output, output_layer_output\n",
        "\n",
        "    def backward_propagation(self):\n",
        "        # , targets, hidden_layer_output, output_layer_output):\n",
        "\n",
        "        d_output = 2 * (self.output_layer_output - self.targets)\n",
        "        self.d_weights2 = np.dot(self.hidden_layer_output.T, d_output * sigmoid_derivative(self.output_layer_output))\n",
        "        self.d_bias2 = np.sum(d_output * sigmoid_derivative(self.output_layer_output), axis=0, keepdims=True)\n",
        "\n",
        "        d_hidden_layer = np.dot(d_output * sigmoid_derivative(self.output_layer_output), self.weights2.T) * relu_derivative(self.hidden_layer_output)\n",
        "        self.d_weights1 = np.dot(self.inputs.T, d_hidden_layer)\n",
        "        self.d_bias1 = np.sum(d_hidden_layer, axis=0, keepdims=True)\n",
        "\n",
        "        # return d_weights1, d_bias1, d_weights2, d_bias2\n",
        "\n",
        "    def update_weights(self,learning_rate):\n",
        "        # , d_weights1, d_bias1, d_weights2, d_bias2, learning_rate):\n",
        "        self.weights1 -= learning_rate * self.d_weights1\n",
        "        self.bias1 -= learning_rate * self.d_bias1\n",
        "        self.weights2 -= learning_rate * self.d_weights2\n",
        "        self.bias2 -= learning_rate * self.d_bias2\n",
        "\n",
        "    def runner(self, epochs, learning_rate):\n",
        "        # inputs, targets, epochs, learning_rate\n",
        "        for epoch in tqdm(range(epochs)):\n",
        "            # hidden_layer_output, output_layer_output = self.forward_propagation(inputs)\n",
        "            # d_weights1, d_bias1, d_weights2, d_bias2 = self.backward_propagation(inputs, targets, hidden_layer_output, output_layer_output)\n",
        "            # self.update_weights(d_weights1, d_bias1, d_weights2, d_bias2, learning_rate)\n",
        "\n",
        "            self.forward_propagation()\n",
        "            self.backward_propagation()\n",
        "            self.update_weights(learning_rate=learning_rate)\n",
        "\n",
        "                # Print loss every 1000 epochs\n",
        "            if epoch % 1000 == 0:\n",
        "                loss = np.mean(np.square(self.output_layer_output - self.targets))\n",
        "                print(f\"\\nEpoch {epoch+1}, Loss: {loss}\")\n",
        "                gc.collect()\n",
        "\n",
        "        # _, final_output =\n",
        "        self.forward_propagation(self.inputs)\n",
        "        print(\"Final Predictions:\")\n",
        "        print(self.output_layer_output)"
      ]
    },
    {
      "cell_type": "code",
      "execution_count": null,
      "metadata": {
        "id": "g-sdgAIizwgp",
        "outputId": "04f8fe21-f314-49a9-90a4-0deb9fb97a60",
        "colab": {
          "base_uri": "https://localhost:8080/"
        }
      },
      "outputs": [
        {
          "output_type": "stream",
          "name": "stderr",
          "text": [
            "  0%|          | 1/10000 [00:01<3:26:26,  1.24s/it]"
          ]
        },
        {
          "output_type": "stream",
          "name": "stdout",
          "text": [
            "Epoch 1, Loss: 20.27237142857143\n"
          ]
        },
        {
          "output_type": "stream",
          "name": "stderr",
          "text": [
            "  1%|          | 107/10000 [01:50<2:28:55,  1.11it/s]"
          ]
        }
      ],
      "source": [
        "nn = NeuralNetwork(input_dim=IL_n, hidden_dim=n_neurons_HL, output_dim=1,inputs=inputs,targets=targets)\n",
        "learning_rate = 0.1\n",
        "epochs = 10000\n",
        "nn.runner(epochs, learning_rate)"
      ]
    },
    {
      "cell_type": "code",
      "source": [
        "sys.exit()"
      ],
      "metadata": {
        "id": "mcBrCmOZz-z0"
      },
      "execution_count": null,
      "outputs": []
    },
    {
      "cell_type": "code",
      "execution_count": null,
      "metadata": {
        "id": "a726cixezwgp"
      },
      "outputs": [],
      "source": [
        "nn = NeuralNetwork(input_dim=IL_n, hidden_dim=n_neurons_HL, output_dim=1,input=inputs,targets=targets)\n",
        "\n",
        "\n",
        "learning_rate = 0.1\n",
        "epochs = 10000\n",
        "\n",
        "for epoch in range(epochs):\n",
        "    hidden_layer_output, output_layer_output = nn.forward_propagation(inputs)\n",
        "    d_weights1, d_bias1, d_weights2, d_bias2 = nn.backward_propagation(inputs, targets, hidden_layer_output, output_layer_output)\n",
        "    nn.update_weights(d_weights1, d_bias1, d_weights2, d_bias2, learning_rate)\n",
        "\n",
        "    # Print loss every 1000 epochs\n",
        "    if epoch % 1000 == 0:\n",
        "        loss = np.mean(np.square(output_layer_output - targets))\n",
        "        print(f\"Epoch {epoch+1}, Loss: {loss}\")\n",
        "\n",
        "# Final predictions\n",
        "_, final_output = nn.forward_propagation(inputs)\n",
        "print(\"Final Predictions:\")\n",
        "print(final_output)\n"
      ]
    },
    {
      "cell_type": "code",
      "execution_count": null,
      "metadata": {
        "id": "tPVz0TpRzwgq"
      },
      "outputs": [],
      "source": [
        "class Neuron:\n",
        "    def __init__(self,value):\n",
        "        self.value = value\n",
        "class hidden_layer\n"
      ]
    },
    {
      "cell_type": "code",
      "execution_count": null,
      "metadata": {
        "id": "3ro2I9jRzwgq"
      },
      "outputs": [],
      "source": [
        "class aHL:\n",
        "    def __init__(self,mnist_784_df):\n",
        "\n",
        "\n",
        "    def forward_prop_relu(self,input,weight):\n",
        "        return np.maximum(0, input*weight)\n",
        "\n",
        "\n"
      ]
    },
    {
      "cell_type": "code",
      "execution_count": null,
      "metadata": {
        "id": "q_uJ6esozwgq"
      },
      "outputs": [],
      "source": []
    },
    {
      "cell_type": "code",
      "execution_count": null,
      "metadata": {
        "id": "RZzGoFwEzwgq"
      },
      "outputs": [],
      "source": [
        "X.to_csv(\"mnist_784.csv\",index=False,header=True)"
      ]
    },
    {
      "cell_type": "code",
      "execution_count": null,
      "metadata": {
        "id": "sZXE9q0Dzwgq"
      },
      "outputs": [],
      "source": [
        "display(X.head().T)"
      ]
    },
    {
      "cell_type": "code",
      "execution_count": null,
      "metadata": {
        "id": "Fwc70PtQzwgq"
      },
      "outputs": [],
      "source": [
        "df = pd.DataFrame(X, columns=[f'Pixel_{i}'for i in range(X.shape[-1])])"
      ]
    },
    {
      "cell_type": "code",
      "execution_count": null,
      "metadata": {
        "id": "o49d8VNhzwgq"
      },
      "outputs": [],
      "source": [
        "display(df.head())"
      ]
    },
    {
      "cell_type": "code",
      "execution_count": null,
      "metadata": {
        "id": "J_SCsMTzzwgq"
      },
      "outputs": [],
      "source": [
        "y.head()"
      ]
    },
    {
      "cell_type": "code",
      "execution_count": null,
      "metadata": {
        "id": "bAYQJN6Czwgq"
      },
      "outputs": [],
      "source": [
        "class NeuralNetwork:\n",
        "    def __init__(self, input_dim, hidden_dim, output_dim,inputs, targets):\n",
        "        self.input_dim = input_dim\n",
        "        self.hidden_dim = hidden_dim\n",
        "        self.output_dim = output_dim\n",
        "\n",
        "        self.inputs = inputs\n",
        "        self.targets = targets\n",
        "\n",
        "        self.weights1 = np.random.rand(input_dim, hidden_dim)\n",
        "        self.weights2 = np.random.rand(hidden_dim, output_dim)\n",
        "        self.bias1 = np.zeros((1, hidden_dim))\n",
        "        self.bias2 = np.zeros((1, output_dim))\n",
        "\n",
        "    def forward_propagation(self):\n",
        "\n",
        "        hidden_layer_input = np.dot(self.inputs, self.weights1) + self.bias1\n",
        "        hidden_layer_output = relu(hidden_layer_input)\n",
        "\n",
        "        output_layer_input = np.dot(hidden_layer_output, self.weights2) + self.bias2\n",
        "        output_layer_output = sigmoid(output_layer_input)\n",
        "\n",
        "        return hidden_layer_output, output_layer_output\n",
        "\n",
        "    def backward_propagation(self, targets, hidden_layer_output, output_layer_output):\n",
        "\n",
        "        d_output = 2 * (output_layer_output - targets)\n",
        "        d_weights2 = np.dot(hidden_layer_output.T, d_output * sigmoid_derivative(output_layer_output))\n",
        "        d_bias2 = np.sum(d_output * sigmoid_derivative(output_layer_output), axis=0, keepdims=True)\n",
        "\n",
        "        d_hidden_layer = np.dot(d_output * sigmoid_derivative(output_layer_output), self.weights2.T) * relu_derivative(hidden_layer_output)\n",
        "        d_weights1 = np.dot(self.inputs.T, d_hidden_layer)\n",
        "        d_bias1 = np.sum(d_hidden_layer, axis=0, keepdims=True)\n",
        "\n",
        "        return d_weights1, d_bias1, d_weights2, d_bias2\n",
        "\n",
        "    def update_weights(self, d_weights1, d_bias1, d_weights2, d_bias2, learning_rate):\n",
        "        self.weights1 -= learning_rate * d_weights1\n",
        "        self.bias1 -= learning_rate * d_bias1\n",
        "        self.weights2 -= learning_rate * d_weights2\n",
        "        self.bias2 -= learning_rate * d_bias2\n",
        "\n",
        "    def runner(self, epochs, learning_rate):\n",
        "        # inputs, targets, epochs, learning_rate\n",
        "        for i in range(epochs):\n",
        "            # hidden_layer_output, output_layer_output = self.forward_propagation(inputs)\n",
        "            # d_weights1, d_bias1, d_weights2, d_bias2 = self.backward_propagation(inputs, targets, hidden_layer_output, output_layer_output)\n",
        "            # self.update_weights(d_weights1, d_bias1, d_weights2, d_bias2, learning_rate)\n",
        "\n",
        "            self.forward_propagation()\n",
        "            self.backward_propagation()\n",
        "            self.update_weights()\n",
        "\n",
        "            if i % 100 == 0:\n",
        "                print(f\"Loss: {np.mean(np.square(output_layer_output - targets))}\")"
      ]
    }
  ],
  "metadata": {
    "kernelspec": {
      "display_name": "base",
      "language": "python",
      "name": "python3"
    },
    "language_info": {
      "codemirror_mode": {
        "name": "ipython",
        "version": 3
      },
      "file_extension": ".py",
      "mimetype": "text/x-python",
      "name": "python",
      "nbconvert_exporter": "python",
      "pygments_lexer": "ipython3",
      "version": "3.12.2"
    },
    "colab": {
      "provenance": [],
      "toc_visible": true,
      "include_colab_link": true
    }
  },
  "nbformat": 4,
  "nbformat_minor": 0
}