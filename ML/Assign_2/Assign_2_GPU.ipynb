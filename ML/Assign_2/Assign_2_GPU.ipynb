{
  "cells": [
    {
      "cell_type": "markdown",
      "metadata": {
        "id": "view-in-github",
        "colab_type": "text"
      },
      "source": [
        "<a href=\"https://colab.research.google.com/github/as3091/IITJ/blob/ML_Assign/ML/Assign_2/Assign_2_GPU.ipynb\" target=\"_parent\"><img src=\"https://colab.research.google.com/assets/colab-badge.svg\" alt=\"Open In Colab\"/></a>"
      ]
    },
    {
      "cell_type": "markdown",
      "metadata": {
        "id": "C4H9-TYwzwgk"
      },
      "source": [
        "Q3: Implementation of Neural Networks from Scratch Using NumPy and Comparison with Sklearn (20 marks):\n",
        "  \n",
        "    1. Load and preprocess the MNIST Digits Dataset. (3 marks)\n",
        "    2. Implement a neural network with one input layer, one hidden layer, and one output layer using NumPy. (5 marks)\n",
        "    3. Train the neural network with various hyperparameters (e.g., learning rate, number of hidden nodes). (3 marks)\n",
        "    4. Evaluate the performance of the neural network on the testing set. (2 marks)\n",
        "    5. Implement the same neural network using sklearn and compare the results with the NumPy implementation. (4 marks)\n",
        "    6. Plot the training and validation loss/accuracy curves (for both experiments). (3 marks)\n",
        "\n"
      ]
    },
    {
      "cell_type": "code",
      "execution_count": 1,
      "metadata": {
        "id": "5fi7HVHozwgm"
      },
      "outputs": [],
      "source": [
        "import pandas as pd\n",
        "import numpy as np\n",
        "from IPython.display import display, HTML\n",
        "import matplotlib.pyplot as plt\n",
        "from sklearn.model_selection import train_test_split, GridSearchCV\n",
        "import warnings,gc,sys\n",
        "warnings.filterwarnings('ignore')\n",
        "from sklearn.preprocessing import StandardScaler\n",
        "from sklearn.svm import LinearSVC\n",
        "from sklearn.metrics import confusion_matrix,ConfusionMatrixDisplay, classification_report\n",
        "from sklearn.pipeline import Pipeline\n",
        "from tqdm import tqdm"
      ]
    },
    {
      "cell_type": "code",
      "execution_count": 7,
      "metadata": {
        "colab": {
          "base_uri": "https://localhost:8080/"
        },
        "id": "D0iyz9Erzwgn",
        "outputId": "76b242e9-5cc6-4f97-e70b-139ae90986d4"
      },
      "outputs": [
        {
          "output_type": "stream",
          "name": "stdout",
          "text": [
            "skipping\n"
          ]
        }
      ],
      "source": [
        "%%script echo skipping\n",
        "from sklearn.datasets import fetch_openml\n",
        "\n",
        "X, y = fetch_openml('mnist_784', version=1, return_X_y=True)\n",
        "X[\"Y\"] = y\n",
        "X.to_csv(\"mnist_784.csv\",index=False,header=True)\n",
        "del X,y"
      ]
    },
    {
      "cell_type": "code",
      "execution_count": 8,
      "metadata": {
        "id": "o1V2gDs8zwgn"
      },
      "outputs": [],
      "source": [
        "mnist_784_df = pd.read_csv(\"mnist_784.csv\")\n",
        "# display(mnist_784_df.head().T)"
      ]
    },
    {
      "cell_type": "code",
      "execution_count": 9,
      "metadata": {
        "id": "krzMmnmszwgn"
      },
      "outputs": [],
      "source": [
        "def sigmoid(x):\n",
        "    return 1 / (1 + np.exp(-x))\n",
        "\n",
        "def sigmoid_derivative(x):\n",
        "    return x * (1 - x)\n",
        "\n",
        "def relu(x):\n",
        "    return np.maximum(0, x)\n",
        "\n",
        "def relu_derivative(x):\n",
        "    return np.where(x > 0, 1, 0)"
      ]
    },
    {
      "cell_type": "code",
      "execution_count": 10,
      "metadata": {
        "id": "IXEsaD_Szwgo"
      },
      "outputs": [],
      "source": [
        "inputs = mnist_784_df.drop(columns=\"Y\").values\n",
        "targets = mnist_784_df[\"Y\"].values\n",
        "result = np.where(targets == 5, targets, 0)\n",
        "\n",
        "IL_n = mnist_784_df.shape[-1]-1\n",
        "n_neurons_HL = int(np.sqrt(IL_n-1))"
      ]
    },
    {
      "cell_type": "code",
      "execution_count": 11,
      "metadata": {
        "id": "3j3G-xCfzwgo"
      },
      "outputs": [],
      "source": [
        "# Normalize the array\n",
        "max_values = np.max(inputs, axis=0)\n",
        "min_values = np.min(inputs, axis=0)\n",
        "\n",
        "normalized_array = (inputs - min_values) / (max_values - min_values)\n",
        "normalized_array = np.nan_to_num(normalized_array)  # Replace NaN values with 0\n",
        "\n",
        "# print(normalized_array[0])"
      ]
    },
    {
      "cell_type": "markdown",
      "metadata": {
        "id": "npTr9DU3zwgo"
      },
      "source": [
        "scaler = StandardScaler()\n",
        "inputs = pd.DataFrame(scaler.fit_transform(inputs), columns=inputs)"
      ]
    },
    {
      "cell_type": "code",
      "execution_count": 12,
      "metadata": {
        "id": "svaq-NFAzwgo"
      },
      "outputs": [],
      "source": [
        "X_train, X_test, y_train, y_test = train_test_split(\n",
        "    inputs, result,\n",
        "    test_size=0.20, random_state=42,\n",
        "    stratify=result,shuffle=True)"
      ]
    },
    {
      "cell_type": "code",
      "execution_count": 13,
      "metadata": {
        "id": "6yVmSs2yzwgo"
      },
      "outputs": [],
      "source": [
        "class NeuralNetwork:\n",
        "    def __init__(self, input_dim, hidden_dim, output_dim,inputs, targets):\n",
        "        self.input_dim = input_dim\n",
        "        self.hidden_dim = hidden_dim\n",
        "        self.output_dim = output_dim\n",
        "\n",
        "        self.inputs = inputs\n",
        "        self.targets = targets.reshape(-1,1)\n",
        "        # print(self.targets.shape)\n",
        "\n",
        "        self.weights1 = np.random.rand(input_dim, hidden_dim)\n",
        "        self.weights2 = np.random.rand(hidden_dim, output_dim)\n",
        "        self.bias1 = np.zeros((1, hidden_dim))\n",
        "        self.bias2 = np.zeros((1, output_dim))\n",
        "\n",
        "    def forward_propagation(self):\n",
        "\n",
        "        hidden_layer_input = np.dot(self.inputs, self.weights1) + self.bias1\n",
        "        self.hidden_layer_output = relu(hidden_layer_input)\n",
        "\n",
        "        output_layer_input = np.dot(self.hidden_layer_output, self.weights2) + self.bias2\n",
        "        self.output_layer_output = sigmoid(output_layer_input)\n",
        "        # print(self.output_layer_output.shape)\n",
        "        # sys.exit()\n",
        "        # return hidden_layer_output, output_layer_output\n",
        "\n",
        "    def backward_propagation(self):\n",
        "        # , targets, hidden_layer_output, output_layer_output):\n",
        "\n",
        "        d_output = 2 * (self.output_layer_output - self.targets)\n",
        "        self.d_weights2 = np.dot(self.hidden_layer_output.T, d_output * sigmoid_derivative(self.output_layer_output))\n",
        "        self.d_bias2 = np.sum(d_output * sigmoid_derivative(self.output_layer_output), axis=0, keepdims=True)\n",
        "\n",
        "        d_hidden_layer = np.dot(d_output * sigmoid_derivative(self.output_layer_output), self.weights2.T) * relu_derivative(self.hidden_layer_output)\n",
        "        self.d_weights1 = np.dot(self.inputs.T, d_hidden_layer)\n",
        "        self.d_bias1 = np.sum(d_hidden_layer, axis=0, keepdims=True)\n",
        "\n",
        "        # return d_weights1, d_bias1, d_weights2, d_bias2\n",
        "\n",
        "    def update_weights(self,learning_rate):\n",
        "        # , d_weights1, d_bias1, d_weights2, d_bias2, learning_rate):\n",
        "        self.weights1 -= learning_rate * self.d_weights1\n",
        "        self.bias1 -= learning_rate * self.d_bias1\n",
        "        self.weights2 -= learning_rate * self.d_weights2\n",
        "        self.bias2 -= learning_rate * self.d_bias2\n",
        "\n",
        "    def runner(self, epochs, learning_rate):\n",
        "        # inputs, targets, epochs, learning_rate\n",
        "        for epoch in tqdm(range(epochs)):\n",
        "            # hidden_layer_output, output_layer_output = self.forward_propagation(inputs)\n",
        "            # d_weights1, d_bias1, d_weights2, d_bias2 = self.backward_propagation(inputs, targets, hidden_layer_output, output_layer_output)\n",
        "            # self.update_weights(d_weights1, d_bias1, d_weights2, d_bias2, learning_rate)\n",
        "\n",
        "            self.forward_propagation()\n",
        "            self.backward_propagation()\n",
        "            self.update_weights(learning_rate=learning_rate)\n",
        "\n",
        "                # Print loss every 1000 epochs\n",
        "            if epoch % 1000 == 0:\n",
        "                loss = np.mean(np.square(self.output_layer_output - self.targets))\n",
        "                print(f\"\\nEpoch {epoch+1}, Loss: {loss}\")\n",
        "            gc.collect()\n",
        "\n",
        "        # _, final_output =\n",
        "        self.forward_propagation(self.inputs)\n",
        "        print(\"Final Predictions:\")\n",
        "        print(self.output_layer_output)"
      ]
    },
    {
      "cell_type": "code",
      "execution_count": 14,
      "metadata": {
        "colab": {
          "base_uri": "https://localhost:8080/",
          "height": 391
        },
        "id": "g-sdgAIizwgp",
        "outputId": "b54b5bbe-40f5-4eb0-c7ac-1dd10d25cf69"
      },
      "outputs": [
        {
          "output_type": "stream",
          "name": "stderr",
          "text": [
            "  0%|          | 1/10000 [00:00<2:37:56,  1.06it/s]"
          ]
        },
        {
          "output_type": "stream",
          "name": "stdout",
          "text": [
            "\n",
            "Epoch 1, Loss: 20.27237142857143\n"
          ]
        },
        {
          "output_type": "stream",
          "name": "stderr",
          "text": [
            "  0%|          | 14/10000 [00:13<2:41:20,  1.03it/s]\n"
          ]
        },
        {
          "output_type": "error",
          "ename": "KeyboardInterrupt",
          "evalue": "",
          "traceback": [
            "\u001b[0;31m---------------------------------------------------------------------------\u001b[0m",
            "\u001b[0;31mKeyboardInterrupt\u001b[0m                         Traceback (most recent call last)",
            "\u001b[0;32m<ipython-input-14-da87e7f18285>\u001b[0m in \u001b[0;36m<cell line: 0>\u001b[0;34m()\u001b[0m\n\u001b[1;32m      2\u001b[0m \u001b[0mlearning_rate\u001b[0m \u001b[0;34m=\u001b[0m \u001b[0;36m0.1\u001b[0m\u001b[0;34m\u001b[0m\u001b[0;34m\u001b[0m\u001b[0m\n\u001b[1;32m      3\u001b[0m \u001b[0mepochs\u001b[0m \u001b[0;34m=\u001b[0m \u001b[0;36m10000\u001b[0m\u001b[0;34m\u001b[0m\u001b[0;34m\u001b[0m\u001b[0m\n\u001b[0;32m----> 4\u001b[0;31m \u001b[0mnn\u001b[0m\u001b[0;34m.\u001b[0m\u001b[0mrunner\u001b[0m\u001b[0;34m(\u001b[0m\u001b[0mepochs\u001b[0m\u001b[0;34m,\u001b[0m \u001b[0mlearning_rate\u001b[0m\u001b[0;34m)\u001b[0m\u001b[0;34m\u001b[0m\u001b[0;34m\u001b[0m\u001b[0m\n\u001b[0m",
            "\u001b[0;32m<ipython-input-13-67ea4ecbd013>\u001b[0m in \u001b[0;36mrunner\u001b[0;34m(self, epochs, learning_rate)\u001b[0m\n\u001b[1;32m     53\u001b[0m \u001b[0;34m\u001b[0m\u001b[0m\n\u001b[1;32m     54\u001b[0m             \u001b[0mself\u001b[0m\u001b[0;34m.\u001b[0m\u001b[0mforward_propagation\u001b[0m\u001b[0;34m(\u001b[0m\u001b[0;34m)\u001b[0m\u001b[0;34m\u001b[0m\u001b[0;34m\u001b[0m\u001b[0m\n\u001b[0;32m---> 55\u001b[0;31m             \u001b[0mself\u001b[0m\u001b[0;34m.\u001b[0m\u001b[0mbackward_propagation\u001b[0m\u001b[0;34m(\u001b[0m\u001b[0;34m)\u001b[0m\u001b[0;34m\u001b[0m\u001b[0;34m\u001b[0m\u001b[0m\n\u001b[0m\u001b[1;32m     56\u001b[0m             \u001b[0mself\u001b[0m\u001b[0;34m.\u001b[0m\u001b[0mupdate_weights\u001b[0m\u001b[0;34m(\u001b[0m\u001b[0mlearning_rate\u001b[0m\u001b[0;34m=\u001b[0m\u001b[0mlearning_rate\u001b[0m\u001b[0;34m)\u001b[0m\u001b[0;34m\u001b[0m\u001b[0;34m\u001b[0m\u001b[0m\n\u001b[1;32m     57\u001b[0m \u001b[0;34m\u001b[0m\u001b[0m\n",
            "\u001b[0;32m<ipython-input-13-67ea4ecbd013>\u001b[0m in \u001b[0;36mbackward_propagation\u001b[0;34m(self)\u001b[0m\n\u001b[1;32m     33\u001b[0m \u001b[0;34m\u001b[0m\u001b[0m\n\u001b[1;32m     34\u001b[0m         \u001b[0md_hidden_layer\u001b[0m \u001b[0;34m=\u001b[0m \u001b[0mnp\u001b[0m\u001b[0;34m.\u001b[0m\u001b[0mdot\u001b[0m\u001b[0;34m(\u001b[0m\u001b[0md_output\u001b[0m \u001b[0;34m*\u001b[0m \u001b[0msigmoid_derivative\u001b[0m\u001b[0;34m(\u001b[0m\u001b[0mself\u001b[0m\u001b[0;34m.\u001b[0m\u001b[0moutput_layer_output\u001b[0m\u001b[0;34m)\u001b[0m\u001b[0;34m,\u001b[0m \u001b[0mself\u001b[0m\u001b[0;34m.\u001b[0m\u001b[0mweights2\u001b[0m\u001b[0;34m.\u001b[0m\u001b[0mT\u001b[0m\u001b[0;34m)\u001b[0m \u001b[0;34m*\u001b[0m \u001b[0mrelu_derivative\u001b[0m\u001b[0;34m(\u001b[0m\u001b[0mself\u001b[0m\u001b[0;34m.\u001b[0m\u001b[0mhidden_layer_output\u001b[0m\u001b[0;34m)\u001b[0m\u001b[0;34m\u001b[0m\u001b[0;34m\u001b[0m\u001b[0m\n\u001b[0;32m---> 35\u001b[0;31m         \u001b[0mself\u001b[0m\u001b[0;34m.\u001b[0m\u001b[0md_weights1\u001b[0m \u001b[0;34m=\u001b[0m \u001b[0mnp\u001b[0m\u001b[0;34m.\u001b[0m\u001b[0mdot\u001b[0m\u001b[0;34m(\u001b[0m\u001b[0mself\u001b[0m\u001b[0;34m.\u001b[0m\u001b[0minputs\u001b[0m\u001b[0;34m.\u001b[0m\u001b[0mT\u001b[0m\u001b[0;34m,\u001b[0m \u001b[0md_hidden_layer\u001b[0m\u001b[0;34m)\u001b[0m\u001b[0;34m\u001b[0m\u001b[0;34m\u001b[0m\u001b[0m\n\u001b[0m\u001b[1;32m     36\u001b[0m         \u001b[0mself\u001b[0m\u001b[0;34m.\u001b[0m\u001b[0md_bias1\u001b[0m \u001b[0;34m=\u001b[0m \u001b[0mnp\u001b[0m\u001b[0;34m.\u001b[0m\u001b[0msum\u001b[0m\u001b[0;34m(\u001b[0m\u001b[0md_hidden_layer\u001b[0m\u001b[0;34m,\u001b[0m \u001b[0maxis\u001b[0m\u001b[0;34m=\u001b[0m\u001b[0;36m0\u001b[0m\u001b[0;34m,\u001b[0m \u001b[0mkeepdims\u001b[0m\u001b[0;34m=\u001b[0m\u001b[0;32mTrue\u001b[0m\u001b[0;34m)\u001b[0m\u001b[0;34m\u001b[0m\u001b[0;34m\u001b[0m\u001b[0m\n\u001b[1;32m     37\u001b[0m \u001b[0;34m\u001b[0m\u001b[0m\n",
            "\u001b[0;31mKeyboardInterrupt\u001b[0m: "
          ]
        }
      ],
      "source": [
        "nn = NeuralNetwork(input_dim=IL_n, hidden_dim=n_neurons_HL, output_dim=1,inputs=inputs,targets=targets)\n",
        "learning_rate = 0.1\n",
        "epochs = 10000\n",
        "nn.runner(epochs, learning_rate)"
      ]
    },
    {
      "cell_type": "code",
      "source": [
        "sys.exit()"
      ],
      "metadata": {
        "id": "mcBrCmOZz-z0"
      },
      "execution_count": null,
      "outputs": []
    },
    {
      "cell_type": "code",
      "execution_count": null,
      "metadata": {
        "id": "a726cixezwgp"
      },
      "outputs": [],
      "source": [
        "nn = NeuralNetwork(input_dim=IL_n, hidden_dim=n_neurons_HL, output_dim=1,input=inputs,targets=targets)\n",
        "\n",
        "\n",
        "learning_rate = 0.1\n",
        "epochs = 10000\n",
        "\n",
        "for epoch in range(epochs):\n",
        "    hidden_layer_output, output_layer_output = nn.forward_propagation(inputs)\n",
        "    d_weights1, d_bias1, d_weights2, d_bias2 = nn.backward_propagation(inputs, targets, hidden_layer_output, output_layer_output)\n",
        "    nn.update_weights(d_weights1, d_bias1, d_weights2, d_bias2, learning_rate)\n",
        "\n",
        "    # Print loss every 1000 epochs\n",
        "    if epoch % 1000 == 0:\n",
        "        loss = np.mean(np.square(output_layer_output - targets))\n",
        "        print(f\"Epoch {epoch+1}, Loss: {loss}\")\n",
        "\n",
        "# Final predictions\n",
        "_, final_output = nn.forward_propagation(inputs)\n",
        "print(\"Final Predictions:\")\n",
        "print(final_output)\n"
      ]
    },
    {
      "cell_type": "code",
      "execution_count": null,
      "metadata": {
        "id": "tPVz0TpRzwgq"
      },
      "outputs": [],
      "source": [
        "class Neuron:\n",
        "    def __init__(self,value):\n",
        "        self.value = value\n",
        "class hidden_layer\n"
      ]
    },
    {
      "cell_type": "code",
      "execution_count": null,
      "metadata": {
        "id": "3ro2I9jRzwgq"
      },
      "outputs": [],
      "source": [
        "class aHL:\n",
        "    def __init__(self,mnist_784_df):\n",
        "\n",
        "\n",
        "    def forward_prop_relu(self,input,weight):\n",
        "        return np.maximum(0, input*weight)\n",
        "\n",
        "\n"
      ]
    },
    {
      "cell_type": "code",
      "execution_count": null,
      "metadata": {
        "id": "q_uJ6esozwgq"
      },
      "outputs": [],
      "source": []
    },
    {
      "cell_type": "code",
      "execution_count": null,
      "metadata": {
        "id": "RZzGoFwEzwgq"
      },
      "outputs": [],
      "source": [
        "X.to_csv(\"mnist_784.csv\",index=False,header=True)"
      ]
    },
    {
      "cell_type": "code",
      "execution_count": null,
      "metadata": {
        "id": "sZXE9q0Dzwgq"
      },
      "outputs": [],
      "source": [
        "display(X.head().T)"
      ]
    },
    {
      "cell_type": "code",
      "execution_count": null,
      "metadata": {
        "id": "Fwc70PtQzwgq"
      },
      "outputs": [],
      "source": [
        "df = pd.DataFrame(X, columns=[f'Pixel_{i}'for i in range(X.shape[-1])])"
      ]
    },
    {
      "cell_type": "code",
      "execution_count": null,
      "metadata": {
        "id": "o49d8VNhzwgq"
      },
      "outputs": [],
      "source": [
        "display(df.head())"
      ]
    },
    {
      "cell_type": "code",
      "execution_count": null,
      "metadata": {
        "id": "J_SCsMTzzwgq"
      },
      "outputs": [],
      "source": [
        "y.head()"
      ]
    },
    {
      "cell_type": "code",
      "execution_count": null,
      "metadata": {
        "id": "bAYQJN6Czwgq"
      },
      "outputs": [],
      "source": [
        "class NeuralNetwork:\n",
        "    def __init__(self, input_dim, hidden_dim, output_dim,inputs, targets):\n",
        "        self.input_dim = input_dim\n",
        "        self.hidden_dim = hidden_dim\n",
        "        self.output_dim = output_dim\n",
        "\n",
        "        self.inputs = inputs\n",
        "        self.targets = targets\n",
        "\n",
        "        self.weights1 = np.random.rand(input_dim, hidden_dim)\n",
        "        self.weights2 = np.random.rand(hidden_dim, output_dim)\n",
        "        self.bias1 = np.zeros((1, hidden_dim))\n",
        "        self.bias2 = np.zeros((1, output_dim))\n",
        "\n",
        "    def forward_propagation(self):\n",
        "\n",
        "        hidden_layer_input = np.dot(self.inputs, self.weights1) + self.bias1\n",
        "        hidden_layer_output = relu(hidden_layer_input)\n",
        "\n",
        "        output_layer_input = np.dot(hidden_layer_output, self.weights2) + self.bias2\n",
        "        output_layer_output = sigmoid(output_layer_input)\n",
        "\n",
        "        return hidden_layer_output, output_layer_output\n",
        "\n",
        "    def backward_propagation(self, targets, hidden_layer_output, output_layer_output):\n",
        "\n",
        "        d_output = 2 * (output_layer_output - targets)\n",
        "        d_weights2 = np.dot(hidden_layer_output.T, d_output * sigmoid_derivative(output_layer_output))\n",
        "        d_bias2 = np.sum(d_output * sigmoid_derivative(output_layer_output), axis=0, keepdims=True)\n",
        "\n",
        "        d_hidden_layer = np.dot(d_output * sigmoid_derivative(output_layer_output), self.weights2.T) * relu_derivative(hidden_layer_output)\n",
        "        d_weights1 = np.dot(self.inputs.T, d_hidden_layer)\n",
        "        d_bias1 = np.sum(d_hidden_layer, axis=0, keepdims=True)\n",
        "\n",
        "        return d_weights1, d_bias1, d_weights2, d_bias2\n",
        "\n",
        "    def update_weights(self, d_weights1, d_bias1, d_weights2, d_bias2, learning_rate):\n",
        "        self.weights1 -= learning_rate * d_weights1\n",
        "        self.bias1 -= learning_rate * d_bias1\n",
        "        self.weights2 -= learning_rate * d_weights2\n",
        "        self.bias2 -= learning_rate * d_bias2\n",
        "\n",
        "    def runner(self, epochs, learning_rate):\n",
        "        # inputs, targets, epochs, learning_rate\n",
        "        for i in range(epochs):\n",
        "            # hidden_layer_output, output_layer_output = self.forward_propagation(inputs)\n",
        "            # d_weights1, d_bias1, d_weights2, d_bias2 = self.backward_propagation(inputs, targets, hidden_layer_output, output_layer_output)\n",
        "            # self.update_weights(d_weights1, d_bias1, d_weights2, d_bias2, learning_rate)\n",
        "\n",
        "            self.forward_propagation()\n",
        "            self.backward_propagation()\n",
        "            self.update_weights()\n",
        "\n",
        "            if i % 100 == 0:\n",
        "                print(f\"Loss: {np.mean(np.square(output_layer_output - targets))}\")"
      ]
    }
  ],
  "metadata": {
    "kernelspec": {
      "display_name": "Python 3",
      "name": "python3"
    },
    "language_info": {
      "codemirror_mode": {
        "name": "ipython",
        "version": 3
      },
      "file_extension": ".py",
      "mimetype": "text/x-python",
      "name": "python",
      "nbconvert_exporter": "python",
      "pygments_lexer": "ipython3",
      "version": "3.12.2"
    },
    "colab": {
      "provenance": [],
      "gpuType": "T4",
      "cell_execution_strategy": "setup",
      "include_colab_link": true
    },
    "accelerator": "GPU"
  },
  "nbformat": 4,
  "nbformat_minor": 0
}