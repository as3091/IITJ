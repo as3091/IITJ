{
 "cells": [
  {
   "cell_type": "markdown",
   "id": "20ff0e3b",
   "metadata": {},
   "source": [
    "Q2.  Consider a simple N-Queens problem.\n",
    "  Take a suitable value of N and write a Python code for simulated annealing to solve the problem.  \n",
    "  As we know, if we take T=0 in SA, it falls back to simple hill climbing search.  \n",
    "  Modify the SA algorithm in order to make it an HC solution.  \n",
    "  In the report, write proper theoretical justification in support of your modification (e.g., calculation of the acceptance probability) and the behavioral difference between the two approaches.  \n",
    "  (Note: No marks will be given for simply implementing the HC solution.)"
   ]
  },
  {
   "cell_type": "code",
   "execution_count": 1,
   "id": "a8dce9ea",
   "metadata": {},
   "outputs": [],
   "source": [
    "import random, math,copy\n",
    "import pandas as pd\n",
    "# import numpy as np\n",
    "random.seed(42)\n",
    "# np.random.seed(42)\n",
    "# import copy"
   ]
  },
  {
   "cell_type": "code",
   "execution_count": 2,
   "id": "dab6eeed",
   "metadata": {},
   "outputs": [],
   "source": [
    "from IPython.display import display, HTML\n",
    "\n",
    "def n_queens_to_html(board = [1, 3,0,2] ):\n",
    "    \"\"\"\n",
    "    Generates an HTML table representation of an N-Queens board.\n",
    "\n",
    "    Args:\n",
    "        board (list of int): 1D list representing the N-Queens board.\n",
    "                             Each index represents a column, and the value at that index represents the row of the queen.\n",
    "\n",
    "    Returns:\n",
    "        str: HTML string for the N-Queens board.\n",
    "    \"\"\"\n",
    "    n = len(board)\n",
    "    html = \"\"\"\n",
    "    <style>\n",
    "        table { border-collapse: collapse; font-family: Arial, sans-serif; }\n",
    "        td { border: 1px solid black; height: 40px; width: 40px; text-align: center; font-size: 18px; }\n",
    "        .queen { background-color: #f4cccc; font-weight: bold; color: black; }\n",
    "    </style>\n",
    "    <table>\n",
    "    \"\"\"\n",
    "\n",
    "    for i in range(n):\n",
    "        html += \"<tr>\"\n",
    "        for j in range(n):\n",
    "            # Check if the current cell contains a queen\n",
    "            if board[j] == i:\n",
    "                html += '<td class=\"queen\">Q</td>'\n",
    "            else:\n",
    "                html += \"<td></td>\"\n",
    "        html += \"</tr>\"\n",
    "\n",
    "    html += \"</table>\"\n",
    "    return html"
   ]
  },
  {
   "cell_type": "code",
   "execution_count": 3,
   "id": "43c69be3",
   "metadata": {},
   "outputs": [],
   "source": [
    "from IPython.display import display, HTML\n",
    "\n",
    "def n_queens_to_html_with_conflicts(board, heuristic_dict):\n",
    "    \"\"\"\n",
    "    Generates an HTML table representation of an N-Queens board with conflicts in blank cells.\n",
    "\n",
    "    Args:\n",
    "        board (list of int): 1D list representing the N-Queens board.\n",
    "                             Each index represents a column, and the value at that index represents the row of the queen.\n",
    "        heuristic_dict (dict): Dictionary containing conflict information for each cell.\n",
    "\n",
    "    Returns:\n",
    "        str: HTML string for the N-Queens board.\n",
    "    \"\"\"\n",
    "    n = len(board)\n",
    "    html = \"\"\"\n",
    "    <style>\n",
    "        table { border-collapse: collapse; font-family: Arial, sans-serif; }\n",
    "        td { border: 1px solid black; height: 40px; width: 40px; text-align: center; font-size: 18px; }\n",
    "        .queen { background-color: #f4cccc; font-weight: bold; color: black; }\n",
    "        .conflict { background-color: #f9f9f9; color: gray; }\n",
    "    </style>\n",
    "    <table>\n",
    "    \"\"\"\n",
    "\n",
    "    for row in range(n):\n",
    "        html += \"<tr>\"\n",
    "        for col in range(n):\n",
    "            conflicts = heuristic_dict[(row, col)]['conflicts']\n",
    "            if heuristic_dict[(row, col)]['queen']:\n",
    "                conflicts = conflicts if conflicts> 0 else ''\n",
    "                # If a queen is present, display 'Q' with number of conflicts\n",
    "                html += f'<td class=\"queen\">Q {conflicts}</td>'\n",
    "            else:\n",
    "                # If no queen, display the number of conflicts\n",
    "                html += f'<td class=\"conflict\">{conflicts}</td>'\n",
    "        html += \"</tr>\"\n",
    "\n",
    "    html += \"</table>\"\n",
    "    return html\n",
    "\n",
    "# # Example usage\n",
    "# if __name__ == \"__main__\":\n",
    "#     n = 8  # Board size\n",
    "#     board = [0, 4, 7, 5, 2, 6, 1, 3]  # Example board configuration\n"
   ]
  },
  {
   "cell_type": "code",
   "execution_count": 4,
   "id": "08faf3f3",
   "metadata": {},
   "outputs": [],
   "source": [
    "def get_new_board(n = 8):\n",
    "\n",
    "    # Initialize the board randomly\n",
    "    # The Queen's position on the board (row, column) =  (index,value) of the list\n",
    "    # Each index represents a column, and the value at that index represents the row of the queen.\n",
    "\n",
    "    board = [random.randint(0, n - 1) for i in range(n)]\n",
    "    heuristic_dict = create_heuristic_dict(board, n)  # Generate the heuristic dictionary\n",
    "\n",
    "    # Generate the HTML representation\n",
    "    display(HTML(n_queens_to_html_with_conflicts(board, heuristic_dict)))\n",
    "    return board, heuristic_dict"
   ]
  },
  {
   "cell_type": "code",
   "execution_count": 5,
   "id": "e71c638f",
   "metadata": {},
   "outputs": [],
   "source": [
    "# # Function to calculate the number of conflicts in the board\n",
    "# def calculate_conflicts(board,n):\n",
    "#     conflicts = 0\n",
    "#     for Queen_A in range(n):\n",
    "#         for Queen_B in range(Queen_A + 1, n):\n",
    "\n",
    "#             # check if two queens are in the same row\n",
    "#             if board[Queen_A] == board[Queen_B]:\n",
    "#                 conflicts += 1\n",
    "                \n",
    "#             # check if two queens are in the same diagonal\n",
    "#             abs_row_distance = abs(board[Queen_A] - board[Queen_B])\n",
    "#             abs_col_distance = abs(Queen_A - Queen_B)\n",
    "#             if abs_row_distance == abs_col_distance:\n",
    "#                 conflicts += 1\n",
    "#             # as every index represents a column, need not check if two queens are in the same column\n",
    "            \n",
    "#     return conflicts"
   ]
  },
  {
   "cell_type": "code",
   "execution_count": 6,
   "id": "8027ad78",
   "metadata": {},
   "outputs": [],
   "source": [
    "def create_heuristic_dict(board, n):\n",
    "    \"\"\"\n",
    "    Creates a heuristic dictionary for the N-Queens board.\n",
    "    The dictionary shows the total number of conflicts on the board\n",
    "    if the queen from a specific column is moved to a particular position (row, col).\n",
    "\n",
    "    Args:\n",
    "        board (list of int): 1D list representing the N-Queens board.\n",
    "                             Each index represents a column, and the value at that index represents the row of the queen.\n",
    "        n (int): Size of the board (N x N).\n",
    "\n",
    "    Returns:\n",
    "        dict: A dictionary where each key is a tuple (row, col), and the value is a dictionary with:\n",
    "              - 'queen': Whether a queen is currently present in the cell (True/False).\n",
    "              - 'conflicts': Total number of conflicts on the board if the queen is moved to this cell.\n",
    "    \"\"\"\n",
    "    heuristic_dict = {}\n",
    "\n",
    "    for col in range(n):  # Iterate over each column\n",
    "        original_row = board[col]  # Current row of the queen in this column\n",
    "        for row in range(n):  # Iterate over each row in the column\n",
    "            # Temporarily move the queen to the new position\n",
    "            temp_board = board[:]\n",
    "            temp_board[col] = row\n",
    "\n",
    "            # Calculate the total number of conflicts for the new board\n",
    "            conflicts = 0\n",
    "            for queen_a in range(n):\n",
    "                for queen_b in range(queen_a + 1, n):\n",
    "                    # Check for conflicts (same row or same diagonal)\n",
    "                    if temp_board[queen_a] == temp_board[queen_b] or \\\n",
    "                            abs(temp_board[queen_a] - temp_board[queen_b]) == abs(queen_a - queen_b):\n",
    "                        conflicts += 1\n",
    "\n",
    "            # Add the cell's data to the heuristic dictionary\n",
    "            heuristic_dict[(row, col)] = {\n",
    "                'queen': (original_row == row),  # True if the queen is currently in this cell\n",
    "                'conflicts': conflicts\n",
    "            }\n",
    "\n",
    "    return heuristic_dict"
   ]
  },
  {
   "cell_type": "code",
   "execution_count": 31,
   "id": "12cb26d0",
   "metadata": {},
   "outputs": [
    {
     "name": "stdout",
     "output_type": "stream",
     "text": [
      "Cell (0, 0): Queen = False, Conflicts = 1\n",
      "Cell (0, 1): Queen = False, Conflicts = 2\n",
      "Cell (0, 2): Queen = False, Conflicts = 2\n",
      "Cell (0, 3): Queen = False, Conflicts = 1\n",
      "Cell (0, 4): Queen = True, Conflicts = 3\n",
      "Cell (0, 5): Queen = False, Conflicts = 2\n",
      "Cell (0, 6): Queen = False, Conflicts = 4\n",
      "Cell (0, 7): Queen = False, Conflicts = 1\n",
      "Cell (1, 0): Queen = False, Conflicts = 3\n",
      "Cell (1, 1): Queen = False, Conflicts = 2\n",
      "Cell (1, 2): Queen = False, Conflicts = 3\n",
      "Cell (1, 3): Queen = True, Conflicts = 2\n",
      "Cell (1, 4): Queen = False, Conflicts = 3\n",
      "Cell (1, 5): Queen = True, Conflicts = 5\n",
      "Cell (1, 6): Queen = False, Conflicts = 2\n",
      "Cell (1, 7): Queen = False, Conflicts = 3\n",
      "Cell (2, 0): Queen = False, Conflicts = 1\n",
      "Cell (2, 1): Queen = False, Conflicts = 2\n",
      "Cell (2, 2): Queen = False, Conflicts = 3\n",
      "Cell (2, 3): Queen = False, Conflicts = 3\n",
      "Cell (2, 4): Queen = False, Conflicts = 5\n",
      "Cell (2, 5): Queen = False, Conflicts = 1\n",
      "Cell (2, 6): Queen = True, Conflicts = 2\n",
      "Cell (2, 7): Queen = False, Conflicts = 1\n",
      "Cell (3, 0): Queen = False, Conflicts = 1\n",
      "Cell (3, 1): Queen = False, Conflicts = 3\n",
      "Cell (3, 2): Queen = True, Conflicts = 0\n",
      "Cell (3, 3): Queen = False, Conflicts = 4\n",
      "Cell (3, 4): Queen = False, Conflicts = 2\n",
      "Cell (3, 5): Queen = False, Conflicts = 3\n",
      "Cell (3, 6): Queen = False, Conflicts = 1\n",
      "Cell (3, 7): Queen = False, Conflicts = 4\n",
      "Cell (4, 0): Queen = False, Conflicts = 3\n",
      "Cell (4, 1): Queen = False, Conflicts = 1\n",
      "Cell (4, 2): Queen = False, Conflicts = 3\n",
      "Cell (4, 3): Queen = False, Conflicts = 1\n",
      "Cell (4, 4): Queen = False, Conflicts = 1\n",
      "Cell (4, 5): Queen = False, Conflicts = 1\n",
      "Cell (4, 6): Queen = False, Conflicts = 1\n",
      "Cell (4, 7): Queen = False, Conflicts = 0\n",
      "Cell (5, 0): Queen = False, Conflicts = 2\n",
      "Cell (5, 1): Queen = True, Conflicts = 2\n",
      "Cell (5, 2): Queen = False, Conflicts = 1\n",
      "Cell (5, 3): Queen = False, Conflicts = 2\n",
      "Cell (5, 4): Queen = False, Conflicts = 2\n",
      "Cell (5, 5): Queen = False, Conflicts = 1\n",
      "Cell (5, 6): Queen = False, Conflicts = 2\n",
      "Cell (5, 7): Queen = False, Conflicts = 2\n",
      "Cell (6, 0): Queen = True, Conflicts = 3\n",
      "Cell (6, 1): Queen = False, Conflicts = 2\n",
      "Cell (6, 2): Queen = False, Conflicts = 4\n",
      "Cell (6, 3): Queen = False, Conflicts = 2\n",
      "Cell (6, 4): Queen = False, Conflicts = 2\n",
      "Cell (6, 5): Queen = False, Conflicts = 3\n",
      "Cell (6, 6): Queen = False, Conflicts = 2\n",
      "Cell (6, 7): Queen = True, Conflicts = 1\n",
      "Cell (7, 0): Queen = False, Conflicts = 0\n",
      "Cell (7, 1): Queen = False, Conflicts = 2\n",
      "Cell (7, 2): Queen = False, Conflicts = 0\n",
      "Cell (7, 3): Queen = False, Conflicts = 1\n",
      "Cell (7, 4): Queen = False, Conflicts = 0\n",
      "Cell (7, 5): Queen = False, Conflicts = 0\n",
      "Cell (7, 6): Queen = False, Conflicts = 2\n",
      "Cell (7, 7): Queen = False, Conflicts = 0\n"
     ]
    }
   ],
   "source": [
    "heuristic_dict = create_heuristic_dict(board, n)\n",
    "\n",
    "# Print the heuristic dictionary\n",
    "for key, value in heuristic_dict.items():\n",
    "    print(f\"Cell {key}: Queen = {value['queen']}, Conflicts = {value['conflicts']}\")"
   ]
  },
  {
   "cell_type": "code",
   "execution_count": 5,
   "id": "e4345cf9",
   "metadata": {},
   "outputs": [],
   "source": [
    "# Function to generate a random neighbor\n",
    "def get_neighbor(board,n):\n",
    "\n",
    "    neighbor_board = copy.deepcopy(board)\n",
    "\n",
    "    # Randomly select a column to change\n",
    "    col = random.randint(0, n - 1)\n",
    "    \n",
    "    while True:\n",
    "        # Randomly select a new row for that column\n",
    "        row = random.randint(0, n - 1)\n",
    "\n",
    "        # Ensure the new row is different from the current row\n",
    "        if row != board[col]:\n",
    "    \n",
    "            #set the new row value for the selected column\n",
    "            neighbor_board[col] = row\n",
    "    \n",
    "            #return the new board\n",
    "            return neighbor_board"
   ]
  },
  {
   "cell_type": "code",
   "execution_count": 6,
   "id": "6b8f3695",
   "metadata": {},
   "outputs": [],
   "source": [
    "# Simulated Annealing algorithm\n",
    "def simulated_annealing(n, initial_temperature, cooling_rate,board):\n",
    "\n",
    "\n",
    "    # Calculate the initial number of conflicts\n",
    "    current_conflicts = calculate_conflicts(board,n)\n",
    "    temperature = initial_temperature\n",
    "\n",
    "    while temperature > 0 and current_conflicts > 0:\n",
    "        \n",
    "        # Generate a neighbor board\n",
    "        neighbor = get_neighbor(board,n)\n",
    "        neighbor_conflicts = calculate_conflicts(neighbor,n)\n",
    "        \n",
    "        # Calculate the change in conflicts\n",
    "        delta = neighbor_conflicts - current_conflicts\n",
    "\n",
    "        # If neighbour has fewer conflicts accept neighbour\n",
    "        # If the neighbour has more conflicts, then calculate probability of accepting worse solution\n",
    "        # proabaility is given by e**(-delta / temperature)\n",
    "        # A random number between 0 and 1 is generated, If this random number < probability, the worse solution is accepted.\n",
    "        # When temperature is high, the probability of accepting worse solutions is higher.\n",
    "        # As temperature decreases, the probability of accepting worse solutions decreases.\n",
    "        \n",
    "        if delta < 0 or random.random() < math.exp(-delta / temperature):\n",
    "            board = neighbor\n",
    "            current_conflicts = neighbor_conflicts\n",
    "\n",
    "        # Cool down\n",
    "        temperature *= cooling_rate\n",
    "\n",
    "    return board, current_conflicts"
   ]
  },
  {
   "cell_type": "code",
   "execution_count": 12,
   "id": "0dfc4768",
   "metadata": {},
   "outputs": [
    {
     "data": {
      "text/html": [
       "\n",
       "    <style>\n",
       "        table { border-collapse: collapse; font-family: Arial, sans-serif; }\n",
       "        td { border: 1px solid black; height: 40px; width: 40px; text-align: center; font-size: 18px; }\n",
       "        .queen { background-color: #f4cccc; font-weight: bold; color: black; }\n",
       "    </style>\n",
       "    <table>\n",
       "    <tr><td></td><td class=\"queen\">Q</td><td class=\"queen\">Q</td><td></td><td></td><td></td><td class=\"queen\">Q</td><td></td></tr><tr><td></td><td></td><td></td><td class=\"queen\">Q</td><td></td><td></td><td></td><td></td></tr><tr><td></td><td></td><td></td><td></td><td></td><td></td><td></td><td></td></tr><tr><td></td><td></td><td></td><td></td><td class=\"queen\">Q</td><td class=\"queen\">Q</td><td></td><td class=\"queen\">Q</td></tr><tr><td></td><td></td><td></td><td></td><td></td><td></td><td></td><td></td></tr><tr><td></td><td></td><td></td><td></td><td></td><td></td><td></td><td></td></tr><tr><td class=\"queen\">Q</td><td></td><td></td><td></td><td></td><td></td><td></td><td></td></tr><tr><td></td><td></td><td></td><td></td><td></td><td></td><td></td><td></td></tr></table>"
      ],
      "text/plain": [
       "<IPython.core.display.HTML object>"
      ]
     },
     "metadata": {},
     "output_type": "display_data"
    },
    {
     "name": "stdout",
     "output_type": "stream",
     "text": [
      "Simulated Annealing Solution:\n",
      "Board: [6, 1, 3, 0, 7, 4, 2, 5]\n",
      "Conflicts: 0\n"
     ]
    },
    {
     "data": {
      "text/html": [
       "\n",
       "    <style>\n",
       "        table { border-collapse: collapse; font-family: Arial, sans-serif; }\n",
       "        td { border: 1px solid black; height: 40px; width: 40px; text-align: center; font-size: 18px; }\n",
       "        .queen { background-color: #f4cccc; font-weight: bold; color: black; }\n",
       "    </style>\n",
       "    <table>\n",
       "    <tr><td></td><td></td><td></td><td class=\"queen\">Q</td><td></td><td></td><td></td><td></td></tr><tr><td></td><td class=\"queen\">Q</td><td></td><td></td><td></td><td></td><td></td><td></td></tr><tr><td></td><td></td><td></td><td></td><td></td><td></td><td class=\"queen\">Q</td><td></td></tr><tr><td></td><td></td><td class=\"queen\">Q</td><td></td><td></td><td></td><td></td><td></td></tr><tr><td></td><td></td><td></td><td></td><td></td><td class=\"queen\">Q</td><td></td><td></td></tr><tr><td></td><td></td><td></td><td></td><td></td><td></td><td></td><td class=\"queen\">Q</td></tr><tr><td class=\"queen\">Q</td><td></td><td></td><td></td><td></td><td></td><td></td><td></td></tr><tr><td></td><td></td><td></td><td></td><td class=\"queen\">Q</td><td></td><td></td><td></td></tr></table>"
      ],
      "text/plain": [
       "<IPython.core.display.HTML object>"
      ]
     },
     "metadata": {},
     "output_type": "display_data"
    }
   ],
   "source": [
    "display(HTML(n_queens_to_html(board)))\n",
    "\n",
    "print(\"Simulated Annealing Solution:\")\n",
    "sa_solution, sa_conflicts = simulated_annealing(n=n, initial_temperature=100, cooling_rate=0.95,board=board)\n",
    "print(\"Board:\", sa_solution)\n",
    "print(\"Conflicts:\", sa_conflicts)\n",
    "display(HTML(n_queens_to_html(sa_solution)))"
   ]
  },
  {
   "cell_type": "code",
   "execution_count": 13,
   "id": "e58afec5",
   "metadata": {},
   "outputs": [],
   "source": [
    "# Hill Climbing algorithm (modified SA with T=0)\n",
    "def hill_climbing(n,board):\n",
    "    current_conflicts = calculate_conflicts(board=board,n=n)\n",
    "\n",
    "    while current_conflicts > 0:\n",
    "        neighbor = get_neighbor(board=board,n=n)\n",
    "        neighbor_conflicts = calculate_conflicts(board=neighbor,n=n)\n",
    "\n",
    "        # Only accept better neighbors\n",
    "        if neighbor_conflicts < current_conflicts:\n",
    "            board = neighbor\n",
    "            current_conflicts = neighbor_conflicts\n",
    "\n",
    "    return board, current_conflicts"
   ]
  },
  {
   "cell_type": "code",
   "execution_count": null,
   "id": "4d5c665f",
   "metadata": {},
   "outputs": [],
   "source": [
    "heuristic_dict = {}\n",
    "for row in range(n):\n",
    "    for col in range(n):\n",
    "        heuristic_dict[(row,col)] = 0"
   ]
  },
  {
   "cell_type": "code",
   "execution_count": null,
   "id": "8ecadb78",
   "metadata": {},
   "outputs": [
    {
     "data": {
      "text/html": [
       "\n",
       "    <style>\n",
       "        table { border-collapse: collapse; font-family: Arial, sans-serif; }\n",
       "        td { border: 1px solid black; height: 40px; width: 40px; text-align: center; font-size: 18px; }\n",
       "        .queen { background-color: #f4cccc; font-weight: bold; color: black; }\n",
       "    </style>\n",
       "    <table>\n",
       "    <tr><td></td><td class=\"queen\">Q</td><td class=\"queen\">Q</td><td></td><td></td><td></td><td class=\"queen\">Q</td><td></td></tr><tr><td></td><td></td><td></td><td class=\"queen\">Q</td><td></td><td></td><td></td><td></td></tr><tr><td></td><td></td><td></td><td></td><td></td><td></td><td></td><td></td></tr><tr><td></td><td></td><td></td><td></td><td class=\"queen\">Q</td><td class=\"queen\">Q</td><td></td><td class=\"queen\">Q</td></tr><tr><td></td><td></td><td></td><td></td><td></td><td></td><td></td><td></td></tr><tr><td></td><td></td><td></td><td></td><td></td><td></td><td></td><td></td></tr><tr><td class=\"queen\">Q</td><td></td><td></td><td></td><td></td><td></td><td></td><td></td></tr><tr><td></td><td></td><td></td><td></td><td></td><td></td><td></td><td></td></tr></table>"
      ],
      "text/plain": [
       "<IPython.core.display.HTML object>"
      ]
     },
     "metadata": {},
     "output_type": "display_data"
    },
    {
     "name": "stdout",
     "output_type": "stream",
     "text": [
      "\n",
      "Hill Climbing Solution:\n"
     ]
    },
    {
     "ename": "KeyboardInterrupt",
     "evalue": "",
     "output_type": "error",
     "traceback": [
      "\u001b[0;31m---------------------------------------------------------------------------\u001b[0m",
      "\u001b[0;31mKeyboardInterrupt\u001b[0m                         Traceback (most recent call last)",
      "Cell \u001b[0;32mIn[14], line 4\u001b[0m\n\u001b[1;32m      1\u001b[0m display(HTML(n_queens_to_html(board)))\n\u001b[1;32m      3\u001b[0m \u001b[38;5;28mprint\u001b[39m(\u001b[38;5;124m\"\u001b[39m\u001b[38;5;130;01m\\n\u001b[39;00m\u001b[38;5;124mHill Climbing Solution:\u001b[39m\u001b[38;5;124m\"\u001b[39m)\n\u001b[0;32m----> 4\u001b[0m hc_solution, hc_conflicts \u001b[38;5;241m=\u001b[39m \u001b[43mhill_climbing\u001b[49m\u001b[43m(\u001b[49m\u001b[43mn\u001b[49m\u001b[38;5;241;43m=\u001b[39;49m\u001b[43mn\u001b[49m\u001b[43m,\u001b[49m\u001b[43m \u001b[49m\u001b[43mboard\u001b[49m\u001b[38;5;241;43m=\u001b[39;49m\u001b[43mboard\u001b[49m\u001b[43m)\u001b[49m\n\u001b[1;32m      5\u001b[0m \u001b[38;5;28mprint\u001b[39m(\u001b[38;5;124m\"\u001b[39m\u001b[38;5;124mBoard:\u001b[39m\u001b[38;5;124m\"\u001b[39m, hc_solution)\n\u001b[1;32m      6\u001b[0m \u001b[38;5;28mprint\u001b[39m(\u001b[38;5;124m\"\u001b[39m\u001b[38;5;124mConflicts:\u001b[39m\u001b[38;5;124m\"\u001b[39m, hc_conflicts)\n",
      "Cell \u001b[0;32mIn[13], line 6\u001b[0m, in \u001b[0;36mhill_climbing\u001b[0;34m(n, board)\u001b[0m\n\u001b[1;32m      3\u001b[0m current_conflicts \u001b[38;5;241m=\u001b[39m calculate_conflicts(board\u001b[38;5;241m=\u001b[39mboard,n\u001b[38;5;241m=\u001b[39mn)\n\u001b[1;32m      5\u001b[0m \u001b[38;5;28;01mwhile\u001b[39;00m current_conflicts \u001b[38;5;241m>\u001b[39m \u001b[38;5;241m0\u001b[39m:\n\u001b[0;32m----> 6\u001b[0m     neighbor \u001b[38;5;241m=\u001b[39m \u001b[43mget_neighbor\u001b[49m\u001b[43m(\u001b[49m\u001b[43mboard\u001b[49m\u001b[38;5;241;43m=\u001b[39;49m\u001b[43mboard\u001b[49m\u001b[43m,\u001b[49m\u001b[43mn\u001b[49m\u001b[38;5;241;43m=\u001b[39;49m\u001b[43mn\u001b[49m\u001b[43m)\u001b[49m\n\u001b[1;32m      7\u001b[0m     neighbor_conflicts \u001b[38;5;241m=\u001b[39m calculate_conflicts(board\u001b[38;5;241m=\u001b[39mneighbor,n\u001b[38;5;241m=\u001b[39mn)\n\u001b[1;32m      9\u001b[0m     \u001b[38;5;66;03m# Only accept better neighbors\u001b[39;00m\n",
      "Cell \u001b[0;32mIn[5], line 4\u001b[0m, in \u001b[0;36mget_neighbor\u001b[0;34m(board, n)\u001b[0m\n\u001b[1;32m      2\u001b[0m \u001b[38;5;28;01mdef\u001b[39;00m\u001b[38;5;250m \u001b[39m\u001b[38;5;21mget_neighbor\u001b[39m(board,n):\n\u001b[0;32m----> 4\u001b[0m     neighbor_board \u001b[38;5;241m=\u001b[39m \u001b[43mcopy\u001b[49m\u001b[38;5;241;43m.\u001b[39;49m\u001b[43mdeepcopy\u001b[49m\u001b[43m(\u001b[49m\u001b[43mboard\u001b[49m\u001b[43m)\u001b[49m\n\u001b[1;32m      6\u001b[0m     \u001b[38;5;66;03m# Randomly select a column to change\u001b[39;00m\n\u001b[1;32m      7\u001b[0m     col \u001b[38;5;241m=\u001b[39m random\u001b[38;5;241m.\u001b[39mrandint(\u001b[38;5;241m0\u001b[39m, n \u001b[38;5;241m-\u001b[39m \u001b[38;5;241m1\u001b[39m)\n",
      "File \u001b[0;32m~/miniconda3/lib/python3.12/copy.py:136\u001b[0m, in \u001b[0;36mdeepcopy\u001b[0;34m(x, memo, _nil)\u001b[0m\n\u001b[1;32m    134\u001b[0m copier \u001b[38;5;241m=\u001b[39m _deepcopy_dispatch\u001b[38;5;241m.\u001b[39mget(\u001b[38;5;28mcls\u001b[39m)\n\u001b[1;32m    135\u001b[0m \u001b[38;5;28;01mif\u001b[39;00m copier \u001b[38;5;129;01mis\u001b[39;00m \u001b[38;5;129;01mnot\u001b[39;00m \u001b[38;5;28;01mNone\u001b[39;00m:\n\u001b[0;32m--> 136\u001b[0m     y \u001b[38;5;241m=\u001b[39m \u001b[43mcopier\u001b[49m\u001b[43m(\u001b[49m\u001b[43mx\u001b[49m\u001b[43m,\u001b[49m\u001b[43m \u001b[49m\u001b[43mmemo\u001b[49m\u001b[43m)\u001b[49m\n\u001b[1;32m    137\u001b[0m \u001b[38;5;28;01melse\u001b[39;00m:\n\u001b[1;32m    138\u001b[0m     \u001b[38;5;28;01mif\u001b[39;00m \u001b[38;5;28missubclass\u001b[39m(\u001b[38;5;28mcls\u001b[39m, \u001b[38;5;28mtype\u001b[39m):\n",
      "File \u001b[0;32m~/miniconda3/lib/python3.12/copy.py:196\u001b[0m, in \u001b[0;36m_deepcopy_list\u001b[0;34m(x, memo, deepcopy)\u001b[0m\n\u001b[1;32m    194\u001b[0m append \u001b[38;5;241m=\u001b[39m y\u001b[38;5;241m.\u001b[39mappend\n\u001b[1;32m    195\u001b[0m \u001b[38;5;28;01mfor\u001b[39;00m a \u001b[38;5;129;01min\u001b[39;00m x:\n\u001b[0;32m--> 196\u001b[0m     append(\u001b[43mdeepcopy\u001b[49m\u001b[43m(\u001b[49m\u001b[43ma\u001b[49m\u001b[43m,\u001b[49m\u001b[43m \u001b[49m\u001b[43mmemo\u001b[49m\u001b[43m)\u001b[49m)\n\u001b[1;32m    197\u001b[0m \u001b[38;5;28;01mreturn\u001b[39;00m y\n",
      "File \u001b[0;32m~/miniconda3/lib/python3.12/copy.py:128\u001b[0m, in \u001b[0;36mdeepcopy\u001b[0;34m(x, memo, _nil)\u001b[0m\n\u001b[1;32m    125\u001b[0m     memo \u001b[38;5;241m=\u001b[39m {}\n\u001b[1;32m    127\u001b[0m d \u001b[38;5;241m=\u001b[39m \u001b[38;5;28mid\u001b[39m(x)\n\u001b[0;32m--> 128\u001b[0m y \u001b[38;5;241m=\u001b[39m \u001b[43mmemo\u001b[49m\u001b[38;5;241;43m.\u001b[39;49m\u001b[43mget\u001b[49m\u001b[43m(\u001b[49m\u001b[43md\u001b[49m\u001b[43m,\u001b[49m\u001b[43m \u001b[49m\u001b[43m_nil\u001b[49m\u001b[43m)\u001b[49m\n\u001b[1;32m    129\u001b[0m \u001b[38;5;28;01mif\u001b[39;00m y \u001b[38;5;129;01mis\u001b[39;00m \u001b[38;5;129;01mnot\u001b[39;00m _nil:\n\u001b[1;32m    130\u001b[0m     \u001b[38;5;28;01mreturn\u001b[39;00m y\n",
      "\u001b[0;31mKeyboardInterrupt\u001b[0m: "
     ]
    }
   ],
   "source": [
    "display(HTML(n_queens_to_html(board)))\n",
    "\n",
    "print(\"\\nHill Climbing Solution:\")\n",
    "hc_solution, hc_conflicts = hill_climbing(n=n, board=board)\n",
    "print(\"Board:\", hc_solution)\n",
    "print(\"Conflicts:\", hc_conflicts)\n",
    "display(HTML(n_queens_to_html(hc_solution)))"
   ]
  },
  {
   "cell_type": "code",
   "execution_count": null,
   "id": "c5e38d0e",
   "metadata": {},
   "outputs": [],
   "source": [
    "def calculate_total_conflicts(board,n):\n",
    "    \"\"\"Helper function to calculate the total number of conflicts on the board.\"\"\"\n",
    "    heuristic_dict = create_heuristic_dict(board, n)\n",
    "    total_conflicts = sum(\n",
    "        heuristic_dict[(row, col)]['conflicts']\n",
    "        for col in range(n)\n",
    "        for row in range(n)\n",
    "        if heuristic_dict[(row, col)]['queen']\n",
    "    )\n",
    "    return total_conflicts\n",
    "def hill_climbing_with_heuristic(board, n):\n",
    "    \"\"\"\n",
    "    Hill Climbing algorithm to solve the N-Queens problem using heuristic_dict.\n",
    "    The algorithm evaluates moving each queen to a different row in its column\n",
    "    and selects the move that reduces the total number of conflicts.\n",
    "\n",
    "    Args:\n",
    "        board (list of int): 1D list representing the N-Queens board.\n",
    "                             Each index represents a column, and the value at that index represents the row of the queen.\n",
    "        n (int): Size of the board (N x N).\n",
    "\n",
    "    Returns:\n",
    "        tuple: A tuple containing the final board configuration and the number of conflicts.\n",
    "    \"\"\"\n",
    "\n",
    "\n",
    "    current_conflicts = calculate_total_conflicts(board,n)\n",
    "\n",
    "    while current_conflicts > 0:\n",
    "        best_move = None\n",
    "        best_conflicts = current_conflicts\n",
    "\n",
    "        # Try moving each queen to a different row in its column\n",
    "        for col in range(n):\n",
    "            original_row = board[col]\n",
    "            for row in range(n):\n",
    "                if row == original_row:\n",
    "                    continue  # Skip the current position of the queen\n",
    "\n",
    "                # Create a new board with the queen moved\n",
    "                new_board = board[:]\n",
    "                new_board[col] = row\n",
    "\n",
    "                # Calculate the total conflicts for the new board\n",
    "                new_conflicts = calculate_total_conflicts(new_board,n)\n",
    "\n",
    "                # If the new board has fewer conflicts, update the best move\n",
    "                if new_conflicts < best_conflicts:\n",
    "                    best_move = (col, row)\n",
    "                    best_conflicts = new_conflicts\n",
    "\n",
    "        # If no better move is found, terminate (local minimum)\n",
    "        if best_move is None:\n",
    "            break\n",
    "\n",
    "        # Make the best move\n",
    "        col, row = best_move\n",
    "        board[col] = row\n",
    "        current_conflicts = best_conflicts\n",
    "\n",
    "        display(HTML(n_queens_to_html_with_conflicts(board, heuristic_dict)))\n",
    "\n",
    "    return board, current_conflicts"
   ]
  },
  {
   "cell_type": "code",
   "execution_count": 33,
   "id": "20b29310",
   "metadata": {},
   "outputs": [
    {
     "name": "stdout",
     "output_type": "stream",
     "text": [
      "Initial Board: [6, 6, 2, 3, 0, 4, 2, 6]\n",
      "Final Board: [1, 6, 0, 3, 7, 4, 2, 5]\n",
      "Conflicts: 2\n"
     ]
    },
    {
     "data": {
      "text/html": [
       "\n",
       "    <style>\n",
       "        table { border-collapse: collapse; font-family: Arial, sans-serif; }\n",
       "        td { border: 1px solid black; height: 40px; width: 40px; text-align: center; font-size: 18px; }\n",
       "        .queen { background-color: #f4cccc; font-weight: bold; color: black; }\n",
       "        .conflict { background-color: #f9f9f9; color: gray; }\n",
       "    </style>\n",
       "    <table>\n",
       "    <tr><td class=\"conflict\">2</td><td class=\"conflict\">3</td><td class=\"queen\">Q 1</td><td class=\"conflict\">1</td><td class=\"conflict\">2</td><td class=\"conflict\">1</td><td class=\"conflict\">2</td><td class=\"conflict\">2</td></tr><tr><td class=\"queen\">Q </td><td class=\"conflict\">3</td><td class=\"conflict\">2</td><td class=\"conflict\">3</td><td class=\"conflict\">1</td><td class=\"conflict\">3</td><td class=\"conflict\">2</td><td class=\"conflict\">2</td></tr><tr><td class=\"conflict\">2</td><td class=\"conflict\">2</td><td class=\"conflict\">2</td><td class=\"conflict\">2</td><td class=\"conflict\">4</td><td class=\"conflict\">2</td><td class=\"queen\">Q </td><td class=\"conflict\">2</td></tr><tr><td class=\"conflict\">2</td><td class=\"conflict\">1</td><td class=\"conflict\">2</td><td class=\"queen\">Q </td><td class=\"conflict\">3</td><td class=\"conflict\">4</td><td class=\"conflict\">2</td><td class=\"conflict\">2</td></tr><tr><td class=\"conflict\">1</td><td class=\"conflict\">2</td><td class=\"conflict\">2</td><td class=\"conflict\">3</td><td class=\"conflict\">3</td><td class=\"queen\">Q </td><td class=\"conflict\">3</td><td class=\"conflict\">2</td></tr><tr><td class=\"conflict\">2</td><td class=\"conflict\">2</td><td class=\"conflict\">3</td><td class=\"conflict\">2</td><td class=\"conflict\">3</td><td class=\"conflict\">2</td><td class=\"conflict\">3</td><td class=\"queen\">Q 1</td></tr><tr><td class=\"conflict\">2</td><td class=\"queen\">Q </td><td class=\"conflict\">2</td><td class=\"conflict\">3</td><td class=\"conflict\">1</td><td class=\"conflict\">3</td><td class=\"conflict\">3</td><td class=\"conflict\">2</td></tr><tr><td class=\"conflict\">2</td><td class=\"conflict\">2</td><td class=\"conflict\">3</td><td class=\"conflict\">1</td><td class=\"queen\">Q </td><td class=\"conflict\">2</td><td class=\"conflict\">2</td><td class=\"conflict\">2</td></tr></table>"
      ],
      "text/plain": [
       "<IPython.core.display.HTML object>"
      ]
     },
     "metadata": {},
     "output_type": "display_data"
    }
   ],
   "source": [
    "n = 8  # Board size\n",
    "board = [random.randint(0, n - 1) for _ in range(n)]  # Random initial board\n",
    "print(\"Initial Board:\", board)\n",
    "\n",
    "# Solve using Hill Climbing\n",
    "solution, conflicts = hill_climbing_with_heuristic(board, n)\n",
    "print(\"Final Board:\", solution)\n",
    "print(\"Conflicts:\", conflicts)\n",
    "\n",
    "# Display the solution\n",
    "heuristic_dict = create_heuristic_dict(solution, n)\n",
    "display(HTML(n_queens_to_html_with_conflicts(solution, heuristic_dict)))"
   ]
  },
  {
   "cell_type": "code",
   "execution_count": 22,
   "id": "c74f8e91",
   "metadata": {},
   "outputs": [],
   "source": [
    "def calculate_total_conflicts(board,n):\n",
    "    \"\"\"Helper function to calculate the total number of conflicts on the board.\"\"\"\n",
    "    heuristic_dict = create_heuristic_dict(board, n)\n",
    "    total_conflicts = sum(\n",
    "        heuristic_dict[(row, col)]['conflicts']\n",
    "        for col in range(n)\n",
    "        for row in range(n)\n",
    "        if heuristic_dict[(row, col)]['queen']\n",
    "    )\n",
    "    return total_conflicts\n",
    "def hill_climbing_with_heuristic(board, n):\n",
    "    \"\"\"\n",
    "    Hill Climbing algorithm to solve the N-Queens problem using heuristic_dict.\n",
    "    The algorithm evaluates moving each queen to a different row in its column\n",
    "    and selects the move that reduces the total number of conflicts.\n",
    "\n",
    "    Args:\n",
    "        board (list of int): 1D list representing the N-Queens board.\n",
    "                             Each index represents a column, and the value at that index represents the row of the queen.\n",
    "        n (int): Size of the board (N x N).\n",
    "\n",
    "    Returns:\n",
    "        tuple: A tuple containing the final board configuration and the number of conflicts.\n",
    "    \"\"\"\n",
    "\n",
    "    current_conflicts = calculate_total_conflicts(board,n)\n",
    "\n",
    "    while current_conflicts > 0:\n",
    "        best_move = None\n",
    "        best_conflicts = current_conflicts\n",
    "\n",
    "        # Try moving each queen to a different row in its column\n",
    "        for col in range(n):\n",
    "            original_row = board[col]\n",
    "            for row in range(n):\n",
    "                if row == original_row:\n",
    "                    continue  # Skip the current position of the queen\n",
    "\n",
    "                # Create a new board with the queen moved\n",
    "                new_board = board[:]\n",
    "                new_board[col] = row\n",
    "\n",
    "                # Calculate the total conflicts for the new board\n",
    "                new_conflicts = calculate_total_conflicts(new_board,n)\n",
    "\n",
    "                # If the new board has fewer conflicts, update the best move\n",
    "                if new_conflicts < best_conflicts:\n",
    "                    best_move = (col, row)\n",
    "                    best_conflicts = new_conflicts\n",
    "\n",
    "        # If no better move is found, terminate (local minimum)\n",
    "        if best_move is None:\n",
    "            break\n",
    "\n",
    "        # Make the best move\n",
    "        col, row = best_move\n",
    "        print(f\"Moving column {col+1} Queen, from row {board[col]+1} to {row+1}\")\n",
    "        # col, row = best_move\n",
    "        board[col] = row\n",
    "        current_conflicts = best_conflicts\n",
    "\n",
    "        # Display the updated board with conflicts\n",
    "        heuristic_dict = create_heuristic_dict(board, n)\n",
    "        display(HTML(n_queens_to_html_with_conflicts(board, heuristic_dict)))\n",
    "\n",
    "    return board, current_conflicts"
   ]
  },
  {
   "cell_type": "code",
   "execution_count": 23,
   "id": "dc5eac70",
   "metadata": {},
   "outputs": [
    {
     "data": {
      "text/html": [
       "\n",
       "    <style>\n",
       "        table { border-collapse: collapse; font-family: Arial, sans-serif; }\n",
       "        td { border: 1px solid black; height: 40px; width: 40px; text-align: center; font-size: 18px; }\n",
       "        .queen { background-color: #f4cccc; font-weight: bold; color: black; }\n",
       "        .conflict { background-color: #f9f9f9; color: gray; }\n",
       "    </style>\n",
       "    <table>\n",
       "    <tr><td class=\"conflict\">10</td><td class=\"conflict\">6</td><td class=\"conflict\">10</td><td class=\"conflict\">6</td><td class=\"conflict\">8</td><td class=\"conflict\">6</td><td class=\"conflict\">9</td><td class=\"conflict\">9</td></tr><tr><td class=\"conflict\">10</td><td class=\"conflict\">8</td><td class=\"conflict\">8</td><td class=\"queen\">Q 9</td><td class=\"conflict\">7</td><td class=\"conflict\">9</td><td class=\"conflict\">8</td><td class=\"conflict\">12</td></tr><tr><td class=\"conflict\">13</td><td class=\"conflict\">8</td><td class=\"conflict\">12</td><td class=\"conflict\">9</td><td class=\"queen\">Q 9</td><td class=\"conflict\">7</td><td class=\"queen\">Q 9</td><td class=\"conflict\">11</td></tr><tr><td class=\"conflict\">11</td><td class=\"queen\">Q 9</td><td class=\"conflict\">10</td><td class=\"conflict\">11</td><td class=\"conflict\">7</td><td class=\"queen\">Q 9</td><td class=\"conflict\">9</td><td class=\"conflict\">12</td></tr><tr><td class=\"conflict\">12</td><td class=\"conflict\">8</td><td class=\"queen\">Q 9</td><td class=\"conflict\">7</td><td class=\"conflict\">9</td><td class=\"conflict\">6</td><td class=\"conflict\">11</td><td class=\"conflict\">10</td></tr><tr><td class=\"queen\">Q 9</td><td class=\"conflict\">9</td><td class=\"conflict\">8</td><td class=\"conflict\">11</td><td class=\"conflict\">6</td><td class=\"conflict\">7</td><td class=\"conflict\">8</td><td class=\"conflict\">13</td></tr><tr><td class=\"conflict\">11</td><td class=\"conflict\">7</td><td class=\"conflict\">9</td><td class=\"conflict\">6</td><td class=\"conflict\">7</td><td class=\"conflict\">5</td><td class=\"conflict\">8</td><td class=\"conflict\">9</td></tr><tr><td class=\"conflict\">10</td><td class=\"conflict\">9</td><td class=\"conflict\">9</td><td class=\"conflict\">7</td><td class=\"conflict\">6</td><td class=\"conflict\">8</td><td class=\"conflict\">8</td><td class=\"queen\">Q 9</td></tr></table>"
      ],
      "text/plain": [
       "<IPython.core.display.HTML object>"
      ]
     },
     "metadata": {},
     "output_type": "display_data"
    },
    {
     "name": "stdout",
     "output_type": "stream",
     "text": [
      "Moving column 6 Queen, from row 4 to 7\n"
     ]
    },
    {
     "data": {
      "text/html": [
       "\n",
       "    <style>\n",
       "        table { border-collapse: collapse; font-family: Arial, sans-serif; }\n",
       "        td { border: 1px solid black; height: 40px; width: 40px; text-align: center; font-size: 18px; }\n",
       "        .queen { background-color: #f4cccc; font-weight: bold; color: black; }\n",
       "        .conflict { background-color: #f9f9f9; color: gray; }\n",
       "    </style>\n",
       "    <table>\n",
       "    <tr><td class=\"conflict\">6</td><td class=\"conflict\">3</td><td class=\"conflict\">5</td><td class=\"conflict\">3</td><td class=\"conflict\">5</td><td class=\"conflict\">6</td><td class=\"conflict\">6</td><td class=\"conflict\">5</td></tr><tr><td class=\"conflict\">7</td><td class=\"conflict\">5</td><td class=\"conflict\">4</td><td class=\"queen\">Q 5</td><td class=\"conflict\">4</td><td class=\"conflict\">9</td><td class=\"conflict\">5</td><td class=\"conflict\">7</td></tr><tr><td class=\"conflict\">9</td><td class=\"conflict\">6</td><td class=\"conflict\">8</td><td class=\"conflict\">6</td><td class=\"queen\">Q 5</td><td class=\"conflict\">7</td><td class=\"queen\">Q 5</td><td class=\"conflict\">7</td></tr><tr><td class=\"conflict\">6</td><td class=\"queen\">Q 5</td><td class=\"conflict\">6</td><td class=\"conflict\">7</td><td class=\"conflict\">3</td><td class=\"conflict\">9</td><td class=\"conflict\">5</td><td class=\"conflict\">7</td></tr><tr><td class=\"conflict\">8</td><td class=\"conflict\">5</td><td class=\"queen\">Q 5</td><td class=\"conflict\">5</td><td class=\"conflict\">5</td><td class=\"conflict\">6</td><td class=\"conflict\">7</td><td class=\"conflict\">7</td></tr><tr><td class=\"queen\">Q 5</td><td class=\"conflict\">6</td><td class=\"conflict\">4</td><td class=\"conflict\">7</td><td class=\"conflict\">4</td><td class=\"conflict\">7</td><td class=\"conflict\">6</td><td class=\"conflict\">8</td></tr><tr><td class=\"conflict\">8</td><td class=\"conflict\">5</td><td class=\"conflict\">5</td><td class=\"conflict\">4</td><td class=\"conflict\">5</td><td class=\"queen\">Q 5</td><td class=\"conflict\">6</td><td class=\"conflict\">6</td></tr><tr><td class=\"conflict\">6</td><td class=\"conflict\">5</td><td class=\"conflict\">5</td><td class=\"conflict\">4</td><td class=\"conflict\">4</td><td class=\"conflict\">8</td><td class=\"conflict\">6</td><td class=\"queen\">Q 5</td></tr></table>"
      ],
      "text/plain": [
       "<IPython.core.display.HTML object>"
      ]
     },
     "metadata": {},
     "output_type": "display_data"
    },
    {
     "name": "stdout",
     "output_type": "stream",
     "text": [
      "Moving column 2 Queen, from row 4 to 1\n"
     ]
    },
    {
     "data": {
      "text/html": [
       "\n",
       "    <style>\n",
       "        table { border-collapse: collapse; font-family: Arial, sans-serif; }\n",
       "        td { border: 1px solid black; height: 40px; width: 40px; text-align: center; font-size: 18px; }\n",
       "        .queen { background-color: #f4cccc; font-weight: bold; color: black; }\n",
       "        .conflict { background-color: #f9f9f9; color: gray; }\n",
       "    </style>\n",
       "    <table>\n",
       "    <tr><td class=\"conflict\">5</td><td class=\"queen\">Q 3</td><td class=\"conflict\">5</td><td class=\"conflict\">3</td><td class=\"conflict\">3</td><td class=\"conflict\">5</td><td class=\"conflict\">5</td><td class=\"conflict\">4</td></tr><tr><td class=\"conflict\">6</td><td class=\"conflict\">5</td><td class=\"conflict\">4</td><td class=\"queen\">Q 3</td><td class=\"conflict\">2</td><td class=\"conflict\">7</td><td class=\"conflict\">3</td><td class=\"conflict\">5</td></tr><tr><td class=\"conflict\">6</td><td class=\"conflict\">6</td><td class=\"conflict\">6</td><td class=\"conflict\">6</td><td class=\"queen\">Q 3</td><td class=\"conflict\">5</td><td class=\"queen\">Q 3</td><td class=\"conflict\">5</td></tr><tr><td class=\"conflict\">3</td><td class=\"conflict\">5</td><td class=\"conflict\">4</td><td class=\"conflict\">5</td><td class=\"conflict\">1</td><td class=\"conflict\">6</td><td class=\"conflict\">2</td><td class=\"conflict\">4</td></tr><tr><td class=\"conflict\">5</td><td class=\"conflict\">5</td><td class=\"queen\">Q 3</td><td class=\"conflict\">4</td><td class=\"conflict\">3</td><td class=\"conflict\">5</td><td class=\"conflict\">5</td><td class=\"conflict\">5</td></tr><tr><td class=\"queen\">Q 3</td><td class=\"conflict\">6</td><td class=\"conflict\">3</td><td class=\"conflict\">5</td><td class=\"conflict\">2</td><td class=\"conflict\">5</td><td class=\"conflict\">5</td><td class=\"conflict\">6</td></tr><tr><td class=\"conflict\">6</td><td class=\"conflict\">5</td><td class=\"conflict\">4</td><td class=\"conflict\">3</td><td class=\"conflict\">2</td><td class=\"queen\">Q 3</td><td class=\"conflict\">4</td><td class=\"conflict\">5</td></tr><tr><td class=\"conflict\">4</td><td class=\"conflict\">5</td><td class=\"conflict\">4</td><td class=\"conflict\">3</td><td class=\"conflict\">2</td><td class=\"conflict\">5</td><td class=\"conflict\">4</td><td class=\"queen\">Q 3</td></tr></table>"
      ],
      "text/plain": [
       "<IPython.core.display.HTML object>"
      ]
     },
     "metadata": {},
     "output_type": "display_data"
    },
    {
     "name": "stdout",
     "output_type": "stream",
     "text": [
      "Moving column 5 Queen, from row 3 to 4\n"
     ]
    },
    {
     "data": {
      "text/html": [
       "\n",
       "    <style>\n",
       "        table { border-collapse: collapse; font-family: Arial, sans-serif; }\n",
       "        td { border: 1px solid black; height: 40px; width: 40px; text-align: center; font-size: 18px; }\n",
       "        .queen { background-color: #f4cccc; font-weight: bold; color: black; }\n",
       "        .conflict { background-color: #f9f9f9; color: gray; }\n",
       "    </style>\n",
       "    <table>\n",
       "    <tr><td class=\"conflict\">3</td><td class=\"queen\">Q 1</td><td class=\"conflict\">3</td><td class=\"conflict\">2</td><td class=\"conflict\">3</td><td class=\"conflict\">3</td><td class=\"conflict\">3</td><td class=\"conflict\">3</td></tr><tr><td class=\"conflict\">4</td><td class=\"conflict\">2</td><td class=\"conflict\">4</td><td class=\"queen\">Q 1</td><td class=\"conflict\">2</td><td class=\"conflict\">4</td><td class=\"conflict\">3</td><td class=\"conflict\">3</td></tr><tr><td class=\"conflict\">3</td><td class=\"conflict\">2</td><td class=\"conflict\">4</td><td class=\"conflict\">5</td><td class=\"conflict\">3</td><td class=\"conflict\">3</td><td class=\"queen\">Q 1</td><td class=\"conflict\">2</td></tr><tr><td class=\"conflict\">2</td><td class=\"conflict\">3</td><td class=\"conflict\">4</td><td class=\"conflict\">4</td><td class=\"queen\">Q 1</td><td class=\"conflict\">4</td><td class=\"conflict\">2</td><td class=\"conflict\">3</td></tr><tr><td class=\"conflict\">3</td><td class=\"conflict\">2</td><td class=\"queen\">Q 1</td><td class=\"conflict\">4</td><td class=\"conflict\">3</td><td class=\"conflict\">4</td><td class=\"conflict\">3</td><td class=\"conflict\">3</td></tr><tr><td class=\"queen\">Q 1</td><td class=\"conflict\">2</td><td class=\"conflict\">3</td><td class=\"conflict\">4</td><td class=\"conflict\">2</td><td class=\"conflict\">3</td><td class=\"conflict\">5</td><td class=\"conflict\">3</td></tr><tr><td class=\"conflict\">3</td><td class=\"conflict\">3</td><td class=\"conflict\">3</td><td class=\"conflict\">2</td><td class=\"conflict\">2</td><td class=\"queen\">Q 1</td><td class=\"conflict\">3</td><td class=\"conflict\">4</td></tr><tr><td class=\"conflict\">3</td><td class=\"conflict\">2</td><td class=\"conflict\">3</td><td class=\"conflict\">2</td><td class=\"conflict\">2</td><td class=\"conflict\">3</td><td class=\"conflict\">3</td><td class=\"queen\">Q 1</td></tr></table>"
      ],
      "text/plain": [
       "<IPython.core.display.HTML object>"
      ]
     },
     "metadata": {},
     "output_type": "display_data"
    },
    {
     "name": "stdout",
     "output_type": "stream",
     "text": [
      "Final Board: [5, 0, 4, 1, 3, 6, 2, 7]\n",
      "Conflicts: 8\n"
     ]
    }
   ],
   "source": [
    "n=8\n",
    "board, heuristic_dict = get_new_board(n = n)\n",
    "solution, conflicts = hill_climbing_with_heuristic(board, n)\n",
    "print(\"Final Board:\", solution)\n",
    "print(\"Conflicts:\", conflicts)\n",
    "# print(f\"Moving Queen {col} from row {original_row} to {row} reduces conflicts from {current_conflicts} to {best_conflicts}\")"
   ]
  },
  {
   "cell_type": "markdown",
   "id": "2cc63b50",
   "metadata": {},
   "source": [
    "Explanation:\n",
    "Dynamic Conflict Calculation:\n",
    "\n",
    "For each column, iterate over all possible rows where the queen could be moved.\n",
    "Temporarily move the queen to the new position and calculate the total number of conflicts for the entire board.\n",
    "Heuristic Dictionary:\n",
    "\n",
    "Each key is a tuple (row, col) representing a cell.\n",
    "The value is a dictionary with:\n",
    "'queen': Whether the queen is currently in this cell.\n",
    "'conflicts': The total number of conflicts on the board if the queen is moved to this cell.\n",
    "Conflict Calculation:\n",
    "\n",
    "For each pair of queens (queen_a, queen_b) on the board, check if they are in conflict:\n",
    "Same row: temp_board[queen_a] == temp_board[queen_b]\n",
    "Same diagonal: abs(temp_board[queen_a] - temp_board[queen_b]) == abs(queen_a - queen_b)\n",
    "Temporary Board:\n",
    "\n",
    "A temporary board (temp_board) is used to simulate moving the queen to a new position without modifying the original board.\n",
    "\n",
    "Updated hill_climbing_with_heuristic Function:\n",
    "The hill_climbing_with_heuristic function will use the updated create_heuristic_dict to evaluate moves based on the total number of conflicts."
   ]
  },
  {
   "cell_type": "code",
   "execution_count": null,
   "id": "3fc10fa0",
   "metadata": {},
   "outputs": [],
   "source": [
    "def simulated_annealing_with_heuristic(board, n, initial_temperature, cooling_rate):\n",
    "    \"\"\"\n",
    "    Simulated Annealing algorithm to solve the N-Queens problem using heuristic_dict.\n",
    "    The algorithm evaluates moving each queen to a position one step away in its column\n",
    "    and probabilistically accepts moves based on the temperature.\n",
    "\n",
    "    Args:\n",
    "        board (list of int): 1D list representing the N-Queens board.\n",
    "                             Each index represents a column, and the value at that index represents the row of the queen.\n",
    "        n (int): Size of the board (N x N).\n",
    "        initial_temperature (float): Initial temperature for the simulated annealing algorithm.\n",
    "        cooling_rate (float): Cooling rate for the temperature.\n",
    "\n",
    "    Returns:\n",
    "        tuple: A tuple containing the final board configuration and the number of conflicts.\n",
    "    \"\"\"\n",
    "    current_conflicts = calculate_total_conflicts(board, n)\n",
    "    temperature = initial_temperature\n",
    "\n",
    "    while temperature > 0 and current_conflicts > 0:\n",
    "        # Randomly select a column\n",
    "        col = random.randint(0, n - 1)\n",
    "        current_row = board[col]\n",
    "\n",
    "        # Generate potential moves (one step away in the column)\n",
    "        potential_moves = [current_row - 1, current_row + 1]\n",
    "        potential_moves = [row for row in potential_moves if 0 <= row < n]\n",
    "\n",
    "        if not potential_moves:\n",
    "            continue\n",
    "\n",
    "        # Randomly select a new row from potential moves\n",
    "        new_row = random.choice(potential_moves)\n",
    "\n",
    "        # Create a new board with the queen moved\n",
    "        new_board = board[:]\n",
    "        new_board[col] = new_row\n",
    "\n",
    "        # Calculate the total conflicts for the new board\n",
    "        new_conflicts = calculate_total_conflicts(new_board, n)\n",
    "\n",
    "        # Calculate the change in conflicts\n",
    "        delta = new_conflicts - current_conflicts\n",
    "\n",
    "        # Decide whether to accept the move\n",
    "        if delta < 0 or random.random() < math.exp(-delta / temperature):\n",
    "            board = new_board\n",
    "            current_conflicts = new_conflicts\n",
    "\n",
    "        # Display the updated board with conflicts\n",
    "        print(f\"Moving column {col+1} Queen, from row {board[col]+1} to {new_row+1}\")\n",
    "        heuristic_dict = create_heuristic_dict(board, n)\n",
    "        display(HTML(n_queens_to_html_with_conflicts(board, heuristic_dict)))\n",
    "\n",
    "        # Cool down the temperature\n",
    "        temperature *= cooling_rate\n",
    "\n",
    "    return board, current_conflicts"
   ]
  },
  {
   "cell_type": "code",
   "execution_count": 27,
   "id": "5f8403c1",
   "metadata": {},
   "outputs": [
    {
     "ename": "NameError",
     "evalue": "name 'row' is not defined",
     "output_type": "error",
     "traceback": [
      "\u001b[0;31m---------------------------------------------------------------------------\u001b[0m",
      "\u001b[0;31mNameError\u001b[0m                                 Traceback (most recent call last)",
      "Cell \u001b[0;32mIn[27], line 1\u001b[0m\n\u001b[0;32m----> 1\u001b[0m solution, conflicts \u001b[38;5;241m=\u001b[39m \u001b[43msimulated_annealing_with_heuristic\u001b[49m\u001b[43m(\u001b[49m\u001b[43mboard\u001b[49m\u001b[43m,\u001b[49m\u001b[43m \u001b[49m\u001b[43mn\u001b[49m\u001b[43m,\u001b[49m\u001b[43m \u001b[49m\u001b[43minitial_temperature\u001b[49m\u001b[38;5;241;43m=\u001b[39;49m\u001b[38;5;241;43m100\u001b[39;49m\u001b[43m,\u001b[49m\u001b[43m \u001b[49m\u001b[43mcooling_rate\u001b[49m\u001b[38;5;241;43m=\u001b[39;49m\u001b[38;5;241;43m0.95\u001b[39;49m\u001b[43m)\u001b[49m\n\u001b[1;32m      2\u001b[0m \u001b[38;5;28mprint\u001b[39m(\u001b[38;5;124m\"\u001b[39m\u001b[38;5;124mFinal Board:\u001b[39m\u001b[38;5;124m\"\u001b[39m, solution)\n\u001b[1;32m      3\u001b[0m \u001b[38;5;28mprint\u001b[39m(\u001b[38;5;124m\"\u001b[39m\u001b[38;5;124mConflicts:\u001b[39m\u001b[38;5;124m\"\u001b[39m, conflicts)\n",
      "Cell \u001b[0;32mIn[26], line 51\u001b[0m, in \u001b[0;36msimulated_annealing_with_heuristic\u001b[0;34m(board, n, initial_temperature, cooling_rate)\u001b[0m\n\u001b[1;32m     48\u001b[0m     current_conflicts \u001b[38;5;241m=\u001b[39m new_conflicts\n\u001b[1;32m     50\u001b[0m \u001b[38;5;66;03m# Display the updated board with conflicts\u001b[39;00m\n\u001b[0;32m---> 51\u001b[0m \u001b[38;5;28mprint\u001b[39m(\u001b[38;5;124mf\u001b[39m\u001b[38;5;124m\"\u001b[39m\u001b[38;5;124mMoving column \u001b[39m\u001b[38;5;132;01m{\u001b[39;00mcol\u001b[38;5;241m+\u001b[39m\u001b[38;5;241m1\u001b[39m\u001b[38;5;132;01m}\u001b[39;00m\u001b[38;5;124m Queen, from row \u001b[39m\u001b[38;5;132;01m{\u001b[39;00mboard[col]\u001b[38;5;241m+\u001b[39m\u001b[38;5;241m1\u001b[39m\u001b[38;5;132;01m}\u001b[39;00m\u001b[38;5;124m to \u001b[39m\u001b[38;5;132;01m{\u001b[39;00m\u001b[43mrow\u001b[49m\u001b[38;5;241m+\u001b[39m\u001b[38;5;241m1\u001b[39m\u001b[38;5;132;01m}\u001b[39;00m\u001b[38;5;124m\"\u001b[39m)\n\u001b[1;32m     52\u001b[0m heuristic_dict \u001b[38;5;241m=\u001b[39m create_heuristic_dict(board, n)\n\u001b[1;32m     53\u001b[0m display(HTML(n_queens_to_html_with_conflicts(board, heuristic_dict)))\n",
      "\u001b[0;31mNameError\u001b[0m: name 'row' is not defined"
     ]
    }
   ],
   "source": [
    "solution, conflicts = simulated_annealing_with_heuristic(board, n, initial_temperature=100, cooling_rate=0.95)\n",
    "print(\"Final Board:\", solution)\n",
    "print(\"Conflicts:\", conflicts)"
   ]
  }
 ],
 "metadata": {
  "kernelspec": {
   "display_name": "base",
   "language": "python",
   "name": "python3"
  },
  "language_info": {
   "codemirror_mode": {
    "name": "ipython",
    "version": 3
   },
   "file_extension": ".py",
   "mimetype": "text/x-python",
   "name": "python",
   "nbconvert_exporter": "python",
   "pygments_lexer": "ipython3",
   "version": "3.12.2"
  }
 },
 "nbformat": 4,
 "nbformat_minor": 5
}
