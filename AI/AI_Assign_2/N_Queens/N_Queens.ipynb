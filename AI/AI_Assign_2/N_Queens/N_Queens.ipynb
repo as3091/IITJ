{
 "cells": [
  {
   "cell_type": "markdown",
   "id": "20ff0e3b",
   "metadata": {},
   "source": [
    "Q2.  Consider a simple N-Queens problem.\n",
    "  Take a suitable value of N and write a Python code for simulated annealing to solve the problem.  \n",
    "  As we know, if we take T=0 in SA, it falls back to simple hill climbing search.  \n",
    "  Modify the SA algorithm in order to make it an HC solution.  \n",
    "  In the report, write proper theoretical justification in support of your modification (e.g., calculation of the acceptance probability) and the behavioral difference between the two approaches.  \n",
    "  (Note: No marks will be given for simply implementing the HC solution.)"
   ]
  },
  {
   "cell_type": "code",
   "execution_count": 33,
   "id": "a8dce9ea",
   "metadata": {},
   "outputs": [],
   "source": [
    "import random, math,copy\n",
    "import pandas as pd\n",
    "# import numpy as np\n",
    "random.seed(42)\n",
    "# np.random.seed(42)\n",
    "# import copy"
   ]
  },
  {
   "cell_type": "code",
   "execution_count": 34,
   "id": "43c69be3",
   "metadata": {},
   "outputs": [],
   "source": [
    "from IPython.display import display, HTML\n",
    "\n",
    "def n_queens_to_html_with_conflicts(board, heuristic_dict):\n",
    "    \"\"\"\n",
    "    Generates an HTML table representation of an N-Queens board with conflicts in blank cells.\n",
    "\n",
    "    Args:\n",
    "        board (list of int): 1D list representing the N-Queens board.\n",
    "                             Each index represents a column, and the value at that index represents the row of the queen.\n",
    "        heuristic_dict (dict): Dictionary containing conflict information for each cell.\n",
    "\n",
    "    Returns:\n",
    "        str: HTML string for the N-Queens board.\n",
    "    \"\"\"\n",
    "    n = len(board)\n",
    "    html = \"\"\"\n",
    "    <style>\n",
    "        table { border-collapse: collapse; font-family: Arial, sans-serif; }\n",
    "        td { border: 1px solid black; height: 40px; width: 40px; text-align: center; font-size: 18px; }\n",
    "        .queen { background-color: #f4cccc; font-weight: bold; color: black; }\n",
    "        .conflict { background-color: #f9f9f9; color: gray; }\n",
    "    </style>\n",
    "    <table>\n",
    "    \"\"\"\n",
    "\n",
    "    for row in range(n):\n",
    "        html += \"<tr>\"\n",
    "        for col in range(n):\n",
    "            conflicts = heuristic_dict[(row, col)]['conflicts']\n",
    "            if heuristic_dict[(row, col)]['queen']:\n",
    "                conflicts = conflicts if conflicts> 0 else ''\n",
    "                # If a queen is present, display 'Q' with number of conflicts\n",
    "                html += f'<td class=\"queen\">Q {conflicts}</td>'\n",
    "            else:\n",
    "                # If no queen, display the number of conflicts\n",
    "                html += f'<td class=\"conflict\">{conflicts}</td>'\n",
    "        html += \"</tr>\"\n",
    "\n",
    "    html += \"</table>\"\n",
    "    return html\n"
   ]
  },
  {
   "cell_type": "code",
   "execution_count": 35,
   "id": "8027ad78",
   "metadata": {},
   "outputs": [],
   "source": [
    "def create_heuristic_dict(board, n):\n",
    "    \"\"\"\n",
    "    Creates a heuristic dictionary for the N-Queens board.\n",
    "    The dictionary shows the total number of conflicts on the board\n",
    "    if the queen from a specific column is moved to a particular position (row, col).\n",
    "\n",
    "    Args:\n",
    "        board (list of int): 1D list representing the N-Queens board.\n",
    "                             Each index represents a column, and the value at that index represents the row of the queen.\n",
    "        n (int): Size of the board (N x N).\n",
    "\n",
    "    Returns:\n",
    "        dict: A dictionary where each key is a tuple (row, col), and the value is a dictionary with:\n",
    "              - 'queen': Whether a queen is currently present in the cell (True/False).\n",
    "              - 'conflicts': Total number of conflicts on the board if the queen is moved to this cell.\n",
    "    \"\"\"\n",
    "    heuristic_dict = {}\n",
    "\n",
    "    for col in range(n):  # Iterate over each column\n",
    "        original_row = board[col]  # Current row of the queen in this column\n",
    "        for row in range(n):  # Iterate over each row in the column\n",
    "            # Temporarily move the queen to the new position\n",
    "            temp_board = board[:]\n",
    "            temp_board[col] = row\n",
    "\n",
    "            # Calculate the total number of conflicts for the new board\n",
    "            conflicts = 0\n",
    "            for queen_a in range(n):\n",
    "                for queen_b in range(queen_a + 1, n):\n",
    "                    # Check for conflicts (same row or same diagonal)\n",
    "                    if temp_board[queen_a] == temp_board[queen_b] or \\\n",
    "                            abs(temp_board[queen_a] - temp_board[queen_b]) == abs(queen_a - queen_b):\n",
    "                        conflicts += 1\n",
    "\n",
    "            # Add the cell's data to the heuristic dictionary\n",
    "            heuristic_dict[(row, col)] = {\n",
    "                'queen': (original_row == row),  # True if the queen is currently in this cell\n",
    "                'conflicts': conflicts\n",
    "            }\n",
    "\n",
    "    return heuristic_dict"
   ]
  },
  {
   "cell_type": "markdown",
   "id": "0b3c6574",
   "metadata": {},
   "source": [
    "- Heuristic Dictionary:\n",
    "    - Each key is a tuple (row, col) representing a cell.\n",
    "    - The value is a dictionary with:\n",
    "    - 'queen': Whether the queen is currently in this cell.\n",
    "    - 'conflicts': The total number of conflicts on the board if the queen is moved to this cell.\n",
    "\n",
    "- Conflict Calculation:\n",
    "    - For each pair of queens (queen_a, queen_b) on the board, check if they are in conflict:\n",
    "    - Same row: temp_board[queen_a] == temp_board[queen_b]\n",
    "    - Same diagonal: abs(temp_board[queen_a] - temp_board[queen_b]) == abs(queen_a - queen_b)\n"
   ]
  },
  {
   "cell_type": "code",
   "execution_count": 36,
   "id": "08faf3f3",
   "metadata": {},
   "outputs": [],
   "source": [
    "def get_new_board(n = 8):\n",
    "\n",
    "    # Initialize the board randomly\n",
    "    # The Queen's position on the board (row, column) =  (index,value) of the list\n",
    "    # Each index represents a column, and the value at that index represents the row of the queen.\n",
    "\n",
    "    board = [random.randint(0, n - 1) for i in range(n)]\n",
    "    heuristic_dict = create_heuristic_dict(board, n)  # Generate the heuristic dictionary\n",
    "\n",
    "    # Generate the HTML representation\n",
    "    display(HTML(n_queens_to_html_with_conflicts(board, heuristic_dict)))\n",
    "    return board, heuristic_dict"
   ]
  },
  {
   "cell_type": "code",
   "execution_count": 37,
   "id": "165f1f4b",
   "metadata": {},
   "outputs": [
    {
     "data": {
      "text/html": [
       "\n",
       "    <style>\n",
       "        table { border-collapse: collapse; font-family: Arial, sans-serif; }\n",
       "        td { border: 1px solid black; height: 40px; width: 40px; text-align: center; font-size: 18px; }\n",
       "        .queen { background-color: #f4cccc; font-weight: bold; color: black; }\n",
       "        .conflict { background-color: #f9f9f9; color: gray; }\n",
       "    </style>\n",
       "    <table>\n",
       "    <tr><td class=\"conflict\">9</td><td class=\"queen\">Q 10</td><td class=\"conflict\">10</td><td class=\"conflict\">10</td><td class=\"conflict\">7</td><td class=\"conflict\">10</td><td class=\"conflict\">10</td><td class=\"conflict\">12</td></tr><tr><td class=\"queen\">Q 10</td><td class=\"conflict\">12</td><td class=\"conflict\">14</td><td class=\"conflict\">11</td><td class=\"conflict\">10</td><td class=\"conflict\">13</td><td class=\"queen\">Q 10</td><td class=\"queen\">Q 10</td></tr><tr><td class=\"conflict\">9</td><td class=\"conflict\">10</td><td class=\"conflict\">11</td><td class=\"conflict\">11</td><td class=\"conflict\">9</td><td class=\"queen\">Q 10</td><td class=\"conflict\">8</td><td class=\"conflict\">10</td></tr><tr><td class=\"conflict\">9</td><td class=\"conflict\">11</td><td class=\"conflict\">12</td><td class=\"queen\">Q 10</td><td class=\"queen\">Q 10</td><td class=\"conflict\">11</td><td class=\"conflict\">9</td><td class=\"conflict\">10</td></tr><tr><td class=\"conflict\">8</td><td class=\"conflict\">9</td><td class=\"queen\">Q 10</td><td class=\"conflict\">13</td><td class=\"conflict\">9</td><td class=\"conflict\">11</td><td class=\"conflict\">7</td><td class=\"conflict\">10</td></tr><tr><td class=\"conflict\">7</td><td class=\"conflict\">10</td><td class=\"conflict\">12</td><td class=\"conflict\">10</td><td class=\"conflict\">7</td><td class=\"conflict\">9</td><td class=\"conflict\">8</td><td class=\"conflict\">8</td></tr><tr><td class=\"conflict\">9</td><td class=\"conflict\">11</td><td class=\"conflict\">10</td><td class=\"conflict\">8</td><td class=\"conflict\">7</td><td class=\"conflict\">9</td><td class=\"conflict\">7</td><td class=\"conflict\">10</td></tr><tr><td class=\"conflict\">10</td><td class=\"conflict\">9</td><td class=\"conflict\">9</td><td class=\"conflict\">8</td><td class=\"conflict\">6</td><td class=\"conflict\">9</td><td class=\"conflict\">7</td><td class=\"conflict\">9</td></tr></table>"
      ],
      "text/plain": [
       "<IPython.core.display.HTML object>"
      ]
     },
     "metadata": {},
     "output_type": "display_data"
    },
    {
     "name": "stdout",
     "output_type": "stream",
     "text": [
      "[1, 0, 4, 3, 3, 2, 1, 1]\n"
     ]
    }
   ],
   "source": [
    "n=8\n",
    "board, heuristic_dict = get_new_board(n = n)\n",
    "print(board)"
   ]
  },
  {
   "cell_type": "code",
   "execution_count": 38,
   "id": "b1bf61e4",
   "metadata": {},
   "outputs": [],
   "source": [
    "def calculate_total_conflicts(board,n):\n",
    "    \"\"\"Helper function to calculate the total number of conflicts on the board.\"\"\"\n",
    "    heuristic_dict = create_heuristic_dict(board, n)\n",
    "    total_conflicts = sum(\n",
    "        heuristic_dict[(row, col)]['conflicts']\n",
    "        for col in range(n)\n",
    "        for row in range(n)\n",
    "        if heuristic_dict[(row, col)]['queen']\n",
    "    )\n",
    "    return total_conflicts"
   ]
  },
  {
   "cell_type": "markdown",
   "id": "136c750f",
   "metadata": {},
   "source": [
    "- Total Conflict Calculator\n",
    "    - Uses a generator expression to iterate over all cells in the board.\n",
    "    - For each cell, If a queen is found, the function retrieves the number of conflicts associated with that cell and includes it in the sum.\n",
    "    - This ensures that only the conflicts caused by the queens currently on the board are considered."
   ]
  },
  {
   "cell_type": "code",
   "execution_count": 39,
   "id": "c74f8e91",
   "metadata": {},
   "outputs": [],
   "source": [
    "def hill_climbing_with_heuristic(board, n):\n",
    "    \"\"\"\n",
    "    Hill Climbing algorithm to solve the N-Queens problem using heuristic_dict.\n",
    "    The algorithm evaluates moving each queen to a different row in its column\n",
    "    and selects the move that reduces the total number of conflicts.\n",
    "\n",
    "    Args:\n",
    "        board (list of int): 1D list representing the N-Queens board.\n",
    "                             Each index represents a column, and the value at that index represents the row of the queen.\n",
    "        n (int): Size of the board (N x N).\n",
    "\n",
    "    Returns:\n",
    "        tuple: A tuple containing the final board configuration and the number of conflicts.\n",
    "    \"\"\"\n",
    "\n",
    "    current_conflicts = calculate_total_conflicts(board,n)\n",
    "\n",
    "    while current_conflicts > 0:\n",
    "        best_move = None\n",
    "        best_conflicts = current_conflicts\n",
    "\n",
    "        # Try moving each queen to a different row in its column\n",
    "        for col in range(n):\n",
    "            original_row = board[col]\n",
    "            for row in range(n):\n",
    "                if row == original_row:\n",
    "                    continue  # Skip the current position of the queen\n",
    "\n",
    "                # Create a new board with the queen moved\n",
    "                new_board = board[:]\n",
    "                new_board[col] = row\n",
    "\n",
    "                # Calculate the total conflicts for the new board\n",
    "                new_conflicts = calculate_total_conflicts(new_board,n)\n",
    "\n",
    "                # If the new board has fewer conflicts, update the best move\n",
    "                if new_conflicts < best_conflicts:\n",
    "                    best_move = (col, row)\n",
    "                    best_conflicts = new_conflicts\n",
    "\n",
    "        # If no better move is found, terminate (local minimum)\n",
    "        if best_move is None:\n",
    "            break\n",
    "\n",
    "        # Make the best move\n",
    "        col, row = best_move\n",
    "        print(f\"Moving column {col+1} Queen, from row {board[col]+1} to {row+1}\")\n",
    "        # col, row = best_move\n",
    "        board[col] = row\n",
    "        current_conflicts = best_conflicts\n",
    "\n",
    "        # Display the updated board with conflicts\n",
    "        heuristic_dict = create_heuristic_dict(board, n)\n",
    "        display(HTML(n_queens_to_html_with_conflicts(board, heuristic_dict)))\n",
    "\n",
    "    return board, current_conflicts"
   ]
  },
  {
   "cell_type": "code",
   "execution_count": null,
   "id": "dc5eac70",
   "metadata": {},
   "outputs": [
    {
     "name": "stdout",
     "output_type": "stream",
     "text": [
      "Moving column 5 Queen, from row 4 to 8\n"
     ]
    },
    {
     "data": {
      "text/html": [
       "\n",
       "    <style>\n",
       "        table { border-collapse: collapse; font-family: Arial, sans-serif; }\n",
       "        td { border: 1px solid black; height: 40px; width: 40px; text-align: center; font-size: 18px; }\n",
       "        .queen { background-color: #f4cccc; font-weight: bold; color: black; }\n",
       "        .conflict { background-color: #f9f9f9; color: gray; }\n",
       "    </style>\n",
       "    <table>\n",
       "    <tr><td class=\"conflict\">5</td><td class=\"queen\">Q 6</td><td class=\"conflict\">6</td><td class=\"conflict\">7</td><td class=\"conflict\">7</td><td class=\"conflict\">7</td><td class=\"conflict\">7</td><td class=\"conflict\">7</td></tr><tr><td class=\"queen\">Q 6</td><td class=\"conflict\">9</td><td class=\"conflict\">9</td><td class=\"conflict\">8</td><td class=\"conflict\">10</td><td class=\"conflict\">10</td><td class=\"queen\">Q 6</td><td class=\"queen\">Q 6</td></tr><tr><td class=\"conflict\">5</td><td class=\"conflict\">7</td><td class=\"conflict\">7</td><td class=\"conflict\">7</td><td class=\"conflict\">9</td><td class=\"queen\">Q 6</td><td class=\"conflict\">5</td><td class=\"conflict\">6</td></tr><tr><td class=\"conflict\">5</td><td class=\"conflict\">7</td><td class=\"conflict\">7</td><td class=\"queen\">Q 6</td><td class=\"conflict\">10</td><td class=\"conflict\">7</td><td class=\"conflict\">5</td><td class=\"conflict\">5</td></tr><tr><td class=\"conflict\">4</td><td class=\"conflict\">7</td><td class=\"queen\">Q 6</td><td class=\"conflict\">9</td><td class=\"conflict\">9</td><td class=\"conflict\">7</td><td class=\"conflict\">4</td><td class=\"conflict\">7</td></tr><tr><td class=\"conflict\">3</td><td class=\"conflict\">7</td><td class=\"conflict\">8</td><td class=\"conflict\">7</td><td class=\"conflict\">7</td><td class=\"conflict\">6</td><td class=\"conflict\">5</td><td class=\"conflict\">4</td></tr><tr><td class=\"conflict\">5</td><td class=\"conflict\">7</td><td class=\"conflict\">6</td><td class=\"conflict\">6</td><td class=\"conflict\">7</td><td class=\"conflict\">7</td><td class=\"conflict\">4</td><td class=\"conflict\">5</td></tr><tr><td class=\"conflict\">6</td><td class=\"conflict\">7</td><td class=\"conflict\">6</td><td class=\"conflict\">6</td><td class=\"queen\">Q 6</td><td class=\"conflict\">7</td><td class=\"conflict\">5</td><td class=\"conflict\">6</td></tr></table>"
      ],
      "text/plain": [
       "<IPython.core.display.HTML object>"
      ]
     },
     "metadata": {},
     "output_type": "display_data"
    },
    {
     "name": "stdout",
     "output_type": "stream",
     "text": [
      "Moving column 1 Queen, from row 2 to 6\n"
     ]
    },
    {
     "data": {
      "text/html": [
       "\n",
       "    <style>\n",
       "        table { border-collapse: collapse; font-family: Arial, sans-serif; }\n",
       "        td { border: 1px solid black; height: 40px; width: 40px; text-align: center; font-size: 18px; }\n",
       "        .queen { background-color: #f4cccc; font-weight: bold; color: black; }\n",
       "        .conflict { background-color: #f9f9f9; color: gray; }\n",
       "    </style>\n",
       "    <table>\n",
       "    <tr><td class=\"conflict\">5</td><td class=\"queen\">Q 3</td><td class=\"conflict\">3</td><td class=\"conflict\">4</td><td class=\"conflict\">4</td><td class=\"conflict\">5</td><td class=\"conflict\">5</td><td class=\"conflict\">5</td></tr><tr><td class=\"conflict\">6</td><td class=\"conflict\">6</td><td class=\"conflict\">5</td><td class=\"conflict\">4</td><td class=\"conflict\">7</td><td class=\"conflict\">6</td><td class=\"queen\">Q 3</td><td class=\"queen\">Q 3</td></tr><tr><td class=\"conflict\">5</td><td class=\"conflict\">4</td><td class=\"conflict\">4</td><td class=\"conflict\">5</td><td class=\"conflict\">6</td><td class=\"queen\">Q 3</td><td class=\"conflict\">3</td><td class=\"conflict\">4</td></tr><tr><td class=\"conflict\">5</td><td class=\"conflict\">5</td><td class=\"conflict\">4</td><td class=\"queen\">Q 3</td><td class=\"conflict\">7</td><td class=\"conflict\">4</td><td class=\"conflict\">3</td><td class=\"conflict\">3</td></tr><tr><td class=\"conflict\">4</td><td class=\"conflict\">6</td><td class=\"queen\">Q 3</td><td class=\"conflict\">5</td><td class=\"conflict\">6</td><td class=\"conflict\">4</td><td class=\"conflict\">2</td><td class=\"conflict\">5</td></tr><tr><td class=\"queen\">Q 3</td><td class=\"conflict\">6</td><td class=\"conflict\">6</td><td class=\"conflict\">5</td><td class=\"conflict\">4</td><td class=\"conflict\">4</td><td class=\"conflict\">4</td><td class=\"conflict\">3</td></tr><tr><td class=\"conflict\">5</td><td class=\"conflict\">6</td><td class=\"conflict\">3</td><td class=\"conflict\">3</td><td class=\"conflict\">4</td><td class=\"conflict\">3</td><td class=\"conflict\">2</td><td class=\"conflict\">3</td></tr><tr><td class=\"conflict\">6</td><td class=\"conflict\">5</td><td class=\"conflict\">4</td><td class=\"conflict\">3</td><td class=\"queen\">Q 3</td><td class=\"conflict\">4</td><td class=\"conflict\">2</td><td class=\"conflict\">4</td></tr></table>"
      ],
      "text/plain": [
       "<IPython.core.display.HTML object>"
      ]
     },
     "metadata": {},
     "output_type": "display_data"
    },
    {
     "name": "stdout",
     "output_type": "stream",
     "text": [
      "Moving column 7 Queen, from row 2 to 5\n"
     ]
    },
    {
     "data": {
      "text/html": [
       "\n",
       "    <style>\n",
       "        table { border-collapse: collapse; font-family: Arial, sans-serif; }\n",
       "        td { border: 1px solid black; height: 40px; width: 40px; text-align: center; font-size: 18px; }\n",
       "        .queen { background-color: #f4cccc; font-weight: bold; color: black; }\n",
       "        .conflict { background-color: #f9f9f9; color: gray; }\n",
       "    </style>\n",
       "    <table>\n",
       "    <tr><td class=\"conflict\">4</td><td class=\"queen\">Q 2</td><td class=\"conflict\">2</td><td class=\"conflict\">3</td><td class=\"conflict\">3</td><td class=\"conflict\">4</td><td class=\"conflict\">5</td><td class=\"conflict\">4</td></tr><tr><td class=\"conflict\">4</td><td class=\"conflict\">4</td><td class=\"conflict\">2</td><td class=\"conflict\">3</td><td class=\"conflict\">5</td><td class=\"conflict\">5</td><td class=\"conflict\">3</td><td class=\"queen\">Q 2</td></tr><tr><td class=\"conflict\">4</td><td class=\"conflict\">3</td><td class=\"conflict\">2</td><td class=\"conflict\">4</td><td class=\"conflict\">6</td><td class=\"queen\">Q 2</td><td class=\"conflict\">3</td><td class=\"conflict\">3</td></tr><tr><td class=\"conflict\">4</td><td class=\"conflict\">4</td><td class=\"conflict\">2</td><td class=\"queen\">Q 2</td><td class=\"conflict\">5</td><td class=\"conflict\">5</td><td class=\"conflict\">3</td><td class=\"conflict\">4</td></tr><tr><td class=\"conflict\">4</td><td class=\"conflict\">6</td><td class=\"queen\">Q 2</td><td class=\"conflict\">4</td><td class=\"conflict\">6</td><td class=\"conflict\">5</td><td class=\"queen\">Q 2</td><td class=\"conflict\">6</td></tr><tr><td class=\"queen\">Q 2</td><td class=\"conflict\">5</td><td class=\"conflict\">3</td><td class=\"conflict\">4</td><td class=\"conflict\">3</td><td class=\"conflict\">5</td><td class=\"conflict\">4</td><td class=\"conflict\">4</td></tr><tr><td class=\"conflict\">4</td><td class=\"conflict\">4</td><td class=\"conflict\">1</td><td class=\"conflict\">2</td><td class=\"conflict\">4</td><td class=\"conflict\">3</td><td class=\"conflict\">2</td><td class=\"conflict\">3</td></tr><tr><td class=\"conflict\">4</td><td class=\"conflict\">4</td><td class=\"conflict\">2</td><td class=\"conflict\">3</td><td class=\"queen\">Q 2</td><td class=\"conflict\">4</td><td class=\"conflict\">2</td><td class=\"conflict\">4</td></tr></table>"
      ],
      "text/plain": [
       "<IPython.core.display.HTML object>"
      ]
     },
     "metadata": {},
     "output_type": "display_data"
    },
    {
     "name": "stdout",
     "output_type": "stream",
     "text": [
      "Moving column 3 Queen, from row 5 to 7\n"
     ]
    },
    {
     "data": {
      "text/html": [
       "\n",
       "    <style>\n",
       "        table { border-collapse: collapse; font-family: Arial, sans-serif; }\n",
       "        td { border: 1px solid black; height: 40px; width: 40px; text-align: center; font-size: 18px; }\n",
       "        .queen { background-color: #f4cccc; font-weight: bold; color: black; }\n",
       "        .conflict { background-color: #f9f9f9; color: gray; }\n",
       "    </style>\n",
       "    <table>\n",
       "    <tr><td class=\"conflict\">3</td><td class=\"queen\">Q 1</td><td class=\"conflict\">2</td><td class=\"conflict\">3</td><td class=\"conflict\">2</td><td class=\"conflict\">3</td><td class=\"conflict\">4</td><td class=\"conflict\">2</td></tr><tr><td class=\"conflict\">3</td><td class=\"conflict\">3</td><td class=\"conflict\">2</td><td class=\"conflict\">3</td><td class=\"conflict\">4</td><td class=\"conflict\">3</td><td class=\"conflict\">3</td><td class=\"queen\">Q 1</td></tr><tr><td class=\"conflict\">2</td><td class=\"conflict\">2</td><td class=\"conflict\">2</td><td class=\"conflict\">4</td><td class=\"conflict\">4</td><td class=\"queen\">Q 1</td><td class=\"conflict\">4</td><td class=\"conflict\">1</td></tr><tr><td class=\"conflict\">3</td><td class=\"conflict\">2</td><td class=\"conflict\">2</td><td class=\"queen\">Q 1</td><td class=\"conflict\">4</td><td class=\"conflict\">5</td><td class=\"conflict\">3</td><td class=\"conflict\">2</td></tr><tr><td class=\"conflict\">3</td><td class=\"conflict\">4</td><td class=\"conflict\">2</td><td class=\"conflict\">3</td><td class=\"conflict\">5</td><td class=\"conflict\">3</td><td class=\"queen\">Q 1</td><td class=\"conflict\">3</td></tr><tr><td class=\"queen\">Q 1</td><td class=\"conflict\">4</td><td class=\"conflict\">3</td><td class=\"conflict\">4</td><td class=\"conflict\">2</td><td class=\"conflict\">4</td><td class=\"conflict\">4</td><td class=\"conflict\">2</td></tr><tr><td class=\"conflict\">3</td><td class=\"conflict\">4</td><td class=\"queen\">Q 1</td><td class=\"conflict\">3</td><td class=\"conflict\">3</td><td class=\"conflict\">3</td><td class=\"conflict\">3</td><td class=\"conflict\">2</td></tr><tr><td class=\"conflict\">3</td><td class=\"conflict\">4</td><td class=\"conflict\">2</td><td class=\"conflict\">4</td><td class=\"queen\">Q 1</td><td class=\"conflict\">2</td><td class=\"conflict\">2</td><td class=\"conflict\">2</td></tr></table>"
      ],
      "text/plain": [
       "<IPython.core.display.HTML object>"
      ]
     },
     "metadata": {},
     "output_type": "display_data"
    },
    {
     "name": "stdout",
     "output_type": "stream",
     "text": [
      "Final Board: [5, 0, 6, 3, 7, 2, 4, 1]\n",
      "Conflicts: 8\n"
     ]
    }
   ],
   "source": [
    "temp_board = board[:]\n",
    "solution, conflicts = hill_climbing_with_heuristic(temp_board, n)\n",
    "print(\"Final Board:\", solution)\n",
    "print(\"Conflicts:\", conflicts)"
   ]
  },
  {
   "cell_type": "markdown",
   "id": "2cc63b50",
   "metadata": {},
   "source": [
    "- Explanation:\n",
    "    - The hill climbing with heuristic function will use the create heuristic dict to evaluate moves based on the total number of conflicts.\n",
    "\n",
    "- Dynamic Conflict Calculation:\n",
    "    - For each column, iterate over all possible rows where the queen could be moved.\n",
    "    - Temporarily move the queen to the new position and calculate the total number of conflicts for the entire board.\n",
    "\n",
    "- Temporary Board:\n",
    "    - A temporary board is used to simulate moving the queen to a new position without modifying the original board.\n",
    "\n"
   ]
  },
  {
   "cell_type": "code",
   "execution_count": 41,
   "id": "40bea853",
   "metadata": {},
   "outputs": [],
   "source": [
    "def simulated_annealing_with_heuristic(board, n, initial_temperature, cooling_rate):\n",
    "    \"\"\"\n",
    "    Simulated Annealing algorithm to solve the N-Queens problem using heuristic_dict.\n",
    "    The algorithm evaluates moving each queen to a position one step away in its column\n",
    "    and probabilistically accepts moves based on the temperature.\n",
    "\n",
    "    Args:\n",
    "        board (list of int): 1D list representing the N-Queens board.\n",
    "                             Each index represents a column, and the value at that index represents the row of the queen.\n",
    "        n (int): Size of the board (N x N).\n",
    "        initial_temperature (float): Initial temperature for the simulated annealing algorithm.\n",
    "        cooling_rate (float): Cooling rate for the temperature.\n",
    "\n",
    "    Returns:\n",
    "        tuple: A tuple containing the final board configuration and the number of conflicts.\n",
    "    \"\"\"\n",
    "    current_conflicts = calculate_total_conflicts(board, n)\n",
    "    temperature = initial_temperature\n",
    "    steps = 0\n",
    "    while temperature > 0 and current_conflicts > 0:\n",
    "        moves = []\n",
    "        for col in range(n):\n",
    "            current_row = board[col]\n",
    "            potential_moves = list(range(n))  # All possible rows\n",
    "\n",
    "            for new_row in potential_moves:\n",
    "                # Create a new board with the queen moved\n",
    "                new_board = board[:]\n",
    "                new_board[col] = new_row\n",
    "\n",
    "                # Calculate the total conflicts for the new board\n",
    "                new_conflicts = calculate_total_conflicts(new_board, n)\n",
    "\n",
    "                # Store the move and its associated conflicts\n",
    "                moves.append((col, new_row, new_conflicts))\n",
    "\n",
    "        # Choose a move probabilistically based on the Simulated Annealing acceptance probability\n",
    "        if not moves:\n",
    "            break\n",
    "\n",
    "        # Calculate probabilities for each move\n",
    "        probabilities = []\n",
    "        for _, _, new_conflicts in moves:\n",
    "            delta = new_conflicts - current_conflicts\n",
    "            if delta < 0:\n",
    "                probabilities.append(1.0)  # Always accept better moves\n",
    "            else:\n",
    "                probabilities.append(math.exp(-delta / temperature))  # Probabilistically accept worse moves\n",
    "\n",
    "        # Normalize probabilities\n",
    "        total_probability = sum(probabilities)\n",
    "        probabilities = [p / total_probability for p in probabilities]\n",
    "\n",
    "        # Select a move based on the probabilities\n",
    "        selected_move_index = random.choices(range(len(moves)), weights=probabilities, k=1)[0]\n",
    "        col, new_row, new_conflicts = moves[selected_move_index]\n",
    "        steps+=1\n",
    "        print(f\"{steps} \\t column {col+1} Queen, row {current_row+1} to {new_row+1}\")\n",
    "\n",
    "        # Apply the selected move\n",
    "        board[col] = new_row\n",
    "        current_conflicts = new_conflicts\n",
    "\n",
    "        # Display the updated board with conflicts\n",
    "        heuristic_dict = create_heuristic_dict(board, n)\n",
    "        display(HTML(n_queens_to_html_with_conflicts(board, heuristic_dict)))\n",
    "\n",
    "        # Cool down the temperature\n",
    "        temperature *= cooling_rate\n",
    "\n",
    "    return board, current_conflicts"
   ]
  },
  {
   "cell_type": "markdown",
   "id": "7c052219",
   "metadata": {},
   "source": [
    "Explanation:\n",
    "\n",
    "- Generate All Possible Moves :\n",
    "    - For each column, iterate over all possible rows where the queen could be moved.\n",
    "    - Temporarily move the queen to the new position and calculate the total number of conflicts for the entire board.\n",
    "    - Calculate the total conflicts for each potential move.\n",
    "\n",
    "- Simulated Annealing Selection:\n",
    "    - For each move, calculate the acceptance probability based on the Simulated Annealing formula:\n",
    "    - P = 1 if the move reduces conflicts (delta < 0).\n",
    "    - P = exp(-delta / temperature) if the move increases conflicts (delta > 0).\n",
    "    - Normalize the probabilities and use random.choices to select a move probabilistically.\n",
    "\n",
    "- Apply the Move:\n",
    "    - Update the board with the selected move and recalculate the total conflicts.\n",
    "\n",
    "- Visualization:\n",
    "    - Display the board after each move using n_queens_to_html_with_conflicts.\n",
    "- Cooling:\n",
    "    - Reduce the temperature after each iteration to decrease the probability of accepting worse moves over time."
   ]
  },
  {
   "cell_type": "code",
   "execution_count": 42,
   "id": "71af6f7f",
   "metadata": {},
   "outputs": [
    {
     "name": "stdout",
     "output_type": "stream",
     "text": [
      "1 \t column 5 Queen, row 2 to 7\n"
     ]
    },
    {
     "data": {
      "text/html": [
       "\n",
       "    <style>\n",
       "        table { border-collapse: collapse; font-family: Arial, sans-serif; }\n",
       "        td { border: 1px solid black; height: 40px; width: 40px; text-align: center; font-size: 18px; }\n",
       "        .queen { background-color: #f4cccc; font-weight: bold; color: black; }\n",
       "        .conflict { background-color: #f9f9f9; color: gray; }\n",
       "    </style>\n",
       "    <table>\n",
       "    <tr><td class=\"conflict\">6</td><td class=\"queen\">Q 7</td><td class=\"conflict\">6</td><td class=\"conflict\">8</td><td class=\"conflict\">7</td><td class=\"conflict\">8</td><td class=\"conflict\">8</td><td class=\"conflict\">8</td></tr><tr><td class=\"queen\">Q 7</td><td class=\"conflict\">10</td><td class=\"conflict\">9</td><td class=\"conflict\">9</td><td class=\"conflict\">10</td><td class=\"conflict\">11</td><td class=\"queen\">Q 7</td><td class=\"queen\">Q 7</td></tr><tr><td class=\"conflict\">7</td><td class=\"conflict\">8</td><td class=\"conflict\">7</td><td class=\"conflict\">8</td><td class=\"conflict\">9</td><td class=\"queen\">Q 7</td><td class=\"conflict\">6</td><td class=\"conflict\">7</td></tr><tr><td class=\"conflict\">5</td><td class=\"conflict\">9</td><td class=\"conflict\">7</td><td class=\"queen\">Q 7</td><td class=\"conflict\">10</td><td class=\"conflict\">8</td><td class=\"conflict\">6</td><td class=\"conflict\">7</td></tr><tr><td class=\"conflict\">5</td><td class=\"conflict\">7</td><td class=\"queen\">Q 7</td><td class=\"conflict\">10</td><td class=\"conflict\">9</td><td class=\"conflict\">8</td><td class=\"conflict\">6</td><td class=\"conflict\">7</td></tr><tr><td class=\"conflict\">4</td><td class=\"conflict\">8</td><td class=\"conflict\">7</td><td class=\"conflict\">9</td><td class=\"conflict\">7</td><td class=\"conflict\">8</td><td class=\"conflict\">5</td><td class=\"conflict\">5</td></tr><tr><td class=\"conflict\">7</td><td class=\"conflict\">9</td><td class=\"conflict\">7</td><td class=\"conflict\">7</td><td class=\"queen\">Q 7</td><td class=\"conflict\">8</td><td class=\"conflict\">6</td><td class=\"conflict\">7</td></tr><tr><td class=\"conflict\">6</td><td class=\"conflict\">7</td><td class=\"conflict\">5</td><td class=\"conflict\">7</td><td class=\"conflict\">6</td><td class=\"conflict\">8</td><td class=\"conflict\">5</td><td class=\"conflict\">6</td></tr></table>"
      ],
      "text/plain": [
       "<IPython.core.display.HTML object>"
      ]
     },
     "metadata": {},
     "output_type": "display_data"
    },
    {
     "name": "stdout",
     "output_type": "stream",
     "text": [
      "2 \t column 1 Queen, row 2 to 2\n"
     ]
    },
    {
     "data": {
      "text/html": [
       "\n",
       "    <style>\n",
       "        table { border-collapse: collapse; font-family: Arial, sans-serif; }\n",
       "        td { border: 1px solid black; height: 40px; width: 40px; text-align: center; font-size: 18px; }\n",
       "        .queen { background-color: #f4cccc; font-weight: bold; color: black; }\n",
       "        .conflict { background-color: #f9f9f9; color: gray; }\n",
       "    </style>\n",
       "    <table>\n",
       "    <tr><td class=\"conflict\">6</td><td class=\"queen\">Q 7</td><td class=\"conflict\">6</td><td class=\"conflict\">8</td><td class=\"conflict\">7</td><td class=\"conflict\">8</td><td class=\"conflict\">8</td><td class=\"conflict\">8</td></tr><tr><td class=\"queen\">Q 7</td><td class=\"conflict\">10</td><td class=\"conflict\">9</td><td class=\"conflict\">9</td><td class=\"conflict\">10</td><td class=\"conflict\">11</td><td class=\"queen\">Q 7</td><td class=\"queen\">Q 7</td></tr><tr><td class=\"conflict\">7</td><td class=\"conflict\">8</td><td class=\"conflict\">7</td><td class=\"conflict\">8</td><td class=\"conflict\">9</td><td class=\"queen\">Q 7</td><td class=\"conflict\">6</td><td class=\"conflict\">7</td></tr><tr><td class=\"conflict\">5</td><td class=\"conflict\">9</td><td class=\"conflict\">7</td><td class=\"queen\">Q 7</td><td class=\"conflict\">10</td><td class=\"conflict\">8</td><td class=\"conflict\">6</td><td class=\"conflict\">7</td></tr><tr><td class=\"conflict\">5</td><td class=\"conflict\">7</td><td class=\"queen\">Q 7</td><td class=\"conflict\">10</td><td class=\"conflict\">9</td><td class=\"conflict\">8</td><td class=\"conflict\">6</td><td class=\"conflict\">7</td></tr><tr><td class=\"conflict\">4</td><td class=\"conflict\">8</td><td class=\"conflict\">7</td><td class=\"conflict\">9</td><td class=\"conflict\">7</td><td class=\"conflict\">8</td><td class=\"conflict\">5</td><td class=\"conflict\">5</td></tr><tr><td class=\"conflict\">7</td><td class=\"conflict\">9</td><td class=\"conflict\">7</td><td class=\"conflict\">7</td><td class=\"queen\">Q 7</td><td class=\"conflict\">8</td><td class=\"conflict\">6</td><td class=\"conflict\">7</td></tr><tr><td class=\"conflict\">6</td><td class=\"conflict\">7</td><td class=\"conflict\">5</td><td class=\"conflict\">7</td><td class=\"conflict\">6</td><td class=\"conflict\">8</td><td class=\"conflict\">5</td><td class=\"conflict\">6</td></tr></table>"
      ],
      "text/plain": [
       "<IPython.core.display.HTML object>"
      ]
     },
     "metadata": {},
     "output_type": "display_data"
    },
    {
     "name": "stdout",
     "output_type": "stream",
     "text": [
      "3 \t column 1 Queen, row 2 to 6\n"
     ]
    },
    {
     "data": {
      "text/html": [
       "\n",
       "    <style>\n",
       "        table { border-collapse: collapse; font-family: Arial, sans-serif; }\n",
       "        td { border: 1px solid black; height: 40px; width: 40px; text-align: center; font-size: 18px; }\n",
       "        .queen { background-color: #f4cccc; font-weight: bold; color: black; }\n",
       "        .conflict { background-color: #f9f9f9; color: gray; }\n",
       "    </style>\n",
       "    <table>\n",
       "    <tr><td class=\"conflict\">6</td><td class=\"queen\">Q 4</td><td class=\"conflict\">3</td><td class=\"conflict\">5</td><td class=\"conflict\">4</td><td class=\"conflict\">6</td><td class=\"conflict\">6</td><td class=\"conflict\">6</td></tr><tr><td class=\"conflict\">7</td><td class=\"conflict\">7</td><td class=\"conflict\">5</td><td class=\"conflict\">5</td><td class=\"conflict\">7</td><td class=\"conflict\">7</td><td class=\"queen\">Q 4</td><td class=\"queen\">Q 4</td></tr><tr><td class=\"conflict\">7</td><td class=\"conflict\">5</td><td class=\"conflict\">4</td><td class=\"conflict\">6</td><td class=\"conflict\">6</td><td class=\"queen\">Q 4</td><td class=\"conflict\">4</td><td class=\"conflict\">5</td></tr><tr><td class=\"conflict\">5</td><td class=\"conflict\">7</td><td class=\"conflict\">4</td><td class=\"queen\">Q 4</td><td class=\"conflict\">7</td><td class=\"conflict\">5</td><td class=\"conflict\">4</td><td class=\"conflict\">5</td></tr><tr><td class=\"conflict\">5</td><td class=\"conflict\">6</td><td class=\"queen\">Q 4</td><td class=\"conflict\">6</td><td class=\"conflict\">6</td><td class=\"conflict\">5</td><td class=\"conflict\">4</td><td class=\"conflict\">5</td></tr><tr><td class=\"queen\">Q 4</td><td class=\"conflict\">7</td><td class=\"conflict\">5</td><td class=\"conflict\">7</td><td class=\"conflict\">4</td><td class=\"conflict\">6</td><td class=\"conflict\">4</td><td class=\"conflict\">4</td></tr><tr><td class=\"conflict\">7</td><td class=\"conflict\">8</td><td class=\"conflict\">4</td><td class=\"conflict\">4</td><td class=\"queen\">Q 4</td><td class=\"conflict\">4</td><td class=\"conflict\">4</td><td class=\"conflict\">5</td></tr><tr><td class=\"conflict\">6</td><td class=\"conflict\">5</td><td class=\"conflict\">3</td><td class=\"conflict\">4</td><td class=\"conflict\">3</td><td class=\"conflict\">5</td><td class=\"conflict\">2</td><td class=\"conflict\">4</td></tr></table>"
      ],
      "text/plain": [
       "<IPython.core.display.HTML object>"
      ]
     },
     "metadata": {},
     "output_type": "display_data"
    },
    {
     "name": "stdout",
     "output_type": "stream",
     "text": [
      "4 \t column 3 Queen, row 2 to 1\n"
     ]
    },
    {
     "data": {
      "text/html": [
       "\n",
       "    <style>\n",
       "        table { border-collapse: collapse; font-family: Arial, sans-serif; }\n",
       "        td { border: 1px solid black; height: 40px; width: 40px; text-align: center; font-size: 18px; }\n",
       "        .queen { background-color: #f4cccc; font-weight: bold; color: black; }\n",
       "        .conflict { background-color: #f9f9f9; color: gray; }\n",
       "    </style>\n",
       "    <table>\n",
       "    <tr><td class=\"conflict\">6</td><td class=\"queen\">Q 3</td><td class=\"queen\">Q 3</td><td class=\"conflict\">6</td><td class=\"conflict\">5</td><td class=\"conflict\">6</td><td class=\"conflict\">5</td><td class=\"conflict\">6</td></tr><tr><td class=\"conflict\">6</td><td class=\"conflict\">6</td><td class=\"conflict\">5</td><td class=\"conflict\">6</td><td class=\"conflict\">7</td><td class=\"conflict\">5</td><td class=\"queen\">Q 3</td><td class=\"queen\">Q 3</td></tr><tr><td class=\"conflict\">6</td><td class=\"conflict\">3</td><td class=\"conflict\">4</td><td class=\"conflict\">6</td><td class=\"conflict\">6</td><td class=\"queen\">Q 3</td><td class=\"conflict\">3</td><td class=\"conflict\">4</td></tr><tr><td class=\"conflict\">4</td><td class=\"conflict\">4</td><td class=\"conflict\">4</td><td class=\"queen\">Q 3</td><td class=\"conflict\">7</td><td class=\"conflict\">5</td><td class=\"conflict\">3</td><td class=\"conflict\">4</td></tr><tr><td class=\"conflict\">3</td><td class=\"conflict\">3</td><td class=\"conflict\">4</td><td class=\"conflict\">5</td><td class=\"conflict\">5</td><td class=\"conflict\">3</td><td class=\"conflict\">3</td><td class=\"conflict\">3</td></tr><tr><td class=\"queen\">Q 3</td><td class=\"conflict\">4</td><td class=\"conflict\">5</td><td class=\"conflict\">6</td><td class=\"conflict\">4</td><td class=\"conflict\">5</td><td class=\"conflict\">3</td><td class=\"conflict\">4</td></tr><tr><td class=\"conflict\">5</td><td class=\"conflict\">6</td><td class=\"conflict\">4</td><td class=\"conflict\">4</td><td class=\"queen\">Q 3</td><td class=\"conflict\">3</td><td class=\"conflict\">3</td><td class=\"conflict\">4</td></tr><tr><td class=\"conflict\">5</td><td class=\"conflict\">3</td><td class=\"conflict\">3</td><td class=\"conflict\">4</td><td class=\"conflict\">3</td><td class=\"conflict\">3</td><td class=\"conflict\">1</td><td class=\"conflict\">3</td></tr></table>"
      ],
      "text/plain": [
       "<IPython.core.display.HTML object>"
      ]
     },
     "metadata": {},
     "output_type": "display_data"
    },
    {
     "name": "stdout",
     "output_type": "stream",
     "text": [
      "5 \t column 5 Queen, row 2 to 8\n"
     ]
    },
    {
     "data": {
      "text/html": [
       "\n",
       "    <style>\n",
       "        table { border-collapse: collapse; font-family: Arial, sans-serif; }\n",
       "        td { border: 1px solid black; height: 40px; width: 40px; text-align: center; font-size: 18px; }\n",
       "        .queen { background-color: #f4cccc; font-weight: bold; color: black; }\n",
       "        .conflict { background-color: #f9f9f9; color: gray; }\n",
       "    </style>\n",
       "    <table>\n",
       "    <tr><td class=\"conflict\">6</td><td class=\"queen\">Q 3</td><td class=\"queen\">Q 3</td><td class=\"conflict\">6</td><td class=\"conflict\">5</td><td class=\"conflict\">6</td><td class=\"conflict\">5</td><td class=\"conflict\">6</td></tr><tr><td class=\"conflict\">6</td><td class=\"conflict\">6</td><td class=\"conflict\">5</td><td class=\"conflict\">6</td><td class=\"conflict\">7</td><td class=\"conflict\">5</td><td class=\"queen\">Q 3</td><td class=\"queen\">Q 3</td></tr><tr><td class=\"conflict\">5</td><td class=\"conflict\">3</td><td class=\"conflict\">4</td><td class=\"conflict\">6</td><td class=\"conflict\">6</td><td class=\"queen\">Q 3</td><td class=\"conflict\">3</td><td class=\"conflict\">4</td></tr><tr><td class=\"conflict\">5</td><td class=\"conflict\">3</td><td class=\"conflict\">4</td><td class=\"queen\">Q 3</td><td class=\"conflict\">7</td><td class=\"conflict\">5</td><td class=\"conflict\">3</td><td class=\"conflict\">3</td></tr><tr><td class=\"conflict\">3</td><td class=\"conflict\">4</td><td class=\"conflict\">3</td><td class=\"conflict\">5</td><td class=\"conflict\">5</td><td class=\"conflict\">3</td><td class=\"conflict\">2</td><td class=\"conflict\">4</td></tr><tr><td class=\"queen\">Q 3</td><td class=\"conflict\">4</td><td class=\"conflict\">6</td><td class=\"conflict\">5</td><td class=\"conflict\">4</td><td class=\"conflict\">4</td><td class=\"conflict\">4</td><td class=\"conflict\">4</td></tr><tr><td class=\"conflict\">4</td><td class=\"conflict\">5</td><td class=\"conflict\">3</td><td class=\"conflict\">4</td><td class=\"conflict\">3</td><td class=\"conflict\">3</td><td class=\"conflict\">2</td><td class=\"conflict\">3</td></tr><tr><td class=\"conflict\">6</td><td class=\"conflict\">4</td><td class=\"conflict\">4</td><td class=\"conflict\">4</td><td class=\"queen\">Q 3</td><td class=\"conflict\">3</td><td class=\"conflict\">2</td><td class=\"conflict\">4</td></tr></table>"
      ],
      "text/plain": [
       "<IPython.core.display.HTML object>"
      ]
     },
     "metadata": {},
     "output_type": "display_data"
    },
    {
     "name": "stdout",
     "output_type": "stream",
     "text": [
      "6 \t column 5 Queen, row 2 to 6\n"
     ]
    },
    {
     "data": {
      "text/html": [
       "\n",
       "    <style>\n",
       "        table { border-collapse: collapse; font-family: Arial, sans-serif; }\n",
       "        td { border: 1px solid black; height: 40px; width: 40px; text-align: center; font-size: 18px; }\n",
       "        .queen { background-color: #f4cccc; font-weight: bold; color: black; }\n",
       "        .conflict { background-color: #f9f9f9; color: gray; }\n",
       "    </style>\n",
       "    <table>\n",
       "    <tr><td class=\"conflict\">6</td><td class=\"queen\">Q 4</td><td class=\"queen\">Q 4</td><td class=\"conflict\">7</td><td class=\"conflict\">5</td><td class=\"conflict\">7</td><td class=\"conflict\">6</td><td class=\"conflict\">7</td></tr><tr><td class=\"conflict\">7</td><td class=\"conflict\">7</td><td class=\"conflict\">6</td><td class=\"conflict\">7</td><td class=\"conflict\">7</td><td class=\"conflict\">6</td><td class=\"queen\">Q 4</td><td class=\"queen\">Q 4</td></tr><tr><td class=\"conflict\">5</td><td class=\"conflict\">5</td><td class=\"conflict\">5</td><td class=\"conflict\">7</td><td class=\"conflict\">6</td><td class=\"queen\">Q 4</td><td class=\"conflict\">4</td><td class=\"conflict\">6</td></tr><tr><td class=\"conflict\">4</td><td class=\"conflict\">4</td><td class=\"conflict\">6</td><td class=\"queen\">Q 4</td><td class=\"conflict\">7</td><td class=\"conflict\">6</td><td class=\"conflict\">5</td><td class=\"conflict\">4</td></tr><tr><td class=\"conflict\">3</td><td class=\"conflict\">4</td><td class=\"conflict\">4</td><td class=\"conflict\">7</td><td class=\"conflict\">5</td><td class=\"conflict\">5</td><td class=\"conflict\">3</td><td class=\"conflict\">4</td></tr><tr><td class=\"queen\">Q 4</td><td class=\"conflict\">6</td><td class=\"conflict\">7</td><td class=\"conflict\">7</td><td class=\"queen\">Q 4</td><td class=\"conflict\">6</td><td class=\"conflict\">5</td><td class=\"conflict\">6</td></tr><tr><td class=\"conflict\">4</td><td class=\"conflict\">6</td><td class=\"conflict\">4</td><td class=\"conflict\">5</td><td class=\"conflict\">3</td><td class=\"conflict\">4</td><td class=\"conflict\">3</td><td class=\"conflict\">4</td></tr><tr><td class=\"conflict\">5</td><td class=\"conflict\">4</td><td class=\"conflict\">5</td><td class=\"conflict\">4</td><td class=\"conflict\">3</td><td class=\"conflict\">3</td><td class=\"conflict\">3</td><td class=\"conflict\">4</td></tr></table>"
      ],
      "text/plain": [
       "<IPython.core.display.HTML object>"
      ]
     },
     "metadata": {},
     "output_type": "display_data"
    },
    {
     "name": "stdout",
     "output_type": "stream",
     "text": [
      "7 \t column 6 Queen, row 2 to 7\n"
     ]
    },
    {
     "data": {
      "text/html": [
       "\n",
       "    <style>\n",
       "        table { border-collapse: collapse; font-family: Arial, sans-serif; }\n",
       "        td { border: 1px solid black; height: 40px; width: 40px; text-align: center; font-size: 18px; }\n",
       "        .queen { background-color: #f4cccc; font-weight: bold; color: black; }\n",
       "        .conflict { background-color: #f9f9f9; color: gray; }\n",
       "    </style>\n",
       "    <table>\n",
       "    <tr><td class=\"conflict\">6</td><td class=\"queen\">Q 4</td><td class=\"queen\">Q 4</td><td class=\"conflict\">6</td><td class=\"conflict\">4</td><td class=\"conflict\">7</td><td class=\"conflict\">7</td><td class=\"conflict\">6</td></tr><tr><td class=\"conflict\">8</td><td class=\"conflict\">7</td><td class=\"conflict\">6</td><td class=\"conflict\">7</td><td class=\"conflict\">5</td><td class=\"conflict\">6</td><td class=\"queen\">Q 4</td><td class=\"queen\">Q 4</td></tr><tr><td class=\"conflict\">4</td><td class=\"conflict\">5</td><td class=\"conflict\">4</td><td class=\"conflict\">6</td><td class=\"conflict\">4</td><td class=\"conflict\">4</td><td class=\"conflict\">4</td><td class=\"conflict\">5</td></tr><tr><td class=\"conflict\">4</td><td class=\"conflict\">4</td><td class=\"conflict\">7</td><td class=\"queen\">Q 4</td><td class=\"conflict\">5</td><td class=\"conflict\">6</td><td class=\"conflict\">5</td><td class=\"conflict\">4</td></tr><tr><td class=\"conflict\">3</td><td class=\"conflict\">4</td><td class=\"conflict\">4</td><td class=\"conflict\">7</td><td class=\"conflict\">4</td><td class=\"conflict\">5</td><td class=\"conflict\">4</td><td class=\"conflict\">4</td></tr><tr><td class=\"queen\">Q 4</td><td class=\"conflict\">6</td><td class=\"conflict\">6</td><td class=\"conflict\">7</td><td class=\"queen\">Q 4</td><td class=\"conflict\">6</td><td class=\"conflict\">7</td><td class=\"conflict\">6</td></tr><tr><td class=\"conflict\">5</td><td class=\"conflict\">6</td><td class=\"conflict\">5</td><td class=\"conflict\">6</td><td class=\"conflict\">3</td><td class=\"queen\">Q 4</td><td class=\"conflict\">5</td><td class=\"conflict\">5</td></tr><tr><td class=\"conflict\">4</td><td class=\"conflict\">4</td><td class=\"conflict\">5</td><td class=\"conflict\">4</td><td class=\"conflict\">3</td><td class=\"conflict\">3</td><td class=\"conflict\">5</td><td class=\"conflict\">4</td></tr></table>"
      ],
      "text/plain": [
       "<IPython.core.display.HTML object>"
      ]
     },
     "metadata": {},
     "output_type": "display_data"
    },
    {
     "name": "stdout",
     "output_type": "stream",
     "text": [
      "8 \t column 6 Queen, row 2 to 6\n"
     ]
    },
    {
     "data": {
      "text/html": [
       "\n",
       "    <style>\n",
       "        table { border-collapse: collapse; font-family: Arial, sans-serif; }\n",
       "        td { border: 1px solid black; height: 40px; width: 40px; text-align: center; font-size: 18px; }\n",
       "        .queen { background-color: #f4cccc; font-weight: bold; color: black; }\n",
       "        .conflict { background-color: #f9f9f9; color: gray; }\n",
       "    </style>\n",
       "    <table>\n",
       "    <tr><td class=\"conflict\">8</td><td class=\"queen\">Q 6</td><td class=\"queen\">Q 6</td><td class=\"conflict\">7</td><td class=\"conflict\">6</td><td class=\"conflict\">7</td><td class=\"conflict\">9</td><td class=\"conflict\">8</td></tr><tr><td class=\"conflict\">8</td><td class=\"conflict\">10</td><td class=\"conflict\">8</td><td class=\"conflict\">8</td><td class=\"conflict\">7</td><td class=\"conflict\">6</td><td class=\"queen\">Q 6</td><td class=\"queen\">Q 6</td></tr><tr><td class=\"conflict\">5</td><td class=\"conflict\">6</td><td class=\"conflict\">7</td><td class=\"conflict\">7</td><td class=\"conflict\">6</td><td class=\"conflict\">4</td><td class=\"conflict\">6</td><td class=\"conflict\">7</td></tr><tr><td class=\"conflict\">5</td><td class=\"conflict\">6</td><td class=\"conflict\">8</td><td class=\"queen\">Q 6</td><td class=\"conflict\">7</td><td class=\"conflict\">6</td><td class=\"conflict\">7</td><td class=\"conflict\">7</td></tr><tr><td class=\"conflict\">4</td><td class=\"conflict\">6</td><td class=\"conflict\">6</td><td class=\"conflict\">7</td><td class=\"conflict\">7</td><td class=\"conflict\">5</td><td class=\"conflict\">7</td><td class=\"conflict\">5</td></tr><tr><td class=\"queen\">Q 6</td><td class=\"conflict\">9</td><td class=\"conflict\">9</td><td class=\"conflict\">9</td><td class=\"queen\">Q 6</td><td class=\"queen\">Q 6</td><td class=\"conflict\">9</td><td class=\"conflict\">9</td></tr><tr><td class=\"conflict\">5</td><td class=\"conflict\">7</td><td class=\"conflict\">6</td><td class=\"conflict\">6</td><td class=\"conflict\">5</td><td class=\"conflict\">4</td><td class=\"conflict\">7</td><td class=\"conflict\">6</td></tr><tr><td class=\"conflict\">5</td><td class=\"conflict\">6</td><td class=\"conflict\">7</td><td class=\"conflict\">6</td><td class=\"conflict\">4</td><td class=\"conflict\">3</td><td class=\"conflict\">6</td><td class=\"conflict\">7</td></tr></table>"
      ],
      "text/plain": [
       "<IPython.core.display.HTML object>"
      ]
     },
     "metadata": {},
     "output_type": "display_data"
    },
    {
     "name": "stdout",
     "output_type": "stream",
     "text": [
      "9 \t column 4 Queen, row 2 to 4\n"
     ]
    },
    {
     "data": {
      "text/html": [
       "\n",
       "    <style>\n",
       "        table { border-collapse: collapse; font-family: Arial, sans-serif; }\n",
       "        td { border: 1px solid black; height: 40px; width: 40px; text-align: center; font-size: 18px; }\n",
       "        .queen { background-color: #f4cccc; font-weight: bold; color: black; }\n",
       "        .conflict { background-color: #f9f9f9; color: gray; }\n",
       "    </style>\n",
       "    <table>\n",
       "    <tr><td class=\"conflict\">8</td><td class=\"queen\">Q 6</td><td class=\"queen\">Q 6</td><td class=\"conflict\">7</td><td class=\"conflict\">6</td><td class=\"conflict\">7</td><td class=\"conflict\">9</td><td class=\"conflict\">8</td></tr><tr><td class=\"conflict\">8</td><td class=\"conflict\">10</td><td class=\"conflict\">8</td><td class=\"conflict\">8</td><td class=\"conflict\">7</td><td class=\"conflict\">6</td><td class=\"queen\">Q 6</td><td class=\"queen\">Q 6</td></tr><tr><td class=\"conflict\">5</td><td class=\"conflict\">6</td><td class=\"conflict\">7</td><td class=\"conflict\">7</td><td class=\"conflict\">6</td><td class=\"conflict\">4</td><td class=\"conflict\">6</td><td class=\"conflict\">7</td></tr><tr><td class=\"conflict\">5</td><td class=\"conflict\">6</td><td class=\"conflict\">8</td><td class=\"queen\">Q 6</td><td class=\"conflict\">7</td><td class=\"conflict\">6</td><td class=\"conflict\">7</td><td class=\"conflict\">7</td></tr><tr><td class=\"conflict\">4</td><td class=\"conflict\">6</td><td class=\"conflict\">6</td><td class=\"conflict\">7</td><td class=\"conflict\">7</td><td class=\"conflict\">5</td><td class=\"conflict\">7</td><td class=\"conflict\">5</td></tr><tr><td class=\"queen\">Q 6</td><td class=\"conflict\">9</td><td class=\"conflict\">9</td><td class=\"conflict\">9</td><td class=\"queen\">Q 6</td><td class=\"queen\">Q 6</td><td class=\"conflict\">9</td><td class=\"conflict\">9</td></tr><tr><td class=\"conflict\">5</td><td class=\"conflict\">7</td><td class=\"conflict\">6</td><td class=\"conflict\">6</td><td class=\"conflict\">5</td><td class=\"conflict\">4</td><td class=\"conflict\">7</td><td class=\"conflict\">6</td></tr><tr><td class=\"conflict\">5</td><td class=\"conflict\">6</td><td class=\"conflict\">7</td><td class=\"conflict\">6</td><td class=\"conflict\">4</td><td class=\"conflict\">3</td><td class=\"conflict\">6</td><td class=\"conflict\">7</td></tr></table>"
      ],
      "text/plain": [
       "<IPython.core.display.HTML object>"
      ]
     },
     "metadata": {},
     "output_type": "display_data"
    },
    {
     "name": "stdout",
     "output_type": "stream",
     "text": [
      "10 \t column 4 Queen, row 2 to 6\n"
     ]
    },
    {
     "data": {
      "text/html": [
       "\n",
       "    <style>\n",
       "        table { border-collapse: collapse; font-family: Arial, sans-serif; }\n",
       "        td { border: 1px solid black; height: 40px; width: 40px; text-align: center; font-size: 18px; }\n",
       "        .queen { background-color: #f4cccc; font-weight: bold; color: black; }\n",
       "        .conflict { background-color: #f9f9f9; color: gray; }\n",
       "    </style>\n",
       "    <table>\n",
       "    <tr><td class=\"conflict\">9</td><td class=\"queen\">Q 9</td><td class=\"queen\">Q 9</td><td class=\"conflict\">7</td><td class=\"conflict\">8</td><td class=\"conflict\">10</td><td class=\"conflict\">11</td><td class=\"conflict\">10</td></tr><tr><td class=\"conflict\">10</td><td class=\"conflict\">12</td><td class=\"conflict\">11</td><td class=\"conflict\">8</td><td class=\"conflict\">9</td><td class=\"conflict\">8</td><td class=\"queen\">Q 9</td><td class=\"queen\">Q 9</td></tr><tr><td class=\"conflict\">8</td><td class=\"conflict\">9</td><td class=\"conflict\">9</td><td class=\"conflict\">7</td><td class=\"conflict\">7</td><td class=\"conflict\">7</td><td class=\"conflict\">10</td><td class=\"conflict\">9</td></tr><tr><td class=\"conflict\">6</td><td class=\"conflict\">9</td><td class=\"conflict\">10</td><td class=\"conflict\">6</td><td class=\"conflict\">8</td><td class=\"conflict\">9</td><td class=\"conflict\">9</td><td class=\"conflict\">8</td></tr><tr><td class=\"conflict\">6</td><td class=\"conflict\">9</td><td class=\"conflict\">9</td><td class=\"conflict\">7</td><td class=\"conflict\">9</td><td class=\"conflict\">8</td><td class=\"conflict\">10</td><td class=\"conflict\">7</td></tr><tr><td class=\"queen\">Q 9</td><td class=\"conflict\">12</td><td class=\"conflict\">13</td><td class=\"queen\">Q 9</td><td class=\"queen\">Q 9</td><td class=\"queen\">Q 9</td><td class=\"conflict\">13</td><td class=\"conflict\">12</td></tr><tr><td class=\"conflict\">6</td><td class=\"conflict\">10</td><td class=\"conflict\">10</td><td class=\"conflict\">6</td><td class=\"conflict\">8</td><td class=\"conflict\">7</td><td class=\"conflict\">9</td><td class=\"conflict\">8</td></tr><tr><td class=\"conflict\">7</td><td class=\"conflict\">10</td><td class=\"conflict\">10</td><td class=\"conflict\">6</td><td class=\"conflict\">6</td><td class=\"conflict\">7</td><td class=\"conflict\">9</td><td class=\"conflict\">8</td></tr></table>"
      ],
      "text/plain": [
       "<IPython.core.display.HTML object>"
      ]
     },
     "metadata": {},
     "output_type": "display_data"
    },
    {
     "name": "stdout",
     "output_type": "stream",
     "text": [
      "11 \t column 3 Queen, row 2 to 3\n"
     ]
    },
    {
     "data": {
      "text/html": [
       "\n",
       "    <style>\n",
       "        table { border-collapse: collapse; font-family: Arial, sans-serif; }\n",
       "        td { border: 1px solid black; height: 40px; width: 40px; text-align: center; font-size: 18px; }\n",
       "        .queen { background-color: #f4cccc; font-weight: bold; color: black; }\n",
       "        .conflict { background-color: #f9f9f9; color: gray; }\n",
       "    </style>\n",
       "    <table>\n",
       "    <tr><td class=\"conflict\">9</td><td class=\"queen\">Q 9</td><td class=\"conflict\">9</td><td class=\"conflict\">6</td><td class=\"conflict\">8</td><td class=\"conflict\">8</td><td class=\"conflict\">10</td><td class=\"conflict\">9</td></tr><tr><td class=\"conflict\">10</td><td class=\"conflict\">13</td><td class=\"conflict\">11</td><td class=\"conflict\">8</td><td class=\"conflict\">9</td><td class=\"conflict\">7</td><td class=\"queen\">Q 9</td><td class=\"queen\">Q 9</td></tr><tr><td class=\"conflict\">8</td><td class=\"conflict\">11</td><td class=\"queen\">Q 9</td><td class=\"conflict\">8</td><td class=\"conflict\">7</td><td class=\"conflict\">7</td><td class=\"conflict\">11</td><td class=\"conflict\">10</td></tr><tr><td class=\"conflict\">6</td><td class=\"conflict\">11</td><td class=\"conflict\">10</td><td class=\"conflict\">7</td><td class=\"conflict\">8</td><td class=\"conflict\">7</td><td class=\"conflict\">9</td><td class=\"conflict\">8</td></tr><tr><td class=\"conflict\">7</td><td class=\"conflict\">10</td><td class=\"conflict\">9</td><td class=\"conflict\">7</td><td class=\"conflict\">10</td><td class=\"conflict\">7</td><td class=\"conflict\">9</td><td class=\"conflict\">7</td></tr><tr><td class=\"queen\">Q 9</td><td class=\"conflict\">13</td><td class=\"conflict\">13</td><td class=\"queen\">Q 9</td><td class=\"queen\">Q 9</td><td class=\"queen\">Q 9</td><td class=\"conflict\">13</td><td class=\"conflict\">11</td></tr><tr><td class=\"conflict\">6</td><td class=\"conflict\">11</td><td class=\"conflict\">10</td><td class=\"conflict\">6</td><td class=\"conflict\">8</td><td class=\"conflict\">6</td><td class=\"conflict\">10</td><td class=\"conflict\">8</td></tr><tr><td class=\"conflict\">7</td><td class=\"conflict\">11</td><td class=\"conflict\">10</td><td class=\"conflict\">6</td><td class=\"conflict\">6</td><td class=\"conflict\">6</td><td class=\"conflict\">9</td><td class=\"conflict\">9</td></tr></table>"
      ],
      "text/plain": [
       "<IPython.core.display.HTML object>"
      ]
     },
     "metadata": {},
     "output_type": "display_data"
    },
    {
     "name": "stdout",
     "output_type": "stream",
     "text": [
      "12 \t column 7 Queen, row 2 to 8\n"
     ]
    },
    {
     "data": {
      "text/html": [
       "\n",
       "    <style>\n",
       "        table { border-collapse: collapse; font-family: Arial, sans-serif; }\n",
       "        td { border: 1px solid black; height: 40px; width: 40px; text-align: center; font-size: 18px; }\n",
       "        .queen { background-color: #f4cccc; font-weight: bold; color: black; }\n",
       "        .conflict { background-color: #f9f9f9; color: gray; }\n",
       "    </style>\n",
       "    <table>\n",
       "    <tr><td class=\"conflict\">9</td><td class=\"queen\">Q 9</td><td class=\"conflict\">9</td><td class=\"conflict\">6</td><td class=\"conflict\">7</td><td class=\"conflict\">7</td><td class=\"conflict\">10</td><td class=\"conflict\">9</td></tr><tr><td class=\"conflict\">10</td><td class=\"conflict\">12</td><td class=\"conflict\">10</td><td class=\"conflict\">7</td><td class=\"conflict\">7</td><td class=\"conflict\">6</td><td class=\"conflict\">9</td><td class=\"queen\">Q 9</td></tr><tr><td class=\"conflict\">8</td><td class=\"conflict\">12</td><td class=\"queen\">Q 9</td><td class=\"conflict\">8</td><td class=\"conflict\">6</td><td class=\"conflict\">6</td><td class=\"conflict\">11</td><td class=\"conflict\">10</td></tr><tr><td class=\"conflict\">6</td><td class=\"conflict\">11</td><td class=\"conflict\">11</td><td class=\"conflict\">7</td><td class=\"conflict\">6</td><td class=\"conflict\">7</td><td class=\"conflict\">9</td><td class=\"conflict\">9</td></tr><tr><td class=\"conflict\">7</td><td class=\"conflict\">10</td><td class=\"conflict\">9</td><td class=\"conflict\">7</td><td class=\"conflict\">9</td><td class=\"conflict\">7</td><td class=\"conflict\">9</td><td class=\"conflict\">8</td></tr><tr><td class=\"queen\">Q 9</td><td class=\"conflict\">13</td><td class=\"conflict\">12</td><td class=\"queen\">Q 9</td><td class=\"queen\">Q 9</td><td class=\"queen\">Q 9</td><td class=\"conflict\">13</td><td class=\"conflict\">12</td></tr><tr><td class=\"conflict\">6</td><td class=\"conflict\">10</td><td class=\"conflict\">10</td><td class=\"conflict\">6</td><td class=\"conflict\">7</td><td class=\"conflict\">7</td><td class=\"conflict\">10</td><td class=\"conflict\">10</td></tr><tr><td class=\"conflict\">7</td><td class=\"conflict\">12</td><td class=\"conflict\">11</td><td class=\"conflict\">7</td><td class=\"conflict\">6</td><td class=\"conflict\">7</td><td class=\"queen\">Q 9</td><td class=\"conflict\">11</td></tr></table>"
      ],
      "text/plain": [
       "<IPython.core.display.HTML object>"
      ]
     },
     "metadata": {},
     "output_type": "display_data"
    },
    {
     "name": "stdout",
     "output_type": "stream",
     "text": [
      "13 \t column 6 Queen, row 2 to 8\n"
     ]
    },
    {
     "data": {
      "text/html": [
       "\n",
       "    <style>\n",
       "        table { border-collapse: collapse; font-family: Arial, sans-serif; }\n",
       "        td { border: 1px solid black; height: 40px; width: 40px; text-align: center; font-size: 18px; }\n",
       "        .queen { background-color: #f4cccc; font-weight: bold; color: black; }\n",
       "        .conflict { background-color: #f9f9f9; color: gray; }\n",
       "    </style>\n",
       "    <table>\n",
       "    <tr><td class=\"conflict\">7</td><td class=\"queen\">Q 7</td><td class=\"conflict\">8</td><td class=\"conflict\">4</td><td class=\"conflict\">6</td><td class=\"conflict\">7</td><td class=\"conflict\">7</td><td class=\"conflict\">7</td></tr><tr><td class=\"conflict\">9</td><td class=\"conflict\">9</td><td class=\"conflict\">9</td><td class=\"conflict\">5</td><td class=\"conflict\">6</td><td class=\"conflict\">6</td><td class=\"conflict\">6</td><td class=\"queen\">Q 7</td></tr><tr><td class=\"conflict\">8</td><td class=\"conflict\">10</td><td class=\"queen\">Q 7</td><td class=\"conflict\">6</td><td class=\"conflict\">5</td><td class=\"conflict\">6</td><td class=\"conflict\">8</td><td class=\"conflict\">8</td></tr><tr><td class=\"conflict\">5</td><td class=\"conflict\">10</td><td class=\"conflict\">10</td><td class=\"conflict\">4</td><td class=\"conflict\">5</td><td class=\"conflict\">7</td><td class=\"conflict\">6</td><td class=\"conflict\">6</td></tr><tr><td class=\"conflict\">6</td><td class=\"conflict\">8</td><td class=\"conflict\">9</td><td class=\"conflict\">5</td><td class=\"conflict\">7</td><td class=\"conflict\">7</td><td class=\"conflict\">5</td><td class=\"conflict\">6</td></tr><tr><td class=\"queen\">Q 7</td><td class=\"conflict\">10</td><td class=\"conflict\">10</td><td class=\"queen\">Q 7</td><td class=\"queen\">Q 7</td><td class=\"conflict\">9</td><td class=\"conflict\">9</td><td class=\"conflict\">10</td></tr><tr><td class=\"conflict\">5</td><td class=\"conflict\">8</td><td class=\"conflict\">9</td><td class=\"conflict\">4</td><td class=\"conflict\">6</td><td class=\"conflict\">7</td><td class=\"conflict\">7</td><td class=\"conflict\">8</td></tr><tr><td class=\"conflict\">7</td><td class=\"conflict\">11</td><td class=\"conflict\">11</td><td class=\"conflict\">5</td><td class=\"conflict\">6</td><td class=\"queen\">Q 7</td><td class=\"queen\">Q 7</td><td class=\"conflict\">9</td></tr></table>"
      ],
      "text/plain": [
       "<IPython.core.display.HTML object>"
      ]
     },
     "metadata": {},
     "output_type": "display_data"
    },
    {
     "name": "stdout",
     "output_type": "stream",
     "text": [
      "14 \t column 2 Queen, row 2 to 2\n"
     ]
    },
    {
     "data": {
      "text/html": [
       "\n",
       "    <style>\n",
       "        table { border-collapse: collapse; font-family: Arial, sans-serif; }\n",
       "        td { border: 1px solid black; height: 40px; width: 40px; text-align: center; font-size: 18px; }\n",
       "        .queen { background-color: #f4cccc; font-weight: bold; color: black; }\n",
       "        .conflict { background-color: #f9f9f9; color: gray; }\n",
       "    </style>\n",
       "    <table>\n",
       "    <tr><td class=\"conflict\">9</td><td class=\"conflict\">7</td><td class=\"conflict\">9</td><td class=\"conflict\">5</td><td class=\"conflict\">7</td><td class=\"conflict\">8</td><td class=\"conflict\">8</td><td class=\"conflict\">7</td></tr><tr><td class=\"conflict\">11</td><td class=\"queen\">Q 9</td><td class=\"conflict\">10</td><td class=\"conflict\">8</td><td class=\"conflict\">9</td><td class=\"conflict\">9</td><td class=\"conflict\">9</td><td class=\"queen\">Q 9</td></tr><tr><td class=\"conflict\">11</td><td class=\"conflict\">10</td><td class=\"queen\">Q 9</td><td class=\"conflict\">7</td><td class=\"conflict\">7</td><td class=\"conflict\">8</td><td class=\"conflict\">10</td><td class=\"conflict\">9</td></tr><tr><td class=\"conflict\">7</td><td class=\"conflict\">10</td><td class=\"conflict\">11</td><td class=\"conflict\">7</td><td class=\"conflict\">6</td><td class=\"conflict\">9</td><td class=\"conflict\">8</td><td class=\"conflict\">7</td></tr><tr><td class=\"conflict\">8</td><td class=\"conflict\">8</td><td class=\"conflict\">10</td><td class=\"conflict\">7</td><td class=\"conflict\">10</td><td class=\"conflict\">8</td><td class=\"conflict\">7</td><td class=\"conflict\">7</td></tr><tr><td class=\"queen\">Q 9</td><td class=\"conflict\">10</td><td class=\"conflict\">11</td><td class=\"queen\">Q 9</td><td class=\"queen\">Q 9</td><td class=\"conflict\">12</td><td class=\"conflict\">10</td><td class=\"conflict\">11</td></tr><tr><td class=\"conflict\">7</td><td class=\"conflict\">8</td><td class=\"conflict\">10</td><td class=\"conflict\">6</td><td class=\"conflict\">8</td><td class=\"conflict\">9</td><td class=\"conflict\">10</td><td class=\"conflict\">8</td></tr><tr><td class=\"conflict\">9</td><td class=\"conflict\">11</td><td class=\"conflict\">12</td><td class=\"conflict\">7</td><td class=\"conflict\">8</td><td class=\"queen\">Q 9</td><td class=\"queen\">Q 9</td><td class=\"conflict\">11</td></tr></table>"
      ],
      "text/plain": [
       "<IPython.core.display.HTML object>"
      ]
     },
     "metadata": {},
     "output_type": "display_data"
    },
    {
     "name": "stdout",
     "output_type": "stream",
     "text": [
      "15 \t column 4 Queen, row 2 to 4\n"
     ]
    },
    {
     "data": {
      "text/html": [
       "\n",
       "    <style>\n",
       "        table { border-collapse: collapse; font-family: Arial, sans-serif; }\n",
       "        td { border: 1px solid black; height: 40px; width: 40px; text-align: center; font-size: 18px; }\n",
       "        .queen { background-color: #f4cccc; font-weight: bold; color: black; }\n",
       "        .conflict { background-color: #f9f9f9; color: gray; }\n",
       "    </style>\n",
       "    <table>\n",
       "    <tr><td class=\"conflict\">9</td><td class=\"conflict\">4</td><td class=\"conflict\">6</td><td class=\"conflict\">5</td><td class=\"conflict\">6</td><td class=\"conflict\">7</td><td class=\"conflict\">7</td><td class=\"conflict\">6</td></tr><tr><td class=\"conflict\">10</td><td class=\"queen\">Q 7</td><td class=\"conflict\">7</td><td class=\"conflict\">8</td><td class=\"conflict\">8</td><td class=\"conflict\">9</td><td class=\"conflict\">7</td><td class=\"queen\">Q 7</td></tr><tr><td class=\"conflict\">9</td><td class=\"conflict\">7</td><td class=\"queen\">Q 7</td><td class=\"conflict\">7</td><td class=\"conflict\">7</td><td class=\"conflict\">7</td><td class=\"conflict\">7</td><td class=\"conflict\">8</td></tr><tr><td class=\"conflict\">7</td><td class=\"conflict\">7</td><td class=\"conflict\">9</td><td class=\"queen\">Q 7</td><td class=\"conflict\">6</td><td class=\"conflict\">8</td><td class=\"conflict\">7</td><td class=\"conflict\">7</td></tr><tr><td class=\"conflict\">7</td><td class=\"conflict\">5</td><td class=\"conflict\">7</td><td class=\"conflict\">7</td><td class=\"conflict\">9</td><td class=\"conflict\">7</td><td class=\"conflict\">5</td><td class=\"conflict\">6</td></tr><tr><td class=\"queen\">Q 7</td><td class=\"conflict\">7</td><td class=\"conflict\">7</td><td class=\"conflict\">9</td><td class=\"queen\">Q 7</td><td class=\"conflict\">11</td><td class=\"conflict\">7</td><td class=\"conflict\">9</td></tr><tr><td class=\"conflict\">7</td><td class=\"conflict\">5</td><td class=\"conflict\">6</td><td class=\"conflict\">6</td><td class=\"conflict\">6</td><td class=\"conflict\">8</td><td class=\"conflict\">9</td><td class=\"conflict\">7</td></tr><tr><td class=\"conflict\">8</td><td class=\"conflict\">7</td><td class=\"conflict\">9</td><td class=\"conflict\">7</td><td class=\"conflict\">7</td><td class=\"queen\">Q 7</td><td class=\"queen\">Q 7</td><td class=\"conflict\">11</td></tr></table>"
      ],
      "text/plain": [
       "<IPython.core.display.HTML object>"
      ]
     },
     "metadata": {},
     "output_type": "display_data"
    },
    {
     "name": "stdout",
     "output_type": "stream",
     "text": [
      "16 \t column 3 Queen, row 2 to 2\n"
     ]
    },
    {
     "data": {
      "text/html": [
       "\n",
       "    <style>\n",
       "        table { border-collapse: collapse; font-family: Arial, sans-serif; }\n",
       "        td { border: 1px solid black; height: 40px; width: 40px; text-align: center; font-size: 18px; }\n",
       "        .queen { background-color: #f4cccc; font-weight: bold; color: black; }\n",
       "        .conflict { background-color: #f9f9f9; color: gray; }\n",
       "    </style>\n",
       "    <table>\n",
       "    <tr><td class=\"conflict\">8</td><td class=\"conflict\">5</td><td class=\"conflict\">6</td><td class=\"conflict\">7</td><td class=\"conflict\">5</td><td class=\"conflict\">7</td><td class=\"conflict\">7</td><td class=\"conflict\">5</td></tr><tr><td class=\"conflict\">11</td><td class=\"queen\">Q 7</td><td class=\"queen\">Q 7</td><td class=\"conflict\">9</td><td class=\"conflict\">9</td><td class=\"conflict\">10</td><td class=\"conflict\">8</td><td class=\"queen\">Q 7</td></tr><tr><td class=\"conflict\">8</td><td class=\"conflict\">7</td><td class=\"conflict\">7</td><td class=\"conflict\">8</td><td class=\"conflict\">6</td><td class=\"conflict\">6</td><td class=\"conflict\">6</td><td class=\"conflict\">6</td></tr><tr><td class=\"conflict\">8</td><td class=\"conflict\">6</td><td class=\"conflict\">9</td><td class=\"queen\">Q 7</td><td class=\"conflict\">7</td><td class=\"conflict\">8</td><td class=\"conflict\">7</td><td class=\"conflict\">6</td></tr><tr><td class=\"conflict\">6</td><td class=\"conflict\">5</td><td class=\"conflict\">7</td><td class=\"conflict\">8</td><td class=\"conflict\">8</td><td class=\"conflict\">8</td><td class=\"conflict\">5</td><td class=\"conflict\">5</td></tr><tr><td class=\"queen\">Q 7</td><td class=\"conflict\">7</td><td class=\"conflict\">7</td><td class=\"conflict\">10</td><td class=\"queen\">Q 7</td><td class=\"conflict\">10</td><td class=\"conflict\">8</td><td class=\"conflict\">8</td></tr><tr><td class=\"conflict\">7</td><td class=\"conflict\">5</td><td class=\"conflict\">6</td><td class=\"conflict\">7</td><td class=\"conflict\">6</td><td class=\"conflict\">8</td><td class=\"conflict\">8</td><td class=\"conflict\">7</td></tr><tr><td class=\"conflict\">8</td><td class=\"conflict\">7</td><td class=\"conflict\">9</td><td class=\"conflict\">8</td><td class=\"conflict\">7</td><td class=\"queen\">Q 7</td><td class=\"queen\">Q 7</td><td class=\"conflict\">9</td></tr></table>"
      ],
      "text/plain": [
       "<IPython.core.display.HTML object>"
      ]
     },
     "metadata": {},
     "output_type": "display_data"
    },
    {
     "name": "stdout",
     "output_type": "stream",
     "text": [
      "17 \t column 2 Queen, row 2 to 6\n"
     ]
    },
    {
     "data": {
      "text/html": [
       "\n",
       "    <style>\n",
       "        table { border-collapse: collapse; font-family: Arial, sans-serif; }\n",
       "        td { border: 1px solid black; height: 40px; width: 40px; text-align: center; font-size: 18px; }\n",
       "        .queen { background-color: #f4cccc; font-weight: bold; color: black; }\n",
       "        .conflict { background-color: #f9f9f9; color: gray; }\n",
       "    </style>\n",
       "    <table>\n",
       "    <tr><td class=\"conflict\">6</td><td class=\"conflict\">5</td><td class=\"conflict\">6</td><td class=\"conflict\">7</td><td class=\"conflict\">4</td><td class=\"conflict\">7</td><td class=\"conflict\">8</td><td class=\"conflict\">6</td></tr><tr><td class=\"conflict\">9</td><td class=\"conflict\">7</td><td class=\"queen\">Q 7</td><td class=\"conflict\">8</td><td class=\"conflict\">7</td><td class=\"conflict\">10</td><td class=\"conflict\">7</td><td class=\"queen\">Q 7</td></tr><tr><td class=\"conflict\">6</td><td class=\"conflict\">7</td><td class=\"conflict\">7</td><td class=\"conflict\">8</td><td class=\"conflict\">6</td><td class=\"conflict\">6</td><td class=\"conflict\">6</td><td class=\"conflict\">7</td></tr><tr><td class=\"conflict\">7</td><td class=\"conflict\">6</td><td class=\"conflict\">10</td><td class=\"queen\">Q 7</td><td class=\"conflict\">6</td><td class=\"conflict\">8</td><td class=\"conflict\">7</td><td class=\"conflict\">7</td></tr><tr><td class=\"conflict\">6</td><td class=\"conflict\">5</td><td class=\"conflict\">9</td><td class=\"conflict\">8</td><td class=\"conflict\">6</td><td class=\"conflict\">8</td><td class=\"conflict\">5</td><td class=\"conflict\">6</td></tr><tr><td class=\"queen\">Q 7</td><td class=\"queen\">Q 7</td><td class=\"conflict\">9</td><td class=\"conflict\">11</td><td class=\"queen\">Q 7</td><td class=\"conflict\">10</td><td class=\"conflict\">9</td><td class=\"conflict\">10</td></tr><tr><td class=\"conflict\">7</td><td class=\"conflict\">5</td><td class=\"conflict\">8</td><td class=\"conflict\">7</td><td class=\"conflict\">5</td><td class=\"conflict\">8</td><td class=\"conflict\">7</td><td class=\"conflict\">8</td></tr><tr><td class=\"conflict\">7</td><td class=\"conflict\">7</td><td class=\"conflict\">10</td><td class=\"conflict\">9</td><td class=\"conflict\">6</td><td class=\"queen\">Q 7</td><td class=\"queen\">Q 7</td><td class=\"conflict\">9</td></tr></table>"
      ],
      "text/plain": [
       "<IPython.core.display.HTML object>"
      ]
     },
     "metadata": {},
     "output_type": "display_data"
    },
    {
     "name": "stdout",
     "output_type": "stream",
     "text": [
      "18 \t column 7 Queen, row 2 to 2\n"
     ]
    },
    {
     "data": {
      "text/html": [
       "\n",
       "    <style>\n",
       "        table { border-collapse: collapse; font-family: Arial, sans-serif; }\n",
       "        td { border: 1px solid black; height: 40px; width: 40px; text-align: center; font-size: 18px; }\n",
       "        .queen { background-color: #f4cccc; font-weight: bold; color: black; }\n",
       "        .conflict { background-color: #f9f9f9; color: gray; }\n",
       "    </style>\n",
       "    <table>\n",
       "    <tr><td class=\"conflict\">6</td><td class=\"conflict\">5</td><td class=\"conflict\">5</td><td class=\"conflict\">7</td><td class=\"conflict\">5</td><td class=\"conflict\">9</td><td class=\"conflict\">8</td><td class=\"conflict\">6</td></tr><tr><td class=\"conflict\">9</td><td class=\"conflict\">8</td><td class=\"queen\">Q 7</td><td class=\"conflict\">9</td><td class=\"conflict\">9</td><td class=\"conflict\">12</td><td class=\"queen\">Q 7</td><td class=\"queen\">Q 7</td></tr><tr><td class=\"conflict\">6</td><td class=\"conflict\">6</td><td class=\"conflict\">6</td><td class=\"conflict\">8</td><td class=\"conflict\">7</td><td class=\"conflict\">8</td><td class=\"conflict\">6</td><td class=\"conflict\">7</td></tr><tr><td class=\"conflict\">7</td><td class=\"conflict\">6</td><td class=\"conflict\">8</td><td class=\"queen\">Q 7</td><td class=\"conflict\">8</td><td class=\"conflict\">9</td><td class=\"conflict\">7</td><td class=\"conflict\">6</td></tr><tr><td class=\"conflict\">6</td><td class=\"conflict\">5</td><td class=\"conflict\">8</td><td class=\"conflict\">8</td><td class=\"conflict\">7</td><td class=\"conflict\">9</td><td class=\"conflict\">5</td><td class=\"conflict\">5</td></tr><tr><td class=\"queen\">Q 7</td><td class=\"queen\">Q 7</td><td class=\"conflict\">9</td><td class=\"conflict\">11</td><td class=\"queen\">Q 7</td><td class=\"conflict\">11</td><td class=\"conflict\">9</td><td class=\"conflict\">9</td></tr><tr><td class=\"conflict\">7</td><td class=\"conflict\">6</td><td class=\"conflict\">7</td><td class=\"conflict\">7</td><td class=\"conflict\">6</td><td class=\"conflict\">8</td><td class=\"conflict\">7</td><td class=\"conflict\">6</td></tr><tr><td class=\"conflict\">7</td><td class=\"conflict\">6</td><td class=\"conflict\">8</td><td class=\"conflict\">8</td><td class=\"conflict\">6</td><td class=\"queen\">Q 7</td><td class=\"conflict\">7</td><td class=\"conflict\">7</td></tr></table>"
      ],
      "text/plain": [
       "<IPython.core.display.HTML object>"
      ]
     },
     "metadata": {},
     "output_type": "display_data"
    },
    {
     "name": "stdout",
     "output_type": "stream",
     "text": [
      "19 \t column 1 Queen, row 2 to 7\n"
     ]
    },
    {
     "data": {
      "text/html": [
       "\n",
       "    <style>\n",
       "        table { border-collapse: collapse; font-family: Arial, sans-serif; }\n",
       "        td { border: 1px solid black; height: 40px; width: 40px; text-align: center; font-size: 18px; }\n",
       "        .queen { background-color: #f4cccc; font-weight: bold; color: black; }\n",
       "        .conflict { background-color: #f9f9f9; color: gray; }\n",
       "    </style>\n",
       "    <table>\n",
       "    <tr><td class=\"conflict\">6</td><td class=\"conflict\">5</td><td class=\"conflict\">5</td><td class=\"conflict\">6</td><td class=\"conflict\">6</td><td class=\"conflict\">8</td><td class=\"conflict\">9</td><td class=\"conflict\">6</td></tr><tr><td class=\"conflict\">9</td><td class=\"conflict\">8</td><td class=\"queen\">Q 7</td><td class=\"conflict\">8</td><td class=\"conflict\">9</td><td class=\"conflict\">13</td><td class=\"queen\">Q 7</td><td class=\"queen\">Q 7</td></tr><tr><td class=\"conflict\">6</td><td class=\"conflict\">6</td><td class=\"conflict\">6</td><td class=\"conflict\">6</td><td class=\"conflict\">9</td><td class=\"conflict\">8</td><td class=\"conflict\">6</td><td class=\"conflict\">7</td></tr><tr><td class=\"conflict\">7</td><td class=\"conflict\">6</td><td class=\"conflict\">7</td><td class=\"queen\">Q 7</td><td class=\"conflict\">9</td><td class=\"conflict\">9</td><td class=\"conflict\">7</td><td class=\"conflict\">6</td></tr><tr><td class=\"conflict\">6</td><td class=\"conflict\">4</td><td class=\"conflict\">9</td><td class=\"conflict\">7</td><td class=\"conflict\">8</td><td class=\"conflict\">9</td><td class=\"conflict\">5</td><td class=\"conflict\">5</td></tr><tr><td class=\"conflict\">7</td><td class=\"queen\">Q 7</td><td class=\"conflict\">8</td><td class=\"conflict\">9</td><td class=\"queen\">Q 7</td><td class=\"conflict\">10</td><td class=\"conflict\">8</td><td class=\"conflict\">8</td></tr><tr><td class=\"queen\">Q 7</td><td class=\"conflict\">6</td><td class=\"conflict\">8</td><td class=\"conflict\">7</td><td class=\"conflict\">8</td><td class=\"conflict\">9</td><td class=\"conflict\">8</td><td class=\"conflict\">7</td></tr><tr><td class=\"conflict\">7</td><td class=\"conflict\">7</td><td class=\"conflict\">7</td><td class=\"conflict\">7</td><td class=\"conflict\">7</td><td class=\"queen\">Q 7</td><td class=\"conflict\">7</td><td class=\"conflict\">7</td></tr></table>"
      ],
      "text/plain": [
       "<IPython.core.display.HTML object>"
      ]
     },
     "metadata": {},
     "output_type": "display_data"
    },
    {
     "name": "stdout",
     "output_type": "stream",
     "text": [
      "20 \t column 3 Queen, row 2 to 8\n"
     ]
    },
    {
     "data": {
      "text/html": [
       "\n",
       "    <style>\n",
       "        table { border-collapse: collapse; font-family: Arial, sans-serif; }\n",
       "        td { border: 1px solid black; height: 40px; width: 40px; text-align: center; font-size: 18px; }\n",
       "        .queen { background-color: #f4cccc; font-weight: bold; color: black; }\n",
       "        .conflict { background-color: #f9f9f9; color: gray; }\n",
       "    </style>\n",
       "    <table>\n",
       "    <tr><td class=\"conflict\">6</td><td class=\"conflict\">4</td><td class=\"conflict\">5</td><td class=\"conflict\">5</td><td class=\"conflict\">5</td><td class=\"conflict\">7</td><td class=\"conflict\">10</td><td class=\"conflict\">7</td></tr><tr><td class=\"conflict\">8</td><td class=\"conflict\">7</td><td class=\"conflict\">7</td><td class=\"conflict\">7</td><td class=\"conflict\">7</td><td class=\"conflict\">11</td><td class=\"queen\">Q 7</td><td class=\"queen\">Q 7</td></tr><tr><td class=\"conflict\">6</td><td class=\"conflict\">5</td><td class=\"conflict\">6</td><td class=\"conflict\">5</td><td class=\"conflict\">8</td><td class=\"conflict\">7</td><td class=\"conflict\">7</td><td class=\"conflict\">9</td></tr><tr><td class=\"conflict\">6</td><td class=\"conflict\">6</td><td class=\"conflict\">7</td><td class=\"queen\">Q 7</td><td class=\"conflict\">7</td><td class=\"conflict\">8</td><td class=\"conflict\">9</td><td class=\"conflict\">7</td></tr><tr><td class=\"conflict\">6</td><td class=\"conflict\">4</td><td class=\"conflict\">9</td><td class=\"conflict\">7</td><td class=\"conflict\">7</td><td class=\"conflict\">8</td><td class=\"conflict\">6</td><td class=\"conflict\">6</td></tr><tr><td class=\"conflict\">8</td><td class=\"queen\">Q 7</td><td class=\"conflict\">8</td><td class=\"conflict\">9</td><td class=\"queen\">Q 7</td><td class=\"conflict\">9</td><td class=\"conflict\">8</td><td class=\"conflict\">9</td></tr><tr><td class=\"queen\">Q 7</td><td class=\"conflict\">7</td><td class=\"conflict\">8</td><td class=\"conflict\">8</td><td class=\"conflict\">7</td><td class=\"conflict\">8</td><td class=\"conflict\">9</td><td class=\"conflict\">7</td></tr><tr><td class=\"conflict\">8</td><td class=\"conflict\">8</td><td class=\"queen\">Q 7</td><td class=\"conflict\">8</td><td class=\"conflict\">7</td><td class=\"queen\">Q 7</td><td class=\"conflict\">9</td><td class=\"conflict\">9</td></tr></table>"
      ],
      "text/plain": [
       "<IPython.core.display.HTML object>"
      ]
     },
     "metadata": {},
     "output_type": "display_data"
    },
    {
     "name": "stdout",
     "output_type": "stream",
     "text": [
      "21 \t column 3 Queen, row 2 to 6\n"
     ]
    },
    {
     "data": {
      "text/html": [
       "\n",
       "    <style>\n",
       "        table { border-collapse: collapse; font-family: Arial, sans-serif; }\n",
       "        td { border: 1px solid black; height: 40px; width: 40px; text-align: center; font-size: 18px; }\n",
       "        .queen { background-color: #f4cccc; font-weight: bold; color: black; }\n",
       "        .conflict { background-color: #f9f9f9; color: gray; }\n",
       "    </style>\n",
       "    <table>\n",
       "    <tr><td class=\"conflict\">7</td><td class=\"conflict\">4</td><td class=\"conflict\">5</td><td class=\"conflict\">6</td><td class=\"conflict\">6</td><td class=\"conflict\">9</td><td class=\"conflict\">10</td><td class=\"conflict\">9</td></tr><tr><td class=\"conflict\">9</td><td class=\"conflict\">7</td><td class=\"conflict\">7</td><td class=\"conflict\">8</td><td class=\"conflict\">8</td><td class=\"conflict\">13</td><td class=\"queen\">Q 8</td><td class=\"queen\">Q 8</td></tr><tr><td class=\"conflict\">7</td><td class=\"conflict\">5</td><td class=\"conflict\">6</td><td class=\"conflict\">6</td><td class=\"conflict\">9</td><td class=\"conflict\">10</td><td class=\"conflict\">7</td><td class=\"conflict\">9</td></tr><tr><td class=\"conflict\">8</td><td class=\"conflict\">6</td><td class=\"conflict\">7</td><td class=\"queen\">Q 8</td><td class=\"conflict\">9</td><td class=\"conflict\">10</td><td class=\"conflict\">8</td><td class=\"conflict\">8</td></tr><tr><td class=\"conflict\">7</td><td class=\"conflict\">5</td><td class=\"conflict\">9</td><td class=\"conflict\">9</td><td class=\"conflict\">8</td><td class=\"conflict\">9</td><td class=\"conflict\">6</td><td class=\"conflict\">7</td></tr><tr><td class=\"conflict\">9</td><td class=\"queen\">Q 8</td><td class=\"queen\">Q 8</td><td class=\"conflict\">11</td><td class=\"queen\">Q 8</td><td class=\"conflict\">12</td><td class=\"conflict\">9</td><td class=\"conflict\">11</td></tr><tr><td class=\"queen\">Q 8</td><td class=\"conflict\">7</td><td class=\"conflict\">8</td><td class=\"conflict\">9</td><td class=\"conflict\">8</td><td class=\"conflict\">10</td><td class=\"conflict\">9</td><td class=\"conflict\">8</td></tr><tr><td class=\"conflict\">9</td><td class=\"conflict\">7</td><td class=\"conflict\">7</td><td class=\"conflict\">8</td><td class=\"conflict\">8</td><td class=\"queen\">Q 8</td><td class=\"conflict\">8</td><td class=\"conflict\">9</td></tr></table>"
      ],
      "text/plain": [
       "<IPython.core.display.HTML object>"
      ]
     },
     "metadata": {},
     "output_type": "display_data"
    },
    {
     "name": "stdout",
     "output_type": "stream",
     "text": [
      "22 \t column 3 Queen, row 2 to 5\n"
     ]
    },
    {
     "data": {
      "text/html": [
       "\n",
       "    <style>\n",
       "        table { border-collapse: collapse; font-family: Arial, sans-serif; }\n",
       "        td { border: 1px solid black; height: 40px; width: 40px; text-align: center; font-size: 18px; }\n",
       "        .queen { background-color: #f4cccc; font-weight: bold; color: black; }\n",
       "        .conflict { background-color: #f9f9f9; color: gray; }\n",
       "    </style>\n",
       "    <table>\n",
       "    <tr><td class=\"conflict\">7</td><td class=\"conflict\">5</td><td class=\"conflict\">5</td><td class=\"conflict\">6</td><td class=\"conflict\">8</td><td class=\"conflict\">9</td><td class=\"conflict\">13</td><td class=\"conflict\">9</td></tr><tr><td class=\"conflict\">9</td><td class=\"conflict\">8</td><td class=\"conflict\">7</td><td class=\"conflict\">8</td><td class=\"conflict\">10</td><td class=\"conflict\">14</td><td class=\"queen\">Q 9</td><td class=\"queen\">Q 9</td></tr><tr><td class=\"conflict\">8</td><td class=\"conflict\">6</td><td class=\"conflict\">6</td><td class=\"conflict\">6</td><td class=\"conflict\">12</td><td class=\"conflict\">9</td><td class=\"conflict\">9</td><td class=\"conflict\">10</td></tr><tr><td class=\"conflict\">7</td><td class=\"conflict\">8</td><td class=\"conflict\">7</td><td class=\"queen\">Q 9</td><td class=\"conflict\">10</td><td class=\"conflict\">10</td><td class=\"conflict\">10</td><td class=\"conflict\">9</td></tr><tr><td class=\"conflict\">8</td><td class=\"conflict\">6</td><td class=\"queen\">Q 9</td><td class=\"conflict\">9</td><td class=\"conflict\">11</td><td class=\"conflict\">10</td><td class=\"conflict\">9</td><td class=\"conflict\">9</td></tr><tr><td class=\"conflict\">8</td><td class=\"queen\">Q 9</td><td class=\"conflict\">8</td><td class=\"conflict\">11</td><td class=\"queen\">Q 9</td><td class=\"conflict\">11</td><td class=\"conflict\">10</td><td class=\"conflict\">11</td></tr><tr><td class=\"queen\">Q 9</td><td class=\"conflict\">7</td><td class=\"conflict\">8</td><td class=\"conflict\">8</td><td class=\"conflict\">11</td><td class=\"conflict\">10</td><td class=\"conflict\">11</td><td class=\"conflict\">9</td></tr><tr><td class=\"conflict\">8</td><td class=\"conflict\">8</td><td class=\"conflict\">7</td><td class=\"conflict\">8</td><td class=\"conflict\">9</td><td class=\"queen\">Q 9</td><td class=\"conflict\">10</td><td class=\"conflict\">10</td></tr></table>"
      ],
      "text/plain": [
       "<IPython.core.display.HTML object>"
      ]
     },
     "metadata": {},
     "output_type": "display_data"
    },
    {
     "name": "stdout",
     "output_type": "stream",
     "text": [
      "23 \t column 2 Queen, row 2 to 8\n"
     ]
    },
    {
     "data": {
      "text/html": [
       "\n",
       "    <style>\n",
       "        table { border-collapse: collapse; font-family: Arial, sans-serif; }\n",
       "        td { border: 1px solid black; height: 40px; width: 40px; text-align: center; font-size: 18px; }\n",
       "        .queen { background-color: #f4cccc; font-weight: bold; color: black; }\n",
       "        .conflict { background-color: #f9f9f9; color: gray; }\n",
       "    </style>\n",
       "    <table>\n",
       "    <tr><td class=\"conflict\">6</td><td class=\"conflict\">5</td><td class=\"conflict\">5</td><td class=\"conflict\">6</td><td class=\"conflict\">8</td><td class=\"conflict\">7</td><td class=\"conflict\">11</td><td class=\"conflict\">7</td></tr><tr><td class=\"conflict\">8</td><td class=\"conflict\">8</td><td class=\"conflict\">7</td><td class=\"conflict\">8</td><td class=\"conflict\">10</td><td class=\"conflict\">11</td><td class=\"queen\">Q 8</td><td class=\"queen\">Q 8</td></tr><tr><td class=\"conflict\">7</td><td class=\"conflict\">6</td><td class=\"conflict\">6</td><td class=\"conflict\">6</td><td class=\"conflict\">11</td><td class=\"conflict\">7</td><td class=\"conflict\">9</td><td class=\"conflict\">8</td></tr><tr><td class=\"conflict\">6</td><td class=\"conflict\">8</td><td class=\"conflict\">7</td><td class=\"queen\">Q 8</td><td class=\"conflict\">10</td><td class=\"conflict\">9</td><td class=\"conflict\">9</td><td class=\"conflict\">7</td></tr><tr><td class=\"conflict\">6</td><td class=\"conflict\">6</td><td class=\"queen\">Q 8</td><td class=\"conflict\">9</td><td class=\"conflict\">12</td><td class=\"conflict\">8</td><td class=\"conflict\">8</td><td class=\"conflict\">7</td></tr><tr><td class=\"conflict\">6</td><td class=\"conflict\">9</td><td class=\"conflict\">7</td><td class=\"conflict\">11</td><td class=\"queen\">Q 8</td><td class=\"conflict\">8</td><td class=\"conflict\">8</td><td class=\"conflict\">8</td></tr><tr><td class=\"queen\">Q 8</td><td class=\"conflict\">7</td><td class=\"conflict\">8</td><td class=\"conflict\">8</td><td class=\"conflict\">11</td><td class=\"conflict\">8</td><td class=\"conflict\">10</td><td class=\"conflict\">7</td></tr><tr><td class=\"conflict\">8</td><td class=\"queen\">Q 8</td><td class=\"conflict\">8</td><td class=\"conflict\">8</td><td class=\"conflict\">10</td><td class=\"queen\">Q 8</td><td class=\"conflict\">10</td><td class=\"conflict\">9</td></tr></table>"
      ],
      "text/plain": [
       "<IPython.core.display.HTML object>"
      ]
     },
     "metadata": {},
     "output_type": "display_data"
    },
    {
     "name": "stdout",
     "output_type": "stream",
     "text": [
      "24 \t column 1 Queen, row 2 to 3\n"
     ]
    },
    {
     "data": {
      "text/html": [
       "\n",
       "    <style>\n",
       "        table { border-collapse: collapse; font-family: Arial, sans-serif; }\n",
       "        td { border: 1px solid black; height: 40px; width: 40px; text-align: center; font-size: 18px; }\n",
       "        .queen { background-color: #f4cccc; font-weight: bold; color: black; }\n",
       "        .conflict { background-color: #f9f9f9; color: gray; }\n",
       "    </style>\n",
       "    <table>\n",
       "    <tr><td class=\"conflict\">6</td><td class=\"conflict\">5</td><td class=\"conflict\">5</td><td class=\"conflict\">6</td><td class=\"conflict\">7</td><td class=\"conflict\">5</td><td class=\"conflict\">9</td><td class=\"conflict\">6</td></tr><tr><td class=\"conflict\">8</td><td class=\"conflict\">9</td><td class=\"conflict\">6</td><td class=\"conflict\">8</td><td class=\"conflict\">9</td><td class=\"conflict\">8</td><td class=\"queen\">Q 7</td><td class=\"queen\">Q 7</td></tr><tr><td class=\"queen\">Q 7</td><td class=\"conflict\">7</td><td class=\"conflict\">6</td><td class=\"conflict\">7</td><td class=\"conflict\">10</td><td class=\"conflict\">6</td><td class=\"conflict\">9</td><td class=\"conflict\">8</td></tr><tr><td class=\"conflict\">6</td><td class=\"conflict\">9</td><td class=\"conflict\">6</td><td class=\"queen\">Q 7</td><td class=\"conflict\">9</td><td class=\"conflict\">7</td><td class=\"conflict\">8</td><td class=\"conflict\">6</td></tr><tr><td class=\"conflict\">6</td><td class=\"conflict\">6</td><td class=\"queen\">Q 7</td><td class=\"conflict\">9</td><td class=\"conflict\">11</td><td class=\"conflict\">6</td><td class=\"conflict\">7</td><td class=\"conflict\">6</td></tr><tr><td class=\"conflict\">6</td><td class=\"conflict\">8</td><td class=\"conflict\">6</td><td class=\"conflict\">12</td><td class=\"queen\">Q 7</td><td class=\"conflict\">6</td><td class=\"conflict\">7</td><td class=\"conflict\">7</td></tr><tr><td class=\"conflict\">8</td><td class=\"conflict\">6</td><td class=\"conflict\">6</td><td class=\"conflict\">7</td><td class=\"conflict\">10</td><td class=\"conflict\">5</td><td class=\"conflict\">8</td><td class=\"conflict\">5</td></tr><tr><td class=\"conflict\">8</td><td class=\"queen\">Q 7</td><td class=\"conflict\">7</td><td class=\"conflict\">8</td><td class=\"conflict\">9</td><td class=\"queen\">Q 7</td><td class=\"conflict\">9</td><td class=\"conflict\">8</td></tr></table>"
      ],
      "text/plain": [
       "<IPython.core.display.HTML object>"
      ]
     },
     "metadata": {},
     "output_type": "display_data"
    },
    {
     "name": "stdout",
     "output_type": "stream",
     "text": [
      "25 \t column 4 Queen, row 2 to 4\n"
     ]
    },
    {
     "data": {
      "text/html": [
       "\n",
       "    <style>\n",
       "        table { border-collapse: collapse; font-family: Arial, sans-serif; }\n",
       "        td { border: 1px solid black; height: 40px; width: 40px; text-align: center; font-size: 18px; }\n",
       "        .queen { background-color: #f4cccc; font-weight: bold; color: black; }\n",
       "        .conflict { background-color: #f9f9f9; color: gray; }\n",
       "    </style>\n",
       "    <table>\n",
       "    <tr><td class=\"conflict\">6</td><td class=\"conflict\">5</td><td class=\"conflict\">5</td><td class=\"conflict\">6</td><td class=\"conflict\">7</td><td class=\"conflict\">5</td><td class=\"conflict\">9</td><td class=\"conflict\">6</td></tr><tr><td class=\"conflict\">8</td><td class=\"conflict\">9</td><td class=\"conflict\">6</td><td class=\"conflict\">8</td><td class=\"conflict\">9</td><td class=\"conflict\">8</td><td class=\"queen\">Q 7</td><td class=\"queen\">Q 7</td></tr><tr><td class=\"queen\">Q 7</td><td class=\"conflict\">7</td><td class=\"conflict\">6</td><td class=\"conflict\">7</td><td class=\"conflict\">10</td><td class=\"conflict\">6</td><td class=\"conflict\">9</td><td class=\"conflict\">8</td></tr><tr><td class=\"conflict\">6</td><td class=\"conflict\">9</td><td class=\"conflict\">6</td><td class=\"queen\">Q 7</td><td class=\"conflict\">9</td><td class=\"conflict\">7</td><td class=\"conflict\">8</td><td class=\"conflict\">6</td></tr><tr><td class=\"conflict\">6</td><td class=\"conflict\">6</td><td class=\"queen\">Q 7</td><td class=\"conflict\">9</td><td class=\"conflict\">11</td><td class=\"conflict\">6</td><td class=\"conflict\">7</td><td class=\"conflict\">6</td></tr><tr><td class=\"conflict\">6</td><td class=\"conflict\">8</td><td class=\"conflict\">6</td><td class=\"conflict\">12</td><td class=\"queen\">Q 7</td><td class=\"conflict\">6</td><td class=\"conflict\">7</td><td class=\"conflict\">7</td></tr><tr><td class=\"conflict\">8</td><td class=\"conflict\">6</td><td class=\"conflict\">6</td><td class=\"conflict\">7</td><td class=\"conflict\">10</td><td class=\"conflict\">5</td><td class=\"conflict\">8</td><td class=\"conflict\">5</td></tr><tr><td class=\"conflict\">8</td><td class=\"queen\">Q 7</td><td class=\"conflict\">7</td><td class=\"conflict\">8</td><td class=\"conflict\">9</td><td class=\"queen\">Q 7</td><td class=\"conflict\">9</td><td class=\"conflict\">8</td></tr></table>"
      ],
      "text/plain": [
       "<IPython.core.display.HTML object>"
      ]
     },
     "metadata": {},
     "output_type": "display_data"
    },
    {
     "name": "stdout",
     "output_type": "stream",
     "text": [
      "26 \t column 1 Queen, row 2 to 8\n"
     ]
    },
    {
     "data": {
      "text/html": [
       "\n",
       "    <style>\n",
       "        table { border-collapse: collapse; font-family: Arial, sans-serif; }\n",
       "        td { border: 1px solid black; height: 40px; width: 40px; text-align: center; font-size: 18px; }\n",
       "        .queen { background-color: #f4cccc; font-weight: bold; color: black; }\n",
       "        .conflict { background-color: #f9f9f9; color: gray; }\n",
       "    </style>\n",
       "    <table>\n",
       "    <tr><td class=\"conflict\">6</td><td class=\"conflict\">5</td><td class=\"conflict\">6</td><td class=\"conflict\">7</td><td class=\"conflict\">8</td><td class=\"conflict\">6</td><td class=\"conflict\">9</td><td class=\"conflict\">8</td></tr><tr><td class=\"conflict\">8</td><td class=\"conflict\">8</td><td class=\"conflict\">8</td><td class=\"conflict\">9</td><td class=\"conflict\">10</td><td class=\"conflict\">9</td><td class=\"queen\">Q 8</td><td class=\"queen\">Q 8</td></tr><tr><td class=\"conflict\">7</td><td class=\"conflict\">6</td><td class=\"conflict\">7</td><td class=\"conflict\">7</td><td class=\"conflict\">10</td><td class=\"conflict\">7</td><td class=\"conflict\">8</td><td class=\"conflict\">8</td></tr><tr><td class=\"conflict\">6</td><td class=\"conflict\">8</td><td class=\"conflict\">8</td><td class=\"queen\">Q 8</td><td class=\"conflict\">11</td><td class=\"conflict\">8</td><td class=\"conflict\">8</td><td class=\"conflict\">7</td></tr><tr><td class=\"conflict\">6</td><td class=\"conflict\">6</td><td class=\"queen\">Q 8</td><td class=\"conflict\">11</td><td class=\"conflict\">12</td><td class=\"conflict\">7</td><td class=\"conflict\">7</td><td class=\"conflict\">7</td></tr><tr><td class=\"conflict\">6</td><td class=\"conflict\">8</td><td class=\"conflict\">9</td><td class=\"conflict\">12</td><td class=\"queen\">Q 8</td><td class=\"conflict\">7</td><td class=\"conflict\">7</td><td class=\"conflict\">8</td></tr><tr><td class=\"conflict\">8</td><td class=\"conflict\">7</td><td class=\"conflict\">8</td><td class=\"conflict\">8</td><td class=\"conflict\">10</td><td class=\"conflict\">6</td><td class=\"conflict\">8</td><td class=\"conflict\">6</td></tr><tr><td class=\"queen\">Q 8</td><td class=\"queen\">Q 8</td><td class=\"conflict\">10</td><td class=\"conflict\">10</td><td class=\"conflict\">11</td><td class=\"queen\">Q 8</td><td class=\"conflict\">10</td><td class=\"conflict\">10</td></tr></table>"
      ],
      "text/plain": [
       "<IPython.core.display.HTML object>"
      ]
     },
     "metadata": {},
     "output_type": "display_data"
    },
    {
     "name": "stdout",
     "output_type": "stream",
     "text": [
      "27 \t column 8 Queen, row 2 to 4\n"
     ]
    },
    {
     "data": {
      "text/html": [
       "\n",
       "    <style>\n",
       "        table { border-collapse: collapse; font-family: Arial, sans-serif; }\n",
       "        td { border: 1px solid black; height: 40px; width: 40px; text-align: center; font-size: 18px; }\n",
       "        .queen { background-color: #f4cccc; font-weight: bold; color: black; }\n",
       "        .conflict { background-color: #f9f9f9; color: gray; }\n",
       "    </style>\n",
       "    <table>\n",
       "    <tr><td class=\"conflict\">5</td><td class=\"conflict\">5</td><td class=\"conflict\">5</td><td class=\"conflict\">5</td><td class=\"conflict\">8</td><td class=\"conflict\">5</td><td class=\"conflict\">8</td><td class=\"conflict\">8</td></tr><tr><td class=\"conflict\">6</td><td class=\"conflict\">7</td><td class=\"conflict\">6</td><td class=\"conflict\">6</td><td class=\"conflict\">8</td><td class=\"conflict\">8</td><td class=\"queen\">Q 7</td><td class=\"conflict\">8</td></tr><tr><td class=\"conflict\">6</td><td class=\"conflict\">6</td><td class=\"conflict\">6</td><td class=\"conflict\">5</td><td class=\"conflict\">9</td><td class=\"conflict\">6</td><td class=\"conflict\">8</td><td class=\"conflict\">8</td></tr><tr><td class=\"conflict\">6</td><td class=\"conflict\">9</td><td class=\"conflict\">8</td><td class=\"queen\">Q 7</td><td class=\"conflict\">11</td><td class=\"conflict\">7</td><td class=\"conflict\">9</td><td class=\"queen\">Q 7</td></tr><tr><td class=\"conflict\">5</td><td class=\"conflict\">6</td><td class=\"queen\">Q 7</td><td class=\"conflict\">9</td><td class=\"conflict\">10</td><td class=\"conflict\">6</td><td class=\"conflict\">8</td><td class=\"conflict\">7</td></tr><tr><td class=\"conflict\">5</td><td class=\"conflict\">8</td><td class=\"conflict\">8</td><td class=\"conflict\">9</td><td class=\"queen\">Q 7</td><td class=\"conflict\">7</td><td class=\"conflict\">7</td><td class=\"conflict\">8</td></tr><tr><td class=\"conflict\">7</td><td class=\"conflict\">7</td><td class=\"conflict\">6</td><td class=\"conflict\">6</td><td class=\"conflict\">10</td><td class=\"conflict\">5</td><td class=\"conflict\">8</td><td class=\"conflict\">6</td></tr><tr><td class=\"queen\">Q 7</td><td class=\"queen\">Q 7</td><td class=\"conflict\">9</td><td class=\"conflict\">9</td><td class=\"conflict\">10</td><td class=\"queen\">Q 7</td><td class=\"conflict\">10</td><td class=\"conflict\">10</td></tr></table>"
      ],
      "text/plain": [
       "<IPython.core.display.HTML object>"
      ]
     },
     "metadata": {},
     "output_type": "display_data"
    },
    {
     "name": "stdout",
     "output_type": "stream",
     "text": [
      "28 \t column 1 Queen, row 4 to 5\n"
     ]
    },
    {
     "data": {
      "text/html": [
       "\n",
       "    <style>\n",
       "        table { border-collapse: collapse; font-family: Arial, sans-serif; }\n",
       "        td { border: 1px solid black; height: 40px; width: 40px; text-align: center; font-size: 18px; }\n",
       "        .queen { background-color: #f4cccc; font-weight: bold; color: black; }\n",
       "        .conflict { background-color: #f9f9f9; color: gray; }\n",
       "    </style>\n",
       "    <table>\n",
       "    <tr><td class=\"conflict\">5</td><td class=\"conflict\">4</td><td class=\"conflict\">2</td><td class=\"conflict\">3</td><td class=\"conflict\">7</td><td class=\"conflict\">4</td><td class=\"conflict\">7</td><td class=\"conflict\">5</td></tr><tr><td class=\"conflict\">6</td><td class=\"conflict\">6</td><td class=\"conflict\">3</td><td class=\"conflict\">5</td><td class=\"conflict\">6</td><td class=\"conflict\">7</td><td class=\"queen\">Q 5</td><td class=\"conflict\">6</td></tr><tr><td class=\"conflict\">6</td><td class=\"conflict\">5</td><td class=\"conflict\">4</td><td class=\"conflict\">3</td><td class=\"conflict\">7</td><td class=\"conflict\">4</td><td class=\"conflict\">7</td><td class=\"conflict\">6</td></tr><tr><td class=\"conflict\">6</td><td class=\"conflict\">9</td><td class=\"conflict\">5</td><td class=\"queen\">Q 5</td><td class=\"conflict\">8</td><td class=\"conflict\">6</td><td class=\"conflict\">8</td><td class=\"queen\">Q 5</td></tr><tr><td class=\"queen\">Q 5</td><td class=\"conflict\">6</td><td class=\"queen\">Q 5</td><td class=\"conflict\">7</td><td class=\"conflict\">9</td><td class=\"conflict\">6</td><td class=\"conflict\">8</td><td class=\"conflict\">6</td></tr><tr><td class=\"conflict\">5</td><td class=\"conflict\">8</td><td class=\"conflict\">4</td><td class=\"conflict\">7</td><td class=\"queen\">Q 5</td><td class=\"conflict\">6</td><td class=\"conflict\">6</td><td class=\"conflict\">6</td></tr><tr><td class=\"conflict\">7</td><td class=\"conflict\">5</td><td class=\"conflict\">4</td><td class=\"conflict\">4</td><td class=\"conflict\">8</td><td class=\"conflict\">4</td><td class=\"conflict\">7</td><td class=\"conflict\">4</td></tr><tr><td class=\"conflict\">7</td><td class=\"queen\">Q 5</td><td class=\"conflict\">5</td><td class=\"conflict\">7</td><td class=\"conflict\">7</td><td class=\"queen\">Q 5</td><td class=\"conflict\">8</td><td class=\"conflict\">7</td></tr></table>"
      ],
      "text/plain": [
       "<IPython.core.display.HTML object>"
      ]
     },
     "metadata": {},
     "output_type": "display_data"
    },
    {
     "name": "stdout",
     "output_type": "stream",
     "text": [
      "29 \t column 3 Queen, row 4 to 2\n"
     ]
    },
    {
     "data": {
      "text/html": [
       "\n",
       "    <style>\n",
       "        table { border-collapse: collapse; font-family: Arial, sans-serif; }\n",
       "        td { border: 1px solid black; height: 40px; width: 40px; text-align: center; font-size: 18px; }\n",
       "        .queen { background-color: #f4cccc; font-weight: bold; color: black; }\n",
       "        .conflict { background-color: #f9f9f9; color: gray; }\n",
       "    </style>\n",
       "    <table>\n",
       "    <tr><td class=\"conflict\">4</td><td class=\"conflict\">3</td><td class=\"conflict\">2</td><td class=\"conflict\">3</td><td class=\"conflict\">5</td><td class=\"conflict\">3</td><td class=\"conflict\">3</td><td class=\"conflict\">3</td></tr><tr><td class=\"conflict\">6</td><td class=\"conflict\">5</td><td class=\"queen\">Q 3</td><td class=\"conflict\">5</td><td class=\"conflict\">5</td><td class=\"conflict\">6</td><td class=\"queen\">Q 3</td><td class=\"conflict\">5</td></tr><tr><td class=\"conflict\">4</td><td class=\"conflict\">4</td><td class=\"conflict\">4</td><td class=\"conflict\">3</td><td class=\"conflict\">4</td><td class=\"conflict\">3</td><td class=\"conflict\">4</td><td class=\"conflict\">4</td></tr><tr><td class=\"conflict\">6</td><td class=\"conflict\">6</td><td class=\"conflict\">5</td><td class=\"queen\">Q 3</td><td class=\"conflict\">7</td><td class=\"conflict\">5</td><td class=\"conflict\">5</td><td class=\"queen\">Q 3</td></tr><tr><td class=\"queen\">Q 3</td><td class=\"conflict\">3</td><td class=\"conflict\">5</td><td class=\"conflict\">5</td><td class=\"conflict\">6</td><td class=\"conflict\">5</td><td class=\"conflict\">4</td><td class=\"conflict\">3</td></tr><tr><td class=\"conflict\">4</td><td class=\"conflict\">5</td><td class=\"conflict\">4</td><td class=\"conflict\">5</td><td class=\"queen\">Q 3</td><td class=\"conflict\">5</td><td class=\"conflict\">4</td><td class=\"conflict\">4</td></tr><tr><td class=\"conflict\">5</td><td class=\"conflict\">3</td><td class=\"conflict\">4</td><td class=\"conflict\">3</td><td class=\"conflict\">5</td><td class=\"conflict\">3</td><td class=\"conflict\">4</td><td class=\"conflict\">3</td></tr><tr><td class=\"conflict\">6</td><td class=\"queen\">Q 3</td><td class=\"conflict\">5</td><td class=\"conflict\">6</td><td class=\"conflict\">5</td><td class=\"queen\">Q 3</td><td class=\"conflict\">5</td><td class=\"conflict\">5</td></tr></table>"
      ],
      "text/plain": [
       "<IPython.core.display.HTML object>"
      ]
     },
     "metadata": {},
     "output_type": "display_data"
    },
    {
     "name": "stdout",
     "output_type": "stream",
     "text": [
      "30 \t column 6 Queen, row 4 to 3\n"
     ]
    },
    {
     "data": {
      "text/html": [
       "\n",
       "    <style>\n",
       "        table { border-collapse: collapse; font-family: Arial, sans-serif; }\n",
       "        td { border: 1px solid black; height: 40px; width: 40px; text-align: center; font-size: 18px; }\n",
       "        .queen { background-color: #f4cccc; font-weight: bold; color: black; }\n",
       "        .conflict { background-color: #f9f9f9; color: gray; }\n",
       "    </style>\n",
       "    <table>\n",
       "    <tr><td class=\"conflict\">4</td><td class=\"conflict\">4</td><td class=\"conflict\">2</td><td class=\"conflict\">4</td><td class=\"conflict\">5</td><td class=\"conflict\">3</td><td class=\"conflict\">2</td><td class=\"conflict\">4</td></tr><tr><td class=\"conflict\">6</td><td class=\"conflict\">6</td><td class=\"queen\">Q 3</td><td class=\"conflict\">5</td><td class=\"conflict\">6</td><td class=\"conflict\">6</td><td class=\"queen\">Q 3</td><td class=\"conflict\">5</td></tr><tr><td class=\"conflict\">4</td><td class=\"conflict\">6</td><td class=\"conflict\">5</td><td class=\"conflict\">4</td><td class=\"conflict\">5</td><td class=\"queen\">Q 3</td><td class=\"conflict\">4</td><td class=\"conflict\">5</td></tr><tr><td class=\"conflict\">6</td><td class=\"conflict\">6</td><td class=\"conflict\">5</td><td class=\"queen\">Q 3</td><td class=\"conflict\">8</td><td class=\"conflict\">5</td><td class=\"conflict\">5</td><td class=\"queen\">Q 3</td></tr><tr><td class=\"queen\">Q 3</td><td class=\"conflict\">4</td><td class=\"conflict\">4</td><td class=\"conflict\">6</td><td class=\"conflict\">6</td><td class=\"conflict\">5</td><td class=\"conflict\">3</td><td class=\"conflict\">4</td></tr><tr><td class=\"conflict\">4</td><td class=\"conflict\">6</td><td class=\"conflict\">5</td><td class=\"conflict\">4</td><td class=\"queen\">Q 3</td><td class=\"conflict\">5</td><td class=\"conflict\">3</td><td class=\"conflict\">3</td></tr><tr><td class=\"conflict\">5</td><td class=\"conflict\">5</td><td class=\"conflict\">4</td><td class=\"conflict\">3</td><td class=\"conflict\">4</td><td class=\"conflict\">3</td><td class=\"conflict\">2</td><td class=\"conflict\">3</td></tr><tr><td class=\"conflict\">6</td><td class=\"queen\">Q 3</td><td class=\"conflict\">4</td><td class=\"conflict\">5</td><td class=\"conflict\">4</td><td class=\"conflict\">3</td><td class=\"conflict\">3</td><td class=\"conflict\">4</td></tr></table>"
      ],
      "text/plain": [
       "<IPython.core.display.HTML object>"
      ]
     },
     "metadata": {},
     "output_type": "display_data"
    },
    {
     "name": "stdout",
     "output_type": "stream",
     "text": [
      "31 \t column 8 Queen, row 4 to 2\n"
     ]
    },
    {
     "data": {
      "text/html": [
       "\n",
       "    <style>\n",
       "        table { border-collapse: collapse; font-family: Arial, sans-serif; }\n",
       "        td { border: 1px solid black; height: 40px; width: 40px; text-align: center; font-size: 18px; }\n",
       "        .queen { background-color: #f4cccc; font-weight: bold; color: black; }\n",
       "        .conflict { background-color: #f9f9f9; color: gray; }\n",
       "    </style>\n",
       "    <table>\n",
       "    <tr><td class=\"conflict\">6</td><td class=\"conflict\">5</td><td class=\"conflict\">3</td><td class=\"conflict\">7</td><td class=\"conflict\">6</td><td class=\"conflict\">5</td><td class=\"conflict\">4</td><td class=\"conflict\">4</td></tr><tr><td class=\"conflict\">9</td><td class=\"conflict\">8</td><td class=\"queen\">Q 5</td><td class=\"conflict\">9</td><td class=\"conflict\">9</td><td class=\"conflict\">8</td><td class=\"queen\">Q 5</td><td class=\"queen\">Q 5</td></tr><tr><td class=\"conflict\">6</td><td class=\"conflict\">7</td><td class=\"conflict\">6</td><td class=\"conflict\">7</td><td class=\"conflict\">7</td><td class=\"queen\">Q 5</td><td class=\"conflict\">5</td><td class=\"conflict\">5</td></tr><tr><td class=\"conflict\">7</td><td class=\"conflict\">6</td><td class=\"conflict\">5</td><td class=\"queen\">Q 5</td><td class=\"conflict\">9</td><td class=\"conflict\">7</td><td class=\"conflict\">5</td><td class=\"conflict\">3</td></tr><tr><td class=\"queen\">Q 5</td><td class=\"conflict\">5</td><td class=\"conflict\">5</td><td class=\"conflict\">9</td><td class=\"conflict\">9</td><td class=\"conflict\">7</td><td class=\"conflict\">3</td><td class=\"conflict\">4</td></tr><tr><td class=\"conflict\">6</td><td class=\"conflict\">7</td><td class=\"conflict\">6</td><td class=\"conflict\">8</td><td class=\"queen\">Q 5</td><td class=\"conflict\">6</td><td class=\"conflict\">4</td><td class=\"conflict\">3</td></tr><tr><td class=\"conflict\">7</td><td class=\"conflict\">6</td><td class=\"conflict\">6</td><td class=\"conflict\">6</td><td class=\"conflict\">5</td><td class=\"conflict\">5</td><td class=\"conflict\">3</td><td class=\"conflict\">3</td></tr><tr><td class=\"conflict\">8</td><td class=\"queen\">Q 5</td><td class=\"conflict\">5</td><td class=\"conflict\">7</td><td class=\"conflict\">6</td><td class=\"conflict\">5</td><td class=\"conflict\">4</td><td class=\"conflict\">4</td></tr></table>"
      ],
      "text/plain": [
       "<IPython.core.display.HTML object>"
      ]
     },
     "metadata": {},
     "output_type": "display_data"
    },
    {
     "name": "stdout",
     "output_type": "stream",
     "text": [
      "32 \t column 3 Queen, row 2 to 8\n"
     ]
    },
    {
     "data": {
      "text/html": [
       "\n",
       "    <style>\n",
       "        table { border-collapse: collapse; font-family: Arial, sans-serif; }\n",
       "        td { border: 1px solid black; height: 40px; width: 40px; text-align: center; font-size: 18px; }\n",
       "        .queen { background-color: #f4cccc; font-weight: bold; color: black; }\n",
       "        .conflict { background-color: #f9f9f9; color: gray; }\n",
       "    </style>\n",
       "    <table>\n",
       "    <tr><td class=\"conflict\">6</td><td class=\"conflict\">3</td><td class=\"conflict\">3</td><td class=\"conflict\">6</td><td class=\"conflict\">5</td><td class=\"conflict\">5</td><td class=\"conflict\">5</td><td class=\"conflict\">5</td></tr><tr><td class=\"conflict\">8</td><td class=\"conflict\">6</td><td class=\"conflict\">5</td><td class=\"conflict\">8</td><td class=\"conflict\">7</td><td class=\"conflict\">7</td><td class=\"queen\">Q 5</td><td class=\"queen\">Q 5</td></tr><tr><td class=\"conflict\">6</td><td class=\"conflict\">5</td><td class=\"conflict\">6</td><td class=\"conflict\">6</td><td class=\"conflict\">6</td><td class=\"queen\">Q 5</td><td class=\"conflict\">6</td><td class=\"conflict\">7</td></tr><tr><td class=\"conflict\">6</td><td class=\"conflict\">5</td><td class=\"conflict\">5</td><td class=\"queen\">Q 5</td><td class=\"conflict\">7</td><td class=\"conflict\">7</td><td class=\"conflict\">7</td><td class=\"conflict\">4</td></tr><tr><td class=\"queen\">Q 5</td><td class=\"conflict\">4</td><td class=\"conflict\">5</td><td class=\"conflict\">9</td><td class=\"conflict\">8</td><td class=\"conflict\">7</td><td class=\"conflict\">4</td><td class=\"conflict\">5</td></tr><tr><td class=\"conflict\">7</td><td class=\"conflict\">6</td><td class=\"conflict\">6</td><td class=\"conflict\">8</td><td class=\"queen\">Q 5</td><td class=\"conflict\">6</td><td class=\"conflict\">4</td><td class=\"conflict\">4</td></tr><tr><td class=\"conflict\">7</td><td class=\"conflict\">6</td><td class=\"conflict\">6</td><td class=\"conflict\">7</td><td class=\"conflict\">4</td><td class=\"conflict\">5</td><td class=\"conflict\">4</td><td class=\"conflict\">3</td></tr><tr><td class=\"conflict\">9</td><td class=\"queen\">Q 5</td><td class=\"queen\">Q 5</td><td class=\"conflict\">8</td><td class=\"conflict\">6</td><td class=\"conflict\">6</td><td class=\"conflict\">6</td><td class=\"conflict\">6</td></tr></table>"
      ],
      "text/plain": [
       "<IPython.core.display.HTML object>"
      ]
     },
     "metadata": {},
     "output_type": "display_data"
    },
    {
     "name": "stdout",
     "output_type": "stream",
     "text": [
      "33 \t column 2 Queen, row 2 to 6\n"
     ]
    },
    {
     "data": {
      "text/html": [
       "\n",
       "    <style>\n",
       "        table { border-collapse: collapse; font-family: Arial, sans-serif; }\n",
       "        td { border: 1px solid black; height: 40px; width: 40px; text-align: center; font-size: 18px; }\n",
       "        .queen { background-color: #f4cccc; font-weight: bold; color: black; }\n",
       "        .conflict { background-color: #f9f9f9; color: gray; }\n",
       "    </style>\n",
       "    <table>\n",
       "    <tr><td class=\"conflict\">6</td><td class=\"conflict\">3</td><td class=\"conflict\">5</td><td class=\"conflict\">6</td><td class=\"conflict\">5</td><td class=\"conflict\">6</td><td class=\"conflict\">7</td><td class=\"conflict\">7</td></tr><tr><td class=\"conflict\">8</td><td class=\"conflict\">6</td><td class=\"conflict\">7</td><td class=\"conflict\">8</td><td class=\"conflict\">7</td><td class=\"conflict\">9</td><td class=\"queen\">Q 6</td><td class=\"queen\">Q 6</td></tr><tr><td class=\"conflict\">6</td><td class=\"conflict\">5</td><td class=\"conflict\">8</td><td class=\"conflict\">6</td><td class=\"conflict\">7</td><td class=\"queen\">Q 6</td><td class=\"conflict\">6</td><td class=\"conflict\">9</td></tr><tr><td class=\"conflict\">6</td><td class=\"conflict\">5</td><td class=\"conflict\">7</td><td class=\"queen\">Q 6</td><td class=\"conflict\">7</td><td class=\"conflict\">7</td><td class=\"conflict\">8</td><td class=\"conflict\">6</td></tr><tr><td class=\"queen\">Q 6</td><td class=\"conflict\">4</td><td class=\"conflict\">8</td><td class=\"conflict\">9</td><td class=\"conflict\">7</td><td class=\"conflict\">8</td><td class=\"conflict\">5</td><td class=\"conflict\">7</td></tr><tr><td class=\"conflict\">8</td><td class=\"queen\">Q 6</td><td class=\"conflict\">9</td><td class=\"conflict\">8</td><td class=\"queen\">Q 6</td><td class=\"conflict\">8</td><td class=\"conflict\">6</td><td class=\"conflict\">7</td></tr><tr><td class=\"conflict\">7</td><td class=\"conflict\">6</td><td class=\"conflict\">8</td><td class=\"conflict\">7</td><td class=\"conflict\">4</td><td class=\"conflict\">6</td><td class=\"conflict\">5</td><td class=\"conflict\">5</td></tr><tr><td class=\"conflict\">8</td><td class=\"conflict\">5</td><td class=\"queen\">Q 6</td><td class=\"conflict\">8</td><td class=\"conflict\">5</td><td class=\"conflict\">6</td><td class=\"conflict\">6</td><td class=\"conflict\">7</td></tr></table>"
      ],
      "text/plain": [
       "<IPython.core.display.HTML object>"
      ]
     },
     "metadata": {},
     "output_type": "display_data"
    },
    {
     "name": "stdout",
     "output_type": "stream",
     "text": [
      "34 \t column 1 Queen, row 2 to 5\n"
     ]
    },
    {
     "data": {
      "text/html": [
       "\n",
       "    <style>\n",
       "        table { border-collapse: collapse; font-family: Arial, sans-serif; }\n",
       "        td { border: 1px solid black; height: 40px; width: 40px; text-align: center; font-size: 18px; }\n",
       "        .queen { background-color: #f4cccc; font-weight: bold; color: black; }\n",
       "        .conflict { background-color: #f9f9f9; color: gray; }\n",
       "    </style>\n",
       "    <table>\n",
       "    <tr><td class=\"conflict\">6</td><td class=\"conflict\">3</td><td class=\"conflict\">5</td><td class=\"conflict\">6</td><td class=\"conflict\">5</td><td class=\"conflict\">6</td><td class=\"conflict\">7</td><td class=\"conflict\">7</td></tr><tr><td class=\"conflict\">8</td><td class=\"conflict\">6</td><td class=\"conflict\">7</td><td class=\"conflict\">8</td><td class=\"conflict\">7</td><td class=\"conflict\">9</td><td class=\"queen\">Q 6</td><td class=\"queen\">Q 6</td></tr><tr><td class=\"conflict\">6</td><td class=\"conflict\">5</td><td class=\"conflict\">8</td><td class=\"conflict\">6</td><td class=\"conflict\">7</td><td class=\"queen\">Q 6</td><td class=\"conflict\">6</td><td class=\"conflict\">9</td></tr><tr><td class=\"conflict\">6</td><td class=\"conflict\">5</td><td class=\"conflict\">7</td><td class=\"queen\">Q 6</td><td class=\"conflict\">7</td><td class=\"conflict\">7</td><td class=\"conflict\">8</td><td class=\"conflict\">6</td></tr><tr><td class=\"queen\">Q 6</td><td class=\"conflict\">4</td><td class=\"conflict\">8</td><td class=\"conflict\">9</td><td class=\"conflict\">7</td><td class=\"conflict\">8</td><td class=\"conflict\">5</td><td class=\"conflict\">7</td></tr><tr><td class=\"conflict\">8</td><td class=\"queen\">Q 6</td><td class=\"conflict\">9</td><td class=\"conflict\">8</td><td class=\"queen\">Q 6</td><td class=\"conflict\">8</td><td class=\"conflict\">6</td><td class=\"conflict\">7</td></tr><tr><td class=\"conflict\">7</td><td class=\"conflict\">6</td><td class=\"conflict\">8</td><td class=\"conflict\">7</td><td class=\"conflict\">4</td><td class=\"conflict\">6</td><td class=\"conflict\">5</td><td class=\"conflict\">5</td></tr><tr><td class=\"conflict\">8</td><td class=\"conflict\">5</td><td class=\"queen\">Q 6</td><td class=\"conflict\">8</td><td class=\"conflict\">5</td><td class=\"conflict\">6</td><td class=\"conflict\">6</td><td class=\"conflict\">7</td></tr></table>"
      ],
      "text/plain": [
       "<IPython.core.display.HTML object>"
      ]
     },
     "metadata": {},
     "output_type": "display_data"
    },
    {
     "name": "stdout",
     "output_type": "stream",
     "text": [
      "35 \t column 6 Queen, row 2 to 3\n"
     ]
    },
    {
     "data": {
      "text/html": [
       "\n",
       "    <style>\n",
       "        table { border-collapse: collapse; font-family: Arial, sans-serif; }\n",
       "        td { border: 1px solid black; height: 40px; width: 40px; text-align: center; font-size: 18px; }\n",
       "        .queen { background-color: #f4cccc; font-weight: bold; color: black; }\n",
       "        .conflict { background-color: #f9f9f9; color: gray; }\n",
       "    </style>\n",
       "    <table>\n",
       "    <tr><td class=\"conflict\">6</td><td class=\"conflict\">3</td><td class=\"conflict\">5</td><td class=\"conflict\">6</td><td class=\"conflict\">5</td><td class=\"conflict\">6</td><td class=\"conflict\">7</td><td class=\"conflict\">7</td></tr><tr><td class=\"conflict\">8</td><td class=\"conflict\">6</td><td class=\"conflict\">7</td><td class=\"conflict\">8</td><td class=\"conflict\">7</td><td class=\"conflict\">9</td><td class=\"queen\">Q 6</td><td class=\"queen\">Q 6</td></tr><tr><td class=\"conflict\">6</td><td class=\"conflict\">5</td><td class=\"conflict\">8</td><td class=\"conflict\">6</td><td class=\"conflict\">7</td><td class=\"queen\">Q 6</td><td class=\"conflict\">6</td><td class=\"conflict\">9</td></tr><tr><td class=\"conflict\">6</td><td class=\"conflict\">5</td><td class=\"conflict\">7</td><td class=\"queen\">Q 6</td><td class=\"conflict\">7</td><td class=\"conflict\">7</td><td class=\"conflict\">8</td><td class=\"conflict\">6</td></tr><tr><td class=\"queen\">Q 6</td><td class=\"conflict\">4</td><td class=\"conflict\">8</td><td class=\"conflict\">9</td><td class=\"conflict\">7</td><td class=\"conflict\">8</td><td class=\"conflict\">5</td><td class=\"conflict\">7</td></tr><tr><td class=\"conflict\">8</td><td class=\"queen\">Q 6</td><td class=\"conflict\">9</td><td class=\"conflict\">8</td><td class=\"queen\">Q 6</td><td class=\"conflict\">8</td><td class=\"conflict\">6</td><td class=\"conflict\">7</td></tr><tr><td class=\"conflict\">7</td><td class=\"conflict\">6</td><td class=\"conflict\">8</td><td class=\"conflict\">7</td><td class=\"conflict\">4</td><td class=\"conflict\">6</td><td class=\"conflict\">5</td><td class=\"conflict\">5</td></tr><tr><td class=\"conflict\">8</td><td class=\"conflict\">5</td><td class=\"queen\">Q 6</td><td class=\"conflict\">8</td><td class=\"conflict\">5</td><td class=\"conflict\">6</td><td class=\"conflict\">6</td><td class=\"conflict\">7</td></tr></table>"
      ],
      "text/plain": [
       "<IPython.core.display.HTML object>"
      ]
     },
     "metadata": {},
     "output_type": "display_data"
    },
    {
     "name": "stdout",
     "output_type": "stream",
     "text": [
      "36 \t column 7 Queen, row 2 to 3\n"
     ]
    },
    {
     "data": {
      "text/html": [
       "\n",
       "    <style>\n",
       "        table { border-collapse: collapse; font-family: Arial, sans-serif; }\n",
       "        td { border: 1px solid black; height: 40px; width: 40px; text-align: center; font-size: 18px; }\n",
       "        .queen { background-color: #f4cccc; font-weight: bold; color: black; }\n",
       "        .conflict { background-color: #f9f9f9; color: gray; }\n",
       "    </style>\n",
       "    <table>\n",
       "    <tr><td class=\"conflict\">6</td><td class=\"conflict\">3</td><td class=\"conflict\">5</td><td class=\"conflict\">6</td><td class=\"conflict\">6</td><td class=\"conflict\">5</td><td class=\"conflict\">7</td><td class=\"conflict\">6</td></tr><tr><td class=\"conflict\">7</td><td class=\"conflict\">5</td><td class=\"conflict\">6</td><td class=\"conflict\">7</td><td class=\"conflict\">6</td><td class=\"conflict\">9</td><td class=\"conflict\">6</td><td class=\"queen\">Q 6</td></tr><tr><td class=\"conflict\">7</td><td class=\"conflict\">6</td><td class=\"conflict\">9</td><td class=\"conflict\">7</td><td class=\"conflict\">8</td><td class=\"queen\">Q 6</td><td class=\"queen\">Q 6</td><td class=\"conflict\">9</td></tr><tr><td class=\"conflict\">6</td><td class=\"conflict\">5</td><td class=\"conflict\">7</td><td class=\"queen\">Q 6</td><td class=\"conflict\">6</td><td class=\"conflict\">8</td><td class=\"conflict\">8</td><td class=\"conflict\">7</td></tr><tr><td class=\"queen\">Q 6</td><td class=\"conflict\">4</td><td class=\"conflict\">8</td><td class=\"conflict\">8</td><td class=\"conflict\">8</td><td class=\"conflict\">8</td><td class=\"conflict\">5</td><td class=\"conflict\">7</td></tr><tr><td class=\"conflict\">8</td><td class=\"queen\">Q 6</td><td class=\"conflict\">8</td><td class=\"conflict\">9</td><td class=\"queen\">Q 6</td><td class=\"conflict\">8</td><td class=\"conflict\">6</td><td class=\"conflict\">7</td></tr><tr><td class=\"conflict\">7</td><td class=\"conflict\">5</td><td class=\"conflict\">9</td><td class=\"conflict\">7</td><td class=\"conflict\">4</td><td class=\"conflict\">6</td><td class=\"conflict\">5</td><td class=\"conflict\">5</td></tr><tr><td class=\"conflict\">7</td><td class=\"conflict\">6</td><td class=\"queen\">Q 6</td><td class=\"conflict\">8</td><td class=\"conflict\">5</td><td class=\"conflict\">6</td><td class=\"conflict\">6</td><td class=\"conflict\">7</td></tr></table>"
      ],
      "text/plain": [
       "<IPython.core.display.HTML object>"
      ]
     },
     "metadata": {},
     "output_type": "display_data"
    },
    {
     "name": "stdout",
     "output_type": "stream",
     "text": [
      "37 \t column 8 Queen, row 2 to 7\n"
     ]
    },
    {
     "data": {
      "text/html": [
       "\n",
       "    <style>\n",
       "        table { border-collapse: collapse; font-family: Arial, sans-serif; }\n",
       "        td { border: 1px solid black; height: 40px; width: 40px; text-align: center; font-size: 18px; }\n",
       "        .queen { background-color: #f4cccc; font-weight: bold; color: black; }\n",
       "        .conflict { background-color: #f9f9f9; color: gray; }\n",
       "    </style>\n",
       "    <table>\n",
       "    <tr><td class=\"conflict\">5</td><td class=\"conflict\">3</td><td class=\"conflict\">4</td><td class=\"conflict\">5</td><td class=\"conflict\">5</td><td class=\"conflict\">4</td><td class=\"conflict\">6</td><td class=\"conflict\">6</td></tr><tr><td class=\"conflict\">5</td><td class=\"conflict\">3</td><td class=\"conflict\">5</td><td class=\"conflict\">5</td><td class=\"conflict\">4</td><td class=\"conflict\">7</td><td class=\"conflict\">5</td><td class=\"conflict\">6</td></tr><tr><td class=\"conflict\">6</td><td class=\"conflict\">5</td><td class=\"conflict\">8</td><td class=\"conflict\">7</td><td class=\"conflict\">7</td><td class=\"queen\">Q 5</td><td class=\"queen\">Q 5</td><td class=\"conflict\">9</td></tr><tr><td class=\"conflict\">5</td><td class=\"conflict\">4</td><td class=\"conflict\">6</td><td class=\"queen\">Q 5</td><td class=\"conflict\">6</td><td class=\"conflict\">6</td><td class=\"conflict\">8</td><td class=\"conflict\">7</td></tr><tr><td class=\"queen\">Q 5</td><td class=\"conflict\">3</td><td class=\"conflict\">7</td><td class=\"conflict\">7</td><td class=\"conflict\">6</td><td class=\"conflict\">8</td><td class=\"conflict\">5</td><td class=\"conflict\">7</td></tr><tr><td class=\"conflict\">7</td><td class=\"queen\">Q 5</td><td class=\"conflict\">7</td><td class=\"conflict\">7</td><td class=\"queen\">Q 5</td><td class=\"conflict\">7</td><td class=\"conflict\">7</td><td class=\"conflict\">7</td></tr><tr><td class=\"conflict\">7</td><td class=\"conflict\">5</td><td class=\"conflict\">8</td><td class=\"conflict\">7</td><td class=\"conflict\">4</td><td class=\"conflict\">6</td><td class=\"conflict\">6</td><td class=\"queen\">Q 5</td></tr><tr><td class=\"conflict\">6</td><td class=\"conflict\">4</td><td class=\"queen\">Q 5</td><td class=\"conflict\">7</td><td class=\"conflict\">4</td><td class=\"conflict\">5</td><td class=\"conflict\">7</td><td class=\"conflict\">7</td></tr></table>"
      ],
      "text/plain": [
       "<IPython.core.display.HTML object>"
      ]
     },
     "metadata": {},
     "output_type": "display_data"
    },
    {
     "name": "stdout",
     "output_type": "stream",
     "text": [
      "38 \t column 7 Queen, row 7 to 3\n"
     ]
    },
    {
     "data": {
      "text/html": [
       "\n",
       "    <style>\n",
       "        table { border-collapse: collapse; font-family: Arial, sans-serif; }\n",
       "        td { border: 1px solid black; height: 40px; width: 40px; text-align: center; font-size: 18px; }\n",
       "        .queen { background-color: #f4cccc; font-weight: bold; color: black; }\n",
       "        .conflict { background-color: #f9f9f9; color: gray; }\n",
       "    </style>\n",
       "    <table>\n",
       "    <tr><td class=\"conflict\">5</td><td class=\"conflict\">3</td><td class=\"conflict\">4</td><td class=\"conflict\">5</td><td class=\"conflict\">5</td><td class=\"conflict\">4</td><td class=\"conflict\">6</td><td class=\"conflict\">6</td></tr><tr><td class=\"conflict\">5</td><td class=\"conflict\">3</td><td class=\"conflict\">5</td><td class=\"conflict\">5</td><td class=\"conflict\">4</td><td class=\"conflict\">7</td><td class=\"conflict\">5</td><td class=\"conflict\">6</td></tr><tr><td class=\"conflict\">6</td><td class=\"conflict\">5</td><td class=\"conflict\">8</td><td class=\"conflict\">7</td><td class=\"conflict\">7</td><td class=\"queen\">Q 5</td><td class=\"queen\">Q 5</td><td class=\"conflict\">9</td></tr><tr><td class=\"conflict\">5</td><td class=\"conflict\">4</td><td class=\"conflict\">6</td><td class=\"queen\">Q 5</td><td class=\"conflict\">6</td><td class=\"conflict\">6</td><td class=\"conflict\">8</td><td class=\"conflict\">7</td></tr><tr><td class=\"queen\">Q 5</td><td class=\"conflict\">3</td><td class=\"conflict\">7</td><td class=\"conflict\">7</td><td class=\"conflict\">6</td><td class=\"conflict\">8</td><td class=\"conflict\">5</td><td class=\"conflict\">7</td></tr><tr><td class=\"conflict\">7</td><td class=\"queen\">Q 5</td><td class=\"conflict\">7</td><td class=\"conflict\">7</td><td class=\"queen\">Q 5</td><td class=\"conflict\">7</td><td class=\"conflict\">7</td><td class=\"conflict\">7</td></tr><tr><td class=\"conflict\">7</td><td class=\"conflict\">5</td><td class=\"conflict\">8</td><td class=\"conflict\">7</td><td class=\"conflict\">4</td><td class=\"conflict\">6</td><td class=\"conflict\">6</td><td class=\"queen\">Q 5</td></tr><tr><td class=\"conflict\">6</td><td class=\"conflict\">4</td><td class=\"queen\">Q 5</td><td class=\"conflict\">7</td><td class=\"conflict\">4</td><td class=\"conflict\">5</td><td class=\"conflict\">7</td><td class=\"conflict\">7</td></tr></table>"
      ],
      "text/plain": [
       "<IPython.core.display.HTML object>"
      ]
     },
     "metadata": {},
     "output_type": "display_data"
    },
    {
     "name": "stdout",
     "output_type": "stream",
     "text": [
      "39 \t column 7 Queen, row 7 to 5\n"
     ]
    },
    {
     "data": {
      "text/html": [
       "\n",
       "    <style>\n",
       "        table { border-collapse: collapse; font-family: Arial, sans-serif; }\n",
       "        td { border: 1px solid black; height: 40px; width: 40px; text-align: center; font-size: 18px; }\n",
       "        .queen { background-color: #f4cccc; font-weight: bold; color: black; }\n",
       "        .conflict { background-color: #f9f9f9; color: gray; }\n",
       "    </style>\n",
       "    <table>\n",
       "    <tr><td class=\"conflict\">4</td><td class=\"conflict\">3</td><td class=\"conflict\">5</td><td class=\"conflict\">5</td><td class=\"conflict\">4</td><td class=\"conflict\">5</td><td class=\"conflict\">6</td><td class=\"conflict\">6</td></tr><tr><td class=\"conflict\">4</td><td class=\"conflict\">3</td><td class=\"conflict\">5</td><td class=\"conflict\">6</td><td class=\"conflict\">4</td><td class=\"conflict\">7</td><td class=\"conflict\">5</td><td class=\"conflict\">5</td></tr><tr><td class=\"conflict\">4</td><td class=\"conflict\">4</td><td class=\"conflict\">7</td><td class=\"conflict\">6</td><td class=\"conflict\">7</td><td class=\"queen\">Q 5</td><td class=\"conflict\">5</td><td class=\"conflict\">8</td></tr><tr><td class=\"conflict\">4</td><td class=\"conflict\">4</td><td class=\"conflict\">6</td><td class=\"queen\">Q 5</td><td class=\"conflict\">6</td><td class=\"conflict\">7</td><td class=\"conflict\">8</td><td class=\"conflict\">7</td></tr><tr><td class=\"queen\">Q 5</td><td class=\"conflict\">4</td><td class=\"conflict\">8</td><td class=\"conflict\">8</td><td class=\"conflict\">6</td><td class=\"conflict\">10</td><td class=\"queen\">Q 5</td><td class=\"conflict\">8</td></tr><tr><td class=\"conflict\">6</td><td class=\"queen\">Q 5</td><td class=\"conflict\">7</td><td class=\"conflict\">6</td><td class=\"queen\">Q 5</td><td class=\"conflict\">9</td><td class=\"conflict\">7</td><td class=\"conflict\">8</td></tr><tr><td class=\"conflict\">6</td><td class=\"conflict\">5</td><td class=\"conflict\">7</td><td class=\"conflict\">7</td><td class=\"conflict\">5</td><td class=\"conflict\">7</td><td class=\"conflict\">6</td><td class=\"queen\">Q 5</td></tr><tr><td class=\"conflict\">5</td><td class=\"conflict\">3</td><td class=\"queen\">Q 5</td><td class=\"conflict\">8</td><td class=\"conflict\">4</td><td class=\"conflict\">6</td><td class=\"conflict\">7</td><td class=\"conflict\">7</td></tr></table>"
      ],
      "text/plain": [
       "<IPython.core.display.HTML object>"
      ]
     },
     "metadata": {},
     "output_type": "display_data"
    },
    {
     "name": "stdout",
     "output_type": "stream",
     "text": [
      "40 \t column 3 Queen, row 7 to 2\n"
     ]
    },
    {
     "data": {
      "text/html": [
       "\n",
       "    <style>\n",
       "        table { border-collapse: collapse; font-family: Arial, sans-serif; }\n",
       "        td { border: 1px solid black; height: 40px; width: 40px; text-align: center; font-size: 18px; }\n",
       "        .queen { background-color: #f4cccc; font-weight: bold; color: black; }\n",
       "        .conflict { background-color: #f9f9f9; color: gray; }\n",
       "    </style>\n",
       "    <table>\n",
       "    <tr><td class=\"conflict\">4</td><td class=\"conflict\">4</td><td class=\"conflict\">5</td><td class=\"conflict\">6</td><td class=\"conflict\">5</td><td class=\"conflict\">5</td><td class=\"conflict\">6</td><td class=\"conflict\">5</td></tr><tr><td class=\"conflict\">5</td><td class=\"conflict\">4</td><td class=\"queen\">Q 5</td><td class=\"conflict\">7</td><td class=\"conflict\">6</td><td class=\"conflict\">8</td><td class=\"conflict\">6</td><td class=\"conflict\">5</td></tr><tr><td class=\"conflict\">4</td><td class=\"conflict\">5</td><td class=\"conflict\">7</td><td class=\"conflict\">7</td><td class=\"conflict\">8</td><td class=\"queen\">Q 5</td><td class=\"conflict\">5</td><td class=\"conflict\">6</td></tr><tr><td class=\"conflict\">5</td><td class=\"conflict\">4</td><td class=\"conflict\">6</td><td class=\"queen\">Q 5</td><td class=\"conflict\">8</td><td class=\"conflict\">7</td><td class=\"conflict\">7</td><td class=\"conflict\">6</td></tr><tr><td class=\"queen\">Q 5</td><td class=\"conflict\">4</td><td class=\"conflict\">8</td><td class=\"conflict\">8</td><td class=\"conflict\">7</td><td class=\"conflict\">10</td><td class=\"queen\">Q 5</td><td class=\"conflict\">7</td></tr><tr><td class=\"conflict\">5</td><td class=\"queen\">Q 5</td><td class=\"conflict\">7</td><td class=\"conflict\">6</td><td class=\"queen\">Q 5</td><td class=\"conflict\">9</td><td class=\"conflict\">8</td><td class=\"conflict\">7</td></tr><tr><td class=\"conflict\">6</td><td class=\"conflict\">4</td><td class=\"conflict\">7</td><td class=\"conflict\">6</td><td class=\"conflict\">6</td><td class=\"conflict\">7</td><td class=\"conflict\">6</td><td class=\"queen\">Q 5</td></tr><tr><td class=\"conflict\">4</td><td class=\"conflict\">2</td><td class=\"conflict\">5</td><td class=\"conflict\">7</td><td class=\"conflict\">4</td><td class=\"conflict\">5</td><td class=\"conflict\">6</td><td class=\"conflict\">5</td></tr></table>"
      ],
      "text/plain": [
       "<IPython.core.display.HTML object>"
      ]
     },
     "metadata": {},
     "output_type": "display_data"
    },
    {
     "name": "stdout",
     "output_type": "stream",
     "text": [
      "41 \t column 3 Queen, row 7 to 8\n"
     ]
    },
    {
     "data": {
      "text/html": [
       "\n",
       "    <style>\n",
       "        table { border-collapse: collapse; font-family: Arial, sans-serif; }\n",
       "        td { border: 1px solid black; height: 40px; width: 40px; text-align: center; font-size: 18px; }\n",
       "        .queen { background-color: #f4cccc; font-weight: bold; color: black; }\n",
       "        .conflict { background-color: #f9f9f9; color: gray; }\n",
       "    </style>\n",
       "    <table>\n",
       "    <tr><td class=\"conflict\">4</td><td class=\"conflict\">3</td><td class=\"conflict\">5</td><td class=\"conflict\">5</td><td class=\"conflict\">4</td><td class=\"conflict\">5</td><td class=\"conflict\">6</td><td class=\"conflict\">6</td></tr><tr><td class=\"conflict\">4</td><td class=\"conflict\">3</td><td class=\"conflict\">5</td><td class=\"conflict\">6</td><td class=\"conflict\">4</td><td class=\"conflict\">7</td><td class=\"conflict\">5</td><td class=\"conflict\">5</td></tr><tr><td class=\"conflict\">4</td><td class=\"conflict\">4</td><td class=\"conflict\">7</td><td class=\"conflict\">6</td><td class=\"conflict\">7</td><td class=\"queen\">Q 5</td><td class=\"conflict\">5</td><td class=\"conflict\">8</td></tr><tr><td class=\"conflict\">4</td><td class=\"conflict\">4</td><td class=\"conflict\">6</td><td class=\"queen\">Q 5</td><td class=\"conflict\">6</td><td class=\"conflict\">7</td><td class=\"conflict\">8</td><td class=\"conflict\">7</td></tr><tr><td class=\"queen\">Q 5</td><td class=\"conflict\">4</td><td class=\"conflict\">8</td><td class=\"conflict\">8</td><td class=\"conflict\">6</td><td class=\"conflict\">10</td><td class=\"queen\">Q 5</td><td class=\"conflict\">8</td></tr><tr><td class=\"conflict\">6</td><td class=\"queen\">Q 5</td><td class=\"conflict\">7</td><td class=\"conflict\">6</td><td class=\"queen\">Q 5</td><td class=\"conflict\">9</td><td class=\"conflict\">7</td><td class=\"conflict\">8</td></tr><tr><td class=\"conflict\">6</td><td class=\"conflict\">5</td><td class=\"conflict\">7</td><td class=\"conflict\">7</td><td class=\"conflict\">5</td><td class=\"conflict\">7</td><td class=\"conflict\">6</td><td class=\"queen\">Q 5</td></tr><tr><td class=\"conflict\">5</td><td class=\"conflict\">3</td><td class=\"queen\">Q 5</td><td class=\"conflict\">8</td><td class=\"conflict\">4</td><td class=\"conflict\">6</td><td class=\"conflict\">7</td><td class=\"conflict\">7</td></tr></table>"
      ],
      "text/plain": [
       "<IPython.core.display.HTML object>"
      ]
     },
     "metadata": {},
     "output_type": "display_data"
    },
    {
     "name": "stdout",
     "output_type": "stream",
     "text": [
      "42 \t column 7 Queen, row 7 to 2\n"
     ]
    },
    {
     "data": {
      "text/html": [
       "\n",
       "    <style>\n",
       "        table { border-collapse: collapse; font-family: Arial, sans-serif; }\n",
       "        td { border: 1px solid black; height: 40px; width: 40px; text-align: center; font-size: 18px; }\n",
       "        .queen { background-color: #f4cccc; font-weight: bold; color: black; }\n",
       "        .conflict { background-color: #f9f9f9; color: gray; }\n",
       "    </style>\n",
       "    <table>\n",
       "    <tr><td class=\"conflict\">5</td><td class=\"conflict\">3</td><td class=\"conflict\">4</td><td class=\"conflict\">5</td><td class=\"conflict\">4</td><td class=\"conflict\">5</td><td class=\"conflict\">6</td><td class=\"conflict\">7</td></tr><tr><td class=\"conflict\">6</td><td class=\"conflict\">4</td><td class=\"conflict\">6</td><td class=\"conflict\">6</td><td class=\"conflict\">5</td><td class=\"conflict\">7</td><td class=\"queen\">Q 5</td><td class=\"conflict\">6</td></tr><tr><td class=\"conflict\">5</td><td class=\"conflict\">4</td><td class=\"conflict\">7</td><td class=\"conflict\">6</td><td class=\"conflict\">6</td><td class=\"queen\">Q 5</td><td class=\"conflict\">5</td><td class=\"conflict\">9</td></tr><tr><td class=\"conflict\">5</td><td class=\"conflict\">4</td><td class=\"conflict\">6</td><td class=\"queen\">Q 5</td><td class=\"conflict\">7</td><td class=\"conflict\">5</td><td class=\"conflict\">8</td><td class=\"conflict\">6</td></tr><tr><td class=\"queen\">Q 5</td><td class=\"conflict\">3</td><td class=\"conflict\">7</td><td class=\"conflict\">8</td><td class=\"conflict\">5</td><td class=\"conflict\">8</td><td class=\"conflict\">5</td><td class=\"conflict\">7</td></tr><tr><td class=\"conflict\">7</td><td class=\"queen\">Q 5</td><td class=\"conflict\">8</td><td class=\"conflict\">6</td><td class=\"queen\">Q 5</td><td class=\"conflict\">7</td><td class=\"conflict\">7</td><td class=\"conflict\">7</td></tr><tr><td class=\"conflict\">7</td><td class=\"conflict\">6</td><td class=\"conflict\">7</td><td class=\"conflict\">7</td><td class=\"conflict\">4</td><td class=\"conflict\">6</td><td class=\"conflict\">6</td><td class=\"queen\">Q 5</td></tr><tr><td class=\"conflict\">7</td><td class=\"conflict\">3</td><td class=\"queen\">Q 5</td><td class=\"conflict\">7</td><td class=\"conflict\">4</td><td class=\"conflict\">5</td><td class=\"conflict\">7</td><td class=\"conflict\">7</td></tr></table>"
      ],
      "text/plain": [
       "<IPython.core.display.HTML object>"
      ]
     },
     "metadata": {},
     "output_type": "display_data"
    },
    {
     "name": "stdout",
     "output_type": "stream",
     "text": [
      "43 \t column 2 Queen, row 7 to 2\n"
     ]
    },
    {
     "data": {
      "text/html": [
       "\n",
       "    <style>\n",
       "        table { border-collapse: collapse; font-family: Arial, sans-serif; }\n",
       "        td { border: 1px solid black; height: 40px; width: 40px; text-align: center; font-size: 18px; }\n",
       "        .queen { background-color: #f4cccc; font-weight: bold; color: black; }\n",
       "        .conflict { background-color: #f9f9f9; color: gray; }\n",
       "    </style>\n",
       "    <table>\n",
       "    <tr><td class=\"conflict\">6</td><td class=\"conflict\">3</td><td class=\"conflict\">4</td><td class=\"conflict\">4</td><td class=\"conflict\">4</td><td class=\"conflict\">4</td><td class=\"conflict\">3</td><td class=\"conflict\">6</td></tr><tr><td class=\"conflict\">7</td><td class=\"queen\">Q 4</td><td class=\"conflict\">6</td><td class=\"conflict\">6</td><td class=\"conflict\">6</td><td class=\"conflict\">6</td><td class=\"queen\">Q 4</td><td class=\"conflict\">6</td></tr><tr><td class=\"conflict\">6</td><td class=\"conflict\">4</td><td class=\"conflict\">7</td><td class=\"conflict\">5</td><td class=\"conflict\">5</td><td class=\"queen\">Q 4</td><td class=\"conflict\">3</td><td class=\"conflict\">8</td></tr><tr><td class=\"conflict\">5</td><td class=\"conflict\">4</td><td class=\"conflict\">5</td><td class=\"queen\">Q 4</td><td class=\"conflict\">7</td><td class=\"conflict\">4</td><td class=\"conflict\">6</td><td class=\"conflict\">5</td></tr><tr><td class=\"queen\">Q 4</td><td class=\"conflict\">3</td><td class=\"conflict\">5</td><td class=\"conflict\">7</td><td class=\"conflict\">6</td><td class=\"conflict\">7</td><td class=\"conflict\">3</td><td class=\"conflict\">6</td></tr><tr><td class=\"conflict\">6</td><td class=\"conflict\">5</td><td class=\"conflict\">6</td><td class=\"conflict\">4</td><td class=\"queen\">Q 4</td><td class=\"conflict\">6</td><td class=\"conflict\">4</td><td class=\"conflict\">5</td></tr><tr><td class=\"conflict\">6</td><td class=\"conflict\">6</td><td class=\"conflict\">5</td><td class=\"conflict\">6</td><td class=\"conflict\">4</td><td class=\"conflict\">5</td><td class=\"conflict\">5</td><td class=\"queen\">Q 4</td></tr><tr><td class=\"conflict\">7</td><td class=\"conflict\">3</td><td class=\"queen\">Q 4</td><td class=\"conflict\">5</td><td class=\"conflict\">4</td><td class=\"conflict\">4</td><td class=\"conflict\">5</td><td class=\"conflict\">7</td></tr></table>"
      ],
      "text/plain": [
       "<IPython.core.display.HTML object>"
      ]
     },
     "metadata": {},
     "output_type": "display_data"
    },
    {
     "name": "stdout",
     "output_type": "stream",
     "text": [
      "44 \t column 3 Queen, row 7 to 8\n"
     ]
    },
    {
     "data": {
      "text/html": [
       "\n",
       "    <style>\n",
       "        table { border-collapse: collapse; font-family: Arial, sans-serif; }\n",
       "        td { border: 1px solid black; height: 40px; width: 40px; text-align: center; font-size: 18px; }\n",
       "        .queen { background-color: #f4cccc; font-weight: bold; color: black; }\n",
       "        .conflict { background-color: #f9f9f9; color: gray; }\n",
       "    </style>\n",
       "    <table>\n",
       "    <tr><td class=\"conflict\">6</td><td class=\"conflict\">3</td><td class=\"conflict\">4</td><td class=\"conflict\">4</td><td class=\"conflict\">4</td><td class=\"conflict\">4</td><td class=\"conflict\">3</td><td class=\"conflict\">6</td></tr><tr><td class=\"conflict\">7</td><td class=\"queen\">Q 4</td><td class=\"conflict\">6</td><td class=\"conflict\">6</td><td class=\"conflict\">6</td><td class=\"conflict\">6</td><td class=\"queen\">Q 4</td><td class=\"conflict\">6</td></tr><tr><td class=\"conflict\">6</td><td class=\"conflict\">4</td><td class=\"conflict\">7</td><td class=\"conflict\">5</td><td class=\"conflict\">5</td><td class=\"queen\">Q 4</td><td class=\"conflict\">3</td><td class=\"conflict\">8</td></tr><tr><td class=\"conflict\">5</td><td class=\"conflict\">4</td><td class=\"conflict\">5</td><td class=\"queen\">Q 4</td><td class=\"conflict\">7</td><td class=\"conflict\">4</td><td class=\"conflict\">6</td><td class=\"conflict\">5</td></tr><tr><td class=\"queen\">Q 4</td><td class=\"conflict\">3</td><td class=\"conflict\">5</td><td class=\"conflict\">7</td><td class=\"conflict\">6</td><td class=\"conflict\">7</td><td class=\"conflict\">3</td><td class=\"conflict\">6</td></tr><tr><td class=\"conflict\">6</td><td class=\"conflict\">5</td><td class=\"conflict\">6</td><td class=\"conflict\">4</td><td class=\"queen\">Q 4</td><td class=\"conflict\">6</td><td class=\"conflict\">4</td><td class=\"conflict\">5</td></tr><tr><td class=\"conflict\">6</td><td class=\"conflict\">6</td><td class=\"conflict\">5</td><td class=\"conflict\">6</td><td class=\"conflict\">4</td><td class=\"conflict\">5</td><td class=\"conflict\">5</td><td class=\"queen\">Q 4</td></tr><tr><td class=\"conflict\">7</td><td class=\"conflict\">3</td><td class=\"queen\">Q 4</td><td class=\"conflict\">5</td><td class=\"conflict\">4</td><td class=\"conflict\">4</td><td class=\"conflict\">5</td><td class=\"conflict\">7</td></tr></table>"
      ],
      "text/plain": [
       "<IPython.core.display.HTML object>"
      ]
     },
     "metadata": {},
     "output_type": "display_data"
    },
    {
     "name": "stdout",
     "output_type": "stream",
     "text": [
      "45 \t column 6 Queen, row 7 to 3\n"
     ]
    },
    {
     "data": {
      "text/html": [
       "\n",
       "    <style>\n",
       "        table { border-collapse: collapse; font-family: Arial, sans-serif; }\n",
       "        td { border: 1px solid black; height: 40px; width: 40px; text-align: center; font-size: 18px; }\n",
       "        .queen { background-color: #f4cccc; font-weight: bold; color: black; }\n",
       "        .conflict { background-color: #f9f9f9; color: gray; }\n",
       "    </style>\n",
       "    <table>\n",
       "    <tr><td class=\"conflict\">6</td><td class=\"conflict\">3</td><td class=\"conflict\">4</td><td class=\"conflict\">4</td><td class=\"conflict\">4</td><td class=\"conflict\">4</td><td class=\"conflict\">3</td><td class=\"conflict\">6</td></tr><tr><td class=\"conflict\">7</td><td class=\"queen\">Q 4</td><td class=\"conflict\">6</td><td class=\"conflict\">6</td><td class=\"conflict\">6</td><td class=\"conflict\">6</td><td class=\"queen\">Q 4</td><td class=\"conflict\">6</td></tr><tr><td class=\"conflict\">6</td><td class=\"conflict\">4</td><td class=\"conflict\">7</td><td class=\"conflict\">5</td><td class=\"conflict\">5</td><td class=\"queen\">Q 4</td><td class=\"conflict\">3</td><td class=\"conflict\">8</td></tr><tr><td class=\"conflict\">5</td><td class=\"conflict\">4</td><td class=\"conflict\">5</td><td class=\"queen\">Q 4</td><td class=\"conflict\">7</td><td class=\"conflict\">4</td><td class=\"conflict\">6</td><td class=\"conflict\">5</td></tr><tr><td class=\"queen\">Q 4</td><td class=\"conflict\">3</td><td class=\"conflict\">5</td><td class=\"conflict\">7</td><td class=\"conflict\">6</td><td class=\"conflict\">7</td><td class=\"conflict\">3</td><td class=\"conflict\">6</td></tr><tr><td class=\"conflict\">6</td><td class=\"conflict\">5</td><td class=\"conflict\">6</td><td class=\"conflict\">4</td><td class=\"queen\">Q 4</td><td class=\"conflict\">6</td><td class=\"conflict\">4</td><td class=\"conflict\">5</td></tr><tr><td class=\"conflict\">6</td><td class=\"conflict\">6</td><td class=\"conflict\">5</td><td class=\"conflict\">6</td><td class=\"conflict\">4</td><td class=\"conflict\">5</td><td class=\"conflict\">5</td><td class=\"queen\">Q 4</td></tr><tr><td class=\"conflict\">7</td><td class=\"conflict\">3</td><td class=\"queen\">Q 4</td><td class=\"conflict\">5</td><td class=\"conflict\">4</td><td class=\"conflict\">4</td><td class=\"conflict\">5</td><td class=\"conflict\">7</td></tr></table>"
      ],
      "text/plain": [
       "<IPython.core.display.HTML object>"
      ]
     },
     "metadata": {},
     "output_type": "display_data"
    },
    {
     "name": "stdout",
     "output_type": "stream",
     "text": [
      "46 \t column 6 Queen, row 7 to 4\n"
     ]
    },
    {
     "data": {
      "text/html": [
       "\n",
       "    <style>\n",
       "        table { border-collapse: collapse; font-family: Arial, sans-serif; }\n",
       "        td { border: 1px solid black; height: 40px; width: 40px; text-align: center; font-size: 18px; }\n",
       "        .queen { background-color: #f4cccc; font-weight: bold; color: black; }\n",
       "        .conflict { background-color: #f9f9f9; color: gray; }\n",
       "    </style>\n",
       "    <table>\n",
       "    <tr><td class=\"conflict\">6</td><td class=\"conflict\">3</td><td class=\"conflict\">5</td><td class=\"conflict\">2</td><td class=\"conflict\">4</td><td class=\"conflict\">4</td><td class=\"conflict\">4</td><td class=\"conflict\">5</td></tr><tr><td class=\"conflict\">7</td><td class=\"queen\">Q 4</td><td class=\"conflict\">6</td><td class=\"conflict\">6</td><td class=\"conflict\">5</td><td class=\"conflict\">6</td><td class=\"queen\">Q 4</td><td class=\"conflict\">7</td></tr><tr><td class=\"conflict\">5</td><td class=\"conflict\">3</td><td class=\"conflict\">6</td><td class=\"conflict\">3</td><td class=\"conflict\">5</td><td class=\"conflict\">4</td><td class=\"conflict\">4</td><td class=\"conflict\">7</td></tr><tr><td class=\"conflict\">6</td><td class=\"conflict\">5</td><td class=\"conflict\">6</td><td class=\"queen\">Q 4</td><td class=\"conflict\">7</td><td class=\"queen\">Q 4</td><td class=\"conflict\">7</td><td class=\"conflict\">6</td></tr><tr><td class=\"queen\">Q 4</td><td class=\"conflict\">3</td><td class=\"conflict\">5</td><td class=\"conflict\">5</td><td class=\"conflict\">7</td><td class=\"conflict\">7</td><td class=\"conflict\">5</td><td class=\"conflict\">5</td></tr><tr><td class=\"conflict\">6</td><td class=\"conflict\">5</td><td class=\"conflict\">5</td><td class=\"conflict\">4</td><td class=\"queen\">Q 4</td><td class=\"conflict\">6</td><td class=\"conflict\">5</td><td class=\"conflict\">6</td></tr><tr><td class=\"conflict\">6</td><td class=\"conflict\">5</td><td class=\"conflict\">6</td><td class=\"conflict\">5</td><td class=\"conflict\">4</td><td class=\"conflict\">5</td><td class=\"conflict\">6</td><td class=\"queen\">Q 4</td></tr><tr><td class=\"conflict\">6</td><td class=\"conflict\">4</td><td class=\"queen\">Q 4</td><td class=\"conflict\">4</td><td class=\"conflict\">4</td><td class=\"conflict\">4</td><td class=\"conflict\">6</td><td class=\"conflict\">7</td></tr></table>"
      ],
      "text/plain": [
       "<IPython.core.display.HTML object>"
      ]
     },
     "metadata": {},
     "output_type": "display_data"
    },
    {
     "name": "stdout",
     "output_type": "stream",
     "text": [
      "47 \t column 6 Queen, row 7 to 1\n"
     ]
    },
    {
     "data": {
      "text/html": [
       "\n",
       "    <style>\n",
       "        table { border-collapse: collapse; font-family: Arial, sans-serif; }\n",
       "        td { border: 1px solid black; height: 40px; width: 40px; text-align: center; font-size: 18px; }\n",
       "        .queen { background-color: #f4cccc; font-weight: bold; color: black; }\n",
       "        .conflict { background-color: #f9f9f9; color: gray; }\n",
       "    </style>\n",
       "    <table>\n",
       "    <tr><td class=\"conflict\">7</td><td class=\"conflict\">4</td><td class=\"conflict\">5</td><td class=\"conflict\">4</td><td class=\"conflict\">5</td><td class=\"queen\">Q 4</td><td class=\"conflict\">4</td><td class=\"conflict\">6</td></tr><tr><td class=\"conflict\">7</td><td class=\"queen\">Q 4</td><td class=\"conflict\">6</td><td class=\"conflict\">6</td><td class=\"conflict\">6</td><td class=\"conflict\">6</td><td class=\"queen\">Q 4</td><td class=\"conflict\">6</td></tr><tr><td class=\"conflict\">5</td><td class=\"conflict\">3</td><td class=\"conflict\">6</td><td class=\"conflict\">5</td><td class=\"conflict\">4</td><td class=\"conflict\">4</td><td class=\"conflict\">2</td><td class=\"conflict\">8</td></tr><tr><td class=\"conflict\">5</td><td class=\"conflict\">4</td><td class=\"conflict\">6</td><td class=\"queen\">Q 4</td><td class=\"conflict\">6</td><td class=\"conflict\">4</td><td class=\"conflict\">5</td><td class=\"conflict\">5</td></tr><tr><td class=\"queen\">Q 4</td><td class=\"conflict\">4</td><td class=\"conflict\">5</td><td class=\"conflict\">6</td><td class=\"conflict\">6</td><td class=\"conflict\">7</td><td class=\"conflict\">3</td><td class=\"conflict\">5</td></tr><tr><td class=\"conflict\">7</td><td class=\"conflict\">5</td><td class=\"conflict\">5</td><td class=\"conflict\">4</td><td class=\"queen\">Q 4</td><td class=\"conflict\">6</td><td class=\"conflict\">4</td><td class=\"conflict\">5</td></tr><tr><td class=\"conflict\">6</td><td class=\"conflict\">5</td><td class=\"conflict\">5</td><td class=\"conflict\">6</td><td class=\"conflict\">4</td><td class=\"conflict\">5</td><td class=\"conflict\">5</td><td class=\"queen\">Q 4</td></tr><tr><td class=\"conflict\">6</td><td class=\"conflict\">3</td><td class=\"queen\">Q 4</td><td class=\"conflict\">5</td><td class=\"conflict\">4</td><td class=\"conflict\">4</td><td class=\"conflict\">5</td><td class=\"conflict\">7</td></tr></table>"
      ],
      "text/plain": [
       "<IPython.core.display.HTML object>"
      ]
     },
     "metadata": {},
     "output_type": "display_data"
    },
    {
     "name": "stdout",
     "output_type": "stream",
     "text": [
      "48 \t column 2 Queen, row 7 to 1\n"
     ]
    },
    {
     "data": {
      "text/html": [
       "\n",
       "    <style>\n",
       "        table { border-collapse: collapse; font-family: Arial, sans-serif; }\n",
       "        td { border: 1px solid black; height: 40px; width: 40px; text-align: center; font-size: 18px; }\n",
       "        .queen { background-color: #f4cccc; font-weight: bold; color: black; }\n",
       "        .conflict { background-color: #f9f9f9; color: gray; }\n",
       "    </style>\n",
       "    <table>\n",
       "    <tr><td class=\"conflict\">7</td><td class=\"queen\">Q 4</td><td class=\"conflict\">5</td><td class=\"conflict\">6</td><td class=\"conflict\">6</td><td class=\"queen\">Q 4</td><td class=\"conflict\">6</td><td class=\"conflict\">6</td></tr><tr><td class=\"conflict\">7</td><td class=\"conflict\">4</td><td class=\"conflict\">6</td><td class=\"conflict\">6</td><td class=\"conflict\">5</td><td class=\"conflict\">4</td><td class=\"queen\">Q 4</td><td class=\"conflict\">4</td></tr><tr><td class=\"conflict\">4</td><td class=\"conflict\">3</td><td class=\"conflict\">5</td><td class=\"conflict\">7</td><td class=\"conflict\">4</td><td class=\"conflict\">3</td><td class=\"conflict\">3</td><td class=\"conflict\">7</td></tr><tr><td class=\"conflict\">5</td><td class=\"conflict\">4</td><td class=\"conflict\">6</td><td class=\"queen\">Q 4</td><td class=\"conflict\">7</td><td class=\"conflict\">3</td><td class=\"conflict\">6</td><td class=\"conflict\">4</td></tr><tr><td class=\"queen\">Q 4</td><td class=\"conflict\">4</td><td class=\"conflict\">5</td><td class=\"conflict\">7</td><td class=\"conflict\">5</td><td class=\"conflict\">7</td><td class=\"conflict\">4</td><td class=\"conflict\">4</td></tr><tr><td class=\"conflict\">7</td><td class=\"conflict\">5</td><td class=\"conflict\">5</td><td class=\"conflict\">5</td><td class=\"queen\">Q 4</td><td class=\"conflict\">4</td><td class=\"conflict\">6</td><td class=\"conflict\">4</td></tr><tr><td class=\"conflict\">6</td><td class=\"conflict\">5</td><td class=\"conflict\">5</td><td class=\"conflict\">7</td><td class=\"conflict\">4</td><td class=\"conflict\">4</td><td class=\"conflict\">5</td><td class=\"queen\">Q 4</td></tr><tr><td class=\"conflict\">6</td><td class=\"conflict\">3</td><td class=\"queen\">Q 4</td><td class=\"conflict\">6</td><td class=\"conflict\">4</td><td class=\"conflict\">3</td><td class=\"conflict\">6</td><td class=\"conflict\">5</td></tr></table>"
      ],
      "text/plain": [
       "<IPython.core.display.HTML object>"
      ]
     },
     "metadata": {},
     "output_type": "display_data"
    },
    {
     "name": "stdout",
     "output_type": "stream",
     "text": [
      "49 \t column 6 Queen, row 7 to 4\n"
     ]
    },
    {
     "data": {
      "text/html": [
       "\n",
       "    <style>\n",
       "        table { border-collapse: collapse; font-family: Arial, sans-serif; }\n",
       "        td { border: 1px solid black; height: 40px; width: 40px; text-align: center; font-size: 18px; }\n",
       "        .queen { background-color: #f4cccc; font-weight: bold; color: black; }\n",
       "        .conflict { background-color: #f9f9f9; color: gray; }\n",
       "    </style>\n",
       "    <table>\n",
       "    <tr><td class=\"conflict\">5</td><td class=\"queen\">Q 3</td><td class=\"conflict\">4</td><td class=\"conflict\">3</td><td class=\"conflict\">4</td><td class=\"conflict\">4</td><td class=\"conflict\">5</td><td class=\"conflict\">4</td></tr><tr><td class=\"conflict\">6</td><td class=\"conflict\">4</td><td class=\"conflict\">5</td><td class=\"conflict\">5</td><td class=\"conflict\">3</td><td class=\"conflict\">4</td><td class=\"queen\">Q 3</td><td class=\"conflict\">4</td></tr><tr><td class=\"conflict\">3</td><td class=\"conflict\">3</td><td class=\"conflict\">4</td><td class=\"conflict\">4</td><td class=\"conflict\">4</td><td class=\"conflict\">3</td><td class=\"conflict\">4</td><td class=\"conflict\">5</td></tr><tr><td class=\"conflict\">5</td><td class=\"conflict\">5</td><td class=\"conflict\">5</td><td class=\"queen\">Q 3</td><td class=\"conflict\">7</td><td class=\"queen\">Q 3</td><td class=\"conflict\">7</td><td class=\"conflict\">4</td></tr><tr><td class=\"queen\">Q 3</td><td class=\"conflict\">3</td><td class=\"conflict\">4</td><td class=\"conflict\">5</td><td class=\"conflict\">5</td><td class=\"conflict\">7</td><td class=\"conflict\">5</td><td class=\"conflict\">3</td></tr><tr><td class=\"conflict\">5</td><td class=\"conflict\">5</td><td class=\"conflict\">4</td><td class=\"conflict\">4</td><td class=\"queen\">Q 3</td><td class=\"conflict\">4</td><td class=\"conflict\">6</td><td class=\"conflict\">4</td></tr><tr><td class=\"conflict\">5</td><td class=\"conflict\">5</td><td class=\"conflict\">5</td><td class=\"conflict\">5</td><td class=\"conflict\">3</td><td class=\"conflict\">4</td><td class=\"conflict\">5</td><td class=\"queen\">Q 3</td></tr><tr><td class=\"conflict\">5</td><td class=\"conflict\">4</td><td class=\"queen\">Q 3</td><td class=\"conflict\">4</td><td class=\"conflict\">3</td><td class=\"conflict\">3</td><td class=\"conflict\">6</td><td class=\"conflict\">4</td></tr></table>"
      ],
      "text/plain": [
       "<IPython.core.display.HTML object>"
      ]
     },
     "metadata": {},
     "output_type": "display_data"
    },
    {
     "name": "stdout",
     "output_type": "stream",
     "text": [
      "50 \t column 5 Queen, row 7 to 6\n"
     ]
    },
    {
     "data": {
      "text/html": [
       "\n",
       "    <style>\n",
       "        table { border-collapse: collapse; font-family: Arial, sans-serif; }\n",
       "        td { border: 1px solid black; height: 40px; width: 40px; text-align: center; font-size: 18px; }\n",
       "        .queen { background-color: #f4cccc; font-weight: bold; color: black; }\n",
       "        .conflict { background-color: #f9f9f9; color: gray; }\n",
       "    </style>\n",
       "    <table>\n",
       "    <tr><td class=\"conflict\">5</td><td class=\"queen\">Q 3</td><td class=\"conflict\">4</td><td class=\"conflict\">3</td><td class=\"conflict\">4</td><td class=\"conflict\">4</td><td class=\"conflict\">5</td><td class=\"conflict\">4</td></tr><tr><td class=\"conflict\">6</td><td class=\"conflict\">4</td><td class=\"conflict\">5</td><td class=\"conflict\">5</td><td class=\"conflict\">3</td><td class=\"conflict\">4</td><td class=\"queen\">Q 3</td><td class=\"conflict\">4</td></tr><tr><td class=\"conflict\">3</td><td class=\"conflict\">3</td><td class=\"conflict\">4</td><td class=\"conflict\">4</td><td class=\"conflict\">4</td><td class=\"conflict\">3</td><td class=\"conflict\">4</td><td class=\"conflict\">5</td></tr><tr><td class=\"conflict\">5</td><td class=\"conflict\">5</td><td class=\"conflict\">5</td><td class=\"queen\">Q 3</td><td class=\"conflict\">7</td><td class=\"queen\">Q 3</td><td class=\"conflict\">7</td><td class=\"conflict\">4</td></tr><tr><td class=\"queen\">Q 3</td><td class=\"conflict\">3</td><td class=\"conflict\">4</td><td class=\"conflict\">5</td><td class=\"conflict\">5</td><td class=\"conflict\">7</td><td class=\"conflict\">5</td><td class=\"conflict\">3</td></tr><tr><td class=\"conflict\">5</td><td class=\"conflict\">5</td><td class=\"conflict\">4</td><td class=\"conflict\">4</td><td class=\"queen\">Q 3</td><td class=\"conflict\">4</td><td class=\"conflict\">6</td><td class=\"conflict\">4</td></tr><tr><td class=\"conflict\">5</td><td class=\"conflict\">5</td><td class=\"conflict\">5</td><td class=\"conflict\">5</td><td class=\"conflict\">3</td><td class=\"conflict\">4</td><td class=\"conflict\">5</td><td class=\"queen\">Q 3</td></tr><tr><td class=\"conflict\">5</td><td class=\"conflict\">4</td><td class=\"queen\">Q 3</td><td class=\"conflict\">4</td><td class=\"conflict\">3</td><td class=\"conflict\">3</td><td class=\"conflict\">6</td><td class=\"conflict\">4</td></tr></table>"
      ],
      "text/plain": [
       "<IPython.core.display.HTML object>"
      ]
     },
     "metadata": {},
     "output_type": "display_data"
    },
    {
     "name": "stdout",
     "output_type": "stream",
     "text": [
      "51 \t column 3 Queen, row 7 to 1\n"
     ]
    },
    {
     "data": {
      "text/html": [
       "\n",
       "    <style>\n",
       "        table { border-collapse: collapse; font-family: Arial, sans-serif; }\n",
       "        td { border: 1px solid black; height: 40px; width: 40px; text-align: center; font-size: 18px; }\n",
       "        .queen { background-color: #f4cccc; font-weight: bold; color: black; }\n",
       "        .conflict { background-color: #f9f9f9; color: gray; }\n",
       "    </style>\n",
       "    <table>\n",
       "    <tr><td class=\"conflict\">7</td><td class=\"queen\">Q 4</td><td class=\"queen\">Q 4</td><td class=\"conflict\">5</td><td class=\"conflict\">7</td><td class=\"conflict\">5</td><td class=\"conflict\">7</td><td class=\"conflict\">6</td></tr><tr><td class=\"conflict\">7</td><td class=\"conflict\">5</td><td class=\"conflict\">5</td><td class=\"conflict\">7</td><td class=\"conflict\">5</td><td class=\"conflict\">4</td><td class=\"queen\">Q 4</td><td class=\"conflict\">5</td></tr><tr><td class=\"conflict\">5</td><td class=\"conflict\">3</td><td class=\"conflict\">4</td><td class=\"conflict\">5</td><td class=\"conflict\">7</td><td class=\"conflict\">3</td><td class=\"conflict\">5</td><td class=\"conflict\">5</td></tr><tr><td class=\"conflict\">6</td><td class=\"conflict\">5</td><td class=\"conflict\">5</td><td class=\"queen\">Q 4</td><td class=\"conflict\">9</td><td class=\"queen\">Q 4</td><td class=\"conflict\">7</td><td class=\"conflict\">5</td></tr><tr><td class=\"queen\">Q 4</td><td class=\"conflict\">3</td><td class=\"conflict\">4</td><td class=\"conflict\">6</td><td class=\"conflict\">7</td><td class=\"conflict\">6</td><td class=\"conflict\">7</td><td class=\"conflict\">4</td></tr><tr><td class=\"conflict\">5</td><td class=\"conflict\">5</td><td class=\"conflict\">4</td><td class=\"conflict\">5</td><td class=\"queen\">Q 4</td><td class=\"conflict\">4</td><td class=\"conflict\">7</td><td class=\"conflict\">6</td></tr><tr><td class=\"conflict\">6</td><td class=\"conflict\">4</td><td class=\"conflict\">5</td><td class=\"conflict\">5</td><td class=\"conflict\">5</td><td class=\"conflict\">4</td><td class=\"conflict\">6</td><td class=\"queen\">Q 4</td></tr><tr><td class=\"conflict\">5</td><td class=\"conflict\">3</td><td class=\"conflict\">3</td><td class=\"conflict\">4</td><td class=\"conflict\">4</td><td class=\"conflict\">2</td><td class=\"conflict\">6</td><td class=\"conflict\">4</td></tr></table>"
      ],
      "text/plain": [
       "<IPython.core.display.HTML object>"
      ]
     },
     "metadata": {},
     "output_type": "display_data"
    },
    {
     "name": "stdout",
     "output_type": "stream",
     "text": [
      "52 \t column 4 Queen, row 7 to 4\n"
     ]
    },
    {
     "data": {
      "text/html": [
       "\n",
       "    <style>\n",
       "        table { border-collapse: collapse; font-family: Arial, sans-serif; }\n",
       "        td { border: 1px solid black; height: 40px; width: 40px; text-align: center; font-size: 18px; }\n",
       "        .queen { background-color: #f4cccc; font-weight: bold; color: black; }\n",
       "        .conflict { background-color: #f9f9f9; color: gray; }\n",
       "    </style>\n",
       "    <table>\n",
       "    <tr><td class=\"conflict\">7</td><td class=\"queen\">Q 4</td><td class=\"queen\">Q 4</td><td class=\"conflict\">5</td><td class=\"conflict\">7</td><td class=\"conflict\">5</td><td class=\"conflict\">7</td><td class=\"conflict\">6</td></tr><tr><td class=\"conflict\">7</td><td class=\"conflict\">5</td><td class=\"conflict\">5</td><td class=\"conflict\">7</td><td class=\"conflict\">5</td><td class=\"conflict\">4</td><td class=\"queen\">Q 4</td><td class=\"conflict\">5</td></tr><tr><td class=\"conflict\">5</td><td class=\"conflict\">3</td><td class=\"conflict\">4</td><td class=\"conflict\">5</td><td class=\"conflict\">7</td><td class=\"conflict\">3</td><td class=\"conflict\">5</td><td class=\"conflict\">5</td></tr><tr><td class=\"conflict\">6</td><td class=\"conflict\">5</td><td class=\"conflict\">5</td><td class=\"queen\">Q 4</td><td class=\"conflict\">9</td><td class=\"queen\">Q 4</td><td class=\"conflict\">7</td><td class=\"conflict\">5</td></tr><tr><td class=\"queen\">Q 4</td><td class=\"conflict\">3</td><td class=\"conflict\">4</td><td class=\"conflict\">6</td><td class=\"conflict\">7</td><td class=\"conflict\">6</td><td class=\"conflict\">7</td><td class=\"conflict\">4</td></tr><tr><td class=\"conflict\">5</td><td class=\"conflict\">5</td><td class=\"conflict\">4</td><td class=\"conflict\">5</td><td class=\"queen\">Q 4</td><td class=\"conflict\">4</td><td class=\"conflict\">7</td><td class=\"conflict\">6</td></tr><tr><td class=\"conflict\">6</td><td class=\"conflict\">4</td><td class=\"conflict\">5</td><td class=\"conflict\">5</td><td class=\"conflict\">5</td><td class=\"conflict\">4</td><td class=\"conflict\">6</td><td class=\"queen\">Q 4</td></tr><tr><td class=\"conflict\">5</td><td class=\"conflict\">3</td><td class=\"conflict\">3</td><td class=\"conflict\">4</td><td class=\"conflict\">4</td><td class=\"conflict\">2</td><td class=\"conflict\">6</td><td class=\"conflict\">4</td></tr></table>"
      ],
      "text/plain": [
       "<IPython.core.display.HTML object>"
      ]
     },
     "metadata": {},
     "output_type": "display_data"
    },
    {
     "name": "stdout",
     "output_type": "stream",
     "text": [
      "53 \t column 3 Queen, row 7 to 1\n"
     ]
    },
    {
     "data": {
      "text/html": [
       "\n",
       "    <style>\n",
       "        table { border-collapse: collapse; font-family: Arial, sans-serif; }\n",
       "        td { border: 1px solid black; height: 40px; width: 40px; text-align: center; font-size: 18px; }\n",
       "        .queen { background-color: #f4cccc; font-weight: bold; color: black; }\n",
       "        .conflict { background-color: #f9f9f9; color: gray; }\n",
       "    </style>\n",
       "    <table>\n",
       "    <tr><td class=\"conflict\">7</td><td class=\"queen\">Q 4</td><td class=\"queen\">Q 4</td><td class=\"conflict\">5</td><td class=\"conflict\">7</td><td class=\"conflict\">5</td><td class=\"conflict\">7</td><td class=\"conflict\">6</td></tr><tr><td class=\"conflict\">7</td><td class=\"conflict\">5</td><td class=\"conflict\">5</td><td class=\"conflict\">7</td><td class=\"conflict\">5</td><td class=\"conflict\">4</td><td class=\"queen\">Q 4</td><td class=\"conflict\">5</td></tr><tr><td class=\"conflict\">5</td><td class=\"conflict\">3</td><td class=\"conflict\">4</td><td class=\"conflict\">5</td><td class=\"conflict\">7</td><td class=\"conflict\">3</td><td class=\"conflict\">5</td><td class=\"conflict\">5</td></tr><tr><td class=\"conflict\">6</td><td class=\"conflict\">5</td><td class=\"conflict\">5</td><td class=\"queen\">Q 4</td><td class=\"conflict\">9</td><td class=\"queen\">Q 4</td><td class=\"conflict\">7</td><td class=\"conflict\">5</td></tr><tr><td class=\"queen\">Q 4</td><td class=\"conflict\">3</td><td class=\"conflict\">4</td><td class=\"conflict\">6</td><td class=\"conflict\">7</td><td class=\"conflict\">6</td><td class=\"conflict\">7</td><td class=\"conflict\">4</td></tr><tr><td class=\"conflict\">5</td><td class=\"conflict\">5</td><td class=\"conflict\">4</td><td class=\"conflict\">5</td><td class=\"queen\">Q 4</td><td class=\"conflict\">4</td><td class=\"conflict\">7</td><td class=\"conflict\">6</td></tr><tr><td class=\"conflict\">6</td><td class=\"conflict\">4</td><td class=\"conflict\">5</td><td class=\"conflict\">5</td><td class=\"conflict\">5</td><td class=\"conflict\">4</td><td class=\"conflict\">6</td><td class=\"queen\">Q 4</td></tr><tr><td class=\"conflict\">5</td><td class=\"conflict\">3</td><td class=\"conflict\">3</td><td class=\"conflict\">4</td><td class=\"conflict\">4</td><td class=\"conflict\">2</td><td class=\"conflict\">6</td><td class=\"conflict\">4</td></tr></table>"
      ],
      "text/plain": [
       "<IPython.core.display.HTML object>"
      ]
     },
     "metadata": {},
     "output_type": "display_data"
    },
    {
     "name": "stdout",
     "output_type": "stream",
     "text": [
      "54 \t column 8 Queen, row 7 to 5\n"
     ]
    },
    {
     "data": {
      "text/html": [
       "\n",
       "    <style>\n",
       "        table { border-collapse: collapse; font-family: Arial, sans-serif; }\n",
       "        td { border: 1px solid black; height: 40px; width: 40px; text-align: center; font-size: 18px; }\n",
       "        .queen { background-color: #f4cccc; font-weight: bold; color: black; }\n",
       "        .conflict { background-color: #f9f9f9; color: gray; }\n",
       "    </style>\n",
       "    <table>\n",
       "    <tr><td class=\"conflict\">6</td><td class=\"queen\">Q 4</td><td class=\"queen\">Q 4</td><td class=\"conflict\">6</td><td class=\"conflict\">7</td><td class=\"conflict\">5</td><td class=\"conflict\">7</td><td class=\"conflict\">6</td></tr><tr><td class=\"conflict\">6</td><td class=\"conflict\">6</td><td class=\"conflict\">4</td><td class=\"conflict\">7</td><td class=\"conflict\">6</td><td class=\"conflict\">4</td><td class=\"queen\">Q 4</td><td class=\"conflict\">5</td></tr><tr><td class=\"conflict\">4</td><td class=\"conflict\">4</td><td class=\"conflict\">4</td><td class=\"conflict\">4</td><td class=\"conflict\">7</td><td class=\"conflict\">4</td><td class=\"conflict\">5</td><td class=\"conflict\">5</td></tr><tr><td class=\"conflict\">5</td><td class=\"conflict\">6</td><td class=\"conflict\">5</td><td class=\"queen\">Q 4</td><td class=\"conflict\">8</td><td class=\"queen\">Q 4</td><td class=\"conflict\">8</td><td class=\"conflict\">5</td></tr><tr><td class=\"queen\">Q 4</td><td class=\"conflict\">5</td><td class=\"conflict\">5</td><td class=\"conflict\">7</td><td class=\"conflict\">8</td><td class=\"conflict\">6</td><td class=\"conflict\">8</td><td class=\"queen\">Q 4</td></tr><tr><td class=\"conflict\">4</td><td class=\"conflict\">6</td><td class=\"conflict\">4</td><td class=\"conflict\">5</td><td class=\"queen\">Q 4</td><td class=\"conflict\">4</td><td class=\"conflict\">7</td><td class=\"conflict\">6</td></tr><tr><td class=\"conflict\">4</td><td class=\"conflict\">4</td><td class=\"conflict\">4</td><td class=\"conflict\">4</td><td class=\"conflict\">4</td><td class=\"conflict\">4</td><td class=\"conflict\">5</td><td class=\"conflict\">4</td></tr><tr><td class=\"conflict\">4</td><td class=\"conflict\">4</td><td class=\"conflict\">3</td><td class=\"conflict\">4</td><td class=\"conflict\">5</td><td class=\"conflict\">2</td><td class=\"conflict\">5</td><td class=\"conflict\">4</td></tr></table>"
      ],
      "text/plain": [
       "<IPython.core.display.HTML object>"
      ]
     },
     "metadata": {},
     "output_type": "display_data"
    },
    {
     "name": "stdout",
     "output_type": "stream",
     "text": [
      "55 \t column 6 Queen, row 5 to 2\n"
     ]
    },
    {
     "data": {
      "text/html": [
       "\n",
       "    <style>\n",
       "        table { border-collapse: collapse; font-family: Arial, sans-serif; }\n",
       "        td { border: 1px solid black; height: 40px; width: 40px; text-align: center; font-size: 18px; }\n",
       "        .queen { background-color: #f4cccc; font-weight: bold; color: black; }\n",
       "        .conflict { background-color: #f9f9f9; color: gray; }\n",
       "    </style>\n",
       "    <table>\n",
       "    <tr><td class=\"conflict\">6</td><td class=\"queen\">Q 4</td><td class=\"queen\">Q 4</td><td class=\"conflict\">6</td><td class=\"conflict\">8</td><td class=\"conflict\">5</td><td class=\"conflict\">7</td><td class=\"conflict\">6</td></tr><tr><td class=\"conflict\">7</td><td class=\"conflict\">7</td><td class=\"conflict\">6</td><td class=\"conflict\">7</td><td class=\"conflict\">7</td><td class=\"queen\">Q 4</td><td class=\"queen\">Q 4</td><td class=\"conflict\">5</td></tr><tr><td class=\"conflict\">4</td><td class=\"conflict\">4</td><td class=\"conflict\">5</td><td class=\"conflict\">4</td><td class=\"conflict\">7</td><td class=\"conflict\">4</td><td class=\"conflict\">4</td><td class=\"conflict\">5</td></tr><tr><td class=\"conflict\">4</td><td class=\"conflict\">5</td><td class=\"conflict\">5</td><td class=\"queen\">Q 4</td><td class=\"conflict\">7</td><td class=\"conflict\">4</td><td class=\"conflict\">6</td><td class=\"conflict\">5</td></tr><tr><td class=\"queen\">Q 4</td><td class=\"conflict\">5</td><td class=\"conflict\">7</td><td class=\"conflict\">7</td><td class=\"conflict\">7</td><td class=\"conflict\">6</td><td class=\"conflict\">6</td><td class=\"queen\">Q 4</td></tr><tr><td class=\"conflict\">4</td><td class=\"conflict\">7</td><td class=\"conflict\">5</td><td class=\"conflict\">4</td><td class=\"queen\">Q 4</td><td class=\"conflict\">4</td><td class=\"conflict\">6</td><td class=\"conflict\">5</td></tr><tr><td class=\"conflict\">5</td><td class=\"conflict\">4</td><td class=\"conflict\">4</td><td class=\"conflict\">4</td><td class=\"conflict\">4</td><td class=\"conflict\">4</td><td class=\"conflict\">4</td><td class=\"conflict\">4</td></tr><tr><td class=\"conflict\">4</td><td class=\"conflict\">3</td><td class=\"conflict\">4</td><td class=\"conflict\">4</td><td class=\"conflict\">5</td><td class=\"conflict\">2</td><td class=\"conflict\">4</td><td class=\"conflict\">4</td></tr></table>"
      ],
      "text/plain": [
       "<IPython.core.display.HTML object>"
      ]
     },
     "metadata": {},
     "output_type": "display_data"
    },
    {
     "name": "stdout",
     "output_type": "stream",
     "text": [
      "56 \t column 2 Queen, row 5 to 5\n"
     ]
    },
    {
     "data": {
      "text/html": [
       "\n",
       "    <style>\n",
       "        table { border-collapse: collapse; font-family: Arial, sans-serif; }\n",
       "        td { border: 1px solid black; height: 40px; width: 40px; text-align: center; font-size: 18px; }\n",
       "        .queen { background-color: #f4cccc; font-weight: bold; color: black; }\n",
       "        .conflict { background-color: #f9f9f9; color: gray; }\n",
       "    </style>\n",
       "    <table>\n",
       "    <tr><td class=\"conflict\">5</td><td class=\"conflict\">4</td><td class=\"queen\">Q 5</td><td class=\"conflict\">6</td><td class=\"conflict\">8</td><td class=\"conflict\">6</td><td class=\"conflict\">7</td><td class=\"conflict\">5</td></tr><tr><td class=\"conflict\">6</td><td class=\"conflict\">7</td><td class=\"conflict\">7</td><td class=\"conflict\">8</td><td class=\"conflict\">9</td><td class=\"queen\">Q 5</td><td class=\"queen\">Q 5</td><td class=\"conflict\">5</td></tr><tr><td class=\"conflict\">4</td><td class=\"conflict\">4</td><td class=\"conflict\">7</td><td class=\"conflict\">5</td><td class=\"conflict\">8</td><td class=\"conflict\">5</td><td class=\"conflict\">5</td><td class=\"conflict\">5</td></tr><tr><td class=\"conflict\">5</td><td class=\"conflict\">5</td><td class=\"conflict\">8</td><td class=\"queen\">Q 5</td><td class=\"conflict\">7</td><td class=\"conflict\">5</td><td class=\"conflict\">7</td><td class=\"conflict\">5</td></tr><tr><td class=\"queen\">Q 5</td><td class=\"queen\">Q 5</td><td class=\"conflict\">10</td><td class=\"conflict\">9</td><td class=\"conflict\">9</td><td class=\"conflict\">7</td><td class=\"conflict\">8</td><td class=\"queen\">Q 5</td></tr><tr><td class=\"conflict\">5</td><td class=\"conflict\">7</td><td class=\"conflict\">8</td><td class=\"conflict\">5</td><td class=\"queen\">Q 5</td><td class=\"conflict\">5</td><td class=\"conflict\">6</td><td class=\"conflict\">5</td></tr><tr><td class=\"conflict\">5</td><td class=\"conflict\">4</td><td class=\"conflict\">6</td><td class=\"conflict\">6</td><td class=\"conflict\">5</td><td class=\"conflict\">5</td><td class=\"conflict\">5</td><td class=\"conflict\">3</td></tr><tr><td class=\"conflict\">4</td><td class=\"conflict\">3</td><td class=\"conflict\">6</td><td class=\"conflict\">5</td><td class=\"conflict\">7</td><td class=\"conflict\">3</td><td class=\"conflict\">5</td><td class=\"conflict\">4</td></tr></table>"
      ],
      "text/plain": [
       "<IPython.core.display.HTML object>"
      ]
     },
     "metadata": {},
     "output_type": "display_data"
    },
    {
     "name": "stdout",
     "output_type": "stream",
     "text": [
      "57 \t column 2 Queen, row 5 to 8\n"
     ]
    },
    {
     "data": {
      "text/html": [
       "\n",
       "    <style>\n",
       "        table { border-collapse: collapse; font-family: Arial, sans-serif; }\n",
       "        td { border: 1px solid black; height: 40px; width: 40px; text-align: center; font-size: 18px; }\n",
       "        .queen { background-color: #f4cccc; font-weight: bold; color: black; }\n",
       "        .conflict { background-color: #f9f9f9; color: gray; }\n",
       "    </style>\n",
       "    <table>\n",
       "    <tr><td class=\"conflict\">4</td><td class=\"conflict\">4</td><td class=\"queen\">Q 3</td><td class=\"conflict\">4</td><td class=\"conflict\">6</td><td class=\"conflict\">3</td><td class=\"conflict\">5</td><td class=\"conflict\">4</td></tr><tr><td class=\"conflict\">5</td><td class=\"conflict\">7</td><td class=\"conflict\">5</td><td class=\"conflict\">6</td><td class=\"conflict\">6</td><td class=\"queen\">Q 3</td><td class=\"queen\">Q 3</td><td class=\"conflict\">5</td></tr><tr><td class=\"conflict\">3</td><td class=\"conflict\">4</td><td class=\"conflict\">5</td><td class=\"conflict\">2</td><td class=\"conflict\">6</td><td class=\"conflict\">3</td><td class=\"conflict\">4</td><td class=\"conflict\">4</td></tr><tr><td class=\"conflict\">3</td><td class=\"conflict\">5</td><td class=\"conflict\">5</td><td class=\"queen\">Q 3</td><td class=\"conflict\">5</td><td class=\"conflict\">4</td><td class=\"conflict\">5</td><td class=\"conflict\">4</td></tr><tr><td class=\"queen\">Q 3</td><td class=\"conflict\">5</td><td class=\"conflict\">7</td><td class=\"conflict\">6</td><td class=\"conflict\">7</td><td class=\"conflict\">4</td><td class=\"conflict\">5</td><td class=\"queen\">Q 3</td></tr><tr><td class=\"conflict\">3</td><td class=\"conflict\">7</td><td class=\"conflict\">5</td><td class=\"conflict\">4</td><td class=\"queen\">Q 3</td><td class=\"conflict\">3</td><td class=\"conflict\">4</td><td class=\"conflict\">4</td></tr><tr><td class=\"conflict\">5</td><td class=\"conflict\">4</td><td class=\"conflict\">5</td><td class=\"conflict\">3</td><td class=\"conflict\">3</td><td class=\"conflict\">3</td><td class=\"conflict\">3</td><td class=\"conflict\">2</td></tr><tr><td class=\"conflict\">4</td><td class=\"queen\">Q 3</td><td class=\"conflict\">5</td><td class=\"conflict\">4</td><td class=\"conflict\">5</td><td class=\"conflict\">2</td><td class=\"conflict\">4</td><td class=\"conflict\">4</td></tr></table>"
      ],
      "text/plain": [
       "<IPython.core.display.HTML object>"
      ]
     },
     "metadata": {},
     "output_type": "display_data"
    },
    {
     "name": "stdout",
     "output_type": "stream",
     "text": [
      "58 \t column 6 Queen, row 5 to 8\n"
     ]
    },
    {
     "data": {
      "text/html": [
       "\n",
       "    <style>\n",
       "        table { border-collapse: collapse; font-family: Arial, sans-serif; }\n",
       "        td { border: 1px solid black; height: 40px; width: 40px; text-align: center; font-size: 18px; }\n",
       "        .queen { background-color: #f4cccc; font-weight: bold; color: black; }\n",
       "        .conflict { background-color: #f9f9f9; color: gray; }\n",
       "    </style>\n",
       "    <table>\n",
       "    <tr><td class=\"conflict\">3</td><td class=\"conflict\">2</td><td class=\"queen\">Q 2</td><td class=\"conflict\">4</td><td class=\"conflict\">4</td><td class=\"conflict\">3</td><td class=\"conflict\">4</td><td class=\"conflict\">3</td></tr><tr><td class=\"conflict\">3</td><td class=\"conflict\">4</td><td class=\"conflict\">3</td><td class=\"conflict\">5</td><td class=\"conflict\">4</td><td class=\"conflict\">3</td><td class=\"queen\">Q 2</td><td class=\"conflict\">3</td></tr><tr><td class=\"conflict\">3</td><td class=\"conflict\">2</td><td class=\"conflict\">4</td><td class=\"conflict\">2</td><td class=\"conflict\">4</td><td class=\"conflict\">3</td><td class=\"conflict\">3</td><td class=\"conflict\">3</td></tr><tr><td class=\"conflict\">2</td><td class=\"conflict\">4</td><td class=\"conflict\">4</td><td class=\"queen\">Q 2</td><td class=\"conflict\">4</td><td class=\"conflict\">4</td><td class=\"conflict\">5</td><td class=\"conflict\">2</td></tr><tr><td class=\"queen\">Q 2</td><td class=\"conflict\">3</td><td class=\"conflict\">6</td><td class=\"conflict\">6</td><td class=\"conflict\">6</td><td class=\"conflict\">4</td><td class=\"conflict\">5</td><td class=\"queen\">Q 2</td></tr><tr><td class=\"conflict\">2</td><td class=\"conflict\">4</td><td class=\"conflict\">4</td><td class=\"conflict\">5</td><td class=\"queen\">Q 2</td><td class=\"conflict\">3</td><td class=\"conflict\">4</td><td class=\"conflict\">4</td></tr><tr><td class=\"conflict\">3</td><td class=\"conflict\">2</td><td class=\"conflict\">4</td><td class=\"conflict\">3</td><td class=\"conflict\">3</td><td class=\"conflict\">3</td><td class=\"conflict\">4</td><td class=\"conflict\">1</td></tr><tr><td class=\"conflict\">4</td><td class=\"queen\">Q 2</td><td class=\"conflict\">5</td><td class=\"conflict\">5</td><td class=\"conflict\">5</td><td class=\"queen\">Q 2</td><td class=\"conflict\">5</td><td class=\"conflict\">4</td></tr></table>"
      ],
      "text/plain": [
       "<IPython.core.display.HTML object>"
      ]
     },
     "metadata": {},
     "output_type": "display_data"
    },
    {
     "name": "stdout",
     "output_type": "stream",
     "text": [
      "59 \t column 1 Queen, row 5 to 4\n"
     ]
    },
    {
     "data": {
      "text/html": [
       "\n",
       "    <style>\n",
       "        table { border-collapse: collapse; font-family: Arial, sans-serif; }\n",
       "        td { border: 1px solid black; height: 40px; width: 40px; text-align: center; font-size: 18px; }\n",
       "        .queen { background-color: #f4cccc; font-weight: bold; color: black; }\n",
       "        .conflict { background-color: #f9f9f9; color: gray; }\n",
       "    </style>\n",
       "    <table>\n",
       "    <tr><td class=\"conflict\">3</td><td class=\"conflict\">2</td><td class=\"queen\">Q 2</td><td class=\"conflict\">4</td><td class=\"conflict\">3</td><td class=\"conflict\">3</td><td class=\"conflict\">4</td><td class=\"conflict\">4</td></tr><tr><td class=\"conflict\">3</td><td class=\"conflict\">4</td><td class=\"conflict\">4</td><td class=\"conflict\">3</td><td class=\"conflict\">4</td><td class=\"conflict\">3</td><td class=\"queen\">Q 2</td><td class=\"conflict\">4</td></tr><tr><td class=\"conflict\">3</td><td class=\"conflict\">3</td><td class=\"conflict\">3</td><td class=\"conflict\">1</td><td class=\"conflict\">4</td><td class=\"conflict\">3</td><td class=\"conflict\">3</td><td class=\"conflict\">4</td></tr><tr><td class=\"queen\">Q 2</td><td class=\"conflict\">4</td><td class=\"conflict\">5</td><td class=\"queen\">Q 2</td><td class=\"conflict\">5</td><td class=\"conflict\">5</td><td class=\"conflict\">6</td><td class=\"conflict\">4</td></tr><tr><td class=\"conflict\">2</td><td class=\"conflict\">3</td><td class=\"conflict\">5</td><td class=\"conflict\">4</td><td class=\"conflict\">5</td><td class=\"conflict\">3</td><td class=\"conflict\">4</td><td class=\"queen\">Q 2</td></tr><tr><td class=\"conflict\">2</td><td class=\"conflict\">3</td><td class=\"conflict\">5</td><td class=\"conflict\">4</td><td class=\"queen\">Q 2</td><td class=\"conflict\">3</td><td class=\"conflict\">4</td><td class=\"conflict\">5</td></tr><tr><td class=\"conflict\">3</td><td class=\"conflict\">2</td><td class=\"conflict\">3</td><td class=\"conflict\">3</td><td class=\"conflict\">3</td><td class=\"conflict\">3</td><td class=\"conflict\">4</td><td class=\"conflict\">2</td></tr><tr><td class=\"conflict\">4</td><td class=\"queen\">Q 2</td><td class=\"conflict\">5</td><td class=\"conflict\">3</td><td class=\"conflict\">6</td><td class=\"queen\">Q 2</td><td class=\"conflict\">5</td><td class=\"conflict\">5</td></tr></table>"
      ],
      "text/plain": [
       "<IPython.core.display.HTML object>"
      ]
     },
     "metadata": {},
     "output_type": "display_data"
    },
    {
     "name": "stdout",
     "output_type": "stream",
     "text": [
      "60 \t column 7 Queen, row 5 to 2\n"
     ]
    },
    {
     "data": {
      "text/html": [
       "\n",
       "    <style>\n",
       "        table { border-collapse: collapse; font-family: Arial, sans-serif; }\n",
       "        td { border: 1px solid black; height: 40px; width: 40px; text-align: center; font-size: 18px; }\n",
       "        .queen { background-color: #f4cccc; font-weight: bold; color: black; }\n",
       "        .conflict { background-color: #f9f9f9; color: gray; }\n",
       "    </style>\n",
       "    <table>\n",
       "    <tr><td class=\"conflict\">3</td><td class=\"conflict\">2</td><td class=\"queen\">Q 2</td><td class=\"conflict\">4</td><td class=\"conflict\">3</td><td class=\"conflict\">3</td><td class=\"conflict\">4</td><td class=\"conflict\">4</td></tr><tr><td class=\"conflict\">3</td><td class=\"conflict\">4</td><td class=\"conflict\">4</td><td class=\"conflict\">3</td><td class=\"conflict\">4</td><td class=\"conflict\">3</td><td class=\"queen\">Q 2</td><td class=\"conflict\">4</td></tr><tr><td class=\"conflict\">3</td><td class=\"conflict\">3</td><td class=\"conflict\">3</td><td class=\"conflict\">1</td><td class=\"conflict\">4</td><td class=\"conflict\">3</td><td class=\"conflict\">3</td><td class=\"conflict\">4</td></tr><tr><td class=\"queen\">Q 2</td><td class=\"conflict\">4</td><td class=\"conflict\">5</td><td class=\"queen\">Q 2</td><td class=\"conflict\">5</td><td class=\"conflict\">5</td><td class=\"conflict\">6</td><td class=\"conflict\">4</td></tr><tr><td class=\"conflict\">2</td><td class=\"conflict\">3</td><td class=\"conflict\">5</td><td class=\"conflict\">4</td><td class=\"conflict\">5</td><td class=\"conflict\">3</td><td class=\"conflict\">4</td><td class=\"queen\">Q 2</td></tr><tr><td class=\"conflict\">2</td><td class=\"conflict\">3</td><td class=\"conflict\">5</td><td class=\"conflict\">4</td><td class=\"queen\">Q 2</td><td class=\"conflict\">3</td><td class=\"conflict\">4</td><td class=\"conflict\">5</td></tr><tr><td class=\"conflict\">3</td><td class=\"conflict\">2</td><td class=\"conflict\">3</td><td class=\"conflict\">3</td><td class=\"conflict\">3</td><td class=\"conflict\">3</td><td class=\"conflict\">4</td><td class=\"conflict\">2</td></tr><tr><td class=\"conflict\">4</td><td class=\"queen\">Q 2</td><td class=\"conflict\">5</td><td class=\"conflict\">3</td><td class=\"conflict\">6</td><td class=\"queen\">Q 2</td><td class=\"conflict\">5</td><td class=\"conflict\">5</td></tr></table>"
      ],
      "text/plain": [
       "<IPython.core.display.HTML object>"
      ]
     },
     "metadata": {},
     "output_type": "display_data"
    },
    {
     "name": "stdout",
     "output_type": "stream",
     "text": [
      "61 \t column 6 Queen, row 5 to 8\n"
     ]
    },
    {
     "data": {
      "text/html": [
       "\n",
       "    <style>\n",
       "        table { border-collapse: collapse; font-family: Arial, sans-serif; }\n",
       "        td { border: 1px solid black; height: 40px; width: 40px; text-align: center; font-size: 18px; }\n",
       "        .queen { background-color: #f4cccc; font-weight: bold; color: black; }\n",
       "        .conflict { background-color: #f9f9f9; color: gray; }\n",
       "    </style>\n",
       "    <table>\n",
       "    <tr><td class=\"conflict\">3</td><td class=\"conflict\">2</td><td class=\"queen\">Q 2</td><td class=\"conflict\">4</td><td class=\"conflict\">3</td><td class=\"conflict\">3</td><td class=\"conflict\">4</td><td class=\"conflict\">4</td></tr><tr><td class=\"conflict\">3</td><td class=\"conflict\">4</td><td class=\"conflict\">4</td><td class=\"conflict\">3</td><td class=\"conflict\">4</td><td class=\"conflict\">3</td><td class=\"queen\">Q 2</td><td class=\"conflict\">4</td></tr><tr><td class=\"conflict\">3</td><td class=\"conflict\">3</td><td class=\"conflict\">3</td><td class=\"conflict\">1</td><td class=\"conflict\">4</td><td class=\"conflict\">3</td><td class=\"conflict\">3</td><td class=\"conflict\">4</td></tr><tr><td class=\"queen\">Q 2</td><td class=\"conflict\">4</td><td class=\"conflict\">5</td><td class=\"queen\">Q 2</td><td class=\"conflict\">5</td><td class=\"conflict\">5</td><td class=\"conflict\">6</td><td class=\"conflict\">4</td></tr><tr><td class=\"conflict\">2</td><td class=\"conflict\">3</td><td class=\"conflict\">5</td><td class=\"conflict\">4</td><td class=\"conflict\">5</td><td class=\"conflict\">3</td><td class=\"conflict\">4</td><td class=\"queen\">Q 2</td></tr><tr><td class=\"conflict\">2</td><td class=\"conflict\">3</td><td class=\"conflict\">5</td><td class=\"conflict\">4</td><td class=\"queen\">Q 2</td><td class=\"conflict\">3</td><td class=\"conflict\">4</td><td class=\"conflict\">5</td></tr><tr><td class=\"conflict\">3</td><td class=\"conflict\">2</td><td class=\"conflict\">3</td><td class=\"conflict\">3</td><td class=\"conflict\">3</td><td class=\"conflict\">3</td><td class=\"conflict\">4</td><td class=\"conflict\">2</td></tr><tr><td class=\"conflict\">4</td><td class=\"queen\">Q 2</td><td class=\"conflict\">5</td><td class=\"conflict\">3</td><td class=\"conflict\">6</td><td class=\"queen\">Q 2</td><td class=\"conflict\">5</td><td class=\"conflict\">5</td></tr></table>"
      ],
      "text/plain": [
       "<IPython.core.display.HTML object>"
      ]
     },
     "metadata": {},
     "output_type": "display_data"
    },
    {
     "name": "stdout",
     "output_type": "stream",
     "text": [
      "62 \t column 2 Queen, row 5 to 8\n"
     ]
    },
    {
     "data": {
      "text/html": [
       "\n",
       "    <style>\n",
       "        table { border-collapse: collapse; font-family: Arial, sans-serif; }\n",
       "        td { border: 1px solid black; height: 40px; width: 40px; text-align: center; font-size: 18px; }\n",
       "        .queen { background-color: #f4cccc; font-weight: bold; color: black; }\n",
       "        .conflict { background-color: #f9f9f9; color: gray; }\n",
       "    </style>\n",
       "    <table>\n",
       "    <tr><td class=\"conflict\">3</td><td class=\"conflict\">2</td><td class=\"queen\">Q 2</td><td class=\"conflict\">4</td><td class=\"conflict\">3</td><td class=\"conflict\">3</td><td class=\"conflict\">4</td><td class=\"conflict\">4</td></tr><tr><td class=\"conflict\">3</td><td class=\"conflict\">4</td><td class=\"conflict\">4</td><td class=\"conflict\">3</td><td class=\"conflict\">4</td><td class=\"conflict\">3</td><td class=\"queen\">Q 2</td><td class=\"conflict\">4</td></tr><tr><td class=\"conflict\">3</td><td class=\"conflict\">3</td><td class=\"conflict\">3</td><td class=\"conflict\">1</td><td class=\"conflict\">4</td><td class=\"conflict\">3</td><td class=\"conflict\">3</td><td class=\"conflict\">4</td></tr><tr><td class=\"queen\">Q 2</td><td class=\"conflict\">4</td><td class=\"conflict\">5</td><td class=\"queen\">Q 2</td><td class=\"conflict\">5</td><td class=\"conflict\">5</td><td class=\"conflict\">6</td><td class=\"conflict\">4</td></tr><tr><td class=\"conflict\">2</td><td class=\"conflict\">3</td><td class=\"conflict\">5</td><td class=\"conflict\">4</td><td class=\"conflict\">5</td><td class=\"conflict\">3</td><td class=\"conflict\">4</td><td class=\"queen\">Q 2</td></tr><tr><td class=\"conflict\">2</td><td class=\"conflict\">3</td><td class=\"conflict\">5</td><td class=\"conflict\">4</td><td class=\"queen\">Q 2</td><td class=\"conflict\">3</td><td class=\"conflict\">4</td><td class=\"conflict\">5</td></tr><tr><td class=\"conflict\">3</td><td class=\"conflict\">2</td><td class=\"conflict\">3</td><td class=\"conflict\">3</td><td class=\"conflict\">3</td><td class=\"conflict\">3</td><td class=\"conflict\">4</td><td class=\"conflict\">2</td></tr><tr><td class=\"conflict\">4</td><td class=\"queen\">Q 2</td><td class=\"conflict\">5</td><td class=\"conflict\">3</td><td class=\"conflict\">6</td><td class=\"queen\">Q 2</td><td class=\"conflict\">5</td><td class=\"conflict\">5</td></tr></table>"
      ],
      "text/plain": [
       "<IPython.core.display.HTML object>"
      ]
     },
     "metadata": {},
     "output_type": "display_data"
    },
    {
     "name": "stdout",
     "output_type": "stream",
     "text": [
      "63 \t column 1 Queen, row 5 to 4\n"
     ]
    },
    {
     "data": {
      "text/html": [
       "\n",
       "    <style>\n",
       "        table { border-collapse: collapse; font-family: Arial, sans-serif; }\n",
       "        td { border: 1px solid black; height: 40px; width: 40px; text-align: center; font-size: 18px; }\n",
       "        .queen { background-color: #f4cccc; font-weight: bold; color: black; }\n",
       "        .conflict { background-color: #f9f9f9; color: gray; }\n",
       "    </style>\n",
       "    <table>\n",
       "    <tr><td class=\"conflict\">3</td><td class=\"conflict\">2</td><td class=\"queen\">Q 2</td><td class=\"conflict\">4</td><td class=\"conflict\">3</td><td class=\"conflict\">3</td><td class=\"conflict\">4</td><td class=\"conflict\">4</td></tr><tr><td class=\"conflict\">3</td><td class=\"conflict\">4</td><td class=\"conflict\">4</td><td class=\"conflict\">3</td><td class=\"conflict\">4</td><td class=\"conflict\">3</td><td class=\"queen\">Q 2</td><td class=\"conflict\">4</td></tr><tr><td class=\"conflict\">3</td><td class=\"conflict\">3</td><td class=\"conflict\">3</td><td class=\"conflict\">1</td><td class=\"conflict\">4</td><td class=\"conflict\">3</td><td class=\"conflict\">3</td><td class=\"conflict\">4</td></tr><tr><td class=\"queen\">Q 2</td><td class=\"conflict\">4</td><td class=\"conflict\">5</td><td class=\"queen\">Q 2</td><td class=\"conflict\">5</td><td class=\"conflict\">5</td><td class=\"conflict\">6</td><td class=\"conflict\">4</td></tr><tr><td class=\"conflict\">2</td><td class=\"conflict\">3</td><td class=\"conflict\">5</td><td class=\"conflict\">4</td><td class=\"conflict\">5</td><td class=\"conflict\">3</td><td class=\"conflict\">4</td><td class=\"queen\">Q 2</td></tr><tr><td class=\"conflict\">2</td><td class=\"conflict\">3</td><td class=\"conflict\">5</td><td class=\"conflict\">4</td><td class=\"queen\">Q 2</td><td class=\"conflict\">3</td><td class=\"conflict\">4</td><td class=\"conflict\">5</td></tr><tr><td class=\"conflict\">3</td><td class=\"conflict\">2</td><td class=\"conflict\">3</td><td class=\"conflict\">3</td><td class=\"conflict\">3</td><td class=\"conflict\">3</td><td class=\"conflict\">4</td><td class=\"conflict\">2</td></tr><tr><td class=\"conflict\">4</td><td class=\"queen\">Q 2</td><td class=\"conflict\">5</td><td class=\"conflict\">3</td><td class=\"conflict\">6</td><td class=\"queen\">Q 2</td><td class=\"conflict\">5</td><td class=\"conflict\">5</td></tr></table>"
      ],
      "text/plain": [
       "<IPython.core.display.HTML object>"
      ]
     },
     "metadata": {},
     "output_type": "display_data"
    },
    {
     "name": "stdout",
     "output_type": "stream",
     "text": [
      "64 \t column 8 Queen, row 5 to 5\n"
     ]
    },
    {
     "data": {
      "text/html": [
       "\n",
       "    <style>\n",
       "        table { border-collapse: collapse; font-family: Arial, sans-serif; }\n",
       "        td { border: 1px solid black; height: 40px; width: 40px; text-align: center; font-size: 18px; }\n",
       "        .queen { background-color: #f4cccc; font-weight: bold; color: black; }\n",
       "        .conflict { background-color: #f9f9f9; color: gray; }\n",
       "    </style>\n",
       "    <table>\n",
       "    <tr><td class=\"conflict\">3</td><td class=\"conflict\">2</td><td class=\"queen\">Q 2</td><td class=\"conflict\">4</td><td class=\"conflict\">3</td><td class=\"conflict\">3</td><td class=\"conflict\">4</td><td class=\"conflict\">4</td></tr><tr><td class=\"conflict\">3</td><td class=\"conflict\">4</td><td class=\"conflict\">4</td><td class=\"conflict\">3</td><td class=\"conflict\">4</td><td class=\"conflict\">3</td><td class=\"queen\">Q 2</td><td class=\"conflict\">4</td></tr><tr><td class=\"conflict\">3</td><td class=\"conflict\">3</td><td class=\"conflict\">3</td><td class=\"conflict\">1</td><td class=\"conflict\">4</td><td class=\"conflict\">3</td><td class=\"conflict\">3</td><td class=\"conflict\">4</td></tr><tr><td class=\"queen\">Q 2</td><td class=\"conflict\">4</td><td class=\"conflict\">5</td><td class=\"queen\">Q 2</td><td class=\"conflict\">5</td><td class=\"conflict\">5</td><td class=\"conflict\">6</td><td class=\"conflict\">4</td></tr><tr><td class=\"conflict\">2</td><td class=\"conflict\">3</td><td class=\"conflict\">5</td><td class=\"conflict\">4</td><td class=\"conflict\">5</td><td class=\"conflict\">3</td><td class=\"conflict\">4</td><td class=\"queen\">Q 2</td></tr><tr><td class=\"conflict\">2</td><td class=\"conflict\">3</td><td class=\"conflict\">5</td><td class=\"conflict\">4</td><td class=\"queen\">Q 2</td><td class=\"conflict\">3</td><td class=\"conflict\">4</td><td class=\"conflict\">5</td></tr><tr><td class=\"conflict\">3</td><td class=\"conflict\">2</td><td class=\"conflict\">3</td><td class=\"conflict\">3</td><td class=\"conflict\">3</td><td class=\"conflict\">3</td><td class=\"conflict\">4</td><td class=\"conflict\">2</td></tr><tr><td class=\"conflict\">4</td><td class=\"queen\">Q 2</td><td class=\"conflict\">5</td><td class=\"conflict\">3</td><td class=\"conflict\">6</td><td class=\"queen\">Q 2</td><td class=\"conflict\">5</td><td class=\"conflict\">5</td></tr></table>"
      ],
      "text/plain": [
       "<IPython.core.display.HTML object>"
      ]
     },
     "metadata": {},
     "output_type": "display_data"
    },
    {
     "name": "stdout",
     "output_type": "stream",
     "text": [
      "65 \t column 4 Queen, row 5 to 4\n"
     ]
    },
    {
     "data": {
      "text/html": [
       "\n",
       "    <style>\n",
       "        table { border-collapse: collapse; font-family: Arial, sans-serif; }\n",
       "        td { border: 1px solid black; height: 40px; width: 40px; text-align: center; font-size: 18px; }\n",
       "        .queen { background-color: #f4cccc; font-weight: bold; color: black; }\n",
       "        .conflict { background-color: #f9f9f9; color: gray; }\n",
       "    </style>\n",
       "    <table>\n",
       "    <tr><td class=\"conflict\">3</td><td class=\"conflict\">2</td><td class=\"queen\">Q 2</td><td class=\"conflict\">4</td><td class=\"conflict\">3</td><td class=\"conflict\">3</td><td class=\"conflict\">4</td><td class=\"conflict\">4</td></tr><tr><td class=\"conflict\">3</td><td class=\"conflict\">4</td><td class=\"conflict\">4</td><td class=\"conflict\">3</td><td class=\"conflict\">4</td><td class=\"conflict\">3</td><td class=\"queen\">Q 2</td><td class=\"conflict\">4</td></tr><tr><td class=\"conflict\">3</td><td class=\"conflict\">3</td><td class=\"conflict\">3</td><td class=\"conflict\">1</td><td class=\"conflict\">4</td><td class=\"conflict\">3</td><td class=\"conflict\">3</td><td class=\"conflict\">4</td></tr><tr><td class=\"queen\">Q 2</td><td class=\"conflict\">4</td><td class=\"conflict\">5</td><td class=\"queen\">Q 2</td><td class=\"conflict\">5</td><td class=\"conflict\">5</td><td class=\"conflict\">6</td><td class=\"conflict\">4</td></tr><tr><td class=\"conflict\">2</td><td class=\"conflict\">3</td><td class=\"conflict\">5</td><td class=\"conflict\">4</td><td class=\"conflict\">5</td><td class=\"conflict\">3</td><td class=\"conflict\">4</td><td class=\"queen\">Q 2</td></tr><tr><td class=\"conflict\">2</td><td class=\"conflict\">3</td><td class=\"conflict\">5</td><td class=\"conflict\">4</td><td class=\"queen\">Q 2</td><td class=\"conflict\">3</td><td class=\"conflict\">4</td><td class=\"conflict\">5</td></tr><tr><td class=\"conflict\">3</td><td class=\"conflict\">2</td><td class=\"conflict\">3</td><td class=\"conflict\">3</td><td class=\"conflict\">3</td><td class=\"conflict\">3</td><td class=\"conflict\">4</td><td class=\"conflict\">2</td></tr><tr><td class=\"conflict\">4</td><td class=\"queen\">Q 2</td><td class=\"conflict\">5</td><td class=\"conflict\">3</td><td class=\"conflict\">6</td><td class=\"queen\">Q 2</td><td class=\"conflict\">5</td><td class=\"conflict\">5</td></tr></table>"
      ],
      "text/plain": [
       "<IPython.core.display.HTML object>"
      ]
     },
     "metadata": {},
     "output_type": "display_data"
    },
    {
     "name": "stdout",
     "output_type": "stream",
     "text": [
      "66 \t column 6 Queen, row 5 to 2\n"
     ]
    },
    {
     "data": {
      "text/html": [
       "\n",
       "    <style>\n",
       "        table { border-collapse: collapse; font-family: Arial, sans-serif; }\n",
       "        td { border: 1px solid black; height: 40px; width: 40px; text-align: center; font-size: 18px; }\n",
       "        .queen { background-color: #f4cccc; font-weight: bold; color: black; }\n",
       "        .conflict { background-color: #f9f9f9; color: gray; }\n",
       "    </style>\n",
       "    <table>\n",
       "    <tr><td class=\"conflict\">4</td><td class=\"conflict\">4</td><td class=\"queen\">Q 3</td><td class=\"conflict\">4</td><td class=\"conflict\">5</td><td class=\"conflict\">3</td><td class=\"conflict\">5</td><td class=\"conflict\">5</td></tr><tr><td class=\"conflict\">5</td><td class=\"conflict\">7</td><td class=\"conflict\">6</td><td class=\"conflict\">4</td><td class=\"conflict\">6</td><td class=\"queen\">Q 3</td><td class=\"queen\">Q 3</td><td class=\"conflict\">6</td></tr><tr><td class=\"conflict\">3</td><td class=\"conflict\">5</td><td class=\"conflict\">4</td><td class=\"conflict\">1</td><td class=\"conflict\">6</td><td class=\"conflict\">3</td><td class=\"conflict\">4</td><td class=\"conflict\">5</td></tr><tr><td class=\"queen\">Q 3</td><td class=\"conflict\">5</td><td class=\"conflict\">6</td><td class=\"queen\">Q 3</td><td class=\"conflict\">6</td><td class=\"conflict\">5</td><td class=\"conflict\">6</td><td class=\"conflict\">6</td></tr><tr><td class=\"conflict\">3</td><td class=\"conflict\">5</td><td class=\"conflict\">6</td><td class=\"conflict\">4</td><td class=\"conflict\">6</td><td class=\"conflict\">3</td><td class=\"conflict\">4</td><td class=\"queen\">Q 3</td></tr><tr><td class=\"conflict\">3</td><td class=\"conflict\">6</td><td class=\"conflict\">6</td><td class=\"conflict\">3</td><td class=\"queen\">Q 3</td><td class=\"conflict\">3</td><td class=\"conflict\">4</td><td class=\"conflict\">5</td></tr><tr><td class=\"conflict\">5</td><td class=\"conflict\">4</td><td class=\"conflict\">4</td><td class=\"conflict\">3</td><td class=\"conflict\">3</td><td class=\"conflict\">3</td><td class=\"conflict\">3</td><td class=\"conflict\">3</td></tr><tr><td class=\"conflict\">4</td><td class=\"queen\">Q 3</td><td class=\"conflict\">5</td><td class=\"conflict\">2</td><td class=\"conflict\">6</td><td class=\"conflict\">2</td><td class=\"conflict\">4</td><td class=\"conflict\">5</td></tr></table>"
      ],
      "text/plain": [
       "<IPython.core.display.HTML object>"
      ]
     },
     "metadata": {},
     "output_type": "display_data"
    },
    {
     "name": "stdout",
     "output_type": "stream",
     "text": [
      "67 \t column 2 Queen, row 5 to 8\n"
     ]
    },
    {
     "data": {
      "text/html": [
       "\n",
       "    <style>\n",
       "        table { border-collapse: collapse; font-family: Arial, sans-serif; }\n",
       "        td { border: 1px solid black; height: 40px; width: 40px; text-align: center; font-size: 18px; }\n",
       "        .queen { background-color: #f4cccc; font-weight: bold; color: black; }\n",
       "        .conflict { background-color: #f9f9f9; color: gray; }\n",
       "    </style>\n",
       "    <table>\n",
       "    <tr><td class=\"conflict\">4</td><td class=\"conflict\">4</td><td class=\"queen\">Q 3</td><td class=\"conflict\">4</td><td class=\"conflict\">5</td><td class=\"conflict\">3</td><td class=\"conflict\">5</td><td class=\"conflict\">5</td></tr><tr><td class=\"conflict\">5</td><td class=\"conflict\">7</td><td class=\"conflict\">6</td><td class=\"conflict\">4</td><td class=\"conflict\">6</td><td class=\"queen\">Q 3</td><td class=\"queen\">Q 3</td><td class=\"conflict\">6</td></tr><tr><td class=\"conflict\">3</td><td class=\"conflict\">5</td><td class=\"conflict\">4</td><td class=\"conflict\">1</td><td class=\"conflict\">6</td><td class=\"conflict\">3</td><td class=\"conflict\">4</td><td class=\"conflict\">5</td></tr><tr><td class=\"queen\">Q 3</td><td class=\"conflict\">5</td><td class=\"conflict\">6</td><td class=\"queen\">Q 3</td><td class=\"conflict\">6</td><td class=\"conflict\">5</td><td class=\"conflict\">6</td><td class=\"conflict\">6</td></tr><tr><td class=\"conflict\">3</td><td class=\"conflict\">5</td><td class=\"conflict\">6</td><td class=\"conflict\">4</td><td class=\"conflict\">6</td><td class=\"conflict\">3</td><td class=\"conflict\">4</td><td class=\"queen\">Q 3</td></tr><tr><td class=\"conflict\">3</td><td class=\"conflict\">6</td><td class=\"conflict\">6</td><td class=\"conflict\">3</td><td class=\"queen\">Q 3</td><td class=\"conflict\">3</td><td class=\"conflict\">4</td><td class=\"conflict\">5</td></tr><tr><td class=\"conflict\">5</td><td class=\"conflict\">4</td><td class=\"conflict\">4</td><td class=\"conflict\">3</td><td class=\"conflict\">3</td><td class=\"conflict\">3</td><td class=\"conflict\">3</td><td class=\"conflict\">3</td></tr><tr><td class=\"conflict\">4</td><td class=\"queen\">Q 3</td><td class=\"conflict\">5</td><td class=\"conflict\">2</td><td class=\"conflict\">6</td><td class=\"conflict\">2</td><td class=\"conflict\">4</td><td class=\"conflict\">5</td></tr></table>"
      ],
      "text/plain": [
       "<IPython.core.display.HTML object>"
      ]
     },
     "metadata": {},
     "output_type": "display_data"
    },
    {
     "name": "stdout",
     "output_type": "stream",
     "text": [
      "68 \t column 5 Queen, row 5 to 6\n"
     ]
    },
    {
     "data": {
      "text/html": [
       "\n",
       "    <style>\n",
       "        table { border-collapse: collapse; font-family: Arial, sans-serif; }\n",
       "        td { border: 1px solid black; height: 40px; width: 40px; text-align: center; font-size: 18px; }\n",
       "        .queen { background-color: #f4cccc; font-weight: bold; color: black; }\n",
       "        .conflict { background-color: #f9f9f9; color: gray; }\n",
       "    </style>\n",
       "    <table>\n",
       "    <tr><td class=\"conflict\">4</td><td class=\"conflict\">4</td><td class=\"queen\">Q 3</td><td class=\"conflict\">4</td><td class=\"conflict\">5</td><td class=\"conflict\">3</td><td class=\"conflict\">5</td><td class=\"conflict\">5</td></tr><tr><td class=\"conflict\">5</td><td class=\"conflict\">7</td><td class=\"conflict\">6</td><td class=\"conflict\">4</td><td class=\"conflict\">6</td><td class=\"queen\">Q 3</td><td class=\"queen\">Q 3</td><td class=\"conflict\">6</td></tr><tr><td class=\"conflict\">3</td><td class=\"conflict\">5</td><td class=\"conflict\">4</td><td class=\"conflict\">1</td><td class=\"conflict\">6</td><td class=\"conflict\">3</td><td class=\"conflict\">4</td><td class=\"conflict\">5</td></tr><tr><td class=\"queen\">Q 3</td><td class=\"conflict\">5</td><td class=\"conflict\">6</td><td class=\"queen\">Q 3</td><td class=\"conflict\">6</td><td class=\"conflict\">5</td><td class=\"conflict\">6</td><td class=\"conflict\">6</td></tr><tr><td class=\"conflict\">3</td><td class=\"conflict\">5</td><td class=\"conflict\">6</td><td class=\"conflict\">4</td><td class=\"conflict\">6</td><td class=\"conflict\">3</td><td class=\"conflict\">4</td><td class=\"queen\">Q 3</td></tr><tr><td class=\"conflict\">3</td><td class=\"conflict\">6</td><td class=\"conflict\">6</td><td class=\"conflict\">3</td><td class=\"queen\">Q 3</td><td class=\"conflict\">3</td><td class=\"conflict\">4</td><td class=\"conflict\">5</td></tr><tr><td class=\"conflict\">5</td><td class=\"conflict\">4</td><td class=\"conflict\">4</td><td class=\"conflict\">3</td><td class=\"conflict\">3</td><td class=\"conflict\">3</td><td class=\"conflict\">3</td><td class=\"conflict\">3</td></tr><tr><td class=\"conflict\">4</td><td class=\"queen\">Q 3</td><td class=\"conflict\">5</td><td class=\"conflict\">2</td><td class=\"conflict\">6</td><td class=\"conflict\">2</td><td class=\"conflict\">4</td><td class=\"conflict\">5</td></tr></table>"
      ],
      "text/plain": [
       "<IPython.core.display.HTML object>"
      ]
     },
     "metadata": {},
     "output_type": "display_data"
    },
    {
     "name": "stdout",
     "output_type": "stream",
     "text": [
      "69 \t column 7 Queen, row 5 to 7\n"
     ]
    },
    {
     "data": {
      "text/html": [
       "\n",
       "    <style>\n",
       "        table { border-collapse: collapse; font-family: Arial, sans-serif; }\n",
       "        td { border: 1px solid black; height: 40px; width: 40px; text-align: center; font-size: 18px; }\n",
       "        .queen { background-color: #f4cccc; font-weight: bold; color: black; }\n",
       "        .conflict { background-color: #f9f9f9; color: gray; }\n",
       "    </style>\n",
       "    <table>\n",
       "    <tr><td class=\"conflict\">5</td><td class=\"conflict\">4</td><td class=\"queen\">Q 3</td><td class=\"conflict\">3</td><td class=\"conflict\">5</td><td class=\"conflict\">3</td><td class=\"conflict\">5</td><td class=\"conflict\">4</td></tr><tr><td class=\"conflict\">4</td><td class=\"conflict\">7</td><td class=\"conflict\">5</td><td class=\"conflict\">2</td><td class=\"conflict\">5</td><td class=\"queen\">Q 3</td><td class=\"conflict\">3</td><td class=\"conflict\">5</td></tr><tr><td class=\"conflict\">3</td><td class=\"conflict\">5</td><td class=\"conflict\">5</td><td class=\"conflict\">0</td><td class=\"conflict\">6</td><td class=\"conflict\">3</td><td class=\"conflict\">4</td><td class=\"conflict\">4</td></tr><tr><td class=\"queen\">Q 3</td><td class=\"conflict\">5</td><td class=\"conflict\">6</td><td class=\"queen\">Q 3</td><td class=\"conflict\">5</td><td class=\"conflict\">6</td><td class=\"conflict\">6</td><td class=\"conflict\">6</td></tr><tr><td class=\"conflict\">3</td><td class=\"conflict\">5</td><td class=\"conflict\">6</td><td class=\"conflict\">2</td><td class=\"conflict\">7</td><td class=\"conflict\">4</td><td class=\"conflict\">4</td><td class=\"queen\">Q 3</td></tr><tr><td class=\"conflict\">3</td><td class=\"conflict\">6</td><td class=\"conflict\">5</td><td class=\"conflict\">2</td><td class=\"queen\">Q 3</td><td class=\"conflict\">5</td><td class=\"conflict\">4</td><td class=\"conflict\">6</td></tr><tr><td class=\"conflict\">6</td><td class=\"conflict\">4</td><td class=\"conflict\">5</td><td class=\"conflict\">3</td><td class=\"conflict\">4</td><td class=\"conflict\">5</td><td class=\"queen\">Q 3</td><td class=\"conflict\">4</td></tr><tr><td class=\"conflict\">3</td><td class=\"queen\">Q 3</td><td class=\"conflict\">5</td><td class=\"conflict\">1</td><td class=\"conflict\">6</td><td class=\"conflict\">4</td><td class=\"conflict\">4</td><td class=\"conflict\">6</td></tr></table>"
      ],
      "text/plain": [
       "<IPython.core.display.HTML object>"
      ]
     },
     "metadata": {},
     "output_type": "display_data"
    },
    {
     "name": "stdout",
     "output_type": "stream",
     "text": [
      "70 \t column 4 Queen, row 5 to 8\n"
     ]
    },
    {
     "data": {
      "text/html": [
       "\n",
       "    <style>\n",
       "        table { border-collapse: collapse; font-family: Arial, sans-serif; }\n",
       "        td { border: 1px solid black; height: 40px; width: 40px; text-align: center; font-size: 18px; }\n",
       "        .queen { background-color: #f4cccc; font-weight: bold; color: black; }\n",
       "        .conflict { background-color: #f9f9f9; color: gray; }\n",
       "    </style>\n",
       "    <table>\n",
       "    <tr><td class=\"conflict\">3</td><td class=\"conflict\">1</td><td class=\"queen\">Q 1</td><td class=\"conflict\">3</td><td class=\"conflict\">3</td><td class=\"conflict\">2</td><td class=\"conflict\">3</td><td class=\"conflict\">2</td></tr><tr><td class=\"conflict\">3</td><td class=\"conflict\">3</td><td class=\"conflict\">3</td><td class=\"conflict\">2</td><td class=\"conflict\">3</td><td class=\"queen\">Q 1</td><td class=\"conflict\">2</td><td class=\"conflict\">3</td></tr><tr><td class=\"conflict\">2</td><td class=\"conflict\">2</td><td class=\"conflict\">2</td><td class=\"conflict\">0</td><td class=\"conflict\">3</td><td class=\"conflict\">2</td><td class=\"conflict\">3</td><td class=\"conflict\">2</td></tr><tr><td class=\"queen\">Q 1</td><td class=\"conflict\">1</td><td class=\"conflict\">3</td><td class=\"conflict\">3</td><td class=\"conflict\">2</td><td class=\"conflict\">4</td><td class=\"conflict\">4</td><td class=\"conflict\">4</td></tr><tr><td class=\"conflict\">3</td><td class=\"conflict\">2</td><td class=\"conflict\">3</td><td class=\"conflict\">2</td><td class=\"conflict\">4</td><td class=\"conflict\">3</td><td class=\"conflict\">4</td><td class=\"queen\">Q 1</td></tr><tr><td class=\"conflict\">2</td><td class=\"conflict\">3</td><td class=\"conflict\">3</td><td class=\"conflict\">2</td><td class=\"queen\">Q 1</td><td class=\"conflict\">4</td><td class=\"conflict\">3</td><td class=\"conflict\">4</td></tr><tr><td class=\"conflict\">4</td><td class=\"conflict\">1</td><td class=\"conflict\">4</td><td class=\"conflict\">3</td><td class=\"conflict\">3</td><td class=\"conflict\">4</td><td class=\"queen\">Q 1</td><td class=\"conflict\">2</td></tr><tr><td class=\"conflict\">3</td><td class=\"queen\">Q 1</td><td class=\"conflict\">4</td><td class=\"queen\">Q 1</td><td class=\"conflict\">5</td><td class=\"conflict\">4</td><td class=\"conflict\">4</td><td class=\"conflict\">4</td></tr></table>"
      ],
      "text/plain": [
       "<IPython.core.display.HTML object>"
      ]
     },
     "metadata": {},
     "output_type": "display_data"
    },
    {
     "name": "stdout",
     "output_type": "stream",
     "text": [
      "71 \t column 2 Queen, row 5 to 1\n"
     ]
    },
    {
     "data": {
      "text/html": [
       "\n",
       "    <style>\n",
       "        table { border-collapse: collapse; font-family: Arial, sans-serif; }\n",
       "        td { border: 1px solid black; height: 40px; width: 40px; text-align: center; font-size: 18px; }\n",
       "        .queen { background-color: #f4cccc; font-weight: bold; color: black; }\n",
       "        .conflict { background-color: #f9f9f9; color: gray; }\n",
       "    </style>\n",
       "    <table>\n",
       "    <tr><td class=\"conflict\">4</td><td class=\"queen\">Q 1</td><td class=\"queen\">Q 1</td><td class=\"conflict\">5</td><td class=\"conflict\">4</td><td class=\"conflict\">3</td><td class=\"conflict\">4</td><td class=\"conflict\">3</td></tr><tr><td class=\"conflict\">4</td><td class=\"conflict\">3</td><td class=\"conflict\">3</td><td class=\"conflict\">3</td><td class=\"conflict\">3</td><td class=\"queen\">Q 1</td><td class=\"conflict\">2</td><td class=\"conflict\">2</td></tr><tr><td class=\"conflict\">2</td><td class=\"conflict\">2</td><td class=\"conflict\">1</td><td class=\"conflict\">2</td><td class=\"conflict\">3</td><td class=\"conflict\">2</td><td class=\"conflict\">2</td><td class=\"conflict\">2</td></tr><tr><td class=\"queen\">Q 1</td><td class=\"conflict\">1</td><td class=\"conflict\">2</td><td class=\"conflict\">4</td><td class=\"conflict\">3</td><td class=\"conflict\">3</td><td class=\"conflict\">4</td><td class=\"conflict\">4</td></tr><tr><td class=\"conflict\">3</td><td class=\"conflict\">2</td><td class=\"conflict\">2</td><td class=\"conflict\">3</td><td class=\"conflict\">3</td><td class=\"conflict\">4</td><td class=\"conflict\">4</td><td class=\"queen\">Q 1</td></tr><tr><td class=\"conflict\">2</td><td class=\"conflict\">3</td><td class=\"conflict\">2</td><td class=\"conflict\">2</td><td class=\"queen\">Q 1</td><td class=\"conflict\">4</td><td class=\"conflict\">4</td><td class=\"conflict\">4</td></tr><tr><td class=\"conflict\">3</td><td class=\"conflict\">1</td><td class=\"conflict\">2</td><td class=\"conflict\">4</td><td class=\"conflict\">3</td><td class=\"conflict\">4</td><td class=\"queen\">Q 1</td><td class=\"conflict\">3</td></tr><tr><td class=\"conflict\">2</td><td class=\"conflict\">1</td><td class=\"conflict\">2</td><td class=\"queen\">Q 1</td><td class=\"conflict\">4</td><td class=\"conflict\">3</td><td class=\"conflict\">3</td><td class=\"conflict\">3</td></tr></table>"
      ],
      "text/plain": [
       "<IPython.core.display.HTML object>"
      ]
     },
     "metadata": {},
     "output_type": "display_data"
    },
    {
     "name": "stdout",
     "output_type": "stream",
     "text": [
      "72 \t column 2 Queen, row 5 to 1\n"
     ]
    },
    {
     "data": {
      "text/html": [
       "\n",
       "    <style>\n",
       "        table { border-collapse: collapse; font-family: Arial, sans-serif; }\n",
       "        td { border: 1px solid black; height: 40px; width: 40px; text-align: center; font-size: 18px; }\n",
       "        .queen { background-color: #f4cccc; font-weight: bold; color: black; }\n",
       "        .conflict { background-color: #f9f9f9; color: gray; }\n",
       "    </style>\n",
       "    <table>\n",
       "    <tr><td class=\"conflict\">4</td><td class=\"queen\">Q 1</td><td class=\"queen\">Q 1</td><td class=\"conflict\">5</td><td class=\"conflict\">4</td><td class=\"conflict\">3</td><td class=\"conflict\">4</td><td class=\"conflict\">3</td></tr><tr><td class=\"conflict\">4</td><td class=\"conflict\">3</td><td class=\"conflict\">3</td><td class=\"conflict\">3</td><td class=\"conflict\">3</td><td class=\"queen\">Q 1</td><td class=\"conflict\">2</td><td class=\"conflict\">2</td></tr><tr><td class=\"conflict\">2</td><td class=\"conflict\">2</td><td class=\"conflict\">1</td><td class=\"conflict\">2</td><td class=\"conflict\">3</td><td class=\"conflict\">2</td><td class=\"conflict\">2</td><td class=\"conflict\">2</td></tr><tr><td class=\"queen\">Q 1</td><td class=\"conflict\">1</td><td class=\"conflict\">2</td><td class=\"conflict\">4</td><td class=\"conflict\">3</td><td class=\"conflict\">3</td><td class=\"conflict\">4</td><td class=\"conflict\">4</td></tr><tr><td class=\"conflict\">3</td><td class=\"conflict\">2</td><td class=\"conflict\">2</td><td class=\"conflict\">3</td><td class=\"conflict\">3</td><td class=\"conflict\">4</td><td class=\"conflict\">4</td><td class=\"queen\">Q 1</td></tr><tr><td class=\"conflict\">2</td><td class=\"conflict\">3</td><td class=\"conflict\">2</td><td class=\"conflict\">2</td><td class=\"queen\">Q 1</td><td class=\"conflict\">4</td><td class=\"conflict\">4</td><td class=\"conflict\">4</td></tr><tr><td class=\"conflict\">3</td><td class=\"conflict\">1</td><td class=\"conflict\">2</td><td class=\"conflict\">4</td><td class=\"conflict\">3</td><td class=\"conflict\">4</td><td class=\"queen\">Q 1</td><td class=\"conflict\">3</td></tr><tr><td class=\"conflict\">2</td><td class=\"conflict\">1</td><td class=\"conflict\">2</td><td class=\"queen\">Q 1</td><td class=\"conflict\">4</td><td class=\"conflict\">3</td><td class=\"conflict\">3</td><td class=\"conflict\">3</td></tr></table>"
      ],
      "text/plain": [
       "<IPython.core.display.HTML object>"
      ]
     },
     "metadata": {},
     "output_type": "display_data"
    },
    {
     "name": "stdout",
     "output_type": "stream",
     "text": [
      "73 \t column 5 Queen, row 5 to 6\n"
     ]
    },
    {
     "data": {
      "text/html": [
       "\n",
       "    <style>\n",
       "        table { border-collapse: collapse; font-family: Arial, sans-serif; }\n",
       "        td { border: 1px solid black; height: 40px; width: 40px; text-align: center; font-size: 18px; }\n",
       "        .queen { background-color: #f4cccc; font-weight: bold; color: black; }\n",
       "        .conflict { background-color: #f9f9f9; color: gray; }\n",
       "    </style>\n",
       "    <table>\n",
       "    <tr><td class=\"conflict\">4</td><td class=\"queen\">Q 1</td><td class=\"queen\">Q 1</td><td class=\"conflict\">5</td><td class=\"conflict\">4</td><td class=\"conflict\">3</td><td class=\"conflict\">4</td><td class=\"conflict\">3</td></tr><tr><td class=\"conflict\">4</td><td class=\"conflict\">3</td><td class=\"conflict\">3</td><td class=\"conflict\">3</td><td class=\"conflict\">3</td><td class=\"queen\">Q 1</td><td class=\"conflict\">2</td><td class=\"conflict\">2</td></tr><tr><td class=\"conflict\">2</td><td class=\"conflict\">2</td><td class=\"conflict\">1</td><td class=\"conflict\">2</td><td class=\"conflict\">3</td><td class=\"conflict\">2</td><td class=\"conflict\">2</td><td class=\"conflict\">2</td></tr><tr><td class=\"queen\">Q 1</td><td class=\"conflict\">1</td><td class=\"conflict\">2</td><td class=\"conflict\">4</td><td class=\"conflict\">3</td><td class=\"conflict\">3</td><td class=\"conflict\">4</td><td class=\"conflict\">4</td></tr><tr><td class=\"conflict\">3</td><td class=\"conflict\">2</td><td class=\"conflict\">2</td><td class=\"conflict\">3</td><td class=\"conflict\">3</td><td class=\"conflict\">4</td><td class=\"conflict\">4</td><td class=\"queen\">Q 1</td></tr><tr><td class=\"conflict\">2</td><td class=\"conflict\">3</td><td class=\"conflict\">2</td><td class=\"conflict\">2</td><td class=\"queen\">Q 1</td><td class=\"conflict\">4</td><td class=\"conflict\">4</td><td class=\"conflict\">4</td></tr><tr><td class=\"conflict\">3</td><td class=\"conflict\">1</td><td class=\"conflict\">2</td><td class=\"conflict\">4</td><td class=\"conflict\">3</td><td class=\"conflict\">4</td><td class=\"queen\">Q 1</td><td class=\"conflict\">3</td></tr><tr><td class=\"conflict\">2</td><td class=\"conflict\">1</td><td class=\"conflict\">2</td><td class=\"queen\">Q 1</td><td class=\"conflict\">4</td><td class=\"conflict\">3</td><td class=\"conflict\">3</td><td class=\"conflict\">3</td></tr></table>"
      ],
      "text/plain": [
       "<IPython.core.display.HTML object>"
      ]
     },
     "metadata": {},
     "output_type": "display_data"
    },
    {
     "name": "stdout",
     "output_type": "stream",
     "text": [
      "74 \t column 3 Queen, row 5 to 3\n"
     ]
    },
    {
     "data": {
      "text/html": [
       "\n",
       "    <style>\n",
       "        table { border-collapse: collapse; font-family: Arial, sans-serif; }\n",
       "        td { border: 1px solid black; height: 40px; width: 40px; text-align: center; font-size: 18px; }\n",
       "        .queen { background-color: #f4cccc; font-weight: bold; color: black; }\n",
       "        .conflict { background-color: #f9f9f9; color: gray; }\n",
       "    </style>\n",
       "    <table>\n",
       "    <tr><td class=\"conflict\">4</td><td class=\"queen\">Q 1</td><td class=\"conflict\">1</td><td class=\"conflict\">4</td><td class=\"conflict\">4</td><td class=\"conflict\">2</td><td class=\"conflict\">2</td><td class=\"conflict\">2</td></tr><tr><td class=\"conflict\">4</td><td class=\"conflict\">4</td><td class=\"conflict\">3</td><td class=\"conflict\">3</td><td class=\"conflict\">3</td><td class=\"queen\">Q 1</td><td class=\"conflict\">1</td><td class=\"conflict\">2</td></tr><tr><td class=\"conflict\">2</td><td class=\"conflict\">4</td><td class=\"queen\">Q 1</td><td class=\"conflict\">3</td><td class=\"conflict\">3</td><td class=\"conflict\">3</td><td class=\"conflict\">2</td><td class=\"conflict\">3</td></tr><tr><td class=\"queen\">Q 1</td><td class=\"conflict\">3</td><td class=\"conflict\">2</td><td class=\"conflict\">5</td><td class=\"conflict\">3</td><td class=\"conflict\">2</td><td class=\"conflict\">3</td><td class=\"conflict\">4</td></tr><tr><td class=\"conflict\">4</td><td class=\"conflict\">3</td><td class=\"conflict\">2</td><td class=\"conflict\">3</td><td class=\"conflict\">4</td><td class=\"conflict\">4</td><td class=\"conflict\">2</td><td class=\"queen\">Q 1</td></tr><tr><td class=\"conflict\">2</td><td class=\"conflict\">4</td><td class=\"conflict\">2</td><td class=\"conflict\">2</td><td class=\"queen\">Q 1</td><td class=\"conflict\">5</td><td class=\"conflict\">3</td><td class=\"conflict\">3</td></tr><tr><td class=\"conflict\">3</td><td class=\"conflict\">2</td><td class=\"conflict\">2</td><td class=\"conflict\">4</td><td class=\"conflict\">3</td><td class=\"conflict\">4</td><td class=\"queen\">Q 1</td><td class=\"conflict\">3</td></tr><tr><td class=\"conflict\">2</td><td class=\"conflict\">2</td><td class=\"conflict\">2</td><td class=\"queen\">Q 1</td><td class=\"conflict\">4</td><td class=\"conflict\">3</td><td class=\"conflict\">2</td><td class=\"conflict\">4</td></tr></table>"
      ],
      "text/plain": [
       "<IPython.core.display.HTML object>"
      ]
     },
     "metadata": {},
     "output_type": "display_data"
    },
    {
     "name": "stdout",
     "output_type": "stream",
     "text": [
      "75 \t column 7 Queen, row 5 to 2\n"
     ]
    },
    {
     "data": {
      "text/html": [
       "\n",
       "    <style>\n",
       "        table { border-collapse: collapse; font-family: Arial, sans-serif; }\n",
       "        td { border: 1px solid black; height: 40px; width: 40px; text-align: center; font-size: 18px; }\n",
       "        .queen { background-color: #f4cccc; font-weight: bold; color: black; }\n",
       "        .conflict { background-color: #f9f9f9; color: gray; }\n",
       "    </style>\n",
       "    <table>\n",
       "    <tr><td class=\"conflict\">3</td><td class=\"queen\">Q 1</td><td class=\"conflict\">2</td><td class=\"conflict\">4</td><td class=\"conflict\">4</td><td class=\"conflict\">2</td><td class=\"conflict\">2</td><td class=\"conflict\">3</td></tr><tr><td class=\"conflict\">5</td><td class=\"conflict\">4</td><td class=\"conflict\">5</td><td class=\"conflict\">4</td><td class=\"conflict\">4</td><td class=\"queen\">Q 1</td><td class=\"queen\">Q 1</td><td class=\"conflict\">3</td></tr><tr><td class=\"conflict\">2</td><td class=\"conflict\">4</td><td class=\"queen\">Q 1</td><td class=\"conflict\">3</td><td class=\"conflict\">3</td><td class=\"conflict\">3</td><td class=\"conflict\">2</td><td class=\"conflict\">4</td></tr><tr><td class=\"queen\">Q 1</td><td class=\"conflict\">3</td><td class=\"conflict\">3</td><td class=\"conflict\">4</td><td class=\"conflict\">4</td><td class=\"conflict\">1</td><td class=\"conflict\">3</td><td class=\"conflict\">4</td></tr><tr><td class=\"conflict\">4</td><td class=\"conflict\">3</td><td class=\"conflict\">3</td><td class=\"conflict\">4</td><td class=\"conflict\">3</td><td class=\"conflict\">3</td><td class=\"conflict\">2</td><td class=\"queen\">Q 1</td></tr><tr><td class=\"conflict\">2</td><td class=\"conflict\">4</td><td class=\"conflict\">4</td><td class=\"conflict\">2</td><td class=\"queen\">Q 1</td><td class=\"conflict\">3</td><td class=\"conflict\">3</td><td class=\"conflict\">2</td></tr><tr><td class=\"conflict\">2</td><td class=\"conflict\">2</td><td class=\"conflict\">2</td><td class=\"conflict\">3</td><td class=\"conflict\">2</td><td class=\"conflict\">2</td><td class=\"conflict\">1</td><td class=\"conflict\">2</td></tr><tr><td class=\"conflict\">3</td><td class=\"conflict\">2</td><td class=\"conflict\">3</td><td class=\"queen\">Q 1</td><td class=\"conflict\">4</td><td class=\"conflict\">1</td><td class=\"conflict\">2</td><td class=\"conflict\">3</td></tr></table>"
      ],
      "text/plain": [
       "<IPython.core.display.HTML object>"
      ]
     },
     "metadata": {},
     "output_type": "display_data"
    },
    {
     "name": "stdout",
     "output_type": "stream",
     "text": [
      "76 \t column 5 Queen, row 5 to 6\n"
     ]
    },
    {
     "data": {
      "text/html": [
       "\n",
       "    <style>\n",
       "        table { border-collapse: collapse; font-family: Arial, sans-serif; }\n",
       "        td { border: 1px solid black; height: 40px; width: 40px; text-align: center; font-size: 18px; }\n",
       "        .queen { background-color: #f4cccc; font-weight: bold; color: black; }\n",
       "        .conflict { background-color: #f9f9f9; color: gray; }\n",
       "    </style>\n",
       "    <table>\n",
       "    <tr><td class=\"conflict\">3</td><td class=\"queen\">Q 1</td><td class=\"conflict\">2</td><td class=\"conflict\">4</td><td class=\"conflict\">4</td><td class=\"conflict\">2</td><td class=\"conflict\">2</td><td class=\"conflict\">3</td></tr><tr><td class=\"conflict\">5</td><td class=\"conflict\">4</td><td class=\"conflict\">5</td><td class=\"conflict\">4</td><td class=\"conflict\">4</td><td class=\"queen\">Q 1</td><td class=\"queen\">Q 1</td><td class=\"conflict\">3</td></tr><tr><td class=\"conflict\">2</td><td class=\"conflict\">4</td><td class=\"queen\">Q 1</td><td class=\"conflict\">3</td><td class=\"conflict\">3</td><td class=\"conflict\">3</td><td class=\"conflict\">2</td><td class=\"conflict\">4</td></tr><tr><td class=\"queen\">Q 1</td><td class=\"conflict\">3</td><td class=\"conflict\">3</td><td class=\"conflict\">4</td><td class=\"conflict\">4</td><td class=\"conflict\">1</td><td class=\"conflict\">3</td><td class=\"conflict\">4</td></tr><tr><td class=\"conflict\">4</td><td class=\"conflict\">3</td><td class=\"conflict\">3</td><td class=\"conflict\">4</td><td class=\"conflict\">3</td><td class=\"conflict\">3</td><td class=\"conflict\">2</td><td class=\"queen\">Q 1</td></tr><tr><td class=\"conflict\">2</td><td class=\"conflict\">4</td><td class=\"conflict\">4</td><td class=\"conflict\">2</td><td class=\"queen\">Q 1</td><td class=\"conflict\">3</td><td class=\"conflict\">3</td><td class=\"conflict\">2</td></tr><tr><td class=\"conflict\">2</td><td class=\"conflict\">2</td><td class=\"conflict\">2</td><td class=\"conflict\">3</td><td class=\"conflict\">2</td><td class=\"conflict\">2</td><td class=\"conflict\">1</td><td class=\"conflict\">2</td></tr><tr><td class=\"conflict\">3</td><td class=\"conflict\">2</td><td class=\"conflict\">3</td><td class=\"queen\">Q 1</td><td class=\"conflict\">4</td><td class=\"conflict\">1</td><td class=\"conflict\">2</td><td class=\"conflict\">3</td></tr></table>"
      ],
      "text/plain": [
       "<IPython.core.display.HTML object>"
      ]
     },
     "metadata": {},
     "output_type": "display_data"
    },
    {
     "name": "stdout",
     "output_type": "stream",
     "text": [
      "77 \t column 6 Queen, row 5 to 4\n"
     ]
    },
    {
     "data": {
      "text/html": [
       "\n",
       "    <style>\n",
       "        table { border-collapse: collapse; font-family: Arial, sans-serif; }\n",
       "        td { border: 1px solid black; height: 40px; width: 40px; text-align: center; font-size: 18px; }\n",
       "        .queen { background-color: #f4cccc; font-weight: bold; color: black; }\n",
       "        .conflict { background-color: #f9f9f9; color: gray; }\n",
       "    </style>\n",
       "    <table>\n",
       "    <tr><td class=\"conflict\">2</td><td class=\"queen\">Q 1</td><td class=\"conflict\">3</td><td class=\"conflict\">4</td><td class=\"conflict\">3</td><td class=\"conflict\">2</td><td class=\"conflict\">2</td><td class=\"conflict\">3</td></tr><tr><td class=\"conflict\">3</td><td class=\"conflict\">3</td><td class=\"conflict\">4</td><td class=\"conflict\">4</td><td class=\"conflict\">3</td><td class=\"conflict\">1</td><td class=\"queen\">Q 1</td><td class=\"conflict\">3</td></tr><tr><td class=\"conflict\">1</td><td class=\"conflict\">4</td><td class=\"queen\">Q 1</td><td class=\"conflict\">3</td><td class=\"conflict\">3</td><td class=\"conflict\">3</td><td class=\"conflict\">3</td><td class=\"conflict\">4</td></tr><tr><td class=\"queen\">Q 1</td><td class=\"conflict\">4</td><td class=\"conflict\">4</td><td class=\"conflict\">4</td><td class=\"conflict\">5</td><td class=\"queen\">Q 1</td><td class=\"conflict\">5</td><td class=\"conflict\">4</td></tr><tr><td class=\"conflict\">3</td><td class=\"conflict\">3</td><td class=\"conflict\">2</td><td class=\"conflict\">4</td><td class=\"conflict\">4</td><td class=\"conflict\">3</td><td class=\"conflict\">4</td><td class=\"queen\">Q 1</td></tr><tr><td class=\"conflict\">1</td><td class=\"conflict\">3</td><td class=\"conflict\">4</td><td class=\"conflict\">3</td><td class=\"queen\">Q 1</td><td class=\"conflict\">3</td><td class=\"conflict\">4</td><td class=\"conflict\">3</td></tr><tr><td class=\"conflict\">0</td><td class=\"conflict\">2</td><td class=\"conflict\">3</td><td class=\"conflict\">3</td><td class=\"conflict\">2</td><td class=\"conflict\">2</td><td class=\"conflict\">2</td><td class=\"conflict\">2</td></tr><tr><td class=\"conflict\">2</td><td class=\"conflict\">3</td><td class=\"conflict\">3</td><td class=\"queen\">Q 1</td><td class=\"conflict\">4</td><td class=\"conflict\">1</td><td class=\"conflict\">3</td><td class=\"conflict\">3</td></tr></table>"
      ],
      "text/plain": [
       "<IPython.core.display.HTML object>"
      ]
     },
     "metadata": {},
     "output_type": "display_data"
    },
    {
     "name": "stdout",
     "output_type": "stream",
     "text": [
      "78 \t column 2 Queen, row 5 to 1\n"
     ]
    },
    {
     "data": {
      "text/html": [
       "\n",
       "    <style>\n",
       "        table { border-collapse: collapse; font-family: Arial, sans-serif; }\n",
       "        td { border: 1px solid black; height: 40px; width: 40px; text-align: center; font-size: 18px; }\n",
       "        .queen { background-color: #f4cccc; font-weight: bold; color: black; }\n",
       "        .conflict { background-color: #f9f9f9; color: gray; }\n",
       "    </style>\n",
       "    <table>\n",
       "    <tr><td class=\"conflict\">2</td><td class=\"queen\">Q 1</td><td class=\"conflict\">3</td><td class=\"conflict\">4</td><td class=\"conflict\">3</td><td class=\"conflict\">2</td><td class=\"conflict\">2</td><td class=\"conflict\">3</td></tr><tr><td class=\"conflict\">3</td><td class=\"conflict\">3</td><td class=\"conflict\">4</td><td class=\"conflict\">4</td><td class=\"conflict\">3</td><td class=\"conflict\">1</td><td class=\"queen\">Q 1</td><td class=\"conflict\">3</td></tr><tr><td class=\"conflict\">1</td><td class=\"conflict\">4</td><td class=\"queen\">Q 1</td><td class=\"conflict\">3</td><td class=\"conflict\">3</td><td class=\"conflict\">3</td><td class=\"conflict\">3</td><td class=\"conflict\">4</td></tr><tr><td class=\"queen\">Q 1</td><td class=\"conflict\">4</td><td class=\"conflict\">4</td><td class=\"conflict\">4</td><td class=\"conflict\">5</td><td class=\"queen\">Q 1</td><td class=\"conflict\">5</td><td class=\"conflict\">4</td></tr><tr><td class=\"conflict\">3</td><td class=\"conflict\">3</td><td class=\"conflict\">2</td><td class=\"conflict\">4</td><td class=\"conflict\">4</td><td class=\"conflict\">3</td><td class=\"conflict\">4</td><td class=\"queen\">Q 1</td></tr><tr><td class=\"conflict\">1</td><td class=\"conflict\">3</td><td class=\"conflict\">4</td><td class=\"conflict\">3</td><td class=\"queen\">Q 1</td><td class=\"conflict\">3</td><td class=\"conflict\">4</td><td class=\"conflict\">3</td></tr><tr><td class=\"conflict\">0</td><td class=\"conflict\">2</td><td class=\"conflict\">3</td><td class=\"conflict\">3</td><td class=\"conflict\">2</td><td class=\"conflict\">2</td><td class=\"conflict\">2</td><td class=\"conflict\">2</td></tr><tr><td class=\"conflict\">2</td><td class=\"conflict\">3</td><td class=\"conflict\">3</td><td class=\"queen\">Q 1</td><td class=\"conflict\">4</td><td class=\"conflict\">1</td><td class=\"conflict\">3</td><td class=\"conflict\">3</td></tr></table>"
      ],
      "text/plain": [
       "<IPython.core.display.HTML object>"
      ]
     },
     "metadata": {},
     "output_type": "display_data"
    },
    {
     "name": "stdout",
     "output_type": "stream",
     "text": [
      "79 \t column 8 Queen, row 5 to 5\n"
     ]
    },
    {
     "data": {
      "text/html": [
       "\n",
       "    <style>\n",
       "        table { border-collapse: collapse; font-family: Arial, sans-serif; }\n",
       "        td { border: 1px solid black; height: 40px; width: 40px; text-align: center; font-size: 18px; }\n",
       "        .queen { background-color: #f4cccc; font-weight: bold; color: black; }\n",
       "        .conflict { background-color: #f9f9f9; color: gray; }\n",
       "    </style>\n",
       "    <table>\n",
       "    <tr><td class=\"conflict\">2</td><td class=\"queen\">Q 1</td><td class=\"conflict\">3</td><td class=\"conflict\">4</td><td class=\"conflict\">3</td><td class=\"conflict\">2</td><td class=\"conflict\">2</td><td class=\"conflict\">3</td></tr><tr><td class=\"conflict\">3</td><td class=\"conflict\">3</td><td class=\"conflict\">4</td><td class=\"conflict\">4</td><td class=\"conflict\">3</td><td class=\"conflict\">1</td><td class=\"queen\">Q 1</td><td class=\"conflict\">3</td></tr><tr><td class=\"conflict\">1</td><td class=\"conflict\">4</td><td class=\"queen\">Q 1</td><td class=\"conflict\">3</td><td class=\"conflict\">3</td><td class=\"conflict\">3</td><td class=\"conflict\">3</td><td class=\"conflict\">4</td></tr><tr><td class=\"queen\">Q 1</td><td class=\"conflict\">4</td><td class=\"conflict\">4</td><td class=\"conflict\">4</td><td class=\"conflict\">5</td><td class=\"queen\">Q 1</td><td class=\"conflict\">5</td><td class=\"conflict\">4</td></tr><tr><td class=\"conflict\">3</td><td class=\"conflict\">3</td><td class=\"conflict\">2</td><td class=\"conflict\">4</td><td class=\"conflict\">4</td><td class=\"conflict\">3</td><td class=\"conflict\">4</td><td class=\"queen\">Q 1</td></tr><tr><td class=\"conflict\">1</td><td class=\"conflict\">3</td><td class=\"conflict\">4</td><td class=\"conflict\">3</td><td class=\"queen\">Q 1</td><td class=\"conflict\">3</td><td class=\"conflict\">4</td><td class=\"conflict\">3</td></tr><tr><td class=\"conflict\">0</td><td class=\"conflict\">2</td><td class=\"conflict\">3</td><td class=\"conflict\">3</td><td class=\"conflict\">2</td><td class=\"conflict\">2</td><td class=\"conflict\">2</td><td class=\"conflict\">2</td></tr><tr><td class=\"conflict\">2</td><td class=\"conflict\">3</td><td class=\"conflict\">3</td><td class=\"queen\">Q 1</td><td class=\"conflict\">4</td><td class=\"conflict\">1</td><td class=\"conflict\">3</td><td class=\"conflict\">3</td></tr></table>"
      ],
      "text/plain": [
       "<IPython.core.display.HTML object>"
      ]
     },
     "metadata": {},
     "output_type": "display_data"
    },
    {
     "name": "stdout",
     "output_type": "stream",
     "text": [
      "80 \t column 1 Queen, row 5 to 4\n"
     ]
    },
    {
     "data": {
      "text/html": [
       "\n",
       "    <style>\n",
       "        table { border-collapse: collapse; font-family: Arial, sans-serif; }\n",
       "        td { border: 1px solid black; height: 40px; width: 40px; text-align: center; font-size: 18px; }\n",
       "        .queen { background-color: #f4cccc; font-weight: bold; color: black; }\n",
       "        .conflict { background-color: #f9f9f9; color: gray; }\n",
       "    </style>\n",
       "    <table>\n",
       "    <tr><td class=\"conflict\">2</td><td class=\"queen\">Q 1</td><td class=\"conflict\">3</td><td class=\"conflict\">4</td><td class=\"conflict\">3</td><td class=\"conflict\">2</td><td class=\"conflict\">2</td><td class=\"conflict\">3</td></tr><tr><td class=\"conflict\">3</td><td class=\"conflict\">3</td><td class=\"conflict\">4</td><td class=\"conflict\">4</td><td class=\"conflict\">3</td><td class=\"conflict\">1</td><td class=\"queen\">Q 1</td><td class=\"conflict\">3</td></tr><tr><td class=\"conflict\">1</td><td class=\"conflict\">4</td><td class=\"queen\">Q 1</td><td class=\"conflict\">3</td><td class=\"conflict\">3</td><td class=\"conflict\">3</td><td class=\"conflict\">3</td><td class=\"conflict\">4</td></tr><tr><td class=\"queen\">Q 1</td><td class=\"conflict\">4</td><td class=\"conflict\">4</td><td class=\"conflict\">4</td><td class=\"conflict\">5</td><td class=\"queen\">Q 1</td><td class=\"conflict\">5</td><td class=\"conflict\">4</td></tr><tr><td class=\"conflict\">3</td><td class=\"conflict\">3</td><td class=\"conflict\">2</td><td class=\"conflict\">4</td><td class=\"conflict\">4</td><td class=\"conflict\">3</td><td class=\"conflict\">4</td><td class=\"queen\">Q 1</td></tr><tr><td class=\"conflict\">1</td><td class=\"conflict\">3</td><td class=\"conflict\">4</td><td class=\"conflict\">3</td><td class=\"queen\">Q 1</td><td class=\"conflict\">3</td><td class=\"conflict\">4</td><td class=\"conflict\">3</td></tr><tr><td class=\"conflict\">0</td><td class=\"conflict\">2</td><td class=\"conflict\">3</td><td class=\"conflict\">3</td><td class=\"conflict\">2</td><td class=\"conflict\">2</td><td class=\"conflict\">2</td><td class=\"conflict\">2</td></tr><tr><td class=\"conflict\">2</td><td class=\"conflict\">3</td><td class=\"conflict\">3</td><td class=\"queen\">Q 1</td><td class=\"conflict\">4</td><td class=\"conflict\">1</td><td class=\"conflict\">3</td><td class=\"conflict\">3</td></tr></table>"
      ],
      "text/plain": [
       "<IPython.core.display.HTML object>"
      ]
     },
     "metadata": {},
     "output_type": "display_data"
    },
    {
     "name": "stdout",
     "output_type": "stream",
     "text": [
      "81 \t column 4 Queen, row 5 to 8\n"
     ]
    },
    {
     "data": {
      "text/html": [
       "\n",
       "    <style>\n",
       "        table { border-collapse: collapse; font-family: Arial, sans-serif; }\n",
       "        td { border: 1px solid black; height: 40px; width: 40px; text-align: center; font-size: 18px; }\n",
       "        .queen { background-color: #f4cccc; font-weight: bold; color: black; }\n",
       "        .conflict { background-color: #f9f9f9; color: gray; }\n",
       "    </style>\n",
       "    <table>\n",
       "    <tr><td class=\"conflict\">2</td><td class=\"queen\">Q 1</td><td class=\"conflict\">3</td><td class=\"conflict\">4</td><td class=\"conflict\">3</td><td class=\"conflict\">2</td><td class=\"conflict\">2</td><td class=\"conflict\">3</td></tr><tr><td class=\"conflict\">3</td><td class=\"conflict\">3</td><td class=\"conflict\">4</td><td class=\"conflict\">4</td><td class=\"conflict\">3</td><td class=\"conflict\">1</td><td class=\"queen\">Q 1</td><td class=\"conflict\">3</td></tr><tr><td class=\"conflict\">1</td><td class=\"conflict\">4</td><td class=\"queen\">Q 1</td><td class=\"conflict\">3</td><td class=\"conflict\">3</td><td class=\"conflict\">3</td><td class=\"conflict\">3</td><td class=\"conflict\">4</td></tr><tr><td class=\"queen\">Q 1</td><td class=\"conflict\">4</td><td class=\"conflict\">4</td><td class=\"conflict\">4</td><td class=\"conflict\">5</td><td class=\"queen\">Q 1</td><td class=\"conflict\">5</td><td class=\"conflict\">4</td></tr><tr><td class=\"conflict\">3</td><td class=\"conflict\">3</td><td class=\"conflict\">2</td><td class=\"conflict\">4</td><td class=\"conflict\">4</td><td class=\"conflict\">3</td><td class=\"conflict\">4</td><td class=\"queen\">Q 1</td></tr><tr><td class=\"conflict\">1</td><td class=\"conflict\">3</td><td class=\"conflict\">4</td><td class=\"conflict\">3</td><td class=\"queen\">Q 1</td><td class=\"conflict\">3</td><td class=\"conflict\">4</td><td class=\"conflict\">3</td></tr><tr><td class=\"conflict\">0</td><td class=\"conflict\">2</td><td class=\"conflict\">3</td><td class=\"conflict\">3</td><td class=\"conflict\">2</td><td class=\"conflict\">2</td><td class=\"conflict\">2</td><td class=\"conflict\">2</td></tr><tr><td class=\"conflict\">2</td><td class=\"conflict\">3</td><td class=\"conflict\">3</td><td class=\"queen\">Q 1</td><td class=\"conflict\">4</td><td class=\"conflict\">1</td><td class=\"conflict\">3</td><td class=\"conflict\">3</td></tr></table>"
      ],
      "text/plain": [
       "<IPython.core.display.HTML object>"
      ]
     },
     "metadata": {},
     "output_type": "display_data"
    },
    {
     "name": "stdout",
     "output_type": "stream",
     "text": [
      "82 \t column 6 Queen, row 5 to 4\n"
     ]
    },
    {
     "data": {
      "text/html": [
       "\n",
       "    <style>\n",
       "        table { border-collapse: collapse; font-family: Arial, sans-serif; }\n",
       "        td { border: 1px solid black; height: 40px; width: 40px; text-align: center; font-size: 18px; }\n",
       "        .queen { background-color: #f4cccc; font-weight: bold; color: black; }\n",
       "        .conflict { background-color: #f9f9f9; color: gray; }\n",
       "    </style>\n",
       "    <table>\n",
       "    <tr><td class=\"conflict\">2</td><td class=\"queen\">Q 1</td><td class=\"conflict\">3</td><td class=\"conflict\">4</td><td class=\"conflict\">3</td><td class=\"conflict\">2</td><td class=\"conflict\">2</td><td class=\"conflict\">3</td></tr><tr><td class=\"conflict\">3</td><td class=\"conflict\">3</td><td class=\"conflict\">4</td><td class=\"conflict\">4</td><td class=\"conflict\">3</td><td class=\"conflict\">1</td><td class=\"queen\">Q 1</td><td class=\"conflict\">3</td></tr><tr><td class=\"conflict\">1</td><td class=\"conflict\">4</td><td class=\"queen\">Q 1</td><td class=\"conflict\">3</td><td class=\"conflict\">3</td><td class=\"conflict\">3</td><td class=\"conflict\">3</td><td class=\"conflict\">4</td></tr><tr><td class=\"queen\">Q 1</td><td class=\"conflict\">4</td><td class=\"conflict\">4</td><td class=\"conflict\">4</td><td class=\"conflict\">5</td><td class=\"queen\">Q 1</td><td class=\"conflict\">5</td><td class=\"conflict\">4</td></tr><tr><td class=\"conflict\">3</td><td class=\"conflict\">3</td><td class=\"conflict\">2</td><td class=\"conflict\">4</td><td class=\"conflict\">4</td><td class=\"conflict\">3</td><td class=\"conflict\">4</td><td class=\"queen\">Q 1</td></tr><tr><td class=\"conflict\">1</td><td class=\"conflict\">3</td><td class=\"conflict\">4</td><td class=\"conflict\">3</td><td class=\"queen\">Q 1</td><td class=\"conflict\">3</td><td class=\"conflict\">4</td><td class=\"conflict\">3</td></tr><tr><td class=\"conflict\">0</td><td class=\"conflict\">2</td><td class=\"conflict\">3</td><td class=\"conflict\">3</td><td class=\"conflict\">2</td><td class=\"conflict\">2</td><td class=\"conflict\">2</td><td class=\"conflict\">2</td></tr><tr><td class=\"conflict\">2</td><td class=\"conflict\">3</td><td class=\"conflict\">3</td><td class=\"queen\">Q 1</td><td class=\"conflict\">4</td><td class=\"conflict\">1</td><td class=\"conflict\">3</td><td class=\"conflict\">3</td></tr></table>"
      ],
      "text/plain": [
       "<IPython.core.display.HTML object>"
      ]
     },
     "metadata": {},
     "output_type": "display_data"
    },
    {
     "name": "stdout",
     "output_type": "stream",
     "text": [
      "83 \t column 7 Queen, row 5 to 2\n"
     ]
    },
    {
     "data": {
      "text/html": [
       "\n",
       "    <style>\n",
       "        table { border-collapse: collapse; font-family: Arial, sans-serif; }\n",
       "        td { border: 1px solid black; height: 40px; width: 40px; text-align: center; font-size: 18px; }\n",
       "        .queen { background-color: #f4cccc; font-weight: bold; color: black; }\n",
       "        .conflict { background-color: #f9f9f9; color: gray; }\n",
       "    </style>\n",
       "    <table>\n",
       "    <tr><td class=\"conflict\">2</td><td class=\"queen\">Q 1</td><td class=\"conflict\">3</td><td class=\"conflict\">4</td><td class=\"conflict\">3</td><td class=\"conflict\">2</td><td class=\"conflict\">2</td><td class=\"conflict\">3</td></tr><tr><td class=\"conflict\">3</td><td class=\"conflict\">3</td><td class=\"conflict\">4</td><td class=\"conflict\">4</td><td class=\"conflict\">3</td><td class=\"conflict\">1</td><td class=\"queen\">Q 1</td><td class=\"conflict\">3</td></tr><tr><td class=\"conflict\">1</td><td class=\"conflict\">4</td><td class=\"queen\">Q 1</td><td class=\"conflict\">3</td><td class=\"conflict\">3</td><td class=\"conflict\">3</td><td class=\"conflict\">3</td><td class=\"conflict\">4</td></tr><tr><td class=\"queen\">Q 1</td><td class=\"conflict\">4</td><td class=\"conflict\">4</td><td class=\"conflict\">4</td><td class=\"conflict\">5</td><td class=\"queen\">Q 1</td><td class=\"conflict\">5</td><td class=\"conflict\">4</td></tr><tr><td class=\"conflict\">3</td><td class=\"conflict\">3</td><td class=\"conflict\">2</td><td class=\"conflict\">4</td><td class=\"conflict\">4</td><td class=\"conflict\">3</td><td class=\"conflict\">4</td><td class=\"queen\">Q 1</td></tr><tr><td class=\"conflict\">1</td><td class=\"conflict\">3</td><td class=\"conflict\">4</td><td class=\"conflict\">3</td><td class=\"queen\">Q 1</td><td class=\"conflict\">3</td><td class=\"conflict\">4</td><td class=\"conflict\">3</td></tr><tr><td class=\"conflict\">0</td><td class=\"conflict\">2</td><td class=\"conflict\">3</td><td class=\"conflict\">3</td><td class=\"conflict\">2</td><td class=\"conflict\">2</td><td class=\"conflict\">2</td><td class=\"conflict\">2</td></tr><tr><td class=\"conflict\">2</td><td class=\"conflict\">3</td><td class=\"conflict\">3</td><td class=\"queen\">Q 1</td><td class=\"conflict\">4</td><td class=\"conflict\">1</td><td class=\"conflict\">3</td><td class=\"conflict\">3</td></tr></table>"
      ],
      "text/plain": [
       "<IPython.core.display.HTML object>"
      ]
     },
     "metadata": {},
     "output_type": "display_data"
    },
    {
     "name": "stdout",
     "output_type": "stream",
     "text": [
      "84 \t column 1 Queen, row 5 to 4\n"
     ]
    },
    {
     "data": {
      "text/html": [
       "\n",
       "    <style>\n",
       "        table { border-collapse: collapse; font-family: Arial, sans-serif; }\n",
       "        td { border: 1px solid black; height: 40px; width: 40px; text-align: center; font-size: 18px; }\n",
       "        .queen { background-color: #f4cccc; font-weight: bold; color: black; }\n",
       "        .conflict { background-color: #f9f9f9; color: gray; }\n",
       "    </style>\n",
       "    <table>\n",
       "    <tr><td class=\"conflict\">2</td><td class=\"queen\">Q 1</td><td class=\"conflict\">3</td><td class=\"conflict\">4</td><td class=\"conflict\">3</td><td class=\"conflict\">2</td><td class=\"conflict\">2</td><td class=\"conflict\">3</td></tr><tr><td class=\"conflict\">3</td><td class=\"conflict\">3</td><td class=\"conflict\">4</td><td class=\"conflict\">4</td><td class=\"conflict\">3</td><td class=\"conflict\">1</td><td class=\"queen\">Q 1</td><td class=\"conflict\">3</td></tr><tr><td class=\"conflict\">1</td><td class=\"conflict\">4</td><td class=\"queen\">Q 1</td><td class=\"conflict\">3</td><td class=\"conflict\">3</td><td class=\"conflict\">3</td><td class=\"conflict\">3</td><td class=\"conflict\">4</td></tr><tr><td class=\"queen\">Q 1</td><td class=\"conflict\">4</td><td class=\"conflict\">4</td><td class=\"conflict\">4</td><td class=\"conflict\">5</td><td class=\"queen\">Q 1</td><td class=\"conflict\">5</td><td class=\"conflict\">4</td></tr><tr><td class=\"conflict\">3</td><td class=\"conflict\">3</td><td class=\"conflict\">2</td><td class=\"conflict\">4</td><td class=\"conflict\">4</td><td class=\"conflict\">3</td><td class=\"conflict\">4</td><td class=\"queen\">Q 1</td></tr><tr><td class=\"conflict\">1</td><td class=\"conflict\">3</td><td class=\"conflict\">4</td><td class=\"conflict\">3</td><td class=\"queen\">Q 1</td><td class=\"conflict\">3</td><td class=\"conflict\">4</td><td class=\"conflict\">3</td></tr><tr><td class=\"conflict\">0</td><td class=\"conflict\">2</td><td class=\"conflict\">3</td><td class=\"conflict\">3</td><td class=\"conflict\">2</td><td class=\"conflict\">2</td><td class=\"conflict\">2</td><td class=\"conflict\">2</td></tr><tr><td class=\"conflict\">2</td><td class=\"conflict\">3</td><td class=\"conflict\">3</td><td class=\"queen\">Q 1</td><td class=\"conflict\">4</td><td class=\"conflict\">1</td><td class=\"conflict\">3</td><td class=\"conflict\">3</td></tr></table>"
      ],
      "text/plain": [
       "<IPython.core.display.HTML object>"
      ]
     },
     "metadata": {},
     "output_type": "display_data"
    },
    {
     "name": "stdout",
     "output_type": "stream",
     "text": [
      "85 \t column 1 Queen, row 5 to 6\n"
     ]
    },
    {
     "data": {
      "text/html": [
       "\n",
       "    <style>\n",
       "        table { border-collapse: collapse; font-family: Arial, sans-serif; }\n",
       "        td { border: 1px solid black; height: 40px; width: 40px; text-align: center; font-size: 18px; }\n",
       "        .queen { background-color: #f4cccc; font-weight: bold; color: black; }\n",
       "        .conflict { background-color: #f9f9f9; color: gray; }\n",
       "    </style>\n",
       "    <table>\n",
       "    <tr><td class=\"conflict\">2</td><td class=\"queen\">Q 1</td><td class=\"conflict\">3</td><td class=\"conflict\">3</td><td class=\"conflict\">2</td><td class=\"conflict\">4</td><td class=\"conflict\">2</td><td class=\"conflict\">3</td></tr><tr><td class=\"conflict\">3</td><td class=\"conflict\">3</td><td class=\"conflict\">3</td><td class=\"conflict\">4</td><td class=\"conflict\">3</td><td class=\"conflict\">2</td><td class=\"queen\">Q 1</td><td class=\"conflict\">3</td></tr><tr><td class=\"conflict\">1</td><td class=\"conflict\">3</td><td class=\"queen\">Q 1</td><td class=\"conflict\">4</td><td class=\"conflict\">2</td><td class=\"conflict\">4</td><td class=\"conflict\">3</td><td class=\"conflict\">4</td></tr><tr><td class=\"conflict\">1</td><td class=\"conflict\">3</td><td class=\"conflict\">4</td><td class=\"conflict\">3</td><td class=\"conflict\">3</td><td class=\"queen\">Q 1</td><td class=\"conflict\">4</td><td class=\"conflict\">3</td></tr><tr><td class=\"conflict\">3</td><td class=\"conflict\">3</td><td class=\"conflict\">2</td><td class=\"conflict\">4</td><td class=\"conflict\">3</td><td class=\"conflict\">4</td><td class=\"conflict\">4</td><td class=\"queen\">Q 1</td></tr><tr><td class=\"queen\">Q 1</td><td class=\"conflict\">4</td><td class=\"conflict\">4</td><td class=\"conflict\">4</td><td class=\"queen\">Q 1</td><td class=\"conflict\">5</td><td class=\"conflict\">5</td><td class=\"conflict\">4</td></tr><tr><td class=\"conflict\">0</td><td class=\"conflict\">3</td><td class=\"conflict\">3</td><td class=\"conflict\">2</td><td class=\"conflict\">1</td><td class=\"conflict\">3</td><td class=\"conflict\">2</td><td class=\"conflict\">2</td></tr><tr><td class=\"conflict\">2</td><td class=\"conflict\">3</td><td class=\"conflict\">4</td><td class=\"queen\">Q 1</td><td class=\"conflict\">2</td><td class=\"conflict\">2</td><td class=\"conflict\">3</td><td class=\"conflict\">3</td></tr></table>"
      ],
      "text/plain": [
       "<IPython.core.display.HTML object>"
      ]
     },
     "metadata": {},
     "output_type": "display_data"
    },
    {
     "name": "stdout",
     "output_type": "stream",
     "text": [
      "86 \t column 5 Queen, row 5 to 7\n"
     ]
    },
    {
     "data": {
      "text/html": [
       "\n",
       "    <style>\n",
       "        table { border-collapse: collapse; font-family: Arial, sans-serif; }\n",
       "        td { border: 1px solid black; height: 40px; width: 40px; text-align: center; font-size: 18px; }\n",
       "        .queen { background-color: #f4cccc; font-weight: bold; color: black; }\n",
       "        .conflict { background-color: #f9f9f9; color: gray; }\n",
       "    </style>\n",
       "    <table>\n",
       "    <tr><td class=\"conflict\">3</td><td class=\"queen\">Q 1</td><td class=\"conflict\">3</td><td class=\"conflict\">2</td><td class=\"conflict\">2</td><td class=\"conflict\">4</td><td class=\"conflict\">2</td><td class=\"conflict\">3</td></tr><tr><td class=\"conflict\">3</td><td class=\"conflict\">3</td><td class=\"conflict\">3</td><td class=\"conflict\">3</td><td class=\"conflict\">3</td><td class=\"conflict\">2</td><td class=\"queen\">Q 1</td><td class=\"conflict\">3</td></tr><tr><td class=\"conflict\">3</td><td class=\"conflict\">2</td><td class=\"queen\">Q 1</td><td class=\"conflict\">3</td><td class=\"conflict\">2</td><td class=\"conflict\">4</td><td class=\"conflict\">3</td><td class=\"conflict\">3</td></tr><tr><td class=\"conflict\">2</td><td class=\"conflict\">4</td><td class=\"conflict\">3</td><td class=\"conflict\">2</td><td class=\"conflict\">3</td><td class=\"queen\">Q 1</td><td class=\"conflict\">3</td><td class=\"conflict\">4</td></tr><tr><td class=\"conflict\">4</td><td class=\"conflict\">3</td><td class=\"conflict\">3</td><td class=\"conflict\">2</td><td class=\"conflict\">3</td><td class=\"conflict\">3</td><td class=\"conflict\">5</td><td class=\"queen\">Q 1</td></tr><tr><td class=\"queen\">Q 1</td><td class=\"conflict\">3</td><td class=\"conflict\">3</td><td class=\"conflict\">3</td><td class=\"conflict\">1</td><td class=\"conflict\">5</td><td class=\"conflict\">4</td><td class=\"conflict\">3</td></tr><tr><td class=\"conflict\">2</td><td class=\"conflict\">4</td><td class=\"conflict\">4</td><td class=\"conflict\">1</td><td class=\"queen\">Q 1</td><td class=\"conflict\">3</td><td class=\"conflict\">3</td><td class=\"conflict\">3</td></tr><tr><td class=\"conflict\">3</td><td class=\"conflict\">3</td><td class=\"conflict\">3</td><td class=\"queen\">Q 1</td><td class=\"conflict\">2</td><td class=\"conflict\">3</td><td class=\"conflict\">2</td><td class=\"conflict\">3</td></tr></table>"
      ],
      "text/plain": [
       "<IPython.core.display.HTML object>"
      ]
     },
     "metadata": {},
     "output_type": "display_data"
    },
    {
     "name": "stdout",
     "output_type": "stream",
     "text": [
      "87 \t column 5 Queen, row 5 to 6\n"
     ]
    },
    {
     "data": {
      "text/html": [
       "\n",
       "    <style>\n",
       "        table { border-collapse: collapse; font-family: Arial, sans-serif; }\n",
       "        td { border: 1px solid black; height: 40px; width: 40px; text-align: center; font-size: 18px; }\n",
       "        .queen { background-color: #f4cccc; font-weight: bold; color: black; }\n",
       "        .conflict { background-color: #f9f9f9; color: gray; }\n",
       "    </style>\n",
       "    <table>\n",
       "    <tr><td class=\"conflict\">2</td><td class=\"queen\">Q 1</td><td class=\"conflict\">3</td><td class=\"conflict\">3</td><td class=\"conflict\">2</td><td class=\"conflict\">4</td><td class=\"conflict\">2</td><td class=\"conflict\">3</td></tr><tr><td class=\"conflict\">3</td><td class=\"conflict\">3</td><td class=\"conflict\">3</td><td class=\"conflict\">4</td><td class=\"conflict\">3</td><td class=\"conflict\">2</td><td class=\"queen\">Q 1</td><td class=\"conflict\">3</td></tr><tr><td class=\"conflict\">1</td><td class=\"conflict\">3</td><td class=\"queen\">Q 1</td><td class=\"conflict\">4</td><td class=\"conflict\">2</td><td class=\"conflict\">4</td><td class=\"conflict\">3</td><td class=\"conflict\">4</td></tr><tr><td class=\"conflict\">1</td><td class=\"conflict\">3</td><td class=\"conflict\">4</td><td class=\"conflict\">3</td><td class=\"conflict\">3</td><td class=\"queen\">Q 1</td><td class=\"conflict\">4</td><td class=\"conflict\">3</td></tr><tr><td class=\"conflict\">3</td><td class=\"conflict\">3</td><td class=\"conflict\">2</td><td class=\"conflict\">4</td><td class=\"conflict\">3</td><td class=\"conflict\">4</td><td class=\"conflict\">4</td><td class=\"queen\">Q 1</td></tr><tr><td class=\"queen\">Q 1</td><td class=\"conflict\">4</td><td class=\"conflict\">4</td><td class=\"conflict\">4</td><td class=\"queen\">Q 1</td><td class=\"conflict\">5</td><td class=\"conflict\">5</td><td class=\"conflict\">4</td></tr><tr><td class=\"conflict\">0</td><td class=\"conflict\">3</td><td class=\"conflict\">3</td><td class=\"conflict\">2</td><td class=\"conflict\">1</td><td class=\"conflict\">3</td><td class=\"conflict\">2</td><td class=\"conflict\">2</td></tr><tr><td class=\"conflict\">2</td><td class=\"conflict\">3</td><td class=\"conflict\">4</td><td class=\"queen\">Q 1</td><td class=\"conflict\">2</td><td class=\"conflict\">2</td><td class=\"conflict\">3</td><td class=\"conflict\">3</td></tr></table>"
      ],
      "text/plain": [
       "<IPython.core.display.HTML object>"
      ]
     },
     "metadata": {},
     "output_type": "display_data"
    },
    {
     "name": "stdout",
     "output_type": "stream",
     "text": [
      "88 \t column 2 Queen, row 5 to 1\n"
     ]
    },
    {
     "data": {
      "text/html": [
       "\n",
       "    <style>\n",
       "        table { border-collapse: collapse; font-family: Arial, sans-serif; }\n",
       "        td { border: 1px solid black; height: 40px; width: 40px; text-align: center; font-size: 18px; }\n",
       "        .queen { background-color: #f4cccc; font-weight: bold; color: black; }\n",
       "        .conflict { background-color: #f9f9f9; color: gray; }\n",
       "    </style>\n",
       "    <table>\n",
       "    <tr><td class=\"conflict\">2</td><td class=\"queen\">Q 1</td><td class=\"conflict\">3</td><td class=\"conflict\">3</td><td class=\"conflict\">2</td><td class=\"conflict\">4</td><td class=\"conflict\">2</td><td class=\"conflict\">3</td></tr><tr><td class=\"conflict\">3</td><td class=\"conflict\">3</td><td class=\"conflict\">3</td><td class=\"conflict\">4</td><td class=\"conflict\">3</td><td class=\"conflict\">2</td><td class=\"queen\">Q 1</td><td class=\"conflict\">3</td></tr><tr><td class=\"conflict\">1</td><td class=\"conflict\">3</td><td class=\"queen\">Q 1</td><td class=\"conflict\">4</td><td class=\"conflict\">2</td><td class=\"conflict\">4</td><td class=\"conflict\">3</td><td class=\"conflict\">4</td></tr><tr><td class=\"conflict\">1</td><td class=\"conflict\">3</td><td class=\"conflict\">4</td><td class=\"conflict\">3</td><td class=\"conflict\">3</td><td class=\"queen\">Q 1</td><td class=\"conflict\">4</td><td class=\"conflict\">3</td></tr><tr><td class=\"conflict\">3</td><td class=\"conflict\">3</td><td class=\"conflict\">2</td><td class=\"conflict\">4</td><td class=\"conflict\">3</td><td class=\"conflict\">4</td><td class=\"conflict\">4</td><td class=\"queen\">Q 1</td></tr><tr><td class=\"queen\">Q 1</td><td class=\"conflict\">4</td><td class=\"conflict\">4</td><td class=\"conflict\">4</td><td class=\"queen\">Q 1</td><td class=\"conflict\">5</td><td class=\"conflict\">5</td><td class=\"conflict\">4</td></tr><tr><td class=\"conflict\">0</td><td class=\"conflict\">3</td><td class=\"conflict\">3</td><td class=\"conflict\">2</td><td class=\"conflict\">1</td><td class=\"conflict\">3</td><td class=\"conflict\">2</td><td class=\"conflict\">2</td></tr><tr><td class=\"conflict\">2</td><td class=\"conflict\">3</td><td class=\"conflict\">4</td><td class=\"queen\">Q 1</td><td class=\"conflict\">2</td><td class=\"conflict\">2</td><td class=\"conflict\">3</td><td class=\"conflict\">3</td></tr></table>"
      ],
      "text/plain": [
       "<IPython.core.display.HTML object>"
      ]
     },
     "metadata": {},
     "output_type": "display_data"
    },
    {
     "name": "stdout",
     "output_type": "stream",
     "text": [
      "89 \t column 5 Queen, row 5 to 6\n"
     ]
    },
    {
     "data": {
      "text/html": [
       "\n",
       "    <style>\n",
       "        table { border-collapse: collapse; font-family: Arial, sans-serif; }\n",
       "        td { border: 1px solid black; height: 40px; width: 40px; text-align: center; font-size: 18px; }\n",
       "        .queen { background-color: #f4cccc; font-weight: bold; color: black; }\n",
       "        .conflict { background-color: #f9f9f9; color: gray; }\n",
       "    </style>\n",
       "    <table>\n",
       "    <tr><td class=\"conflict\">2</td><td class=\"queen\">Q 1</td><td class=\"conflict\">3</td><td class=\"conflict\">3</td><td class=\"conflict\">2</td><td class=\"conflict\">4</td><td class=\"conflict\">2</td><td class=\"conflict\">3</td></tr><tr><td class=\"conflict\">3</td><td class=\"conflict\">3</td><td class=\"conflict\">3</td><td class=\"conflict\">4</td><td class=\"conflict\">3</td><td class=\"conflict\">2</td><td class=\"queen\">Q 1</td><td class=\"conflict\">3</td></tr><tr><td class=\"conflict\">1</td><td class=\"conflict\">3</td><td class=\"queen\">Q 1</td><td class=\"conflict\">4</td><td class=\"conflict\">2</td><td class=\"conflict\">4</td><td class=\"conflict\">3</td><td class=\"conflict\">4</td></tr><tr><td class=\"conflict\">1</td><td class=\"conflict\">3</td><td class=\"conflict\">4</td><td class=\"conflict\">3</td><td class=\"conflict\">3</td><td class=\"queen\">Q 1</td><td class=\"conflict\">4</td><td class=\"conflict\">3</td></tr><tr><td class=\"conflict\">3</td><td class=\"conflict\">3</td><td class=\"conflict\">2</td><td class=\"conflict\">4</td><td class=\"conflict\">3</td><td class=\"conflict\">4</td><td class=\"conflict\">4</td><td class=\"queen\">Q 1</td></tr><tr><td class=\"queen\">Q 1</td><td class=\"conflict\">4</td><td class=\"conflict\">4</td><td class=\"conflict\">4</td><td class=\"queen\">Q 1</td><td class=\"conflict\">5</td><td class=\"conflict\">5</td><td class=\"conflict\">4</td></tr><tr><td class=\"conflict\">0</td><td class=\"conflict\">3</td><td class=\"conflict\">3</td><td class=\"conflict\">2</td><td class=\"conflict\">1</td><td class=\"conflict\">3</td><td class=\"conflict\">2</td><td class=\"conflict\">2</td></tr><tr><td class=\"conflict\">2</td><td class=\"conflict\">3</td><td class=\"conflict\">4</td><td class=\"queen\">Q 1</td><td class=\"conflict\">2</td><td class=\"conflict\">2</td><td class=\"conflict\">3</td><td class=\"conflict\">3</td></tr></table>"
      ],
      "text/plain": [
       "<IPython.core.display.HTML object>"
      ]
     },
     "metadata": {},
     "output_type": "display_data"
    },
    {
     "name": "stdout",
     "output_type": "stream",
     "text": [
      "90 \t column 3 Queen, row 5 to 3\n"
     ]
    },
    {
     "data": {
      "text/html": [
       "\n",
       "    <style>\n",
       "        table { border-collapse: collapse; font-family: Arial, sans-serif; }\n",
       "        td { border: 1px solid black; height: 40px; width: 40px; text-align: center; font-size: 18px; }\n",
       "        .queen { background-color: #f4cccc; font-weight: bold; color: black; }\n",
       "        .conflict { background-color: #f9f9f9; color: gray; }\n",
       "    </style>\n",
       "    <table>\n",
       "    <tr><td class=\"conflict\">2</td><td class=\"queen\">Q 1</td><td class=\"conflict\">3</td><td class=\"conflict\">3</td><td class=\"conflict\">2</td><td class=\"conflict\">4</td><td class=\"conflict\">2</td><td class=\"conflict\">3</td></tr><tr><td class=\"conflict\">3</td><td class=\"conflict\">3</td><td class=\"conflict\">3</td><td class=\"conflict\">4</td><td class=\"conflict\">3</td><td class=\"conflict\">2</td><td class=\"queen\">Q 1</td><td class=\"conflict\">3</td></tr><tr><td class=\"conflict\">1</td><td class=\"conflict\">3</td><td class=\"queen\">Q 1</td><td class=\"conflict\">4</td><td class=\"conflict\">2</td><td class=\"conflict\">4</td><td class=\"conflict\">3</td><td class=\"conflict\">4</td></tr><tr><td class=\"conflict\">1</td><td class=\"conflict\">3</td><td class=\"conflict\">4</td><td class=\"conflict\">3</td><td class=\"conflict\">3</td><td class=\"queen\">Q 1</td><td class=\"conflict\">4</td><td class=\"conflict\">3</td></tr><tr><td class=\"conflict\">3</td><td class=\"conflict\">3</td><td class=\"conflict\">2</td><td class=\"conflict\">4</td><td class=\"conflict\">3</td><td class=\"conflict\">4</td><td class=\"conflict\">4</td><td class=\"queen\">Q 1</td></tr><tr><td class=\"queen\">Q 1</td><td class=\"conflict\">4</td><td class=\"conflict\">4</td><td class=\"conflict\">4</td><td class=\"queen\">Q 1</td><td class=\"conflict\">5</td><td class=\"conflict\">5</td><td class=\"conflict\">4</td></tr><tr><td class=\"conflict\">0</td><td class=\"conflict\">3</td><td class=\"conflict\">3</td><td class=\"conflict\">2</td><td class=\"conflict\">1</td><td class=\"conflict\">3</td><td class=\"conflict\">2</td><td class=\"conflict\">2</td></tr><tr><td class=\"conflict\">2</td><td class=\"conflict\">3</td><td class=\"conflict\">4</td><td class=\"queen\">Q 1</td><td class=\"conflict\">2</td><td class=\"conflict\">2</td><td class=\"conflict\">3</td><td class=\"conflict\">3</td></tr></table>"
      ],
      "text/plain": [
       "<IPython.core.display.HTML object>"
      ]
     },
     "metadata": {},
     "output_type": "display_data"
    },
    {
     "name": "stdout",
     "output_type": "stream",
     "text": [
      "91 \t column 1 Queen, row 5 to 7\n"
     ]
    },
    {
     "data": {
      "text/html": [
       "\n",
       "    <style>\n",
       "        table { border-collapse: collapse; font-family: Arial, sans-serif; }\n",
       "        td { border: 1px solid black; height: 40px; width: 40px; text-align: center; font-size: 18px; }\n",
       "        .queen { background-color: #f4cccc; font-weight: bold; color: black; }\n",
       "        .conflict { background-color: #f9f9f9; color: gray; }\n",
       "    </style>\n",
       "    <table>\n",
       "    <tr><td class=\"conflict\">2</td><td class=\"queen\">Q </td><td class=\"conflict\">2</td><td class=\"conflict\">2</td><td class=\"conflict\">2</td><td class=\"conflict\">2</td><td class=\"conflict\">2</td><td class=\"conflict\">2</td></tr><tr><td class=\"conflict\">3</td><td class=\"conflict\">2</td><td class=\"conflict\">2</td><td class=\"conflict\">3</td><td class=\"conflict\">2</td><td class=\"conflict\">2</td><td class=\"queen\">Q </td><td class=\"conflict\">2</td></tr><tr><td class=\"conflict\">1</td><td class=\"conflict\">2</td><td class=\"queen\">Q </td><td class=\"conflict\">2</td><td class=\"conflict\">3</td><td class=\"conflict\">3</td><td class=\"conflict\">2</td><td class=\"conflict\">3</td></tr><tr><td class=\"conflict\">1</td><td class=\"conflict\">2</td><td class=\"conflict\">2</td><td class=\"conflict\">3</td><td class=\"conflict\">3</td><td class=\"queen\">Q </td><td class=\"conflict\">3</td><td class=\"conflict\">2</td></tr><tr><td class=\"conflict\">3</td><td class=\"conflict\">1</td><td class=\"conflict\">2</td><td class=\"conflict\">3</td><td class=\"conflict\">3</td><td class=\"conflict\">3</td><td class=\"conflict\">3</td><td class=\"queen\">Q </td></tr><tr><td class=\"conflict\">1</td><td class=\"conflict\">3</td><td class=\"conflict\">2</td><td class=\"conflict\">2</td><td class=\"queen\">Q </td><td class=\"conflict\">3</td><td class=\"conflict\">3</td><td class=\"conflict\">2</td></tr><tr><td class=\"queen\">Q </td><td class=\"conflict\">2</td><td class=\"conflict\">3</td><td class=\"conflict\">2</td><td class=\"conflict\">2</td><td class=\"conflict\">3</td><td class=\"conflict\">2</td><td class=\"conflict\">2</td></tr><tr><td class=\"conflict\">2</td><td class=\"conflict\">3</td><td class=\"conflict\">2</td><td class=\"queen\">Q </td><td class=\"conflict\">2</td><td class=\"conflict\">1</td><td class=\"conflict\">2</td><td class=\"conflict\">2</td></tr></table>"
      ],
      "text/plain": [
       "<IPython.core.display.HTML object>"
      ]
     },
     "metadata": {},
     "output_type": "display_data"
    },
    {
     "name": "stdout",
     "output_type": "stream",
     "text": [
      "Final Board: [6, 0, 2, 7, 5, 3, 1, 4]\n",
      "Conflicts: 0\n"
     ]
    }
   ],
   "source": [
    "temp_board = board[:]\n",
    "solution, conflicts = simulated_annealing_with_heuristic(temp_board, n, initial_temperature=100, cooling_rate=0.95)\n",
    "print(\"Final Board:\", solution)\n",
    "print(\"Conflicts:\", conflicts)"
   ]
  }
 ],
 "metadata": {
  "kernelspec": {
   "display_name": "base",
   "language": "python",
   "name": "python3"
  },
  "language_info": {
   "codemirror_mode": {
    "name": "ipython",
    "version": 3
   },
   "file_extension": ".py",
   "mimetype": "text/x-python",
   "name": "python",
   "nbconvert_exporter": "python",
   "pygments_lexer": "ipython3",
   "version": "3.12.2"
  }
 },
 "nbformat": 4,
 "nbformat_minor": 5
}
