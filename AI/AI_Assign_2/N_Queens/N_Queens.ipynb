{
 "cells": [
  {
   "cell_type": "markdown",
   "id": "20ff0e3b",
   "metadata": {},
   "source": [
    "Q2.  Consider a simple N-Queens problem.\n",
    "  Take a suitable value of N and write a Python code for simulated annealing to solve the problem.  \n",
    "  As we know, if we take T=0 in SA, it falls back to simple hill climbing search.  \n",
    "  Modify the SA algorithm in order to make it an HC solution.  \n",
    "  In the report, write proper theoretical justification in support of your modification (e.g., calculation of the acceptance probability) and the behavioral difference between the two approaches.  \n",
    "  (Note: No marks will be given for simply implementing the HC solution.)"
   ]
  },
  {
   "cell_type": "code",
   "execution_count": null,
   "id": "a8dce9ea",
   "metadata": {},
   "outputs": [],
   "source": [
    "import random, math\n",
    "import pandas as pd\n",
    "import numpy as np\n",
    "random.seed(42)\n",
    "np.random.seed(42)"
   ]
  },
  {
   "cell_type": "code",
   "execution_count": 21,
   "id": "dab6eeed",
   "metadata": {},
   "outputs": [
    {
     "data": {
      "text/html": [
       "\n",
       "    <style>\n",
       "        table { border-collapse: collapse; font-family: Arial, sans-serif; }\n",
       "        td { border: 1px solid black; height: 40px; width: 40px; text-align: center; font-size: 18px; }\n",
       "        .queen { background-color: #f4cccc; font-weight: bold; color: black; }\n",
       "    </style>\n",
       "    <table>\n",
       "    <tr><td></td><td></td><td class=\"queen\">Q</td><td></td></tr><tr><td class=\"queen\">Q</td><td></td><td></td><td></td></tr><tr><td></td><td></td><td></td><td class=\"queen\">Q</td></tr><tr><td></td><td class=\"queen\">Q</td><td></td><td></td></tr></table>"
      ],
      "text/plain": [
       "<IPython.core.display.HTML object>"
      ]
     },
     "metadata": {},
     "output_type": "display_data"
    }
   ],
   "source": [
    "from IPython.display import display, HTML\n",
    "\n",
    "def n_queens_to_html(board = [1, 3,0,2] ):\n",
    "    \"\"\"\n",
    "    Generates an HTML table representation of an N-Queens board.\n",
    "\n",
    "    Args:\n",
    "        board (list of int): 1D list representing the N-Queens board.\n",
    "                             Each index represents a column, and the value at that index represents the row of the queen.\n",
    "\n",
    "    Returns:\n",
    "        str: HTML string for the N-Queens board.\n",
    "    \"\"\"\n",
    "    n = len(board)\n",
    "    html = \"\"\"\n",
    "    <style>\n",
    "        table { border-collapse: collapse; font-family: Arial, sans-serif; }\n",
    "        td { border: 1px solid black; height: 40px; width: 40px; text-align: center; font-size: 18px; }\n",
    "        .queen { background-color: #f4cccc; font-weight: bold; color: black; }\n",
    "    </style>\n",
    "    <table>\n",
    "    \"\"\"\n",
    "\n",
    "    for i in range(n):\n",
    "        html += \"<tr>\"\n",
    "        for j in range(n):\n",
    "            # Check if the current cell contains a queen\n",
    "            if board[j] == i:\n",
    "                html += '<td class=\"queen\">Q</td>'\n",
    "            else:\n",
    "                html += \"<td></td>\"\n",
    "        html += \"</tr>\"\n",
    "\n",
    "    html += \"</table>\"\n",
    "    return html\n",
    "\n",
    "display(HTML(n_queens_to_html(board=[1, 3,0,2])))"
   ]
  },
  {
   "cell_type": "code",
   "execution_count": 22,
   "id": "08faf3f3",
   "metadata": {},
   "outputs": [],
   "source": [
    "def display_board(board):\n",
    "    n = len(board)\n",
    "    board_2d = [[0] * n for _ in range(n)]\n",
    "    for col, row in enumerate(board):\n",
    "        board_2d[row][col] = 1\n",
    "    df = pd.DataFrame(board_2d)\n",
    "    print(df)"
   ]
  },
  {
   "cell_type": "code",
   "execution_count": 23,
   "id": "e71c638f",
   "metadata": {},
   "outputs": [],
   "source": [
    "# Function to calculate the number of conflicts in the board\n",
    "def calculate_conflicts(board):\n",
    "    n = len(board)\n",
    "    conflicts = 0\n",
    "    for i in range(n):\n",
    "        for j in range(i + 1, n):\n",
    "            if board[i] == board[j] or abs(board[i] - board[j]) == abs(i - j):\n",
    "                conflicts += 1\n",
    "    return conflicts"
   ]
  },
  {
   "cell_type": "code",
   "execution_count": 24,
   "id": "e4345cf9",
   "metadata": {},
   "outputs": [],
   "source": [
    "# Function to generate a random neighbor\n",
    "def get_neighbor(board):\n",
    "    n = len(board)\n",
    "    neighbor = board[:]\n",
    "    col = random.randint(0, n - 1)\n",
    "    row = random.randint(0, n - 1)\n",
    "    neighbor[col] = row\n",
    "    return neighbor"
   ]
  },
  {
   "cell_type": "code",
   "execution_count": 25,
   "id": "6b8f3695",
   "metadata": {},
   "outputs": [],
   "source": [
    "# Simulated Annealing algorithm\n",
    "def simulated_annealing(n, initial_temperature, cooling_rate):\n",
    "    # Initialize the board randomly\n",
    "    board = [random.randint(0, n - 1) for _ in range(n)]\n",
    "    current_conflicts = calculate_conflicts(board)\n",
    "    temperature = initial_temperature\n",
    "\n",
    "    while temperature > 0 and current_conflicts > 0:\n",
    "        neighbor = get_neighbor(board)\n",
    "        neighbor_conflicts = calculate_conflicts(neighbor)\n",
    "        delta = neighbor_conflicts - current_conflicts\n",
    "\n",
    "        # Acceptance probability\n",
    "        if delta < 0 or random.uniform(0, 1) < math.exp(-delta / temperature):\n",
    "            board = neighbor\n",
    "            current_conflicts = neighbor_conflicts\n",
    "\n",
    "        # Cool down\n",
    "        temperature *= cooling_rate\n",
    "\n",
    "    return board, current_conflicts"
   ]
  },
  {
   "cell_type": "code",
   "execution_count": 26,
   "id": "e58afec5",
   "metadata": {},
   "outputs": [],
   "source": [
    "# Hill Climbing algorithm (modified SA with T=0)\n",
    "def hill_climbing(n):\n",
    "    # Initialize the board randomly\n",
    "    board = [random.randint(0, n - 1) for _ in range(n)]\n",
    "    current_conflicts = calculate_conflicts(board)\n",
    "\n",
    "    while current_conflicts > 0:\n",
    "        neighbor = get_neighbor(board)\n",
    "        neighbor_conflicts = calculate_conflicts(neighbor)\n",
    "\n",
    "        # Only accept better neighbors\n",
    "        if neighbor_conflicts < current_conflicts:\n",
    "            board = neighbor\n",
    "            current_conflicts = neighbor_conflicts\n",
    "\n",
    "    return board, current_conflicts"
   ]
  },
  {
   "cell_type": "code",
   "execution_count": 29,
   "id": "0dfc4768",
   "metadata": {},
   "outputs": [
    {
     "name": "stdout",
     "output_type": "stream",
     "text": [
      "Simulated Annealing Solution:\n",
      "Board: [4, 1, 3, 6, 2, 7, 5, 0]\n",
      "Conflicts: 0\n"
     ]
    },
    {
     "data": {
      "text/html": [
       "\n",
       "    <style>\n",
       "        table { border-collapse: collapse; font-family: Arial, sans-serif; }\n",
       "        td { border: 1px solid black; height: 40px; width: 40px; text-align: center; font-size: 18px; }\n",
       "        .queen { background-color: #f4cccc; font-weight: bold; color: black; }\n",
       "    </style>\n",
       "    <table>\n",
       "    <tr><td></td><td></td><td></td><td></td><td></td><td></td><td></td><td class=\"queen\">Q</td></tr><tr><td></td><td class=\"queen\">Q</td><td></td><td></td><td></td><td></td><td></td><td></td></tr><tr><td></td><td></td><td></td><td></td><td class=\"queen\">Q</td><td></td><td></td><td></td></tr><tr><td></td><td></td><td class=\"queen\">Q</td><td></td><td></td><td></td><td></td><td></td></tr><tr><td class=\"queen\">Q</td><td></td><td></td><td></td><td></td><td></td><td></td><td></td></tr><tr><td></td><td></td><td></td><td></td><td></td><td></td><td class=\"queen\">Q</td><td></td></tr><tr><td></td><td></td><td></td><td class=\"queen\">Q</td><td></td><td></td><td></td><td></td></tr><tr><td></td><td></td><td></td><td></td><td></td><td class=\"queen\">Q</td><td></td><td></td></tr></table>"
      ],
      "text/plain": [
       "<IPython.core.display.HTML object>"
      ]
     },
     "metadata": {},
     "output_type": "display_data"
    }
   ],
   "source": [
    "N = 8  # Change N as needed\n",
    "\n",
    "print(\"Simulated Annealing Solution:\")\n",
    "sa_solution, sa_conflicts = simulated_annealing(N, initial_temperature=100, cooling_rate=0.95)\n",
    "print(\"Board:\", sa_solution)\n",
    "print(\"Conflicts:\", sa_conflicts)\n",
    "display(HTML(n_queens_to_html(sa_solution)))"
   ]
  },
  {
   "cell_type": "code",
   "execution_count": null,
   "id": "8ecadb78",
   "metadata": {},
   "outputs": [],
   "source": [
    "# print(\"\\nHill Climbing Solution:\")\n",
    "# hc_solution, hc_conflicts = hill_climbing(N)\n",
    "# print(\"Board:\", hc_solution)\n",
    "# print(\"Conflicts:\", hc_conflicts)"
   ]
  }
 ],
 "metadata": {
  "kernelspec": {
   "display_name": "base",
   "language": "python",
   "name": "python3"
  },
  "language_info": {
   "codemirror_mode": {
    "name": "ipython",
    "version": 3
   },
   "file_extension": ".py",
   "mimetype": "text/x-python",
   "name": "python",
   "nbconvert_exporter": "python",
   "pygments_lexer": "ipython3",
   "version": "3.12.2"
  }
 },
 "nbformat": 4,
 "nbformat_minor": 5
}
