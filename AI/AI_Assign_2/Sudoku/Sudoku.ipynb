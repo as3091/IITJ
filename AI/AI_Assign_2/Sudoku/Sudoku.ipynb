{
 "cells": [
  {
   "cell_type": "markdown",
   "id": "4f6186b3",
   "metadata": {},
   "source": [
    "### Q1.Design a Sudoku puzzle where the board consists of 81 squares, some of which are initially filled with digits from 1 to 9.  \n",
    "\n",
    "The puzzle is to fill in all the remaining squares such that no digit appears twice in any row, column, or 3 × 3 box.  \n",
    "A row, column, or box is called a unit.  \n",
    "\n",
    "1.\tRepresent the Sudoku problem in  CSP by identifying the variable, domain, and constraint.\n",
    "2.\tImplement the problem using backtracking search, what is avg. time taken by the algorithm for 10 runs.\n",
    "3.\tAnalyse how different fault finding algorithms such as Forward Checking, Arc consistency improve the computational time of backtracking search?\n",
    "4.\tAnalyse how different Heuristics MRV (Minimum Remaining Values), Degree heuristic, Least Constraining Value affect the  computational time of backtracking search?\n"
   ]
  },
  {
   "cell_type": "code",
   "execution_count": 90,
   "id": "481554fe",
   "metadata": {},
   "outputs": [],
   "source": [
    "import numpy as np\n",
    "from pprint  import pprint \n",
    "import sys,warnings,copy\n",
    "warnings.filterwarnings(\"ignore\", category=UserWarning)  "
   ]
  },
  {
   "cell_type": "code",
   "execution_count": 91,
   "id": "98256648",
   "metadata": {},
   "outputs": [],
   "source": [
    "\n",
    "base  = 3\n",
    "side  = base*base\n",
    "\n",
    "# pattern for a baseline valid solution\n",
    "def pattern(r,c): return (base*(r%base)+r//base+c)%side\n",
    "\n",
    "# randomize rows, columns and numbers (of valid base pattern)\n",
    "from random import sample\n",
    "def shuffle(s): return sample(s,len(s)) \n",
    "rBase = range(base) \n",
    "rows  = [ g*base + r for g in shuffle(rBase) for r in shuffle(rBase) ] \n",
    "cols  = [ g*base + c for g in shuffle(rBase) for c in shuffle(rBase) ]\n",
    "nums  = shuffle(range(1,base*base+1))\n",
    "\n",
    "# produce board using randomized baseline pattern\n",
    "solution = [ [nums[pattern(r,c)] for c in cols] for r in rows ]\n",
    "# print(solution)\n",
    "board = np.array(solution)\n",
    "\n",
    "# original_array = np.array([[1, 2, 3], [4, 5, 6], [7, 8, 9]])\n",
    "\n",
    "# # Deep copy of the array\n",
    "# copied_array = original_array.copy()\n",
    "\n",
    "squares = side*side\n",
    "empties = squares * 3//4\n",
    "for p in sample(range(squares),empties):\n",
    "    board[p//side][p%side] = 0\n",
    "\n",
    "numSize = len(str(side))\n",
    "# for line in board:\n",
    "#     print(*(f\"{n or '.':{numSize}} \" for n in line))\n",
    "# print(solution)"
   ]
  },
  {
   "cell_type": "code",
   "execution_count": 92,
   "id": "10b6ad79",
   "metadata": {},
   "outputs": [],
   "source": [
    "def shortSudokuSolve(board):\n",
    "    side   = len(board)\n",
    "    base   = int(side**0.5)\n",
    "    board  = [n for row in board for n in row ]\n",
    "    blanks = [i for i,n in enumerate(board) if n==0 ]\n",
    "    cover  = { (n,p):{*zip([2*side+r, side+c, r//base*base+c//base],[n]*(n and 3))}\n",
    "                for p in range(side*side) for r,c in [divmod(p,side)] for n in range(side+1) }\n",
    "    used   = set().union(*(cover[n,p] for p,n in enumerate(board) if n))\n",
    "    placed = 0\n",
    "    while placed>=0 and placed<len(blanks):\n",
    "        pos        = blanks[placed]\n",
    "        used      -= cover[board[pos],pos]\n",
    "        board[pos] = next((n for n in range(board[pos]+1,side+1) if not cover[n,pos]&used),0)\n",
    "        used      |= cover[board[pos],pos]\n",
    "        placed    += 1 if board[pos] else -1\n",
    "        if placed == len(blanks):\n",
    "            solution = [board[r:r+side] for r in range(0,side*side,side)]\n",
    "            yield solution\n",
    "            placed -= 1"
   ]
  },
  {
   "cell_type": "code",
   "execution_count": 93,
   "id": "e83fc51e",
   "metadata": {},
   "outputs": [],
   "source": [
    "from IPython.display import display, HTML\n",
    "\n",
    "def sudoku_to_html(board):\n",
    "    \"\"\"\n",
    "    Generates an HTML table representation of a Sudoku board with thick edges for subgrids.\n",
    "\n",
    "    Args:\n",
    "        board (list of list of int): 2D list representing the Sudoku board.\n",
    "                                     Empty cells should be represented by 0 or '.'.\n",
    "\n",
    "    Returns:\n",
    "        str: HTML string for the Sudoku board.\n",
    "    \"\"\"\n",
    "    html = \"\"\"\n",
    "    <style>\n",
    "        table { border-collapse: collapse; font-family: Arial, sans-serif; }\n",
    "        td { border: 1px solid black; height: 40px; width: 40px; text-align: center; font-size: 18px; }\n",
    "        .thick-border-top { border-top: 3px solid black; }\n",
    "        .thick-border-left { border-left: 3px solid black; }\n",
    "    </style>\n",
    "    <table>\n",
    "    \"\"\"\n",
    "\n",
    "    for i, row in enumerate(board):\n",
    "        html += \"<tr>\"\n",
    "        for j, cell in enumerate(row):\n",
    "            # Apply thicker borders for subgrid boundaries\n",
    "            classes = []\n",
    "            if i % 3 == 0 and i != 0:\n",
    "                classes.append(\"thick-border-top\")\n",
    "            if j % 3 == 0 and j != 0:\n",
    "                classes.append(\"thick-border-left\")\n",
    "            \n",
    "            class_attr = f'class=\"{\" \".join(classes)}\"' if classes else \"\"\n",
    "            html += f\"<td {class_attr}>{cell if cell != 0 else ''}</td>\"\n",
    "        html += \"</tr>\"\n",
    "\n",
    "    html += \"</table>\"\n",
    "    return html"
   ]
  },
  {
   "cell_type": "code",
   "execution_count": 94,
   "id": "051018c2",
   "metadata": {},
   "outputs": [
    {
     "data": {
      "text/html": [
       "\n",
       "    <style>\n",
       "        table { border-collapse: collapse; font-family: Arial, sans-serif; }\n",
       "        td { border: 1px solid black; height: 40px; width: 40px; text-align: center; font-size: 18px; }\n",
       "        .thick-border-top { border-top: 3px solid black; }\n",
       "        .thick-border-left { border-left: 3px solid black; }\n",
       "    </style>\n",
       "    <table>\n",
       "    <tr><td ></td><td ></td><td >1</td><td class=\"thick-border-left\">4</td><td >6</td><td >5</td><td class=\"thick-border-left\"></td><td ></td><td ></td></tr><tr><td >7</td><td >3</td><td ></td><td class=\"thick-border-left\"></td><td ></td><td ></td><td class=\"thick-border-left\">6</td><td ></td><td ></td></tr><tr><td ></td><td >4</td><td ></td><td class=\"thick-border-left\">3</td><td >2</td><td >7</td><td class=\"thick-border-left\"></td><td ></td><td ></td></tr><tr><td class=\"thick-border-top\">3</td><td class=\"thick-border-top\"></td><td class=\"thick-border-top\"></td><td class=\"thick-border-top thick-border-left\"></td><td class=\"thick-border-top\"></td><td class=\"thick-border-top\"></td><td class=\"thick-border-top thick-border-left\"></td><td class=\"thick-border-top\"></td><td class=\"thick-border-top\"></td></tr><tr><td ></td><td ></td><td ></td><td class=\"thick-border-left\">1</td><td ></td><td ></td><td class=\"thick-border-left\"></td><td ></td><td ></td></tr><tr><td ></td><td >6</td><td ></td><td class=\"thick-border-left\"></td><td ></td><td ></td><td class=\"thick-border-left\"></td><td >1</td><td ></td></tr><tr><td class=\"thick-border-top\"></td><td class=\"thick-border-top\">5</td><td class=\"thick-border-top\"></td><td class=\"thick-border-top thick-border-left\"></td><td class=\"thick-border-top\"></td><td class=\"thick-border-top\"></td><td class=\"thick-border-top thick-border-left\">3</td><td class=\"thick-border-top\">9</td><td class=\"thick-border-top\"></td></tr><tr><td ></td><td >7</td><td ></td><td class=\"thick-border-left\">9</td><td ></td><td ></td><td class=\"thick-border-left\"></td><td ></td><td ></td></tr><tr><td >2</td><td ></td><td ></td><td class=\"thick-border-left\"></td><td ></td><td ></td><td class=\"thick-border-left\"></td><td ></td><td ></td></tr></table>"
      ],
      "text/plain": [
       "<IPython.core.display.HTML object>"
      ]
     },
     "metadata": {},
     "output_type": "display_data"
    },
    {
     "data": {
      "text/html": [
       "\n",
       "    <style>\n",
       "        table { border-collapse: collapse; font-family: Arial, sans-serif; }\n",
       "        td { border: 1px solid black; height: 40px; width: 40px; text-align: center; font-size: 18px; }\n",
       "        .thick-border-top { border-top: 3px solid black; }\n",
       "        .thick-border-left { border-left: 3px solid black; }\n",
       "    </style>\n",
       "    <table>\n",
       "    <tr><td >9</td><td >8</td><td >1</td><td class=\"thick-border-left\">4</td><td >6</td><td >5</td><td class=\"thick-border-left\">2</td><td >3</td><td >7</td></tr><tr><td >7</td><td >3</td><td >2</td><td class=\"thick-border-left\">8</td><td >1</td><td >9</td><td class=\"thick-border-left\">6</td><td >4</td><td >5</td></tr><tr><td >5</td><td >4</td><td >6</td><td class=\"thick-border-left\">3</td><td >2</td><td >7</td><td class=\"thick-border-left\">1</td><td >8</td><td >9</td></tr><tr><td class=\"thick-border-top\">3</td><td class=\"thick-border-top\">1</td><td class=\"thick-border-top\">9</td><td class=\"thick-border-top thick-border-left\">6</td><td class=\"thick-border-top\">5</td><td class=\"thick-border-top\">8</td><td class=\"thick-border-top thick-border-left\">7</td><td class=\"thick-border-top\">2</td><td class=\"thick-border-top\">4</td></tr><tr><td >4</td><td >2</td><td >7</td><td class=\"thick-border-left\">1</td><td >9</td><td >3</td><td class=\"thick-border-left\">5</td><td >6</td><td >8</td></tr><tr><td >8</td><td >6</td><td >5</td><td class=\"thick-border-left\">2</td><td >7</td><td >4</td><td class=\"thick-border-left\">9</td><td >1</td><td >3</td></tr><tr><td class=\"thick-border-top\">1</td><td class=\"thick-border-top\">5</td><td class=\"thick-border-top\">8</td><td class=\"thick-border-top thick-border-left\">7</td><td class=\"thick-border-top\">4</td><td class=\"thick-border-top\">6</td><td class=\"thick-border-top thick-border-left\">3</td><td class=\"thick-border-top\">9</td><td class=\"thick-border-top\">2</td></tr><tr><td >6</td><td >7</td><td >4</td><td class=\"thick-border-left\">9</td><td >3</td><td >2</td><td class=\"thick-border-left\">8</td><td >5</td><td >1</td></tr><tr><td >2</td><td >9</td><td >3</td><td class=\"thick-border-left\">5</td><td >8</td><td >1</td><td class=\"thick-border-left\">4</td><td >7</td><td >6</td></tr></table>"
      ],
      "text/plain": [
       "<IPython.core.display.HTML object>"
      ]
     },
     "metadata": {},
     "output_type": "display_data"
    }
   ],
   "source": [
    "# Generate and display the Sudoku board as HTML\n",
    "html_output = sudoku_to_html(board)\n",
    "display(HTML(html_output))\n",
    "\n",
    "html_output = sudoku_to_html(solution)\n",
    "display(HTML(html_output))\n"
   ]
  },
  {
   "cell_type": "code",
   "execution_count": 95,
   "id": "194d4016",
   "metadata": {},
   "outputs": [
    {
     "data": {
      "text/plain": [
       "array([[0, 0, 1, 4, 6, 5, 0, 0, 0],\n",
       "       [7, 3, 0, 0, 0, 0, 6, 0, 0],\n",
       "       [0, 4, 0, 3, 2, 7, 0, 0, 0],\n",
       "       [3, 0, 0, 0, 0, 0, 0, 0, 0],\n",
       "       [0, 0, 0, 1, 0, 0, 0, 0, 0],\n",
       "       [0, 6, 0, 0, 0, 0, 0, 1, 0],\n",
       "       [0, 5, 0, 0, 0, 0, 3, 9, 0],\n",
       "       [0, 7, 0, 9, 0, 0, 0, 0, 0],\n",
       "       [2, 0, 0, 0, 0, 0, 0, 0, 0]])"
      ]
     },
     "execution_count": 95,
     "metadata": {},
     "output_type": "execute_result"
    }
   ],
   "source": [
    "board"
   ]
  },
  {
   "cell_type": "markdown",
   "id": "bb97ba0c",
   "metadata": {},
   "source": [
    "1. Represent the Sudoku problem in CSP by identifying the variable, domain, and constraint."
   ]
  },
  {
   "cell_type": "code",
   "execution_count": 96,
   "id": "76a0a06e",
   "metadata": {},
   "outputs": [],
   "source": [
    "# def row_constraint(assignment, row):\n",
    "#     row_values = [assignment.get((row, c)) for c in range(9) if assignment.get((row, c)) is not None]\n",
    "#     return len(row_values) == len(set(row_values))\n",
    "\n",
    "# def col_constraint(assignment, col):\n",
    "#     col_values = [assignment.get((r, col)) for r in range(9) if assignment.get((r, col)) is not None]\n",
    "#     return len(col_values) == len(set(col_values))\n",
    "\n",
    "# def block_constraint(assignment, block_row, block_col):\n",
    "#     block_values = []\n",
    "#     for r in range(block_row * 3, block_row * 3 + 3):\n",
    "#         for c in range(block_col * 3, block_col * 3 + 3):\n",
    "#             value = assignment.get((r, c))\n",
    "#             if value is not None:\n",
    "#                 block_values.append(value)\n",
    "#     return len(block_values) == len(set(block_values))"
   ]
  },
  {
   "cell_type": "code",
   "execution_count": 97,
   "id": "edf33d54",
   "metadata": {},
   "outputs": [],
   "source": [
    "def constraints_check(variable,variables_dict, test_value):\n",
    "    \"\"\"\n",
    "    Checks if the test value satisfies all constraints.\n",
    "\n",
    "    Args:\n",
    "        assignment (dict): A dictionary mapping variables (row, col) to their assigned values.\n",
    "        variables_dict (dict): The CSP variables with their domains.\n",
    "        valriable (tuple): position of the cell on the board.\n",
    "\n",
    "    Returns:\n",
    "        bool: True if all constraints are satisfied, False otherwise.\n",
    "    \"\"\"\n",
    "    row = variables_dict[variable][\"row\"]\n",
    "    col = variables_dict[variable][\"col\"]\n",
    "    # check row constraint\n",
    "    row_values = [variables_dict[(row, c)][\"value\"] for c in range(9) if variables_dict[(row, c)][\"value\"] > 0]\n",
    "    if test_value in row_values:\n",
    "        return False\n",
    "    \n",
    "    # Check column constraint\n",
    "    else:\n",
    "        col_values = [variables_dict[(r, col)][\"value\"] for r in range(9) if variables_dict[(r, col)][\"value\"] > 0]\n",
    "        if test_value in col_values:\n",
    "            return False\n",
    "        \n",
    "        # Check block constraint\n",
    "        else:    \n",
    "            block_vales = []\n",
    "            block_row = row // 3\n",
    "            block_col = col // 3\n",
    "            for r in range(block_row * 3, block_row * 3 + 3):\n",
    "                for c in range(block_col * 3, block_col * 3 + 3):\n",
    "                    value = variables_dict[(r, c)][\"value\"]\n",
    "                    if value > 0 and test_value == value:\n",
    "                        return False\n",
    "            if test_value in block_vales:\n",
    "                return False\n",
    "            else:\n",
    "\n",
    "                # If all constraints are satisfied, return True\n",
    "                return True"
   ]
  },
  {
   "cell_type": "code",
   "execution_count": 98,
   "id": "6ad44fb8",
   "metadata": {},
   "outputs": [],
   "source": [
    "def represent_sudoku_csp(board):\n",
    "    \"\"\"\n",
    "    Represents a Sudoku board as a Constraint Satisfaction Problem (CSP) with detailed variable and constraint structures.\n",
    "\n",
    "    Args:\n",
    "        board (list of list of int): A 9x9 2D list representing the Sudoku board.\n",
    "                                     Empty cells are represented by 0.\n",
    "\n",
    "    Returns:\n",
    "        dict: A dictionary where each key is a tuple (row, col) representing a cell, and the value is another dictionary containing:\n",
    "            - 'row' (int): The row index of the cell.\n",
    "            - 'col' (int): The column index of the cell.\n",
    "            - 'value' (int or None): The value assigned to the cell, or None if the cell is empty.\n",
    "            - 'domain' (list of int): The possible values that can be assigned to the cell.\n",
    "                                      For pre-filled cells, this is a single-value list.\n",
    "            - 'constraints' (dict): A dictionary of constraint functions for the cell, including:\n",
    "                - 'row': A function to enforce the row constraint.\n",
    "                - 'col': A function to enforce the column constraint.\n",
    "                - 'box': A function to enforce the 3x3 subgrid constraint.\n",
    "\n",
    "    Notes:\n",
    "        - This function provides a more detailed representation of the CSP, where each variable (cell) is associated with its constraints and domain.\n",
    "        - The constraints ensure that no number is repeated in the same row, column, or 3x3 subgrid.\n",
    "        - This representation can be used with CSP solvers to solve the Sudoku puzzle.\n",
    "    \"\"\"\n",
    "    side = len(board)\n",
    "    variables = {}\n",
    "\n",
    "    for row in range(side):\n",
    "        for col in range(side):\n",
    "            variable = {\n",
    "                'row': row,\n",
    "                'col': col,\n",
    "                'value': board[row][col], # initial value, zero represents not filled yet\n",
    "                'domain': [board[row][col]] if board[row][col]>0 else list(range(1, 10)), # initial domains\n",
    "                'Filled': True if board[row][col]>0 else False, # value given by the puzzle\n",
    "                # 'constraints': {\n",
    "                #     'row': row_constraint, # function that returns true if the value does not exist in the row\n",
    "                #     'col': col_constraint, # function that returns true if the value does not exist in the column\n",
    "                #     'box': block_constraint # function that returns true if the value does not exist in the block\n",
    "                # }\n",
    "            }\n",
    "        \n",
    "            variables[(row, col)] = variable\n",
    "    return variables"
   ]
  },
  {
   "cell_type": "code",
   "execution_count": 99,
   "id": "172320a1",
   "metadata": {},
   "outputs": [
    {
     "name": "stdout",
     "output_type": "stream",
     "text": [
      "(0, 0)\n",
      "{'Filled': False,\n",
      " 'col': 0,\n",
      " 'domain': [1, 2, 3, 4, 5, 6, 7, 8, 9],\n",
      " 'row': 0,\n",
      " 'value': 0}\n"
     ]
    }
   ],
   "source": [
    "variables_dict = represent_sudoku_csp(board)\n",
    "key = list(variables_dict.keys())[0]\n",
    "print(key)\n",
    "pprint(variables_dict[key])\n",
    "# CSP representation of the first cell of the Sudoku board"
   ]
  },
  {
   "cell_type": "markdown",
   "id": "b22dab98",
   "metadata": {},
   "source": [
    "2. Implement the problem using backtracking search, what is avg. time taken by the algorithm for 10 runs."
   ]
  },
  {
   "cell_type": "code",
   "execution_count": 100,
   "id": "38229cad",
   "metadata": {},
   "outputs": [],
   "source": [
    "# def new_row_constraint(assignment, row):\n",
    "#     row_values = [assignment.get((row, c)) for c in range(9) if assignment.get((row, c)) is not None]\n",
    "#     return len(row_values) == len(set(row_values))\n",
    "\n",
    "# def col_constraint(assignment, col):\n",
    "#     col_values = [assignment.get((r, col)) for r in range(9) if assignment.get((r, col)) is not None]\n",
    "#     return len(col_values) == len(set(col_values))\n",
    "\n",
    "# def block_constraint(assignment, block_row, block_col):\n",
    "#     block_values = []\n",
    "#     for r in range(block_row * 3, block_row * 3 + 3):\n",
    "#         for c in range(block_col * 3, block_col * 3 + 3):\n",
    "#             value = assignment.get((r, c))\n",
    "#             if value is not None:\n",
    "#                 block_values.append(value)\n",
    "#     return len(block_values) == len(set(block_values))"
   ]
  },
  {
   "cell_type": "code",
   "execution_count": 134,
   "id": "70f300b7",
   "metadata": {},
   "outputs": [],
   "source": [
    "def constraints_check(variable,variables_dict, test_value):\n",
    "    \"\"\"\n",
    "    Checks if the test value satisfies all constraints.\n",
    "\n",
    "    Args:\n",
    "        assignment (dict): A dictionary mapping variables (row, col) to their assigned values.\n",
    "        variables_dict (dict): The CSP variables with their domains.\n",
    "        valriable (tuple): position of the cell on the board.\n",
    "\n",
    "    Returns:\n",
    "        bool: True if all constraints are satisfied, False otherwise.\n",
    "    \"\"\"\n",
    "    row = variables_dict[variable][\"row\"]\n",
    "    col = variables_dict[variable][\"col\"]\n",
    "    # check row constraint\n",
    "    row_values = [variables_dict[(row, c)][\"value\"] for c in range(9) if variables_dict[(row, c)][\"value\"] > 0]\n",
    "    if test_value in row_values:\n",
    "        return False\n",
    "    \n",
    "    # Check column constraint\n",
    "    else:\n",
    "        col_values = [variables_dict[(r, col)][\"value\"] for r in range(9) if variables_dict[(r, col)][\"value\"] > 0]\n",
    "        if test_value in col_values:\n",
    "            return False\n",
    "        \n",
    "        # Check block constraint\n",
    "        else:    \n",
    "            block_vales = []\n",
    "            block_row = row // 3\n",
    "            block_col = col // 3\n",
    "            for r in range(block_row * 3, block_row * 3 + 3):\n",
    "                for c in range(block_col * 3, block_col * 3 + 3):\n",
    "                    value = variables_dict[(r, c)][\"value\"]\n",
    "                    if value > 0 and test_value == value:\n",
    "                        return False\n",
    "            if test_value in block_vales:\n",
    "                return False\n",
    "            else:\n",
    "\n",
    "                # If all constraints are satisfied, return True\n",
    "                return True"
   ]
  },
  {
   "cell_type": "code",
   "execution_count": 139,
   "id": "511d475f",
   "metadata": {},
   "outputs": [
    {
     "name": "stdout",
     "output_type": "stream",
     "text": [
      "CPU times: user 494 ms, sys: 0 ns, total: 494 ms\n",
      "Wall time: 517 ms\n"
     ]
    }
   ],
   "source": [
    "%%time\n",
    "def new_backtracking_search(variables_dict):\n",
    "\n",
    "    Unfilled = [ v for v in variables_dict if variables_dict[v][\"Filled\"] is False ]\n",
    "    \n",
    "    # If all variables are assigned, return the assignment\n",
    "    if len(Unfilled) == 0:\n",
    "        return variables_dict\n",
    "    \n",
    "    variable = Unfilled[0]\n",
    "\n",
    "    # Try each value in the domain of the variable\n",
    "    for test_domain_value in variables_dict[variable]['domain']:\n",
    "\n",
    "        # Create a new variables dictionary with a test value for the  domain \n",
    "        \n",
    "        # copy_variables_dict[variable][\"domain\"] = test_domain_value\n",
    "\n",
    "        # Check if a test value for the domain is valid\n",
    "        constraints_check_flag = constraints_check(\n",
    "            variable = variable,\n",
    "            variables_dict = variables_dict,\n",
    "            test_value = test_domain_value)\n",
    "        \n",
    "        if constraints_check_flag:\n",
    "            copy_variables_dict = copy.deepcopy(variables_dict)\n",
    "            # Recursively solve the CSP with the new assignment\n",
    "            copy_variables_dict[variable][\"value\"] = test_domain_value\n",
    "            copy_variables_dict[variable][\"Filled\"] = True\n",
    "            \n",
    "            result = new_backtracking_search(variables_dict = copy_variables_dict)\n",
    "            if result is not None:\n",
    "                return result\n",
    "    # If no value leads to a solution, return None\n",
    "    return None\n",
    "\n",
    "Solved_board_dict = new_backtracking_search(variables_dict)"
   ]
  },
  {
   "cell_type": "code",
   "execution_count": 143,
   "id": "16c57710",
   "metadata": {},
   "outputs": [],
   "source": [
    "solved_board = np.zeros((9, 9), dtype=int)\n",
    "for row in range(side):\n",
    "    for col in range(side):\n",
    "        solved_board[row][col] = Solved_board_dict[(row, col)][\"value\"]"
   ]
  },
  {
   "cell_type": "markdown",
   "id": "97374177",
   "metadata": {},
   "source": [
    "The solved board may be different from the original solution board,  \n",
    "as the input board can have multiple solutions depending on the numbers removed"
   ]
  },
  {
   "cell_type": "code",
   "execution_count": 144,
   "id": "4ee34b9f",
   "metadata": {},
   "outputs": [
    {
     "data": {
      "text/html": [
       "\n",
       "    <style>\n",
       "        table { border-collapse: collapse; font-family: Arial, sans-serif; }\n",
       "        td { border: 1px solid black; height: 40px; width: 40px; text-align: center; font-size: 18px; }\n",
       "        .thick-border-top { border-top: 3px solid black; }\n",
       "        .thick-border-left { border-left: 3px solid black; }\n",
       "    </style>\n",
       "    <table>\n",
       "    <tr><td >9</td><td >8</td><td >1</td><td class=\"thick-border-left\">4</td><td >6</td><td >5</td><td class=\"thick-border-left\">2</td><td >3</td><td >7</td></tr><tr><td >7</td><td >3</td><td >2</td><td class=\"thick-border-left\">8</td><td >1</td><td >9</td><td class=\"thick-border-left\">6</td><td >4</td><td >5</td></tr><tr><td >5</td><td >4</td><td >6</td><td class=\"thick-border-left\">3</td><td >2</td><td >7</td><td class=\"thick-border-left\">1</td><td >8</td><td >9</td></tr><tr><td class=\"thick-border-top\">3</td><td class=\"thick-border-top\">1</td><td class=\"thick-border-top\">9</td><td class=\"thick-border-top thick-border-left\">6</td><td class=\"thick-border-top\">5</td><td class=\"thick-border-top\">8</td><td class=\"thick-border-top thick-border-left\">7</td><td class=\"thick-border-top\">2</td><td class=\"thick-border-top\">4</td></tr><tr><td >4</td><td >2</td><td >7</td><td class=\"thick-border-left\">1</td><td >9</td><td >3</td><td class=\"thick-border-left\">5</td><td >6</td><td >8</td></tr><tr><td >8</td><td >6</td><td >5</td><td class=\"thick-border-left\">2</td><td >7</td><td >4</td><td class=\"thick-border-left\">9</td><td >1</td><td >3</td></tr><tr><td class=\"thick-border-top\">1</td><td class=\"thick-border-top\">5</td><td class=\"thick-border-top\">8</td><td class=\"thick-border-top thick-border-left\">7</td><td class=\"thick-border-top\">4</td><td class=\"thick-border-top\">6</td><td class=\"thick-border-top thick-border-left\">3</td><td class=\"thick-border-top\">9</td><td class=\"thick-border-top\">2</td></tr><tr><td >6</td><td >7</td><td >4</td><td class=\"thick-border-left\">9</td><td >3</td><td >2</td><td class=\"thick-border-left\">8</td><td >5</td><td >1</td></tr><tr><td >2</td><td >9</td><td >3</td><td class=\"thick-border-left\">5</td><td >8</td><td >1</td><td class=\"thick-border-left\">4</td><td >7</td><td >6</td></tr></table>"
      ],
      "text/plain": [
       "<IPython.core.display.HTML object>"
      ]
     },
     "metadata": {},
     "output_type": "display_data"
    },
    {
     "data": {
      "text/html": [
       "\n",
       "    <style>\n",
       "        table { border-collapse: collapse; font-family: Arial, sans-serif; }\n",
       "        td { border: 1px solid black; height: 40px; width: 40px; text-align: center; font-size: 18px; }\n",
       "        .thick-border-top { border-top: 3px solid black; }\n",
       "        .thick-border-left { border-left: 3px solid black; }\n",
       "    </style>\n",
       "    <table>\n",
       "    <tr><td >8</td><td >2</td><td >1</td><td class=\"thick-border-left\">4</td><td >6</td><td >5</td><td class=\"thick-border-left\">7</td><td >3</td><td >9</td></tr><tr><td >7</td><td >3</td><td >5</td><td class=\"thick-border-left\">8</td><td >1</td><td >9</td><td class=\"thick-border-left\">6</td><td >2</td><td >4</td></tr><tr><td >6</td><td >4</td><td >9</td><td class=\"thick-border-left\">3</td><td >2</td><td >7</td><td class=\"thick-border-left\">1</td><td >5</td><td >8</td></tr><tr><td class=\"thick-border-top\">3</td><td class=\"thick-border-top\">1</td><td class=\"thick-border-top\">2</td><td class=\"thick-border-top thick-border-left\">5</td><td class=\"thick-border-top\">4</td><td class=\"thick-border-top\">6</td><td class=\"thick-border-top thick-border-left\">9</td><td class=\"thick-border-top\">8</td><td class=\"thick-border-top\">7</td></tr><tr><td >5</td><td >8</td><td >7</td><td class=\"thick-border-left\">1</td><td >9</td><td >2</td><td class=\"thick-border-left\">4</td><td >6</td><td >3</td></tr><tr><td >9</td><td >6</td><td >4</td><td class=\"thick-border-left\">7</td><td >3</td><td >8</td><td class=\"thick-border-left\">2</td><td >1</td><td >5</td></tr><tr><td class=\"thick-border-top\">4</td><td class=\"thick-border-top\">5</td><td class=\"thick-border-top\">8</td><td class=\"thick-border-top thick-border-left\">2</td><td class=\"thick-border-top\">7</td><td class=\"thick-border-top\">1</td><td class=\"thick-border-top thick-border-left\">3</td><td class=\"thick-border-top\">9</td><td class=\"thick-border-top\">6</td></tr><tr><td >1</td><td >7</td><td >6</td><td class=\"thick-border-left\">9</td><td >5</td><td >3</td><td class=\"thick-border-left\">8</td><td >4</td><td >2</td></tr><tr><td >2</td><td >9</td><td >3</td><td class=\"thick-border-left\">6</td><td >8</td><td >4</td><td class=\"thick-border-left\">5</td><td >7</td><td >1</td></tr></table>"
      ],
      "text/plain": [
       "<IPython.core.display.HTML object>"
      ]
     },
     "metadata": {},
     "output_type": "display_data"
    }
   ],
   "source": [
    "html_output = sudoku_to_html(solution)\n",
    "display(HTML(html_output))\n",
    "\n",
    "html_output = sudoku_to_html(solved_board)\n",
    "display(HTML(html_output))"
   ]
  },
  {
   "cell_type": "markdown",
   "id": "7cf3b2e1",
   "metadata": {},
   "source": [
    "3. Analyse how different fault finding algorithms such as Forward Checking, Arc consistency improve the computational time of backtracking search?"
   ]
  },
  {
   "cell_type": "code",
   "execution_count": 138,
   "id": "a1dc4df7",
   "metadata": {},
   "outputs": [],
   "source": [
    "def forward_checking(variables_dict, variable):\n",
    "    \"\"\"\n",
    "    Performs forward checking by pruning the domains of unassigned variables.\n",
    "\n",
    "    Args:\n",
    "        variables_dict (dict): The CSP variables with their domains and current assignments.\n",
    "        variable (tuple): The variable (row, col) that was just assigned a value.\n",
    "        test_domain_value (int): The value assigned to the variable.\n",
    "\n",
    "    Returns:\n",
    "        bool: True if no domain becomes empty after pruning, False otherwise.\n",
    "    \"\"\"\n",
    "    copy_variables_dict_forward_checked = copy.deepcopy(variables_dict)\n",
    "    test_domain_value = copy_variables_dict_forward_checked[variable][\"value\"]\n",
    "    row, col = copy_variables_dict_forward_checked[variable][\"row\"], copy_variables_dict_forward_checked[variable][\"col\"]\n",
    "    \n",
    "    # Check row, column, and block constraints\n",
    "    block_row, block_col = row // 3, col // 3\n",
    "    for r in range(9):\n",
    "        for c in range(9):\n",
    "            if (r, c) != variable and not copy_variables_dict_forward_checked[(r, c)][\"Filled\"]:\n",
    "                # Prune domains of variables in the same row, column, or block, that are not filled\n",
    "                if r == row or c == col or (r // 3 == block_row and c // 3 == block_col):\n",
    "                    if test_domain_value in copy_variables_dict_forward_checked[(r, c)][\"domain\"]:\n",
    "                        copy_variables_dict_forward_checked[(r, c)][\"domain\"].remove(test_domain_value)\n",
    "                        # If domain becomes empty, return False\n",
    "                        if len(copy_variables_dict_forward_checked[(r, c)][\"domain\"]) == 0:\n",
    "                            return False\n",
    "    return copy_variables_dict_forward_checked"
   ]
  },
  {
   "cell_type": "code",
   "execution_count": null,
   "id": "235ec3c2",
   "metadata": {},
   "outputs": [],
   "source": [
    "def forward_checking_backtracking_search(variables_dict):\n",
    "    \"\"\"\n",
    "    Solves the CSP using backtracking search with Forward Checking.\n",
    "\n",
    "    Args:\n",
    "        variables_dict (dict): The CSP variables with their domains and current assignments.\n",
    "\n",
    "    Returns:\n",
    "        dict or None: A complete assignment if a solution is found, or None if no solution exists.\n",
    "    \"\"\"\n",
    "    # Find unfilled variables\n",
    "    unfilled = [v for v in variables_dict if not variables_dict[v][\"Filled\"]]\n",
    "\n",
    "    # If all variables are assigned, return the assignment\n",
    "    if not unfilled:\n",
    "        return variables_dict\n",
    "\n",
    "    # Select the first unfilled variable\n",
    "    variable = unfilled[0]\n",
    "\n",
    "    # Try each value in the domain of the variable\n",
    "    for test_domain_value in variables_dict[variable][\"domain\"]:\n",
    "\n",
    "        # Create a new variables dictionary with a test value for the  domain \n",
    "        copy_variables_dict_test_domain = copy.deepcopy(variables_dict)\n",
    "        # copy_variables_dict_test_domain[variable][\"domain\"] = test_domain_value\n",
    "\n",
    "        # Check if a test value for the domain is valid\n",
    "        constraints_check_flag = constraints_check(\n",
    "            variable = variable,\n",
    "            variables_dict = copy_variables_dict_test_domain,\n",
    "            test_value = test_domain_value)\n",
    "        \n",
    "        if constraints_check_flag:\n",
    "\n",
    "            # Recursively solve the CSP with the new assignment\n",
    "            copy_variables_dict[variable][\"value\"] = test_domain_value\n",
    "            copy_variables_dict[variable][\"Filled\"] = True\n",
    "\n",
    "            # Create a deep copy of the variables dictionary\n",
    "            copy_variables_dict_test_domain = copy.deepcopy(variables_dict)\n",
    "\n",
    "        # copy_variables_dict_forward_checked = forward_checking(copy_variables_dict_test_domain, variable)\n",
    "        # if copy_variables_dict_forward_checked:\n",
    "            # Check if a test value for the domain is valid\n",
    "        constraints_check_flag = constraints_check(\n",
    "            variable = variable,\n",
    "            variables_dict = copy_variables_dict_test_domain,\n",
    "            test_value = test_domain_value)\n",
    "\n",
    "        # Assign the value to the variable\n",
    "        copy_variables_dict_test_domain[variable][\"value\"] = test_domain_value\n",
    "        copy_variables_dict_test_domain[variable][\"Filled\"] = True\n",
    "\n",
    "        # Perform forward checking\n",
    "        copy_variables_dict_forward_checked = forward_checking(copy_variables_dict_test_domain, variable)\n",
    "        if copy_variables_dict_forward_checked:\n",
    "            # Check if a test value for the domain is valid\n",
    "            constraints_check_flag = constraints_check(\n",
    "                variable = variable,\n",
    "                variables_dict = copy_variables_dict_forward_checked,\n",
    "                test_value = test_domain_value)\n",
    "        \n",
    "            if constraints_check_flag:\n",
    "                \n",
    "                # Recursively solve the CSP with the new assignment\n",
    "                # result = forward_checking_backtracking_search(copy_variables_dict)\n",
    "                result = forward_checking_backtracking_search(copy_variables_dict_forward_checked)\n",
    "                if result is not None:\n",
    "                    return result\n",
    "                \n",
    "    # If no value leads to a solution, return None\n",
    "    return None"
   ]
  },
  {
   "cell_type": "code",
   "execution_count": 133,
   "id": "b053c016",
   "metadata": {},
   "outputs": [
    {
     "name": "stdout",
     "output_type": "stream",
     "text": [
      "No solution exists.\n",
      "CPU times: user 7.11 ms, sys: 9.56 ms, total: 16.7 ms\n",
      "Wall time: 17.1 ms\n"
     ]
    }
   ],
   "source": [
    "%%time\n",
    "solved_board_dict = forward_checking_backtracking_search(variables_dict)\n",
    "# Convert the solved board dictionary back to a 2D array\n",
    "if solved_board_dict:\n",
    "    solved_board = np.zeros((9, 9), dtype=int)\n",
    "    for row in range(9):\n",
    "        for col in range(9):\n",
    "            solved_board[row][col] = solved_board_dict[(row, col)][\"value\"]\n",
    "\n",
    "    # Display the solved board\n",
    "    html_output = sudoku_to_html(solved_board)\n",
    "    display(HTML(html_output))\n",
    "else:\n",
    "    print(\"No solution exists.\")"
   ]
  },
  {
   "cell_type": "code",
   "execution_count": null,
   "id": "4e8cf88a",
   "metadata": {},
   "outputs": [
    {
     "data": {
      "text/html": [
       "\n",
       "    <style>\n",
       "        table { border-collapse: collapse; font-family: Arial, sans-serif; }\n",
       "        td { border: 1px solid black; height: 40px; width: 40px; text-align: center; font-size: 18px; }\n",
       "        .thick-border-top { border-top: 3px solid black; }\n",
       "        .thick-border-left { border-left: 3px solid black; }\n",
       "    </style>\n",
       "    <table>\n",
       "    <tr><td ></td><td ></td><td >1</td><td class=\"thick-border-left\">4</td><td >6</td><td >5</td><td class=\"thick-border-left\"></td><td ></td><td ></td></tr><tr><td >7</td><td >3</td><td ></td><td class=\"thick-border-left\"></td><td ></td><td ></td><td class=\"thick-border-left\">6</td><td ></td><td ></td></tr><tr><td ></td><td >4</td><td ></td><td class=\"thick-border-left\">3</td><td >2</td><td >7</td><td class=\"thick-border-left\"></td><td ></td><td ></td></tr><tr><td class=\"thick-border-top\">3</td><td class=\"thick-border-top\"></td><td class=\"thick-border-top\"></td><td class=\"thick-border-top thick-border-left\"></td><td class=\"thick-border-top\"></td><td class=\"thick-border-top\"></td><td class=\"thick-border-top thick-border-left\"></td><td class=\"thick-border-top\"></td><td class=\"thick-border-top\"></td></tr><tr><td ></td><td ></td><td ></td><td class=\"thick-border-left\">1</td><td ></td><td ></td><td class=\"thick-border-left\"></td><td ></td><td ></td></tr><tr><td ></td><td >6</td><td ></td><td class=\"thick-border-left\"></td><td ></td><td ></td><td class=\"thick-border-left\"></td><td >1</td><td ></td></tr><tr><td class=\"thick-border-top\"></td><td class=\"thick-border-top\">5</td><td class=\"thick-border-top\"></td><td class=\"thick-border-top thick-border-left\"></td><td class=\"thick-border-top\"></td><td class=\"thick-border-top\"></td><td class=\"thick-border-top thick-border-left\">3</td><td class=\"thick-border-top\">9</td><td class=\"thick-border-top\"></td></tr><tr><td ></td><td >7</td><td ></td><td class=\"thick-border-left\">9</td><td ></td><td ></td><td class=\"thick-border-left\"></td><td ></td><td ></td></tr><tr><td >2</td><td ></td><td ></td><td class=\"thick-border-left\"></td><td ></td><td ></td><td class=\"thick-border-left\"></td><td ></td><td ></td></tr></table>"
      ],
      "text/plain": [
       "<IPython.core.display.HTML object>"
      ]
     },
     "metadata": {},
     "output_type": "display_data"
    }
   ],
   "source": [
    "# solved_board = np.zeros((9, 9), dtype=int)\n",
    "# for row in range(9):\n",
    "#     for col in range(9):\n",
    "#         solved_board[row][col] = variables_dict[(row, col)][\"value\"]\n",
    "# html_output = sudoku_to_html(solved_board)\n",
    "# display(HTML(html_output))"
   ]
  },
  {
   "cell_type": "code",
   "execution_count": 113,
   "id": "ac2bed93",
   "metadata": {},
   "outputs": [
    {
     "name": "stdout",
     "output_type": "stream",
     "text": [
      "No solution exists.\n"
     ]
    }
   ],
   "source": [
    "# Example usage\n",
    "# variables_dict = represent_sudoku_csp(board)\n",
    "# solved_board_dict = new_backtracking_search(variables_dict)\n",
    "\n",
    "# Convert the solved board dictionary back to a 2D array\n",
    "if solved_board_dict:\n",
    "    solved_board = np.zeros((9, 9), dtype=int)\n",
    "    for row in range(9):\n",
    "        for col in range(9):\n",
    "            solved_board[row][col] = solved_board_dict[(row, col)][\"value\"]\n",
    "\n",
    "    # Display the solved board\n",
    "    html_output = sudoku_to_html(solved_board)\n",
    "    display(HTML(html_output))\n",
    "else:\n",
    "    print(\"No solution exists.\")"
   ]
  },
  {
   "cell_type": "markdown",
   "id": "8d25f247",
   "metadata": {},
   "source": [
    "Explanation:  \n",
    "\n",
    "1. Arc Consistency:\n",
    "    - The arc_consistency function ensures that for every variable, all values in its domain are consistent with the domains of other variables.\n",
    "    - It uses a queue of variable pairs and iteratively revises the domains to maintain consistency.\n",
    "2. Revise Function:\n",
    "    - The revise function removes values from the domain of a variable if they are inconsistent with the domain of another variable.\n",
    "3. Backtracking with Arc Consistency:\n",
    "    - The new_backtracking_search_with_arc_consistency function integrates arc consistency into the backtracking search.\n",
    "    - Before assigning a value, it enforces arc consistency to prune the search space.\n",
    "4. Efficiency:\n",
    "    - Arc Consistency reduces the search space by eliminating inconsistent values early, improving the computational efficiency of the backtracking search."
   ]
  },
  {
   "cell_type": "code",
   "execution_count": 79,
   "id": "fb5452f5",
   "metadata": {},
   "outputs": [
    {
     "ename": "SystemExit",
     "evalue": "",
     "output_type": "error",
     "traceback": [
      "An exception has occurred, use %tb to see the full traceback.\n",
      "\u001b[0;31mSystemExit\u001b[0m\n"
     ]
    }
   ],
   "source": [
    "sys.exit()"
   ]
  },
  {
   "cell_type": "code",
   "execution_count": null,
   "id": "eedd6e14",
   "metadata": {},
   "outputs": [],
   "source": [
    "def forward_checking(variables_dict, variable, value):\n",
    "    \"\"\"\n",
    "    Performs forward checking by pruning the domains of unassigned variables.\n",
    "\n",
    "    Args:\n",
    "        variables_dict (dict): The CSP variables with their domains and current assignments.\n",
    "        variable (tuple): The variable (row, col) that was just assigned a value.\n",
    "        value (int): The value assigned to the variable.\n",
    "\n",
    "    Returns:\n",
    "        bool: True if no domain becomes empty after pruning, False otherwise.\n",
    "    \"\"\"\n",
    "    row, col = variables_dict[variable][\"row\"], variables_dict[variable][\"col\"]\n",
    "\n",
    "    # Check row, column, and block constraints\n",
    "    block_row, block_col = row // 3, col // 3\n",
    "    for r in range(9):\n",
    "        for c in range(9):\n",
    "            if (r, c) != variable and not variables_dict[(r, c)][\"Filled\"]:\n",
    "                # Prune domains of variables in the same row, column, or block\n",
    "                if r == row or c == col or (r // 3 == block_row and c // 3 == block_col):\n",
    "                    if value in variables_dict[(r, c)][\"domain\"]:\n",
    "                        variables_dict[(r, c)][\"domain\"].remove(value)\n",
    "                        # If domain becomes empty, return False\n",
    "                        if not variables_dict[(r, c)][\"domain\"]:\n",
    "                            return False\n",
    "    return True\n",
    "\n",
    "\n",
    "def new_backtracking_search(variables_dict):\n",
    "    \"\"\"\n",
    "    Solves the CSP using backtracking search with Forward Checking.\n",
    "\n",
    "    Args:\n",
    "        variables_dict (dict): The CSP variables with their domains and current assignments.\n",
    "\n",
    "    Returns:\n",
    "        dict or None: A complete assignment if a solution is found, or None if no solution exists.\n",
    "    \"\"\"\n",
    "    # Find unfilled variables\n",
    "    unfilled = [v for v in variables_dict if not variables_dict[v][\"Filled\"]]\n",
    "\n",
    "    # If all variables are assigned, return the assignment\n",
    "    if not unfilled:\n",
    "        return variables_dict\n",
    "\n",
    "    # Select the first unfilled variable\n",
    "    variable = unfilled[0]\n",
    "\n",
    "    # Try each value in the domain of the variable\n",
    "    for value in variables_dict[variable][\"domain\"]:\n",
    "        # Create a deep copy of the variables dictionary\n",
    "        copy_variables_dict = copy.deepcopy(variables_dict)\n",
    "\n",
    "        # Assign the value to the variable\n",
    "        copy_variables_dict[variable][\"value\"] = value\n",
    "        copy_variables_dict[variable][\"Filled\"] = True\n",
    "\n",
    "        # Perform forward checking\n",
    "        if forward_checking(copy_variables_dict, variable, value):\n",
    "            # Recursively solve the CSP with the new assignment\n",
    "            result = new_backtracking_search(copy_variables_dict)\n",
    "            if result is not None:\n",
    "                return result\n",
    "\n",
    "    # If no value leads to a solution, return None\n",
    "    return None\n",
    "\n",
    "\n",
    "# Example usage\n",
    "variables_dict = represent_sudoku_csp(board)\n",
    "solved_board_dict = new_backtracking_search(variables_dict)\n",
    "\n",
    "# Convert the solved board dictionary back to a 2D array\n",
    "if solved_board_dict:\n",
    "    solved_board = np.zeros((9, 9), dtype=int)\n",
    "    for row in range(9):\n",
    "        for col in range(9):\n",
    "            solved_board[row][col] = solved_board_dict[(row, col)][\"value\"]\n",
    "\n",
    "    # Display the solved board\n",
    "    html_output = sudoku_to_html(solved_board)\n",
    "    display(HTML(html_output))\n",
    "else:\n",
    "    print(\"No solution exists.\")"
   ]
  },
  {
   "cell_type": "code",
   "execution_count": null,
   "id": "32e4664a",
   "metadata": {},
   "outputs": [],
   "source": [
    "def is_assignment_valid(assignment, variables, constraints):\n",
    "    \"\"\"\n",
    "    Checks if the current assignment satisfies all constraints.\n",
    "\n",
    "    Args:\n",
    "        assignment (dict): A dictionary mapping variables (row, col) to their assigned values.\n",
    "        variables (dict): The CSP variables with their domains and constraints.\n",
    "        constraints (list): A list of constraint functions.\n",
    "\n",
    "    Returns:\n",
    "        bool: True if all constraints are satisfied, False otherwise.\n",
    "    \"\"\"\n",
    "    for constraint in constraints:\n",
    "        if not constraint(assignment):\n",
    "            return False\n",
    "    return True"
   ]
  },
  {
   "cell_type": "code",
   "execution_count": null,
   "id": "ce422eb2",
   "metadata": {},
   "outputs": [],
   "source": [
    "def backtracking_search(variables, domains, constraints, assignment={}):\n",
    "    \"\"\"\n",
    "    Solves the CSP using backtracking search.\n",
    "    \n",
    "    Steps:\n",
    "    1. Selects an unassigned variable and tries each value in its domain.\n",
    "    2. Recursively solves the CSP with the new assignment.\n",
    "    3. Backtracks if no value leads to a solution.\n",
    "\n",
    "    Args:\n",
    "        variables (list): List of variables (row, col) in the CSP.\n",
    "        domains (dict): Dictionary mapping variables to their possible values.\n",
    "        constraints (list): List of constraint functions.\n",
    "        assignment (dict): Current assignment of values to variables.\n",
    "\n",
    "    Returns:\n",
    "        dict or None: A complete assignment if a solution is found, or None if no solution exists.\n",
    "    \"\"\"\n",
    "    # If all variables are assigned, return the assignment\n",
    "    if len(assignment) == len(variables):\n",
    "        return assignment\n",
    "\n",
    "    # Select an unassigned variable\n",
    "    unassigned = [v for v in variables if v not in assignment]\n",
    "    var = unassigned[0]\n",
    "\n",
    "    # Try each value in the domain of the variable\n",
    "    for value in domains[var]:\n",
    "        # Create a new assignment with the current value\n",
    "        new_assignment = assignment.copy()\n",
    "        new_assignment[var] = value\n",
    "\n",
    "        # Check if the new assignment is valid\n",
    "        if is_assignment_valid(new_assignment, variables, constraints):\n",
    "            # Recursively solve the CSP with the new assignment\n",
    "            result = backtracking_search(variables, domains, constraints, new_assignment)\n",
    "            if result is not None:\n",
    "                return result\n",
    "\n",
    "    # If no value leads to a solution, return None\n",
    "    return None"
   ]
  },
  {
   "cell_type": "code",
   "execution_count": 44,
   "id": "1577ca21",
   "metadata": {},
   "outputs": [
    {
     "ename": "KeyboardInterrupt",
     "evalue": "",
     "output_type": "error",
     "traceback": [
      "\u001b[0;31m---------------------------------------------------------------------------\u001b[0m",
      "\u001b[0;31mKeyboardInterrupt\u001b[0m                         Traceback (most recent call last)",
      "Cell \u001b[0;32mIn[44], line 13\u001b[0m\n\u001b[1;32m      3\u001b[0m domains \u001b[38;5;241m=\u001b[39m {var: variables_dict[var][\u001b[38;5;124m'\u001b[39m\u001b[38;5;124mdomain\u001b[39m\u001b[38;5;124m'\u001b[39m] \u001b[38;5;28;01mfor\u001b[39;00m var \u001b[38;5;129;01min\u001b[39;00m variables}\n\u001b[1;32m      4\u001b[0m constraints \u001b[38;5;241m=\u001b[39m [\n\u001b[1;32m      5\u001b[0m     \u001b[38;5;28;01mlambda\u001b[39;00m assignment: row_constraint(assignment, row) \u001b[38;5;28;01mfor\u001b[39;00m row \u001b[38;5;129;01min\u001b[39;00m \u001b[38;5;28mrange\u001b[39m(\u001b[38;5;241m9\u001b[39m)\n\u001b[1;32m      6\u001b[0m ] \u001b[38;5;241m+\u001b[39m [\n\u001b[0;32m   (...)\u001b[0m\n\u001b[1;32m     10\u001b[0m     \u001b[38;5;28;01mfor\u001b[39;00m block_row \u001b[38;5;129;01min\u001b[39;00m \u001b[38;5;28mrange\u001b[39m(\u001b[38;5;241m3\u001b[39m) \u001b[38;5;28;01mfor\u001b[39;00m block_col \u001b[38;5;129;01min\u001b[39;00m \u001b[38;5;28mrange\u001b[39m(\u001b[38;5;241m3\u001b[39m)\n\u001b[1;32m     11\u001b[0m ]\n\u001b[0;32m---> 13\u001b[0m solution \u001b[38;5;241m=\u001b[39m \u001b[43mbacktracking_search\u001b[49m\u001b[43m(\u001b[49m\u001b[43mvariables\u001b[49m\u001b[43m,\u001b[49m\u001b[43m \u001b[49m\u001b[43mdomains\u001b[49m\u001b[43m,\u001b[49m\u001b[43m \u001b[49m\u001b[43mconstraints\u001b[49m\u001b[43m)\u001b[49m\n\u001b[1;32m     14\u001b[0m \u001b[38;5;28;01mif\u001b[39;00m solution:\n\u001b[1;32m     15\u001b[0m     \u001b[38;5;28mprint\u001b[39m(\u001b[38;5;124m\"\u001b[39m\u001b[38;5;124mSolution found:\u001b[39m\u001b[38;5;124m\"\u001b[39m)\n",
      "Cell \u001b[0;32mIn[43], line 36\u001b[0m, in \u001b[0;36mbacktracking_search\u001b[0;34m(variables, domains, constraints, assignment)\u001b[0m\n\u001b[1;32m     33\u001b[0m \u001b[38;5;66;03m# Check if the new assignment is valid\u001b[39;00m\n\u001b[1;32m     34\u001b[0m \u001b[38;5;28;01mif\u001b[39;00m is_assignment_valid(new_assignment, variables, constraints):\n\u001b[1;32m     35\u001b[0m     \u001b[38;5;66;03m# Recursively solve the CSP with the new assignment\u001b[39;00m\n\u001b[0;32m---> 36\u001b[0m     result \u001b[38;5;241m=\u001b[39m \u001b[43mbacktracking_search\u001b[49m\u001b[43m(\u001b[49m\u001b[43mvariables\u001b[49m\u001b[43m,\u001b[49m\u001b[43m \u001b[49m\u001b[43mdomains\u001b[49m\u001b[43m,\u001b[49m\u001b[43m \u001b[49m\u001b[43mconstraints\u001b[49m\u001b[43m,\u001b[49m\u001b[43m \u001b[49m\u001b[43mnew_assignment\u001b[49m\u001b[43m)\u001b[49m\n\u001b[1;32m     37\u001b[0m     \u001b[38;5;28;01mif\u001b[39;00m result \u001b[38;5;129;01mis\u001b[39;00m \u001b[38;5;129;01mnot\u001b[39;00m \u001b[38;5;28;01mNone\u001b[39;00m:\n\u001b[1;32m     38\u001b[0m         \u001b[38;5;28;01mreturn\u001b[39;00m result\n",
      "Cell \u001b[0;32mIn[43], line 36\u001b[0m, in \u001b[0;36mbacktracking_search\u001b[0;34m(variables, domains, constraints, assignment)\u001b[0m\n\u001b[1;32m     33\u001b[0m \u001b[38;5;66;03m# Check if the new assignment is valid\u001b[39;00m\n\u001b[1;32m     34\u001b[0m \u001b[38;5;28;01mif\u001b[39;00m is_assignment_valid(new_assignment, variables, constraints):\n\u001b[1;32m     35\u001b[0m     \u001b[38;5;66;03m# Recursively solve the CSP with the new assignment\u001b[39;00m\n\u001b[0;32m---> 36\u001b[0m     result \u001b[38;5;241m=\u001b[39m \u001b[43mbacktracking_search\u001b[49m\u001b[43m(\u001b[49m\u001b[43mvariables\u001b[49m\u001b[43m,\u001b[49m\u001b[43m \u001b[49m\u001b[43mdomains\u001b[49m\u001b[43m,\u001b[49m\u001b[43m \u001b[49m\u001b[43mconstraints\u001b[49m\u001b[43m,\u001b[49m\u001b[43m \u001b[49m\u001b[43mnew_assignment\u001b[49m\u001b[43m)\u001b[49m\n\u001b[1;32m     37\u001b[0m     \u001b[38;5;28;01mif\u001b[39;00m result \u001b[38;5;129;01mis\u001b[39;00m \u001b[38;5;129;01mnot\u001b[39;00m \u001b[38;5;28;01mNone\u001b[39;00m:\n\u001b[1;32m     38\u001b[0m         \u001b[38;5;28;01mreturn\u001b[39;00m result\n",
      "    \u001b[0;31m[... skipping similar frames: backtracking_search at line 36 (75 times)]\u001b[0m\n",
      "Cell \u001b[0;32mIn[43], line 36\u001b[0m, in \u001b[0;36mbacktracking_search\u001b[0;34m(variables, domains, constraints, assignment)\u001b[0m\n\u001b[1;32m     33\u001b[0m \u001b[38;5;66;03m# Check if the new assignment is valid\u001b[39;00m\n\u001b[1;32m     34\u001b[0m \u001b[38;5;28;01mif\u001b[39;00m is_assignment_valid(new_assignment, variables, constraints):\n\u001b[1;32m     35\u001b[0m     \u001b[38;5;66;03m# Recursively solve the CSP with the new assignment\u001b[39;00m\n\u001b[0;32m---> 36\u001b[0m     result \u001b[38;5;241m=\u001b[39m \u001b[43mbacktracking_search\u001b[49m\u001b[43m(\u001b[49m\u001b[43mvariables\u001b[49m\u001b[43m,\u001b[49m\u001b[43m \u001b[49m\u001b[43mdomains\u001b[49m\u001b[43m,\u001b[49m\u001b[43m \u001b[49m\u001b[43mconstraints\u001b[49m\u001b[43m,\u001b[49m\u001b[43m \u001b[49m\u001b[43mnew_assignment\u001b[49m\u001b[43m)\u001b[49m\n\u001b[1;32m     37\u001b[0m     \u001b[38;5;28;01mif\u001b[39;00m result \u001b[38;5;129;01mis\u001b[39;00m \u001b[38;5;129;01mnot\u001b[39;00m \u001b[38;5;28;01mNone\u001b[39;00m:\n\u001b[1;32m     38\u001b[0m         \u001b[38;5;28;01mreturn\u001b[39;00m result\n",
      "Cell \u001b[0;32mIn[43], line 34\u001b[0m, in \u001b[0;36mbacktracking_search\u001b[0;34m(variables, domains, constraints, assignment)\u001b[0m\n\u001b[1;32m     31\u001b[0m new_assignment[var] \u001b[38;5;241m=\u001b[39m value\n\u001b[1;32m     33\u001b[0m \u001b[38;5;66;03m# Check if the new assignment is valid\u001b[39;00m\n\u001b[0;32m---> 34\u001b[0m \u001b[38;5;28;01mif\u001b[39;00m \u001b[43mis_assignment_valid\u001b[49m\u001b[43m(\u001b[49m\u001b[43mnew_assignment\u001b[49m\u001b[43m,\u001b[49m\u001b[43m \u001b[49m\u001b[43mvariables\u001b[49m\u001b[43m,\u001b[49m\u001b[43m \u001b[49m\u001b[43mconstraints\u001b[49m\u001b[43m)\u001b[49m:\n\u001b[1;32m     35\u001b[0m     \u001b[38;5;66;03m# Recursively solve the CSP with the new assignment\u001b[39;00m\n\u001b[1;32m     36\u001b[0m     result \u001b[38;5;241m=\u001b[39m backtracking_search(variables, domains, constraints, new_assignment)\n\u001b[1;32m     37\u001b[0m     \u001b[38;5;28;01mif\u001b[39;00m result \u001b[38;5;129;01mis\u001b[39;00m \u001b[38;5;129;01mnot\u001b[39;00m \u001b[38;5;28;01mNone\u001b[39;00m:\n",
      "Cell \u001b[0;32mIn[41], line 14\u001b[0m, in \u001b[0;36mis_assignment_valid\u001b[0;34m(assignment, variables, constraints)\u001b[0m\n\u001b[1;32m      2\u001b[0m \u001b[38;5;250m\u001b[39m\u001b[38;5;124;03m\"\"\"\u001b[39;00m\n\u001b[1;32m      3\u001b[0m \u001b[38;5;124;03mChecks if the current assignment satisfies all constraints.\u001b[39;00m\n\u001b[1;32m      4\u001b[0m \n\u001b[0;32m   (...)\u001b[0m\n\u001b[1;32m     11\u001b[0m \u001b[38;5;124;03m    bool: True if all constraints are satisfied, False otherwise.\u001b[39;00m\n\u001b[1;32m     12\u001b[0m \u001b[38;5;124;03m\"\"\"\u001b[39;00m\n\u001b[1;32m     13\u001b[0m \u001b[38;5;28;01mfor\u001b[39;00m constraint \u001b[38;5;129;01min\u001b[39;00m constraints:\n\u001b[0;32m---> 14\u001b[0m     \u001b[38;5;28;01mif\u001b[39;00m \u001b[38;5;129;01mnot\u001b[39;00m \u001b[43mconstraint\u001b[49m\u001b[43m(\u001b[49m\u001b[43massignment\u001b[49m\u001b[43m)\u001b[49m:\n\u001b[1;32m     15\u001b[0m         \u001b[38;5;28;01mreturn\u001b[39;00m \u001b[38;5;28;01mFalse\u001b[39;00m\n\u001b[1;32m     16\u001b[0m \u001b[38;5;28;01mreturn\u001b[39;00m \u001b[38;5;28;01mTrue\u001b[39;00m\n",
      "Cell \u001b[0;32mIn[44], line 7\u001b[0m, in \u001b[0;36m<lambda>\u001b[0;34m(assignment)\u001b[0m\n\u001b[1;32m      2\u001b[0m variables \u001b[38;5;241m=\u001b[39m \u001b[38;5;28mlist\u001b[39m(variables_dict\u001b[38;5;241m.\u001b[39mkeys())\n\u001b[1;32m      3\u001b[0m domains \u001b[38;5;241m=\u001b[39m {var: variables_dict[var][\u001b[38;5;124m'\u001b[39m\u001b[38;5;124mdomain\u001b[39m\u001b[38;5;124m'\u001b[39m] \u001b[38;5;28;01mfor\u001b[39;00m var \u001b[38;5;129;01min\u001b[39;00m variables}\n\u001b[1;32m      4\u001b[0m constraints \u001b[38;5;241m=\u001b[39m [\n\u001b[1;32m      5\u001b[0m     \u001b[38;5;28;01mlambda\u001b[39;00m assignment: row_constraint(assignment, row) \u001b[38;5;28;01mfor\u001b[39;00m row \u001b[38;5;129;01min\u001b[39;00m \u001b[38;5;28mrange\u001b[39m(\u001b[38;5;241m9\u001b[39m)\n\u001b[1;32m      6\u001b[0m ] \u001b[38;5;241m+\u001b[39m [\n\u001b[0;32m----> 7\u001b[0m     \u001b[38;5;28;01mlambda\u001b[39;00m assignment: \u001b[43mcol_constraint\u001b[49m\u001b[43m(\u001b[49m\u001b[43massignment\u001b[49m\u001b[43m,\u001b[49m\u001b[43m \u001b[49m\u001b[43mcol\u001b[49m\u001b[43m)\u001b[49m \u001b[38;5;28;01mfor\u001b[39;00m col \u001b[38;5;129;01min\u001b[39;00m \u001b[38;5;28mrange\u001b[39m(\u001b[38;5;241m9\u001b[39m)\n\u001b[1;32m      8\u001b[0m ] \u001b[38;5;241m+\u001b[39m [\n\u001b[1;32m      9\u001b[0m     \u001b[38;5;28;01mlambda\u001b[39;00m assignment: block_constraint(assignment, block_row, block_col)\n\u001b[1;32m     10\u001b[0m     \u001b[38;5;28;01mfor\u001b[39;00m block_row \u001b[38;5;129;01min\u001b[39;00m \u001b[38;5;28mrange\u001b[39m(\u001b[38;5;241m3\u001b[39m) \u001b[38;5;28;01mfor\u001b[39;00m block_col \u001b[38;5;129;01min\u001b[39;00m \u001b[38;5;28mrange\u001b[39m(\u001b[38;5;241m3\u001b[39m)\n\u001b[1;32m     11\u001b[0m ]\n\u001b[1;32m     13\u001b[0m solution \u001b[38;5;241m=\u001b[39m backtracking_search(variables, domains, constraints)\n\u001b[1;32m     14\u001b[0m \u001b[38;5;28;01mif\u001b[39;00m solution:\n",
      "Cell \u001b[0;32mIn[22], line 6\u001b[0m, in \u001b[0;36mcol_constraint\u001b[0;34m(assignment, col)\u001b[0m\n\u001b[1;32m      5\u001b[0m \u001b[38;5;28;01mdef\u001b[39;00m\u001b[38;5;250m \u001b[39m\u001b[38;5;21mcol_constraint\u001b[39m(assignment, col):\n\u001b[0;32m----> 6\u001b[0m     col_values \u001b[38;5;241m=\u001b[39m [assignment\u001b[38;5;241m.\u001b[39mget((r, col)) \u001b[38;5;28;01mfor\u001b[39;00m r \u001b[38;5;129;01min\u001b[39;00m \u001b[38;5;28mrange\u001b[39m(\u001b[38;5;241m9\u001b[39m) \u001b[38;5;28;01mif\u001b[39;00m \u001b[43massignment\u001b[49m\u001b[38;5;241;43m.\u001b[39;49m\u001b[43mget\u001b[49m\u001b[43m(\u001b[49m\u001b[43m(\u001b[49m\u001b[43mr\u001b[49m\u001b[43m,\u001b[49m\u001b[43m \u001b[49m\u001b[43mcol\u001b[49m\u001b[43m)\u001b[49m\u001b[43m)\u001b[49m \u001b[38;5;129;01mis\u001b[39;00m \u001b[38;5;129;01mnot\u001b[39;00m \u001b[38;5;28;01mNone\u001b[39;00m]\n\u001b[1;32m      7\u001b[0m     \u001b[38;5;28;01mreturn\u001b[39;00m \u001b[38;5;28mlen\u001b[39m(col_values) \u001b[38;5;241m==\u001b[39m \u001b[38;5;28mlen\u001b[39m(\u001b[38;5;28mset\u001b[39m(col_values))\n",
      "\u001b[0;31mKeyboardInterrupt\u001b[0m: "
     ]
    }
   ],
   "source": [
    "variables_dict = represent_sudoku_csp(board)\n",
    "variables = list(variables_dict.keys())\n",
    "domains = {var: variables_dict[var]['domain'] for var in variables}\n",
    "constraints = [\n",
    "    lambda assignment: row_constraint(assignment, row) for row in range(9)\n",
    "] + [\n",
    "    lambda assignment: col_constraint(assignment, col) for col in range(9)\n",
    "] + [\n",
    "    lambda assignment: block_constraint(assignment, block_row, block_col)\n",
    "    for block_row in range(3) for block_col in range(3)\n",
    "]\n",
    "\n",
    "solution = backtracking_search(variables, domains, constraints)\n",
    "if solution:\n",
    "    print(\"Solution found:\")\n",
    "    pprint(solution)\n",
    "else:\n",
    "    print(\"No solution exists.\")"
   ]
  }
 ],
 "metadata": {
  "kernelspec": {
   "display_name": "base",
   "language": "python",
   "name": "python3"
  },
  "language_info": {
   "codemirror_mode": {
    "name": "ipython",
    "version": 3
   },
   "file_extension": ".py",
   "mimetype": "text/x-python",
   "name": "python",
   "nbconvert_exporter": "python",
   "pygments_lexer": "ipython3",
   "version": "3.12.2"
  }
 },
 "nbformat": 4,
 "nbformat_minor": 5
}
