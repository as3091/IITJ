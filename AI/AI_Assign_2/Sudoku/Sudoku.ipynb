{
 "cells": [
  {
   "cell_type": "markdown",
   "id": "4f6186b3",
   "metadata": {},
   "source": [
    "### Q1.Design a Sudoku puzzle where the board consists of 81 squares, some of which are initially filled with digits from 1 to 9.  \n",
    "\n",
    "The puzzle is to fill in all the remaining squares such that no digit appears twice in any row, column, or 3 × 3 box.  \n",
    "A row, column, or box is called a unit.  \n",
    "\n",
    "1.\tRepresent the Sudoku problem in  CSP by identifying the variable, domain, and constraint.\n",
    "2.\tImplement the problem using backtracking search, what is avg. time taken by the algorithm for 10 runs.\n",
    "3.\tAnalyse how different fault finding algorithms such as Forward Checking, Arc consistency improve the computational time of backtracking search?\n",
    "4.\tAnalyse how different Heuristics MRV (Minimum Remaining Values), Degree heuristic, Least Constraining Value affect the  computational time of backtracking search?\n"
   ]
  },
  {
   "cell_type": "markdown",
   "id": "a08ae396",
   "metadata": {},
   "source": [
    "refrence : \n",
    "1. https://stackoverflow.com/questions/45471152/how-to-create-a-sudoku-puzzle-in-python "
   ]
  },
  {
   "cell_type": "code",
   "execution_count": 26,
   "id": "481554fe",
   "metadata": {},
   "outputs": [],
   "source": [
    "import numpy as np\n",
    "from pprint  import pprint \n",
    "import sys,warnings\n",
    "warnings.filterwarnings(\"ignore\", category=UserWarning)  "
   ]
  },
  {
   "cell_type": "code",
   "execution_count": null,
   "id": "98256648",
   "metadata": {},
   "outputs": [],
   "source": [
    "\n",
    "base  = 3\n",
    "side  = base*base\n",
    "\n",
    "# pattern for a baseline valid solution\n",
    "def pattern(r,c): return (base*(r%base)+r//base+c)%side\n",
    "\n",
    "# randomize rows, columns and numbers (of valid base pattern)\n",
    "from random import sample\n",
    "def shuffle(s): return sample(s,len(s)) \n",
    "rBase = range(base) \n",
    "rows  = [ g*base + r for g in shuffle(rBase) for r in shuffle(rBase) ] \n",
    "cols  = [ g*base + c for g in shuffle(rBase) for c in shuffle(rBase) ]\n",
    "nums  = shuffle(range(1,base*base+1))\n",
    "\n",
    "# produce board using randomized baseline pattern\n",
    "solution = [ [nums[pattern(r,c)] for c in cols] for r in rows ]\n",
    "# print(solution)\n",
    "board = np.array(solution)\n",
    "\n",
    "# original_array = np.array([[1, 2, 3], [4, 5, 6], [7, 8, 9]])\n",
    "\n",
    "# # Deep copy of the array\n",
    "# copied_array = original_array.copy()\n",
    "\n",
    "squares = side*side\n",
    "empties = squares * 3//4\n",
    "for p in sample(range(squares),empties):\n",
    "    board[p//side][p%side] = 0\n",
    "\n",
    "numSize = len(str(side))\n",
    "# for line in board:\n",
    "#     print(*(f\"{n or '.':{numSize}} \" for n in line))\n",
    "# print(solution)"
   ]
  },
  {
   "cell_type": "code",
   "execution_count": 15,
   "id": "10b6ad79",
   "metadata": {},
   "outputs": [],
   "source": [
    "def shortSudokuSolve(board):\n",
    "    side   = len(board)\n",
    "    base   = int(side**0.5)\n",
    "    board  = [n for row in board for n in row ]\n",
    "    blanks = [i for i,n in enumerate(board) if n==0 ]\n",
    "    cover  = { (n,p):{*zip([2*side+r, side+c, r//base*base+c//base],[n]*(n and 3))}\n",
    "                for p in range(side*side) for r,c in [divmod(p,side)] for n in range(side+1) }\n",
    "    used   = set().union(*(cover[n,p] for p,n in enumerate(board) if n))\n",
    "    placed = 0\n",
    "    while placed>=0 and placed<len(blanks):\n",
    "        pos        = blanks[placed]\n",
    "        used      -= cover[board[pos],pos]\n",
    "        board[pos] = next((n for n in range(board[pos]+1,side+1) if not cover[n,pos]&used),0)\n",
    "        used      |= cover[board[pos],pos]\n",
    "        placed    += 1 if board[pos] else -1\n",
    "        if placed == len(blanks):\n",
    "            solution = [board[r:r+side] for r in range(0,side*side,side)]\n",
    "            yield solution\n",
    "            placed -= 1"
   ]
  },
  {
   "cell_type": "code",
   "execution_count": 16,
   "id": "e83fc51e",
   "metadata": {},
   "outputs": [],
   "source": [
    "from IPython.display import display, HTML\n",
    "\n",
    "def sudoku_to_html(board):\n",
    "    \"\"\"\n",
    "    Generates an HTML table representation of a Sudoku board with thick edges for subgrids.\n",
    "\n",
    "    Args:\n",
    "        board (list of list of int): 2D list representing the Sudoku board.\n",
    "                                     Empty cells should be represented by 0 or '.'.\n",
    "\n",
    "    Returns:\n",
    "        str: HTML string for the Sudoku board.\n",
    "    \"\"\"\n",
    "    html = \"\"\"\n",
    "    <style>\n",
    "        table { border-collapse: collapse; font-family: Arial, sans-serif; }\n",
    "        td { border: 1px solid black; height: 40px; width: 40px; text-align: center; font-size: 18px; }\n",
    "        .thick-border-top { border-top: 3px solid black; }\n",
    "        .thick-border-left { border-left: 3px solid black; }\n",
    "    </style>\n",
    "    <table>\n",
    "    \"\"\"\n",
    "\n",
    "    for i, row in enumerate(board):\n",
    "        html += \"<tr>\"\n",
    "        for j, cell in enumerate(row):\n",
    "            # Apply thicker borders for subgrid boundaries\n",
    "            classes = []\n",
    "            if i % 3 == 0 and i != 0:\n",
    "                classes.append(\"thick-border-top\")\n",
    "            if j % 3 == 0 and j != 0:\n",
    "                classes.append(\"thick-border-left\")\n",
    "            \n",
    "            class_attr = f'class=\"{\" \".join(classes)}\"' if classes else \"\"\n",
    "            html += f\"<td {class_attr}>{cell if cell != 0 else ''}</td>\"\n",
    "        html += \"</tr>\"\n",
    "\n",
    "    html += \"</table>\"\n",
    "    return html"
   ]
  },
  {
   "cell_type": "code",
   "execution_count": 17,
   "id": "051018c2",
   "metadata": {},
   "outputs": [
    {
     "data": {
      "text/html": [
       "\n",
       "    <style>\n",
       "        table { border-collapse: collapse; font-family: Arial, sans-serif; }\n",
       "        td { border: 1px solid black; height: 40px; width: 40px; text-align: center; font-size: 18px; }\n",
       "        .thick-border-top { border-top: 3px solid black; }\n",
       "        .thick-border-left { border-left: 3px solid black; }\n",
       "    </style>\n",
       "    <table>\n",
       "    <tr><td ></td><td >8</td><td ></td><td class=\"thick-border-left\">9</td><td >2</td><td ></td><td class=\"thick-border-left\">5</td><td >6</td><td >7</td></tr><tr><td ></td><td ></td><td ></td><td class=\"thick-border-left\">8</td><td ></td><td ></td><td class=\"thick-border-left\"></td><td ></td><td ></td></tr><tr><td ></td><td ></td><td ></td><td class=\"thick-border-left\">5</td><td ></td><td ></td><td class=\"thick-border-left\"></td><td ></td><td ></td></tr><tr><td class=\"thick-border-top\"></td><td class=\"thick-border-top\"></td><td class=\"thick-border-top\"></td><td class=\"thick-border-top thick-border-left\">2</td><td class=\"thick-border-top\"></td><td class=\"thick-border-top\"></td><td class=\"thick-border-top thick-border-left\"></td><td class=\"thick-border-top\"></td><td class=\"thick-border-top\"></td></tr><tr><td >3</td><td ></td><td >5</td><td class=\"thick-border-left\">1</td><td ></td><td ></td><td class=\"thick-border-left\"></td><td ></td><td ></td></tr><tr><td >7</td><td ></td><td >9</td><td class=\"thick-border-left\">6</td><td ></td><td ></td><td class=\"thick-border-left\"></td><td >4</td><td >8</td></tr><tr><td class=\"thick-border-top\"></td><td class=\"thick-border-top\">4</td><td class=\"thick-border-top\"></td><td class=\"thick-border-top thick-border-left\">7</td><td class=\"thick-border-top\"></td><td class=\"thick-border-top\"></td><td class=\"thick-border-top thick-border-left\"></td><td class=\"thick-border-top\"></td><td class=\"thick-border-top\"></td></tr><tr><td ></td><td ></td><td ></td><td class=\"thick-border-left\"></td><td ></td><td ></td><td class=\"thick-border-left\"></td><td >5</td><td ></td></tr><tr><td ></td><td ></td><td ></td><td class=\"thick-border-left\"></td><td >8</td><td ></td><td class=\"thick-border-left\"></td><td ></td><td ></td></tr></table>"
      ],
      "text/plain": [
       "<IPython.core.display.HTML object>"
      ]
     },
     "metadata": {},
     "output_type": "display_data"
    },
    {
     "data": {
      "text/html": [
       "\n",
       "    <style>\n",
       "        table { border-collapse: collapse; font-family: Arial, sans-serif; }\n",
       "        td { border: 1px solid black; height: 40px; width: 40px; text-align: center; font-size: 18px; }\n",
       "        .thick-border-top { border-top: 3px solid black; }\n",
       "        .thick-border-left { border-left: 3px solid black; }\n",
       "    </style>\n",
       "    <table>\n",
       "    <tr><td >1</td><td >8</td><td >3</td><td class=\"thick-border-left\">9</td><td >2</td><td >4</td><td class=\"thick-border-left\">5</td><td >6</td><td >7</td></tr><tr><td >6</td><td >5</td><td >7</td><td class=\"thick-border-left\">8</td><td >1</td><td >3</td><td class=\"thick-border-left\">9</td><td >2</td><td >4</td></tr><tr><td >2</td><td >9</td><td >4</td><td class=\"thick-border-left\">5</td><td >6</td><td >7</td><td class=\"thick-border-left\">8</td><td >1</td><td >3</td></tr><tr><td class=\"thick-border-top\">4</td><td class=\"thick-border-top\">1</td><td class=\"thick-border-top\">8</td><td class=\"thick-border-top thick-border-left\">2</td><td class=\"thick-border-top\">7</td><td class=\"thick-border-top\">9</td><td class=\"thick-border-top thick-border-left\">6</td><td class=\"thick-border-top\">3</td><td class=\"thick-border-top\">5</td></tr><tr><td >3</td><td >6</td><td >5</td><td class=\"thick-border-left\">1</td><td >4</td><td >8</td><td class=\"thick-border-left\">2</td><td >7</td><td >9</td></tr><tr><td >7</td><td >2</td><td >9</td><td class=\"thick-border-left\">6</td><td >3</td><td >5</td><td class=\"thick-border-left\">1</td><td >4</td><td >8</td></tr><tr><td class=\"thick-border-top\">9</td><td class=\"thick-border-top\">4</td><td class=\"thick-border-top\">1</td><td class=\"thick-border-top thick-border-left\">7</td><td class=\"thick-border-top\">5</td><td class=\"thick-border-top\">2</td><td class=\"thick-border-top thick-border-left\">3</td><td class=\"thick-border-top\">8</td><td class=\"thick-border-top\">6</td></tr><tr><td >8</td><td >3</td><td >6</td><td class=\"thick-border-left\">4</td><td >9</td><td >1</td><td class=\"thick-border-left\">7</td><td >5</td><td >2</td></tr><tr><td >5</td><td >7</td><td >2</td><td class=\"thick-border-left\">3</td><td >8</td><td >6</td><td class=\"thick-border-left\">4</td><td >9</td><td >1</td></tr></table>"
      ],
      "text/plain": [
       "<IPython.core.display.HTML object>"
      ]
     },
     "metadata": {},
     "output_type": "display_data"
    }
   ],
   "source": [
    "# Generate and display the Sudoku board as HTML\n",
    "html_output = sudoku_to_html(board)\n",
    "display(HTML(html_output))\n",
    "\n",
    "html_output = sudoku_to_html(solution)\n",
    "display(HTML(html_output))\n"
   ]
  },
  {
   "cell_type": "code",
   "execution_count": 18,
   "id": "194d4016",
   "metadata": {},
   "outputs": [
    {
     "data": {
      "text/plain": [
       "array([[0, 8, 0, 9, 2, 0, 5, 6, 7],\n",
       "       [0, 0, 0, 8, 0, 0, 0, 0, 0],\n",
       "       [0, 0, 0, 5, 0, 0, 0, 0, 0],\n",
       "       [0, 0, 0, 2, 0, 0, 0, 0, 0],\n",
       "       [3, 0, 5, 1, 0, 0, 0, 0, 0],\n",
       "       [7, 0, 9, 6, 0, 0, 0, 4, 8],\n",
       "       [0, 4, 0, 7, 0, 0, 0, 0, 0],\n",
       "       [0, 0, 0, 0, 0, 0, 0, 5, 0],\n",
       "       [0, 0, 0, 0, 8, 0, 0, 0, 0]])"
      ]
     },
     "execution_count": 18,
     "metadata": {},
     "output_type": "execute_result"
    }
   ],
   "source": [
    "board"
   ]
  },
  {
   "cell_type": "code",
   "execution_count": 22,
   "id": "38229cad",
   "metadata": {},
   "outputs": [],
   "source": [
    "def row_constraint(assignment, row):\n",
    "    row_values = [assignment.get((row, c)) for c in range(9) if assignment.get((row, c)) is not None]\n",
    "    return len(row_values) == len(set(row_values))\n",
    "\n",
    "def col_constraint(assignment, col):\n",
    "    col_values = [assignment.get((r, col)) for r in range(9) if assignment.get((r, col)) is not None]\n",
    "    return len(col_values) == len(set(col_values))\n",
    "\n",
    "def block_constraint(assignment, block_row, block_col):\n",
    "    block_values = []\n",
    "    for r in range(block_row * 3, block_row * 3 + 3):\n",
    "        for c in range(block_col * 3, block_col * 3 + 3):\n",
    "            value = assignment.get((r, c))\n",
    "            if value is not None:\n",
    "                block_values.append(value)\n",
    "    return len(block_values) == len(set(block_values))"
   ]
  },
  {
   "cell_type": "markdown",
   "id": "bb97ba0c",
   "metadata": {},
   "source": [
    "1. Represent the Sudoku problem in CSP by identifying the variable, domain, and constraint."
   ]
  },
  {
   "cell_type": "code",
   "execution_count": 39,
   "id": "6ad44fb8",
   "metadata": {},
   "outputs": [],
   "source": [
    "def represent_sudoku_csp(board):\n",
    "    \"\"\"\n",
    "    Represents a Sudoku board as a Constraint Satisfaction Problem (CSP) with detailed variable and constraint structures.\n",
    "\n",
    "    Args:\n",
    "        board (list of list of int): A 9x9 2D list representing the Sudoku board.\n",
    "                                     Empty cells are represented by 0.\n",
    "\n",
    "    Returns:\n",
    "        dict: A dictionary where each key is a tuple (row, col) representing a cell, and the value is another dictionary containing:\n",
    "            - 'row' (int): The row index of the cell.\n",
    "            - 'col' (int): The column index of the cell.\n",
    "            - 'value' (int or None): The value assigned to the cell, or None if the cell is empty.\n",
    "            - 'domain' (list of int): The possible values that can be assigned to the cell.\n",
    "                                      For pre-filled cells, this is a single-value list.\n",
    "            - 'constraints' (dict): A dictionary of constraint functions for the cell, including:\n",
    "                - 'row': A function to enforce the row constraint.\n",
    "                - 'col': A function to enforce the column constraint.\n",
    "                - 'box': A function to enforce the 3x3 subgrid constraint.\n",
    "\n",
    "    Notes:\n",
    "        - This function provides a more detailed representation of the CSP, where each variable (cell) is associated with its constraints and domain.\n",
    "        - The constraints ensure that no number is repeated in the same row, column, or 3x3 subgrid.\n",
    "        - This representation can be used with CSP solvers to solve the Sudoku puzzle.\n",
    "    \"\"\"\n",
    "    side = len(board)\n",
    "    variables = {}\n",
    "\n",
    "    for row in range(side):\n",
    "        for col in range(side):\n",
    "            variable = {\n",
    "                'row': row,\n",
    "                'col': col,\n",
    "                'value': board[row][col], # initial value, zero represents not filled yet\n",
    "                'domain': [board[row][col]] if board[row][col]>0 else list(range(1, 10)), # initial domains\n",
    "                'PreFilled': True if board[row][col]>0 else False, # value given by the puzzle\n",
    "                'constraints': {\n",
    "                    'row': row_constraint, # function that returns true if the value does not exist in the row\n",
    "                    'col': col_constraint, # function that returns true if the value does not exist in the column\n",
    "                    'box': block_constraint # function that returns true if the value does not exist in the block\n",
    "                }\n",
    "            }\n",
    "        \n",
    "            variables[(row, col)] = variable\n",
    "    return variables"
   ]
  },
  {
   "cell_type": "code",
   "execution_count": 40,
   "id": "172320a1",
   "metadata": {},
   "outputs": [
    {
     "name": "stdout",
     "output_type": "stream",
     "text": [
      "{'PreFilled': False,\n",
      " 'col': 0,\n",
      " 'constraints': {'box': <function block_constraint at 0x7f7a37c53ec0>,\n",
      "                 'col': <function col_constraint at 0x7f7a37c527a0>,\n",
      "                 'row': <function row_constraint at 0x7f7a37c52520>},\n",
      " 'domain': [1, 2, 3, 4, 5, 6, 7, 8, 9],\n",
      " 'row': 0,\n",
      " 'value': 0}\n"
     ]
    }
   ],
   "source": [
    "variables_dict = represent_sudoku_csp(board)\n",
    "pprint(variables_dict[list(variables_dict.keys())[0]])\n",
    "# CSP representation of the first cell of the Sudoku board"
   ]
  },
  {
   "cell_type": "markdown",
   "id": "b22dab98",
   "metadata": {},
   "source": [
    "2. Implement the problem using backtracking search, what is avg. time taken by the algorithm for 10 runs."
   ]
  }
 ],
 "metadata": {
  "kernelspec": {
   "display_name": "base",
   "language": "python",
   "name": "python3"
  },
  "language_info": {
   "codemirror_mode": {
    "name": "ipython",
    "version": 3
   },
   "file_extension": ".py",
   "mimetype": "text/x-python",
   "name": "python",
   "nbconvert_exporter": "python",
   "pygments_lexer": "ipython3",
   "version": "3.12.2"
  }
 },
 "nbformat": 4,
 "nbformat_minor": 5
}
