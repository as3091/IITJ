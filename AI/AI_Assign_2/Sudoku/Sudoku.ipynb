{
 "cells": [
  {
   "cell_type": "markdown",
   "id": "4f6186b3",
   "metadata": {},
   "source": [
    "### Q1.Design a Sudoku puzzle where the board consists of 81 squares, some of which are initially filled with digits from 1 to 9.  \n",
    "\n",
    "The puzzle is to fill in all the remaining squares such that no digit appears twice in any row, column, or 3 × 3 box.  \n",
    "A row, column, or box is called a unit.  \n",
    "\n",
    "1.\tRepresent the Sudoku problem in  CSP by identifying the variable, domain, and constraint.\n",
    "2.\tImplement the problem using backtracking search, what is avg. time taken by the algorithm for 10 runs.\n",
    "3.\tAnalyse how different fault finding algorithms such as Forward Checking, Arc consistency improve the computational time of backtracking search?\n",
    "4.\tAnalyse how different Heuristics MRV (Minimum Remaining Values), Degree heuristic, Least Constraining Value affect the  computational time of backtracking search?\n"
   ]
  },
  {
   "cell_type": "code",
   "execution_count": 1,
   "id": "481554fe",
   "metadata": {},
   "outputs": [],
   "source": [
    "import numpy as np\n",
    "from pprint  import pprint \n",
    "import sys,warnings,copy, random,timeit\n",
    "warnings.filterwarnings(\"ignore\", category=UserWarning)  \n",
    "random.seed(42)\n",
    "np.random.seed(42)\n",
    "from datetime import datetime\n",
    "from subprocess import Popen, PIPE"
   ]
  },
  {
   "cell_type": "code",
   "execution_count": null,
   "id": "5c7ca14c",
   "metadata": {},
   "outputs": [],
   "source": [
    "def timing_the_runs(stmt=\"\"):\n",
    "    # Measure the time taken for multiple runs\n",
    "    execution_times = timeit.repeat(\n",
    "        stmt=stmt,  # Code to time\n",
    "        repeat=10,  # Number of repetitions\n",
    "        number=1,   # Number of executions per repetition\n",
    "        globals=globals()\n",
    "    )\n",
    "\n",
    "    # Calculate the average time\n",
    "    average_time = sum(execution_times) / len(execution_times)\n",
    "\n",
    "    print(f\"Execution times: {execution_times}\")\n",
    "    print(f\"Average time taken: {average_time:.4f} seconds\")"
   ]
  },
  {
   "cell_type": "code",
   "execution_count": 3,
   "id": "25abe0ea",
   "metadata": {},
   "outputs": [],
   "source": [
    "def git_commit(comment=\"\"):\n",
    "    \"\"\"Commit changes to the git repository.\"\"\"\n",
    "    time_now = datetime.now().strftime(\"%Y%m%d_%H%M%S\")\n",
    "    cmd = f'git add * ;git commit -am \"{time_now} {comment}\"; git push origin Sudoku;'\n",
    "    # [\"git\", \"add\", \".\"]\n",
    "    \"\"\"Run a command and return its output.\"\"\"\n",
    "    print(cmd)\n",
    "    process = Popen(cmd, stdout=PIPE, stderr=PIPE,shell=True)\n",
    "    stdout, stderr = process.communicate()\n",
    "    if process.returncode != 0:\n",
    "        raise RuntimeError(f\"Command '{' '.join(cmd)}' failed with error: {stderr.decode().strip()}\")\n",
    "    return stdout.decode().strip()"
   ]
  },
  {
   "cell_type": "code",
   "execution_count": null,
   "id": "98256648",
   "metadata": {},
   "outputs": [],
   "source": [
    "base  = 3\n",
    "side  = base*base\n",
    "\n",
    "# pattern for a baseline valid solution\n",
    "def pattern(r,c): return (base*(r%base)+r//base+c)%side\n",
    "\n",
    "# randomize rows, columns and numbers (of valid base pattern)\n",
    "from random import sample\n",
    "def shuffle(s): return sample(s,len(s)) \n",
    "rBase = range(base) \n",
    "rows  = [ g*base + r for g in shuffle(rBase) for r in shuffle(rBase) ] \n",
    "cols  = [ g*base + c for g in shuffle(rBase) for c in shuffle(rBase) ]\n",
    "nums  = shuffle(range(1,base*base+1))\n",
    "\n",
    "# produce board using randomized baseline pattern\n",
    "solution = [ [nums[pattern(r,c)] for c in cols] for r in rows ]\n",
    "# print(solution)\n",
    "board = np.array(solution)\n",
    "\n",
    "squares = side*side\n",
    "empties = squares * 3//4\n",
    "for p in sample(range(squares),empties):\n",
    "    board[p//side][p%side] = 0\n",
    "\n",
    "numSize = len(str(side))\n"
   ]
  },
  {
   "cell_type": "code",
   "execution_count": 6,
   "id": "e83fc51e",
   "metadata": {},
   "outputs": [],
   "source": [
    "from IPython.display import display, HTML\n",
    "\n",
    "def sudoku_to_html(board):\n",
    "    \"\"\"\n",
    "    Generates an HTML table representation of a Sudoku board with thick edges for subgrids.\n",
    "\n",
    "    Args:\n",
    "        board (list of list of int): 2D list representing the Sudoku board.\n",
    "                                     Empty cells should be represented by 0 or '.'.\n",
    "\n",
    "    Returns:\n",
    "        str: HTML string for the Sudoku board.\n",
    "    \"\"\"\n",
    "    html = \"\"\"\n",
    "    <style>\n",
    "        table { border-collapse: collapse; font-family: Arial, sans-serif; }\n",
    "        td { border: 1px solid black; height: 40px; width: 40px; text-align: center; font-size: 18px; }\n",
    "        .thick-border-top { border-top: 3px solid black; }\n",
    "        .thick-border-left { border-left: 3px solid black; }\n",
    "    </style>\n",
    "    <table>\n",
    "    \"\"\"\n",
    "\n",
    "    for i, row in enumerate(board):\n",
    "        html += \"<tr>\"\n",
    "        for j, cell in enumerate(row):\n",
    "            # Apply thicker borders for subgrid boundaries\n",
    "            classes = []\n",
    "            if i % 3 == 0 and i != 0:\n",
    "                classes.append(\"thick-border-top\")\n",
    "            if j % 3 == 0 and j != 0:\n",
    "                classes.append(\"thick-border-left\")\n",
    "            \n",
    "            class_attr = f'class=\"{\" \".join(classes)}\"' if classes else \"\"\n",
    "            html += f\"<td {class_attr}>{cell if cell != 0 else ''}</td>\"\n",
    "        html += \"</tr>\"\n",
    "\n",
    "    html += \"</table>\"\n",
    "    return html"
   ]
  },
  {
   "cell_type": "code",
   "execution_count": 7,
   "id": "e99a4f2b",
   "metadata": {},
   "outputs": [],
   "source": [
    "def print_result(solved_board_dict):\n",
    "    if solved_board_dict:\n",
    "        solved_board = np.zeros((9, 9), dtype=int)\n",
    "        for row in range(9):\n",
    "            for col in range(9):\n",
    "                solved_board[row][col] = solved_board_dict[(row, col)][\"value\"]\n",
    "\n",
    "        # Display the solved board\n",
    "        html_output = sudoku_to_html(solved_board)\n",
    "        display(HTML(html_output))\n",
    "    else:\n",
    "        print(\"No solution exists.\")"
   ]
  },
  {
   "cell_type": "code",
   "execution_count": 8,
   "id": "051018c2",
   "metadata": {},
   "outputs": [
    {
     "data": {
      "text/html": [
       "\n",
       "    <style>\n",
       "        table { border-collapse: collapse; font-family: Arial, sans-serif; }\n",
       "        td { border: 1px solid black; height: 40px; width: 40px; text-align: center; font-size: 18px; }\n",
       "        .thick-border-top { border-top: 3px solid black; }\n",
       "        .thick-border-left { border-left: 3px solid black; }\n",
       "    </style>\n",
       "    <table>\n",
       "    <tr><td >2</td><td ></td><td ></td><td class=\"thick-border-left\">7</td><td ></td><td ></td><td class=\"thick-border-left\"></td><td ></td><td ></td></tr><tr><td >5</td><td ></td><td ></td><td class=\"thick-border-left\"></td><td ></td><td ></td><td class=\"thick-border-left\"></td><td >1</td><td ></td></tr><tr><td ></td><td >8</td><td ></td><td class=\"thick-border-left\">3</td><td ></td><td ></td><td class=\"thick-border-left\"></td><td >9</td><td ></td></tr><tr><td class=\"thick-border-top\"></td><td class=\"thick-border-top\">6</td><td class=\"thick-border-top\"></td><td class=\"thick-border-top thick-border-left\">2</td><td class=\"thick-border-top\">9</td><td class=\"thick-border-top\">7</td><td class=\"thick-border-top thick-border-left\"></td><td class=\"thick-border-top\"></td><td class=\"thick-border-top\"></td></tr><tr><td ></td><td ></td><td ></td><td class=\"thick-border-left\"></td><td ></td><td ></td><td class=\"thick-border-left\"></td><td ></td><td ></td></tr><tr><td ></td><td ></td><td >8</td><td class=\"thick-border-left\"></td><td ></td><td ></td><td class=\"thick-border-left\"></td><td ></td><td ></td></tr><tr><td class=\"thick-border-top\"></td><td class=\"thick-border-top\"></td><td class=\"thick-border-top\"></td><td class=\"thick-border-top thick-border-left\">9</td><td class=\"thick-border-top\"></td><td class=\"thick-border-top\">5</td><td class=\"thick-border-top thick-border-left\"></td><td class=\"thick-border-top\"></td><td class=\"thick-border-top\"></td></tr><tr><td ></td><td ></td><td ></td><td class=\"thick-border-left\">1</td><td >7</td><td ></td><td class=\"thick-border-left\"></td><td ></td><td ></td></tr><tr><td >8</td><td ></td><td >5</td><td class=\"thick-border-left\">4</td><td >3</td><td ></td><td class=\"thick-border-left\"></td><td >2</td><td ></td></tr></table>"
      ],
      "text/plain": [
       "<IPython.core.display.HTML object>"
      ]
     },
     "metadata": {},
     "output_type": "display_data"
    },
    {
     "data": {
      "text/html": [
       "\n",
       "    <style>\n",
       "        table { border-collapse: collapse; font-family: Arial, sans-serif; }\n",
       "        td { border: 1px solid black; height: 40px; width: 40px; text-align: center; font-size: 18px; }\n",
       "        .thick-border-top { border-top: 3px solid black; }\n",
       "        .thick-border-left { border-left: 3px solid black; }\n",
       "    </style>\n",
       "    <table>\n",
       "    <tr><td >2</td><td >3</td><td >1</td><td class=\"thick-border-left\">7</td><td >5</td><td >9</td><td class=\"thick-border-left\">6</td><td >4</td><td >8</td></tr><tr><td >5</td><td >7</td><td >9</td><td class=\"thick-border-left\">8</td><td >6</td><td >4</td><td class=\"thick-border-left\">2</td><td >1</td><td >3</td></tr><tr><td >6</td><td >8</td><td >4</td><td class=\"thick-border-left\">3</td><td >2</td><td >1</td><td class=\"thick-border-left\">5</td><td >9</td><td >7</td></tr><tr><td class=\"thick-border-top\">1</td><td class=\"thick-border-top\">6</td><td class=\"thick-border-top\">3</td><td class=\"thick-border-top thick-border-left\">2</td><td class=\"thick-border-top\">9</td><td class=\"thick-border-top\">7</td><td class=\"thick-border-top thick-border-left\">4</td><td class=\"thick-border-top\">8</td><td class=\"thick-border-top\">5</td></tr><tr><td >9</td><td >2</td><td >7</td><td class=\"thick-border-left\">5</td><td >4</td><td >8</td><td class=\"thick-border-left\">1</td><td >3</td><td >6</td></tr><tr><td >4</td><td >5</td><td >8</td><td class=\"thick-border-left\">6</td><td >1</td><td >3</td><td class=\"thick-border-left\">9</td><td >7</td><td >2</td></tr><tr><td class=\"thick-border-top\">7</td><td class=\"thick-border-top\">1</td><td class=\"thick-border-top\">2</td><td class=\"thick-border-top thick-border-left\">9</td><td class=\"thick-border-top\">8</td><td class=\"thick-border-top\">5</td><td class=\"thick-border-top thick-border-left\">3</td><td class=\"thick-border-top\">6</td><td class=\"thick-border-top\">4</td></tr><tr><td >3</td><td >4</td><td >6</td><td class=\"thick-border-left\">1</td><td >7</td><td >2</td><td class=\"thick-border-left\">8</td><td >5</td><td >9</td></tr><tr><td >8</td><td >9</td><td >5</td><td class=\"thick-border-left\">4</td><td >3</td><td >6</td><td class=\"thick-border-left\">7</td><td >2</td><td >1</td></tr></table>"
      ],
      "text/plain": [
       "<IPython.core.display.HTML object>"
      ]
     },
     "metadata": {},
     "output_type": "display_data"
    }
   ],
   "source": [
    "# Generate and display the Sudoku board as HTML\n",
    "\n",
    "display(HTML(sudoku_to_html(board)))\n",
    "\n",
    "display(HTML(sudoku_to_html(solution)))\n"
   ]
  },
  {
   "cell_type": "code",
   "execution_count": 9,
   "id": "194d4016",
   "metadata": {},
   "outputs": [
    {
     "data": {
      "text/plain": [
       "array([[2, 0, 0, 7, 0, 0, 0, 0, 0],\n",
       "       [5, 0, 0, 0, 0, 0, 0, 1, 0],\n",
       "       [0, 8, 0, 3, 0, 0, 0, 9, 0],\n",
       "       [0, 6, 0, 2, 9, 7, 0, 0, 0],\n",
       "       [0, 0, 0, 0, 0, 0, 0, 0, 0],\n",
       "       [0, 0, 8, 0, 0, 0, 0, 0, 0],\n",
       "       [0, 0, 0, 9, 0, 5, 0, 0, 0],\n",
       "       [0, 0, 0, 1, 7, 0, 0, 0, 0],\n",
       "       [8, 0, 5, 4, 3, 0, 0, 2, 0]])"
      ]
     },
     "execution_count": 9,
     "metadata": {},
     "output_type": "execute_result"
    }
   ],
   "source": [
    "board"
   ]
  },
  {
   "cell_type": "markdown",
   "id": "bb97ba0c",
   "metadata": {},
   "source": [
    "1. Represent the Sudoku problem in CSP by identifying the variable, domain, and constraint."
   ]
  },
  {
   "cell_type": "code",
   "execution_count": 10,
   "id": "dca6dda0",
   "metadata": {},
   "outputs": [],
   "source": [
    "def domain_cleaner(variables_dict, variable):\n",
    "    \"\"\"\n",
    "    Cleans the domain of the variable by removing values that are already assigned to other variables.\n",
    "\n",
    "    Args:\n",
    "        variables_dict (dict): The CSP variables with their domains and current assignments.\n",
    "        variable (tuple): The variable (row, col) whose domain needs to be cleaned.\n",
    "\n",
    "    Returns:\n",
    "        list: The cleaned domain for the variable.\n",
    "    \"\"\"\n",
    "\n",
    "    neighbour_values = [variables_dict[neighbour][\"value\"] for neighbour in variables_dict[variable][\"Neighbours\"] if variables_dict[neighbour][\"value\"] > 0]\n",
    "\n",
    "    cleaned_domain = [val for val in variables_dict[variable][\"domain\"] if val not in neighbour_values]  \n",
    "    return cleaned_domain"
   ]
  },
  {
   "cell_type": "code",
   "execution_count": 11,
   "id": "edf33d54",
   "metadata": {},
   "outputs": [],
   "source": [
    "def constraints_check(variable,variables_dict, test_value):\n",
    "    \"\"\"\n",
    "    Checks if the test value satisfies all constraints.\n",
    "\n",
    "    Args:\n",
    "        assignment (dict): A dictionary mapping variables (row, col) to their assigned values.\n",
    "        variables_dict (dict): The CSP variables with their domains.\n",
    "        valriable (tuple): position of the cell on the board.\n",
    "\n",
    "    Returns:\n",
    "        bool: True if all constraints are satisfied, False otherwise.\n",
    "    \"\"\"\n",
    "    # check constraints\n",
    "    neighbour_values = [variables_dict[neighbour][\"value\"] for neighbour in variables_dict[variable][\"Neighbours\"] if variables_dict[neighbour][\"value\"] > 0]\n",
    "    if test_value in neighbour_values:\n",
    "        return False\n",
    "    else:\n",
    "        # If all constraints are satisfied, return True\n",
    "        return True"
   ]
  },
  {
   "cell_type": "code",
   "execution_count": 12,
   "id": "6ad44fb8",
   "metadata": {},
   "outputs": [],
   "source": [
    "def represent_sudoku_csp(board):\n",
    "    \"\"\"\n",
    "    Represents a Sudoku board as a Constraint Satisfaction Problem (CSP) with detailed variable and constraint structures.\n",
    "\n",
    "    Args:\n",
    "        board (list of list of int): A 9x9 2D list representing the Sudoku board.\n",
    "                                     Empty cells are represented by 0.\n",
    "\n",
    "    Returns:\n",
    "        dict: A dictionary where each key is a tuple (row, col) representing a cell, and the value is another dictionary containing:\n",
    "            - 'row' (int): The row index of the cell.\n",
    "            - 'col' (int): The column index of the cell.\n",
    "            - 'value' (int or None): The value assigned to the cell, or None if the cell is empty.\n",
    "            - 'domain' (list of int): The possible values that can be assigned to the cell.\n",
    "                                      For pre-filled cells, this is a single-value list.\n",
    "            - 'constraints' (dict): A dictionary of constraint functions for the cell, including:\n",
    "                - 'row': A function to enforce the row constraint.\n",
    "                - 'col': A function to enforce the column constraint.\n",
    "                - 'box': A function to enforce the 3x3 subgrid constraint.\n",
    "\n",
    "    Notes:\n",
    "        - This function provides a more detailed representation of the CSP, where each variable (cell) is associated with its constraints and domain.\n",
    "        - The constraints ensure that no number is repeated in the same row, column, or 3x3 subgrid.\n",
    "        - This representation can be used with CSP solvers to solve the Sudoku puzzle.\n",
    "    \"\"\"\n",
    "    side = len(board)\n",
    "    variables = {}\n",
    "\n",
    "    for row in range(side):\n",
    "        for col in range(side):\n",
    "            \n",
    "            variable = {\n",
    "                # 'row': row,\n",
    "                # 'col': col,\n",
    "                'value': board[row][col], # initial value, zero represents not filled yet\n",
    "                'domain': [board[row][col]] if board[row][col]>0 else list(range(1, 10)), # initial domains\n",
    "\n",
    "                \"Neighbours\": [ (r,c) for r in range(side) for c in range(side) if row == r or col == c or (row // 3 == r // 3 and col // 3 == c // 3) ], # list of neighbours\n",
    "                # \"Filled_Neighbours\": [(r,c) for r in range(side) for c in range(side) if (row == r or col == c or (row // 3 == r // 3 and col // 3 == c // 3)) and board[r][c]>0], # list of neighbours that are already filled\n",
    "            }\n",
    "            variables[(row, col)] = variable\n",
    "    return variables"
   ]
  },
  {
   "cell_type": "code",
   "execution_count": 13,
   "id": "172320a1",
   "metadata": {},
   "outputs": [
    {
     "name": "stdout",
     "output_type": "stream",
     "text": [
      "(0, 1)\n",
      "{'Neighbours': [(0, 0),\n",
      "                (0, 1),\n",
      "                (0, 2),\n",
      "                (0, 3),\n",
      "                (0, 4),\n",
      "                (0, 5),\n",
      "                (0, 6),\n",
      "                (0, 7),\n",
      "                (0, 8),\n",
      "                (1, 0),\n",
      "                (1, 1),\n",
      "                (1, 2),\n",
      "                (2, 0),\n",
      "                (2, 1),\n",
      "                (2, 2),\n",
      "                (3, 1),\n",
      "                (4, 1),\n",
      "                (5, 1),\n",
      "                (6, 1),\n",
      "                (7, 1),\n",
      "                (8, 1)],\n",
      " 'domain': [1, 3, 4, 9],\n",
      " 'value': 0}\n"
     ]
    }
   ],
   "source": [
    "variables_dict = represent_sudoku_csp(board)\n",
    "for variable in variables_dict:\n",
    "    # Clean the domain of the variable\n",
    "    variables_dict[variable][\"domain\"] = domain_cleaner(variables_dict, variable)\n",
    "key = list(variables_dict.keys())[1]\n",
    "print(key)\n",
    "pprint(variables_dict[key])\n",
    "# CSP representation of the first cell of the Sudoku board"
   ]
  },
  {
   "cell_type": "markdown",
   "id": "b22dab98",
   "metadata": {},
   "source": [
    "2. Implement the problem using backtracking search, what is avg. time taken by the algorithm for 10 runs."
   ]
  },
  {
   "cell_type": "code",
   "execution_count": 14,
   "id": "511d475f",
   "metadata": {},
   "outputs": [],
   "source": [
    "def new_backtracking_search(variables_dict):\n",
    "\n",
    "    Unfilled = [ v for v in variables_dict if variables_dict[v][\"value\"] ==0 ]\n",
    "    \n",
    "    # If all variables are assigned, return the assignment\n",
    "    if len(Unfilled) == 0:\n",
    "        return variables_dict\n",
    "    \n",
    "    variable = Unfilled[0]\n",
    "\n",
    "    # Try each value in the domain of the variable\n",
    "    for test_domain_value in variables_dict[variable]['domain']:\n",
    "\n",
    "        # Check if a test value for the domain is valid\n",
    "        constraints_check_flag = constraints_check(\n",
    "            variable = variable,\n",
    "            variables_dict = variables_dict,\n",
    "            test_value = test_domain_value)\n",
    "        \n",
    "        if constraints_check_flag:\n",
    "            \n",
    "            # Create a new variables dictionary with a test value for the  domain \n",
    "            copy_variables_dict = copy.deepcopy(variables_dict)\n",
    "            \n",
    "            # Recursively solve the CSP with the new assignment\n",
    "            copy_variables_dict[variable][\"value\"] = test_domain_value\n",
    "            # copy_variables_dict[variable][\"Filled\"] = True\n",
    "\n",
    "            result = new_backtracking_search(variables_dict = copy_variables_dict)\n",
    "            if result is not None:\n",
    "                return result\n",
    "    # If no value leads to a solution, return None\n",
    "    return None\n"
   ]
  },
  {
   "cell_type": "code",
   "execution_count": 15,
   "id": "5b36299a",
   "metadata": {},
   "outputs": [
    {
     "name": "stdout",
     "output_type": "stream",
     "text": [
      "Execution times: [4.649926492000304, 4.394447108999884, 4.638912645999881, 4.208205880000605, 4.268010464999861, 4.284024705000775, 4.136527992999618, 4.401979788999597, 4.678384071000437, 4.159955711999828]\n",
      "Average time taken: 4.3820 seconds\n"
     ]
    }
   ],
   "source": [
    "timing_the_runs(stmt=\"new_backtracking_search(variables_dict)\")"
   ]
  },
  {
   "cell_type": "code",
   "execution_count": 16,
   "id": "16c57710",
   "metadata": {},
   "outputs": [
    {
     "data": {
      "text/html": [
       "\n",
       "    <style>\n",
       "        table { border-collapse: collapse; font-family: Arial, sans-serif; }\n",
       "        td { border: 1px solid black; height: 40px; width: 40px; text-align: center; font-size: 18px; }\n",
       "        .thick-border-top { border-top: 3px solid black; }\n",
       "        .thick-border-left { border-left: 3px solid black; }\n",
       "    </style>\n",
       "    <table>\n",
       "    <tr><td >2</td><td >1</td><td >3</td><td class=\"thick-border-left\">7</td><td >4</td><td >9</td><td class=\"thick-border-left\">5</td><td >6</td><td >8</td></tr><tr><td >5</td><td >4</td><td >9</td><td class=\"thick-border-left\">6</td><td >2</td><td >8</td><td class=\"thick-border-left\">3</td><td >1</td><td >7</td></tr><tr><td >6</td><td >8</td><td >7</td><td class=\"thick-border-left\">3</td><td >5</td><td >1</td><td class=\"thick-border-left\">2</td><td >9</td><td >4</td></tr><tr><td class=\"thick-border-top\">1</td><td class=\"thick-border-top\">6</td><td class=\"thick-border-top\">4</td><td class=\"thick-border-top thick-border-left\">2</td><td class=\"thick-border-top\">9</td><td class=\"thick-border-top\">7</td><td class=\"thick-border-top thick-border-left\">8</td><td class=\"thick-border-top\">5</td><td class=\"thick-border-top\">3</td></tr><tr><td >3</td><td >5</td><td >2</td><td class=\"thick-border-left\">8</td><td >1</td><td >4</td><td class=\"thick-border-left\">6</td><td >7</td><td >9</td></tr><tr><td >7</td><td >9</td><td >8</td><td class=\"thick-border-left\">5</td><td >6</td><td >3</td><td class=\"thick-border-left\">1</td><td >4</td><td >2</td></tr><tr><td class=\"thick-border-top\">4</td><td class=\"thick-border-top\">2</td><td class=\"thick-border-top\">1</td><td class=\"thick-border-top thick-border-left\">9</td><td class=\"thick-border-top\">8</td><td class=\"thick-border-top\">5</td><td class=\"thick-border-top thick-border-left\">7</td><td class=\"thick-border-top\">3</td><td class=\"thick-border-top\">6</td></tr><tr><td >9</td><td >3</td><td >6</td><td class=\"thick-border-left\">1</td><td >7</td><td >2</td><td class=\"thick-border-left\">4</td><td >8</td><td >5</td></tr><tr><td >8</td><td >7</td><td >5</td><td class=\"thick-border-left\">4</td><td >3</td><td >6</td><td class=\"thick-border-left\">9</td><td >2</td><td >1</td></tr></table>"
      ],
      "text/plain": [
       "<IPython.core.display.HTML object>"
      ]
     },
     "metadata": {},
     "output_type": "display_data"
    },
    {
     "name": "stdout",
     "output_type": "stream",
     "text": [
      "CPU times: user 4.46 s, sys: 0 ns, total: 4.46 s\n",
      "Wall time: 4.46 s\n"
     ]
    }
   ],
   "source": [
    "%%time\n",
    "print_result(new_backtracking_search(variables_dict))\n",
    "# new_backtracking_search(variables_dict)"
   ]
  },
  {
   "cell_type": "markdown",
   "id": "97374177",
   "metadata": {},
   "source": [
    "The solved board may be different from the original solution board,  \n",
    "as the input board can have multiple solutions depending on the numbers removed"
   ]
  },
  {
   "cell_type": "code",
   "execution_count": 17,
   "id": "4ee34b9f",
   "metadata": {},
   "outputs": [],
   "source": [
    "# display(HTML(sudoku_to_html(solved_board)))\n",
    "# display(HTML(sudoku_to_html(solution)))"
   ]
  },
  {
   "cell_type": "markdown",
   "id": "7cf3b2e1",
   "metadata": {},
   "source": [
    "3. Analyse how different fault finding algorithms such as Forward Checking, Arc consistency improve the computational time of backtracking search?"
   ]
  },
  {
   "cell_type": "code",
   "execution_count": 18,
   "id": "a1dc4df7",
   "metadata": {},
   "outputs": [],
   "source": [
    "def forward_checking_arc_consistency(variables_dict, variable):\n",
    "    \"\"\"\n",
    "    Performs forward checking by pruning the domains of unassigned variables.\n",
    "\n",
    "    Args:\n",
    "        variables_dict (dict): The CSP variables with their domains and current assignments.\n",
    "        variable (tuple): The variable (row, col) that was just assigned a value.\n",
    "        test_domain_value (int): The value assigned to the variable.\n",
    "\n",
    "    Returns:\n",
    "        bool: True if no domain becomes empty after pruning, False otherwise.\n",
    "    \"\"\"\n",
    "    copy_variables_dict_forward_checked = copy.deepcopy(variables_dict)\n",
    "    test_domain_value = copy_variables_dict_forward_checked[variable][\"value\"]\n",
    "    for neighbour in copy_variables_dict_forward_checked[variable][\"Neighbours\"]:\n",
    "        # Prune domains of variables in the neighbourhood that are not filled\n",
    "        if copy_variables_dict_forward_checked[neighbour][\"value\"] == 0:\n",
    "            if test_domain_value in copy_variables_dict_forward_checked[neighbour][\"domain\"]:\n",
    "                copy_variables_dict_forward_checked[neighbour][\"domain\"].remove(test_domain_value)\n",
    "                # If domain becomes empty, return False\n",
    "                if len(copy_variables_dict_forward_checked[neighbour][\"domain\"]) == 0:\n",
    "                    return False\n",
    "\n",
    "    return copy_variables_dict_forward_checked"
   ]
  },
  {
   "cell_type": "code",
   "execution_count": 19,
   "id": "235ec3c2",
   "metadata": {},
   "outputs": [
    {
     "name": "stdout",
     "output_type": "stream",
     "text": [
      "CPU times: user 3 μs, sys: 0 ns, total: 3 μs\n",
      "Wall time: 5.48 μs\n"
     ]
    }
   ],
   "source": [
    "%%time\n",
    "\n",
    "def forward_checking_backtracking_search(variables_dict):\n",
    "    \"\"\"\n",
    "    Solves the CSP using backtracking search with Forward Checking.\n",
    "\n",
    "    Args:\n",
    "        variables_dict (dict): The CSP variables with their domains and current assignments.\n",
    "\n",
    "    Returns:\n",
    "        dict or None: A complete assignment if a solution is found, or None if no solution exists.\n",
    "    \"\"\"\n",
    "    # Find unfilled variables\n",
    "    unfilled = [v for v in variables_dict if variables_dict[v][\"value\"]==0]\n",
    "\n",
    "    # If all variables are assigned, return the assignment\n",
    "    if not unfilled:\n",
    "        return variables_dict\n",
    "\n",
    "    # Select the first unfilled variable\n",
    "    variable = unfilled[0]\n",
    "\n",
    "    # Try each value in the domain of the variable\n",
    "    for test_domain_value in variables_dict[variable][\"domain\"]:\n",
    "\n",
    "        # Create a new variables dictionary with a test value for the  domain \n",
    "        \n",
    "        # Constraints check will not be required as:\n",
    "        # 1. the domains are cleaned\n",
    "        # 2. forward checking prempts conflicts\n",
    "        \n",
    "        copy_variables_dict_test_domain = copy.deepcopy(variables_dict)\n",
    "        \n",
    "        #set the test value to the variable\n",
    "        copy_variables_dict_test_domain[variable][\"value\"] = test_domain_value\n",
    "\n",
    "        # Use Forward Checking to prune the domains of unassigned variables\n",
    "        # and check if any domain becomes empty \n",
    "        copy_variables_dict_forward_checked = forward_checking_arc_consistency(copy_variables_dict_test_domain, variable)\n",
    "        if copy_variables_dict_forward_checked:\n",
    "            # Recursively solve the CSP with the new assignment\n",
    "            result = forward_checking_backtracking_search(copy_variables_dict_forward_checked)\n",
    "            if result is not None:\n",
    "                return result\n",
    "                \n",
    "    # If no value leads to a solution, return None\n",
    "    return None"
   ]
  },
  {
   "cell_type": "code",
   "execution_count": 20,
   "id": "2a3775da",
   "metadata": {},
   "outputs": [
    {
     "name": "stdout",
     "output_type": "stream",
     "text": [
      "Execution times: [4.127870453000469, 3.852800326999386, 4.200466463999874, 4.203936342999441, 3.979076194999834, 3.6514200419996996, 3.8147202469999684, 3.830972306000149, 3.965847681000014, 3.9489771730004577]\n",
      "Average time taken: 3.9576 seconds\n"
     ]
    }
   ],
   "source": [
    "timing_the_runs(stmt=\"forward_checking_backtracking_search(variables_dict)\")"
   ]
  },
  {
   "cell_type": "code",
   "execution_count": 21,
   "id": "8a287ac5",
   "metadata": {},
   "outputs": [
    {
     "data": {
      "text/html": [
       "\n",
       "    <style>\n",
       "        table { border-collapse: collapse; font-family: Arial, sans-serif; }\n",
       "        td { border: 1px solid black; height: 40px; width: 40px; text-align: center; font-size: 18px; }\n",
       "        .thick-border-top { border-top: 3px solid black; }\n",
       "        .thick-border-left { border-left: 3px solid black; }\n",
       "    </style>\n",
       "    <table>\n",
       "    <tr><td >2</td><td >1</td><td >3</td><td class=\"thick-border-left\">7</td><td >4</td><td >9</td><td class=\"thick-border-left\">5</td><td >6</td><td >8</td></tr><tr><td >5</td><td >4</td><td >9</td><td class=\"thick-border-left\">6</td><td >2</td><td >8</td><td class=\"thick-border-left\">3</td><td >1</td><td >7</td></tr><tr><td >6</td><td >8</td><td >7</td><td class=\"thick-border-left\">3</td><td >5</td><td >1</td><td class=\"thick-border-left\">2</td><td >9</td><td >4</td></tr><tr><td class=\"thick-border-top\">1</td><td class=\"thick-border-top\">6</td><td class=\"thick-border-top\">4</td><td class=\"thick-border-top thick-border-left\">2</td><td class=\"thick-border-top\">9</td><td class=\"thick-border-top\">7</td><td class=\"thick-border-top thick-border-left\">8</td><td class=\"thick-border-top\">5</td><td class=\"thick-border-top\">3</td></tr><tr><td >3</td><td >5</td><td >2</td><td class=\"thick-border-left\">8</td><td >1</td><td >4</td><td class=\"thick-border-left\">6</td><td >7</td><td >9</td></tr><tr><td >7</td><td >9</td><td >8</td><td class=\"thick-border-left\">5</td><td >6</td><td >3</td><td class=\"thick-border-left\">1</td><td >4</td><td >2</td></tr><tr><td class=\"thick-border-top\">4</td><td class=\"thick-border-top\">2</td><td class=\"thick-border-top\">1</td><td class=\"thick-border-top thick-border-left\">9</td><td class=\"thick-border-top\">8</td><td class=\"thick-border-top\">5</td><td class=\"thick-border-top thick-border-left\">7</td><td class=\"thick-border-top\">3</td><td class=\"thick-border-top\">6</td></tr><tr><td >9</td><td >3</td><td >6</td><td class=\"thick-border-left\">1</td><td >7</td><td >2</td><td class=\"thick-border-left\">4</td><td >8</td><td >5</td></tr><tr><td >8</td><td >7</td><td >5</td><td class=\"thick-border-left\">4</td><td >3</td><td >6</td><td class=\"thick-border-left\">9</td><td >2</td><td >1</td></tr></table>"
      ],
      "text/plain": [
       "<IPython.core.display.HTML object>"
      ]
     },
     "metadata": {},
     "output_type": "display_data"
    },
    {
     "name": "stdout",
     "output_type": "stream",
     "text": [
      "CPU times: user 4.49 s, sys: 0 ns, total: 4.49 s\n",
      "Wall time: 4.49 s\n"
     ]
    }
   ],
   "source": [
    "%%time\n",
    "\n",
    "print_result(forward_checking_backtracking_search(variables_dict))"
   ]
  },
  {
   "cell_type": "markdown",
   "id": "81cf56af",
   "metadata": {},
   "source": [
    "d.\tAnalyse how different Heuristics MRV (Minimum Remaining Values), Degree heuristic, Least Constraining Value affect the  computational time of backtracking search?"
   ]
  },
  {
   "cell_type": "code",
   "execution_count": 22,
   "id": "d8e78bf5",
   "metadata": {},
   "outputs": [],
   "source": [
    "def select_variable_with_heuristics(variables_dict,unfilled):\n",
    "    \"\"\"\n",
    "    Selects the next variable to assign using MRV and Degree Heuristic.\n",
    "\n",
    "    Args:\n",
    "        variables_dict (dict): The CSP variables with their domains and current assignments.\n",
    "\n",
    "    Returns:\n",
    "        tuple: The selected variable (row, col).\n",
    "    \"\"\"\n",
    "    # Apply MRV (Minimum Remaining Values)\n",
    "    mrv = min(unfilled, key=lambda variable: len(variables_dict[variable][\"domain\"]))\n",
    "\n",
    "    # If there are ties, apply Degree Heuristic\n",
    "    tied_variables_degree = {variable: 0 for variable in unfilled if len(variables_dict[variable][\"domain\"]) == len(variables_dict[mrv][\"domain\"])}\n",
    "    if len(tied_variables_degree) > 1:\n",
    "        # Degree Heuristic: Select the variable involved in the most constraints\n",
    "        for variable in tied_variables_degree:\n",
    "            for neighbour in variables_dict[variable][\"Neighbours\"]:\n",
    "                if variables_dict[neighbour][\"value\"] > 0:\n",
    "                    tied_variables_degree[variable] += 1\n",
    "        mrv = max(tied_variables_degree, key=tied_variables_degree.get)\n",
    "\n",
    "    return mrv\n",
    "\n"
   ]
  },
  {
   "cell_type": "code",
   "execution_count": 23,
   "id": "93e8791f",
   "metadata": {},
   "outputs": [],
   "source": [
    "def order_domain_values(variable, variables_dict):\n",
    "    \"\"\"\n",
    "    Orders the domain values of a variable using the Least Constraining Value (LCV) heuristic.\n",
    "\n",
    "    Args:\n",
    "        variable (tuple): The variable (row, col) to order domain values for.\n",
    "        variables_dict (dict): The CSP variables with their domains and current assignments.\n",
    "\n",
    "    Returns:\n",
    "        list: The ordered list of domain values.\n",
    "    \"\"\"\n",
    "    sorted_domain = variables_dict[variable][\"domain\"] \n",
    "    count_conflicts = { }\n",
    "    for value in variables_dict[variable][\"domain\"]:\n",
    "        # Count how many variables would be affected by assigning this value\n",
    "        count_conflicts[value] = len([ neighbour for neighbour in variables_dict[variable][\"Neighbours\"] if variables_dict[neighbour][\"value\"] == 0 and value in variables_dict[neighbour][\"domain\"] ])\n",
    "\n",
    "    # Sort domain values by the number of conflicts (ascending)\n",
    "\n",
    "    sorted_list = sorted(sorted_domain, key=lambda value: count_conflicts[value])\n",
    "    return sorted_list"
   ]
  },
  {
   "cell_type": "code",
   "execution_count": 24,
   "id": "4f2a6409",
   "metadata": {},
   "outputs": [],
   "source": [
    "def backtracking_search_with_heuristics(variables_dict):\n",
    "    \"\"\"\n",
    "    Solves the CSP using backtracking search with MRV, Degree Heuristic, and LCV.\n",
    "\n",
    "    Args:\n",
    "        variables_dict (dict): The CSP variables with their domains and current assignments.\n",
    "\n",
    "    Returns:\n",
    "        dict or None: A complete assignment if a solution is found, or None if no solution exists.\n",
    "    \"\"\"\n",
    "    # Check if all variables are assigned\n",
    "    unfilled = [variable for variable in variables_dict if variables_dict[variable][\"value\"] ==0]\n",
    "    if not unfilled:\n",
    "        return variables_dict\n",
    "\n",
    "    # Select the next variable to assign using MRV and Degree Heuristic\n",
    "    variable = select_variable_with_heuristics(variables_dict,unfilled)\n",
    "\n",
    "    # Order domain values using LCV\n",
    "    for test_domain_value in order_domain_values(variable, variables_dict):\n",
    "        # Check if the value satisfies all constraints\n",
    "        if constraints_check(variable, variables_dict, test_domain_value):\n",
    "            # Assign the value to the variable\n",
    "            copy_variables_dict = copy.deepcopy(variables_dict)\n",
    "            copy_variables_dict[variable][\"value\"] = test_domain_value\n",
    "\n",
    "            # Recursively solve the CSP\n",
    "            result = backtracking_search_with_heuristics(copy_variables_dict)\n",
    "            if result is not None:\n",
    "                return result\n",
    "\n",
    "    # If no value leads to a solution, return None\n",
    "    return None"
   ]
  },
  {
   "cell_type": "code",
   "execution_count": null,
   "id": "a94d5c33",
   "metadata": {},
   "outputs": [],
   "source": [
    "timing_the_runs(stmt=\"backtracking_search_with_heuristics(variables_dict)\")"
   ]
  },
  {
   "cell_type": "code",
   "execution_count": null,
   "id": "dba32041",
   "metadata": {},
   "outputs": [],
   "source": [
    "%%time\n",
    "print_result(backtracking_search_with_heuristics(variables_dict))"
   ]
  },
  {
   "cell_type": "code",
   "execution_count": null,
   "id": "803e2f7e",
   "metadata": {},
   "outputs": [],
   "source": [
    "git_commit(comment= \"Sudoku Done within ten run timings\")"
   ]
  },
  {
   "cell_type": "code",
   "execution_count": null,
   "id": "e54418a0",
   "metadata": {},
   "outputs": [],
   "source": [
    "sys.exit()"
   ]
  }
 ],
 "metadata": {
  "kernelspec": {
   "display_name": "base",
   "language": "python",
   "name": "python3"
  },
  "language_info": {
   "codemirror_mode": {
    "name": "ipython",
    "version": 3
   },
   "file_extension": ".py",
   "mimetype": "text/x-python",
   "name": "python",
   "nbconvert_exporter": "python",
   "pygments_lexer": "ipython3",
   "version": "3.12.2"
  }
 },
 "nbformat": 4,
 "nbformat_minor": 5
}
