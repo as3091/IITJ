{
 "cells": [
  {
   "cell_type": "markdown",
   "id": "4f6186b3",
   "metadata": {},
   "source": [
    "### Q1.Design a Sudoku puzzle where the board consists of 81 squares, some of which are initially filled with digits from 1 to 9.  \n",
    "\n",
    "The puzzle is to fill in all the remaining squares such that no digit appears twice in any row, column, or 3 × 3 box.  \n",
    "A row, column, or box is called a unit.  \n",
    "\n",
    "1.\tRepresent the Sudoku problem in  CSP by identifying the variable, domain, and constraint.\n",
    "2.\tImplement the problem using backtracking search, what is avg. time taken by the algorithm for 10 runs.\n",
    "3.\tAnalyse how different fault finding algorithms such as Forward Checking, Arc consistency improve the computational time of backtracking search?\n",
    "4.\tAnalyse how different Heuristics MRV (Minimum Remaining Values), Degree heuristic, Least Constraining Value affect the  computational time of backtracking search?\n"
   ]
  },
  {
   "cell_type": "code",
   "execution_count": 12,
   "id": "98256648",
   "metadata": {},
   "outputs": [
    {
     "name": "stdout",
     "output_type": "stream",
     "text": [
      "[[8, 7, 2, 4, 6, 9, 3, 1, 5], [9, 6, 4, 5, 1, 3, 8, 7, 2], [3, 1, 5, 2, 7, 8, 9, 6, 4], [5, 3, 7, 6, 8, 2, 4, 9, 1], [2, 8, 6, 1, 9, 4, 5, 3, 7], [4, 9, 1, 7, 3, 5, 2, 8, 6], [6, 2, 9, 3, 4, 1, 7, 5, 8], [1, 4, 3, 8, 5, 7, 6, 2, 9], [7, 5, 8, 9, 2, 6, 1, 4, 3]]\n"
     ]
    },
    {
     "ename": "NameError",
     "evalue": "name 'np' is not defined",
     "output_type": "error",
     "traceback": [
      "\u001b[0;31m---------------------------------------------------------------------------\u001b[0m",
      "\u001b[0;31mNameError\u001b[0m                                 Traceback (most recent call last)",
      "Cell \u001b[0;32mIn[12], line 18\u001b[0m\n\u001b[1;32m     16\u001b[0m solution \u001b[38;5;241m=\u001b[39m [ [nums[pattern(r,c)] \u001b[38;5;28;01mfor\u001b[39;00m c \u001b[38;5;129;01min\u001b[39;00m cols] \u001b[38;5;28;01mfor\u001b[39;00m r \u001b[38;5;129;01min\u001b[39;00m rows ]\n\u001b[1;32m     17\u001b[0m \u001b[38;5;28mprint\u001b[39m(solution)\n\u001b[0;32m---> 18\u001b[0m board \u001b[38;5;241m=\u001b[39m \u001b[43mnp\u001b[49m\u001b[38;5;241m.\u001b[39marray(solution)\n\u001b[1;32m     20\u001b[0m \u001b[38;5;66;03m# original_array = np.array([[1, 2, 3], [4, 5, 6], [7, 8, 9]])\u001b[39;00m\n\u001b[1;32m     21\u001b[0m \n\u001b[1;32m     22\u001b[0m \u001b[38;5;66;03m# # Deep copy of the array\u001b[39;00m\n\u001b[1;32m     23\u001b[0m \u001b[38;5;66;03m# copied_array = original_array.copy()\u001b[39;00m\n\u001b[1;32m     25\u001b[0m squares \u001b[38;5;241m=\u001b[39m side\u001b[38;5;241m*\u001b[39mside\n",
      "\u001b[0;31mNameError\u001b[0m: name 'np' is not defined"
     ]
    }
   ],
   "source": [
    "base  = 3\n",
    "side  = base*base\n",
    "\n",
    "# pattern for a baseline valid solution\n",
    "def pattern(r,c): return (base*(r%base)+r//base+c)%side\n",
    "\n",
    "# randomize rows, columns and numbers (of valid base pattern)\n",
    "from random import sample\n",
    "def shuffle(s): return sample(s,len(s)) \n",
    "rBase = range(base) \n",
    "rows  = [ g*base + r for g in shuffle(rBase) for r in shuffle(rBase) ] \n",
    "cols  = [ g*base + c for g in shuffle(rBase) for c in shuffle(rBase) ]\n",
    "nums  = shuffle(range(1,base*base+1))\n",
    "\n",
    "# produce board using randomized baseline pattern\n",
    "solution = [ [nums[pattern(r,c)] for c in cols] for r in rows ]\n",
    "print(solution)\n",
    "board = np.array(solution)\n",
    "\n",
    "# original_array = np.array([[1, 2, 3], [4, 5, 6], [7, 8, 9]])\n",
    "\n",
    "# # Deep copy of the array\n",
    "# copied_array = original_array.copy()\n",
    "\n",
    "squares = side*side\n",
    "empties = squares * 3//4\n",
    "for p in sample(range(squares),empties):\n",
    "    board[p//side][p%side] = 0\n",
    "\n",
    "numSize = len(str(side))\n",
    "for line in board:\n",
    "    print(*(f\"{n or '.':{numSize}} \" for n in line))\n",
    "print(solution)"
   ]
  },
  {
   "cell_type": "code",
   "execution_count": 2,
   "id": "10b6ad79",
   "metadata": {},
   "outputs": [],
   "source": [
    "def shortSudokuSolve(board):\n",
    "    side   = len(board)\n",
    "    base   = int(side**0.5)\n",
    "    board  = [n for row in board for n in row ]\n",
    "    blanks = [i for i,n in enumerate(board) if n==0 ]\n",
    "    cover  = { (n,p):{*zip([2*side+r, side+c, r//base*base+c//base],[n]*(n and 3))}\n",
    "                for p in range(side*side) for r,c in [divmod(p,side)] for n in range(side+1) }\n",
    "    used   = set().union(*(cover[n,p] for p,n in enumerate(board) if n))\n",
    "    placed = 0\n",
    "    while placed>=0 and placed<len(blanks):\n",
    "        pos        = blanks[placed]\n",
    "        used      -= cover[board[pos],pos]\n",
    "        board[pos] = next((n for n in range(board[pos]+1,side+1) if not cover[n,pos]&used),0)\n",
    "        used      |= cover[board[pos],pos]\n",
    "        placed    += 1 if board[pos] else -1\n",
    "        if placed == len(blanks):\n",
    "            solution = [board[r:r+side] for r in range(0,side*side,side)]\n",
    "            yield solution\n",
    "            placed -= 1"
   ]
  },
  {
   "cell_type": "code",
   "execution_count": 5,
   "id": "e83fc51e",
   "metadata": {},
   "outputs": [],
   "source": [
    "from IPython.display import display, HTML\n",
    "\n",
    "def sudoku_to_html(board):\n",
    "    \"\"\"\n",
    "    Generates an HTML table representation of a Sudoku board with thick edges for subgrids.\n",
    "\n",
    "    Args:\n",
    "        board (list of list of int): 2D list representing the Sudoku board.\n",
    "                                     Empty cells should be represented by 0 or '.'.\n",
    "\n",
    "    Returns:\n",
    "        str: HTML string for the Sudoku board.\n",
    "    \"\"\"\n",
    "    html = \"\"\"\n",
    "    <style>\n",
    "        table { border-collapse: collapse; font-family: Arial, sans-serif; }\n",
    "        td { border: 1px solid black; height: 40px; width: 40px; text-align: center; font-size: 18px; }\n",
    "        .thick-border-top { border-top: 3px solid black; }\n",
    "        .thick-border-left { border-left: 3px solid black; }\n",
    "    </style>\n",
    "    <table>\n",
    "    \"\"\"\n",
    "\n",
    "    for i, row in enumerate(board):\n",
    "        html += \"<tr>\"\n",
    "        for j, cell in enumerate(row):\n",
    "            # Apply thicker borders for subgrid boundaries\n",
    "            classes = []\n",
    "            if i % 3 == 0 and i != 0:\n",
    "                classes.append(\"thick-border-top\")\n",
    "            if j % 3 == 0 and j != 0:\n",
    "                classes.append(\"thick-border-left\")\n",
    "            \n",
    "            class_attr = f'class=\"{\" \".join(classes)}\"' if classes else \"\"\n",
    "            html += f\"<td {class_attr}>{cell if cell != 0 else ''}</td>\"\n",
    "        html += \"</tr>\"\n",
    "\n",
    "    html += \"</table>\"\n",
    "    return html"
   ]
  },
  {
   "cell_type": "code",
   "execution_count": 7,
   "id": "051018c2",
   "metadata": {},
   "outputs": [
    {
     "data": {
      "text/html": [
       "\n",
       "    <style>\n",
       "        table { border-collapse: collapse; font-family: Arial, sans-serif; }\n",
       "        td { border: 1px solid black; height: 40px; width: 40px; text-align: center; font-size: 18px; }\n",
       "        .thick-border-top { border-top: 3px solid black; }\n",
       "        .thick-border-left { border-left: 3px solid black; }\n",
       "    </style>\n",
       "    <table>\n",
       "    <tr><td ></td><td >5</td><td >8</td><td class=\"thick-border-left\"></td><td ></td><td >2</td><td class=\"thick-border-left\">7</td><td >6</td><td ></td></tr><tr><td >9</td><td ></td><td >4</td><td class=\"thick-border-left\"></td><td ></td><td ></td><td class=\"thick-border-left\"></td><td ></td><td ></td></tr><tr><td ></td><td >6</td><td ></td><td class=\"thick-border-left\">3</td><td ></td><td >5</td><td class=\"thick-border-left\"></td><td ></td><td ></td></tr><tr><td class=\"thick-border-top\"></td><td class=\"thick-border-top\"></td><td class=\"thick-border-top\"></td><td class=\"thick-border-top thick-border-left\"></td><td class=\"thick-border-top\">2</td><td class=\"thick-border-top\"></td><td class=\"thick-border-top thick-border-left\"></td><td class=\"thick-border-top\"></td><td class=\"thick-border-top\">4</td></tr><tr><td ></td><td ></td><td ></td><td class=\"thick-border-left\"></td><td ></td><td ></td><td class=\"thick-border-left\"></td><td ></td><td ></td></tr><tr><td ></td><td ></td><td ></td><td class=\"thick-border-left\"></td><td ></td><td >3</td><td class=\"thick-border-left\">2</td><td ></td><td ></td></tr><tr><td class=\"thick-border-top\"></td><td class=\"thick-border-top\"></td><td class=\"thick-border-top\">3</td><td class=\"thick-border-top thick-border-left\"></td><td class=\"thick-border-top\">9</td><td class=\"thick-border-top\"></td><td class=\"thick-border-top thick-border-left\"></td><td class=\"thick-border-top\">4</td><td class=\"thick-border-top\"></td></tr><tr><td ></td><td ></td><td >9</td><td class=\"thick-border-left\"></td><td >1</td><td >4</td><td class=\"thick-border-left\"></td><td ></td><td ></td></tr><tr><td ></td><td ></td><td ></td><td class=\"thick-border-left\"></td><td ></td><td ></td><td class=\"thick-border-left\">9</td><td ></td><td ></td></tr></table>"
      ],
      "text/plain": [
       "<IPython.core.display.HTML object>"
      ]
     },
     "metadata": {},
     "output_type": "display_data"
    },
    {
     "data": {
      "text/html": [
       "\n",
       "    <style>\n",
       "        table { border-collapse: collapse; font-family: Arial, sans-serif; }\n",
       "        td { border: 1px solid black; height: 40px; width: 40px; text-align: center; font-size: 18px; }\n",
       "        .thick-border-top { border-top: 3px solid black; }\n",
       "        .thick-border-left { border-left: 3px solid black; }\n",
       "    </style>\n",
       "    <table>\n",
       "    <tr><td ></td><td >5</td><td >8</td><td class=\"thick-border-left\"></td><td ></td><td >2</td><td class=\"thick-border-left\">7</td><td >6</td><td ></td></tr><tr><td >9</td><td ></td><td >4</td><td class=\"thick-border-left\"></td><td ></td><td ></td><td class=\"thick-border-left\"></td><td ></td><td ></td></tr><tr><td ></td><td >6</td><td ></td><td class=\"thick-border-left\">3</td><td ></td><td >5</td><td class=\"thick-border-left\"></td><td ></td><td ></td></tr><tr><td class=\"thick-border-top\"></td><td class=\"thick-border-top\"></td><td class=\"thick-border-top\"></td><td class=\"thick-border-top thick-border-left\"></td><td class=\"thick-border-top\">2</td><td class=\"thick-border-top\"></td><td class=\"thick-border-top thick-border-left\"></td><td class=\"thick-border-top\"></td><td class=\"thick-border-top\">4</td></tr><tr><td ></td><td ></td><td ></td><td class=\"thick-border-left\"></td><td ></td><td ></td><td class=\"thick-border-left\"></td><td ></td><td ></td></tr><tr><td ></td><td ></td><td ></td><td class=\"thick-border-left\"></td><td ></td><td >3</td><td class=\"thick-border-left\">2</td><td ></td><td ></td></tr><tr><td class=\"thick-border-top\"></td><td class=\"thick-border-top\"></td><td class=\"thick-border-top\">3</td><td class=\"thick-border-top thick-border-left\"></td><td class=\"thick-border-top\">9</td><td class=\"thick-border-top\"></td><td class=\"thick-border-top thick-border-left\"></td><td class=\"thick-border-top\">4</td><td class=\"thick-border-top\"></td></tr><tr><td ></td><td ></td><td >9</td><td class=\"thick-border-left\"></td><td >1</td><td >4</td><td class=\"thick-border-left\"></td><td ></td><td ></td></tr><tr><td ></td><td ></td><td ></td><td class=\"thick-border-left\"></td><td ></td><td ></td><td class=\"thick-border-left\">9</td><td ></td><td ></td></tr></table>"
      ],
      "text/plain": [
       "<IPython.core.display.HTML object>"
      ]
     },
     "metadata": {},
     "output_type": "display_data"
    }
   ],
   "source": [
    "# Generate and display the Sudoku board as HTML\n",
    "html_output = sudoku_to_html(board)\n",
    "display(HTML(html_output))\n",
    "\n",
    "html_output = sudoku_to_html(solution)\n",
    "display(HTML(html_output))\n"
   ]
  },
  {
   "cell_type": "code",
   "execution_count": null,
   "id": "5f4bf336",
   "metadata": {},
   "outputs": [],
   "source": [
    "display(HTML(html_output))"
   ]
  },
  {
   "cell_type": "code",
   "execution_count": 3,
   "id": "22f6bf7f",
   "metadata": {},
   "outputs": [
    {
     "ename": "KeyboardInterrupt",
     "evalue": "",
     "output_type": "error",
     "traceback": [
      "\u001b[0;31m---------------------------------------------------------------------------\u001b[0m",
      "\u001b[0;31mKeyboardInterrupt\u001b[0m                         Traceback (most recent call last)",
      "Cell \u001b[0;32mIn[3], line 4\u001b[0m\n\u001b[1;32m      2\u001b[0m \u001b[38;5;28;01mfrom\u001b[39;00m\u001b[38;5;250m \u001b[39m\u001b[38;5;21;01mitertools\u001b[39;00m\u001b[38;5;250m \u001b[39m\u001b[38;5;28;01mimport\u001b[39;00m islice\n\u001b[1;32m      3\u001b[0m \u001b[38;5;28;01mwhile\u001b[39;00m \u001b[38;5;28;01mTrue\u001b[39;00m:\n\u001b[0;32m----> 4\u001b[0m     solved  \u001b[38;5;241m=\u001b[39m [\u001b[38;5;241m*\u001b[39mislice(shortSudokuSolve(board),\u001b[38;5;241m2\u001b[39m)]\n\u001b[1;32m      5\u001b[0m     \u001b[38;5;28;01mif\u001b[39;00m \u001b[38;5;28mlen\u001b[39m(solved)\u001b[38;5;241m==\u001b[39m\u001b[38;5;241m1\u001b[39m:\u001b[38;5;28;01mbreak\u001b[39;00m\n\u001b[1;32m      6\u001b[0m     diffPos \u001b[38;5;241m=\u001b[39m [(r,c) \u001b[38;5;28;01mfor\u001b[39;00m r \u001b[38;5;129;01min\u001b[39;00m \u001b[38;5;28mrange\u001b[39m(\u001b[38;5;241m9\u001b[39m) \u001b[38;5;28;01mfor\u001b[39;00m c \u001b[38;5;129;01min\u001b[39;00m \u001b[38;5;28mrange\u001b[39m(\u001b[38;5;241m9\u001b[39m)\n\u001b[1;32m      7\u001b[0m                \u001b[38;5;28;01mif\u001b[39;00m solved[\u001b[38;5;241m0\u001b[39m][r][c] \u001b[38;5;241m!=\u001b[39m solved[\u001b[38;5;241m1\u001b[39m][r][c] ] \n",
      "Cell \u001b[0;32mIn[2], line 13\u001b[0m, in \u001b[0;36mshortSudokuSolve\u001b[0;34m(board)\u001b[0m\n\u001b[1;32m     11\u001b[0m pos        \u001b[38;5;241m=\u001b[39m blanks[placed]\n\u001b[1;32m     12\u001b[0m used      \u001b[38;5;241m-\u001b[39m\u001b[38;5;241m=\u001b[39m cover[board[pos],pos]\n\u001b[0;32m---> 13\u001b[0m board[pos] \u001b[38;5;241m=\u001b[39m \u001b[38;5;28;43mnext\u001b[39;49m\u001b[43m(\u001b[49m\u001b[43m(\u001b[49m\u001b[43mn\u001b[49m\u001b[43m \u001b[49m\u001b[38;5;28;43;01mfor\u001b[39;49;00m\u001b[43m \u001b[49m\u001b[43mn\u001b[49m\u001b[43m \u001b[49m\u001b[38;5;129;43;01min\u001b[39;49;00m\u001b[43m \u001b[49m\u001b[38;5;28;43mrange\u001b[39;49m\u001b[43m(\u001b[49m\u001b[43mboard\u001b[49m\u001b[43m[\u001b[49m\u001b[43mpos\u001b[49m\u001b[43m]\u001b[49m\u001b[38;5;241;43m+\u001b[39;49m\u001b[38;5;241;43m1\u001b[39;49m\u001b[43m,\u001b[49m\u001b[43mside\u001b[49m\u001b[38;5;241;43m+\u001b[39;49m\u001b[38;5;241;43m1\u001b[39;49m\u001b[43m)\u001b[49m\u001b[43m \u001b[49m\u001b[38;5;28;43;01mif\u001b[39;49;00m\u001b[43m \u001b[49m\u001b[38;5;129;43;01mnot\u001b[39;49;00m\u001b[43m \u001b[49m\u001b[43mcover\u001b[49m\u001b[43m[\u001b[49m\u001b[43mn\u001b[49m\u001b[43m,\u001b[49m\u001b[43mpos\u001b[49m\u001b[43m]\u001b[49m\u001b[38;5;241;43m&\u001b[39;49m\u001b[43mused\u001b[49m\u001b[43m)\u001b[49m\u001b[43m,\u001b[49m\u001b[38;5;241;43m0\u001b[39;49m\u001b[43m)\u001b[49m\n\u001b[1;32m     14\u001b[0m used      \u001b[38;5;241m|\u001b[39m\u001b[38;5;241m=\u001b[39m cover[board[pos],pos]\n\u001b[1;32m     15\u001b[0m placed    \u001b[38;5;241m+\u001b[39m\u001b[38;5;241m=\u001b[39m \u001b[38;5;241m1\u001b[39m \u001b[38;5;28;01mif\u001b[39;00m board[pos] \u001b[38;5;28;01melse\u001b[39;00m \u001b[38;5;241m-\u001b[39m\u001b[38;5;241m1\u001b[39m\n",
      "\u001b[0;31mKeyboardInterrupt\u001b[0m: "
     ]
    }
   ],
   "source": [
    "import random\n",
    "from itertools import islice\n",
    "while True:\n",
    "    solved  = [*islice(shortSudokuSolve(board),2)]\n",
    "    if len(solved)==1:break\n",
    "    diffPos = [(r,c) for r in range(9) for c in range(9)\n",
    "               if solved[0][r][c] != solved[1][r][c] ] \n",
    "    r,c = random.choice(diffPos)\n",
    "    board[r][c] = solution[r][c]"
   ]
  }
 ],
 "metadata": {
  "kernelspec": {
   "display_name": "base",
   "language": "python",
   "name": "python3"
  },
  "language_info": {
   "codemirror_mode": {
    "name": "ipython",
    "version": 3
   },
   "file_extension": ".py",
   "mimetype": "text/x-python",
   "name": "python",
   "nbconvert_exporter": "python",
   "pygments_lexer": "ipython3",
   "version": "3.12.2"
  }
 },
 "nbformat": 4,
 "nbformat_minor": 5
}
